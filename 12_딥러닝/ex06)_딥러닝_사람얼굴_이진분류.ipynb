{
  "nbformat": 4,
  "nbformat_minor": 0,
  "metadata": {
    "colab": {
      "provenance": [],
      "gpuType": "T4",
      "mount_file_id": "1jdTG4ZrG1kPUKCVtD9jG58U-BOTk7l61",
      "authorship_tag": "ABX9TyPxPdFZKxMtXDLXueRVtHoi",
      "include_colab_link": true
    },
    "kernelspec": {
      "name": "python3",
      "display_name": "Python 3"
    },
    "language_info": {
      "name": "python"
    },
    "accelerator": "GPU"
  },
  "cells": [
    {
      "cell_type": "markdown",
      "metadata": {
        "id": "view-in-github",
        "colab_type": "text"
      },
      "source": [
        "<a href=\"https://colab.research.google.com/github/minnjeee/SWcamp/blob/main/12_%EB%94%A5%EB%9F%AC%EB%8B%9D/ex06)_%EB%94%A5%EB%9F%AC%EB%8B%9D_%EC%82%AC%EB%9E%8C%EC%96%BC%EA%B5%B4_%EC%9D%B4%EC%A7%84%EB%B6%84%EB%A5%98.ipynb\" target=\"_parent\"><img src=\"https://colab.research.google.com/assets/colab-badge.svg\" alt=\"Open In Colab\"/></a>"
      ]
    },
    {
      "cell_type": "markdown",
      "source": [
        "# 목표\n",
        "- 호준, 지현 얼굴을 분류하는 이진 분류 신경망 모델을 만들어보자!"
      ],
      "metadata": {
        "id": "ibDSTl-cJiKS"
      }
    },
    {
      "cell_type": "code",
      "source": [
        "import numpy as np\n",
        "import pandas as pd\n",
        "import matplotlib.pyplot as plt\n",
        "\n",
        "# PIL : Python Imaging Library (이미지 처리 라이브러리)\n",
        "from PIL import Image"
      ],
      "metadata": {
        "id": "TiJ12GDnJq8q"
      },
      "execution_count": null,
      "outputs": []
    },
    {
      "cell_type": "code",
      "source": [
        "%cd /content/drive/MyDrive/Colab Notebooks/SW캠프 데이터 비즈니스 과정"
      ],
      "metadata": {
        "colab": {
          "base_uri": "https://localhost:8080/"
        },
        "id": "R0rwW_RNZtbf",
        "outputId": "4291aa0b-f9cf-4b0a-a844-f204cb45cfb1"
      },
      "execution_count": null,
      "outputs": [
        {
          "output_type": "stream",
          "name": "stdout",
          "text": [
            "/content/drive/MyDrive/Colab Notebooks/SW캠프 데이터 비즈니스 과정\n"
          ]
        }
      ]
    },
    {
      "cell_type": "code",
      "source": [
        "# 이미지를 불러와서 흑백으로 변\n",
        "img = Image.open('data/Class 1-samples/0.jpg').convert('L')\n",
        "# .convert('L') : 흑백으로 변환 (L, Luminous)\n",
        "# convert('RGB') : 컬러\n",
        "img"
      ],
      "metadata": {
        "colab": {
          "base_uri": "https://localhost:8080/",
          "height": 241
        },
        "id": "WakOvkUpZtXq",
        "outputId": "9e254b3c-5d90-4e00-a26c-530850d9eea4"
      },
      "execution_count": null,
      "outputs": [
        {
          "output_type": "execute_result",
          "data": {
            "text/plain": [
              "<PIL.Image.Image image mode=L size=224x224>"
            ],
            "image/png": "[encoded data removed]"
          },
          "metadata": {},
          "execution_count": 9
        }
      ]
    },
    {
      "cell_type": "code",
      "source": [
        "# 불러온 이미지 데이터를 numpy배열로 변환\n",
        "# 기계가 인식할 수 있도록 이미지를 수치 데이터로 변환시키는 과정\n",
        "# 가로(행), 세로(열) 픽셀수로 변경됨\n",
        "# 학습용 데이터들은 사전에 다 수치데이터로 변환되어져 있던 상태\n",
        "\n",
        "img_array = np.array(img)"
      ],
      "metadata": {
        "id": "X2ddWYbDZtWa"
      },
      "execution_count": null,
      "outputs": []
    },
    {
      "cell_type": "code",
      "source": [
        "img_array.shape"
      ],
      "metadata": {
        "colab": {
          "base_uri": "https://localhost:8080/"
        },
        "id": "YNXgANYMZtVI",
        "outputId": "3dfaeee3-c7f5-4456-cedc-75b5c55cf7cc"
      },
      "execution_count": null,
      "outputs": [
        {
          "output_type": "execute_result",
          "data": {
            "text/plain": [
              "(224, 224)"
            ]
          },
          "metadata": {},
          "execution_count": 6
        }
      ]
    },
    {
      "cell_type": "code",
      "source": [
        "img_array"
      ],
      "metadata": {
        "colab": {
          "base_uri": "https://localhost:8080/"
        },
        "id": "H37V9R0zZtT4",
        "outputId": "2192b2b0-847f-4a22-8cb1-e0bc06fc00e2"
      },
      "execution_count": null,
      "outputs": [
        {
          "output_type": "execute_result",
          "data": {
            "text/plain": [
              "array([[159, 159, 160, ..., 139, 139, 138],\n",
              "       [159, 160, 160, ..., 141, 139, 138],\n",
              "       [159, 160, 160, ..., 142, 140, 139],\n",
              "       ...,\n",
              "       [138, 137, 137, ..., 119, 118, 118],\n",
              "       [137, 136, 136, ..., 118, 118, 118],\n",
              "       [136, 135, 135, ..., 118, 118, 119]], dtype=uint8)"
            ]
          },
          "metadata": {},
          "execution_count": 7
        }
      ]
    },
    {
      "cell_type": "markdown",
      "source": [
        "### 호준, 지현 각각 200장씩의 데이터를 전부 수치데이터로 변환시켜보자!"
      ],
      "metadata": {
        "id": "NDQUrIpOck72"
      }
    },
    {
      "cell_type": "code",
      "source": [
        "# 반복문 실행 시, 어느정도 실행되고 있는지 %로 알려주는 함\n",
        "from tqdm import tqdm"
      ],
      "metadata": {
        "id": "9Wy6lQ80eyS7"
      },
      "execution_count": null,
      "outputs": []
    },
    {
      "cell_type": "code",
      "source": [
        "# 데이터셋 구성하기\n",
        "class1_list = [] # 200장의 호준 데이터가 저장될 자리\n",
        "class2_list = [] # 200장의 지현 데이터가 저장될 자리\n",
        "\n",
        "for i in tqdm(range(0, 200, 1)) :\n",
        "  # 1. 호준 데이터 작업\n",
        "  # 경로와 파일명에 맞게 이미지를 가져와서 흑백으로 변환 후 img1 변수에 담아주기\n",
        "  img1 = Image.open('data/Class 1-samples/'+ str(i) +'.jpg').convert('L')\n",
        "  # 이미지 데이터가 저장된 img1을 numpy배열로 변환\n",
        "  img_array1 = np.array(img1)\n",
        "  # 변환된 배열 데이터를 빈 리스트에 하나씩 추가해주기\n",
        "  class1_list.append(img_array1)\n",
        "\n",
        "  # 2. 지현 데이터 작업\n",
        "  img2 = Image.open('data/Class 2-samples/'+ str(i) +'.jpg').convert('L')\n",
        "  img_array2 = np.array(img2)\n",
        "  class2_list.append(img_array2)"
      ],
      "metadata": {
        "colab": {
          "base_uri": "https://localhost:8080/"
        },
        "id": "DqXXCOqEZtS2",
        "outputId": "2cb30c53-f07c-4aaa-d6ee-d034875f25ed"
      },
      "execution_count": null,
      "outputs": [
        {
          "output_type": "stream",
          "name": "stderr",
          "text": [
            "100%|██████████| 200/200 [03:53<00:00,  1.17s/it]\n"
          ]
        }
      ]
    },
    {
      "cell_type": "code",
      "source": [
        "# 리스트를 기계학습에 바로 사용할 수 없기 때문에 numpy 배열로 변환시켜주기\n",
        "# 이미지 하나하나도 배열로, 이를 담고있는 리스트 자체도 배열로 변환시키기!\n",
        "class1_array = np.array(class1_list)\n",
        "class2_array = np.array(class2_list)"
      ],
      "metadata": {
        "id": "kaekQRodZtRt"
      },
      "execution_count": null,
      "outputs": []
    },
    {
      "cell_type": "code",
      "source": [
        "class1_array.shape, class2_array.shape"
      ],
      "metadata": {
        "colab": {
          "base_uri": "https://localhost:8080/"
        },
        "id": "MtP_SUh8ZtQO",
        "outputId": "adba2838-dc3f-4079-d2e3-76d048246f1c"
      },
      "execution_count": null,
      "outputs": [
        {
          "output_type": "execute_result",
          "data": {
            "text/plain": [
              "((200, 224, 224), (200, 224, 224))"
            ]
          },
          "metadata": {},
          "execution_count": 17
        }
      ]
    },
    {
      "cell_type": "code",
      "source": [
        "# 두 개의 배열 합치기 (문제 데이터 생성)\n",
        "data = np.concatenate([class1_array, class2_array])"
      ],
      "metadata": {
        "id": "CTnEQgqSZtPM"
      },
      "execution_count": null,
      "outputs": []
    },
    {
      "cell_type": "code",
      "source": [
        "data.shape # 호준 데이터 200개 + 지현 데이터 200개 순서대로 담겨져 있음"
      ],
      "metadata": {
        "colab": {
          "base_uri": "https://localhost:8080/"
        },
        "id": "u2c1e_irhXsF",
        "outputId": "911191c1-ba63-4acd-e391-acf32aae7294"
      },
      "execution_count": null,
      "outputs": [
        {
          "output_type": "execute_result",
          "data": {
            "text/plain": [
              "(400, 224, 224)"
            ]
          },
          "metadata": {},
          "execution_count": 20
        }
      ]
    },
    {
      "cell_type": "code",
      "source": [
        "# 정답 데이터 만들기 (문제와 정답의 순서를 일치시켜줘야함)\n",
        "# 0 : 호준 데이터 정답 , 1 : 지현 데이터 정답\n",
        "target = np.array([0]*200 + [1]*200)\n",
        "target.shape"
      ],
      "metadata": {
        "colab": {
          "base_uri": "https://localhost:8080/"
        },
        "id": "TLXJoEbshXjD",
        "outputId": "ce415e1e-781d-4ccd-b5f7-fb78ec457eff"
      },
      "execution_count": null,
      "outputs": [
        {
          "output_type": "execute_result",
          "data": {
            "text/plain": [
              "(400,)"
            ]
          },
          "metadata": {},
          "execution_count": 22
        }
      ]
    },
    {
      "cell_type": "code",
      "source": [
        "# 학습, 평가 데이터로 분리\n",
        "from sklearn.model_selection import train_test_split"
      ],
      "metadata": {
        "id": "X7dBBqzqhXR1"
      },
      "execution_count": null,
      "outputs": []
    },
    {
      "cell_type": "code",
      "source": [
        "X_train, X_test, y_train, y_test = train_test_split(data, target, test_size=0.2, random_state=11)"
      ],
      "metadata": {
        "id": "EAxpWiemhMEX"
      },
      "execution_count": null,
      "outputs": []
    },
    {
      "cell_type": "code",
      "source": [
        "X_train.shape, X_test.shape, y_train.shape, y_test.shape"
      ],
      "metadata": {
        "colab": {
          "base_uri": "https://localhost:8080/"
        },
        "id": "UYYI_kErizEX",
        "outputId": "f2b9639b-2dcf-44d8-eb4b-4608e72fc4b0"
      },
      "execution_count": null,
      "outputs": [
        {
          "output_type": "execute_result",
          "data": {
            "text/plain": [
              "((320, 224, 224), (80, 224, 224), (320,), (80,))"
            ]
          },
          "metadata": {},
          "execution_count": 27
        }
      ]
    },
    {
      "cell_type": "markdown",
      "source": [
        "## 신경망 모델링 ~!"
      ],
      "metadata": {
        "id": "1ne1zBaMmVCK"
      }
    },
    {
      "cell_type": "code",
      "source": [
        "from tensorflow.keras import Sequential\n",
        "from tensorflow.keras.layers import Dense, Flatten"
      ],
      "metadata": {
        "id": "q1kbqMh6jGYi"
      },
      "execution_count": null,
      "outputs": []
    },
    {
      "cell_type": "code",
      "source": [
        "model = Sequential()\n",
        "\n",
        "model.add(Flatten(input_shape=(224,224)))\n",
        "model.add(Dense(1000, activation='relu')) # relu함수 : 최근 사용하는 일반화함수\n",
        "model.add(Dense(800, activation='relu'))\n",
        "model.add(Dense(600, activation='relu'))\n",
        "model.add(Dense(400, activation='relu'))\n",
        "model.add(Dense(300, activation='relu'))\n",
        "model.add(Dense(100, activation='relu'))\n",
        "model.add(Dense(1, activation='sigmoid'))\n",
        "\n",
        "model.summary()"
      ],
      "metadata": {
        "colab": {
          "base_uri": "https://localhost:8080/"
        },
        "id": "HhAtY0InmfAp",
        "outputId": "91dc7510-50d6-4c70-fc83-10fe1289c248"
      },
      "execution_count": null,
      "outputs": [
        {
          "output_type": "stream",
          "name": "stdout",
          "text": [
            "Model: \"sequential_10\"\n",
            "_________________________________________________________________\n",
            " Layer (type)                Output Shape              Param #   \n",
            "=================================================================\n",
            " flatten_9 (Flatten)         (None, 50176)             0         \n",
            "                                                                 \n",
            " dense_80 (Dense)            (None, 1000)              50177000  \n",
            "                                                                 \n",
            " dense_81 (Dense)            (None, 800)               800800    \n",
            "                                                                 \n",
            " dense_82 (Dense)            (None, 600)               480600    \n",
            "                                                                 \n",
            " dense_83 (Dense)            (None, 400)               240400    \n",
            "                                                                 \n",
            " dense_84 (Dense)            (None, 300)               120300    \n",
            "                                                                 \n",
            " dense_85 (Dense)            (None, 100)               30100     \n",
            "                                                                 \n",
            " dense_86 (Dense)            (None, 1)                 101       \n",
            "                                                                 \n",
            "=================================================================\n",
            "Total params: 51,849,301\n",
            "Trainable params: 51,849,301\n",
            "Non-trainable params: 0\n",
            "_________________________________________________________________\n"
          ]
        }
      ]
    },
    {
      "cell_type": "code",
      "source": [
        "model.compile(loss='binary_crossentropy', optimizer='Adam', metrics=['acc'])"
      ],
      "metadata": {
        "id": "-0vyW8iAnDEg"
      },
      "execution_count": null,
      "outputs": []
    },
    {
      "cell_type": "code",
      "source": [
        "h = model.fit(X_train, y_train, epochs=300, batch_size=128,\n",
        "              validation_split=0.2)\n",
        "# validation_split : 신경망 학습 시 자동으로 train데이터에서 val데이터를 분리시켜주는 명령"
      ],
      "metadata": {
        "colab": {
          "base_uri": "https://localhost:8080/"
        },
        "id": "7zmYuvVQnpKx",
        "outputId": "baaa2225-1876-44ec-813a-3dcdf533c5b3"
      },
      "execution_count": null,
      "outputs": [
        {
          "output_type": "stream",
          "name": "stdout",
          "text": [
            "Epoch 1/300\n",
            "2/2 [==============================] - 4s 332ms/step - loss: 5152.1602 - acc: 0.4883 - val_loss: 1238.6666 - val_acc: 0.4531\n",
            "Epoch 2/300\n",
            "2/2 [==============================] - 0s 71ms/step - loss: 3562.6216 - acc: 0.4805 - val_loss: 981.8553 - val_acc: 0.5469\n",
            "Epoch 3/300\n",
            "2/2 [==============================] - 0s 56ms/step - loss: 3029.6528 - acc: 0.4961 - val_loss: 3156.5884 - val_acc: 0.4531\n",
            "Epoch 4/300\n",
            "2/2 [==============================] - 0s 56ms/step - loss: 1976.6117 - acc: 0.5352 - val_loss: 358.9959 - val_acc: 0.5469\n",
            "Epoch 5/300\n",
            "2/2 [==============================] - 0s 71ms/step - loss: 2274.0640 - acc: 0.4492 - val_loss: 3363.4966 - val_acc: 0.4531\n",
            "Epoch 6/300\n",
            "2/2 [==============================] - 0s 56ms/step - loss: 1974.7078 - acc: 0.5039 - val_loss: 1626.6008 - val_acc: 0.5469\n",
            "Epoch 7/300\n",
            "2/2 [==============================] - 0s 61ms/step - loss: 1927.6688 - acc: 0.4961 - val_loss: 846.5067 - val_acc: 0.5469\n",
            "Epoch 8/300\n",
            "2/2 [==============================] - 0s 56ms/step - loss: 1019.1237 - acc: 0.4805 - val_loss: 1421.9523 - val_acc: 0.4531\n",
            "Epoch 9/300\n",
            "2/2 [==============================] - 0s 55ms/step - loss: 894.4854 - acc: 0.5039 - val_loss: 929.2408 - val_acc: 0.5469\n",
            "Epoch 10/300\n",
            "2/2 [==============================] - 0s 57ms/step - loss: 1051.5464 - acc: 0.4961 - val_loss: 423.1817 - val_acc: 0.5469\n",
            "Epoch 11/300\n",
            "2/2 [==============================] - 0s 69ms/step - loss: 461.5906 - acc: 0.5039 - val_loss: 631.9747 - val_acc: 0.4531\n",
            "Epoch 12/300\n",
            "2/2 [==============================] - 0s 53ms/step - loss: 406.4893 - acc: 0.5039 - val_loss: 343.7853 - val_acc: 0.5469\n",
            "Epoch 13/300\n",
            "2/2 [==============================] - 0s 55ms/step - loss: 454.4729 - acc: 0.4961 - val_loss: 276.5343 - val_acc: 0.5469\n",
            "Epoch 14/300\n",
            "2/2 [==============================] - 0s 53ms/step - loss: 218.0069 - acc: 0.5273 - val_loss: 247.3912 - val_acc: 0.4531\n",
            "Epoch 15/300\n",
            "2/2 [==============================] - 0s 52ms/step - loss: 136.7615 - acc: 0.5039 - val_loss: 257.0997 - val_acc: 0.5469\n",
            "Epoch 16/300\n",
            "2/2 [==============================] - 0s 52ms/step - loss: 303.4324 - acc: 0.4961 - val_loss: 165.3844 - val_acc: 0.5469\n",
            "Epoch 17/300\n",
            "2/2 [==============================] - 0s 52ms/step - loss: 120.3950 - acc: 0.4805 - val_loss: 55.4070 - val_acc: 0.4531\n",
            "Epoch 18/300\n",
            "2/2 [==============================] - 0s 52ms/step - loss: 56.2510 - acc: 0.5117 - val_loss: 44.1704 - val_acc: 0.5469\n",
            "Epoch 19/300\n",
            "2/2 [==============================] - 0s 64ms/step - loss: 50.2057 - acc: 0.5430 - val_loss: 46.6852 - val_acc: 0.4531\n",
            "Epoch 20/300\n",
            "2/2 [==============================] - 0s 52ms/step - loss: 51.0536 - acc: 0.5195 - val_loss: 53.5136 - val_acc: 0.5469\n",
            "Epoch 21/300\n",
            "2/2 [==============================] - 0s 51ms/step - loss: 40.4432 - acc: 0.5117 - val_loss: 9.6389 - val_acc: 0.4531\n",
            "Epoch 22/300\n",
            "2/2 [==============================] - 0s 66ms/step - loss: 55.2066 - acc: 0.5117 - val_loss: 68.5190 - val_acc: 0.5469\n",
            "Epoch 23/300\n",
            "2/2 [==============================] - 0s 65ms/step - loss: 46.6473 - acc: 0.5195 - val_loss: 19.5558 - val_acc: 0.4531\n",
            "Epoch 24/300\n",
            "2/2 [==============================] - 0s 48ms/step - loss: 43.5937 - acc: 0.4727 - val_loss: 48.6732 - val_acc: 0.5469\n",
            "Epoch 25/300\n",
            "2/2 [==============================] - 0s 50ms/step - loss: 32.4014 - acc: 0.5508 - val_loss: 2.1202 - val_acc: 0.6875\n",
            "Epoch 26/300\n",
            "2/2 [==============================] - 0s 62ms/step - loss: 18.8362 - acc: 0.6094 - val_loss: 2.6371 - val_acc: 0.6406\n",
            "Epoch 27/300\n",
            "2/2 [==============================] - 0s 65ms/step - loss: 38.8634 - acc: 0.5039 - val_loss: 62.0643 - val_acc: 0.4531\n",
            "Epoch 28/300\n",
            "2/2 [==============================] - 0s 50ms/step - loss: 39.3436 - acc: 0.4492 - val_loss: 9.3398 - val_acc: 0.5469\n",
            "Epoch 29/300\n",
            "2/2 [==============================] - 0s 52ms/step - loss: 33.0535 - acc: 0.4492 - val_loss: 40.4683 - val_acc: 0.4531\n",
            "Epoch 30/300\n",
            "2/2 [==============================] - 0s 49ms/step - loss: 25.6969 - acc: 0.4727 - val_loss: 4.8310 - val_acc: 0.5938\n",
            "Epoch 31/300\n",
            "2/2 [==============================] - 0s 52ms/step - loss: 13.8189 - acc: 0.5312 - val_loss: 14.8601 - val_acc: 0.4688\n",
            "Epoch 32/300\n",
            "2/2 [==============================] - 0s 59ms/step - loss: 15.6112 - acc: 0.5039 - val_loss: 11.1763 - val_acc: 0.5469\n",
            "Epoch 33/300\n",
            "2/2 [==============================] - 0s 51ms/step - loss: 10.6455 - acc: 0.5859 - val_loss: 20.5999 - val_acc: 0.4531\n",
            "Epoch 34/300\n",
            "2/2 [==============================] - 0s 52ms/step - loss: 9.0705 - acc: 0.7617 - val_loss: 20.3207 - val_acc: 0.5469\n",
            "Epoch 35/300\n",
            "2/2 [==============================] - 0s 50ms/step - loss: 12.7770 - acc: 0.6641 - val_loss: 2.2707 - val_acc: 0.8438\n",
            "Epoch 36/300\n",
            "2/2 [==============================] - 0s 50ms/step - loss: 4.5995 - acc: 0.7656 - val_loss: 0.0188 - val_acc: 1.0000\n",
            "Epoch 37/300\n",
            "2/2 [==============================] - 0s 51ms/step - loss: 0.0196 - acc: 0.9883 - val_loss: 2.5474 - val_acc: 0.6875\n",
            "Epoch 38/300\n",
            "2/2 [==============================] - 0s 56ms/step - loss: 1.5532 - acc: 0.8359 - val_loss: 3.7144 - val_acc: 0.8125\n",
            "Epoch 39/300\n",
            "2/2 [==============================] - 0s 52ms/step - loss: 2.5309 - acc: 0.8398 - val_loss: 3.0679e-09 - val_acc: 1.0000\n",
            "Epoch 40/300\n",
            "2/2 [==============================] - 0s 51ms/step - loss: 0.0238 - acc: 0.9922 - val_loss: 0.3408 - val_acc: 0.9219\n",
            "Epoch 41/300\n",
            "2/2 [==============================] - 0s 50ms/step - loss: 0.6089 - acc: 0.9336 - val_loss: 1.3882e-07 - val_acc: 1.0000\n",
            "Epoch 42/300\n",
            "2/2 [==============================] - 0s 51ms/step - loss: 0.5441 - acc: 0.9531 - val_loss: 1.5179e-08 - val_acc: 1.0000\n",
            "Epoch 43/300\n",
            "2/2 [==============================] - 0s 49ms/step - loss: 7.8237e-09 - acc: 1.0000 - val_loss: 4.5863e-08 - val_acc: 1.0000\n",
            "Epoch 44/300\n",
            "2/2 [==============================] - 0s 51ms/step - loss: 0.2129 - acc: 0.9727 - val_loss: 7.8925e-08 - val_acc: 1.0000\n",
            "Epoch 45/300\n",
            "2/2 [==============================] - 0s 54ms/step - loss: 0.0025 - acc: 1.0000 - val_loss: 1.7993e-18 - val_acc: 1.0000\n",
            "Epoch 46/300\n",
            "2/2 [==============================] - 0s 51ms/step - loss: 1.9637e-13 - acc: 1.0000 - val_loss: 7.4441e-15 - val_acc: 1.0000\n",
            "Epoch 47/300\n",
            "2/2 [==============================] - 0s 52ms/step - loss: 2.0675e-12 - acc: 1.0000 - val_loss: 1.4911e-09 - val_acc: 1.0000\n",
            "Epoch 48/300\n",
            "2/2 [==============================] - 0s 51ms/step - loss: 1.9565e-08 - acc: 1.0000 - val_loss: 2.5771e-05 - val_acc: 1.0000\n",
            "Epoch 49/300\n",
            "2/2 [==============================] - 0s 52ms/step - loss: 2.0305e-04 - acc: 1.0000 - val_loss: 0.0114 - val_acc: 1.0000\n",
            "Epoch 50/300\n",
            "2/2 [==============================] - 0s 51ms/step - loss: 0.0104 - acc: 0.9961 - val_loss: 5.4947e-08 - val_acc: 1.0000\n",
            "Epoch 51/300\n",
            "2/2 [==============================] - 0s 50ms/step - loss: 1.0934e-07 - acc: 1.0000 - val_loss: 1.2215e-13 - val_acc: 1.0000\n",
            "Epoch 52/300\n",
            "2/2 [==============================] - 0s 63ms/step - loss: 2.5594e-13 - acc: 1.0000 - val_loss: 4.4332e-19 - val_acc: 1.0000\n",
            "Epoch 53/300\n",
            "2/2 [==============================] - 0s 50ms/step - loss: 1.1944e-16 - acc: 1.0000 - val_loss: 3.8082e-19 - val_acc: 1.0000\n",
            "Epoch 54/300\n",
            "2/2 [==============================] - 0s 49ms/step - loss: 2.8542e-11 - acc: 1.0000 - val_loss: 7.8334e-15 - val_acc: 1.0000\n",
            "Epoch 55/300\n",
            "2/2 [==============================] - 0s 49ms/step - loss: 8.4467e-07 - acc: 1.0000 - val_loss: 2.7970e-12 - val_acc: 1.0000\n",
            "Epoch 56/300\n",
            "2/2 [==============================] - 0s 49ms/step - loss: 3.8955e-06 - acc: 1.0000 - val_loss: 7.9323e-14 - val_acc: 1.0000\n",
            "Epoch 57/300\n",
            "2/2 [==============================] - 0s 52ms/step - loss: 2.6758e-08 - acc: 1.0000 - val_loss: 1.9463e-15 - val_acc: 1.0000\n",
            "Epoch 58/300\n",
            "2/2 [==============================] - 0s 52ms/step - loss: 6.8648e-10 - acc: 1.0000 - val_loss: 5.8423e-17 - val_acc: 1.0000\n",
            "Epoch 59/300\n",
            "2/2 [==============================] - 0s 49ms/step - loss: 1.5484e-11 - acc: 1.0000 - val_loss: 2.4497e-18 - val_acc: 1.0000\n",
            "Epoch 60/300\n",
            "2/2 [==============================] - 0s 49ms/step - loss: 2.8022e-12 - acc: 1.0000 - val_loss: 1.4955e-19 - val_acc: 1.0000\n",
            "Epoch 61/300\n",
            "2/2 [==============================] - 0s 51ms/step - loss: 1.7451e-13 - acc: 1.0000 - val_loss: 1.3309e-20 - val_acc: 1.0000\n",
            "Epoch 62/300\n",
            "2/2 [==============================] - 0s 50ms/step - loss: 1.3837e-14 - acc: 1.0000 - val_loss: 1.8473e-21 - val_acc: 1.0000\n",
            "Epoch 63/300\n",
            "2/2 [==============================] - 0s 50ms/step - loss: 1.1812e-15 - acc: 1.0000 - val_loss: 1.2411e-21 - val_acc: 1.0000\n",
            "Epoch 64/300\n",
            "2/2 [==============================] - 0s 51ms/step - loss: 2.8697e-16 - acc: 1.0000 - val_loss: 4.1320e-21 - val_acc: 1.0000\n",
            "Epoch 65/300\n",
            "2/2 [==============================] - 0s 49ms/step - loss: 6.4711e-17 - acc: 1.0000 - val_loss: 1.3714e-20 - val_acc: 1.0000\n",
            "Epoch 66/300\n",
            "2/2 [==============================] - 0s 49ms/step - loss: 1.4805e-17 - acc: 1.0000 - val_loss: 3.7607e-20 - val_acc: 1.0000\n",
            "Epoch 67/300\n",
            "2/2 [==============================] - 0s 60ms/step - loss: 6.7869e-18 - acc: 1.0000 - val_loss: 8.6806e-20 - val_acc: 1.0000\n",
            "Epoch 68/300\n",
            "2/2 [==============================] - 0s 49ms/step - loss: 2.3711e-18 - acc: 1.0000 - val_loss: 1.7327e-19 - val_acc: 1.0000\n",
            "Epoch 69/300\n",
            "2/2 [==============================] - 0s 54ms/step - loss: 1.7891e-18 - acc: 1.0000 - val_loss: 3.0624e-19 - val_acc: 1.0000\n",
            "Epoch 70/300\n",
            "2/2 [==============================] - 0s 50ms/step - loss: 1.5267e-18 - acc: 1.0000 - val_loss: 4.8918e-19 - val_acc: 1.0000\n",
            "Epoch 71/300\n",
            "2/2 [==============================] - 0s 60ms/step - loss: 1.5101e-18 - acc: 1.0000 - val_loss: 7.1828e-19 - val_acc: 1.0000\n",
            "Epoch 72/300\n",
            "2/2 [==============================] - 0s 50ms/step - loss: 1.8859e-18 - acc: 1.0000 - val_loss: 9.8417e-19 - val_acc: 1.0000\n",
            "Epoch 73/300\n",
            "2/2 [==============================] - 0s 51ms/step - loss: 2.3408e-18 - acc: 1.0000 - val_loss: 1.2741e-18 - val_acc: 1.0000\n",
            "Epoch 74/300\n",
            "2/2 [==============================] - 0s 48ms/step - loss: 2.5790e-18 - acc: 1.0000 - val_loss: 1.5740e-18 - val_acc: 1.0000\n",
            "Epoch 75/300\n",
            "2/2 [==============================] - 0s 52ms/step - loss: 3.1285e-18 - acc: 1.0000 - val_loss: 1.8717e-18 - val_acc: 1.0000\n",
            "Epoch 76/300\n",
            "2/2 [==============================] - 0s 63ms/step - loss: 3.8705e-18 - acc: 1.0000 - val_loss: 2.1567e-18 - val_acc: 1.0000\n",
            "Epoch 77/300\n",
            "2/2 [==============================] - 0s 51ms/step - loss: 4.3627e-18 - acc: 1.0000 - val_loss: 2.4215e-18 - val_acc: 1.0000\n",
            "Epoch 78/300\n",
            "2/2 [==============================] - 0s 50ms/step - loss: 4.8198e-18 - acc: 1.0000 - val_loss: 2.6621e-18 - val_acc: 1.0000\n",
            "Epoch 79/300\n",
            "2/2 [==============================] - 0s 48ms/step - loss: 5.0779e-18 - acc: 1.0000 - val_loss: 2.8767e-18 - val_acc: 1.0000\n",
            "Epoch 80/300\n",
            "2/2 [==============================] - 0s 63ms/step - loss: 5.6143e-18 - acc: 1.0000 - val_loss: 3.0654e-18 - val_acc: 1.0000\n",
            "Epoch 81/300\n",
            "2/2 [==============================] - 0s 55ms/step - loss: 5.9330e-18 - acc: 1.0000 - val_loss: 3.2284e-18 - val_acc: 1.0000\n",
            "Epoch 82/300\n",
            "2/2 [==============================] - 0s 50ms/step - loss: 6.0978e-18 - acc: 1.0000 - val_loss: 3.3686e-18 - val_acc: 1.0000\n",
            "Epoch 83/300\n",
            "2/2 [==============================] - 0s 50ms/step - loss: 6.3487e-18 - acc: 1.0000 - val_loss: 3.4879e-18 - val_acc: 1.0000\n",
            "Epoch 84/300\n",
            "2/2 [==============================] - 0s 55ms/step - loss: 6.6319e-18 - acc: 1.0000 - val_loss: 3.5886e-18 - val_acc: 1.0000\n",
            "Epoch 85/300\n",
            "2/2 [==============================] - 0s 50ms/step - loss: 6.7465e-18 - acc: 1.0000 - val_loss: 3.6734e-18 - val_acc: 1.0000\n",
            "Epoch 86/300\n",
            "2/2 [==============================] - 0s 49ms/step - loss: 6.8993e-18 - acc: 1.0000 - val_loss: 3.7438e-18 - val_acc: 1.0000\n",
            "Epoch 87/300\n",
            "2/2 [==============================] - 0s 53ms/step - loss: 7.0737e-18 - acc: 1.0000 - val_loss: 3.8025e-18 - val_acc: 1.0000\n",
            "Epoch 88/300\n",
            "2/2 [==============================] - 0s 49ms/step - loss: 7.1686e-18 - acc: 1.0000 - val_loss: 3.8517e-18 - val_acc: 1.0000\n",
            "Epoch 89/300\n",
            "2/2 [==============================] - 0s 51ms/step - loss: 7.2482e-18 - acc: 1.0000 - val_loss: 3.8919e-18 - val_acc: 1.0000\n",
            "Epoch 90/300\n",
            "2/2 [==============================] - 0s 65ms/step - loss: 7.3187e-18 - acc: 1.0000 - val_loss: 3.9251e-18 - val_acc: 1.0000\n",
            "Epoch 91/300\n",
            "2/2 [==============================] - 0s 50ms/step - loss: 7.3756e-18 - acc: 1.0000 - val_loss: 3.9525e-18 - val_acc: 1.0000\n",
            "Epoch 92/300\n",
            "2/2 [==============================] - 0s 50ms/step - loss: 7.4213e-18 - acc: 1.0000 - val_loss: 3.9746e-18 - val_acc: 1.0000\n",
            "Epoch 93/300\n",
            "2/2 [==============================] - 0s 55ms/step - loss: 7.4572e-18 - acc: 1.0000 - val_loss: 3.9931e-18 - val_acc: 1.0000\n",
            "Epoch 94/300\n",
            "2/2 [==============================] - 0s 63ms/step - loss: 7.4766e-18 - acc: 1.0000 - val_loss: 4.0088e-18 - val_acc: 1.0000\n",
            "Epoch 95/300\n",
            "2/2 [==============================] - 0s 48ms/step - loss: 7.5040e-18 - acc: 1.0000 - val_loss: 4.0217e-18 - val_acc: 1.0000\n",
            "Epoch 96/300\n",
            "2/2 [==============================] - 0s 50ms/step - loss: 7.5253e-18 - acc: 1.0000 - val_loss: 4.0312e-18 - val_acc: 1.0000\n",
            "Epoch 97/300\n",
            "2/2 [==============================] - 0s 53ms/step - loss: 7.5498e-18 - acc: 1.0000 - val_loss: 4.0397e-18 - val_acc: 1.0000\n",
            "Epoch 98/300\n",
            "2/2 [==============================] - 0s 52ms/step - loss: 7.5595e-18 - acc: 1.0000 - val_loss: 4.0466e-18 - val_acc: 1.0000\n",
            "Epoch 99/300\n",
            "2/2 [==============================] - 0s 65ms/step - loss: 7.5730e-18 - acc: 1.0000 - val_loss: 4.0521e-18 - val_acc: 1.0000\n",
            "Epoch 100/300\n",
            "2/2 [==============================] - 0s 50ms/step - loss: 7.5827e-18 - acc: 1.0000 - val_loss: 4.0564e-18 - val_acc: 1.0000\n",
            "Epoch 101/300\n",
            "2/2 [==============================] - 0s 48ms/step - loss: 7.5930e-18 - acc: 1.0000 - val_loss: 4.0604e-18 - val_acc: 1.0000\n",
            "Epoch 102/300\n",
            "2/2 [==============================] - 0s 51ms/step - loss: 7.5974e-18 - acc: 1.0000 - val_loss: 4.0638e-18 - val_acc: 1.0000\n",
            "Epoch 103/300\n",
            "2/2 [==============================] - 0s 50ms/step - loss: 7.6049e-18 - acc: 1.0000 - val_loss: 4.0662e-18 - val_acc: 1.0000\n",
            "Epoch 104/300\n",
            "2/2 [==============================] - 0s 50ms/step - loss: 7.6083e-18 - acc: 1.0000 - val_loss: 4.0684e-18 - val_acc: 1.0000\n",
            "Epoch 105/300\n",
            "2/2 [==============================] - 0s 64ms/step - loss: 7.6110e-18 - acc: 1.0000 - val_loss: 4.0697e-18 - val_acc: 1.0000\n",
            "Epoch 106/300\n",
            "2/2 [==============================] - 0s 53ms/step - loss: 7.6152e-18 - acc: 1.0000 - val_loss: 4.0712e-18 - val_acc: 1.0000\n",
            "Epoch 107/300\n",
            "2/2 [==============================] - 0s 52ms/step - loss: 7.6181e-18 - acc: 1.0000 - val_loss: 4.0725e-18 - val_acc: 1.0000\n",
            "Epoch 108/300\n",
            "2/2 [==============================] - 0s 52ms/step - loss: 7.6194e-18 - acc: 1.0000 - val_loss: 4.0731e-18 - val_acc: 1.0000\n",
            "Epoch 109/300\n",
            "2/2 [==============================] - 0s 59ms/step - loss: 7.6213e-18 - acc: 1.0000 - val_loss: 4.0742e-18 - val_acc: 1.0000\n",
            "Epoch 110/300\n",
            "2/2 [==============================] - 0s 50ms/step - loss: 7.6225e-18 - acc: 1.0000 - val_loss: 4.0744e-18 - val_acc: 1.0000\n",
            "Epoch 111/300\n",
            "2/2 [==============================] - 0s 65ms/step - loss: 7.6230e-18 - acc: 1.0000 - val_loss: 4.0756e-18 - val_acc: 1.0000\n",
            "Epoch 112/300\n",
            "2/2 [==============================] - 0s 51ms/step - loss: 7.6243e-18 - acc: 1.0000 - val_loss: 4.0757e-18 - val_acc: 1.0000\n",
            "Epoch 113/300\n",
            "2/2 [==============================] - 0s 53ms/step - loss: 7.6251e-18 - acc: 1.0000 - val_loss: 4.0757e-18 - val_acc: 1.0000\n",
            "Epoch 114/300\n",
            "2/2 [==============================] - 0s 51ms/step - loss: 7.6260e-18 - acc: 1.0000 - val_loss: 4.0762e-18 - val_acc: 1.0000\n",
            "Epoch 115/300\n",
            "2/2 [==============================] - 0s 55ms/step - loss: 7.6262e-18 - acc: 1.0000 - val_loss: 4.0762e-18 - val_acc: 1.0000\n",
            "Epoch 116/300\n",
            "2/2 [==============================] - 0s 51ms/step - loss: 7.6263e-18 - acc: 1.0000 - val_loss: 4.0764e-18 - val_acc: 1.0000\n",
            "Epoch 117/300\n",
            "2/2 [==============================] - 0s 62ms/step - loss: 7.6270e-18 - acc: 1.0000 - val_loss: 4.0766e-18 - val_acc: 1.0000\n",
            "Epoch 118/300\n",
            "2/2 [==============================] - 0s 53ms/step - loss: 7.6271e-18 - acc: 1.0000 - val_loss: 4.0766e-18 - val_acc: 1.0000\n",
            "Epoch 119/300\n",
            "2/2 [==============================] - 0s 58ms/step - loss: 7.6272e-18 - acc: 1.0000 - val_loss: 4.0766e-18 - val_acc: 1.0000\n",
            "Epoch 120/300\n",
            "2/2 [==============================] - 0s 57ms/step - loss: 7.6276e-18 - acc: 1.0000 - val_loss: 4.0767e-18 - val_acc: 1.0000\n",
            "Epoch 121/300\n",
            "2/2 [==============================] - 0s 57ms/step - loss: 7.6276e-18 - acc: 1.0000 - val_loss: 4.0768e-18 - val_acc: 1.0000\n",
            "Epoch 122/300\n",
            "2/2 [==============================] - 0s 51ms/step - loss: 7.6276e-18 - acc: 1.0000 - val_loss: 4.0770e-18 - val_acc: 1.0000\n",
            "Epoch 123/300\n",
            "2/2 [==============================] - 0s 63ms/step - loss: 7.6276e-18 - acc: 1.0000 - val_loss: 4.0773e-18 - val_acc: 1.0000\n",
            "Epoch 124/300\n",
            "2/2 [==============================] - 0s 54ms/step - loss: 7.6276e-18 - acc: 1.0000 - val_loss: 4.0773e-18 - val_acc: 1.0000\n",
            "Epoch 125/300\n",
            "2/2 [==============================] - 0s 74ms/step - loss: 7.6276e-18 - acc: 1.0000 - val_loss: 4.0773e-18 - val_acc: 1.0000\n",
            "Epoch 126/300\n",
            "2/2 [==============================] - 0s 69ms/step - loss: 7.6280e-18 - acc: 1.0000 - val_loss: 4.0773e-18 - val_acc: 1.0000\n",
            "Epoch 127/300\n",
            "2/2 [==============================] - 0s 82ms/step - loss: 7.6280e-18 - acc: 1.0000 - val_loss: 4.0773e-18 - val_acc: 1.0000\n",
            "Epoch 128/300\n",
            "2/2 [==============================] - 0s 78ms/step - loss: 7.6280e-18 - acc: 1.0000 - val_loss: 4.0773e-18 - val_acc: 1.0000\n",
            "Epoch 129/300\n",
            "2/2 [==============================] - 0s 79ms/step - loss: 7.6280e-18 - acc: 1.0000 - val_loss: 4.0773e-18 - val_acc: 1.0000\n",
            "Epoch 130/300\n",
            "2/2 [==============================] - 0s 76ms/step - loss: 7.6280e-18 - acc: 1.0000 - val_loss: 4.0773e-18 - val_acc: 1.0000\n",
            "Epoch 131/300\n",
            "2/2 [==============================] - 0s 78ms/step - loss: 7.6280e-18 - acc: 1.0000 - val_loss: 4.0773e-18 - val_acc: 1.0000\n",
            "Epoch 132/300\n",
            "2/2 [==============================] - 0s 78ms/step - loss: 7.6280e-18 - acc: 1.0000 - val_loss: 4.0773e-18 - val_acc: 1.0000\n",
            "Epoch 133/300\n",
            "2/2 [==============================] - 0s 76ms/step - loss: 7.6280e-18 - acc: 1.0000 - val_loss: 4.0773e-18 - val_acc: 1.0000\n",
            "Epoch 134/300\n",
            "2/2 [==============================] - 0s 73ms/step - loss: 7.6280e-18 - acc: 1.0000 - val_loss: 4.0773e-18 - val_acc: 1.0000\n",
            "Epoch 135/300\n",
            "2/2 [==============================] - 0s 80ms/step - loss: 7.6280e-18 - acc: 1.0000 - val_loss: 4.0773e-18 - val_acc: 1.0000\n",
            "Epoch 136/300\n",
            "2/2 [==============================] - 0s 73ms/step - loss: 7.6280e-18 - acc: 1.0000 - val_loss: 4.0773e-18 - val_acc: 1.0000\n",
            "Epoch 137/300\n",
            "2/2 [==============================] - 0s 71ms/step - loss: 7.6280e-18 - acc: 1.0000 - val_loss: 4.0773e-18 - val_acc: 1.0000\n",
            "Epoch 138/300\n",
            "2/2 [==============================] - 0s 86ms/step - loss: 7.6280e-18 - acc: 1.0000 - val_loss: 4.0773e-18 - val_acc: 1.0000\n",
            "Epoch 139/300\n",
            "2/2 [==============================] - 0s 97ms/step - loss: 7.6280e-18 - acc: 1.0000 - val_loss: 4.0773e-18 - val_acc: 1.0000\n",
            "Epoch 140/300\n",
            "2/2 [==============================] - 0s 95ms/step - loss: 7.6280e-18 - acc: 1.0000 - val_loss: 4.0773e-18 - val_acc: 1.0000\n",
            "Epoch 141/300\n",
            "2/2 [==============================] - 0s 87ms/step - loss: 7.6280e-18 - acc: 1.0000 - val_loss: 4.0773e-18 - val_acc: 1.0000\n",
            "Epoch 142/300\n",
            "2/2 [==============================] - 0s 100ms/step - loss: 7.6280e-18 - acc: 1.0000 - val_loss: 4.0773e-18 - val_acc: 1.0000\n",
            "Epoch 143/300\n",
            "2/2 [==============================] - 0s 100ms/step - loss: 7.6280e-18 - acc: 1.0000 - val_loss: 4.0773e-18 - val_acc: 1.0000\n",
            "Epoch 144/300\n",
            "2/2 [==============================] - 0s 83ms/step - loss: 7.6280e-18 - acc: 1.0000 - val_loss: 4.0773e-18 - val_acc: 1.0000\n",
            "Epoch 145/300\n",
            "2/2 [==============================] - 0s 110ms/step - loss: 7.6280e-18 - acc: 1.0000 - val_loss: 4.0773e-18 - val_acc: 1.0000\n",
            "Epoch 146/300\n",
            "2/2 [==============================] - 0s 116ms/step - loss: 7.6280e-18 - acc: 1.0000 - val_loss: 4.0773e-18 - val_acc: 1.0000\n",
            "Epoch 147/300\n",
            "2/2 [==============================] - 0s 91ms/step - loss: 7.6280e-18 - acc: 1.0000 - val_loss: 4.0773e-18 - val_acc: 1.0000\n",
            "Epoch 148/300\n",
            "2/2 [==============================] - 0s 108ms/step - loss: 7.6280e-18 - acc: 1.0000 - val_loss: 4.0773e-18 - val_acc: 1.0000\n",
            "Epoch 149/300\n",
            "2/2 [==============================] - 0s 94ms/step - loss: 7.6280e-18 - acc: 1.0000 - val_loss: 4.0773e-18 - val_acc: 1.0000\n",
            "Epoch 150/300\n",
            "2/2 [==============================] - 0s 87ms/step - loss: 7.6280e-18 - acc: 1.0000 - val_loss: 4.0773e-18 - val_acc: 1.0000\n",
            "Epoch 151/300\n",
            "2/2 [==============================] - 0s 105ms/step - loss: 7.6280e-18 - acc: 1.0000 - val_loss: 4.0773e-18 - val_acc: 1.0000\n",
            "Epoch 152/300\n",
            "2/2 [==============================] - 0s 103ms/step - loss: 7.6280e-18 - acc: 1.0000 - val_loss: 4.0773e-18 - val_acc: 1.0000\n",
            "Epoch 153/300\n",
            "2/2 [==============================] - 0s 110ms/step - loss: 7.6280e-18 - acc: 1.0000 - val_loss: 4.0773e-18 - val_acc: 1.0000\n",
            "Epoch 154/300\n",
            "2/2 [==============================] - 0s 90ms/step - loss: 7.6280e-18 - acc: 1.0000 - val_loss: 4.0773e-18 - val_acc: 1.0000\n",
            "Epoch 155/300\n",
            "2/2 [==============================] - 0s 97ms/step - loss: 7.6280e-18 - acc: 1.0000 - val_loss: 4.0773e-18 - val_acc: 1.0000\n",
            "Epoch 156/300\n",
            "2/2 [==============================] - 0s 88ms/step - loss: 7.6280e-18 - acc: 1.0000 - val_loss: 4.0773e-18 - val_acc: 1.0000\n",
            "Epoch 157/300\n",
            "2/2 [==============================] - 0s 99ms/step - loss: 7.6280e-18 - acc: 1.0000 - val_loss: 4.0773e-18 - val_acc: 1.0000\n",
            "Epoch 158/300\n",
            "2/2 [==============================] - 0s 84ms/step - loss: 7.6280e-18 - acc: 1.0000 - val_loss: 4.0773e-18 - val_acc: 1.0000\n",
            "Epoch 159/300\n",
            "2/2 [==============================] - 0s 103ms/step - loss: 7.6280e-18 - acc: 1.0000 - val_loss: 4.0773e-18 - val_acc: 1.0000\n",
            "Epoch 160/300\n",
            "2/2 [==============================] - 0s 83ms/step - loss: 7.6280e-18 - acc: 1.0000 - val_loss: 4.0773e-18 - val_acc: 1.0000\n",
            "Epoch 161/300\n",
            "2/2 [==============================] - 0s 79ms/step - loss: 7.6280e-18 - acc: 1.0000 - val_loss: 4.0773e-18 - val_acc: 1.0000\n",
            "Epoch 162/300\n",
            "2/2 [==============================] - 0s 93ms/step - loss: 7.6280e-18 - acc: 1.0000 - val_loss: 4.0773e-18 - val_acc: 1.0000\n",
            "Epoch 163/300\n",
            "2/2 [==============================] - 0s 81ms/step - loss: 7.6280e-18 - acc: 1.0000 - val_loss: 4.0773e-18 - val_acc: 1.0000\n",
            "Epoch 164/300\n",
            "2/2 [==============================] - 0s 96ms/step - loss: 7.6280e-18 - acc: 1.0000 - val_loss: 4.0773e-18 - val_acc: 1.0000\n",
            "Epoch 165/300\n",
            "2/2 [==============================] - 0s 81ms/step - loss: 7.6280e-18 - acc: 1.0000 - val_loss: 4.0773e-18 - val_acc: 1.0000\n",
            "Epoch 166/300\n",
            "2/2 [==============================] - 0s 113ms/step - loss: 7.6280e-18 - acc: 1.0000 - val_loss: 4.0773e-18 - val_acc: 1.0000\n",
            "Epoch 167/300\n",
            "2/2 [==============================] - 0s 97ms/step - loss: 7.6280e-18 - acc: 1.0000 - val_loss: 4.0773e-18 - val_acc: 1.0000\n",
            "Epoch 168/300\n",
            "2/2 [==============================] - 0s 103ms/step - loss: 7.6280e-18 - acc: 1.0000 - val_loss: 4.0773e-18 - val_acc: 1.0000\n",
            "Epoch 169/300\n",
            "2/2 [==============================] - 0s 106ms/step - loss: 7.6280e-18 - acc: 1.0000 - val_loss: 4.0773e-18 - val_acc: 1.0000\n",
            "Epoch 170/300\n",
            "2/2 [==============================] - 0s 121ms/step - loss: 7.6280e-18 - acc: 1.0000 - val_loss: 4.0773e-18 - val_acc: 1.0000\n",
            "Epoch 171/300\n",
            "2/2 [==============================] - 0s 93ms/step - loss: 7.6280e-18 - acc: 1.0000 - val_loss: 4.0773e-18 - val_acc: 1.0000\n",
            "Epoch 172/300\n",
            "2/2 [==============================] - 0s 100ms/step - loss: 7.6280e-18 - acc: 1.0000 - val_loss: 4.0773e-18 - val_acc: 1.0000\n",
            "Epoch 173/300\n",
            "2/2 [==============================] - 0s 106ms/step - loss: 7.6280e-18 - acc: 1.0000 - val_loss: 4.0773e-18 - val_acc: 1.0000\n",
            "Epoch 174/300\n",
            "2/2 [==============================] - 0s 92ms/step - loss: 7.6280e-18 - acc: 1.0000 - val_loss: 4.0773e-18 - val_acc: 1.0000\n",
            "Epoch 175/300\n",
            "2/2 [==============================] - 0s 85ms/step - loss: 7.6280e-18 - acc: 1.0000 - val_loss: 4.0773e-18 - val_acc: 1.0000\n",
            "Epoch 176/300\n",
            "2/2 [==============================] - 0s 79ms/step - loss: 7.6280e-18 - acc: 1.0000 - val_loss: 4.0773e-18 - val_acc: 1.0000\n",
            "Epoch 177/300\n",
            "2/2 [==============================] - 0s 84ms/step - loss: 7.6280e-18 - acc: 1.0000 - val_loss: 4.0773e-18 - val_acc: 1.0000\n",
            "Epoch 178/300\n",
            "2/2 [==============================] - 0s 81ms/step - loss: 7.6280e-18 - acc: 1.0000 - val_loss: 4.0773e-18 - val_acc: 1.0000\n",
            "Epoch 179/300\n",
            "2/2 [==============================] - 0s 81ms/step - loss: 7.6280e-18 - acc: 1.0000 - val_loss: 4.0773e-18 - val_acc: 1.0000\n",
            "Epoch 180/300\n",
            "2/2 [==============================] - 0s 83ms/step - loss: 7.6280e-18 - acc: 1.0000 - val_loss: 4.0773e-18 - val_acc: 1.0000\n",
            "Epoch 181/300\n",
            "2/2 [==============================] - 0s 84ms/step - loss: 7.6280e-18 - acc: 1.0000 - val_loss: 4.0773e-18 - val_acc: 1.0000\n",
            "Epoch 182/300\n",
            "2/2 [==============================] - 0s 72ms/step - loss: 7.6280e-18 - acc: 1.0000 - val_loss: 4.0773e-18 - val_acc: 1.0000\n",
            "Epoch 183/300\n",
            "2/2 [==============================] - 0s 92ms/step - loss: 7.6280e-18 - acc: 1.0000 - val_loss: 4.0773e-18 - val_acc: 1.0000\n",
            "Epoch 184/300\n",
            "2/2 [==============================] - 0s 86ms/step - loss: 7.6280e-18 - acc: 1.0000 - val_loss: 4.0773e-18 - val_acc: 1.0000\n",
            "Epoch 185/300\n",
            "2/2 [==============================] - 0s 83ms/step - loss: 7.6280e-18 - acc: 1.0000 - val_loss: 4.0773e-18 - val_acc: 1.0000\n",
            "Epoch 186/300\n",
            "2/2 [==============================] - 0s 79ms/step - loss: 7.6280e-18 - acc: 1.0000 - val_loss: 4.0773e-18 - val_acc: 1.0000\n",
            "Epoch 187/300\n",
            "2/2 [==============================] - 0s 75ms/step - loss: 7.6280e-18 - acc: 1.0000 - val_loss: 4.0773e-18 - val_acc: 1.0000\n",
            "Epoch 188/300\n",
            "2/2 [==============================] - 0s 56ms/step - loss: 7.6280e-18 - acc: 1.0000 - val_loss: 4.0773e-18 - val_acc: 1.0000\n",
            "Epoch 189/300\n",
            "2/2 [==============================] - 0s 58ms/step - loss: 7.6280e-18 - acc: 1.0000 - val_loss: 4.0773e-18 - val_acc: 1.0000\n",
            "Epoch 190/300\n",
            "2/2 [==============================] - 0s 59ms/step - loss: 7.6280e-18 - acc: 1.0000 - val_loss: 4.0773e-18 - val_acc: 1.0000\n",
            "Epoch 191/300\n",
            "2/2 [==============================] - 0s 69ms/step - loss: 7.6280e-18 - acc: 1.0000 - val_loss: 4.0773e-18 - val_acc: 1.0000\n",
            "Epoch 192/300\n",
            "2/2 [==============================] - 0s 59ms/step - loss: 7.6280e-18 - acc: 1.0000 - val_loss: 4.0773e-18 - val_acc: 1.0000\n",
            "Epoch 193/300\n",
            "2/2 [==============================] - 0s 65ms/step - loss: 7.6280e-18 - acc: 1.0000 - val_loss: 4.0773e-18 - val_acc: 1.0000\n",
            "Epoch 194/300\n",
            "2/2 [==============================] - 0s 55ms/step - loss: 7.6280e-18 - acc: 1.0000 - val_loss: 4.0773e-18 - val_acc: 1.0000\n",
            "Epoch 195/300\n",
            "2/2 [==============================] - 0s 56ms/step - loss: 7.6280e-18 - acc: 1.0000 - val_loss: 4.0773e-18 - val_acc: 1.0000\n",
            "Epoch 196/300\n",
            "2/2 [==============================] - 0s 53ms/step - loss: 7.6280e-18 - acc: 1.0000 - val_loss: 4.0773e-18 - val_acc: 1.0000\n",
            "Epoch 197/300\n",
            "2/2 [==============================] - 0s 57ms/step - loss: 7.6280e-18 - acc: 1.0000 - val_loss: 4.0773e-18 - val_acc: 1.0000\n",
            "Epoch 198/300\n",
            "2/2 [==============================] - 0s 53ms/step - loss: 7.6280e-18 - acc: 1.0000 - val_loss: 4.0773e-18 - val_acc: 1.0000\n",
            "Epoch 199/300\n",
            "2/2 [==============================] - 0s 66ms/step - loss: 7.6280e-18 - acc: 1.0000 - val_loss: 4.0773e-18 - val_acc: 1.0000\n",
            "Epoch 200/300\n",
            "2/2 [==============================] - 0s 56ms/step - loss: 7.6280e-18 - acc: 1.0000 - val_loss: 4.0773e-18 - val_acc: 1.0000\n",
            "Epoch 201/300\n",
            "2/2 [==============================] - 0s 56ms/step - loss: 7.6280e-18 - acc: 1.0000 - val_loss: 4.0773e-18 - val_acc: 1.0000\n",
            "Epoch 202/300\n",
            "2/2 [==============================] - 0s 56ms/step - loss: 7.6280e-18 - acc: 1.0000 - val_loss: 4.0773e-18 - val_acc: 1.0000\n",
            "Epoch 203/300\n",
            "2/2 [==============================] - 0s 57ms/step - loss: 7.6280e-18 - acc: 1.0000 - val_loss: 4.0773e-18 - val_acc: 1.0000\n",
            "Epoch 204/300\n",
            "2/2 [==============================] - 0s 53ms/step - loss: 7.6280e-18 - acc: 1.0000 - val_loss: 4.0773e-18 - val_acc: 1.0000\n",
            "Epoch 205/300\n",
            "2/2 [==============================] - 0s 57ms/step - loss: 7.6280e-18 - acc: 1.0000 - val_loss: 4.0773e-18 - val_acc: 1.0000\n",
            "Epoch 206/300\n",
            "2/2 [==============================] - 0s 52ms/step - loss: 7.6280e-18 - acc: 1.0000 - val_loss: 4.0773e-18 - val_acc: 1.0000\n",
            "Epoch 207/300\n",
            "2/2 [==============================] - 0s 51ms/step - loss: 7.6280e-18 - acc: 1.0000 - val_loss: 4.0773e-18 - val_acc: 1.0000\n",
            "Epoch 208/300\n",
            "2/2 [==============================] - 0s 57ms/step - loss: 7.6280e-18 - acc: 1.0000 - val_loss: 4.0773e-18 - val_acc: 1.0000\n",
            "Epoch 209/300\n",
            "2/2 [==============================] - 0s 54ms/step - loss: 7.6280e-18 - acc: 1.0000 - val_loss: 4.0773e-18 - val_acc: 1.0000\n",
            "Epoch 210/300\n",
            "2/2 [==============================] - 0s 58ms/step - loss: 7.6280e-18 - acc: 1.0000 - val_loss: 4.0773e-18 - val_acc: 1.0000\n",
            "Epoch 211/300\n",
            "2/2 [==============================] - 0s 53ms/step - loss: 7.6280e-18 - acc: 1.0000 - val_loss: 4.0773e-18 - val_acc: 1.0000\n",
            "Epoch 212/300\n",
            "2/2 [==============================] - 0s 55ms/step - loss: 7.6280e-18 - acc: 1.0000 - val_loss: 4.0773e-18 - val_acc: 1.0000\n",
            "Epoch 213/300\n",
            "2/2 [==============================] - 0s 52ms/step - loss: 7.6280e-18 - acc: 1.0000 - val_loss: 4.0773e-18 - val_acc: 1.0000\n",
            "Epoch 214/300\n",
            "2/2 [==============================] - 0s 53ms/step - loss: 7.6280e-18 - acc: 1.0000 - val_loss: 4.0773e-18 - val_acc: 1.0000\n",
            "Epoch 215/300\n",
            "2/2 [==============================] - 0s 55ms/step - loss: 7.6280e-18 - acc: 1.0000 - val_loss: 4.0773e-18 - val_acc: 1.0000\n",
            "Epoch 216/300\n",
            "2/2 [==============================] - 0s 59ms/step - loss: 7.6280e-18 - acc: 1.0000 - val_loss: 4.0773e-18 - val_acc: 1.0000\n",
            "Epoch 217/300\n",
            "2/2 [==============================] - 0s 55ms/step - loss: 7.6280e-18 - acc: 1.0000 - val_loss: 4.0773e-18 - val_acc: 1.0000\n",
            "Epoch 218/300\n",
            "2/2 [==============================] - 0s 53ms/step - loss: 7.6280e-18 - acc: 1.0000 - val_loss: 4.0773e-18 - val_acc: 1.0000\n",
            "Epoch 219/300\n",
            "2/2 [==============================] - 0s 51ms/step - loss: 7.6280e-18 - acc: 1.0000 - val_loss: 4.0773e-18 - val_acc: 1.0000\n",
            "Epoch 220/300\n",
            "2/2 [==============================] - 0s 55ms/step - loss: 7.6280e-18 - acc: 1.0000 - val_loss: 4.0773e-18 - val_acc: 1.0000\n",
            "Epoch 221/300\n",
            "2/2 [==============================] - 0s 64ms/step - loss: 7.6280e-18 - acc: 1.0000 - val_loss: 4.0773e-18 - val_acc: 1.0000\n",
            "Epoch 222/300\n",
            "2/2 [==============================] - 0s 56ms/step - loss: 7.6280e-18 - acc: 1.0000 - val_loss: 4.0773e-18 - val_acc: 1.0000\n",
            "Epoch 223/300\n",
            "2/2 [==============================] - 0s 54ms/step - loss: 7.6280e-18 - acc: 1.0000 - val_loss: 4.0773e-18 - val_acc: 1.0000\n",
            "Epoch 224/300\n",
            "2/2 [==============================] - 0s 53ms/step - loss: 7.6280e-18 - acc: 1.0000 - val_loss: 4.0773e-18 - val_acc: 1.0000\n",
            "Epoch 225/300\n",
            "2/2 [==============================] - 0s 54ms/step - loss: 7.6280e-18 - acc: 1.0000 - val_loss: 4.0773e-18 - val_acc: 1.0000\n",
            "Epoch 226/300\n",
            "2/2 [==============================] - 0s 53ms/step - loss: 7.6280e-18 - acc: 1.0000 - val_loss: 4.0773e-18 - val_acc: 1.0000\n",
            "Epoch 227/300\n",
            "2/2 [==============================] - 0s 65ms/step - loss: 7.6280e-18 - acc: 1.0000 - val_loss: 4.0773e-18 - val_acc: 1.0000\n",
            "Epoch 228/300\n",
            "2/2 [==============================] - 0s 51ms/step - loss: 7.6280e-18 - acc: 1.0000 - val_loss: 4.0773e-18 - val_acc: 1.0000\n",
            "Epoch 229/300\n",
            "2/2 [==============================] - 0s 57ms/step - loss: 7.6280e-18 - acc: 1.0000 - val_loss: 4.0773e-18 - val_acc: 1.0000\n",
            "Epoch 230/300\n",
            "2/2 [==============================] - 0s 52ms/step - loss: 7.6280e-18 - acc: 1.0000 - val_loss: 4.0773e-18 - val_acc: 1.0000\n",
            "Epoch 231/300\n",
            "2/2 [==============================] - 0s 51ms/step - loss: 7.6280e-18 - acc: 1.0000 - val_loss: 4.0773e-18 - val_acc: 1.0000\n",
            "Epoch 232/300\n",
            "2/2 [==============================] - 0s 53ms/step - loss: 7.6280e-18 - acc: 1.0000 - val_loss: 4.0773e-18 - val_acc: 1.0000\n",
            "Epoch 233/300\n",
            "2/2 [==============================] - 0s 51ms/step - loss: 7.6280e-18 - acc: 1.0000 - val_loss: 4.0773e-18 - val_acc: 1.0000\n",
            "Epoch 234/300\n",
            "2/2 [==============================] - 0s 52ms/step - loss: 7.6280e-18 - acc: 1.0000 - val_loss: 4.0773e-18 - val_acc: 1.0000\n",
            "Epoch 235/300\n",
            "2/2 [==============================] - 0s 59ms/step - loss: 7.6280e-18 - acc: 1.0000 - val_loss: 4.0773e-18 - val_acc: 1.0000\n",
            "Epoch 236/300\n",
            "2/2 [==============================] - 0s 55ms/step - loss: 7.6280e-18 - acc: 1.0000 - val_loss: 4.0773e-18 - val_acc: 1.0000\n",
            "Epoch 237/300\n",
            "2/2 [==============================] - 0s 51ms/step - loss: 7.6280e-18 - acc: 1.0000 - val_loss: 4.0773e-18 - val_acc: 1.0000\n",
            "Epoch 238/300\n",
            "2/2 [==============================] - 0s 56ms/step - loss: 7.6280e-18 - acc: 1.0000 - val_loss: 4.0773e-18 - val_acc: 1.0000\n",
            "Epoch 239/300\n",
            "2/2 [==============================] - 0s 57ms/step - loss: 7.6280e-18 - acc: 1.0000 - val_loss: 4.0773e-18 - val_acc: 1.0000\n",
            "Epoch 240/300\n",
            "2/2 [==============================] - 0s 52ms/step - loss: 7.6280e-18 - acc: 1.0000 - val_loss: 4.0773e-18 - val_acc: 1.0000\n",
            "Epoch 241/300\n",
            "2/2 [==============================] - 0s 56ms/step - loss: 7.6280e-18 - acc: 1.0000 - val_loss: 4.0773e-18 - val_acc: 1.0000\n",
            "Epoch 242/300\n",
            "2/2 [==============================] - 0s 68ms/step - loss: 7.6280e-18 - acc: 1.0000 - val_loss: 4.0773e-18 - val_acc: 1.0000\n",
            "Epoch 243/300\n",
            "2/2 [==============================] - 0s 55ms/step - loss: 7.6280e-18 - acc: 1.0000 - val_loss: 4.0773e-18 - val_acc: 1.0000\n",
            "Epoch 244/300\n",
            "2/2 [==============================] - 0s 51ms/step - loss: 7.6280e-18 - acc: 1.0000 - val_loss: 4.0773e-18 - val_acc: 1.0000\n",
            "Epoch 245/300\n",
            "2/2 [==============================] - 0s 55ms/step - loss: 7.6280e-18 - acc: 1.0000 - val_loss: 4.0773e-18 - val_acc: 1.0000\n",
            "Epoch 246/300\n",
            "2/2 [==============================] - 0s 53ms/step - loss: 7.6280e-18 - acc: 1.0000 - val_loss: 4.0773e-18 - val_acc: 1.0000\n",
            "Epoch 247/300\n",
            "2/2 [==============================] - 0s 54ms/step - loss: 7.6280e-18 - acc: 1.0000 - val_loss: 4.0773e-18 - val_acc: 1.0000\n",
            "Epoch 248/300\n",
            "2/2 [==============================] - 0s 68ms/step - loss: 7.6280e-18 - acc: 1.0000 - val_loss: 4.0773e-18 - val_acc: 1.0000\n",
            "Epoch 249/300\n",
            "2/2 [==============================] - 0s 54ms/step - loss: 7.6280e-18 - acc: 1.0000 - val_loss: 4.0773e-18 - val_acc: 1.0000\n",
            "Epoch 250/300\n",
            "2/2 [==============================] - 0s 68ms/step - loss: 7.6280e-18 - acc: 1.0000 - val_loss: 4.0773e-18 - val_acc: 1.0000\n",
            "Epoch 251/300\n",
            "2/2 [==============================] - 0s 55ms/step - loss: 7.6280e-18 - acc: 1.0000 - val_loss: 4.0773e-18 - val_acc: 1.0000\n",
            "Epoch 252/300\n",
            "2/2 [==============================] - 0s 65ms/step - loss: 7.6280e-18 - acc: 1.0000 - val_loss: 4.0773e-18 - val_acc: 1.0000\n",
            "Epoch 253/300\n",
            "2/2 [==============================] - 0s 63ms/step - loss: 7.6280e-18 - acc: 1.0000 - val_loss: 4.0773e-18 - val_acc: 1.0000\n",
            "Epoch 254/300\n",
            "2/2 [==============================] - 0s 52ms/step - loss: 7.6280e-18 - acc: 1.0000 - val_loss: 4.0773e-18 - val_acc: 1.0000\n",
            "Epoch 255/300\n",
            "2/2 [==============================] - 0s 52ms/step - loss: 7.6280e-18 - acc: 1.0000 - val_loss: 4.0773e-18 - val_acc: 1.0000\n",
            "Epoch 256/300\n",
            "2/2 [==============================] - 0s 52ms/step - loss: 7.6280e-18 - acc: 1.0000 - val_loss: 4.0773e-18 - val_acc: 1.0000\n",
            "Epoch 257/300\n",
            "2/2 [==============================] - 0s 53ms/step - loss: 7.6280e-18 - acc: 1.0000 - val_loss: 4.0773e-18 - val_acc: 1.0000\n",
            "Epoch 258/300\n",
            "2/2 [==============================] - 0s 53ms/step - loss: 7.6280e-18 - acc: 1.0000 - val_loss: 4.0773e-18 - val_acc: 1.0000\n",
            "Epoch 259/300\n",
            "2/2 [==============================] - 0s 59ms/step - loss: 7.6280e-18 - acc: 1.0000 - val_loss: 4.0773e-18 - val_acc: 1.0000\n",
            "Epoch 260/300\n",
            "2/2 [==============================] - 0s 70ms/step - loss: 7.6280e-18 - acc: 1.0000 - val_loss: 4.0773e-18 - val_acc: 1.0000\n",
            "Epoch 261/300\n",
            "2/2 [==============================] - 0s 54ms/step - loss: 7.6280e-18 - acc: 1.0000 - val_loss: 4.0773e-18 - val_acc: 1.0000\n",
            "Epoch 262/300\n",
            "2/2 [==============================] - 0s 53ms/step - loss: 7.6280e-18 - acc: 1.0000 - val_loss: 4.0773e-18 - val_acc: 1.0000\n",
            "Epoch 263/300\n",
            "2/2 [==============================] - 0s 52ms/step - loss: 7.6280e-18 - acc: 1.0000 - val_loss: 4.0773e-18 - val_acc: 1.0000\n",
            "Epoch 264/300\n",
            "2/2 [==============================] - 0s 63ms/step - loss: 7.6280e-18 - acc: 1.0000 - val_loss: 4.0773e-18 - val_acc: 1.0000\n",
            "Epoch 265/300\n",
            "2/2 [==============================] - 0s 52ms/step - loss: 7.6280e-18 - acc: 1.0000 - val_loss: 4.0773e-18 - val_acc: 1.0000\n",
            "Epoch 266/300\n",
            "2/2 [==============================] - 0s 54ms/step - loss: 7.6280e-18 - acc: 1.0000 - val_loss: 4.0773e-18 - val_acc: 1.0000\n",
            "Epoch 267/300\n",
            "2/2 [==============================] - 0s 56ms/step - loss: 7.6280e-18 - acc: 1.0000 - val_loss: 4.0773e-18 - val_acc: 1.0000\n",
            "Epoch 268/300\n",
            "2/2 [==============================] - 0s 55ms/step - loss: 7.6280e-18 - acc: 1.0000 - val_loss: 4.0773e-18 - val_acc: 1.0000\n",
            "Epoch 269/300\n",
            "2/2 [==============================] - 0s 54ms/step - loss: 7.6280e-18 - acc: 1.0000 - val_loss: 4.0773e-18 - val_acc: 1.0000\n",
            "Epoch 270/300\n",
            "2/2 [==============================] - 0s 53ms/step - loss: 7.6280e-18 - acc: 1.0000 - val_loss: 4.0773e-18 - val_acc: 1.0000\n",
            "Epoch 271/300\n",
            "2/2 [==============================] - 0s 52ms/step - loss: 7.6280e-18 - acc: 1.0000 - val_loss: 4.0773e-18 - val_acc: 1.0000\n",
            "Epoch 272/300\n",
            "2/2 [==============================] - 0s 53ms/step - loss: 7.6280e-18 - acc: 1.0000 - val_loss: 4.0773e-18 - val_acc: 1.0000\n",
            "Epoch 273/300\n",
            "2/2 [==============================] - 0s 55ms/step - loss: 7.6280e-18 - acc: 1.0000 - val_loss: 4.0773e-18 - val_acc: 1.0000\n",
            "Epoch 274/300\n",
            "2/2 [==============================] - 0s 52ms/step - loss: 7.6280e-18 - acc: 1.0000 - val_loss: 4.0773e-18 - val_acc: 1.0000\n",
            "Epoch 275/300\n",
            "2/2 [==============================] - 0s 69ms/step - loss: 7.6280e-18 - acc: 1.0000 - val_loss: 4.0773e-18 - val_acc: 1.0000\n",
            "Epoch 276/300\n",
            "2/2 [==============================] - 0s 60ms/step - loss: 7.6280e-18 - acc: 1.0000 - val_loss: 4.0773e-18 - val_acc: 1.0000\n",
            "Epoch 277/300\n",
            "2/2 [==============================] - 0s 53ms/step - loss: 7.6280e-18 - acc: 1.0000 - val_loss: 4.0773e-18 - val_acc: 1.0000\n",
            "Epoch 278/300\n",
            "2/2 [==============================] - 0s 57ms/step - loss: 7.6280e-18 - acc: 1.0000 - val_loss: 4.0773e-18 - val_acc: 1.0000\n",
            "Epoch 279/300\n",
            "2/2 [==============================] - 0s 61ms/step - loss: 7.6280e-18 - acc: 1.0000 - val_loss: 4.0773e-18 - val_acc: 1.0000\n",
            "Epoch 280/300\n",
            "2/2 [==============================] - 0s 54ms/step - loss: 7.6280e-18 - acc: 1.0000 - val_loss: 4.0773e-18 - val_acc: 1.0000\n",
            "Epoch 281/300\n",
            "2/2 [==============================] - 0s 53ms/step - loss: 7.6280e-18 - acc: 1.0000 - val_loss: 4.0773e-18 - val_acc: 1.0000\n",
            "Epoch 282/300\n",
            "2/2 [==============================] - 0s 56ms/step - loss: 7.6280e-18 - acc: 1.0000 - val_loss: 4.0773e-18 - val_acc: 1.0000\n",
            "Epoch 283/300\n",
            "2/2 [==============================] - 0s 65ms/step - loss: 7.6280e-18 - acc: 1.0000 - val_loss: 4.0773e-18 - val_acc: 1.0000\n",
            "Epoch 284/300\n",
            "2/2 [==============================] - 0s 70ms/step - loss: 7.6280e-18 - acc: 1.0000 - val_loss: 4.0773e-18 - val_acc: 1.0000\n",
            "Epoch 285/300\n",
            "2/2 [==============================] - 0s 73ms/step - loss: 7.6280e-18 - acc: 1.0000 - val_loss: 4.0773e-18 - val_acc: 1.0000\n",
            "Epoch 286/300\n",
            "2/2 [==============================] - 0s 90ms/step - loss: 7.6280e-18 - acc: 1.0000 - val_loss: 4.0773e-18 - val_acc: 1.0000\n",
            "Epoch 287/300\n",
            "2/2 [==============================] - 0s 81ms/step - loss: 7.6280e-18 - acc: 1.0000 - val_loss: 4.0773e-18 - val_acc: 1.0000\n",
            "Epoch 288/300\n",
            "2/2 [==============================] - 0s 84ms/step - loss: 7.6280e-18 - acc: 1.0000 - val_loss: 4.0773e-18 - val_acc: 1.0000\n",
            "Epoch 289/300\n",
            "2/2 [==============================] - 0s 87ms/step - loss: 7.6280e-18 - acc: 1.0000 - val_loss: 4.0773e-18 - val_acc: 1.0000\n",
            "Epoch 290/300\n",
            "2/2 [==============================] - 0s 85ms/step - loss: 7.6280e-18 - acc: 1.0000 - val_loss: 4.0773e-18 - val_acc: 1.0000\n",
            "Epoch 291/300\n",
            "2/2 [==============================] - 0s 84ms/step - loss: 7.6280e-18 - acc: 1.0000 - val_loss: 4.0773e-18 - val_acc: 1.0000\n",
            "Epoch 292/300\n",
            "2/2 [==============================] - 0s 74ms/step - loss: 7.6280e-18 - acc: 1.0000 - val_loss: 4.0773e-18 - val_acc: 1.0000\n",
            "Epoch 293/300\n",
            "2/2 [==============================] - 0s 64ms/step - loss: 7.6280e-18 - acc: 1.0000 - val_loss: 4.0773e-18 - val_acc: 1.0000\n",
            "Epoch 294/300\n",
            "2/2 [==============================] - 0s 66ms/step - loss: 7.6280e-18 - acc: 1.0000 - val_loss: 4.0773e-18 - val_acc: 1.0000\n",
            "Epoch 295/300\n",
            "2/2 [==============================] - 0s 63ms/step - loss: 7.6280e-18 - acc: 1.0000 - val_loss: 4.0773e-18 - val_acc: 1.0000\n",
            "Epoch 296/300\n",
            "2/2 [==============================] - 0s 62ms/step - loss: 7.6280e-18 - acc: 1.0000 - val_loss: 4.0773e-18 - val_acc: 1.0000\n",
            "Epoch 297/300\n",
            "2/2 [==============================] - 0s 72ms/step - loss: 7.6280e-18 - acc: 1.0000 - val_loss: 4.0773e-18 - val_acc: 1.0000\n",
            "Epoch 298/300\n",
            "2/2 [==============================] - 0s 91ms/step - loss: 7.6280e-18 - acc: 1.0000 - val_loss: 4.0773e-18 - val_acc: 1.0000\n",
            "Epoch 299/300\n",
            "2/2 [==============================] - 0s 72ms/step - loss: 7.6280e-18 - acc: 1.0000 - val_loss: 4.0773e-18 - val_acc: 1.0000\n",
            "Epoch 300/300\n",
            "2/2 [==============================] - 0s 60ms/step - loss: 7.6280e-18 - acc: 1.0000 - val_loss: 4.0773e-18 - val_acc: 1.0000\n"
          ]
        }
      ]
    },
    {
      "cell_type": "code",
      "source": [
        "plt.figure(figsize=(15,5))\n",
        "\n",
        "plt.plot(h.history['acc'], label='acc')\n",
        "plt.plot(h.history['val_acc'], label='val_acc')\n",
        "\n",
        "plt.legend()\n",
        "plt.show()"
      ],
      "metadata": {
        "colab": {
          "base_uri": "https://localhost:8080/",
          "height": 259
        },
        "id": "Cu5EnAjPnxmC",
        "outputId": "088baeb1-5478-4d24-8fc2-ad55990d80d7"
      },
      "execution_count": null,
      "outputs": [
        {
          "output_type": "display_data",
          "data": {
            "text/plain": [
              "<Figure size 1500x500 with 1 Axes>"
            ],
            "image/png": "[encoded data removed]"
          },
          "metadata": {}
        }
      ]
    },
    {
      "cell_type": "code",
      "source": [
        "model.evaluate(X_test, y_test)"
      ],
      "metadata": {
        "colab": {
          "base_uri": "https://localhost:8080/"
        },
        "id": "pzwY7uhNt18y",
        "outputId": "b2aa0175-7219-4aaf-a85f-c89b74201ccd"
      },
      "execution_count": null,
      "outputs": [
        {
          "output_type": "stream",
          "name": "stdout",
          "text": [
            "3/3 [==============================] - 0s 11ms/step - loss: 2.1223e-18 - acc: 1.0000\n"
          ]
        },
        {
          "output_type": "execute_result",
          "data": {
            "text/plain": [
              "[2.122268966691323e-18, 1.0]"
            ]
          },
          "metadata": {},
          "execution_count": 76
        }
      ]
    },
    {
      "cell_type": "markdown",
      "source": [
        "### 왜 100퍼센트가 나올 수 있었을까? ->  학습과 검증에 사용한 데이터 자체가 고정된 각도에서 큰 변동이 없는 상태로 찍혀진 사진이었기 때문에 기계 입장에서는 쉽게 인식이되고 분류할 수 있었던 문제였음!"
      ],
      "metadata": {
        "id": "VALN_Gw-vnAx"
      }
    }
  ]
}