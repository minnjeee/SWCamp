{
  "nbformat": 4,
  "nbformat_minor": 0,
  "metadata": {
    "colab": {
      "provenance": [],
      "mount_file_id": "1k0zPNw4JOI4QBD24-YprX9pF5LEm3NiU",
      "authorship_tag": "ABX9TyPrfvE/3zACiNBUDUXfBPwv",
      "include_colab_link": true
    },
    "kernelspec": {
      "name": "python3",
      "display_name": "Python 3"
    },
    "language_info": {
      "name": "python"
    }
  },
  "cells": [
    {
      "cell_type": "markdown",
      "metadata": {
        "id": "view-in-github",
        "colab_type": "text"
      },
      "source": [
        "<a href=\"https://colab.research.google.com/github/minnjeee/SWcamp/blob/main/12_%EB%94%A5%EB%9F%AC%EB%8B%9D/ex02)_%EB%94%A5%EB%9F%AC%EB%8B%9D_%EB%A7%9B%EB%B3%B4%EA%B8%B0_%EC%9C%A0%EB%B0%A9%EC%95%94_%EB%8D%B0%EC%9D%B4%ED%84%B0_2%EC%A7%84%EB%B6%84%EB%A5%98.ipynb\" target=\"_parent\"><img src=\"https://colab.research.google.com/assets/colab-badge.svg\" alt=\"Open In Colab\"/></a>"
      ]
    },
    {
      "cell_type": "markdown",
      "source": [
        "# 목표\n",
        "- 환자 데이터를 바탕으로 해당 환자가 유방암인지 아닌지를 구분하는 신경망 모델을 만들어보자!"
      ],
      "metadata": {
        "id": "ibDSTl-cJiKS"
      }
    },
    {
      "cell_type": "code",
      "source": [
        "import numpy as np\n",
        "import pandas as pd\n",
        "import matplotlib.pyplot as plt\n",
        "\n",
        "# sklearn에서 지원해주는 학습용 유방암 데이터셋 임포트\n",
        "from sklearn.datasets import load_breast_cancer"
      ],
      "metadata": {
        "id": "TiJ12GDnJq8q"
      },
      "execution_count": null,
      "outputs": []
    },
    {
      "cell_type": "code",
      "source": [
        "data = load_breast_cancer()"
      ],
      "metadata": {
        "id": "DYwUIyHgK-n9"
      },
      "execution_count": null,
      "outputs": []
    },
    {
      "cell_type": "code",
      "source": [
        "data"
      ],
      "metadata": {
        "colab": {
          "base_uri": "https://localhost:8080/"
        },
        "id": "a8Da9RM2MDom",
        "outputId": "bb7acf6b-6ab6-469b-9ab9-fcda245e53f5"
      },
      "execution_count": null,
      "outputs": [
        {
          "output_type": "execute_result",
          "data": {
            "text/plain": [
              "{'data': array([[1.799e+01, 1.038e+01, 1.228e+02, ..., 2.654e-01, 4.601e-01,\n",
              "         1.189e-01],\n",
              "        [2.057e+01, 1.777e+01, 1.329e+02, ..., 1.860e-01, 2.750e-01,\n",
              "         8.902e-02],\n",
              "        [1.969e+01, 2.125e+01, 1.300e+02, ..., 2.430e-01, 3.613e-01,\n",
              "         8.758e-02],\n",
              "        ...,\n",
              "        [1.660e+01, 2.808e+01, 1.083e+02, ..., 1.418e-01, 2.218e-01,\n",
              "         7.820e-02],\n",
              "        [2.060e+01, 2.933e+01, 1.401e+02, ..., 2.650e-01, 4.087e-01,\n",
              "         1.240e-01],\n",
              "        [7.760e+00, 2.454e+01, 4.792e+01, ..., 0.000e+00, 2.871e-01,\n",
              "         7.039e-02]]),\n",
              " 'target': array([0, 0, 0, 0, 0, 0, 0, 0, 0, 0, 0, 0, 0, 0, 0, 0, 0, 0, 0, 1, 1, 1,\n",
              "        0, 0, 0, 0, 0, 0, 0, 0, 0, 0, 0, 0, 0, 0, 0, 1, 0, 0, 0, 0, 0, 0,\n",
              "        0, 0, 1, 0, 1, 1, 1, 1, 1, 0, 0, 1, 0, 0, 1, 1, 1, 1, 0, 1, 0, 0,\n",
              "        1, 1, 1, 1, 0, 1, 0, 0, 1, 0, 1, 0, 0, 1, 1, 1, 0, 0, 1, 0, 0, 0,\n",
              "        1, 1, 1, 0, 1, 1, 0, 0, 1, 1, 1, 0, 0, 1, 1, 1, 1, 0, 1, 1, 0, 1,\n",
              "        1, 1, 1, 1, 1, 1, 1, 0, 0, 0, 1, 0, 0, 1, 1, 1, 0, 0, 1, 0, 1, 0,\n",
              "        0, 1, 0, 0, 1, 1, 0, 1, 1, 0, 1, 1, 1, 1, 0, 1, 1, 1, 1, 1, 1, 1,\n",
              "        1, 1, 0, 1, 1, 1, 1, 0, 0, 1, 0, 1, 1, 0, 0, 1, 1, 0, 0, 1, 1, 1,\n",
              "        1, 0, 1, 1, 0, 0, 0, 1, 0, 1, 0, 1, 1, 1, 0, 1, 1, 0, 0, 1, 0, 0,\n",
              "        0, 0, 1, 0, 0, 0, 1, 0, 1, 0, 1, 1, 0, 1, 0, 0, 0, 0, 1, 1, 0, 0,\n",
              "        1, 1, 1, 0, 1, 1, 1, 1, 1, 0, 0, 1, 1, 0, 1, 1, 0, 0, 1, 0, 1, 1,\n",
              "        1, 1, 0, 1, 1, 1, 1, 1, 0, 1, 0, 0, 0, 0, 0, 0, 0, 0, 0, 0, 0, 0,\n",
              "        0, 0, 1, 1, 1, 1, 1, 1, 0, 1, 0, 1, 1, 0, 1, 1, 0, 1, 0, 0, 1, 1,\n",
              "        1, 1, 1, 1, 1, 1, 1, 1, 1, 1, 1, 0, 1, 1, 0, 1, 0, 1, 1, 1, 1, 1,\n",
              "        1, 1, 1, 1, 1, 1, 1, 1, 1, 0, 1, 1, 1, 0, 1, 0, 1, 1, 1, 1, 0, 0,\n",
              "        0, 1, 1, 1, 1, 0, 1, 0, 1, 0, 1, 1, 1, 0, 1, 1, 1, 1, 1, 1, 1, 0,\n",
              "        0, 0, 1, 1, 1, 1, 1, 1, 1, 1, 1, 1, 1, 0, 0, 1, 0, 0, 0, 1, 0, 0,\n",
              "        1, 1, 1, 1, 1, 0, 1, 1, 1, 1, 1, 0, 1, 1, 1, 0, 1, 1, 0, 0, 1, 1,\n",
              "        1, 1, 1, 1, 0, 1, 1, 1, 1, 1, 1, 1, 0, 1, 1, 1, 1, 1, 0, 1, 1, 0,\n",
              "        1, 1, 1, 1, 1, 1, 1, 1, 1, 1, 1, 1, 0, 1, 0, 0, 1, 0, 1, 1, 1, 1,\n",
              "        1, 0, 1, 1, 0, 1, 0, 1, 1, 0, 1, 0, 1, 1, 1, 1, 1, 1, 1, 1, 0, 0,\n",
              "        1, 1, 1, 1, 1, 1, 0, 1, 1, 1, 1, 1, 1, 1, 1, 1, 1, 0, 1, 1, 1, 1,\n",
              "        1, 1, 1, 0, 1, 0, 1, 1, 0, 1, 1, 1, 1, 1, 0, 0, 1, 0, 1, 0, 1, 1,\n",
              "        1, 1, 1, 0, 1, 1, 0, 1, 0, 1, 0, 0, 1, 1, 1, 0, 1, 1, 1, 1, 1, 1,\n",
              "        1, 1, 1, 1, 1, 0, 1, 0, 0, 1, 1, 1, 1, 1, 1, 1, 1, 1, 1, 1, 1, 1,\n",
              "        1, 1, 1, 1, 1, 1, 1, 1, 1, 1, 1, 1, 0, 0, 0, 0, 0, 0, 1]),\n",
              " 'frame': None,\n",
              " 'target_names': array(['malignant', 'benign'], dtype='<U9'),\n",
              " 'DESCR': '.. _breast_cancer_dataset:\\n\\nBreast cancer wisconsin (diagnostic) dataset\\n--------------------------------------------\\n\\n**Data Set Characteristics:**\\n\\n    :Number of Instances: 569\\n\\n    :Number of Attributes: 30 numeric, predictive attributes and the class\\n\\n    :Attribute Information:\\n        - radius (mean of distances from center to points on the perimeter)\\n        - texture (standard deviation of gray-scale values)\\n        - perimeter\\n        - area\\n        - smoothness (local variation in radius lengths)\\n        - compactness (perimeter^2 / area - 1.0)\\n        - concavity (severity of concave portions of the contour)\\n        - concave points (number of concave portions of the contour)\\n        - symmetry\\n        - fractal dimension (\"coastline approximation\" - 1)\\n\\n        The mean, standard error, and \"worst\" or largest (mean of the three\\n        worst/largest values) of these features were computed for each image,\\n        resulting in 30 features.  For instance, field 0 is Mean Radius, field\\n        10 is Radius SE, field 20 is Worst Radius.\\n\\n        - class:\\n                - WDBC-Malignant\\n                - WDBC-Benign\\n\\n    :Summary Statistics:\\n\\n    ===================================== ====== ======\\n                                           Min    Max\\n    ===================================== ====== ======\\n    radius (mean):                        6.981  28.11\\n    texture (mean):                       9.71   39.28\\n    perimeter (mean):                     43.79  188.5\\n    area (mean):                          143.5  2501.0\\n    smoothness (mean):                    0.053  0.163\\n    compactness (mean):                   0.019  0.345\\n    concavity (mean):                     0.0    0.427\\n    concave points (mean):                0.0    0.201\\n    symmetry (mean):                      0.106  0.304\\n    fractal dimension (mean):             0.05   0.097\\n    radius (standard error):              0.112  2.873\\n    texture (standard error):             0.36   4.885\\n    perimeter (standard error):           0.757  21.98\\n    area (standard error):                6.802  542.2\\n    smoothness (standard error):          0.002  0.031\\n    compactness (standard error):         0.002  0.135\\n    concavity (standard error):           0.0    0.396\\n    concave points (standard error):      0.0    0.053\\n    symmetry (standard error):            0.008  0.079\\n    fractal dimension (standard error):   0.001  0.03\\n    radius (worst):                       7.93   36.04\\n    texture (worst):                      12.02  49.54\\n    perimeter (worst):                    50.41  251.2\\n    area (worst):                         185.2  4254.0\\n    smoothness (worst):                   0.071  0.223\\n    compactness (worst):                  0.027  1.058\\n    concavity (worst):                    0.0    1.252\\n    concave points (worst):               0.0    0.291\\n    symmetry (worst):                     0.156  0.664\\n    fractal dimension (worst):            0.055  0.208\\n    ===================================== ====== ======\\n\\n    :Missing Attribute Values: None\\n\\n    :Class Distribution: 212 - Malignant, 357 - Benign\\n\\n    :Creator:  Dr. William H. Wolberg, W. Nick Street, Olvi L. Mangasarian\\n\\n    :Donor: Nick Street\\n\\n    :Date: November, 1995\\n\\nThis is a copy of UCI ML Breast Cancer Wisconsin (Diagnostic) datasets.\\nhttps://goo.gl/U2Uwz2\\n\\nFeatures are computed from a digitized image of a fine needle\\naspirate (FNA) of a breast mass.  They describe\\ncharacteristics of the cell nuclei present in the image.\\n\\nSeparating plane described above was obtained using\\nMultisurface Method-Tree (MSM-T) [K. P. Bennett, \"Decision Tree\\nConstruction Via Linear Programming.\" Proceedings of the 4th\\nMidwest Artificial Intelligence and Cognitive Science Society,\\npp. 97-101, 1992], a classification method which uses linear\\nprogramming to construct a decision tree.  Relevant features\\nwere selected using an exhaustive search in the space of 1-4\\nfeatures and 1-3 separating planes.\\n\\nThe actual linear program used to obtain the separating plane\\nin the 3-dimensional space is that described in:\\n[K. P. Bennett and O. L. Mangasarian: \"Robust Linear\\nProgramming Discrimination of Two Linearly Inseparable Sets\",\\nOptimization Methods and Software 1, 1992, 23-34].\\n\\nThis database is also available through the UW CS ftp server:\\n\\nftp ftp.cs.wisc.edu\\ncd math-prog/cpo-dataset/machine-learn/WDBC/\\n\\n.. topic:: References\\n\\n   - W.N. Street, W.H. Wolberg and O.L. Mangasarian. Nuclear feature extraction \\n     for breast tumor diagnosis. IS&T/SPIE 1993 International Symposium on \\n     Electronic Imaging: Science and Technology, volume 1905, pages 861-870,\\n     San Jose, CA, 1993.\\n   - O.L. Mangasarian, W.N. Street and W.H. Wolberg. Breast cancer diagnosis and \\n     prognosis via linear programming. Operations Research, 43(4), pages 570-577, \\n     July-August 1995.\\n   - W.H. Wolberg, W.N. Street, and O.L. Mangasarian. Machine learning techniques\\n     to diagnose breast cancer from fine-needle aspirates. Cancer Letters 77 (1994) \\n     163-171.',\n",
              " 'feature_names': array(['mean radius', 'mean texture', 'mean perimeter', 'mean area',\n",
              "        'mean smoothness', 'mean compactness', 'mean concavity',\n",
              "        'mean concave points', 'mean symmetry', 'mean fractal dimension',\n",
              "        'radius error', 'texture error', 'perimeter error', 'area error',\n",
              "        'smoothness error', 'compactness error', 'concavity error',\n",
              "        'concave points error', 'symmetry error',\n",
              "        'fractal dimension error', 'worst radius', 'worst texture',\n",
              "        'worst perimeter', 'worst area', 'worst smoothness',\n",
              "        'worst compactness', 'worst concavity', 'worst concave points',\n",
              "        'worst symmetry', 'worst fractal dimension'], dtype='<U23'),\n",
              " 'filename': 'breast_cancer.csv',\n",
              " 'data_module': 'sklearn.datasets.data'}"
            ]
          },
          "metadata": {},
          "execution_count": 6
        }
      ]
    },
    {
      "cell_type": "code",
      "source": [
        "data.keys()"
      ],
      "metadata": {
        "colab": {
          "base_uri": "https://localhost:8080/"
        },
        "id": "o3YXOnad9T67",
        "outputId": "b3ee9a29-949d-4312-985e-9b4c430a28f5"
      },
      "execution_count": null,
      "outputs": [
        {
          "output_type": "execute_result",
          "data": {
            "text/plain": [
              "dict_keys(['data', 'target', 'frame', 'target_names', 'DESCR', 'feature_names', 'filename', 'data_module'])"
            ]
          },
          "metadata": {},
          "execution_count": 7
        }
      ]
    },
    {
      "cell_type": "markdown",
      "source": [
        "- 문제, 정답 분리"
      ],
      "metadata": {
        "id": "x4ovZAHfMg86"
      }
    },
    {
      "cell_type": "code",
      "source": [
        "X = data['data']\n",
        "y = data['target']"
      ],
      "metadata": {
        "id": "tUH_VmRaMEU6"
      },
      "execution_count": null,
      "outputs": []
    },
    {
      "cell_type": "code",
      "source": [
        "X.shape, y.shape"
      ],
      "metadata": {
        "colab": {
          "base_uri": "https://localhost:8080/"
        },
        "id": "KMaC5cSVMmfO",
        "outputId": "f47502f5-c17a-4f0a-fe1c-9bb229d95fc0"
      },
      "execution_count": null,
      "outputs": [
        {
          "output_type": "execute_result",
          "data": {
            "text/plain": [
              "((569, 30), (569,))"
            ]
          },
          "metadata": {},
          "execution_count": 9
        }
      ]
    },
    {
      "cell_type": "markdown",
      "source": [
        "- 학습, 평가 데이터 분리"
      ],
      "metadata": {
        "id": "3SQY08FENqGV"
      }
    },
    {
      "cell_type": "code",
      "source": [
        "from sklearn.model_selection import train_test_split"
      ],
      "metadata": {
        "id": "I9BFlVDRM59s"
      },
      "execution_count": null,
      "outputs": []
    },
    {
      "cell_type": "code",
      "source": [
        "X_train, X_test, y_train, y_test = train_test_split(X, y, random_state=100)"
      ],
      "metadata": {
        "id": "4PfGvbWzNd6e"
      },
      "execution_count": null,
      "outputs": []
    },
    {
      "cell_type": "code",
      "source": [
        "X_train.shape, X_test.shape, y_train.shape, y_test.shape"
      ],
      "metadata": {
        "colab": {
          "base_uri": "https://localhost:8080/"
        },
        "id": "RMzQYObyNwXp",
        "outputId": "01801887-aa83-4ff5-9e9b-d56043b03d5e"
      },
      "execution_count": null,
      "outputs": [
        {
          "output_type": "execute_result",
          "data": {
            "text/plain": [
              "((426, 30), (143, 30), (426,), (143,))"
            ]
          },
          "metadata": {},
          "execution_count": 18
        }
      ]
    },
    {
      "cell_type": "markdown",
      "source": [
        "## 인공신경망 구성\n",
        "1. 신경망 구조 설계\n",
        "2. 학습 및 평가방법 설정\n",
        "3. 학습 + 시각화\n",
        "4. 모델 평가"
      ],
      "metadata": {
        "id": "0yiUqXklOfO3"
      }
    },
    {
      "cell_type": "code",
      "source": [
        "from tensorflow.keras import Sequential # 신경망의 뼈대를 구축하기 위한 함수\n",
        "from tensorflow.keras.layers import Dense # 신경망 층(뉴런의 묶음)을 구성해주는 함"
      ],
      "metadata": {
        "id": "fpyUMz7qN9lo"
      },
      "execution_count": null,
      "outputs": []
    },
    {
      "cell_type": "code",
      "source": [
        "# 1. 신경망 구조 설계\n",
        "# 신경망 뼈대 설정\n",
        "model = Sequential()\n",
        "\n",
        "# 입력+중간층 설정\n",
        "model.add(Dense(50, input_dim=30, activation='sigmoid'))\n",
        "\n",
        "# 중간층 추가 (층마다 활성화함수 다르게 가능)\n",
        "model.add(Dense(100, activation='sigmoid')) # 하나의 층\n",
        "model.add(Dense(50, activation='sigmoid')) # 하나의 층\n",
        "model.add(Dense(10, activation='sigmoid')) # 하나의 층\n",
        "\n",
        "# 출력층 설정 (출력층은 문제의 종류에 따라서 고정됨)\n",
        "# 2진분류 문제는 출력층 뉴런 개수 1개, 활성화함수는 sigmoid로 고정\n",
        "model.add(Dense(1, activation='sigmoid'))\n",
        "\n",
        "# 설계된 신경망의 정보를 요약해서 출력\n",
        "model.summary()"
      ],
      "metadata": {
        "colab": {
          "base_uri": "https://localhost:8080/"
        },
        "id": "RbUrmcbOPD2m",
        "outputId": "7ff4d766-ab15-4ac5-a0e4-9101be015d3e"
      },
      "execution_count": null,
      "outputs": [
        {
          "output_type": "stream",
          "name": "stdout",
          "text": [
            "Model: \"sequential_5\"\n",
            "_________________________________________________________________\n",
            " Layer (type)                Output Shape              Param #   \n",
            "=================================================================\n",
            " dense_22 (Dense)            (None, 50)                1550      \n",
            "                                                                 \n",
            " dense_23 (Dense)            (None, 100)               5100      \n",
            "                                                                 \n",
            " dense_24 (Dense)            (None, 50)                5050      \n",
            "                                                                 \n",
            " dense_25 (Dense)            (None, 10)                510       \n",
            "                                                                 \n",
            " dense_26 (Dense)            (None, 1)                 11        \n",
            "                                                                 \n",
            "=================================================================\n",
            "Total params: 12,221\n",
            "Trainable params: 12,221\n",
            "Non-trainable params: 0\n",
            "_________________________________________________________________\n"
          ]
        }
      ]
    },
    {
      "cell_type": "markdown",
      "source": [
        "## activation(활성화함수) - 자극에 대한 반응여부와 그 정도를 결정하는 함수\n",
        "1. 회귀 : linear(선형함수) -> 신경망에서 도출된 수치값을 그대로 예측에 사용\n",
        "(신경망은 회귀모델을 기반으로 동착하기 때문)\n",
        "2. 분류 : 인공신경망은 선형회귀 모델을 기반으로 하고 있기 때문에 여기서 도출된 수치값으로는 분류 문제를 풀기 힘듦\n",
        "  - 이진분류 : sigmoid함수를 통해서 최종적으로 0 or 1로 분류를 해낼 수 있음"
      ],
      "metadata": {
        "id": "VP0ORkb_5Tk0"
      }
    },
    {
      "cell_type": "code",
      "source": [
        "# 2. 신경망 학습 및 평가방법 설정\n",
        "# 손실함수(비용함수), 최적화함수, 평가방법 설정\n",
        "model.compile(loss='binary_crossentropy', optimizer='Adam', metrics=['acc'])"
      ],
      "metadata": {
        "id": "CC9OvgBTUusT"
      },
      "execution_count": null,
      "outputs": []
    },
    {
      "cell_type": "code",
      "source": [
        "# 3. 학습 및 시각화\n",
        "h = model.fit(X_train, y_train, epochs=200)"
      ],
      "metadata": {
        "colab": {
          "base_uri": "https://localhost:8080/"
        },
        "id": "QdvZcr7zXiod",
        "outputId": "17e834b6-e9ac-4a5e-cf04-879be8044fa1"
      },
      "execution_count": null,
      "outputs": [
        {
          "output_type": "stream",
          "name": "stdout",
          "text": [
            "Epoch 1/200\n",
            "14/14 [==============================] - 1s 2ms/step - loss: 0.7285 - acc: 0.4202\n",
            "Epoch 2/200\n",
            "14/14 [==============================] - 0s 2ms/step - loss: 0.6562 - acc: 0.6338\n",
            "Epoch 3/200\n",
            "14/14 [==============================] - 0s 2ms/step - loss: 0.6498 - acc: 0.6338\n",
            "Epoch 4/200\n",
            "14/14 [==============================] - 0s 2ms/step - loss: 0.6455 - acc: 0.6338\n",
            "Epoch 5/200\n",
            "14/14 [==============================] - 0s 2ms/step - loss: 0.6385 - acc: 0.6338\n",
            "Epoch 6/200\n",
            "14/14 [==============================] - 0s 2ms/step - loss: 0.6304 - acc: 0.6338\n",
            "Epoch 7/200\n",
            "14/14 [==============================] - 0s 2ms/step - loss: 0.6192 - acc: 0.6338\n",
            "Epoch 8/200\n",
            "14/14 [==============================] - 0s 2ms/step - loss: 0.5990 - acc: 0.6338\n",
            "Epoch 9/200\n",
            "14/14 [==============================] - 0s 2ms/step - loss: 0.5669 - acc: 0.6831\n",
            "Epoch 10/200\n",
            "14/14 [==============================] - 0s 2ms/step - loss: 0.5262 - acc: 0.8944\n",
            "Epoch 11/200\n",
            "14/14 [==============================] - 0s 2ms/step - loss: 0.4759 - acc: 0.8991\n",
            "Epoch 12/200\n",
            "14/14 [==============================] - 0s 2ms/step - loss: 0.4270 - acc: 0.8991\n",
            "Epoch 13/200\n",
            "14/14 [==============================] - 0s 2ms/step - loss: 0.3858 - acc: 0.8991\n",
            "Epoch 14/200\n",
            "14/14 [==============================] - 0s 2ms/step - loss: 0.3604 - acc: 0.8967\n",
            "Epoch 15/200\n",
            "14/14 [==============================] - 0s 2ms/step - loss: 0.3444 - acc: 0.9038\n",
            "Epoch 16/200\n",
            "14/14 [==============================] - 0s 2ms/step - loss: 0.3316 - acc: 0.8991\n",
            "Epoch 17/200\n",
            "14/14 [==============================] - 0s 1ms/step - loss: 0.3283 - acc: 0.8920\n",
            "Epoch 18/200\n",
            "14/14 [==============================] - 0s 1ms/step - loss: 0.3101 - acc: 0.9061\n",
            "Epoch 19/200\n",
            "14/14 [==============================] - 0s 1ms/step - loss: 0.3312 - acc: 0.8803\n",
            "Epoch 20/200\n",
            "14/14 [==============================] - 0s 2ms/step - loss: 0.3050 - acc: 0.9014\n",
            "Epoch 21/200\n",
            "14/14 [==============================] - 0s 1ms/step - loss: 0.3002 - acc: 0.9061\n",
            "Epoch 22/200\n",
            "14/14 [==============================] - 0s 1ms/step - loss: 0.2956 - acc: 0.9061\n",
            "Epoch 23/200\n",
            "14/14 [==============================] - 0s 2ms/step - loss: 0.2980 - acc: 0.8991\n",
            "Epoch 24/200\n",
            "14/14 [==============================] - 0s 1ms/step - loss: 0.2754 - acc: 0.9061\n",
            "Epoch 25/200\n",
            "14/14 [==============================] - 0s 2ms/step - loss: 0.2820 - acc: 0.9038\n",
            "Epoch 26/200\n",
            "14/14 [==============================] - 0s 1ms/step - loss: 0.2670 - acc: 0.9085\n",
            "Epoch 27/200\n",
            "14/14 [==============================] - 0s 2ms/step - loss: 0.2608 - acc: 0.9085\n",
            "Epoch 28/200\n",
            "14/14 [==============================] - 0s 1ms/step - loss: 0.2425 - acc: 0.9272\n",
            "Epoch 29/200\n",
            "14/14 [==============================] - 0s 1ms/step - loss: 0.2502 - acc: 0.9178\n",
            "Epoch 30/200\n",
            "14/14 [==============================] - 0s 1ms/step - loss: 0.2352 - acc: 0.9319\n",
            "Epoch 31/200\n",
            "14/14 [==============================] - 0s 2ms/step - loss: 0.2548 - acc: 0.9108\n",
            "Epoch 32/200\n",
            "14/14 [==============================] - 0s 2ms/step - loss: 0.2584 - acc: 0.9155\n",
            "Epoch 33/200\n",
            "14/14 [==============================] - 0s 2ms/step - loss: 0.2422 - acc: 0.9202\n",
            "Epoch 34/200\n",
            "14/14 [==============================] - 0s 2ms/step - loss: 0.2449 - acc: 0.9108\n",
            "Epoch 35/200\n",
            "14/14 [==============================] - 0s 2ms/step - loss: 0.2527 - acc: 0.9085\n",
            "Epoch 36/200\n",
            "14/14 [==============================] - 0s 2ms/step - loss: 0.2296 - acc: 0.9296\n",
            "Epoch 37/200\n",
            "14/14 [==============================] - 0s 2ms/step - loss: 0.2259 - acc: 0.9343\n",
            "Epoch 38/200\n",
            "14/14 [==============================] - 0s 1ms/step - loss: 0.2363 - acc: 0.9178\n",
            "Epoch 39/200\n",
            "14/14 [==============================] - 0s 1ms/step - loss: 0.2307 - acc: 0.9249\n",
            "Epoch 40/200\n",
            "14/14 [==============================] - 0s 1ms/step - loss: 0.2159 - acc: 0.9202\n",
            "Epoch 41/200\n",
            "14/14 [==============================] - 0s 2ms/step - loss: 0.2191 - acc: 0.9249\n",
            "Epoch 42/200\n",
            "14/14 [==============================] - 0s 1ms/step - loss: 0.2297 - acc: 0.9155\n",
            "Epoch 43/200\n",
            "14/14 [==============================] - 0s 2ms/step - loss: 0.2171 - acc: 0.9249\n",
            "Epoch 44/200\n",
            "14/14 [==============================] - 0s 2ms/step - loss: 0.2177 - acc: 0.9249\n",
            "Epoch 45/200\n",
            "14/14 [==============================] - 0s 1ms/step - loss: 0.2155 - acc: 0.9178\n",
            "Epoch 46/200\n",
            "14/14 [==============================] - 0s 2ms/step - loss: 0.2272 - acc: 0.9131\n",
            "Epoch 47/200\n",
            "14/14 [==============================] - 0s 2ms/step - loss: 0.2277 - acc: 0.9225\n",
            "Epoch 48/200\n",
            "14/14 [==============================] - 0s 2ms/step - loss: 0.2322 - acc: 0.9202\n",
            "Epoch 49/200\n",
            "14/14 [==============================] - 0s 2ms/step - loss: 0.2380 - acc: 0.9202\n",
            "Epoch 50/200\n",
            "14/14 [==============================] - 0s 1ms/step - loss: 0.2547 - acc: 0.9108\n",
            "Epoch 51/200\n",
            "14/14 [==============================] - 0s 1ms/step - loss: 0.2423 - acc: 0.9202\n",
            "Epoch 52/200\n",
            "14/14 [==============================] - 0s 2ms/step - loss: 0.2213 - acc: 0.9272\n",
            "Epoch 53/200\n",
            "14/14 [==============================] - 0s 1ms/step - loss: 0.2115 - acc: 0.9225\n",
            "Epoch 54/200\n",
            "14/14 [==============================] - 0s 2ms/step - loss: 0.2305 - acc: 0.9155\n",
            "Epoch 55/200\n",
            "14/14 [==============================] - 0s 1ms/step - loss: 0.2561 - acc: 0.9155\n",
            "Epoch 56/200\n",
            "14/14 [==============================] - 0s 2ms/step - loss: 0.2224 - acc: 0.9202\n",
            "Epoch 57/200\n",
            "14/14 [==============================] - 0s 2ms/step - loss: 0.2658 - acc: 0.8920\n",
            "Epoch 58/200\n",
            "14/14 [==============================] - 0s 2ms/step - loss: 0.2361 - acc: 0.9155\n",
            "Epoch 59/200\n",
            "14/14 [==============================] - 0s 2ms/step - loss: 0.2153 - acc: 0.9343\n",
            "Epoch 60/200\n",
            "14/14 [==============================] - 0s 2ms/step - loss: 0.2278 - acc: 0.9249\n",
            "Epoch 61/200\n",
            "14/14 [==============================] - 0s 2ms/step - loss: 0.2131 - acc: 0.9272\n",
            "Epoch 62/200\n",
            "14/14 [==============================] - 0s 2ms/step - loss: 0.2223 - acc: 0.9249\n",
            "Epoch 63/200\n",
            "14/14 [==============================] - 0s 2ms/step - loss: 0.2114 - acc: 0.9319\n",
            "Epoch 64/200\n",
            "14/14 [==============================] - 0s 2ms/step - loss: 0.2093 - acc: 0.9249\n",
            "Epoch 65/200\n",
            "14/14 [==============================] - 0s 2ms/step - loss: 0.2119 - acc: 0.9272\n",
            "Epoch 66/200\n",
            "14/14 [==============================] - 0s 2ms/step - loss: 0.2099 - acc: 0.9272\n",
            "Epoch 67/200\n",
            "14/14 [==============================] - 0s 2ms/step - loss: 0.2106 - acc: 0.9225\n",
            "Epoch 68/200\n",
            "14/14 [==============================] - 0s 2ms/step - loss: 0.2115 - acc: 0.9296\n",
            "Epoch 69/200\n",
            "14/14 [==============================] - 0s 2ms/step - loss: 0.2283 - acc: 0.9178\n",
            "Epoch 70/200\n",
            "14/14 [==============================] - 0s 2ms/step - loss: 0.2114 - acc: 0.9202\n",
            "Epoch 71/200\n",
            "14/14 [==============================] - 0s 2ms/step - loss: 0.2121 - acc: 0.9272\n",
            "Epoch 72/200\n",
            "14/14 [==============================] - 0s 2ms/step - loss: 0.2110 - acc: 0.9296\n",
            "Epoch 73/200\n",
            "14/14 [==============================] - 0s 2ms/step - loss: 0.2082 - acc: 0.9272\n",
            "Epoch 74/200\n",
            "14/14 [==============================] - 0s 2ms/step - loss: 0.2118 - acc: 0.9202\n",
            "Epoch 75/200\n",
            "14/14 [==============================] - 0s 2ms/step - loss: 0.1972 - acc: 0.9202\n",
            "Epoch 76/200\n",
            "14/14 [==============================] - 0s 2ms/step - loss: 0.2123 - acc: 0.9202\n",
            "Epoch 77/200\n",
            "14/14 [==============================] - 0s 2ms/step - loss: 0.2231 - acc: 0.9131\n",
            "Epoch 78/200\n",
            "14/14 [==============================] - 0s 2ms/step - loss: 0.2340 - acc: 0.9085\n",
            "Epoch 79/200\n",
            "14/14 [==============================] - 0s 2ms/step - loss: 0.2176 - acc: 0.9225\n",
            "Epoch 80/200\n",
            "14/14 [==============================] - 0s 2ms/step - loss: 0.2457 - acc: 0.9108\n",
            "Epoch 81/200\n",
            "14/14 [==============================] - 0s 2ms/step - loss: 0.2212 - acc: 0.9202\n",
            "Epoch 82/200\n",
            "14/14 [==============================] - 0s 2ms/step - loss: 0.2057 - acc: 0.9225\n",
            "Epoch 83/200\n",
            "14/14 [==============================] - 0s 2ms/step - loss: 0.2510 - acc: 0.9014\n",
            "Epoch 84/200\n",
            "14/14 [==============================] - 0s 2ms/step - loss: 0.2142 - acc: 0.9178\n",
            "Epoch 85/200\n",
            "14/14 [==============================] - 0s 2ms/step - loss: 0.2147 - acc: 0.9225\n",
            "Epoch 86/200\n",
            "14/14 [==============================] - 0s 2ms/step - loss: 0.1991 - acc: 0.9319\n",
            "Epoch 87/200\n",
            "14/14 [==============================] - 0s 1ms/step - loss: 0.2112 - acc: 0.9178\n",
            "Epoch 88/200\n",
            "14/14 [==============================] - 0s 1ms/step - loss: 0.2144 - acc: 0.9178\n",
            "Epoch 89/200\n",
            "14/14 [==============================] - 0s 1ms/step - loss: 0.2095 - acc: 0.9272\n",
            "Epoch 90/200\n",
            "14/14 [==============================] - 0s 1ms/step - loss: 0.2057 - acc: 0.9272\n",
            "Epoch 91/200\n",
            "14/14 [==============================] - 0s 1ms/step - loss: 0.1916 - acc: 0.9155\n",
            "Epoch 92/200\n",
            "14/14 [==============================] - 0s 2ms/step - loss: 0.1948 - acc: 0.9249\n",
            "Epoch 93/200\n",
            "14/14 [==============================] - 0s 2ms/step - loss: 0.2150 - acc: 0.9155\n",
            "Epoch 94/200\n",
            "14/14 [==============================] - 0s 1ms/step - loss: 0.2053 - acc: 0.9202\n",
            "Epoch 95/200\n",
            "14/14 [==============================] - 0s 1ms/step - loss: 0.2034 - acc: 0.9085\n",
            "Epoch 96/200\n",
            "14/14 [==============================] - 0s 1ms/step - loss: 0.1974 - acc: 0.9202\n",
            "Epoch 97/200\n",
            "14/14 [==============================] - 0s 1ms/step - loss: 0.2081 - acc: 0.9202\n",
            "Epoch 98/200\n",
            "14/14 [==============================] - 0s 1ms/step - loss: 0.2086 - acc: 0.9202\n",
            "Epoch 99/200\n",
            "14/14 [==============================] - 0s 1ms/step - loss: 0.2127 - acc: 0.9085\n",
            "Epoch 100/200\n",
            "14/14 [==============================] - 0s 1ms/step - loss: 0.2045 - acc: 0.9225\n",
            "Epoch 101/200\n",
            "14/14 [==============================] - 0s 2ms/step - loss: 0.2110 - acc: 0.9131\n",
            "Epoch 102/200\n",
            "14/14 [==============================] - 0s 1ms/step - loss: 0.2014 - acc: 0.9296\n",
            "Epoch 103/200\n",
            "14/14 [==============================] - 0s 2ms/step - loss: 0.2114 - acc: 0.9249\n",
            "Epoch 104/200\n",
            "14/14 [==============================] - 0s 2ms/step - loss: 0.2107 - acc: 0.9202\n",
            "Epoch 105/200\n",
            "14/14 [==============================] - 0s 2ms/step - loss: 0.1973 - acc: 0.9202\n",
            "Epoch 106/200\n",
            "14/14 [==============================] - 0s 1ms/step - loss: 0.1946 - acc: 0.9202\n",
            "Epoch 107/200\n",
            "14/14 [==============================] - 0s 1ms/step - loss: 0.1926 - acc: 0.9296\n",
            "Epoch 108/200\n",
            "14/14 [==============================] - 0s 1ms/step - loss: 0.1839 - acc: 0.9366\n",
            "Epoch 109/200\n",
            "14/14 [==============================] - 0s 2ms/step - loss: 0.2230 - acc: 0.9225\n",
            "Epoch 110/200\n",
            "14/14 [==============================] - 0s 2ms/step - loss: 0.2009 - acc: 0.9202\n",
            "Epoch 111/200\n",
            "14/14 [==============================] - 0s 1ms/step - loss: 0.2011 - acc: 0.9178\n",
            "Epoch 112/200\n",
            "14/14 [==============================] - 0s 2ms/step - loss: 0.2173 - acc: 0.9108\n",
            "Epoch 113/200\n",
            "14/14 [==============================] - 0s 2ms/step - loss: 0.1987 - acc: 0.9202\n",
            "Epoch 114/200\n",
            "14/14 [==============================] - 0s 2ms/step - loss: 0.2038 - acc: 0.9272\n",
            "Epoch 115/200\n",
            "14/14 [==============================] - 0s 2ms/step - loss: 0.2002 - acc: 0.9249\n",
            "Epoch 116/200\n",
            "14/14 [==============================] - 0s 2ms/step - loss: 0.2080 - acc: 0.9131\n",
            "Epoch 117/200\n",
            "14/14 [==============================] - 0s 2ms/step - loss: 0.2185 - acc: 0.9131\n",
            "Epoch 118/200\n",
            "14/14 [==============================] - 0s 2ms/step - loss: 0.2072 - acc: 0.9108\n",
            "Epoch 119/200\n",
            "14/14 [==============================] - 0s 2ms/step - loss: 0.2031 - acc: 0.9155\n",
            "Epoch 120/200\n",
            "14/14 [==============================] - 0s 2ms/step - loss: 0.1973 - acc: 0.9202\n",
            "Epoch 121/200\n",
            "14/14 [==============================] - 0s 2ms/step - loss: 0.1919 - acc: 0.9202\n",
            "Epoch 122/200\n",
            "14/14 [==============================] - 0s 2ms/step - loss: 0.1995 - acc: 0.9225\n",
            "Epoch 123/200\n",
            "14/14 [==============================] - 0s 2ms/step - loss: 0.1980 - acc: 0.9319\n",
            "Epoch 124/200\n",
            "14/14 [==============================] - 0s 1ms/step - loss: 0.2338 - acc: 0.9202\n",
            "Epoch 125/200\n",
            "14/14 [==============================] - 0s 1ms/step - loss: 0.2223 - acc: 0.9202\n",
            "Epoch 126/200\n",
            "14/14 [==============================] - 0s 1ms/step - loss: 0.2432 - acc: 0.8991\n",
            "Epoch 127/200\n",
            "14/14 [==============================] - 0s 1ms/step - loss: 0.2040 - acc: 0.9225\n",
            "Epoch 128/200\n",
            "14/14 [==============================] - 0s 2ms/step - loss: 0.1980 - acc: 0.9225\n",
            "Epoch 129/200\n",
            "14/14 [==============================] - 0s 2ms/step - loss: 0.1911 - acc: 0.9249\n",
            "Epoch 130/200\n",
            "14/14 [==============================] - 0s 2ms/step - loss: 0.1982 - acc: 0.9131\n",
            "Epoch 131/200\n",
            "14/14 [==============================] - 0s 2ms/step - loss: 0.1847 - acc: 0.9319\n",
            "Epoch 132/200\n",
            "14/14 [==============================] - 0s 2ms/step - loss: 0.1913 - acc: 0.9272\n",
            "Epoch 133/200\n",
            "14/14 [==============================] - 0s 2ms/step - loss: 0.1814 - acc: 0.9202\n",
            "Epoch 134/200\n",
            "14/14 [==============================] - 0s 2ms/step - loss: 0.1822 - acc: 0.9296\n",
            "Epoch 135/200\n",
            "14/14 [==============================] - 0s 2ms/step - loss: 0.1975 - acc: 0.9249\n",
            "Epoch 136/200\n",
            "14/14 [==============================] - 0s 2ms/step - loss: 0.1959 - acc: 0.9225\n",
            "Epoch 137/200\n",
            "14/14 [==============================] - 0s 2ms/step - loss: 0.2085 - acc: 0.9249\n",
            "Epoch 138/200\n",
            "14/14 [==============================] - 0s 2ms/step - loss: 0.1951 - acc: 0.9249\n",
            "Epoch 139/200\n",
            "14/14 [==============================] - 0s 1ms/step - loss: 0.1988 - acc: 0.9272\n",
            "Epoch 140/200\n",
            "14/14 [==============================] - 0s 2ms/step - loss: 0.1911 - acc: 0.9249\n",
            "Epoch 141/200\n",
            "14/14 [==============================] - 0s 2ms/step - loss: 0.2028 - acc: 0.9178\n",
            "Epoch 142/200\n",
            "14/14 [==============================] - 0s 2ms/step - loss: 0.2033 - acc: 0.9296\n",
            "Epoch 143/200\n",
            "14/14 [==============================] - 0s 2ms/step - loss: 0.1940 - acc: 0.9319\n",
            "Epoch 144/200\n",
            "14/14 [==============================] - 0s 2ms/step - loss: 0.2059 - acc: 0.9225\n",
            "Epoch 145/200\n",
            "14/14 [==============================] - 0s 2ms/step - loss: 0.2176 - acc: 0.9202\n",
            "Epoch 146/200\n",
            "14/14 [==============================] - 0s 2ms/step - loss: 0.2304 - acc: 0.8991\n",
            "Epoch 147/200\n",
            "14/14 [==============================] - 0s 2ms/step - loss: 0.1929 - acc: 0.9225\n",
            "Epoch 148/200\n",
            "14/14 [==============================] - 0s 2ms/step - loss: 0.1931 - acc: 0.9272\n",
            "Epoch 149/200\n",
            "14/14 [==============================] - 0s 2ms/step - loss: 0.1907 - acc: 0.9296\n",
            "Epoch 150/200\n",
            "14/14 [==============================] - 0s 2ms/step - loss: 0.1889 - acc: 0.9249\n",
            "Epoch 151/200\n",
            "14/14 [==============================] - 0s 2ms/step - loss: 0.1979 - acc: 0.9202\n",
            "Epoch 152/200\n",
            "14/14 [==============================] - 0s 2ms/step - loss: 0.1943 - acc: 0.9296\n",
            "Epoch 153/200\n",
            "14/14 [==============================] - 0s 2ms/step - loss: 0.1926 - acc: 0.9249\n",
            "Epoch 154/200\n",
            "14/14 [==============================] - 0s 2ms/step - loss: 0.2021 - acc: 0.9296\n",
            "Epoch 155/200\n",
            "14/14 [==============================] - 0s 2ms/step - loss: 0.2003 - acc: 0.9225\n",
            "Epoch 156/200\n",
            "14/14 [==============================] - 0s 2ms/step - loss: 0.2013 - acc: 0.9202\n",
            "Epoch 157/200\n",
            "14/14 [==============================] - 0s 2ms/step - loss: 0.2029 - acc: 0.9108\n",
            "Epoch 158/200\n",
            "14/14 [==============================] - 0s 2ms/step - loss: 0.1880 - acc: 0.9343\n",
            "Epoch 159/200\n",
            "14/14 [==============================] - 0s 2ms/step - loss: 0.1876 - acc: 0.9319\n",
            "Epoch 160/200\n",
            "14/14 [==============================] - 0s 2ms/step - loss: 0.1797 - acc: 0.9343\n",
            "Epoch 161/200\n",
            "14/14 [==============================] - 0s 2ms/step - loss: 0.1853 - acc: 0.9366\n",
            "Epoch 162/200\n",
            "14/14 [==============================] - 0s 2ms/step - loss: 0.1827 - acc: 0.9272\n",
            "Epoch 163/200\n",
            "14/14 [==============================] - 0s 2ms/step - loss: 0.1858 - acc: 0.9249\n",
            "Epoch 164/200\n",
            "14/14 [==============================] - 0s 2ms/step - loss: 0.1904 - acc: 0.9319\n",
            "Epoch 165/200\n",
            "14/14 [==============================] - 0s 2ms/step - loss: 0.2017 - acc: 0.9296\n",
            "Epoch 166/200\n",
            "14/14 [==============================] - 0s 2ms/step - loss: 0.2094 - acc: 0.9249\n",
            "Epoch 167/200\n",
            "14/14 [==============================] - 0s 2ms/step - loss: 0.1875 - acc: 0.9296\n",
            "Epoch 168/200\n",
            "14/14 [==============================] - 0s 2ms/step - loss: 0.1779 - acc: 0.9319\n",
            "Epoch 169/200\n",
            "14/14 [==============================] - 0s 2ms/step - loss: 0.1790 - acc: 0.9343\n",
            "Epoch 170/200\n",
            "14/14 [==============================] - 0s 2ms/step - loss: 0.1730 - acc: 0.9319\n",
            "Epoch 171/200\n",
            "14/14 [==============================] - 0s 2ms/step - loss: 0.1779 - acc: 0.9413\n",
            "Epoch 172/200\n",
            "14/14 [==============================] - 0s 2ms/step - loss: 0.1723 - acc: 0.9319\n",
            "Epoch 173/200\n",
            "14/14 [==============================] - 0s 2ms/step - loss: 0.1795 - acc: 0.9366\n",
            "Epoch 174/200\n",
            "14/14 [==============================] - 0s 2ms/step - loss: 0.1771 - acc: 0.9366\n",
            "Epoch 175/200\n",
            "14/14 [==============================] - 0s 2ms/step - loss: 0.1916 - acc: 0.9319\n",
            "Epoch 176/200\n",
            "14/14 [==============================] - 0s 2ms/step - loss: 0.1951 - acc: 0.9296\n",
            "Epoch 177/200\n",
            "14/14 [==============================] - 0s 2ms/step - loss: 0.1941 - acc: 0.9343\n",
            "Epoch 178/200\n",
            "14/14 [==============================] - 0s 2ms/step - loss: 0.1952 - acc: 0.9296\n",
            "Epoch 179/200\n",
            "14/14 [==============================] - 0s 2ms/step - loss: 0.1795 - acc: 0.9343\n",
            "Epoch 180/200\n",
            "14/14 [==============================] - 0s 2ms/step - loss: 0.1744 - acc: 0.9366\n",
            "Epoch 181/200\n",
            "14/14 [==============================] - 0s 2ms/step - loss: 0.1805 - acc: 0.9343\n",
            "Epoch 182/200\n",
            "14/14 [==============================] - 0s 2ms/step - loss: 0.1861 - acc: 0.9272\n",
            "Epoch 183/200\n",
            "14/14 [==============================] - 0s 2ms/step - loss: 0.2008 - acc: 0.9272\n",
            "Epoch 184/200\n",
            "14/14 [==============================] - 0s 2ms/step - loss: 0.2168 - acc: 0.9319\n",
            "Epoch 185/200\n",
            "14/14 [==============================] - 0s 2ms/step - loss: 0.2321 - acc: 0.9108\n",
            "Epoch 186/200\n",
            "14/14 [==============================] - 0s 2ms/step - loss: 0.2063 - acc: 0.9319\n",
            "Epoch 187/200\n",
            "14/14 [==============================] - 0s 2ms/step - loss: 0.1822 - acc: 0.9319\n",
            "Epoch 188/200\n",
            "14/14 [==============================] - 0s 2ms/step - loss: 0.1761 - acc: 0.9390\n",
            "Epoch 189/200\n",
            "14/14 [==============================] - 0s 2ms/step - loss: 0.1741 - acc: 0.9413\n",
            "Epoch 190/200\n",
            "14/14 [==============================] - 0s 2ms/step - loss: 0.1749 - acc: 0.9343\n",
            "Epoch 191/200\n",
            "14/14 [==============================] - 0s 2ms/step - loss: 0.1720 - acc: 0.9437\n",
            "Epoch 192/200\n",
            "14/14 [==============================] - 0s 2ms/step - loss: 0.1720 - acc: 0.9366\n",
            "Epoch 193/200\n",
            "14/14 [==============================] - 0s 2ms/step - loss: 0.1770 - acc: 0.9366\n",
            "Epoch 194/200\n",
            "14/14 [==============================] - 0s 2ms/step - loss: 0.1790 - acc: 0.9343\n",
            "Epoch 195/200\n",
            "14/14 [==============================] - 0s 2ms/step - loss: 0.1767 - acc: 0.9366\n",
            "Epoch 196/200\n",
            "14/14 [==============================] - 0s 2ms/step - loss: 0.1703 - acc: 0.9366\n",
            "Epoch 197/200\n",
            "14/14 [==============================] - 0s 2ms/step - loss: 0.1875 - acc: 0.9249\n",
            "Epoch 198/200\n",
            "14/14 [==============================] - 0s 1ms/step - loss: 0.1897 - acc: 0.9249\n",
            "Epoch 199/200\n",
            "14/14 [==============================] - 0s 1ms/step - loss: 0.1872 - acc: 0.9272\n",
            "Epoch 200/200\n",
            "14/14 [==============================] - 0s 1ms/step - loss: 0.1895 - acc: 0.9249\n"
          ]
        }
      ]
    },
    {
      "cell_type": "code",
      "source": [
        "# 시각화\n",
        "plt.figure(figsize=(15,5))\n",
        "\n",
        "plt.plot(h.history['acc'], label='acc')\n",
        "\n",
        "plt.legend()\n",
        "plt.show()"
      ],
      "metadata": {
        "colab": {
          "base_uri": "https://localhost:8080/",
          "height": 247
        },
        "id": "UDzXw2pA3vhE",
        "outputId": "5360e2a9-197a-41db-da54-7c1f25ee48d4"
      },
      "execution_count": null,
      "outputs": [
        {
          "output_type": "display_data",
          "data": {
            "text/plain": [
              "<Figure size 1500x500 with 1 Axes>"
            ],
            "image/png": "[encoded data removed]"
          },
          "metadata": {}
        }
      ]
    },
    {
      "cell_type": "code",
      "source": [
        "plt.figure(figsize=(15,5))\n",
        "\n",
        "plt.plot(h.history['loss'], label='loss')\n",
        "\n",
        "plt.legend()\n",
        "plt.show()"
      ],
      "metadata": {
        "colab": {
          "base_uri": "https://localhost:8080/",
          "height": 247
        },
        "id": "cvwQnBiNH0QO",
        "outputId": "d4e9a693-dcd9-4307-cb38-ee0d778c4d05"
      },
      "execution_count": null,
      "outputs": [
        {
          "output_type": "display_data",
          "data": {
            "text/plain": [
              "<Figure size 1500x500 with 1 Axes>"
            ],
            "image/png": "[encoded data removed]"
          },
          "metadata": {}
        }
      ]
    },
    {
      "cell_type": "code",
      "source": [
        "# 4. 모델 평가\n",
        "model.evaluate(X_test, y_test)"
      ],
      "metadata": {
        "colab": {
          "base_uri": "https://localhost:8080/"
        },
        "id": "0QtPBRtE3wJ6",
        "outputId": "ebfd366b-285a-4f8d-97d2-c5e44e207ffa"
      },
      "execution_count": null,
      "outputs": [
        {
          "output_type": "stream",
          "name": "stdout",
          "text": [
            "5/5 [==============================] - 0s 3ms/step - loss: 0.1473 - acc: 0.9441\n"
          ]
        },
        {
          "output_type": "execute_result",
          "data": {
            "text/plain": [
              "[0.14732201397418976, 0.9440559148788452]"
            ]
          },
          "metadata": {},
          "execution_count": 44
        }
      ]
    },
    {
      "cell_type": "markdown",
      "source": [
        "- 학습시킬 때 optimizer를 SGD가 아닌 Adam으로 변경 => 정확도가 0.6에서 0.94로 증가"
      ],
      "metadata": {
        "id": "3zc7uJcYIUn6"
      }
    }
  ]
}