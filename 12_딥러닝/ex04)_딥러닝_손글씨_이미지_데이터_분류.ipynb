{
  "nbformat": 4,
  "nbformat_minor": 0,
  "metadata": {
    "colab": {
      "provenance": [],
      "gpuType": "T4",
      "mount_file_id": "1k0zPNw4JOI4QBD24-YprX9pF5LEm3NiU",
      "authorship_tag": "ABX9TyMKNLGZecOXskly/57HYQx4",
      "include_colab_link": true
    },
    "kernelspec": {
      "name": "python3",
      "display_name": "Python 3"
    },
    "language_info": {
      "name": "python"
    },
    "accelerator": "GPU"
  },
  "cells": [
    {
      "cell_type": "markdown",
      "metadata": {
        "id": "view-in-github",
        "colab_type": "text"
      },
      "source": [
        "<a href=\"https://colab.research.google.com/github/minnjeee/SWcamp/blob/main/12_%EB%94%A5%EB%9F%AC%EB%8B%9D/ex04)_%EB%94%A5%EB%9F%AC%EB%8B%9D_%EC%86%90%EA%B8%80%EC%94%A8_%EC%9D%B4%EB%AF%B8%EC%A7%80_%EB%8D%B0%EC%9D%B4%ED%84%B0_%EB%B6%84%EB%A5%98.ipynb\" target=\"_parent\"><img src=\"https://colab.research.google.com/assets/colab-badge.svg\" alt=\"Open In Colab\"/></a>"
      ]
    },
    {
      "cell_type": "markdown",
      "source": [
        "# 목표\n",
        "- 0 ~ 9 까지의 손글씨 이미지 데이터를 분류하는 신경망 모델을 만들어보자!"
      ],
      "metadata": {
        "id": "ibDSTl-cJiKS"
      }
    },
    {
      "cell_type": "code",
      "source": [
        "import numpy as np\n",
        "import pandas as pd\n",
        "import matplotlib.pyplot as plt\n",
        "\n",
        "# iris 데이터셋 임포트\n",
        "from tensorflow.keras.datasets import mnist\n",
        "# mnist(Modified National Institute of Standards and Technology), Nist : 미국표준기술연구소"
      ],
      "metadata": {
        "id": "TiJ12GDnJq8q"
      },
      "execution_count": null,
      "outputs": []
    },
    {
      "cell_type": "code",
      "source": [
        "data = mnist.load_data()"
      ],
      "metadata": {
        "id": "hCHDTyDfluHT"
      },
      "execution_count": null,
      "outputs": []
    },
    {
      "cell_type": "code",
      "source": [
        "data"
      ],
      "metadata": {
        "colab": {
          "base_uri": "https://localhost:8080/"
        },
        "id": "9EN7_OAnluDY",
        "outputId": "29775a70-2597-413a-e6a1-ccbb9b794d03"
      },
      "execution_count": null,
      "outputs": [
        {
          "output_type": "execute_result",
          "data": {
            "text/plain": [
              "((array([[[0, 0, 0, ..., 0, 0, 0],\n",
              "          [0, 0, 0, ..., 0, 0, 0],\n",
              "          [0, 0, 0, ..., 0, 0, 0],\n",
              "          ...,\n",
              "          [0, 0, 0, ..., 0, 0, 0],\n",
              "          [0, 0, 0, ..., 0, 0, 0],\n",
              "          [0, 0, 0, ..., 0, 0, 0]],\n",
              "  \n",
              "         [[0, 0, 0, ..., 0, 0, 0],\n",
              "          [0, 0, 0, ..., 0, 0, 0],\n",
              "          [0, 0, 0, ..., 0, 0, 0],\n",
              "          ...,\n",
              "          [0, 0, 0, ..., 0, 0, 0],\n",
              "          [0, 0, 0, ..., 0, 0, 0],\n",
              "          [0, 0, 0, ..., 0, 0, 0]],\n",
              "  \n",
              "         [[0, 0, 0, ..., 0, 0, 0],\n",
              "          [0, 0, 0, ..., 0, 0, 0],\n",
              "          [0, 0, 0, ..., 0, 0, 0],\n",
              "          ...,\n",
              "          [0, 0, 0, ..., 0, 0, 0],\n",
              "          [0, 0, 0, ..., 0, 0, 0],\n",
              "          [0, 0, 0, ..., 0, 0, 0]],\n",
              "  \n",
              "         ...,\n",
              "  \n",
              "         [[0, 0, 0, ..., 0, 0, 0],\n",
              "          [0, 0, 0, ..., 0, 0, 0],\n",
              "          [0, 0, 0, ..., 0, 0, 0],\n",
              "          ...,\n",
              "          [0, 0, 0, ..., 0, 0, 0],\n",
              "          [0, 0, 0, ..., 0, 0, 0],\n",
              "          [0, 0, 0, ..., 0, 0, 0]],\n",
              "  \n",
              "         [[0, 0, 0, ..., 0, 0, 0],\n",
              "          [0, 0, 0, ..., 0, 0, 0],\n",
              "          [0, 0, 0, ..., 0, 0, 0],\n",
              "          ...,\n",
              "          [0, 0, 0, ..., 0, 0, 0],\n",
              "          [0, 0, 0, ..., 0, 0, 0],\n",
              "          [0, 0, 0, ..., 0, 0, 0]],\n",
              "  \n",
              "         [[0, 0, 0, ..., 0, 0, 0],\n",
              "          [0, 0, 0, ..., 0, 0, 0],\n",
              "          [0, 0, 0, ..., 0, 0, 0],\n",
              "          ...,\n",
              "          [0, 0, 0, ..., 0, 0, 0],\n",
              "          [0, 0, 0, ..., 0, 0, 0],\n",
              "          [0, 0, 0, ..., 0, 0, 0]]], dtype=uint8),\n",
              "  array([5, 0, 4, ..., 5, 6, 8], dtype=uint8)),\n",
              " (array([[[0, 0, 0, ..., 0, 0, 0],\n",
              "          [0, 0, 0, ..., 0, 0, 0],\n",
              "          [0, 0, 0, ..., 0, 0, 0],\n",
              "          ...,\n",
              "          [0, 0, 0, ..., 0, 0, 0],\n",
              "          [0, 0, 0, ..., 0, 0, 0],\n",
              "          [0, 0, 0, ..., 0, 0, 0]],\n",
              "  \n",
              "         [[0, 0, 0, ..., 0, 0, 0],\n",
              "          [0, 0, 0, ..., 0, 0, 0],\n",
              "          [0, 0, 0, ..., 0, 0, 0],\n",
              "          ...,\n",
              "          [0, 0, 0, ..., 0, 0, 0],\n",
              "          [0, 0, 0, ..., 0, 0, 0],\n",
              "          [0, 0, 0, ..., 0, 0, 0]],\n",
              "  \n",
              "         [[0, 0, 0, ..., 0, 0, 0],\n",
              "          [0, 0, 0, ..., 0, 0, 0],\n",
              "          [0, 0, 0, ..., 0, 0, 0],\n",
              "          ...,\n",
              "          [0, 0, 0, ..., 0, 0, 0],\n",
              "          [0, 0, 0, ..., 0, 0, 0],\n",
              "          [0, 0, 0, ..., 0, 0, 0]],\n",
              "  \n",
              "         ...,\n",
              "  \n",
              "         [[0, 0, 0, ..., 0, 0, 0],\n",
              "          [0, 0, 0, ..., 0, 0, 0],\n",
              "          [0, 0, 0, ..., 0, 0, 0],\n",
              "          ...,\n",
              "          [0, 0, 0, ..., 0, 0, 0],\n",
              "          [0, 0, 0, ..., 0, 0, 0],\n",
              "          [0, 0, 0, ..., 0, 0, 0]],\n",
              "  \n",
              "         [[0, 0, 0, ..., 0, 0, 0],\n",
              "          [0, 0, 0, ..., 0, 0, 0],\n",
              "          [0, 0, 0, ..., 0, 0, 0],\n",
              "          ...,\n",
              "          [0, 0, 0, ..., 0, 0, 0],\n",
              "          [0, 0, 0, ..., 0, 0, 0],\n",
              "          [0, 0, 0, ..., 0, 0, 0]],\n",
              "  \n",
              "         [[0, 0, 0, ..., 0, 0, 0],\n",
              "          [0, 0, 0, ..., 0, 0, 0],\n",
              "          [0, 0, 0, ..., 0, 0, 0],\n",
              "          ...,\n",
              "          [0, 0, 0, ..., 0, 0, 0],\n",
              "          [0, 0, 0, ..., 0, 0, 0],\n",
              "          [0, 0, 0, ..., 0, 0, 0]]], dtype=uint8),\n",
              "  array([7, 2, 1, ..., 4, 5, 6], dtype=uint8)))"
            ]
          },
          "metadata": {},
          "execution_count": 65
        }
      ]
    },
    {
      "cell_type": "code",
      "source": [
        "len(data) # 2개의 arrary로 이루어짐!"
      ],
      "metadata": {
        "colab": {
          "base_uri": "https://localhost:8080/"
        },
        "id": "JMh_ZOPCluBA",
        "outputId": "615bd9b3-0a52-4e33-aaae-6cd150e4c9a2"
      },
      "execution_count": null,
      "outputs": [
        {
          "output_type": "execute_result",
          "data": {
            "text/plain": [
              "2"
            ]
          },
          "metadata": {},
          "execution_count": 66
        }
      ]
    },
    {
      "cell_type": "code",
      "source": [
        "# 데이터가 3차원 배열로 크게는 train,test로 나뉘어져 있고,\n",
        "# 각 train,test 안에 문제와 정답으로 한번 더 나뉘어져 있음\n",
        "(X_train, y_train), (X_test, y_test) = data"
      ],
      "metadata": {
        "id": "Z910TVg2lt-x"
      },
      "execution_count": null,
      "outputs": []
    },
    {
      "cell_type": "code",
      "source": [
        "X_train.shape, X_test.shape, y_train.shape, y_test.shape\n",
        "# 이미지라는 2차원 데이터를 다루기 때문에 shape의 형태는 3칸이 나오게됨\n",
        "# (데이터의 수, 세로픽셀수, 가로픽셀수)"
      ],
      "metadata": {
        "colab": {
          "base_uri": "https://localhost:8080/"
        },
        "id": "ZKSGFkfclt8p",
        "outputId": "f0e04af8-1733-4d72-c7fa-0ad9fb855097"
      },
      "execution_count": null,
      "outputs": [
        {
          "output_type": "execute_result",
          "data": {
            "text/plain": [
              "((60000, 28, 28), (10000, 28, 28), (60000,), (10000,))"
            ]
          },
          "metadata": {},
          "execution_count": 68
        }
      ]
    },
    {
      "cell_type": "code",
      "source": [
        "y_train"
      ],
      "metadata": {
        "colab": {
          "base_uri": "https://localhost:8080/"
        },
        "id": "wL-8Y1nRlt6f",
        "outputId": "d9fe6aaa-2667-4d01-d7c2-6f2e3833fe35"
      },
      "execution_count": null,
      "outputs": [
        {
          "output_type": "execute_result",
          "data": {
            "text/plain": [
              "array([5, 0, 4, ..., 5, 6, 8], dtype=uint8)"
            ]
          },
          "metadata": {},
          "execution_count": 69
        }
      ]
    },
    {
      "cell_type": "code",
      "source": [
        "X_train"
      ],
      "metadata": {
        "colab": {
          "base_uri": "https://localhost:8080/"
        },
        "id": "M1uw2SFnlt4P",
        "outputId": "c5181bd8-c90f-4403-9c62-5af2f5b8da03"
      },
      "execution_count": null,
      "outputs": [
        {
          "output_type": "execute_result",
          "data": {
            "text/plain": [
              "array([[[0, 0, 0, ..., 0, 0, 0],\n",
              "        [0, 0, 0, ..., 0, 0, 0],\n",
              "        [0, 0, 0, ..., 0, 0, 0],\n",
              "        ...,\n",
              "        [0, 0, 0, ..., 0, 0, 0],\n",
              "        [0, 0, 0, ..., 0, 0, 0],\n",
              "        [0, 0, 0, ..., 0, 0, 0]],\n",
              "\n",
              "       [[0, 0, 0, ..., 0, 0, 0],\n",
              "        [0, 0, 0, ..., 0, 0, 0],\n",
              "        [0, 0, 0, ..., 0, 0, 0],\n",
              "        ...,\n",
              "        [0, 0, 0, ..., 0, 0, 0],\n",
              "        [0, 0, 0, ..., 0, 0, 0],\n",
              "        [0, 0, 0, ..., 0, 0, 0]],\n",
              "\n",
              "       [[0, 0, 0, ..., 0, 0, 0],\n",
              "        [0, 0, 0, ..., 0, 0, 0],\n",
              "        [0, 0, 0, ..., 0, 0, 0],\n",
              "        ...,\n",
              "        [0, 0, 0, ..., 0, 0, 0],\n",
              "        [0, 0, 0, ..., 0, 0, 0],\n",
              "        [0, 0, 0, ..., 0, 0, 0]],\n",
              "\n",
              "       ...,\n",
              "\n",
              "       [[0, 0, 0, ..., 0, 0, 0],\n",
              "        [0, 0, 0, ..., 0, 0, 0],\n",
              "        [0, 0, 0, ..., 0, 0, 0],\n",
              "        ...,\n",
              "        [0, 0, 0, ..., 0, 0, 0],\n",
              "        [0, 0, 0, ..., 0, 0, 0],\n",
              "        [0, 0, 0, ..., 0, 0, 0]],\n",
              "\n",
              "       [[0, 0, 0, ..., 0, 0, 0],\n",
              "        [0, 0, 0, ..., 0, 0, 0],\n",
              "        [0, 0, 0, ..., 0, 0, 0],\n",
              "        ...,\n",
              "        [0, 0, 0, ..., 0, 0, 0],\n",
              "        [0, 0, 0, ..., 0, 0, 0],\n",
              "        [0, 0, 0, ..., 0, 0, 0]],\n",
              "\n",
              "       [[0, 0, 0, ..., 0, 0, 0],\n",
              "        [0, 0, 0, ..., 0, 0, 0],\n",
              "        [0, 0, 0, ..., 0, 0, 0],\n",
              "        ...,\n",
              "        [0, 0, 0, ..., 0, 0, 0],\n",
              "        [0, 0, 0, ..., 0, 0, 0],\n",
              "        [0, 0, 0, ..., 0, 0, 0]]], dtype=uint8)"
            ]
          },
          "metadata": {},
          "execution_count": 70
        }
      ]
    },
    {
      "cell_type": "code",
      "source": [
        "plt.imshow(X_train[2], cmap='magma');\n",
        "# imshow : 이미지 데이터를 그림으로 출력해주는 함수\n",
        "# cmap='gray' : 이미지를 흑백으로 전환시켜주는 인자\n",
        "# 뒤에 ; 붙이면 이미지만 출력됨"
      ],
      "metadata": {
        "colab": {
          "base_uri": "https://localhost:8080/",
          "height": 430
        },
        "id": "u_SOcZO-lt2Q",
        "outputId": "a09b2dd9-f28a-4b35-89b9-c0d8c3978eef"
      },
      "execution_count": null,
      "outputs": [
        {
          "output_type": "display_data",
          "data": {
            "text/plain": [
              "<Figure size 640x480 with 1 Axes>"
            ],
            "image/png": "[encoded data removed]"
          },
          "metadata": {}
        }
      ]
    },
    {
      "cell_type": "code",
      "source": [
        "print(X_train[2])"
      ],
      "metadata": {
        "colab": {
          "base_uri": "https://localhost:8080/"
        },
        "id": "NjX5l-F-ltz4",
        "outputId": "b7c66f66-34be-43b2-e46c-3708a13c3761"
      },
      "execution_count": null,
      "outputs": [
        {
          "output_type": "stream",
          "name": "stdout",
          "text": [
            "[[  0   0   0   0   0   0   0   0   0   0   0   0   0   0   0   0   0   0\n",
            "    0   0   0   0   0   0   0   0   0   0]\n",
            " [  0   0   0   0   0   0   0   0   0   0   0   0   0   0   0   0   0   0\n",
            "    0   0   0   0   0   0   0   0   0   0]\n",
            " [  0   0   0   0   0   0   0   0   0   0   0   0   0   0   0   0   0   0\n",
            "    0   0   0   0   0   0   0   0   0   0]\n",
            " [  0   0   0   0   0   0   0   0   0   0   0   0   0   0   0   0   0   0\n",
            "    0   0   0   0   0   0   0   0   0   0]\n",
            " [  0   0   0   0   0   0   0   0   0   0   0   0   0   0   0   0   0   0\n",
            "    0   0   0   0   0   0   0   0   0   0]\n",
            " [  0   0   0   0   0   0   0   0   0   0   0   0   0   0   0   0   0   0\n",
            "    0   0  67 232  39   0   0   0   0   0]\n",
            " [  0   0   0   0  62  81   0   0   0   0   0   0   0   0   0   0   0   0\n",
            "    0   0 120 180  39   0   0   0   0   0]\n",
            " [  0   0   0   0 126 163   0   0   0   0   0   0   0   0   0   0   0   0\n",
            "    0   2 153 210  40   0   0   0   0   0]\n",
            " [  0   0   0   0 220 163   0   0   0   0   0   0   0   0   0   0   0   0\n",
            "    0  27 254 162   0   0   0   0   0   0]\n",
            " [  0   0   0   0 222 163   0   0   0   0   0   0   0   0   0   0   0   0\n",
            "    0 183 254 125   0   0   0   0   0   0]\n",
            " [  0   0   0  46 245 163   0   0   0   0   0   0   0   0   0   0   0   0\n",
            "    0 198 254  56   0   0   0   0   0   0]\n",
            " [  0   0   0 120 254 163   0   0   0   0   0   0   0   0   0   0   0   0\n",
            "   23 231 254  29   0   0   0   0   0   0]\n",
            " [  0   0   0 159 254 120   0   0   0   0   0   0   0   0   0   0   0   0\n",
            "  163 254 216  16   0   0   0   0   0   0]\n",
            " [  0   0   0 159 254  67   0   0   0   0   0   0   0   0   0  14  86 178\n",
            "  248 254  91   0   0   0   0   0   0   0]\n",
            " [  0   0   0 159 254  85   0   0   0  47  49 116 144 150 241 243 234 179\n",
            "  241 252  40   0   0   0   0   0   0   0]\n",
            " [  0   0   0 150 253 237 207 207 207 253 254 250 240 198 143  91  28   5\n",
            "  233 250   0   0   0   0   0   0   0   0]\n",
            " [  0   0   0   0 119 177 177 177 177 177  98  56   0   0   0   0   0 102\n",
            "  254 220   0   0   0   0   0   0   0   0]\n",
            " [  0   0   0   0   0   0   0   0   0   0   0   0   0   0   0   0   0 169\n",
            "  254 137   0   0   0   0   0   0   0   0]\n",
            " [  0   0   0   0   0   0   0   0   0   0   0   0   0   0   0   0   0 169\n",
            "  254  57   0   0   0   0   0   0   0   0]\n",
            " [  0   0   0   0   0   0   0   0   0   0   0   0   0   0   0   0   0 169\n",
            "  254  57   0   0   0   0   0   0   0   0]\n",
            " [  0   0   0   0   0   0   0   0   0   0   0   0   0   0   0   0   0 169\n",
            "  255  94   0   0   0   0   0   0   0   0]\n",
            " [  0   0   0   0   0   0   0   0   0   0   0   0   0   0   0   0   0 169\n",
            "  254  96   0   0   0   0   0   0   0   0]\n",
            " [  0   0   0   0   0   0   0   0   0   0   0   0   0   0   0   0   0 169\n",
            "  254 153   0   0   0   0   0   0   0   0]\n",
            " [  0   0   0   0   0   0   0   0   0   0   0   0   0   0   0   0   0 169\n",
            "  255 153   0   0   0   0   0   0   0   0]\n",
            " [  0   0   0   0   0   0   0   0   0   0   0   0   0   0   0   0   0  96\n",
            "  254 153   0   0   0   0   0   0   0   0]\n",
            " [  0   0   0   0   0   0   0   0   0   0   0   0   0   0   0   0   0   0\n",
            "    0   0   0   0   0   0   0   0   0   0]\n",
            " [  0   0   0   0   0   0   0   0   0   0   0   0   0   0   0   0   0   0\n",
            "    0   0   0   0   0   0   0   0   0   0]\n",
            " [  0   0   0   0   0   0   0   0   0   0   0   0   0   0   0   0   0   0\n",
            "    0   0   0   0   0   0   0   0   0   0]]\n"
          ]
        }
      ]
    },
    {
      "cell_type": "markdown",
      "source": [
        "### 정답 데이터 원핫인코딩\n",
        "- pd.get_dummies : 판다스 지원 원핫인코딩 -> 결과 형태는 데이터프레임\n",
        "- to_categorical : keras에서 지원 원핫인코딩 -> 결과 형태는 배열"
      ],
      "metadata": {
        "id": "4aYKYtDx-SsQ"
      }
    },
    {
      "cell_type": "code",
      "source": [
        "pd.get_dummies(y_train)"
      ],
      "metadata": {
        "colab": {
          "base_uri": "https://localhost:8080/",
          "height": 423
        },
        "id": "fSRG2sGTltxO",
        "outputId": "bd248247-0197-4a78-fcd4-3aef339cc32a"
      },
      "execution_count": null,
      "outputs": [
        {
          "output_type": "execute_result",
          "data": {
            "text/plain": [
              "       0  1  2  3  4  5  6  7  8  9\n",
              "0      0  0  0  0  0  1  0  0  0  0\n",
              "1      1  0  0  0  0  0  0  0  0  0\n",
              "2      0  0  0  0  1  0  0  0  0  0\n",
              "3      0  1  0  0  0  0  0  0  0  0\n",
              "4      0  0  0  0  0  0  0  0  0  1\n",
              "...   .. .. .. .. .. .. .. .. .. ..\n",
              "59995  0  0  0  0  0  0  0  0  1  0\n",
              "59996  0  0  0  1  0  0  0  0  0  0\n",
              "59997  0  0  0  0  0  1  0  0  0  0\n",
              "59998  0  0  0  0  0  0  1  0  0  0\n",
              "59999  0  0  0  0  0  0  0  0  1  0\n",
              "\n",
              "[60000 rows x 10 columns]"
            ],
            "text/html": [
              "\n",
              "\n",
              "  <div id=\"df-7c482f89-2697-40ab-8888-3120e202c18e\">\n",
              "    <div class=\"colab-df-container\">\n",
              "      <div>\n",
              "<style scoped>\n",
              "    .dataframe tbody tr th:only-of-type {\n",
              "        vertical-align: middle;\n",
              "    }\n",
              "\n",
              "    .dataframe tbody tr th {\n",
              "        vertical-align: top;\n",
              "    }\n",
              "\n",
              "    .dataframe thead th {\n",
              "        text-align: right;\n",
              "    }\n",
              "</style>\n",
              "<table border=\"1\" class=\"dataframe\">\n",
              "  <thead>\n",
              "    <tr style=\"text-align: right;\">\n",
              "      <th></th>\n",
              "      <th>0</th>\n",
              "      <th>1</th>\n",
              "      <th>2</th>\n",
              "      <th>3</th>\n",
              "      <th>4</th>\n",
              "      <th>5</th>\n",
              "      <th>6</th>\n",
              "      <th>7</th>\n",
              "      <th>8</th>\n",
              "      <th>9</th>\n",
              "    </tr>\n",
              "  </thead>\n",
              "  <tbody>\n",
              "    <tr>\n",
              "      <th>0</th>\n",
              "      <td>0</td>\n",
              "      <td>0</td>\n",
              "      <td>0</td>\n",
              "      <td>0</td>\n",
              "      <td>0</td>\n",
              "      <td>1</td>\n",
              "      <td>0</td>\n",
              "      <td>0</td>\n",
              "      <td>0</td>\n",
              "      <td>0</td>\n",
              "    </tr>\n",
              "    <tr>\n",
              "      <th>1</th>\n",
              "      <td>1</td>\n",
              "      <td>0</td>\n",
              "      <td>0</td>\n",
              "      <td>0</td>\n",
              "      <td>0</td>\n",
              "      <td>0</td>\n",
              "      <td>0</td>\n",
              "      <td>0</td>\n",
              "      <td>0</td>\n",
              "      <td>0</td>\n",
              "    </tr>\n",
              "    <tr>\n",
              "      <th>2</th>\n",
              "      <td>0</td>\n",
              "      <td>0</td>\n",
              "      <td>0</td>\n",
              "      <td>0</td>\n",
              "      <td>1</td>\n",
              "      <td>0</td>\n",
              "      <td>0</td>\n",
              "      <td>0</td>\n",
              "      <td>0</td>\n",
              "      <td>0</td>\n",
              "    </tr>\n",
              "    <tr>\n",
              "      <th>3</th>\n",
              "      <td>0</td>\n",
              "      <td>1</td>\n",
              "      <td>0</td>\n",
              "      <td>0</td>\n",
              "      <td>0</td>\n",
              "      <td>0</td>\n",
              "      <td>0</td>\n",
              "      <td>0</td>\n",
              "      <td>0</td>\n",
              "      <td>0</td>\n",
              "    </tr>\n",
              "    <tr>\n",
              "      <th>4</th>\n",
              "      <td>0</td>\n",
              "      <td>0</td>\n",
              "      <td>0</td>\n",
              "      <td>0</td>\n",
              "      <td>0</td>\n",
              "      <td>0</td>\n",
              "      <td>0</td>\n",
              "      <td>0</td>\n",
              "      <td>0</td>\n",
              "      <td>1</td>\n",
              "    </tr>\n",
              "    <tr>\n",
              "      <th>...</th>\n",
              "      <td>...</td>\n",
              "      <td>...</td>\n",
              "      <td>...</td>\n",
              "      <td>...</td>\n",
              "      <td>...</td>\n",
              "      <td>...</td>\n",
              "      <td>...</td>\n",
              "      <td>...</td>\n",
              "      <td>...</td>\n",
              "      <td>...</td>\n",
              "    </tr>\n",
              "    <tr>\n",
              "      <th>59995</th>\n",
              "      <td>0</td>\n",
              "      <td>0</td>\n",
              "      <td>0</td>\n",
              "      <td>0</td>\n",
              "      <td>0</td>\n",
              "      <td>0</td>\n",
              "      <td>0</td>\n",
              "      <td>0</td>\n",
              "      <td>1</td>\n",
              "      <td>0</td>\n",
              "    </tr>\n",
              "    <tr>\n",
              "      <th>59996</th>\n",
              "      <td>0</td>\n",
              "      <td>0</td>\n",
              "      <td>0</td>\n",
              "      <td>1</td>\n",
              "      <td>0</td>\n",
              "      <td>0</td>\n",
              "      <td>0</td>\n",
              "      <td>0</td>\n",
              "      <td>0</td>\n",
              "      <td>0</td>\n",
              "    </tr>\n",
              "    <tr>\n",
              "      <th>59997</th>\n",
              "      <td>0</td>\n",
              "      <td>0</td>\n",
              "      <td>0</td>\n",
              "      <td>0</td>\n",
              "      <td>0</td>\n",
              "      <td>1</td>\n",
              "      <td>0</td>\n",
              "      <td>0</td>\n",
              "      <td>0</td>\n",
              "      <td>0</td>\n",
              "    </tr>\n",
              "    <tr>\n",
              "      <th>59998</th>\n",
              "      <td>0</td>\n",
              "      <td>0</td>\n",
              "      <td>0</td>\n",
              "      <td>0</td>\n",
              "      <td>0</td>\n",
              "      <td>0</td>\n",
              "      <td>1</td>\n",
              "      <td>0</td>\n",
              "      <td>0</td>\n",
              "      <td>0</td>\n",
              "    </tr>\n",
              "    <tr>\n",
              "      <th>59999</th>\n",
              "      <td>0</td>\n",
              "      <td>0</td>\n",
              "      <td>0</td>\n",
              "      <td>0</td>\n",
              "      <td>0</td>\n",
              "      <td>0</td>\n",
              "      <td>0</td>\n",
              "      <td>0</td>\n",
              "      <td>1</td>\n",
              "      <td>0</td>\n",
              "    </tr>\n",
              "  </tbody>\n",
              "</table>\n",
              "<p>60000 rows × 10 columns</p>\n",
              "</div>\n",
              "      <button class=\"colab-df-convert\" onclick=\"convertToInteractive('df-7c482f89-2697-40ab-8888-3120e202c18e')\"\n",
              "              title=\"Convert this dataframe to an interactive table.\"\n",
              "              style=\"display:none;\">\n",
              "\n",
              "  <svg xmlns=\"http://www.w3.org/2000/svg\" height=\"24px\"viewBox=\"0 0 24 24\"\n",
              "       width=\"24px\">\n",
              "    <path d=\"M0 0h24v24H0V0z\" fill=\"none\"/>\n",
              "    <path d=\"M18.56 5.44l.94 2.06.94-2.06 2.06-.94-2.06-.94-.94-2.06-.94 2.06-2.06.94zm-11 1L8.5 8.5l.94-2.06 2.06-.94-2.06-.94L8.5 2.5l-.94 2.06-2.06.94zm10 10l.94 2.06.94-2.06 2.06-.94-2.06-.94-.94-2.06-.94 2.06-2.06.94z\"/><path d=\"M17.41 7.96l-1.37-1.37c-.4-.4-.92-.59-1.43-.59-.52 0-1.04.2-1.43.59L10.3 9.45l-7.72 7.72c-.78.78-.78 2.05 0 2.83L4 21.41c.39.39.9.59 1.41.59.51 0 1.02-.2 1.41-.59l7.78-7.78 2.81-2.81c.8-.78.8-2.07 0-2.86zM5.41 20L4 18.59l7.72-7.72 1.47 1.35L5.41 20z\"/>\n",
              "  </svg>\n",
              "      </button>\n",
              "\n",
              "\n",
              "\n",
              "    <div id=\"df-071309e9-9d38-4c3f-9c50-f203f92e2c4a\">\n",
              "      <button class=\"colab-df-quickchart\" onclick=\"quickchart('df-071309e9-9d38-4c3f-9c50-f203f92e2c4a')\"\n",
              "              title=\"Suggest charts.\"\n",
              "              style=\"display:none;\">\n",
              "\n",
              "<svg xmlns=\"http://www.w3.org/2000/svg\" height=\"24px\"viewBox=\"0 0 24 24\"\n",
              "     width=\"24px\">\n",
              "    <g>\n",
              "        <path d=\"M19 3H5c-1.1 0-2 .9-2 2v14c0 1.1.9 2 2 2h14c1.1 0 2-.9 2-2V5c0-1.1-.9-2-2-2zM9 17H7v-7h2v7zm4 0h-2V7h2v10zm4 0h-2v-4h2v4z\"/>\n",
              "    </g>\n",
              "</svg>\n",
              "      </button>\n",
              "    </div>\n",
              "\n",
              "<style>\n",
              "  .colab-df-quickchart {\n",
              "    background-color: #E8F0FE;\n",
              "    border: none;\n",
              "    border-radius: 50%;\n",
              "    cursor: pointer;\n",
              "    display: none;\n",
              "    fill: #1967D2;\n",
              "    height: 32px;\n",
              "    padding: 0 0 0 0;\n",
              "    width: 32px;\n",
              "  }\n",
              "\n",
              "  .colab-df-quickchart:hover {\n",
              "    background-color: #E2EBFA;\n",
              "    box-shadow: 0px 1px 2px rgba(60, 64, 67, 0.3), 0px 1px 3px 1px rgba(60, 64, 67, 0.15);\n",
              "    fill: #174EA6;\n",
              "  }\n",
              "\n",
              "  [theme=dark] .colab-df-quickchart {\n",
              "    background-color: #3B4455;\n",
              "    fill: #D2E3FC;\n",
              "  }\n",
              "\n",
              "  [theme=dark] .colab-df-quickchart:hover {\n",
              "    background-color: #434B5C;\n",
              "    box-shadow: 0px 1px 3px 1px rgba(0, 0, 0, 0.15);\n",
              "    filter: drop-shadow(0px 1px 2px rgba(0, 0, 0, 0.3));\n",
              "    fill: #FFFFFF;\n",
              "  }\n",
              "</style>\n",
              "\n",
              "    <script>\n",
              "      async function quickchart(key) {\n",
              "        const containerElement = document.querySelector('#' + key);\n",
              "        const charts = await google.colab.kernel.invokeFunction(\n",
              "            'suggestCharts', [key], {});\n",
              "      }\n",
              "    </script>\n",
              "\n",
              "\n",
              "      <script>\n",
              "\n",
              "function displayQuickchartButton(domScope) {\n",
              "  let quickchartButtonEl =\n",
              "    domScope.querySelector('#df-071309e9-9d38-4c3f-9c50-f203f92e2c4a button.colab-df-quickchart');\n",
              "  quickchartButtonEl.style.display =\n",
              "    google.colab.kernel.accessAllowed ? 'block' : 'none';\n",
              "}\n",
              "\n",
              "        displayQuickchartButton(document);\n",
              "      </script>\n",
              "      <style>\n",
              "    .colab-df-container {\n",
              "      display:flex;\n",
              "      flex-wrap:wrap;\n",
              "      gap: 12px;\n",
              "    }\n",
              "\n",
              "    .colab-df-convert {\n",
              "      background-color: #E8F0FE;\n",
              "      border: none;\n",
              "      border-radius: 50%;\n",
              "      cursor: pointer;\n",
              "      display: none;\n",
              "      fill: #1967D2;\n",
              "      height: 32px;\n",
              "      padding: 0 0 0 0;\n",
              "      width: 32px;\n",
              "    }\n",
              "\n",
              "    .colab-df-convert:hover {\n",
              "      background-color: #E2EBFA;\n",
              "      box-shadow: 0px 1px 2px rgba(60, 64, 67, 0.3), 0px 1px 3px 1px rgba(60, 64, 67, 0.15);\n",
              "      fill: #174EA6;\n",
              "    }\n",
              "\n",
              "    [theme=dark] .colab-df-convert {\n",
              "      background-color: #3B4455;\n",
              "      fill: #D2E3FC;\n",
              "    }\n",
              "\n",
              "    [theme=dark] .colab-df-convert:hover {\n",
              "      background-color: #434B5C;\n",
              "      box-shadow: 0px 1px 3px 1px rgba(0, 0, 0, 0.15);\n",
              "      filter: drop-shadow(0px 1px 2px rgba(0, 0, 0, 0.3));\n",
              "      fill: #FFFFFF;\n",
              "    }\n",
              "  </style>\n",
              "\n",
              "      <script>\n",
              "        const buttonEl =\n",
              "          document.querySelector('#df-7c482f89-2697-40ab-8888-3120e202c18e button.colab-df-convert');\n",
              "        buttonEl.style.display =\n",
              "          google.colab.kernel.accessAllowed ? 'block' : 'none';\n",
              "\n",
              "        async function convertToInteractive(key) {\n",
              "          const element = document.querySelector('#df-7c482f89-2697-40ab-8888-3120e202c18e');\n",
              "          const dataTable =\n",
              "            await google.colab.kernel.invokeFunction('convertToInteractive',\n",
              "                                                     [key], {});\n",
              "          if (!dataTable) return;\n",
              "\n",
              "          const docLinkHtml = 'Like what you see? Visit the ' +\n",
              "            '<a target=\"_blank\" href=https://colab.research.google.com/notebooks/data_table.ipynb>data table notebook</a>'\n",
              "            + ' to learn more about interactive tables.';\n",
              "          element.innerHTML = '';\n",
              "          dataTable['output_type'] = 'display_data';\n",
              "          await google.colab.output.renderOutput(dataTable, element);\n",
              "          const docLink = document.createElement('div');\n",
              "          docLink.innerHTML = docLinkHtml;\n",
              "          element.appendChild(docLink);\n",
              "        }\n",
              "      </script>\n",
              "    </div>\n",
              "  </div>\n"
            ]
          },
          "metadata": {},
          "execution_count": 73
        }
      ]
    },
    {
      "cell_type": "code",
      "source": [
        "from tensorflow.keras.utils import to_categorical"
      ],
      "metadata": {
        "id": "l_BSBYxNltu3"
      },
      "execution_count": null,
      "outputs": []
    },
    {
      "cell_type": "code",
      "source": [
        "to_categorical(y_train)"
      ],
      "metadata": {
        "colab": {
          "base_uri": "https://localhost:8080/"
        },
        "id": "88d1YZE-lts4",
        "outputId": "897d94f6-54a2-4a6a-e1a3-6dc641fc458d"
      },
      "execution_count": null,
      "outputs": [
        {
          "output_type": "execute_result",
          "data": {
            "text/plain": [
              "array([[0., 0., 0., ..., 0., 0., 0.],\n",
              "       [1., 0., 0., ..., 0., 0., 0.],\n",
              "       [0., 0., 0., ..., 0., 0., 0.],\n",
              "       ...,\n",
              "       [0., 0., 0., ..., 0., 0., 0.],\n",
              "       [0., 0., 0., ..., 0., 0., 0.],\n",
              "       [0., 0., 0., ..., 0., 1., 0.]], dtype=float32)"
            ]
          },
          "metadata": {},
          "execution_count": 75
        }
      ]
    },
    {
      "cell_type": "code",
      "source": [
        "y_train_one_hot = to_categorical(y_train)\n",
        "y_test_one_hot = to_categorical(y_test)"
      ],
      "metadata": {
        "id": "lX7S8usDltq4"
      },
      "execution_count": null,
      "outputs": []
    },
    {
      "cell_type": "code",
      "source": [
        "y_train_one_hot.shape, y_test_one_hot.shape"
      ],
      "metadata": {
        "colab": {
          "base_uri": "https://localhost:8080/"
        },
        "id": "1_O3PAbyltow",
        "outputId": "2c7a13ab-a5f1-4117-de17-4673f8929daf"
      },
      "execution_count": null,
      "outputs": [
        {
          "output_type": "execute_result",
          "data": {
            "text/plain": [
              "((60000, 10), (10000, 10))"
            ]
          },
          "metadata": {},
          "execution_count": 77
        }
      ]
    },
    {
      "cell_type": "markdown",
      "source": [
        "- 인공신경망에는 2차원인 이미지데이터를 한번에 넣은 수 없기 때문에 데이터의 차원을 전부 1차원으로 변경시켜준 뒤 학습시켜야함!"
      ],
      "metadata": {
        "id": "DMrhxW-x_pSW"
      }
    },
    {
      "cell_type": "code",
      "source": [
        "X_train = X_train.reshape(60000,-1)\n",
        "# -1 은 60000을 제외한 나머지값들을 다 곱해서 하나의 차원으로 만들어줌\n",
        "X_test = X_test.reshape(10000,-1)"
      ],
      "metadata": {
        "id": "8qZlPGkGltmv"
      },
      "execution_count": null,
      "outputs": []
    },
    {
      "cell_type": "code",
      "source": [
        "X_train.shape, X_test.shape\n",
        "# 이미지는 픽셀 하나하나가 데이터의 특성으로 인식"
      ],
      "metadata": {
        "colab": {
          "base_uri": "https://localhost:8080/"
        },
        "id": "UKIrQzo1ltjC",
        "outputId": "fab6a424-271f-40de-8c8a-d0f762e08862"
      },
      "execution_count": null,
      "outputs": [
        {
          "output_type": "execute_result",
          "data": {
            "text/plain": [
              "((60000, 784), (10000, 784))"
            ]
          },
          "metadata": {},
          "execution_count": 79
        }
      ]
    },
    {
      "cell_type": "markdown",
      "source": [
        "## 신경망 모델링\n",
        "- 직접 모델링 해보자!"
      ],
      "metadata": {
        "id": "GRdBKehjBaF3"
      }
    },
    {
      "cell_type": "code",
      "source": [
        "# 입력되는 특성 수 : 784\n",
        "# 출력층 활성화함수, 뉴런수\n",
        "# loss함수\n",
        "# 최적화함수 (SGD, Adam 둘 다 사용해보기)\n",
        "\n",
        "# 이미지는 학습시간이 오래 걸림 -> 런타임 유형 변경하기(CPU -> T4 GPU)"
      ],
      "metadata": {
        "id": "SmbWuq-Cltg_"
      },
      "execution_count": null,
      "outputs": []
    },
    {
      "cell_type": "code",
      "source": [
        "from tensorflow.keras import Sequential\n",
        "from tensorflow.keras.layers import Dense"
      ],
      "metadata": {
        "id": "2XF-3KxJltco"
      },
      "execution_count": null,
      "outputs": []
    },
    {
      "cell_type": "code",
      "source": [
        "model = Sequential()\n",
        "model.add(Dense(100, input_dim=784, activation='sigmoid'))\n",
        "model.add(Dense(200, activation='sigmoid'))\n",
        "model.add(Dense(150, activation='sigmoid'))\n",
        "model.add(Dense(80, activation='sigmoid'))\n",
        "model.add(Dense(40, activation='sigmoid'))\n",
        "model.add(Dense(10, activation='softmax'))"
      ],
      "metadata": {
        "id": "FTcrR2D_CTvF"
      },
      "execution_count": null,
      "outputs": []
    },
    {
      "cell_type": "code",
      "source": [
        "model.compile(loss='categorical_crossentropy', optimizer='Adam', metrics=['acc'])"
      ],
      "metadata": {
        "id": "CL-J_pQCCTrn"
      },
      "execution_count": null,
      "outputs": []
    },
    {
      "cell_type": "code",
      "source": [
        "h = model.fit(X_train, y_train_one_hot, epochs=30,\n",
        "              batch_size=128, # 한 번에 학습되는 데이터의 개수 (기본값은 32개)\n",
        "              verbose=2 # 학습 결과 출력 형태 - 0은 학습끝날 때까지 진행상황 안보여줌, 2는 좀더 간단하게 bar없이 표현 (기본값 1, bar형태)\n",
        "              )"
      ],
      "metadata": {
        "colab": {
          "base_uri": "https://localhost:8080/"
        },
        "id": "dbYT-3o1CTpm",
        "outputId": "6666ee75-b4f8-4161-fc1f-582a20395cea"
      },
      "execution_count": null,
      "outputs": [
        {
          "output_type": "stream",
          "name": "stdout",
          "text": [
            "Epoch 1/30\n",
            "469/469 - 3s - loss: 1.3574 - acc: 0.5317 - 3s/epoch - 7ms/step\n",
            "Epoch 2/30\n",
            "469/469 - 2s - loss: 0.6396 - acc: 0.8093 - 2s/epoch - 4ms/step\n",
            "Epoch 3/30\n",
            "469/469 - 2s - loss: 0.4901 - acc: 0.8545 - 2s/epoch - 4ms/step\n",
            "Epoch 4/30\n",
            "469/469 - 2s - loss: 0.4054 - acc: 0.8809 - 2s/epoch - 3ms/step\n",
            "Epoch 5/30\n",
            "469/469 - 2s - loss: 0.3631 - acc: 0.8916 - 2s/epoch - 3ms/step\n",
            "Epoch 6/30\n",
            "469/469 - 2s - loss: 0.3478 - acc: 0.8952 - 2s/epoch - 3ms/step\n",
            "Epoch 7/30\n",
            "469/469 - 1s - loss: 0.3226 - acc: 0.9031 - 1s/epoch - 3ms/step\n",
            "Epoch 8/30\n",
            "469/469 - 2s - loss: 0.2974 - acc: 0.9108 - 2s/epoch - 3ms/step\n",
            "Epoch 9/30\n",
            "469/469 - 1s - loss: 0.2868 - acc: 0.9133 - 1s/epoch - 3ms/step\n",
            "Epoch 10/30\n",
            "469/469 - 2s - loss: 0.2824 - acc: 0.9163 - 2s/epoch - 4ms/step\n",
            "Epoch 11/30\n",
            "469/469 - 2s - loss: 0.2618 - acc: 0.9208 - 2s/epoch - 3ms/step\n",
            "Epoch 12/30\n",
            "469/469 - 1s - loss: 0.2528 - acc: 0.9232 - 1s/epoch - 3ms/step\n",
            "Epoch 13/30\n",
            "469/469 - 2s - loss: 0.2497 - acc: 0.9231 - 2s/epoch - 3ms/step\n",
            "Epoch 14/30\n",
            "469/469 - 2s - loss: 0.2514 - acc: 0.9226 - 2s/epoch - 4ms/step\n",
            "Epoch 15/30\n",
            "469/469 - 2s - loss: 0.2460 - acc: 0.9251 - 2s/epoch - 3ms/step\n",
            "Epoch 16/30\n",
            "469/469 - 1s - loss: 0.2289 - acc: 0.9299 - 1s/epoch - 3ms/step\n",
            "Epoch 17/30\n",
            "469/469 - 2s - loss: 0.2279 - acc: 0.9296 - 2s/epoch - 4ms/step\n",
            "Epoch 18/30\n",
            "469/469 - 2s - loss: 0.2167 - acc: 0.9330 - 2s/epoch - 5ms/step\n",
            "Epoch 19/30\n",
            "469/469 - 2s - loss: 0.2032 - acc: 0.9383 - 2s/epoch - 3ms/step\n",
            "Epoch 20/30\n",
            "469/469 - 2s - loss: 0.2001 - acc: 0.9379 - 2s/epoch - 3ms/step\n",
            "Epoch 21/30\n",
            "469/469 - 2s - loss: 0.2033 - acc: 0.9373 - 2s/epoch - 3ms/step\n",
            "Epoch 22/30\n",
            "469/469 - 1s - loss: 0.2003 - acc: 0.9380 - 1s/epoch - 3ms/step\n",
            "Epoch 23/30\n",
            "469/469 - 2s - loss: 0.1911 - acc: 0.9403 - 2s/epoch - 4ms/step\n",
            "Epoch 24/30\n",
            "469/469 - 2s - loss: 0.1822 - acc: 0.9433 - 2s/epoch - 4ms/step\n",
            "Epoch 25/30\n",
            "469/469 - 2s - loss: 0.1796 - acc: 0.9442 - 2s/epoch - 4ms/step\n",
            "Epoch 26/30\n",
            "469/469 - 1s - loss: 0.1809 - acc: 0.9438 - 1s/epoch - 3ms/step\n",
            "Epoch 27/30\n",
            "469/469 - 1s - loss: 0.1753 - acc: 0.9458 - 1s/epoch - 3ms/step\n",
            "Epoch 28/30\n",
            "469/469 - 2s - loss: 0.1784 - acc: 0.9442 - 2s/epoch - 3ms/step\n",
            "Epoch 29/30\n",
            "469/469 - 1s - loss: 0.1688 - acc: 0.9476 - 1s/epoch - 3ms/step\n",
            "Epoch 30/30\n",
            "469/469 - 2s - loss: 0.1637 - acc: 0.9488 - 2s/epoch - 3ms/step\n"
          ]
        }
      ]
    },
    {
      "cell_type": "code",
      "source": [
        "plt.figure(figsize=(15,5))\n",
        "\n",
        "plt.plot(h.history['acc'], label='acc')\n",
        "\n",
        "plt.legend()\n",
        "plt.show()"
      ],
      "metadata": {
        "colab": {
          "base_uri": "https://localhost:8080/",
          "height": 445
        },
        "id": "pxoxsVbiCTn3",
        "outputId": "bac9fd5b-5444-4f7d-e69a-b53c8092631b"
      },
      "execution_count": null,
      "outputs": [
        {
          "output_type": "display_data",
          "data": {
            "text/plain": [
              "<Figure size 1500x500 with 1 Axes>"
            ],
            "image/png": "[encoded data removed]"
          },
          "metadata": {}
        }
      ]
    },
    {
      "cell_type": "code",
      "source": [
        "plt.figure(figsize=(15,5))\n",
        "\n",
        "plt.plot(h.history['loss'], label='loss')\n",
        "\n",
        "plt.legend()\n",
        "plt.show()"
      ],
      "metadata": {
        "colab": {
          "base_uri": "https://localhost:8080/",
          "height": 446
        },
        "id": "guj56ZrZCTmB",
        "outputId": "6c563868-037f-4f56-c84d-387f25adf874"
      },
      "execution_count": null,
      "outputs": [
        {
          "output_type": "display_data",
          "data": {
            "text/plain": [
              "<Figure size 1500x500 with 1 Axes>"
            ],
            "image/png": "[encoded data removed]"
          },
          "metadata": {}
        }
      ]
    },
    {
      "cell_type": "code",
      "source": [
        "model.evaluate(X_test, y_test_one_hot)"
      ],
      "metadata": {
        "colab": {
          "base_uri": "https://localhost:8080/"
        },
        "id": "6SnEBZjlCTkK",
        "outputId": "35a7c60e-a42d-4621-f695-b4d052e21dc6"
      },
      "execution_count": null,
      "outputs": [
        {
          "output_type": "stream",
          "name": "stdout",
          "text": [
            "313/313 [==============================] - 1s 3ms/step - loss: 0.1773 - acc: 0.9470\n"
          ]
        },
        {
          "output_type": "execute_result",
          "data": {
            "text/plain": [
              "[0.17726841568946838, 0.9470000267028809]"
            ]
          },
          "metadata": {},
          "execution_count": 87
        }
      ]
    },
    {
      "cell_type": "markdown",
      "source": [
        "## 과대적합을 확인하기 위해 train데이터에서 validation데이터를 분리해서 학습 시 같이 출력해보자!"
      ],
      "metadata": {
        "id": "HLYg15YkMLLL"
      }
    },
    {
      "cell_type": "code",
      "source": [
        "# 무조건 train,test만 나눠주는 게 아니라, 데이터를 일정 비율로 랜덤하게 나눠주는 기능을 갖고 있음\n",
        "from sklearn.model_selection import train_test_split"
      ],
      "metadata": {
        "id": "mmrO7fRFCTib"
      },
      "execution_count": null,
      "outputs": []
    },
    {
      "cell_type": "code",
      "source": [
        "X_train, X_val, y_train_one_hot, y_val_one_hot = train_test_split(X_train, y_train_one_hot, random_state=33)"
      ],
      "metadata": {
        "id": "tMsGw7AOCTge"
      },
      "execution_count": null,
      "outputs": []
    },
    {
      "cell_type": "code",
      "source": [
        "X_train.shape, X_val.shape, y_train_one_hot.shape, y_val_one_hot.shape"
      ],
      "metadata": {
        "colab": {
          "base_uri": "https://localhost:8080/"
        },
        "id": "2HvOjtpOCTeb",
        "outputId": "7f5ef09d-c061-457f-9334-66bfd2eceb11"
      },
      "execution_count": null,
      "outputs": [
        {
          "output_type": "execute_result",
          "data": {
            "text/plain": [
              "((45000, 784), (15000, 784), (45000, 10), (15000, 10))"
            ]
          },
          "metadata": {},
          "execution_count": 90
        }
      ]
    },
    {
      "cell_type": "code",
      "source": [
        "model1 = Sequential()\n",
        "model1.add(Dense(100, input_dim=784, activation='sigmoid'))\n",
        "model1.add(Dense(200, activation='sigmoid'))\n",
        "model1.add(Dense(150, activation='sigmoid'))\n",
        "model1.add(Dense(80, activation='sigmoid'))\n",
        "model1.add(Dense(40, activation='sigmoid'))\n",
        "model1.add(Dense(10, activation='softmax'))\n",
        "\n",
        "model1.compile(loss='categorical_crossentropy', optimizer='Adam', metrics=['acc'])"
      ],
      "metadata": {
        "id": "PgPMtIFoCTWs"
      },
      "execution_count": null,
      "outputs": []
    },
    {
      "cell_type": "code",
      "source": [
        "h1 = model1.fit(X_train, y_train_one_hot,\n",
        "                epochs=30, batch_size=128,\n",
        "                validation_data=(X_val, y_val_one_hot) # 검증용 데이터셋 추가\n",
        "                )"
      ],
      "metadata": {
        "colab": {
          "base_uri": "https://localhost:8080/"
        },
        "id": "lCnPL2-iNXlB",
        "outputId": "79c525ea-b4bf-4de2-a6cf-a6cbb590e301"
      },
      "execution_count": null,
      "outputs": [
        {
          "output_type": "stream",
          "name": "stdout",
          "text": [
            "Epoch 1/30\n",
            "352/352 [==============================] - 5s 7ms/step - loss: 1.6815 - acc: 0.3603 - val_loss: 1.1368 - val_acc: 0.5841\n",
            "Epoch 2/30\n",
            "352/352 [==============================] - 2s 5ms/step - loss: 0.8444 - acc: 0.7295 - val_loss: 0.6297 - val_acc: 0.8228\n",
            "Epoch 3/30\n",
            "352/352 [==============================] - 2s 5ms/step - loss: 0.5636 - acc: 0.8352 - val_loss: 0.5205 - val_acc: 0.8449\n",
            "Epoch 4/30\n",
            "352/352 [==============================] - 2s 7ms/step - loss: 0.4758 - acc: 0.8599 - val_loss: 0.4642 - val_acc: 0.8659\n",
            "Epoch 5/30\n",
            "352/352 [==============================] - 2s 5ms/step - loss: 0.4347 - acc: 0.8747 - val_loss: 0.4289 - val_acc: 0.8762\n",
            "Epoch 6/30\n",
            "352/352 [==============================] - 2s 5ms/step - loss: 0.4066 - acc: 0.8816 - val_loss: 0.4101 - val_acc: 0.8787\n",
            "Epoch 7/30\n",
            "352/352 [==============================] - 2s 7ms/step - loss: 0.3975 - acc: 0.8831 - val_loss: 0.3784 - val_acc: 0.8884\n",
            "Epoch 8/30\n",
            "352/352 [==============================] - 2s 6ms/step - loss: 0.3561 - acc: 0.8944 - val_loss: 0.3541 - val_acc: 0.8943\n",
            "Epoch 9/30\n",
            "352/352 [==============================] - 2s 5ms/step - loss: 0.3472 - acc: 0.8969 - val_loss: 0.3380 - val_acc: 0.9008\n",
            "Epoch 10/30\n",
            "352/352 [==============================] - 2s 5ms/step - loss: 0.3308 - acc: 0.9016 - val_loss: 0.3449 - val_acc: 0.8973\n",
            "Epoch 11/30\n",
            "352/352 [==============================] - 2s 5ms/step - loss: 0.3203 - acc: 0.9043 - val_loss: 0.3197 - val_acc: 0.9052\n",
            "Epoch 12/30\n",
            "352/352 [==============================] - 2s 5ms/step - loss: 0.2936 - acc: 0.9143 - val_loss: 0.3048 - val_acc: 0.9115\n",
            "Epoch 13/30\n",
            "352/352 [==============================] - 2s 5ms/step - loss: 0.2906 - acc: 0.9113 - val_loss: 0.2940 - val_acc: 0.9117\n",
            "Epoch 14/30\n",
            "352/352 [==============================] - 2s 7ms/step - loss: 0.2899 - acc: 0.9128 - val_loss: 0.3020 - val_acc: 0.9092\n",
            "Epoch 15/30\n",
            "352/352 [==============================] - 2s 5ms/step - loss: 0.2978 - acc: 0.9081 - val_loss: 0.2951 - val_acc: 0.9094\n",
            "Epoch 16/30\n",
            "352/352 [==============================] - 2s 5ms/step - loss: 0.2799 - acc: 0.9133 - val_loss: 0.2759 - val_acc: 0.9169\n",
            "Epoch 17/30\n",
            "352/352 [==============================] - 2s 5ms/step - loss: 0.2716 - acc: 0.9176 - val_loss: 0.2723 - val_acc: 0.9181\n",
            "Epoch 18/30\n",
            "352/352 [==============================] - 2s 5ms/step - loss: 0.2539 - acc: 0.9244 - val_loss: 0.2693 - val_acc: 0.9189\n",
            "Epoch 19/30\n",
            "352/352 [==============================] - 2s 5ms/step - loss: 0.2457 - acc: 0.9262 - val_loss: 0.2456 - val_acc: 0.9280\n",
            "Epoch 20/30\n",
            "352/352 [==============================] - 2s 6ms/step - loss: 0.2274 - acc: 0.9327 - val_loss: 0.2630 - val_acc: 0.9223\n",
            "Epoch 21/30\n",
            "352/352 [==============================] - 4s 10ms/step - loss: 0.2363 - acc: 0.9292 - val_loss: 0.2574 - val_acc: 0.9205\n",
            "Epoch 22/30\n",
            "352/352 [==============================] - 3s 8ms/step - loss: 0.2348 - acc: 0.9274 - val_loss: 0.2550 - val_acc: 0.9236\n",
            "Epoch 23/30\n",
            "352/352 [==============================] - 3s 7ms/step - loss: 0.2259 - acc: 0.9310 - val_loss: 0.2568 - val_acc: 0.9203\n",
            "Epoch 24/30\n",
            "352/352 [==============================] - 2s 6ms/step - loss: 0.2141 - acc: 0.9346 - val_loss: 0.2274 - val_acc: 0.9323\n",
            "Epoch 25/30\n",
            "352/352 [==============================] - 4s 11ms/step - loss: 0.2137 - acc: 0.9354 - val_loss: 0.2340 - val_acc: 0.9293\n",
            "Epoch 26/30\n",
            "352/352 [==============================] - 2s 7ms/step - loss: 0.2058 - acc: 0.9370 - val_loss: 0.2360 - val_acc: 0.9284\n",
            "Epoch 27/30\n",
            "352/352 [==============================] - 2s 6ms/step - loss: 0.2038 - acc: 0.9374 - val_loss: 0.2277 - val_acc: 0.9296\n",
            "Epoch 28/30\n",
            "352/352 [==============================] - 2s 6ms/step - loss: 0.2069 - acc: 0.9358 - val_loss: 0.2485 - val_acc: 0.9245\n",
            "Epoch 29/30\n",
            "352/352 [==============================] - 2s 7ms/step - loss: 0.2079 - acc: 0.9366 - val_loss: 0.2315 - val_acc: 0.9280\n",
            "Epoch 30/30\n",
            "352/352 [==============================] - 3s 8ms/step - loss: 0.1982 - acc: 0.9391 - val_loss: 0.2278 - val_acc: 0.9323\n"
          ]
        }
      ]
    },
    {
      "cell_type": "code",
      "source": [
        "plt.figure(figsize=(15,5))\n",
        "\n",
        "plt.plot(h1.history['acc'], label='acc') # train데이터\n",
        "plt.plot(h1.history['val_acc'], label='val_acc') # validation 데이터\n",
        "\n",
        "plt.legend()\n",
        "plt.show()"
      ],
      "metadata": {
        "colab": {
          "base_uri": "https://localhost:8080/",
          "height": 445
        },
        "id": "DcTKMnOWN9cS",
        "outputId": "528766ec-e626-41f3-d207-c68a4090d835"
      },
      "execution_count": null,
      "outputs": [
        {
          "output_type": "display_data",
          "data": {
            "text/plain": [
              "<Figure size 1500x500 with 1 Axes>"
            ],
            "image/png": "[encoded data removed]"
          },
          "metadata": {}
        }
      ]
    }
  ]
}