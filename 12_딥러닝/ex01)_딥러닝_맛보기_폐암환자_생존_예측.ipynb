{
  "nbformat": 4,
  "nbformat_minor": 0,
  "metadata": {
    "colab": {
      "provenance": [],
      "mount_file_id": "1U2nCpYxhfRrjJL5I6kebtObKPaBxMw5h",
      "authorship_tag": "ABX9TyO36Ny1cZt6UPHsrrUotSMa",
      "include_colab_link": true
    },
    "kernelspec": {
      "name": "python3",
      "display_name": "Python 3"
    },
    "language_info": {
      "name": "python"
    }
  },
  "cells": [
    {
      "cell_type": "markdown",
      "metadata": {
        "id": "view-in-github",
        "colab_type": "text"
      },
      "source": [
        "<a href=\"https://colab.research.google.com/github/minnjeee/SWcamp/blob/main/12_%EB%94%A5%EB%9F%AC%EB%8B%9D/ex01)_%EB%94%A5%EB%9F%AC%EB%8B%9D_%EB%A7%9B%EB%B3%B4%EA%B8%B0_%ED%8F%90%EC%95%94%ED%99%98%EC%9E%90_%EC%83%9D%EC%A1%B4_%EC%98%88%EC%B8%A1.ipynb\" target=\"_parent\"><img src=\"https://colab.research.google.com/assets/colab-badge.svg\" alt=\"Open In Colab\"/></a>"
      ]
    },
    {
      "cell_type": "markdown",
      "source": [
        "### 목표\n",
        "- 폐암 환자의 생존으 예측하는 분류 모델을 만들어보자!\n",
        "- 신경망을 활용하여 2진분류 문제를 해결해보자!"
      ],
      "metadata": {
        "id": "ibDSTl-cJiKS"
      }
    },
    {
      "cell_type": "code",
      "source": [
        "import numpy as np\n",
        "import pandas as pd\n",
        "import matplotlib.pyplot as plt"
      ],
      "metadata": {
        "id": "TiJ12GDnJq8q"
      },
      "execution_count": null,
      "outputs": []
    },
    {
      "cell_type": "code",
      "source": [
        "# 옆의 폴더의 파일의 오른쪽 버튼 -> 경로 복사 가능\n",
        "# pwd - print working directory : 현재 작업 경로 출력\n",
        "%pwd"
      ],
      "metadata": {
        "colab": {
          "base_uri": "https://localhost:8080/",
          "height": 35
        },
        "id": "nglIUiMhJu4A",
        "outputId": "b3ba21f7-ac58-4fed-8115-d259a45af1fa"
      },
      "execution_count": null,
      "outputs": [
        {
          "output_type": "execute_result",
          "data": {
            "text/plain": [
              "'/content'"
            ],
            "application/vnd.google.colaboratory.intrinsic+json": {
              "type": "string"
            }
          },
          "metadata": {},
          "execution_count": 2
        }
      ]
    },
    {
      "cell_type": "code",
      "source": [
        "# cd - change directory : 작업 경로 변경\n",
        "%cd /content/drive/MyDrive/Colab Notebooks/SW캠프 데이터 비즈니스 과정"
      ],
      "metadata": {
        "colab": {
          "base_uri": "https://localhost:8080/"
        },
        "id": "PKbRsmUMKV9l",
        "outputId": "447c067a-a34b-4723-c76a-eb9c9938c219"
      },
      "execution_count": null,
      "outputs": [
        {
          "output_type": "stream",
          "name": "stdout",
          "text": [
            "/content/drive/MyDrive/Colab Notebooks/SW캠프 데이터 비즈니스 과정\n"
          ]
        }
      ]
    },
    {
      "cell_type": "code",
      "source": [
        "%pwd"
      ],
      "metadata": {
        "colab": {
          "base_uri": "https://localhost:8080/",
          "height": 35
        },
        "id": "QqT9ragvK7CP",
        "outputId": "601577e6-b6e9-4685-8564-7af3683aa697"
      },
      "execution_count": null,
      "outputs": [
        {
          "output_type": "execute_result",
          "data": {
            "text/plain": [
              "'/content/drive/MyDrive/Colab Notebooks/SW캠프 데이터 비즈니스 과정'"
            ],
            "application/vnd.google.colaboratory.intrinsic+json": {
              "type": "string"
            }
          },
          "metadata": {},
          "execution_count": 4
        }
      ]
    },
    {
      "cell_type": "code",
      "source": [
        "data = pd.read_csv('data/ThoraricSurgery.csv', header=None)  # header=None : 열이름 없음"
      ],
      "metadata": {
        "id": "DYwUIyHgK-n9"
      },
      "execution_count": null,
      "outputs": []
    },
    {
      "cell_type": "code",
      "source": [
        "data"
      ],
      "metadata": {
        "colab": {
          "base_uri": "https://localhost:8080/",
          "height": 423
        },
        "id": "a8Da9RM2MDom",
        "outputId": "0604c750-f8e3-44f4-beae-46a6306147e6"
      },
      "execution_count": null,
      "outputs": [
        {
          "output_type": "execute_result",
          "data": {
            "text/plain": [
              "      0   1     2     3   4   5   6   7   8   9   10  11  12  13  14  15  16  \\\n",
              "0    293   1  3.80  2.80   0   0   0   0   0   0  12   0   0   0   1   0  62   \n",
              "1      1   2  2.88  2.16   1   0   0   0   1   1  14   0   0   0   1   0  60   \n",
              "2      8   2  3.19  2.50   1   0   0   0   1   0  11   0   0   1   1   0  66   \n",
              "3     14   2  3.98  3.06   2   0   0   0   1   1  14   0   0   0   1   0  80   \n",
              "4     17   2  2.21  1.88   0   0   1   0   0   0  12   0   0   0   1   0  56   \n",
              "..   ...  ..   ...   ...  ..  ..  ..  ..  ..  ..  ..  ..  ..  ..  ..  ..  ..   \n",
              "465   98   6  3.04  2.40   2   0   0   0   1   0  11   0   0   0   1   0  76   \n",
              "466  369   6  3.88  2.72   1   0   0   0   1   0  12   0   0   0   1   0  77   \n",
              "467  406   6  5.36  3.96   1   0   0   0   1   0  12   0   0   0   0   0  62   \n",
              "468   25   8  4.32  3.20   0   0   0   0   0   0  11   0   0   0   0   0  58   \n",
              "469  447   8  5.20  4.10   0   0   0   0   0   0  12   0   0   0   0   0  49   \n",
              "\n",
              "     17  \n",
              "0     0  \n",
              "1     0  \n",
              "2     1  \n",
              "3     1  \n",
              "4     0  \n",
              "..   ..  \n",
              "465   0  \n",
              "466   0  \n",
              "467   0  \n",
              "468   1  \n",
              "469   0  \n",
              "\n",
              "[470 rows x 18 columns]"
            ],
            "text/html": [
              "\n",
              "\n",
              "  <div id=\"df-d041d226-d1fd-43df-8b08-0b269ffaea03\">\n",
              "    <div class=\"colab-df-container\">\n",
              "      <div>\n",
              "<style scoped>\n",
              "    .dataframe tbody tr th:only-of-type {\n",
              "        vertical-align: middle;\n",
              "    }\n",
              "\n",
              "    .dataframe tbody tr th {\n",
              "        vertical-align: top;\n",
              "    }\n",
              "\n",
              "    .dataframe thead th {\n",
              "        text-align: right;\n",
              "    }\n",
              "</style>\n",
              "<table border=\"1\" class=\"dataframe\">\n",
              "  <thead>\n",
              "    <tr style=\"text-align: right;\">\n",
              "      <th></th>\n",
              "      <th>0</th>\n",
              "      <th>1</th>\n",
              "      <th>2</th>\n",
              "      <th>3</th>\n",
              "      <th>4</th>\n",
              "      <th>5</th>\n",
              "      <th>6</th>\n",
              "      <th>7</th>\n",
              "      <th>8</th>\n",
              "      <th>9</th>\n",
              "      <th>10</th>\n",
              "      <th>11</th>\n",
              "      <th>12</th>\n",
              "      <th>13</th>\n",
              "      <th>14</th>\n",
              "      <th>15</th>\n",
              "      <th>16</th>\n",
              "      <th>17</th>\n",
              "    </tr>\n",
              "  </thead>\n",
              "  <tbody>\n",
              "    <tr>\n",
              "      <th>0</th>\n",
              "      <td>293</td>\n",
              "      <td>1</td>\n",
              "      <td>3.80</td>\n",
              "      <td>2.80</td>\n",
              "      <td>0</td>\n",
              "      <td>0</td>\n",
              "      <td>0</td>\n",
              "      <td>0</td>\n",
              "      <td>0</td>\n",
              "      <td>0</td>\n",
              "      <td>12</td>\n",
              "      <td>0</td>\n",
              "      <td>0</td>\n",
              "      <td>0</td>\n",
              "      <td>1</td>\n",
              "      <td>0</td>\n",
              "      <td>62</td>\n",
              "      <td>0</td>\n",
              "    </tr>\n",
              "    <tr>\n",
              "      <th>1</th>\n",
              "      <td>1</td>\n",
              "      <td>2</td>\n",
              "      <td>2.88</td>\n",
              "      <td>2.16</td>\n",
              "      <td>1</td>\n",
              "      <td>0</td>\n",
              "      <td>0</td>\n",
              "      <td>0</td>\n",
              "      <td>1</td>\n",
              "      <td>1</td>\n",
              "      <td>14</td>\n",
              "      <td>0</td>\n",
              "      <td>0</td>\n",
              "      <td>0</td>\n",
              "      <td>1</td>\n",
              "      <td>0</td>\n",
              "      <td>60</td>\n",
              "      <td>0</td>\n",
              "    </tr>\n",
              "    <tr>\n",
              "      <th>2</th>\n",
              "      <td>8</td>\n",
              "      <td>2</td>\n",
              "      <td>3.19</td>\n",
              "      <td>2.50</td>\n",
              "      <td>1</td>\n",
              "      <td>0</td>\n",
              "      <td>0</td>\n",
              "      <td>0</td>\n",
              "      <td>1</td>\n",
              "      <td>0</td>\n",
              "      <td>11</td>\n",
              "      <td>0</td>\n",
              "      <td>0</td>\n",
              "      <td>1</td>\n",
              "      <td>1</td>\n",
              "      <td>0</td>\n",
              "      <td>66</td>\n",
              "      <td>1</td>\n",
              "    </tr>\n",
              "    <tr>\n",
              "      <th>3</th>\n",
              "      <td>14</td>\n",
              "      <td>2</td>\n",
              "      <td>3.98</td>\n",
              "      <td>3.06</td>\n",
              "      <td>2</td>\n",
              "      <td>0</td>\n",
              "      <td>0</td>\n",
              "      <td>0</td>\n",
              "      <td>1</td>\n",
              "      <td>1</td>\n",
              "      <td>14</td>\n",
              "      <td>0</td>\n",
              "      <td>0</td>\n",
              "      <td>0</td>\n",
              "      <td>1</td>\n",
              "      <td>0</td>\n",
              "      <td>80</td>\n",
              "      <td>1</td>\n",
              "    </tr>\n",
              "    <tr>\n",
              "      <th>4</th>\n",
              "      <td>17</td>\n",
              "      <td>2</td>\n",
              "      <td>2.21</td>\n",
              "      <td>1.88</td>\n",
              "      <td>0</td>\n",
              "      <td>0</td>\n",
              "      <td>1</td>\n",
              "      <td>0</td>\n",
              "      <td>0</td>\n",
              "      <td>0</td>\n",
              "      <td>12</td>\n",
              "      <td>0</td>\n",
              "      <td>0</td>\n",
              "      <td>0</td>\n",
              "      <td>1</td>\n",
              "      <td>0</td>\n",
              "      <td>56</td>\n",
              "      <td>0</td>\n",
              "    </tr>\n",
              "    <tr>\n",
              "      <th>...</th>\n",
              "      <td>...</td>\n",
              "      <td>...</td>\n",
              "      <td>...</td>\n",
              "      <td>...</td>\n",
              "      <td>...</td>\n",
              "      <td>...</td>\n",
              "      <td>...</td>\n",
              "      <td>...</td>\n",
              "      <td>...</td>\n",
              "      <td>...</td>\n",
              "      <td>...</td>\n",
              "      <td>...</td>\n",
              "      <td>...</td>\n",
              "      <td>...</td>\n",
              "      <td>...</td>\n",
              "      <td>...</td>\n",
              "      <td>...</td>\n",
              "      <td>...</td>\n",
              "    </tr>\n",
              "    <tr>\n",
              "      <th>465</th>\n",
              "      <td>98</td>\n",
              "      <td>6</td>\n",
              "      <td>3.04</td>\n",
              "      <td>2.40</td>\n",
              "      <td>2</td>\n",
              "      <td>0</td>\n",
              "      <td>0</td>\n",
              "      <td>0</td>\n",
              "      <td>1</td>\n",
              "      <td>0</td>\n",
              "      <td>11</td>\n",
              "      <td>0</td>\n",
              "      <td>0</td>\n",
              "      <td>0</td>\n",
              "      <td>1</td>\n",
              "      <td>0</td>\n",
              "      <td>76</td>\n",
              "      <td>0</td>\n",
              "    </tr>\n",
              "    <tr>\n",
              "      <th>466</th>\n",
              "      <td>369</td>\n",
              "      <td>6</td>\n",
              "      <td>3.88</td>\n",
              "      <td>2.72</td>\n",
              "      <td>1</td>\n",
              "      <td>0</td>\n",
              "      <td>0</td>\n",
              "      <td>0</td>\n",
              "      <td>1</td>\n",
              "      <td>0</td>\n",
              "      <td>12</td>\n",
              "      <td>0</td>\n",
              "      <td>0</td>\n",
              "      <td>0</td>\n",
              "      <td>1</td>\n",
              "      <td>0</td>\n",
              "      <td>77</td>\n",
              "      <td>0</td>\n",
              "    </tr>\n",
              "    <tr>\n",
              "      <th>467</th>\n",
              "      <td>406</td>\n",
              "      <td>6</td>\n",
              "      <td>5.36</td>\n",
              "      <td>3.96</td>\n",
              "      <td>1</td>\n",
              "      <td>0</td>\n",
              "      <td>0</td>\n",
              "      <td>0</td>\n",
              "      <td>1</td>\n",
              "      <td>0</td>\n",
              "      <td>12</td>\n",
              "      <td>0</td>\n",
              "      <td>0</td>\n",
              "      <td>0</td>\n",
              "      <td>0</td>\n",
              "      <td>0</td>\n",
              "      <td>62</td>\n",
              "      <td>0</td>\n",
              "    </tr>\n",
              "    <tr>\n",
              "      <th>468</th>\n",
              "      <td>25</td>\n",
              "      <td>8</td>\n",
              "      <td>4.32</td>\n",
              "      <td>3.20</td>\n",
              "      <td>0</td>\n",
              "      <td>0</td>\n",
              "      <td>0</td>\n",
              "      <td>0</td>\n",
              "      <td>0</td>\n",
              "      <td>0</td>\n",
              "      <td>11</td>\n",
              "      <td>0</td>\n",
              "      <td>0</td>\n",
              "      <td>0</td>\n",
              "      <td>0</td>\n",
              "      <td>0</td>\n",
              "      <td>58</td>\n",
              "      <td>1</td>\n",
              "    </tr>\n",
              "    <tr>\n",
              "      <th>469</th>\n",
              "      <td>447</td>\n",
              "      <td>8</td>\n",
              "      <td>5.20</td>\n",
              "      <td>4.10</td>\n",
              "      <td>0</td>\n",
              "      <td>0</td>\n",
              "      <td>0</td>\n",
              "      <td>0</td>\n",
              "      <td>0</td>\n",
              "      <td>0</td>\n",
              "      <td>12</td>\n",
              "      <td>0</td>\n",
              "      <td>0</td>\n",
              "      <td>0</td>\n",
              "      <td>0</td>\n",
              "      <td>0</td>\n",
              "      <td>49</td>\n",
              "      <td>0</td>\n",
              "    </tr>\n",
              "  </tbody>\n",
              "</table>\n",
              "<p>470 rows × 18 columns</p>\n",
              "</div>\n",
              "      <button class=\"colab-df-convert\" onclick=\"convertToInteractive('df-d041d226-d1fd-43df-8b08-0b269ffaea03')\"\n",
              "              title=\"Convert this dataframe to an interactive table.\"\n",
              "              style=\"display:none;\">\n",
              "\n",
              "  <svg xmlns=\"http://www.w3.org/2000/svg\" height=\"24px\"viewBox=\"0 0 24 24\"\n",
              "       width=\"24px\">\n",
              "    <path d=\"M0 0h24v24H0V0z\" fill=\"none\"/>\n",
              "    <path d=\"M18.56 5.44l.94 2.06.94-2.06 2.06-.94-2.06-.94-.94-2.06-.94 2.06-2.06.94zm-11 1L8.5 8.5l.94-2.06 2.06-.94-2.06-.94L8.5 2.5l-.94 2.06-2.06.94zm10 10l.94 2.06.94-2.06 2.06-.94-2.06-.94-.94-2.06-.94 2.06-2.06.94z\"/><path d=\"M17.41 7.96l-1.37-1.37c-.4-.4-.92-.59-1.43-.59-.52 0-1.04.2-1.43.59L10.3 9.45l-7.72 7.72c-.78.78-.78 2.05 0 2.83L4 21.41c.39.39.9.59 1.41.59.51 0 1.02-.2 1.41-.59l7.78-7.78 2.81-2.81c.8-.78.8-2.07 0-2.86zM5.41 20L4 18.59l7.72-7.72 1.47 1.35L5.41 20z\"/>\n",
              "  </svg>\n",
              "      </button>\n",
              "\n",
              "\n",
              "\n",
              "    <div id=\"df-1c88743b-38f0-4a86-8899-e75de2f262f9\">\n",
              "      <button class=\"colab-df-quickchart\" onclick=\"quickchart('df-1c88743b-38f0-4a86-8899-e75de2f262f9')\"\n",
              "              title=\"Suggest charts.\"\n",
              "              style=\"display:none;\">\n",
              "\n",
              "<svg xmlns=\"http://www.w3.org/2000/svg\" height=\"24px\"viewBox=\"0 0 24 24\"\n",
              "     width=\"24px\">\n",
              "    <g>\n",
              "        <path d=\"M19 3H5c-1.1 0-2 .9-2 2v14c0 1.1.9 2 2 2h14c1.1 0 2-.9 2-2V5c0-1.1-.9-2-2-2zM9 17H7v-7h2v7zm4 0h-2V7h2v10zm4 0h-2v-4h2v4z\"/>\n",
              "    </g>\n",
              "</svg>\n",
              "      </button>\n",
              "    </div>\n",
              "\n",
              "<style>\n",
              "  .colab-df-quickchart {\n",
              "    background-color: #E8F0FE;\n",
              "    border: none;\n",
              "    border-radius: 50%;\n",
              "    cursor: pointer;\n",
              "    display: none;\n",
              "    fill: #1967D2;\n",
              "    height: 32px;\n",
              "    padding: 0 0 0 0;\n",
              "    width: 32px;\n",
              "  }\n",
              "\n",
              "  .colab-df-quickchart:hover {\n",
              "    background-color: #E2EBFA;\n",
              "    box-shadow: 0px 1px 2px rgba(60, 64, 67, 0.3), 0px 1px 3px 1px rgba(60, 64, 67, 0.15);\n",
              "    fill: #174EA6;\n",
              "  }\n",
              "\n",
              "  [theme=dark] .colab-df-quickchart {\n",
              "    background-color: #3B4455;\n",
              "    fill: #D2E3FC;\n",
              "  }\n",
              "\n",
              "  [theme=dark] .colab-df-quickchart:hover {\n",
              "    background-color: #434B5C;\n",
              "    box-shadow: 0px 1px 3px 1px rgba(0, 0, 0, 0.15);\n",
              "    filter: drop-shadow(0px 1px 2px rgba(0, 0, 0, 0.3));\n",
              "    fill: #FFFFFF;\n",
              "  }\n",
              "</style>\n",
              "\n",
              "    <script>\n",
              "      async function quickchart(key) {\n",
              "        const containerElement = document.querySelector('#' + key);\n",
              "        const charts = await google.colab.kernel.invokeFunction(\n",
              "            'suggestCharts', [key], {});\n",
              "      }\n",
              "    </script>\n",
              "\n",
              "\n",
              "      <script>\n",
              "\n",
              "function displayQuickchartButton(domScope) {\n",
              "  let quickchartButtonEl =\n",
              "    domScope.querySelector('#df-1c88743b-38f0-4a86-8899-e75de2f262f9 button.colab-df-quickchart');\n",
              "  quickchartButtonEl.style.display =\n",
              "    google.colab.kernel.accessAllowed ? 'block' : 'none';\n",
              "}\n",
              "\n",
              "        displayQuickchartButton(document);\n",
              "      </script>\n",
              "      <style>\n",
              "    .colab-df-container {\n",
              "      display:flex;\n",
              "      flex-wrap:wrap;\n",
              "      gap: 12px;\n",
              "    }\n",
              "\n",
              "    .colab-df-convert {\n",
              "      background-color: #E8F0FE;\n",
              "      border: none;\n",
              "      border-radius: 50%;\n",
              "      cursor: pointer;\n",
              "      display: none;\n",
              "      fill: #1967D2;\n",
              "      height: 32px;\n",
              "      padding: 0 0 0 0;\n",
              "      width: 32px;\n",
              "    }\n",
              "\n",
              "    .colab-df-convert:hover {\n",
              "      background-color: #E2EBFA;\n",
              "      box-shadow: 0px 1px 2px rgba(60, 64, 67, 0.3), 0px 1px 3px 1px rgba(60, 64, 67, 0.15);\n",
              "      fill: #174EA6;\n",
              "    }\n",
              "\n",
              "    [theme=dark] .colab-df-convert {\n",
              "      background-color: #3B4455;\n",
              "      fill: #D2E3FC;\n",
              "    }\n",
              "\n",
              "    [theme=dark] .colab-df-convert:hover {\n",
              "      background-color: #434B5C;\n",
              "      box-shadow: 0px 1px 3px 1px rgba(0, 0, 0, 0.15);\n",
              "      filter: drop-shadow(0px 1px 2px rgba(0, 0, 0, 0.3));\n",
              "      fill: #FFFFFF;\n",
              "    }\n",
              "  </style>\n",
              "\n",
              "      <script>\n",
              "        const buttonEl =\n",
              "          document.querySelector('#df-d041d226-d1fd-43df-8b08-0b269ffaea03 button.colab-df-convert');\n",
              "        buttonEl.style.display =\n",
              "          google.colab.kernel.accessAllowed ? 'block' : 'none';\n",
              "\n",
              "        async function convertToInteractive(key) {\n",
              "          const element = document.querySelector('#df-d041d226-d1fd-43df-8b08-0b269ffaea03');\n",
              "          const dataTable =\n",
              "            await google.colab.kernel.invokeFunction('convertToInteractive',\n",
              "                                                     [key], {});\n",
              "          if (!dataTable) return;\n",
              "\n",
              "          const docLinkHtml = 'Like what you see? Visit the ' +\n",
              "            '<a target=\"_blank\" href=https://colab.research.google.com/notebooks/data_table.ipynb>data table notebook</a>'\n",
              "            + ' to learn more about interactive tables.';\n",
              "          element.innerHTML = '';\n",
              "          dataTable['output_type'] = 'display_data';\n",
              "          await google.colab.output.renderOutput(dataTable, element);\n",
              "          const docLink = document.createElement('div');\n",
              "          docLink.innerHTML = docLinkHtml;\n",
              "          element.appendChild(docLink);\n",
              "        }\n",
              "      </script>\n",
              "    </div>\n",
              "  </div>\n"
            ]
          },
          "metadata": {},
          "execution_count": 6
        }
      ]
    },
    {
      "cell_type": "markdown",
      "source": [
        "- 문제, 정답 분리"
      ],
      "metadata": {
        "id": "x4ovZAHfMg86"
      }
    },
    {
      "cell_type": "code",
      "source": [
        "# 문제는 마지막열 빼고 나머지, 정답은 마지막열\n",
        "X = data.iloc[:,:17]  # 또는 data.iloc[:,:-1]\n",
        "y = data[17]  # 또는 data[-1] 또는 data.iloc[:,-1]"
      ],
      "metadata": {
        "id": "tUH_VmRaMEU6"
      },
      "execution_count": null,
      "outputs": []
    },
    {
      "cell_type": "code",
      "source": [
        "X.shape, y.shape"
      ],
      "metadata": {
        "colab": {
          "base_uri": "https://localhost:8080/"
        },
        "id": "KMaC5cSVMmfO",
        "outputId": "32466081-1b9f-4e59-db1c-b4201ff01b08"
      },
      "execution_count": null,
      "outputs": [
        {
          "output_type": "execute_result",
          "data": {
            "text/plain": [
              "((470, 17), (470,))"
            ]
          },
          "metadata": {},
          "execution_count": 8
        }
      ]
    },
    {
      "cell_type": "markdown",
      "source": [
        "- 학습, 평가 데이터 분리"
      ],
      "metadata": {
        "id": "3SQY08FENqGV"
      }
    },
    {
      "cell_type": "code",
      "source": [
        "from sklearn.model_selection import train_test_split"
      ],
      "metadata": {
        "id": "I9BFlVDRM59s"
      },
      "execution_count": null,
      "outputs": []
    },
    {
      "cell_type": "code",
      "source": [
        "X_train, X_test, y_train, y_test = train_test_split(X, y, random_state=999)"
      ],
      "metadata": {
        "id": "4PfGvbWzNd6e"
      },
      "execution_count": null,
      "outputs": []
    },
    {
      "cell_type": "code",
      "source": [
        "X_train.shape, X_test.shape, y_train.shape, y_test.shape"
      ],
      "metadata": {
        "colab": {
          "base_uri": "https://localhost:8080/"
        },
        "id": "RMzQYObyNwXp",
        "outputId": "f0d2df99-2e25-4131-b1aa-164c0537bf20"
      },
      "execution_count": null,
      "outputs": [
        {
          "output_type": "execute_result",
          "data": {
            "text/plain": [
              "((352, 17), (118, 17), (352,), (118,))"
            ]
          },
          "metadata": {},
          "execution_count": 11
        }
      ]
    },
    {
      "cell_type": "markdown",
      "source": [
        "## 딥러닝 신경망 구성\n",
        "1. 신경망 구조 설계\n",
        "2. 학습 및 평가방법 설정\n",
        "3. 학습 + 시각화\n",
        "4. 모델 평가"
      ],
      "metadata": {
        "id": "0yiUqXklOfO3"
      }
    },
    {
      "cell_type": "code",
      "source": [
        "from tensorflow.keras import Sequential # 신경망의 뼈대를 구축하기 위한 함수\n",
        "from tensorflow.keras.layers import Dense # 신경망 층(뉴런의 묶음)을 구성해주는 함수"
      ],
      "metadata": {
        "id": "fpyUMz7qN9lo"
      },
      "execution_count": null,
      "outputs": []
    },
    {
      "cell_type": "code",
      "source": [
        "# 1. 신경망 구조 설계\n",
        "# 신경망 뼈대 설정\n",
        "model = Sequential()\n",
        "\n",
        "# 입력+중간층 설정\n",
        "model.add(Dense(16, input_dim=17, activation='sigmoid'))\n",
        "  # input_dim : 입력되는 특성의 수 -> 입력층 1개\n",
        "  # 중간층 1개(Dense로 설정)\n",
        "  # activation : 활성화 함수(들어온 자극(데이터)에 대한 응답 여부를 결정하는 함수)\n",
        "\n",
        "# 중간층 추가 (층마다 활성화함수 다르게 가능)\n",
        "model.add(Dense(8, activation='sigmoid')) # 하나의 층\n",
        "model.add(Dense(4, activation='sigmoid')) # 하나의 층\n",
        "\n",
        "# 출력층 설정 (출력층은 문제의 종류에 따라서 고정됨)\n",
        "# 2진분류 문제는 출력층 뉴련 개수 1개, 활성화함수는 sigmoid로 고정\n",
        "model.add(Dense(1, activation='sigmoid'))\n",
        "\n",
        "# 설계된 신경망의 정보를 요약해서 출력\n",
        "model.summary()"
      ],
      "metadata": {
        "colab": {
          "base_uri": "https://localhost:8080/"
        },
        "id": "RbUrmcbOPD2m",
        "outputId": "02df679c-139b-4139-f1a1-d9ce44e0017f"
      },
      "execution_count": null,
      "outputs": [
        {
          "output_type": "stream",
          "name": "stdout",
          "text": [
            "Model: \"sequential\"\n",
            "_________________________________________________________________\n",
            " Layer (type)                Output Shape              Param #   \n",
            "=================================================================\n",
            " dense (Dense)               (None, 16)                288       \n",
            "                                                                 \n",
            " dense_1 (Dense)             (None, 8)                 136       \n",
            "                                                                 \n",
            " dense_2 (Dense)             (None, 4)                 36        \n",
            "                                                                 \n",
            " dense_3 (Dense)             (None, 1)                 5         \n",
            "                                                                 \n",
            "=================================================================\n",
            "Total params: 465\n",
            "Trainable params: 465\n",
            "Non-trainable params: 0\n",
            "_________________________________________________________________\n"
          ]
        }
      ]
    },
    {
      "cell_type": "markdown",
      "source": [
        "![image.png](data:image/png;base64,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)"
      ],
      "metadata": {
        "id": "9HlmFdWNXL-s"
      }
    },
    {
      "cell_type": "markdown",
      "source": [
        "## activation(활성화함수) - 자극에 대한 반응여부와 그 정도를 결정하는 함수\n",
        "1. 회귀 : linear(선형함수) -> 신경망에서 도출된 수치값을 그대로 예측에 사용\n",
        "(신경망은 회귀모델을 기반으로 동작하기 때문)\n",
        "2. 분류 : 인공신경망은 선형회귀 모델을 기반으로 하고 있기 때문에 여기서 도출된 수치값으로는 분류 문제를 풀기 힘듦\n",
        "  - 이진분류 : sigmoid함수를 통해서 최종적으로 0 or 1로 분류를 해낼 수 있음"
      ],
      "metadata": {
        "id": "VP0ORkb_5Tk0"
      }
    },
    {
      "cell_type": "code",
      "source": [
        "# 2. 신경망 학습 및 평가방법 설정\n",
        "# 손실함수(비용함수), 최적화함수, 평가방법 설정\n",
        "model.compile(loss='binary_crossentropy', # loss : 손실함수(비용함수) 설정  # binary_crossentropy : 2진 분류에 사용하는 손실함수\n",
        "                              # -> 오차의 평균을 구하는 것은 mse와 같지만 0~1 사이값(분류를 편하게 하기 위해)으로 변환 후 평균오차를 구해냄\n",
        "              optimizer='SGD', # optimizer : 최적화 함수 설정  # SGD : 확률적 경사하강법(mse가 최소가 되는 w,b 찾는 방법 중 하나)\n",
        "              metrics=['acc'] # metrics : 평가방법 설정  # acc: accuracy(정확도)\n",
        "              )"
      ],
      "metadata": {
        "id": "CC9OvgBTUusT"
      },
      "execution_count": null,
      "outputs": []
    },
    {
      "cell_type": "code",
      "source": [
        "# 3. 학습 및 시각화\n",
        "h = model.fit(X_train, y_train,\n",
        "              epochs=100  # 학습 횟수 설정\n",
        "              )"
      ],
      "metadata": {
        "colab": {
          "base_uri": "https://localhost:8080/"
        },
        "id": "QdvZcr7zXiod",
        "outputId": "d77a1cd9-0690-4961-dca4-99f12c2da004"
      },
      "execution_count": null,
      "outputs": [
        {
          "output_type": "stream",
          "name": "stdout",
          "text": [
            "Epoch 1/100\n",
            "11/11 [==============================] - 1s 4ms/step - loss: 0.5990 - acc: 0.8636\n",
            "Epoch 2/100\n",
            "11/11 [==============================] - 0s 2ms/step - loss: 0.5804 - acc: 0.8636\n",
            "Epoch 3/100\n",
            "11/11 [==============================] - 0s 2ms/step - loss: 0.5637 - acc: 0.8636\n",
            "Epoch 4/100\n",
            "11/11 [==============================] - 0s 2ms/step - loss: 0.5487 - acc: 0.8636\n",
            "Epoch 5/100\n",
            "11/11 [==============================] - 0s 2ms/step - loss: 0.5352 - acc: 0.8636\n",
            "Epoch 6/100\n",
            "11/11 [==============================] - 0s 2ms/step - loss: 0.5230 - acc: 0.8636\n",
            "Epoch 7/100\n",
            "11/11 [==============================] - 0s 2ms/step - loss: 0.5121 - acc: 0.8636\n",
            "Epoch 8/100\n",
            "11/11 [==============================] - 0s 2ms/step - loss: 0.5021 - acc: 0.8636\n",
            "Epoch 9/100\n",
            "11/11 [==============================] - 0s 3ms/step - loss: 0.4931 - acc: 0.8636\n",
            "Epoch 10/100\n",
            "11/11 [==============================] - 0s 2ms/step - loss: 0.4851 - acc: 0.8636\n",
            "Epoch 11/100\n",
            "11/11 [==============================] - 0s 2ms/step - loss: 0.4777 - acc: 0.8636\n",
            "Epoch 12/100\n",
            "11/11 [==============================] - 0s 2ms/step - loss: 0.4711 - acc: 0.8636\n",
            "Epoch 13/100\n",
            "11/11 [==============================] - 0s 2ms/step - loss: 0.4650 - acc: 0.8636\n",
            "Epoch 14/100\n",
            "11/11 [==============================] - 0s 2ms/step - loss: 0.4595 - acc: 0.8636\n",
            "Epoch 15/100\n",
            "11/11 [==============================] - 0s 2ms/step - loss: 0.4546 - acc: 0.8636\n",
            "Epoch 16/100\n",
            "11/11 [==============================] - 0s 3ms/step - loss: 0.4500 - acc: 0.8636\n",
            "Epoch 17/100\n",
            "11/11 [==============================] - 0s 2ms/step - loss: 0.4459 - acc: 0.8636\n",
            "Epoch 18/100\n",
            "11/11 [==============================] - 0s 2ms/step - loss: 0.4421 - acc: 0.8636\n",
            "Epoch 19/100\n",
            "11/11 [==============================] - 0s 2ms/step - loss: 0.4387 - acc: 0.8636\n",
            "Epoch 20/100\n",
            "11/11 [==============================] - 0s 2ms/step - loss: 0.4355 - acc: 0.8636\n",
            "Epoch 21/100\n",
            "11/11 [==============================] - 0s 2ms/step - loss: 0.4326 - acc: 0.8636\n",
            "Epoch 22/100\n",
            "11/11 [==============================] - 0s 2ms/step - loss: 0.4300 - acc: 0.8636\n",
            "Epoch 23/100\n",
            "11/11 [==============================] - 0s 2ms/step - loss: 0.4276 - acc: 0.8636\n",
            "Epoch 24/100\n",
            "11/11 [==============================] - 0s 2ms/step - loss: 0.4254 - acc: 0.8636\n",
            "Epoch 25/100\n",
            "11/11 [==============================] - 0s 2ms/step - loss: 0.4233 - acc: 0.8636\n",
            "Epoch 26/100\n",
            "11/11 [==============================] - 0s 2ms/step - loss: 0.4215 - acc: 0.8636\n",
            "Epoch 27/100\n",
            "11/11 [==============================] - 0s 2ms/step - loss: 0.4197 - acc: 0.8636\n",
            "Epoch 28/100\n",
            "11/11 [==============================] - 0s 2ms/step - loss: 0.4182 - acc: 0.8636\n",
            "Epoch 29/100\n",
            "11/11 [==============================] - 0s 2ms/step - loss: 0.4167 - acc: 0.8636\n",
            "Epoch 30/100\n",
            "11/11 [==============================] - 0s 2ms/step - loss: 0.4154 - acc: 0.8636\n",
            "Epoch 31/100\n",
            "11/11 [==============================] - 0s 2ms/step - loss: 0.4142 - acc: 0.8636\n",
            "Epoch 32/100\n",
            "11/11 [==============================] - 0s 2ms/step - loss: 0.4131 - acc: 0.8636\n",
            "Epoch 33/100\n",
            "11/11 [==============================] - 0s 2ms/step - loss: 0.4120 - acc: 0.8636\n",
            "Epoch 34/100\n",
            "11/11 [==============================] - 0s 2ms/step - loss: 0.4110 - acc: 0.8636\n",
            "Epoch 35/100\n",
            "11/11 [==============================] - 0s 2ms/step - loss: 0.4102 - acc: 0.8636\n",
            "Epoch 36/100\n",
            "11/11 [==============================] - 0s 2ms/step - loss: 0.4093 - acc: 0.8636\n",
            "Epoch 37/100\n",
            "11/11 [==============================] - 0s 2ms/step - loss: 0.4086 - acc: 0.8636\n",
            "Epoch 38/100\n",
            "11/11 [==============================] - 0s 2ms/step - loss: 0.4079 - acc: 0.8636\n",
            "Epoch 39/100\n",
            "11/11 [==============================] - 0s 2ms/step - loss: 0.4072 - acc: 0.8636\n",
            "Epoch 40/100\n",
            "11/11 [==============================] - 0s 2ms/step - loss: 0.4066 - acc: 0.8636\n",
            "Epoch 41/100\n",
            "11/11 [==============================] - 0s 2ms/step - loss: 0.4060 - acc: 0.8636\n",
            "Epoch 42/100\n",
            "11/11 [==============================] - 0s 2ms/step - loss: 0.4055 - acc: 0.8636\n",
            "Epoch 43/100\n",
            "11/11 [==============================] - 0s 2ms/step - loss: 0.4051 - acc: 0.8636\n",
            "Epoch 44/100\n",
            "11/11 [==============================] - 0s 2ms/step - loss: 0.4046 - acc: 0.8636\n",
            "Epoch 45/100\n",
            "11/11 [==============================] - 0s 2ms/step - loss: 0.4042 - acc: 0.8636\n",
            "Epoch 46/100\n",
            "11/11 [==============================] - 0s 2ms/step - loss: 0.4038 - acc: 0.8636\n",
            "Epoch 47/100\n",
            "11/11 [==============================] - 0s 2ms/step - loss: 0.4035 - acc: 0.8636\n",
            "Epoch 48/100\n",
            "11/11 [==============================] - 0s 2ms/step - loss: 0.4031 - acc: 0.8636\n",
            "Epoch 49/100\n",
            "11/11 [==============================] - 0s 2ms/step - loss: 0.4028 - acc: 0.8636\n",
            "Epoch 50/100\n",
            "11/11 [==============================] - 0s 2ms/step - loss: 0.4026 - acc: 0.8636\n",
            "Epoch 51/100\n",
            "11/11 [==============================] - 0s 3ms/step - loss: 0.4023 - acc: 0.8636\n",
            "Epoch 52/100\n",
            "11/11 [==============================] - 0s 2ms/step - loss: 0.4021 - acc: 0.8636\n",
            "Epoch 53/100\n",
            "11/11 [==============================] - 0s 2ms/step - loss: 0.4019 - acc: 0.8636\n",
            "Epoch 54/100\n",
            "11/11 [==============================] - 0s 2ms/step - loss: 0.4016 - acc: 0.8636\n",
            "Epoch 55/100\n",
            "11/11 [==============================] - 0s 2ms/step - loss: 0.4014 - acc: 0.8636\n",
            "Epoch 56/100\n",
            "11/11 [==============================] - 0s 2ms/step - loss: 0.4012 - acc: 0.8636\n",
            "Epoch 57/100\n",
            "11/11 [==============================] - 0s 2ms/step - loss: 0.4011 - acc: 0.8636\n",
            "Epoch 58/100\n",
            "11/11 [==============================] - 0s 2ms/step - loss: 0.4009 - acc: 0.8636\n",
            "Epoch 59/100\n",
            "11/11 [==============================] - 0s 2ms/step - loss: 0.4008 - acc: 0.8636\n",
            "Epoch 60/100\n",
            "11/11 [==============================] - 0s 2ms/step - loss: 0.4006 - acc: 0.8636\n",
            "Epoch 61/100\n",
            "11/11 [==============================] - 0s 2ms/step - loss: 0.4005 - acc: 0.8636\n",
            "Epoch 62/100\n",
            "11/11 [==============================] - 0s 2ms/step - loss: 0.4004 - acc: 0.8636\n",
            "Epoch 63/100\n",
            "11/11 [==============================] - 0s 2ms/step - loss: 0.4003 - acc: 0.8636\n",
            "Epoch 64/100\n",
            "11/11 [==============================] - 0s 2ms/step - loss: 0.4002 - acc: 0.8636\n",
            "Epoch 65/100\n",
            "11/11 [==============================] - 0s 2ms/step - loss: 0.4001 - acc: 0.8636\n",
            "Epoch 66/100\n",
            "11/11 [==============================] - 0s 2ms/step - loss: 0.4000 - acc: 0.8636\n",
            "Epoch 67/100\n",
            "11/11 [==============================] - 0s 2ms/step - loss: 0.3999 - acc: 0.8636\n",
            "Epoch 68/100\n",
            "11/11 [==============================] - 0s 2ms/step - loss: 0.3998 - acc: 0.8636\n",
            "Epoch 69/100\n",
            "11/11 [==============================] - 0s 2ms/step - loss: 0.3998 - acc: 0.8636\n",
            "Epoch 70/100\n",
            "11/11 [==============================] - 0s 2ms/step - loss: 0.3997 - acc: 0.8636\n",
            "Epoch 71/100\n",
            "11/11 [==============================] - 0s 2ms/step - loss: 0.3996 - acc: 0.8636\n",
            "Epoch 72/100\n",
            "11/11 [==============================] - 0s 2ms/step - loss: 0.3996 - acc: 0.8636\n",
            "Epoch 73/100\n",
            "11/11 [==============================] - 0s 2ms/step - loss: 0.3996 - acc: 0.8636\n",
            "Epoch 74/100\n",
            "11/11 [==============================] - 0s 2ms/step - loss: 0.3995 - acc: 0.8636\n",
            "Epoch 75/100\n",
            "11/11 [==============================] - 0s 2ms/step - loss: 0.3994 - acc: 0.8636\n",
            "Epoch 76/100\n",
            "11/11 [==============================] - 0s 2ms/step - loss: 0.3994 - acc: 0.8636\n",
            "Epoch 77/100\n",
            "11/11 [==============================] - 0s 2ms/step - loss: 0.3993 - acc: 0.8636\n",
            "Epoch 78/100\n",
            "11/11 [==============================] - 0s 2ms/step - loss: 0.3993 - acc: 0.8636\n",
            "Epoch 79/100\n",
            "11/11 [==============================] - 0s 2ms/step - loss: 0.3993 - acc: 0.8636\n",
            "Epoch 80/100\n",
            "11/11 [==============================] - 0s 2ms/step - loss: 0.3992 - acc: 0.8636\n",
            "Epoch 81/100\n",
            "11/11 [==============================] - 0s 2ms/step - loss: 0.3992 - acc: 0.8636\n",
            "Epoch 82/100\n",
            "11/11 [==============================] - 0s 2ms/step - loss: 0.3992 - acc: 0.8636\n",
            "Epoch 83/100\n",
            "11/11 [==============================] - 0s 2ms/step - loss: 0.3992 - acc: 0.8636\n",
            "Epoch 84/100\n",
            "11/11 [==============================] - 0s 3ms/step - loss: 0.3991 - acc: 0.8636\n",
            "Epoch 85/100\n",
            "11/11 [==============================] - 0s 2ms/step - loss: 0.3991 - acc: 0.8636\n",
            "Epoch 86/100\n",
            "11/11 [==============================] - 0s 3ms/step - loss: 0.3991 - acc: 0.8636\n",
            "Epoch 87/100\n",
            "11/11 [==============================] - 0s 2ms/step - loss: 0.3990 - acc: 0.8636\n",
            "Epoch 88/100\n",
            "11/11 [==============================] - 0s 2ms/step - loss: 0.3990 - acc: 0.8636\n",
            "Epoch 89/100\n",
            "11/11 [==============================] - 0s 2ms/step - loss: 0.3990 - acc: 0.8636\n",
            "Epoch 90/100\n",
            "11/11 [==============================] - 0s 2ms/step - loss: 0.3990 - acc: 0.8636\n",
            "Epoch 91/100\n",
            "11/11 [==============================] - 0s 2ms/step - loss: 0.3990 - acc: 0.8636\n",
            "Epoch 92/100\n",
            "11/11 [==============================] - 0s 2ms/step - loss: 0.3990 - acc: 0.8636\n",
            "Epoch 93/100\n",
            "11/11 [==============================] - 0s 2ms/step - loss: 0.3990 - acc: 0.8636\n",
            "Epoch 94/100\n",
            "11/11 [==============================] - 0s 2ms/step - loss: 0.3989 - acc: 0.8636\n",
            "Epoch 95/100\n",
            "11/11 [==============================] - 0s 2ms/step - loss: 0.3989 - acc: 0.8636\n",
            "Epoch 96/100\n",
            "11/11 [==============================] - 0s 2ms/step - loss: 0.3989 - acc: 0.8636\n",
            "Epoch 97/100\n",
            "11/11 [==============================] - 0s 2ms/step - loss: 0.3989 - acc: 0.8636\n",
            "Epoch 98/100\n",
            "11/11 [==============================] - 0s 2ms/step - loss: 0.3989 - acc: 0.8636\n",
            "Epoch 99/100\n",
            "11/11 [==============================] - 0s 2ms/step - loss: 0.3989 - acc: 0.8636\n",
            "Epoch 100/100\n",
            "11/11 [==============================] - 0s 2ms/step - loss: 0.3989 - acc: 0.8636\n"
          ]
        }
      ]
    },
    {
      "cell_type": "code",
      "source": [
        "# 시각화\n",
        "plt.figure(figsize=(15,5))\n",
        "\n",
        "plt.plot(h.history['acc'], label='acc')\n",
        "\n",
        "plt.legend()\n",
        "plt.show()"
      ],
      "metadata": {
        "colab": {
          "base_uri": "https://localhost:8080/",
          "height": 465
        },
        "id": "UDzXw2pA3vhE",
        "outputId": "ecdf4858-34e2-44bb-ce43-75e35ebb4e1b"
      },
      "execution_count": null,
      "outputs": [
        {
          "output_type": "display_data",
          "data": {
            "text/plain": [
              "<Figure size 1500x500 with 1 Axes>"
            ],
            "image/png": "[encoded data removed]"
          },
          "metadata": {}
        }
      ]
    },
    {
      "cell_type": "code",
      "source": [
        "# 4. 모델 평가\n",
        "model.evaluate(X_test, y_test)"
      ],
      "metadata": {
        "colab": {
          "base_uri": "https://localhost:8080/"
        },
        "id": "0QtPBRtE3wJ6",
        "outputId": "cf72ccd3-5daf-4177-da84-a538106613fe"
      },
      "execution_count": null,
      "outputs": [
        {
          "output_type": "stream",
          "name": "stdout",
          "text": [
            "4/4 [==============================] - 1s 7ms/step - loss: 0.4893 - acc: 0.8136\n"
          ]
        },
        {
          "output_type": "execute_result",
          "data": {
            "text/plain": [
              "[0.4893014430999756, 0.8135592937469482]"
            ]
          },
          "metadata": {},
          "execution_count": 17
        }
      ]
    }
  ]
}