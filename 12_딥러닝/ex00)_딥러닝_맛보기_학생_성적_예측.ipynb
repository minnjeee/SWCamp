{
  "nbformat": 4,
  "nbformat_minor": 0,
  "metadata": {
    "colab": {
      "provenance": [],
      "mount_file_id": "1BUgEPondex_lY1M8H8gijYIi7pI2EtXa",
      "authorship_tag": "ABX9TyMVWV3iJYaMy7RrJGpJjGWD",
      "include_colab_link": true
    },
    "kernelspec": {
      "name": "python3",
      "display_name": "Python 3"
    },
    "language_info": {
      "name": "python"
    }
  },
  "cells": [
    {
      "cell_type": "markdown",
      "metadata": {
        "id": "view-in-github",
        "colab_type": "text"
      },
      "source": [
        "<a href=\"https://colab.research.google.com/github/minnjeee/SWcamp/blob/main/ex00)_%EB%94%A5%EB%9F%AC%EB%8B%9D_%EB%A7%9B%EB%B3%B4%EA%B8%B0_%ED%95%99%EC%83%9D_%EC%84%B1%EC%A0%81_%EC%98%88%EC%B8%A1.ipynb\" target=\"_parent\"><img src=\"https://colab.research.google.com/assets/colab-badge.svg\" alt=\"Open In Colab\"/></a>"
      ]
    },
    {
      "cell_type": "markdown",
      "source": [
        "# 첫번째 시간입니다\n",
        "- 하이~"
      ],
      "metadata": {
        "id": "v77QAVHUFz1A"
      }
    },
    {
      "cell_type": "markdown",
      "source": [
        "# 목표\n",
        "- 학생들의 수학 성적을 예측하는 회귀 모델을 만들어보자!\n",
        "- keras를 이용해 신경망을 구성하는 방법을 익혀보자!"
      ],
      "metadata": {
        "id": "ibDSTl-cJiKS"
      }
    },
    {
      "cell_type": "code",
      "source": [
        "import numpy as np\n",
        "import pandas as pd\n",
        "import matplotlib.pyplot as plt"
      ],
      "metadata": {
        "id": "TiJ12GDnJq8q"
      },
      "execution_count": null,
      "outputs": []
    },
    {
      "cell_type": "code",
      "source": [
        "# 옆의 폴더의 파일의 오른쪽 버튼 -> 경로 복사 가능\n",
        "# pwd - print working directory : 현재 작업 경로 출력\n",
        "%pwd"
      ],
      "metadata": {
        "colab": {
          "base_uri": "https://localhost:8080/",
          "height": 35
        },
        "id": "nglIUiMhJu4A",
        "outputId": "95185c43-abca-430a-bd84-c40d4f642560"
      },
      "execution_count": null,
      "outputs": [
        {
          "output_type": "execute_result",
          "data": {
            "text/plain": [
              "'/content'"
            ],
            "application/vnd.google.colaboratory.intrinsic+json": {
              "type": "string"
            }
          },
          "metadata": {},
          "execution_count": 2
        }
      ]
    },
    {
      "cell_type": "code",
      "source": [
        "# cd - change directory : 작업 경로 변경\n",
        "%cd /content/drive/MyDrive/Colab Notebooks/SW캠프 데이터 비즈니스 과정"
      ],
      "metadata": {
        "colab": {
          "base_uri": "https://localhost:8080/"
        },
        "id": "PKbRsmUMKV9l",
        "outputId": "ec74d886-1304-4f5e-d72b-2f0fd155ad69"
      },
      "execution_count": null,
      "outputs": [
        {
          "output_type": "stream",
          "name": "stdout",
          "text": [
            "/content/drive/MyDrive/Colab Notebooks/SW캠프 데이터 비즈니스 과정\n"
          ]
        }
      ]
    },
    {
      "cell_type": "code",
      "source": [
        "%pwd"
      ],
      "metadata": {
        "colab": {
          "base_uri": "https://localhost:8080/",
          "height": 35
        },
        "id": "QqT9ragvK7CP",
        "outputId": "04cf451c-7910-4d8f-b57a-249a1f1d3086"
      },
      "execution_count": null,
      "outputs": [
        {
          "output_type": "execute_result",
          "data": {
            "text/plain": [
              "'/content/drive/MyDrive/Colab Notebooks/SW캠프 데이터 비즈니스 과정'"
            ],
            "application/vnd.google.colaboratory.intrinsic+json": {
              "type": "string"
            }
          },
          "metadata": {},
          "execution_count": 4
        }
      ]
    },
    {
      "cell_type": "code",
      "source": [
        "data = pd.read_csv('data/student-mat.csv', sep=\";\") # 구분자(sep)는 세미콜론(;)"
      ],
      "metadata": {
        "id": "DYwUIyHgK-n9"
      },
      "execution_count": null,
      "outputs": []
    },
    {
      "cell_type": "code",
      "source": [
        "pd.set_option(\"display.max_columns\",None) # 모든 컬럼 표시"
      ],
      "metadata": {
        "id": "HqJcxz7wL-Zs"
      },
      "execution_count": null,
      "outputs": []
    },
    {
      "cell_type": "code",
      "source": [
        "data"
      ],
      "metadata": {
        "colab": {
          "base_uri": "https://localhost:8080/",
          "height": 487
        },
        "id": "a8Da9RM2MDom",
        "outputId": "22a781a6-57ae-4f5b-fa5b-6da570cb4aa0"
      },
      "execution_count": null,
      "outputs": [
        {
          "output_type": "execute_result",
          "data": {
            "text/plain": [
              "    school sex  age address famsize Pstatus  Medu  Fedu      Mjob      Fjob  \\\n",
              "0       GP   F   18       U     GT3       A     4     4   at_home   teacher   \n",
              "1       GP   F   17       U     GT3       T     1     1   at_home     other   \n",
              "2       GP   F   15       U     LE3       T     1     1   at_home     other   \n",
              "3       GP   F   15       U     GT3       T     4     2    health  services   \n",
              "4       GP   F   16       U     GT3       T     3     3     other     other   \n",
              "..     ...  ..  ...     ...     ...     ...   ...   ...       ...       ...   \n",
              "390     MS   M   20       U     LE3       A     2     2  services  services   \n",
              "391     MS   M   17       U     LE3       T     3     1  services  services   \n",
              "392     MS   M   21       R     GT3       T     1     1     other     other   \n",
              "393     MS   M   18       R     LE3       T     3     2  services     other   \n",
              "394     MS   M   19       U     LE3       T     1     1     other   at_home   \n",
              "\n",
              "     reason guardian  traveltime  studytime  failures schoolsup famsup paid  \\\n",
              "0    course   mother           2          2         0       yes     no   no   \n",
              "1    course   father           1          2         0        no    yes   no   \n",
              "2     other   mother           1          2         3       yes     no  yes   \n",
              "3      home   mother           1          3         0        no    yes  yes   \n",
              "4      home   father           1          2         0        no    yes  yes   \n",
              "..      ...      ...         ...        ...       ...       ...    ...  ...   \n",
              "390  course    other           1          2         2        no    yes  yes   \n",
              "391  course   mother           2          1         0        no     no   no   \n",
              "392  course    other           1          1         3        no     no   no   \n",
              "393  course   mother           3          1         0        no     no   no   \n",
              "394  course   father           1          1         0        no     no   no   \n",
              "\n",
              "    activities nursery higher internet romantic  famrel  freetime  goout  \\\n",
              "0           no     yes    yes       no       no       4         3      4   \n",
              "1           no      no    yes      yes       no       5         3      3   \n",
              "2           no     yes    yes      yes       no       4         3      2   \n",
              "3          yes     yes    yes      yes      yes       3         2      2   \n",
              "4           no     yes    yes       no       no       4         3      2   \n",
              "..         ...     ...    ...      ...      ...     ...       ...    ...   \n",
              "390         no     yes    yes       no       no       5         5      4   \n",
              "391         no      no    yes      yes       no       2         4      5   \n",
              "392         no      no    yes       no       no       5         5      3   \n",
              "393         no      no    yes      yes       no       4         4      1   \n",
              "394         no     yes    yes      yes       no       3         2      3   \n",
              "\n",
              "     Dalc  Walc  health  absences  G1  G2  G3  \n",
              "0       1     1       3         6   5   6   6  \n",
              "1       1     1       3         4   5   5   6  \n",
              "2       2     3       3        10   7   8  10  \n",
              "3       1     1       5         2  15  14  15  \n",
              "4       1     2       5         4   6  10  10  \n",
              "..    ...   ...     ...       ...  ..  ..  ..  \n",
              "390     4     5       4        11   9   9   9  \n",
              "391     3     4       2         3  14  16  16  \n",
              "392     3     3       3         3  10   8   7  \n",
              "393     3     4       5         0  11  12  10  \n",
              "394     3     3       5         5   8   9   9  \n",
              "\n",
              "[395 rows x 33 columns]"
            ],
            "text/html": [
              "\n",
              "\n",
              "  <div id=\"df-8bb3f444-a2a1-4d5c-a066-839dda25fc99\">\n",
              "    <div class=\"colab-df-container\">\n",
              "      <div>\n",
              "<style scoped>\n",
              "    .dataframe tbody tr th:only-of-type {\n",
              "        vertical-align: middle;\n",
              "    }\n",
              "\n",
              "    .dataframe tbody tr th {\n",
              "        vertical-align: top;\n",
              "    }\n",
              "\n",
              "    .dataframe thead th {\n",
              "        text-align: right;\n",
              "    }\n",
              "</style>\n",
              "<table border=\"1\" class=\"dataframe\">\n",
              "  <thead>\n",
              "    <tr style=\"text-align: right;\">\n",
              "      <th></th>\n",
              "      <th>school</th>\n",
              "      <th>sex</th>\n",
              "      <th>age</th>\n",
              "      <th>address</th>\n",
              "      <th>famsize</th>\n",
              "      <th>Pstatus</th>\n",
              "      <th>Medu</th>\n",
              "      <th>Fedu</th>\n",
              "      <th>Mjob</th>\n",
              "      <th>Fjob</th>\n",
              "      <th>reason</th>\n",
              "      <th>guardian</th>\n",
              "      <th>traveltime</th>\n",
              "      <th>studytime</th>\n",
              "      <th>failures</th>\n",
              "      <th>schoolsup</th>\n",
              "      <th>famsup</th>\n",
              "      <th>paid</th>\n",
              "      <th>activities</th>\n",
              "      <th>nursery</th>\n",
              "      <th>higher</th>\n",
              "      <th>internet</th>\n",
              "      <th>romantic</th>\n",
              "      <th>famrel</th>\n",
              "      <th>freetime</th>\n",
              "      <th>goout</th>\n",
              "      <th>Dalc</th>\n",
              "      <th>Walc</th>\n",
              "      <th>health</th>\n",
              "      <th>absences</th>\n",
              "      <th>G1</th>\n",
              "      <th>G2</th>\n",
              "      <th>G3</th>\n",
              "    </tr>\n",
              "  </thead>\n",
              "  <tbody>\n",
              "    <tr>\n",
              "      <th>0</th>\n",
              "      <td>GP</td>\n",
              "      <td>F</td>\n",
              "      <td>18</td>\n",
              "      <td>U</td>\n",
              "      <td>GT3</td>\n",
              "      <td>A</td>\n",
              "      <td>4</td>\n",
              "      <td>4</td>\n",
              "      <td>at_home</td>\n",
              "      <td>teacher</td>\n",
              "      <td>course</td>\n",
              "      <td>mother</td>\n",
              "      <td>2</td>\n",
              "      <td>2</td>\n",
              "      <td>0</td>\n",
              "      <td>yes</td>\n",
              "      <td>no</td>\n",
              "      <td>no</td>\n",
              "      <td>no</td>\n",
              "      <td>yes</td>\n",
              "      <td>yes</td>\n",
              "      <td>no</td>\n",
              "      <td>no</td>\n",
              "      <td>4</td>\n",
              "      <td>3</td>\n",
              "      <td>4</td>\n",
              "      <td>1</td>\n",
              "      <td>1</td>\n",
              "      <td>3</td>\n",
              "      <td>6</td>\n",
              "      <td>5</td>\n",
              "      <td>6</td>\n",
              "      <td>6</td>\n",
              "    </tr>\n",
              "    <tr>\n",
              "      <th>1</th>\n",
              "      <td>GP</td>\n",
              "      <td>F</td>\n",
              "      <td>17</td>\n",
              "      <td>U</td>\n",
              "      <td>GT3</td>\n",
              "      <td>T</td>\n",
              "      <td>1</td>\n",
              "      <td>1</td>\n",
              "      <td>at_home</td>\n",
              "      <td>other</td>\n",
              "      <td>course</td>\n",
              "      <td>father</td>\n",
              "      <td>1</td>\n",
              "      <td>2</td>\n",
              "      <td>0</td>\n",
              "      <td>no</td>\n",
              "      <td>yes</td>\n",
              "      <td>no</td>\n",
              "      <td>no</td>\n",
              "      <td>no</td>\n",
              "      <td>yes</td>\n",
              "      <td>yes</td>\n",
              "      <td>no</td>\n",
              "      <td>5</td>\n",
              "      <td>3</td>\n",
              "      <td>3</td>\n",
              "      <td>1</td>\n",
              "      <td>1</td>\n",
              "      <td>3</td>\n",
              "      <td>4</td>\n",
              "      <td>5</td>\n",
              "      <td>5</td>\n",
              "      <td>6</td>\n",
              "    </tr>\n",
              "    <tr>\n",
              "      <th>2</th>\n",
              "      <td>GP</td>\n",
              "      <td>F</td>\n",
              "      <td>15</td>\n",
              "      <td>U</td>\n",
              "      <td>LE3</td>\n",
              "      <td>T</td>\n",
              "      <td>1</td>\n",
              "      <td>1</td>\n",
              "      <td>at_home</td>\n",
              "      <td>other</td>\n",
              "      <td>other</td>\n",
              "      <td>mother</td>\n",
              "      <td>1</td>\n",
              "      <td>2</td>\n",
              "      <td>3</td>\n",
              "      <td>yes</td>\n",
              "      <td>no</td>\n",
              "      <td>yes</td>\n",
              "      <td>no</td>\n",
              "      <td>yes</td>\n",
              "      <td>yes</td>\n",
              "      <td>yes</td>\n",
              "      <td>no</td>\n",
              "      <td>4</td>\n",
              "      <td>3</td>\n",
              "      <td>2</td>\n",
              "      <td>2</td>\n",
              "      <td>3</td>\n",
              "      <td>3</td>\n",
              "      <td>10</td>\n",
              "      <td>7</td>\n",
              "      <td>8</td>\n",
              "      <td>10</td>\n",
              "    </tr>\n",
              "    <tr>\n",
              "      <th>3</th>\n",
              "      <td>GP</td>\n",
              "      <td>F</td>\n",
              "      <td>15</td>\n",
              "      <td>U</td>\n",
              "      <td>GT3</td>\n",
              "      <td>T</td>\n",
              "      <td>4</td>\n",
              "      <td>2</td>\n",
              "      <td>health</td>\n",
              "      <td>services</td>\n",
              "      <td>home</td>\n",
              "      <td>mother</td>\n",
              "      <td>1</td>\n",
              "      <td>3</td>\n",
              "      <td>0</td>\n",
              "      <td>no</td>\n",
              "      <td>yes</td>\n",
              "      <td>yes</td>\n",
              "      <td>yes</td>\n",
              "      <td>yes</td>\n",
              "      <td>yes</td>\n",
              "      <td>yes</td>\n",
              "      <td>yes</td>\n",
              "      <td>3</td>\n",
              "      <td>2</td>\n",
              "      <td>2</td>\n",
              "      <td>1</td>\n",
              "      <td>1</td>\n",
              "      <td>5</td>\n",
              "      <td>2</td>\n",
              "      <td>15</td>\n",
              "      <td>14</td>\n",
              "      <td>15</td>\n",
              "    </tr>\n",
              "    <tr>\n",
              "      <th>4</th>\n",
              "      <td>GP</td>\n",
              "      <td>F</td>\n",
              "      <td>16</td>\n",
              "      <td>U</td>\n",
              "      <td>GT3</td>\n",
              "      <td>T</td>\n",
              "      <td>3</td>\n",
              "      <td>3</td>\n",
              "      <td>other</td>\n",
              "      <td>other</td>\n",
              "      <td>home</td>\n",
              "      <td>father</td>\n",
              "      <td>1</td>\n",
              "      <td>2</td>\n",
              "      <td>0</td>\n",
              "      <td>no</td>\n",
              "      <td>yes</td>\n",
              "      <td>yes</td>\n",
              "      <td>no</td>\n",
              "      <td>yes</td>\n",
              "      <td>yes</td>\n",
              "      <td>no</td>\n",
              "      <td>no</td>\n",
              "      <td>4</td>\n",
              "      <td>3</td>\n",
              "      <td>2</td>\n",
              "      <td>1</td>\n",
              "      <td>2</td>\n",
              "      <td>5</td>\n",
              "      <td>4</td>\n",
              "      <td>6</td>\n",
              "      <td>10</td>\n",
              "      <td>10</td>\n",
              "    </tr>\n",
              "    <tr>\n",
              "      <th>...</th>\n",
              "      <td>...</td>\n",
              "      <td>...</td>\n",
              "      <td>...</td>\n",
              "      <td>...</td>\n",
              "      <td>...</td>\n",
              "      <td>...</td>\n",
              "      <td>...</td>\n",
              "      <td>...</td>\n",
              "      <td>...</td>\n",
              "      <td>...</td>\n",
              "      <td>...</td>\n",
              "      <td>...</td>\n",
              "      <td>...</td>\n",
              "      <td>...</td>\n",
              "      <td>...</td>\n",
              "      <td>...</td>\n",
              "      <td>...</td>\n",
              "      <td>...</td>\n",
              "      <td>...</td>\n",
              "      <td>...</td>\n",
              "      <td>...</td>\n",
              "      <td>...</td>\n",
              "      <td>...</td>\n",
              "      <td>...</td>\n",
              "      <td>...</td>\n",
              "      <td>...</td>\n",
              "      <td>...</td>\n",
              "      <td>...</td>\n",
              "      <td>...</td>\n",
              "      <td>...</td>\n",
              "      <td>...</td>\n",
              "      <td>...</td>\n",
              "      <td>...</td>\n",
              "    </tr>\n",
              "    <tr>\n",
              "      <th>390</th>\n",
              "      <td>MS</td>\n",
              "      <td>M</td>\n",
              "      <td>20</td>\n",
              "      <td>U</td>\n",
              "      <td>LE3</td>\n",
              "      <td>A</td>\n",
              "      <td>2</td>\n",
              "      <td>2</td>\n",
              "      <td>services</td>\n",
              "      <td>services</td>\n",
              "      <td>course</td>\n",
              "      <td>other</td>\n",
              "      <td>1</td>\n",
              "      <td>2</td>\n",
              "      <td>2</td>\n",
              "      <td>no</td>\n",
              "      <td>yes</td>\n",
              "      <td>yes</td>\n",
              "      <td>no</td>\n",
              "      <td>yes</td>\n",
              "      <td>yes</td>\n",
              "      <td>no</td>\n",
              "      <td>no</td>\n",
              "      <td>5</td>\n",
              "      <td>5</td>\n",
              "      <td>4</td>\n",
              "      <td>4</td>\n",
              "      <td>5</td>\n",
              "      <td>4</td>\n",
              "      <td>11</td>\n",
              "      <td>9</td>\n",
              "      <td>9</td>\n",
              "      <td>9</td>\n",
              "    </tr>\n",
              "    <tr>\n",
              "      <th>391</th>\n",
              "      <td>MS</td>\n",
              "      <td>M</td>\n",
              "      <td>17</td>\n",
              "      <td>U</td>\n",
              "      <td>LE3</td>\n",
              "      <td>T</td>\n",
              "      <td>3</td>\n",
              "      <td>1</td>\n",
              "      <td>services</td>\n",
              "      <td>services</td>\n",
              "      <td>course</td>\n",
              "      <td>mother</td>\n",
              "      <td>2</td>\n",
              "      <td>1</td>\n",
              "      <td>0</td>\n",
              "      <td>no</td>\n",
              "      <td>no</td>\n",
              "      <td>no</td>\n",
              "      <td>no</td>\n",
              "      <td>no</td>\n",
              "      <td>yes</td>\n",
              "      <td>yes</td>\n",
              "      <td>no</td>\n",
              "      <td>2</td>\n",
              "      <td>4</td>\n",
              "      <td>5</td>\n",
              "      <td>3</td>\n",
              "      <td>4</td>\n",
              "      <td>2</td>\n",
              "      <td>3</td>\n",
              "      <td>14</td>\n",
              "      <td>16</td>\n",
              "      <td>16</td>\n",
              "    </tr>\n",
              "    <tr>\n",
              "      <th>392</th>\n",
              "      <td>MS</td>\n",
              "      <td>M</td>\n",
              "      <td>21</td>\n",
              "      <td>R</td>\n",
              "      <td>GT3</td>\n",
              "      <td>T</td>\n",
              "      <td>1</td>\n",
              "      <td>1</td>\n",
              "      <td>other</td>\n",
              "      <td>other</td>\n",
              "      <td>course</td>\n",
              "      <td>other</td>\n",
              "      <td>1</td>\n",
              "      <td>1</td>\n",
              "      <td>3</td>\n",
              "      <td>no</td>\n",
              "      <td>no</td>\n",
              "      <td>no</td>\n",
              "      <td>no</td>\n",
              "      <td>no</td>\n",
              "      <td>yes</td>\n",
              "      <td>no</td>\n",
              "      <td>no</td>\n",
              "      <td>5</td>\n",
              "      <td>5</td>\n",
              "      <td>3</td>\n",
              "      <td>3</td>\n",
              "      <td>3</td>\n",
              "      <td>3</td>\n",
              "      <td>3</td>\n",
              "      <td>10</td>\n",
              "      <td>8</td>\n",
              "      <td>7</td>\n",
              "    </tr>\n",
              "    <tr>\n",
              "      <th>393</th>\n",
              "      <td>MS</td>\n",
              "      <td>M</td>\n",
              "      <td>18</td>\n",
              "      <td>R</td>\n",
              "      <td>LE3</td>\n",
              "      <td>T</td>\n",
              "      <td>3</td>\n",
              "      <td>2</td>\n",
              "      <td>services</td>\n",
              "      <td>other</td>\n",
              "      <td>course</td>\n",
              "      <td>mother</td>\n",
              "      <td>3</td>\n",
              "      <td>1</td>\n",
              "      <td>0</td>\n",
              "      <td>no</td>\n",
              "      <td>no</td>\n",
              "      <td>no</td>\n",
              "      <td>no</td>\n",
              "      <td>no</td>\n",
              "      <td>yes</td>\n",
              "      <td>yes</td>\n",
              "      <td>no</td>\n",
              "      <td>4</td>\n",
              "      <td>4</td>\n",
              "      <td>1</td>\n",
              "      <td>3</td>\n",
              "      <td>4</td>\n",
              "      <td>5</td>\n",
              "      <td>0</td>\n",
              "      <td>11</td>\n",
              "      <td>12</td>\n",
              "      <td>10</td>\n",
              "    </tr>\n",
              "    <tr>\n",
              "      <th>394</th>\n",
              "      <td>MS</td>\n",
              "      <td>M</td>\n",
              "      <td>19</td>\n",
              "      <td>U</td>\n",
              "      <td>LE3</td>\n",
              "      <td>T</td>\n",
              "      <td>1</td>\n",
              "      <td>1</td>\n",
              "      <td>other</td>\n",
              "      <td>at_home</td>\n",
              "      <td>course</td>\n",
              "      <td>father</td>\n",
              "      <td>1</td>\n",
              "      <td>1</td>\n",
              "      <td>0</td>\n",
              "      <td>no</td>\n",
              "      <td>no</td>\n",
              "      <td>no</td>\n",
              "      <td>no</td>\n",
              "      <td>yes</td>\n",
              "      <td>yes</td>\n",
              "      <td>yes</td>\n",
              "      <td>no</td>\n",
              "      <td>3</td>\n",
              "      <td>2</td>\n",
              "      <td>3</td>\n",
              "      <td>3</td>\n",
              "      <td>3</td>\n",
              "      <td>5</td>\n",
              "      <td>5</td>\n",
              "      <td>8</td>\n",
              "      <td>9</td>\n",
              "      <td>9</td>\n",
              "    </tr>\n",
              "  </tbody>\n",
              "</table>\n",
              "<p>395 rows × 33 columns</p>\n",
              "</div>\n",
              "      <button class=\"colab-df-convert\" onclick=\"convertToInteractive('df-8bb3f444-a2a1-4d5c-a066-839dda25fc99')\"\n",
              "              title=\"Convert this dataframe to an interactive table.\"\n",
              "              style=\"display:none;\">\n",
              "\n",
              "  <svg xmlns=\"http://www.w3.org/2000/svg\" height=\"24px\"viewBox=\"0 0 24 24\"\n",
              "       width=\"24px\">\n",
              "    <path d=\"M0 0h24v24H0V0z\" fill=\"none\"/>\n",
              "    <path d=\"M18.56 5.44l.94 2.06.94-2.06 2.06-.94-2.06-.94-.94-2.06-.94 2.06-2.06.94zm-11 1L8.5 8.5l.94-2.06 2.06-.94-2.06-.94L8.5 2.5l-.94 2.06-2.06.94zm10 10l.94 2.06.94-2.06 2.06-.94-2.06-.94-.94-2.06-.94 2.06-2.06.94z\"/><path d=\"M17.41 7.96l-1.37-1.37c-.4-.4-.92-.59-1.43-.59-.52 0-1.04.2-1.43.59L10.3 9.45l-7.72 7.72c-.78.78-.78 2.05 0 2.83L4 21.41c.39.39.9.59 1.41.59.51 0 1.02-.2 1.41-.59l7.78-7.78 2.81-2.81c.8-.78.8-2.07 0-2.86zM5.41 20L4 18.59l7.72-7.72 1.47 1.35L5.41 20z\"/>\n",
              "  </svg>\n",
              "      </button>\n",
              "\n",
              "\n",
              "\n",
              "    <div id=\"df-1ce56c81-fac6-4403-b989-22cc22b3a0a2\">\n",
              "      <button class=\"colab-df-quickchart\" onclick=\"quickchart('df-1ce56c81-fac6-4403-b989-22cc22b3a0a2')\"\n",
              "              title=\"Suggest charts.\"\n",
              "              style=\"display:none;\">\n",
              "\n",
              "<svg xmlns=\"http://www.w3.org/2000/svg\" height=\"24px\"viewBox=\"0 0 24 24\"\n",
              "     width=\"24px\">\n",
              "    <g>\n",
              "        <path d=\"M19 3H5c-1.1 0-2 .9-2 2v14c0 1.1.9 2 2 2h14c1.1 0 2-.9 2-2V5c0-1.1-.9-2-2-2zM9 17H7v-7h2v7zm4 0h-2V7h2v10zm4 0h-2v-4h2v4z\"/>\n",
              "    </g>\n",
              "</svg>\n",
              "      </button>\n",
              "    </div>\n",
              "\n",
              "<style>\n",
              "  .colab-df-quickchart {\n",
              "    background-color: #E8F0FE;\n",
              "    border: none;\n",
              "    border-radius: 50%;\n",
              "    cursor: pointer;\n",
              "    display: none;\n",
              "    fill: #1967D2;\n",
              "    height: 32px;\n",
              "    padding: 0 0 0 0;\n",
              "    width: 32px;\n",
              "  }\n",
              "\n",
              "  .colab-df-quickchart:hover {\n",
              "    background-color: #E2EBFA;\n",
              "    box-shadow: 0px 1px 2px rgba(60, 64, 67, 0.3), 0px 1px 3px 1px rgba(60, 64, 67, 0.15);\n",
              "    fill: #174EA6;\n",
              "  }\n",
              "\n",
              "  [theme=dark] .colab-df-quickchart {\n",
              "    background-color: #3B4455;\n",
              "    fill: #D2E3FC;\n",
              "  }\n",
              "\n",
              "  [theme=dark] .colab-df-quickchart:hover {\n",
              "    background-color: #434B5C;\n",
              "    box-shadow: 0px 1px 3px 1px rgba(0, 0, 0, 0.15);\n",
              "    filter: drop-shadow(0px 1px 2px rgba(0, 0, 0, 0.3));\n",
              "    fill: #FFFFFF;\n",
              "  }\n",
              "</style>\n",
              "\n",
              "    <script>\n",
              "      async function quickchart(key) {\n",
              "        const containerElement = document.querySelector('#' + key);\n",
              "        const charts = await google.colab.kernel.invokeFunction(\n",
              "            'suggestCharts', [key], {});\n",
              "      }\n",
              "    </script>\n",
              "\n",
              "      <script>\n",
              "\n",
              "function displayQuickchartButton(domScope) {\n",
              "  let quickchartButtonEl =\n",
              "    domScope.querySelector('#df-1ce56c81-fac6-4403-b989-22cc22b3a0a2 button.colab-df-quickchart');\n",
              "  quickchartButtonEl.style.display =\n",
              "    google.colab.kernel.accessAllowed ? 'block' : 'none';\n",
              "}\n",
              "\n",
              "        displayQuickchartButton(document);\n",
              "      </script>\n",
              "      <style>\n",
              "    .colab-df-container {\n",
              "      display:flex;\n",
              "      flex-wrap:wrap;\n",
              "      gap: 12px;\n",
              "    }\n",
              "\n",
              "    .colab-df-convert {\n",
              "      background-color: #E8F0FE;\n",
              "      border: none;\n",
              "      border-radius: 50%;\n",
              "      cursor: pointer;\n",
              "      display: none;\n",
              "      fill: #1967D2;\n",
              "      height: 32px;\n",
              "      padding: 0 0 0 0;\n",
              "      width: 32px;\n",
              "    }\n",
              "\n",
              "    .colab-df-convert:hover {\n",
              "      background-color: #E2EBFA;\n",
              "      box-shadow: 0px 1px 2px rgba(60, 64, 67, 0.3), 0px 1px 3px 1px rgba(60, 64, 67, 0.15);\n",
              "      fill: #174EA6;\n",
              "    }\n",
              "\n",
              "    [theme=dark] .colab-df-convert {\n",
              "      background-color: #3B4455;\n",
              "      fill: #D2E3FC;\n",
              "    }\n",
              "\n",
              "    [theme=dark] .colab-df-convert:hover {\n",
              "      background-color: #434B5C;\n",
              "      box-shadow: 0px 1px 3px 1px rgba(0, 0, 0, 0.15);\n",
              "      filter: drop-shadow(0px 1px 2px rgba(0, 0, 0, 0.3));\n",
              "      fill: #FFFFFF;\n",
              "    }\n",
              "  </style>\n",
              "\n",
              "      <script>\n",
              "        const buttonEl =\n",
              "          document.querySelector('#df-8bb3f444-a2a1-4d5c-a066-839dda25fc99 button.colab-df-convert');\n",
              "        buttonEl.style.display =\n",
              "          google.colab.kernel.accessAllowed ? 'block' : 'none';\n",
              "\n",
              "        async function convertToInteractive(key) {\n",
              "          const element = document.querySelector('#df-8bb3f444-a2a1-4d5c-a066-839dda25fc99');\n",
              "          const dataTable =\n",
              "            await google.colab.kernel.invokeFunction('convertToInteractive',\n",
              "                                                     [key], {});\n",
              "          if (!dataTable) return;\n",
              "\n",
              "          const docLinkHtml = 'Like what you see? Visit the ' +\n",
              "            '<a target=\"_blank\" href=https://colab.research.google.com/notebooks/data_table.ipynb>data table notebook</a>'\n",
              "            + ' to learn more about interactive tables.';\n",
              "          element.innerHTML = '';\n",
              "          dataTable['output_type'] = 'display_data';\n",
              "          await google.colab.output.renderOutput(dataTable, element);\n",
              "          const docLink = document.createElement('div');\n",
              "          docLink.innerHTML = docLinkHtml;\n",
              "          element.appendChild(docLink);\n",
              "        }\n",
              "      </script>\n",
              "    </div>\n",
              "  </div>\n"
            ]
          },
          "metadata": {},
          "execution_count": 14
        }
      ]
    },
    {
      "cell_type": "markdown",
      "source": [
        "- 문제, 정답 분리"
      ],
      "metadata": {
        "id": "x4ovZAHfMg86"
      }
    },
    {
      "cell_type": "code",
      "source": [
        "# 문제는 studytime, 정답은 G3\n",
        "X = data['studytime']\n",
        "y = data['G3']"
      ],
      "metadata": {
        "id": "tUH_VmRaMEU6"
      },
      "execution_count": null,
      "outputs": []
    },
    {
      "cell_type": "code",
      "source": [
        "X.shape, y.shape"
      ],
      "metadata": {
        "colab": {
          "base_uri": "https://localhost:8080/"
        },
        "id": "KMaC5cSVMmfO",
        "outputId": "1a6d0fb9-93ee-4b26-ef5b-c46f82e2e6cb"
      },
      "execution_count": null,
      "outputs": [
        {
          "output_type": "execute_result",
          "data": {
            "text/plain": [
              "((395,), (395,))"
            ]
          },
          "metadata": {},
          "execution_count": 17
        }
      ]
    },
    {
      "cell_type": "markdown",
      "source": [
        "- 학습, 평가 데이터 분리"
      ],
      "metadata": {
        "id": "3SQY08FENqGV"
      }
    },
    {
      "cell_type": "code",
      "source": [
        "from sklearn.model_selection import train_test_split"
      ],
      "metadata": {
        "id": "I9BFlVDRM59s"
      },
      "execution_count": null,
      "outputs": []
    },
    {
      "cell_type": "code",
      "source": [
        "X_train, X_test, y_train, y_test = train_test_split(X, y, random_state=33)"
      ],
      "metadata": {
        "id": "4PfGvbWzNd6e"
      },
      "execution_count": null,
      "outputs": []
    },
    {
      "cell_type": "code",
      "source": [
        "X_train.shape, X_test.shape, y_train.shape, y_test.shape"
      ],
      "metadata": {
        "colab": {
          "base_uri": "https://localhost:8080/"
        },
        "id": "RMzQYObyNwXp",
        "outputId": "68262430-1626-4a96-f557-acabbafa7d58"
      },
      "execution_count": null,
      "outputs": [
        {
          "output_type": "execute_result",
          "data": {
            "text/plain": [
              "((296,), (99,), (296,), (99,))"
            ]
          },
          "metadata": {},
          "execution_count": 20
        }
      ]
    },
    {
      "cell_type": "markdown",
      "source": [
        "## 신경망 모델 만들기\n",
        "1. 신경망 구조 설계\n",
        "2. 신경망 학습 및 평가 방법 설정\n",
        "3. 학습 및 학습과정 시각화\n",
        "4. 모델 평가"
      ],
      "metadata": {
        "id": "0yiUqXklOfO3"
      }
    },
    {
      "cell_type": "code",
      "source": [
        "# Sequential : 신경망의 뼈대를 구축하기 위한 함수\n",
        "from tensorflow.keras import Sequential\n",
        "# InputLayer : 신경망의 입력층을 생성\n",
        "# Dense : 신경망 층(뉴런의 묶음)을 구성해주는 함수\n",
        "from tensorflow.keras.layers import InputLayer, Dense"
      ],
      "metadata": {
        "id": "fpyUMz7qN9lo"
      },
      "execution_count": null,
      "outputs": []
    },
    {
      "cell_type": "code",
      "source": [
        "# 1. 신경망 구조 설계\n",
        "# 신경망 뼈대 설정\n",
        "model = Sequential()\n",
        "\n",
        "# 입력층 설정\n",
        "# input_shape : 입력 데이터의 특성 형태를 설정(1개의 특성을 가진 1차원 데이터)\n",
        "model.add(InputLayer(input_shape=(1,))) # 한개의 특성만 받을 수 있도록 설정 -> 하나의 뉴런의 독립변수 개수가 1개\n",
        "\n",
        "# 출력층 설정\n",
        "# Dense : 하나의 층을 쌓아주는 함수 (괄호 안의 숫자는 해당 층에 있는 뉴런의 개수)\n",
        "model.add(Dense(1)) # 출력층에 뉴런 1개 생성 (뉴런 하나는 선형회귀모델)\n",
        "\n",
        "# 설계된 신경망의 정보를 요약해서 출력\n",
        "model.summary()"
      ],
      "metadata": {
        "colab": {
          "base_uri": "https://localhost:8080/"
        },
        "id": "RbUrmcbOPD2m",
        "outputId": "75f123cf-1992-469e-ec9d-62bda9087d02"
      },
      "execution_count": null,
      "outputs": [
        {
          "output_type": "stream",
          "name": "stdout",
          "text": [
            "Model: \"sequential\"\n",
            "_________________________________________________________________\n",
            " Layer (type)                Output Shape              Param #   \n",
            "=================================================================\n",
            " dense (Dense)               (None, 1)                 2         \n",
            "                                                                 \n",
            "=================================================================\n",
            "Total params: 2\n",
            "Trainable params: 2\n",
            "Non-trainable params: 0\n",
            "_________________________________________________________________\n"
          ]
        }
      ]
    },
    {
      "cell_type": "markdown",
      "source": [
        "![image.png](data:image/png;base64,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)"
      ],
      "metadata": {
        "id": "Q7nzV98uXjzo"
      }
    },
    {
      "cell_type": "code",
      "source": [
        "# 2. 신경망 학습 및 평가방법 설정\n",
        "# 손실함수(비용함수), 최적화함수 설정\n",
        "model.compile(loss='mse',\n",
        "              optimizer='SGD')"
      ],
      "metadata": {
        "id": "CC9OvgBTUusT"
      },
      "execution_count": null,
      "outputs": []
    },
    {
      "cell_type": "code",
      "source": [
        "# 3. 학습 및 시각화\n",
        "h = model.fit(X_train, y_train,\n",
        "              epochs=100  # 학습 횟수 설정\n",
        "              )"
      ],
      "metadata": {
        "colab": {
          "base_uri": "https://localhost:8080/"
        },
        "id": "QdvZcr7zXiod",
        "outputId": "4fc7c882-de62-4c0d-d885-20217001a7f8"
      },
      "execution_count": null,
      "outputs": [
        {
          "output_type": "stream",
          "name": "stdout",
          "text": [
            "Epoch 1/100\n",
            "10/10 [==============================] - 0s 2ms/step - loss: 70.9936\n",
            "Epoch 2/100\n",
            "10/10 [==============================] - 0s 1ms/step - loss: 30.4285\n",
            "Epoch 3/100\n",
            "10/10 [==============================] - 0s 1ms/step - loss: 26.9266\n",
            "Epoch 4/100\n",
            "10/10 [==============================] - 0s 1ms/step - loss: 26.0426\n",
            "Epoch 5/100\n",
            "10/10 [==============================] - 0s 1ms/step - loss: 25.5956\n",
            "Epoch 6/100\n",
            "10/10 [==============================] - 0s 1ms/step - loss: 25.2652\n",
            "Epoch 7/100\n",
            "10/10 [==============================] - 0s 2ms/step - loss: 24.8762\n",
            "Epoch 8/100\n",
            "10/10 [==============================] - 0s 1ms/step - loss: 24.5884\n",
            "Epoch 9/100\n",
            "10/10 [==============================] - 0s 1ms/step - loss: 24.2388\n",
            "Epoch 10/100\n",
            "10/10 [==============================] - 0s 1ms/step - loss: 23.9304\n",
            "Epoch 11/100\n",
            "10/10 [==============================] - 0s 1ms/step - loss: 23.6917\n",
            "Epoch 12/100\n",
            "10/10 [==============================] - 0s 1ms/step - loss: 23.4248\n",
            "Epoch 13/100\n",
            "10/10 [==============================] - 0s 1ms/step - loss: 23.1742\n",
            "Epoch 14/100\n",
            "10/10 [==============================] - 0s 1ms/step - loss: 22.9602\n",
            "Epoch 15/100\n",
            "10/10 [==============================] - 0s 2ms/step - loss: 22.7055\n",
            "Epoch 16/100\n",
            "10/10 [==============================] - 0s 2ms/step - loss: 22.4738\n",
            "Epoch 17/100\n",
            "10/10 [==============================] - 0s 1ms/step - loss: 22.2331\n",
            "Epoch 18/100\n",
            "10/10 [==============================] - 0s 1ms/step - loss: 22.0423\n",
            "Epoch 19/100\n",
            "10/10 [==============================] - 0s 1ms/step - loss: 21.8782\n",
            "Epoch 20/100\n",
            "10/10 [==============================] - 0s 1ms/step - loss: 21.7058\n",
            "Epoch 21/100\n",
            "10/10 [==============================] - 0s 1ms/step - loss: 21.5163\n",
            "Epoch 22/100\n",
            "10/10 [==============================] - 0s 1ms/step - loss: 21.3565\n",
            "Epoch 23/100\n",
            "10/10 [==============================] - 0s 1ms/step - loss: 21.1528\n",
            "Epoch 24/100\n",
            "10/10 [==============================] - 0s 1ms/step - loss: 21.0027\n",
            "Epoch 25/100\n",
            "10/10 [==============================] - 0s 1ms/step - loss: 20.9180\n",
            "Epoch 26/100\n",
            "10/10 [==============================] - 0s 1ms/step - loss: 20.7344\n",
            "Epoch 27/100\n",
            "10/10 [==============================] - 0s 1ms/step - loss: 20.6067\n",
            "Epoch 28/100\n",
            "10/10 [==============================] - 0s 2ms/step - loss: 20.4858\n",
            "Epoch 29/100\n",
            "10/10 [==============================] - 0s 1ms/step - loss: 20.3921\n",
            "Epoch 30/100\n",
            "10/10 [==============================] - 0s 1ms/step - loss: 20.2940\n",
            "Epoch 31/100\n",
            "10/10 [==============================] - 0s 1ms/step - loss: 20.1899\n",
            "Epoch 32/100\n",
            "10/10 [==============================] - 0s 2ms/step - loss: 20.0797\n",
            "Epoch 33/100\n",
            "10/10 [==============================] - 0s 1ms/step - loss: 19.9485\n",
            "Epoch 34/100\n",
            "10/10 [==============================] - 0s 1ms/step - loss: 19.8689\n",
            "Epoch 35/100\n",
            "10/10 [==============================] - 0s 2ms/step - loss: 19.7926\n",
            "Epoch 36/100\n",
            "10/10 [==============================] - 0s 1ms/step - loss: 19.6749\n",
            "Epoch 37/100\n",
            "10/10 [==============================] - 0s 1ms/step - loss: 19.5927\n",
            "Epoch 38/100\n",
            "10/10 [==============================] - 0s 1ms/step - loss: 19.5697\n",
            "Epoch 39/100\n",
            "10/10 [==============================] - 0s 1ms/step - loss: 19.5101\n",
            "Epoch 40/100\n",
            "10/10 [==============================] - 0s 1ms/step - loss: 19.4183\n",
            "Epoch 41/100\n",
            "10/10 [==============================] - 0s 1ms/step - loss: 19.3340\n",
            "Epoch 42/100\n",
            "10/10 [==============================] - 0s 1ms/step - loss: 19.3079\n",
            "Epoch 43/100\n",
            "10/10 [==============================] - 0s 1ms/step - loss: 19.1887\n",
            "Epoch 44/100\n",
            "10/10 [==============================] - 0s 1ms/step - loss: 19.1801\n",
            "Epoch 45/100\n",
            "10/10 [==============================] - 0s 1ms/step - loss: 19.1597\n",
            "Epoch 46/100\n",
            "10/10 [==============================] - 0s 1ms/step - loss: 19.0780\n",
            "Epoch 47/100\n",
            "10/10 [==============================] - 0s 1ms/step - loss: 19.0360\n",
            "Epoch 48/100\n",
            "10/10 [==============================] - 0s 1ms/step - loss: 18.9699\n",
            "Epoch 49/100\n",
            "10/10 [==============================] - 0s 1ms/step - loss: 18.9398\n",
            "Epoch 50/100\n",
            "10/10 [==============================] - 0s 1ms/step - loss: 18.8624\n",
            "Epoch 51/100\n",
            "10/10 [==============================] - 0s 1ms/step - loss: 18.8476\n",
            "Epoch 52/100\n",
            "10/10 [==============================] - 0s 1ms/step - loss: 18.7975\n",
            "Epoch 53/100\n",
            "10/10 [==============================] - 0s 2ms/step - loss: 18.8339\n",
            "Epoch 54/100\n",
            "10/10 [==============================] - 0s 1ms/step - loss: 18.7271\n",
            "Epoch 55/100\n",
            "10/10 [==============================] - 0s 1ms/step - loss: 18.8248\n",
            "Epoch 56/100\n",
            "10/10 [==============================] - 0s 1ms/step - loss: 18.6842\n",
            "Epoch 57/100\n",
            "10/10 [==============================] - 0s 1ms/step - loss: 18.7117\n",
            "Epoch 58/100\n",
            "10/10 [==============================] - 0s 1ms/step - loss: 18.6047\n",
            "Epoch 59/100\n",
            "10/10 [==============================] - 0s 1ms/step - loss: 18.6202\n",
            "Epoch 60/100\n",
            "10/10 [==============================] - 0s 1ms/step - loss: 18.5702\n",
            "Epoch 61/100\n",
            "10/10 [==============================] - 0s 2ms/step - loss: 18.6909\n",
            "Epoch 62/100\n",
            "10/10 [==============================] - 0s 1ms/step - loss: 18.5456\n",
            "Epoch 63/100\n",
            "10/10 [==============================] - 0s 1ms/step - loss: 18.5135\n",
            "Epoch 64/100\n",
            "10/10 [==============================] - 0s 1ms/step - loss: 18.4687\n",
            "Epoch 65/100\n",
            "10/10 [==============================] - 0s 1ms/step - loss: 18.4291\n",
            "Epoch 66/100\n",
            "10/10 [==============================] - 0s 1ms/step - loss: 18.4449\n",
            "Epoch 67/100\n",
            "10/10 [==============================] - 0s 1ms/step - loss: 18.4191\n",
            "Epoch 68/100\n",
            "10/10 [==============================] - 0s 1ms/step - loss: 18.4094\n",
            "Epoch 69/100\n",
            "10/10 [==============================] - 0s 2ms/step - loss: 18.3778\n",
            "Epoch 70/100\n",
            "10/10 [==============================] - 0s 1ms/step - loss: 18.3783\n",
            "Epoch 71/100\n",
            "10/10 [==============================] - 0s 1ms/step - loss: 18.3557\n",
            "Epoch 72/100\n",
            "10/10 [==============================] - 0s 1ms/step - loss: 18.3224\n",
            "Epoch 73/100\n",
            "10/10 [==============================] - 0s 1ms/step - loss: 18.4582\n",
            "Epoch 74/100\n",
            "10/10 [==============================] - 0s 1ms/step - loss: 18.3233\n",
            "Epoch 75/100\n",
            "10/10 [==============================] - 0s 1ms/step - loss: 18.2888\n",
            "Epoch 76/100\n",
            "10/10 [==============================] - 0s 1ms/step - loss: 18.3430\n",
            "Epoch 77/100\n",
            "10/10 [==============================] - 0s 1ms/step - loss: 18.2776\n",
            "Epoch 78/100\n",
            "10/10 [==============================] - 0s 1ms/step - loss: 18.2912\n",
            "Epoch 79/100\n",
            "10/10 [==============================] - 0s 1ms/step - loss: 18.3232\n",
            "Epoch 80/100\n",
            "10/10 [==============================] - 0s 1ms/step - loss: 18.2778\n",
            "Epoch 81/100\n",
            "10/10 [==============================] - 0s 1ms/step - loss: 18.2740\n",
            "Epoch 82/100\n",
            "10/10 [==============================] - 0s 1ms/step - loss: 18.2552\n",
            "Epoch 83/100\n",
            "10/10 [==============================] - 0s 1ms/step - loss: 18.2654\n",
            "Epoch 84/100\n",
            "10/10 [==============================] - 0s 1ms/step - loss: 18.3120\n",
            "Epoch 85/100\n",
            "10/10 [==============================] - 0s 1ms/step - loss: 18.2198\n",
            "Epoch 86/100\n",
            "10/10 [==============================] - 0s 1ms/step - loss: 18.2117\n",
            "Epoch 87/100\n",
            "10/10 [==============================] - 0s 1ms/step - loss: 18.2229\n",
            "Epoch 88/100\n",
            "10/10 [==============================] - 0s 1ms/step - loss: 18.2560\n",
            "Epoch 89/100\n",
            "10/10 [==============================] - 0s 1ms/step - loss: 18.2474\n",
            "Epoch 90/100\n",
            "10/10 [==============================] - 0s 2ms/step - loss: 18.2921\n",
            "Epoch 91/100\n",
            "10/10 [==============================] - 0s 1ms/step - loss: 18.2068\n",
            "Epoch 92/100\n",
            "10/10 [==============================] - 0s 1ms/step - loss: 18.2304\n",
            "Epoch 93/100\n",
            "10/10 [==============================] - 0s 1ms/step - loss: 18.1931\n",
            "Epoch 94/100\n",
            "10/10 [==============================] - 0s 1ms/step - loss: 18.2506\n",
            "Epoch 95/100\n",
            "10/10 [==============================] - 0s 1ms/step - loss: 18.2157\n",
            "Epoch 96/100\n",
            "10/10 [==============================] - 0s 1ms/step - loss: 18.1533\n",
            "Epoch 97/100\n",
            "10/10 [==============================] - 0s 1ms/step - loss: 18.1764\n",
            "Epoch 98/100\n",
            "10/10 [==============================] - 0s 1ms/step - loss: 18.1831\n",
            "Epoch 99/100\n",
            "10/10 [==============================] - 0s 1ms/step - loss: 18.1618\n",
            "Epoch 100/100\n",
            "10/10 [==============================] - 0s 1ms/step - loss: 18.1778\n"
          ]
        }
      ]
    },
    {
      "cell_type": "code",
      "source": [
        "plt.figure(figsize=(15,5))\n",
        "\n",
        "# history : 학습 시 출력되는 값(loss, acc)들을 가져올 수 있게 해주는 명령\n",
        "plt.plot(h.history['loss'], label='loss') # loss는 mse\n",
        "\n",
        "plt.legend()\n",
        "plt.show()"
      ],
      "metadata": {
        "colab": {
          "base_uri": "https://localhost:8080/",
          "height": 465
        },
        "id": "_9XhCxWTX2AL",
        "outputId": "a9b67def-031c-4300-955c-563848e32af6"
      },
      "execution_count": null,
      "outputs": [
        {
          "output_type": "display_data",
          "data": {
            "text/plain": [
              "<Figure size 1500x500 with 1 Axes>"
            ],
            "image/png": "[encoded data removed]"
          },
          "metadata": {}
        }
      ]
    },
    {
      "cell_type": "markdown",
      "source": [
        "- 초반에는 빠르게 loss값(mse)이 떨어지고 있음\n",
        "- 경사하강법 초반에는 가중치(w), 절편(b)값이 임의의 값으로 설정되어 있기 때문에 몇 번만 학습시켜도 mse가 빠르게 줄어드는 것을 볼 수 있음"
      ],
      "metadata": {
        "id": "8jJFlQvqZ5_H"
      }
    },
    {
      "cell_type": "code",
      "source": [
        "# 4. 모델 평가\n",
        "model.evaluate(X_test, y_test)"
      ],
      "metadata": {
        "colab": {
          "base_uri": "https://localhost:8080/"
        },
        "id": "Zc_Ju2s_Y35m",
        "outputId": "b1b5755e-8a74-4497-e7a7-3be1e9719fb3"
      },
      "execution_count": null,
      "outputs": [
        {
          "output_type": "stream",
          "name": "stdout",
          "text": [
            "4/4 [==============================] - 0s 2ms/step - loss: 28.2589\n"
          ]
        },
        {
          "output_type": "execute_result",
          "data": {
            "text/plain": [
              "28.25893211364746"
            ]
          },
          "metadata": {},
          "execution_count": 26
        }
      ]
    },
    {
      "cell_type": "markdown",
      "source": [
        "## 입력 특성이 2개인 모델을 직접 만들어보자^_^\n",
        "- 문제(studytime, traveltime) - 변수명 X1\n",
        "- 정답(G3) - 변수명 y1\n",
        "- 신경망의 최종 출력층 뉴련 개수는 1개"
      ],
      "metadata": {
        "id": "nRjoFc74aywK"
      }
    },
    {
      "cell_type": "markdown",
      "source": [
        "![image.png](data:image/png;base64,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)"
      ],
      "metadata": {
        "id": "pFx-V1mkyOKR"
      }
    },
    {
      "cell_type": "code",
      "source": [
        "# 문제는 studytime, 정답은 G3\n",
        "X1 = data[['studytime','traveltime']]\n",
        "y1 = data['G3']"
      ],
      "metadata": {
        "id": "inuOqHYKb_Ir"
      },
      "execution_count": null,
      "outputs": []
    },
    {
      "cell_type": "code",
      "source": [
        "X1_train, X1_test, y1_train, y1_test = train_test_split(X, y, random_state=33)\n",
        "X1_train.shape, X1_test.shape, y1_train.shape, y1_test.shape"
      ],
      "metadata": {
        "colab": {
          "base_uri": "https://localhost:8080/"
        },
        "id": "wodCcFricEPR",
        "outputId": "8fd6b68c-75f1-4084-c4a6-ace41b7db792"
      },
      "execution_count": null,
      "outputs": [
        {
          "output_type": "execute_result",
          "data": {
            "text/plain": [
              "((296, 2), (99, 2), (296,), (99,))"
            ]
          },
          "metadata": {},
          "execution_count": 45
        }
      ]
    },
    {
      "cell_type": "code",
      "source": [
        "# 1. 신경망 구조 설계\n",
        "# 신경망 뼈대 설정\n",
        "model1 = Sequential()\n",
        "\n",
        "# 입력층 설정\n",
        "model1.add(InputLayer(input_shape=(2, ))) # 두 개의 특성만 받을 수 있도록 설정 -> 하나의 뉴런의 독립변수 개수가 2개\n",
        "\n",
        "# 출력층 설정\n",
        "model1.add(Dense(1)) # 출력층에 뉴런 1개 생성 (뉴런 하나는 선형회귀모델)\n",
        "\n",
        "# 설계된 신경망의 정보를 요약해서 출력\n",
        "model1.summary()"
      ],
      "metadata": {
        "colab": {
          "base_uri": "https://localhost:8080/"
        },
        "id": "LTFMjDOSaT9z",
        "outputId": "bbe6f54f-e635-45bc-e6fc-39461c0418bc"
      },
      "execution_count": null,
      "outputs": [
        {
          "output_type": "stream",
          "name": "stdout",
          "text": [
            "Model: \"sequential_6\"\n",
            "_________________________________________________________________\n",
            " Layer (type)                Output Shape              Param #   \n",
            "=================================================================\n",
            " dense_6 (Dense)             (None, 1)                 3         \n",
            "                                                                 \n",
            "=================================================================\n",
            "Total params: 3\n",
            "Trainable params: 3\n",
            "Non-trainable params: 0\n",
            "_________________________________________________________________\n"
          ]
        }
      ]
    },
    {
      "cell_type": "code",
      "source": [
        "# 2. 신경망 학습 및 평가방법 설정\n",
        "# 손실함수(비용함수), 최적화함수 설정\n",
        "model1.compile(loss='mse',\n",
        "              optimizer='SGD')"
      ],
      "metadata": {
        "id": "XtlHqAFsbOI1"
      },
      "execution_count": null,
      "outputs": []
    },
    {
      "cell_type": "code",
      "source": [
        "# 3. 학습 및 시각화\n",
        "h1 = model1.fit(X1_train, y1_train,\n",
        "              epochs=100  # 학습 횟수 설정\n",
        "              )"
      ],
      "metadata": {
        "colab": {
          "base_uri": "https://localhost:8080/"
        },
        "id": "wLptuldBbWIY",
        "outputId": "3d3c6b6c-f232-4ba6-fce9-678928514b27"
      },
      "execution_count": null,
      "outputs": [
        {
          "output_type": "stream",
          "name": "stdout",
          "text": [
            "Epoch 1/100\n",
            "10/10 [==============================] - 0s 1ms/step - loss: 18.3588\n",
            "Epoch 2/100\n",
            "10/10 [==============================] - 0s 1ms/step - loss: 18.2705\n",
            "Epoch 3/100\n",
            "10/10 [==============================] - 0s 1ms/step - loss: 18.2655\n",
            "Epoch 4/100\n",
            "10/10 [==============================] - 0s 1ms/step - loss: 18.2684\n",
            "Epoch 5/100\n",
            "10/10 [==============================] - 0s 1ms/step - loss: 18.2403\n",
            "Epoch 6/100\n",
            "10/10 [==============================] - 0s 1ms/step - loss: 18.1987\n",
            "Epoch 7/100\n",
            "10/10 [==============================] - 0s 1ms/step - loss: 18.2253\n",
            "Epoch 8/100\n",
            "10/10 [==============================] - 0s 1ms/step - loss: 18.2864\n",
            "Epoch 9/100\n",
            "10/10 [==============================] - 0s 1ms/step - loss: 18.2932\n",
            "Epoch 10/100\n",
            "10/10 [==============================] - 0s 1ms/step - loss: 18.2514\n",
            "Epoch 11/100\n",
            "10/10 [==============================] - 0s 2ms/step - loss: 18.1695\n",
            "Epoch 12/100\n",
            "10/10 [==============================] - 0s 1ms/step - loss: 18.1758\n",
            "Epoch 13/100\n",
            "10/10 [==============================] - 0s 2ms/step - loss: 18.1493\n",
            "Epoch 14/100\n",
            "10/10 [==============================] - 0s 2ms/step - loss: 18.1828\n",
            "Epoch 15/100\n",
            "10/10 [==============================] - 0s 1ms/step - loss: 18.1823\n",
            "Epoch 16/100\n",
            "10/10 [==============================] - 0s 1ms/step - loss: 18.1780\n",
            "Epoch 17/100\n",
            "10/10 [==============================] - 0s 1ms/step - loss: 18.2296\n",
            "Epoch 18/100\n",
            "10/10 [==============================] - 0s 2ms/step - loss: 18.1455\n",
            "Epoch 19/100\n",
            "10/10 [==============================] - 0s 2ms/step - loss: 18.1415\n",
            "Epoch 20/100\n",
            "10/10 [==============================] - 0s 2ms/step - loss: 18.1210\n",
            "Epoch 21/100\n",
            "10/10 [==============================] - 0s 1ms/step - loss: 18.1267\n",
            "Epoch 22/100\n",
            "10/10 [==============================] - 0s 1ms/step - loss: 18.0871\n",
            "Epoch 23/100\n",
            "10/10 [==============================] - 0s 1ms/step - loss: 18.0934\n",
            "Epoch 24/100\n",
            "10/10 [==============================] - 0s 2ms/step - loss: 18.1671\n",
            "Epoch 25/100\n",
            "10/10 [==============================] - 0s 1ms/step - loss: 18.0657\n",
            "Epoch 26/100\n",
            "10/10 [==============================] - 0s 1ms/step - loss: 18.0873\n",
            "Epoch 27/100\n",
            "10/10 [==============================] - 0s 1ms/step - loss: 18.0888\n",
            "Epoch 28/100\n",
            "10/10 [==============================] - 0s 1ms/step - loss: 18.0952\n",
            "Epoch 29/100\n",
            "10/10 [==============================] - 0s 1ms/step - loss: 18.0777\n",
            "Epoch 30/100\n",
            "10/10 [==============================] - 0s 1ms/step - loss: 18.0705\n",
            "Epoch 31/100\n",
            "10/10 [==============================] - 0s 1ms/step - loss: 18.0168\n",
            "Epoch 32/100\n",
            "10/10 [==============================] - 0s 2ms/step - loss: 18.0797\n",
            "Epoch 33/100\n",
            "10/10 [==============================] - 0s 1ms/step - loss: 18.1036\n",
            "Epoch 34/100\n",
            "10/10 [==============================] - 0s 1ms/step - loss: 18.0755\n",
            "Epoch 35/100\n",
            "10/10 [==============================] - 0s 1ms/step - loss: 18.0394\n",
            "Epoch 36/100\n",
            "10/10 [==============================] - 0s 1ms/step - loss: 18.0424\n",
            "Epoch 37/100\n",
            "10/10 [==============================] - 0s 1ms/step - loss: 18.0534\n",
            "Epoch 38/100\n",
            "10/10 [==============================] - 0s 1ms/step - loss: 18.0325\n",
            "Epoch 39/100\n",
            "10/10 [==============================] - 0s 1ms/step - loss: 18.1089\n",
            "Epoch 40/100\n",
            "10/10 [==============================] - 0s 1ms/step - loss: 18.0173\n",
            "Epoch 41/100\n",
            "10/10 [==============================] - 0s 1ms/step - loss: 17.9946\n",
            "Epoch 42/100\n",
            "10/10 [==============================] - 0s 1ms/step - loss: 17.9803\n",
            "Epoch 43/100\n",
            "10/10 [==============================] - 0s 1ms/step - loss: 18.0316\n",
            "Epoch 44/100\n",
            "10/10 [==============================] - 0s 2ms/step - loss: 18.0586\n",
            "Epoch 45/100\n",
            "10/10 [==============================] - 0s 2ms/step - loss: 18.0006\n",
            "Epoch 46/100\n",
            "10/10 [==============================] - 0s 2ms/step - loss: 17.9798\n",
            "Epoch 47/100\n",
            "10/10 [==============================] - 0s 1ms/step - loss: 17.9616\n",
            "Epoch 48/100\n",
            "10/10 [==============================] - 0s 1ms/step - loss: 17.9880\n",
            "Epoch 49/100\n",
            "10/10 [==============================] - 0s 1ms/step - loss: 17.9923\n",
            "Epoch 50/100\n",
            "10/10 [==============================] - 0s 1ms/step - loss: 17.9858\n",
            "Epoch 51/100\n",
            "10/10 [==============================] - 0s 1ms/step - loss: 17.9975\n",
            "Epoch 52/100\n",
            "10/10 [==============================] - 0s 1ms/step - loss: 17.9986\n",
            "Epoch 53/100\n",
            "10/10 [==============================] - 0s 2ms/step - loss: 17.9708\n",
            "Epoch 54/100\n",
            "10/10 [==============================] - 0s 1ms/step - loss: 17.9899\n",
            "Epoch 55/100\n",
            "10/10 [==============================] - 0s 1ms/step - loss: 17.9956\n",
            "Epoch 56/100\n",
            "10/10 [==============================] - 0s 1ms/step - loss: 17.9782\n",
            "Epoch 57/100\n",
            "10/10 [==============================] - 0s 1ms/step - loss: 18.0075\n",
            "Epoch 58/100\n",
            "10/10 [==============================] - 0s 2ms/step - loss: 17.9755\n",
            "Epoch 59/100\n",
            "10/10 [==============================] - 0s 1ms/step - loss: 18.1040\n",
            "Epoch 60/100\n",
            "10/10 [==============================] - 0s 2ms/step - loss: 17.9688\n",
            "Epoch 61/100\n",
            "10/10 [==============================] - 0s 1ms/step - loss: 17.9795\n",
            "Epoch 62/100\n",
            "10/10 [==============================] - 0s 1ms/step - loss: 17.9912\n",
            "Epoch 63/100\n",
            "10/10 [==============================] - 0s 1ms/step - loss: 17.9865\n",
            "Epoch 64/100\n",
            "10/10 [==============================] - 0s 2ms/step - loss: 18.0446\n",
            "Epoch 65/100\n",
            "10/10 [==============================] - 0s 1ms/step - loss: 17.9121\n",
            "Epoch 66/100\n",
            "10/10 [==============================] - 0s 1ms/step - loss: 17.9119\n",
            "Epoch 67/100\n",
            "10/10 [==============================] - 0s 1ms/step - loss: 17.9550\n",
            "Epoch 68/100\n",
            "10/10 [==============================] - 0s 2ms/step - loss: 18.0054\n",
            "Epoch 69/100\n",
            "10/10 [==============================] - 0s 1ms/step - loss: 17.9676\n",
            "Epoch 70/100\n",
            "10/10 [==============================] - 0s 1ms/step - loss: 17.9531\n",
            "Epoch 71/100\n",
            "10/10 [==============================] - 0s 1ms/step - loss: 17.9354\n",
            "Epoch 72/100\n",
            "10/10 [==============================] - 0s 1ms/step - loss: 18.0070\n",
            "Epoch 73/100\n",
            "10/10 [==============================] - 0s 1ms/step - loss: 17.9574\n",
            "Epoch 74/100\n",
            "10/10 [==============================] - 0s 1ms/step - loss: 18.0343\n",
            "Epoch 75/100\n",
            "10/10 [==============================] - 0s 1ms/step - loss: 17.9195\n",
            "Epoch 76/100\n",
            "10/10 [==============================] - 0s 1ms/step - loss: 17.9284\n",
            "Epoch 77/100\n",
            "10/10 [==============================] - 0s 2ms/step - loss: 17.9241\n",
            "Epoch 78/100\n",
            "10/10 [==============================] - 0s 1ms/step - loss: 17.9452\n",
            "Epoch 79/100\n",
            "10/10 [==============================] - 0s 1ms/step - loss: 17.8768\n",
            "Epoch 80/100\n",
            "10/10 [==============================] - 0s 1ms/step - loss: 17.8989\n",
            "Epoch 81/100\n",
            "10/10 [==============================] - 0s 1ms/step - loss: 17.9818\n",
            "Epoch 82/100\n",
            "10/10 [==============================] - 0s 2ms/step - loss: 18.0414\n",
            "Epoch 83/100\n",
            "10/10 [==============================] - 0s 1ms/step - loss: 17.8754\n",
            "Epoch 84/100\n",
            "10/10 [==============================] - 0s 1ms/step - loss: 17.9184\n",
            "Epoch 85/100\n",
            "10/10 [==============================] - 0s 1ms/step - loss: 17.8805\n",
            "Epoch 86/100\n",
            "10/10 [==============================] - 0s 2ms/step - loss: 17.9390\n",
            "Epoch 87/100\n",
            "10/10 [==============================] - 0s 2ms/step - loss: 17.9990\n",
            "Epoch 88/100\n",
            "10/10 [==============================] - 0s 1ms/step - loss: 17.9771\n",
            "Epoch 89/100\n",
            "10/10 [==============================] - 0s 1ms/step - loss: 17.9499\n",
            "Epoch 90/100\n",
            "10/10 [==============================] - 0s 2ms/step - loss: 17.9167\n",
            "Epoch 91/100\n",
            "10/10 [==============================] - 0s 1ms/step - loss: 17.9028\n",
            "Epoch 92/100\n",
            "10/10 [==============================] - 0s 2ms/step - loss: 17.9654\n",
            "Epoch 93/100\n",
            "10/10 [==============================] - 0s 1ms/step - loss: 17.9155\n",
            "Epoch 94/100\n",
            "10/10 [==============================] - 0s 1ms/step - loss: 17.9110\n",
            "Epoch 95/100\n",
            "10/10 [==============================] - 0s 1ms/step - loss: 17.8809\n",
            "Epoch 96/100\n",
            "10/10 [==============================] - 0s 1ms/step - loss: 17.9542\n",
            "Epoch 97/100\n",
            "10/10 [==============================] - 0s 1ms/step - loss: 17.8759\n",
            "Epoch 98/100\n",
            "10/10 [==============================] - 0s 2ms/step - loss: 17.8928\n",
            "Epoch 99/100\n",
            "10/10 [==============================] - 0s 1ms/step - loss: 17.9394\n",
            "Epoch 100/100\n",
            "10/10 [==============================] - 0s 1ms/step - loss: 17.9020\n"
          ]
        }
      ]
    },
    {
      "cell_type": "code",
      "source": [
        "plt.figure(figsize=(15,5))\n",
        "\n",
        "plt.plot(h1.history['loss'], label='loss') # loss는 mse\n",
        "\n",
        "plt.legend()\n",
        "plt.show()"
      ],
      "metadata": {
        "colab": {
          "base_uri": "https://localhost:8080/",
          "height": 237
        },
        "id": "l_JZn77MbaW_",
        "outputId": "30295ec3-21f4-44b1-fd8e-984002b3681d"
      },
      "execution_count": null,
      "outputs": [
        {
          "output_type": "display_data",
          "data": {
            "text/plain": [
              "<Figure size 1500x500 with 1 Axes>"
            ],
            "image/png": "[encoded data removed]"
          },
          "metadata": {}
        }
      ]
    },
    {
      "cell_type": "code",
      "source": [
        "# 4. 모델 평가\n",
        "model1.evaluate(X1_test, y1_test)"
      ],
      "metadata": {
        "colab": {
          "base_uri": "https://localhost:8080/"
        },
        "id": "ktykhGF3cVmF",
        "outputId": "6dd6300d-d19d-4319-d0c9-ab6ec7d725b9"
      },
      "execution_count": null,
      "outputs": [
        {
          "output_type": "stream",
          "name": "stdout",
          "text": [
            "4/4 [==============================] - 0s 2ms/step - loss: 28.9534\n"
          ]
        },
        {
          "output_type": "execute_result",
          "data": {
            "text/plain": [
              "28.953399658203125"
            ]
          },
          "metadata": {},
          "execution_count": 57
        }
      ]
    }
  ]
}
