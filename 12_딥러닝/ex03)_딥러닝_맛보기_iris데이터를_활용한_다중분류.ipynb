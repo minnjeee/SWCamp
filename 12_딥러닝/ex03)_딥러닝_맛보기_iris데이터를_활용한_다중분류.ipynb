{
  "nbformat": 4,
  "nbformat_minor": 0,
  "metadata": {
    "colab": {
      "provenance": [],
      "mount_file_id": "1k0zPNw4JOI4QBD24-YprX9pF5LEm3NiU",
      "authorship_tag": "ABX9TyNLrrd6q4/+CujJeZZMCHsX",
      "include_colab_link": true
    },
    "kernelspec": {
      "name": "python3",
      "display_name": "Python 3"
    },
    "language_info": {
      "name": "python"
    }
  },
  "cells": [
    {
      "cell_type": "markdown",
      "metadata": {
        "id": "view-in-github",
        "colab_type": "text"
      },
      "source": [
        "<a href=\"https://colab.research.google.com/github/minnjeee/SWcamp/blob/main/12_%EB%94%A5%EB%9F%AC%EB%8B%9D/ex03)_%EB%94%A5%EB%9F%AC%EB%8B%9D_%EB%A7%9B%EB%B3%B4%EA%B8%B0_iris%EB%8D%B0%EC%9D%B4%ED%84%B0%EB%A5%BC_%ED%99%9C%EC%9A%A9%ED%95%9C_%EB%8B%A4%EC%A4%91%EB%B6%84%EB%A5%98.ipynb\" target=\"_parent\"><img src=\"https://colab.research.google.com/assets/colab-badge.svg\" alt=\"Open In Colab\"/></a>"
      ]
    },
    {
      "cell_type": "markdown",
      "source": [
        "# 목표\n",
        "- 머신러닝에서 사용해봤던 iris 품종 예측 다중분류 문제를 신경망으로 풀어보자!"
      ],
      "metadata": {
        "id": "ibDSTl-cJiKS"
      }
    },
    {
      "cell_type": "code",
      "source": [
        "import numpy as np\n",
        "import pandas as pd\n",
        "import matplotlib.pyplot as plt\n",
        "\n",
        "# iris 데이터셋 임포트\n",
        "from sklearn.datasets import load_iris"
      ],
      "metadata": {
        "id": "TiJ12GDnJq8q"
      },
      "execution_count": null,
      "outputs": []
    },
    {
      "cell_type": "code",
      "source": [
        "data = load_iris()"
      ],
      "metadata": {
        "id": "DYwUIyHgK-n9"
      },
      "execution_count": null,
      "outputs": []
    },
    {
      "cell_type": "code",
      "source": [
        "data"
      ],
      "metadata": {
        "colab": {
          "base_uri": "https://localhost:8080/"
        },
        "id": "a8Da9RM2MDom",
        "outputId": "60c316f1-e852-40b9-92a8-70d0a7d65de6"
      },
      "execution_count": null,
      "outputs": [
        {
          "output_type": "execute_result",
          "data": {
            "text/plain": [
              "{'data': array([[5.1, 3.5, 1.4, 0.2],\n",
              "        [4.9, 3. , 1.4, 0.2],\n",
              "        [4.7, 3.2, 1.3, 0.2],\n",
              "        [4.6, 3.1, 1.5, 0.2],\n",
              "        [5. , 3.6, 1.4, 0.2],\n",
              "        [5.4, 3.9, 1.7, 0.4],\n",
              "        [4.6, 3.4, 1.4, 0.3],\n",
              "        [5. , 3.4, 1.5, 0.2],\n",
              "        [4.4, 2.9, 1.4, 0.2],\n",
              "        [4.9, 3.1, 1.5, 0.1],\n",
              "        [5.4, 3.7, 1.5, 0.2],\n",
              "        [4.8, 3.4, 1.6, 0.2],\n",
              "        [4.8, 3. , 1.4, 0.1],\n",
              "        [4.3, 3. , 1.1, 0.1],\n",
              "        [5.8, 4. , 1.2, 0.2],\n",
              "        [5.7, 4.4, 1.5, 0.4],\n",
              "        [5.4, 3.9, 1.3, 0.4],\n",
              "        [5.1, 3.5, 1.4, 0.3],\n",
              "        [5.7, 3.8, 1.7, 0.3],\n",
              "        [5.1, 3.8, 1.5, 0.3],\n",
              "        [5.4, 3.4, 1.7, 0.2],\n",
              "        [5.1, 3.7, 1.5, 0.4],\n",
              "        [4.6, 3.6, 1. , 0.2],\n",
              "        [5.1, 3.3, 1.7, 0.5],\n",
              "        [4.8, 3.4, 1.9, 0.2],\n",
              "        [5. , 3. , 1.6, 0.2],\n",
              "        [5. , 3.4, 1.6, 0.4],\n",
              "        [5.2, 3.5, 1.5, 0.2],\n",
              "        [5.2, 3.4, 1.4, 0.2],\n",
              "        [4.7, 3.2, 1.6, 0.2],\n",
              "        [4.8, 3.1, 1.6, 0.2],\n",
              "        [5.4, 3.4, 1.5, 0.4],\n",
              "        [5.2, 4.1, 1.5, 0.1],\n",
              "        [5.5, 4.2, 1.4, 0.2],\n",
              "        [4.9, 3.1, 1.5, 0.2],\n",
              "        [5. , 3.2, 1.2, 0.2],\n",
              "        [5.5, 3.5, 1.3, 0.2],\n",
              "        [4.9, 3.6, 1.4, 0.1],\n",
              "        [4.4, 3. , 1.3, 0.2],\n",
              "        [5.1, 3.4, 1.5, 0.2],\n",
              "        [5. , 3.5, 1.3, 0.3],\n",
              "        [4.5, 2.3, 1.3, 0.3],\n",
              "        [4.4, 3.2, 1.3, 0.2],\n",
              "        [5. , 3.5, 1.6, 0.6],\n",
              "        [5.1, 3.8, 1.9, 0.4],\n",
              "        [4.8, 3. , 1.4, 0.3],\n",
              "        [5.1, 3.8, 1.6, 0.2],\n",
              "        [4.6, 3.2, 1.4, 0.2],\n",
              "        [5.3, 3.7, 1.5, 0.2],\n",
              "        [5. , 3.3, 1.4, 0.2],\n",
              "        [7. , 3.2, 4.7, 1.4],\n",
              "        [6.4, 3.2, 4.5, 1.5],\n",
              "        [6.9, 3.1, 4.9, 1.5],\n",
              "        [5.5, 2.3, 4. , 1.3],\n",
              "        [6.5, 2.8, 4.6, 1.5],\n",
              "        [5.7, 2.8, 4.5, 1.3],\n",
              "        [6.3, 3.3, 4.7, 1.6],\n",
              "        [4.9, 2.4, 3.3, 1. ],\n",
              "        [6.6, 2.9, 4.6, 1.3],\n",
              "        [5.2, 2.7, 3.9, 1.4],\n",
              "        [5. , 2. , 3.5, 1. ],\n",
              "        [5.9, 3. , 4.2, 1.5],\n",
              "        [6. , 2.2, 4. , 1. ],\n",
              "        [6.1, 2.9, 4.7, 1.4],\n",
              "        [5.6, 2.9, 3.6, 1.3],\n",
              "        [6.7, 3.1, 4.4, 1.4],\n",
              "        [5.6, 3. , 4.5, 1.5],\n",
              "        [5.8, 2.7, 4.1, 1. ],\n",
              "        [6.2, 2.2, 4.5, 1.5],\n",
              "        [5.6, 2.5, 3.9, 1.1],\n",
              "        [5.9, 3.2, 4.8, 1.8],\n",
              "        [6.1, 2.8, 4. , 1.3],\n",
              "        [6.3, 2.5, 4.9, 1.5],\n",
              "        [6.1, 2.8, 4.7, 1.2],\n",
              "        [6.4, 2.9, 4.3, 1.3],\n",
              "        [6.6, 3. , 4.4, 1.4],\n",
              "        [6.8, 2.8, 4.8, 1.4],\n",
              "        [6.7, 3. , 5. , 1.7],\n",
              "        [6. , 2.9, 4.5, 1.5],\n",
              "        [5.7, 2.6, 3.5, 1. ],\n",
              "        [5.5, 2.4, 3.8, 1.1],\n",
              "        [5.5, 2.4, 3.7, 1. ],\n",
              "        [5.8, 2.7, 3.9, 1.2],\n",
              "        [6. , 2.7, 5.1, 1.6],\n",
              "        [5.4, 3. , 4.5, 1.5],\n",
              "        [6. , 3.4, 4.5, 1.6],\n",
              "        [6.7, 3.1, 4.7, 1.5],\n",
              "        [6.3, 2.3, 4.4, 1.3],\n",
              "        [5.6, 3. , 4.1, 1.3],\n",
              "        [5.5, 2.5, 4. , 1.3],\n",
              "        [5.5, 2.6, 4.4, 1.2],\n",
              "        [6.1, 3. , 4.6, 1.4],\n",
              "        [5.8, 2.6, 4. , 1.2],\n",
              "        [5. , 2.3, 3.3, 1. ],\n",
              "        [5.6, 2.7, 4.2, 1.3],\n",
              "        [5.7, 3. , 4.2, 1.2],\n",
              "        [5.7, 2.9, 4.2, 1.3],\n",
              "        [6.2, 2.9, 4.3, 1.3],\n",
              "        [5.1, 2.5, 3. , 1.1],\n",
              "        [5.7, 2.8, 4.1, 1.3],\n",
              "        [6.3, 3.3, 6. , 2.5],\n",
              "        [5.8, 2.7, 5.1, 1.9],\n",
              "        [7.1, 3. , 5.9, 2.1],\n",
              "        [6.3, 2.9, 5.6, 1.8],\n",
              "        [6.5, 3. , 5.8, 2.2],\n",
              "        [7.6, 3. , 6.6, 2.1],\n",
              "        [4.9, 2.5, 4.5, 1.7],\n",
              "        [7.3, 2.9, 6.3, 1.8],\n",
              "        [6.7, 2.5, 5.8, 1.8],\n",
              "        [7.2, 3.6, 6.1, 2.5],\n",
              "        [6.5, 3.2, 5.1, 2. ],\n",
              "        [6.4, 2.7, 5.3, 1.9],\n",
              "        [6.8, 3. , 5.5, 2.1],\n",
              "        [5.7, 2.5, 5. , 2. ],\n",
              "        [5.8, 2.8, 5.1, 2.4],\n",
              "        [6.4, 3.2, 5.3, 2.3],\n",
              "        [6.5, 3. , 5.5, 1.8],\n",
              "        [7.7, 3.8, 6.7, 2.2],\n",
              "        [7.7, 2.6, 6.9, 2.3],\n",
              "        [6. , 2.2, 5. , 1.5],\n",
              "        [6.9, 3.2, 5.7, 2.3],\n",
              "        [5.6, 2.8, 4.9, 2. ],\n",
              "        [7.7, 2.8, 6.7, 2. ],\n",
              "        [6.3, 2.7, 4.9, 1.8],\n",
              "        [6.7, 3.3, 5.7, 2.1],\n",
              "        [7.2, 3.2, 6. , 1.8],\n",
              "        [6.2, 2.8, 4.8, 1.8],\n",
              "        [6.1, 3. , 4.9, 1.8],\n",
              "        [6.4, 2.8, 5.6, 2.1],\n",
              "        [7.2, 3. , 5.8, 1.6],\n",
              "        [7.4, 2.8, 6.1, 1.9],\n",
              "        [7.9, 3.8, 6.4, 2. ],\n",
              "        [6.4, 2.8, 5.6, 2.2],\n",
              "        [6.3, 2.8, 5.1, 1.5],\n",
              "        [6.1, 2.6, 5.6, 1.4],\n",
              "        [7.7, 3. , 6.1, 2.3],\n",
              "        [6.3, 3.4, 5.6, 2.4],\n",
              "        [6.4, 3.1, 5.5, 1.8],\n",
              "        [6. , 3. , 4.8, 1.8],\n",
              "        [6.9, 3.1, 5.4, 2.1],\n",
              "        [6.7, 3.1, 5.6, 2.4],\n",
              "        [6.9, 3.1, 5.1, 2.3],\n",
              "        [5.8, 2.7, 5.1, 1.9],\n",
              "        [6.8, 3.2, 5.9, 2.3],\n",
              "        [6.7, 3.3, 5.7, 2.5],\n",
              "        [6.7, 3. , 5.2, 2.3],\n",
              "        [6.3, 2.5, 5. , 1.9],\n",
              "        [6.5, 3. , 5.2, 2. ],\n",
              "        [6.2, 3.4, 5.4, 2.3],\n",
              "        [5.9, 3. , 5.1, 1.8]]),\n",
              " 'target': array([0, 0, 0, 0, 0, 0, 0, 0, 0, 0, 0, 0, 0, 0, 0, 0, 0, 0, 0, 0, 0, 0,\n",
              "        0, 0, 0, 0, 0, 0, 0, 0, 0, 0, 0, 0, 0, 0, 0, 0, 0, 0, 0, 0, 0, 0,\n",
              "        0, 0, 0, 0, 0, 0, 1, 1, 1, 1, 1, 1, 1, 1, 1, 1, 1, 1, 1, 1, 1, 1,\n",
              "        1, 1, 1, 1, 1, 1, 1, 1, 1, 1, 1, 1, 1, 1, 1, 1, 1, 1, 1, 1, 1, 1,\n",
              "        1, 1, 1, 1, 1, 1, 1, 1, 1, 1, 1, 1, 2, 2, 2, 2, 2, 2, 2, 2, 2, 2,\n",
              "        2, 2, 2, 2, 2, 2, 2, 2, 2, 2, 2, 2, 2, 2, 2, 2, 2, 2, 2, 2, 2, 2,\n",
              "        2, 2, 2, 2, 2, 2, 2, 2, 2, 2, 2, 2, 2, 2, 2, 2, 2, 2]),\n",
              " 'frame': None,\n",
              " 'target_names': array(['setosa', 'versicolor', 'virginica'], dtype='<U10'),\n",
              " 'DESCR': '.. _iris_dataset:\\n\\nIris plants dataset\\n--------------------\\n\\n**Data Set Characteristics:**\\n\\n    :Number of Instances: 150 (50 in each of three classes)\\n    :Number of Attributes: 4 numeric, predictive attributes and the class\\n    :Attribute Information:\\n        - sepal length in cm\\n        - sepal width in cm\\n        - petal length in cm\\n        - petal width in cm\\n        - class:\\n                - Iris-Setosa\\n                - Iris-Versicolour\\n                - Iris-Virginica\\n                \\n    :Summary Statistics:\\n\\n    ============== ==== ==== ======= ===== ====================\\n                    Min  Max   Mean    SD   Class Correlation\\n    ============== ==== ==== ======= ===== ====================\\n    sepal length:   4.3  7.9   5.84   0.83    0.7826\\n    sepal width:    2.0  4.4   3.05   0.43   -0.4194\\n    petal length:   1.0  6.9   3.76   1.76    0.9490  (high!)\\n    petal width:    0.1  2.5   1.20   0.76    0.9565  (high!)\\n    ============== ==== ==== ======= ===== ====================\\n\\n    :Missing Attribute Values: None\\n    :Class Distribution: 33.3% for each of 3 classes.\\n    :Creator: R.A. Fisher\\n    :Donor: Michael Marshall (MARSHALL%PLU@io.arc.nasa.gov)\\n    :Date: July, 1988\\n\\nThe famous Iris database, first used by Sir R.A. Fisher. The dataset is taken\\nfrom Fisher\\'s paper. Note that it\\'s the same as in R, but not as in the UCI\\nMachine Learning Repository, which has two wrong data points.\\n\\nThis is perhaps the best known database to be found in the\\npattern recognition literature.  Fisher\\'s paper is a classic in the field and\\nis referenced frequently to this day.  (See Duda & Hart, for example.)  The\\ndata set contains 3 classes of 50 instances each, where each class refers to a\\ntype of iris plant.  One class is linearly separable from the other 2; the\\nlatter are NOT linearly separable from each other.\\n\\n.. topic:: References\\n\\n   - Fisher, R.A. \"The use of multiple measurements in taxonomic problems\"\\n     Annual Eugenics, 7, Part II, 179-188 (1936); also in \"Contributions to\\n     Mathematical Statistics\" (John Wiley, NY, 1950).\\n   - Duda, R.O., & Hart, P.E. (1973) Pattern Classification and Scene Analysis.\\n     (Q327.D83) John Wiley & Sons.  ISBN 0-471-22361-1.  See page 218.\\n   - Dasarathy, B.V. (1980) \"Nosing Around the Neighborhood: A New System\\n     Structure and Classification Rule for Recognition in Partially Exposed\\n     Environments\".  IEEE Transactions on Pattern Analysis and Machine\\n     Intelligence, Vol. PAMI-2, No. 1, 67-71.\\n   - Gates, G.W. (1972) \"The Reduced Nearest Neighbor Rule\".  IEEE Transactions\\n     on Information Theory, May 1972, 431-433.\\n   - See also: 1988 MLC Proceedings, 54-64.  Cheeseman et al\"s AUTOCLASS II\\n     conceptual clustering system finds 3 classes in the data.\\n   - Many, many more ...',\n",
              " 'feature_names': ['sepal length (cm)',\n",
              "  'sepal width (cm)',\n",
              "  'petal length (cm)',\n",
              "  'petal width (cm)'],\n",
              " 'filename': 'iris.csv',\n",
              " 'data_module': 'sklearn.datasets.data'}"
            ]
          },
          "metadata": {},
          "execution_count": 4
        }
      ]
    },
    {
      "cell_type": "code",
      "source": [
        "data.keys()"
      ],
      "metadata": {
        "colab": {
          "base_uri": "https://localhost:8080/"
        },
        "id": "o3YXOnad9T67",
        "outputId": "344365ee-db50-4c71-a1ff-a4c82db8bc1f"
      },
      "execution_count": null,
      "outputs": [
        {
          "output_type": "execute_result",
          "data": {
            "text/plain": [
              "dict_keys(['data', 'target', 'frame', 'target_names', 'DESCR', 'feature_names', 'filename', 'data_module'])"
            ]
          },
          "metadata": {},
          "execution_count": 5
        }
      ]
    },
    {
      "cell_type": "markdown",
      "source": [
        "- 문제, 정답 분리"
      ],
      "metadata": {
        "id": "x4ovZAHfMg86"
      }
    },
    {
      "cell_type": "code",
      "source": [
        "X = data['data']\n",
        "y = data['target']"
      ],
      "metadata": {
        "id": "tUH_VmRaMEU6"
      },
      "execution_count": null,
      "outputs": []
    },
    {
      "cell_type": "code",
      "source": [
        "X.shape, y.shape"
      ],
      "metadata": {
        "colab": {
          "base_uri": "https://localhost:8080/"
        },
        "id": "KMaC5cSVMmfO",
        "outputId": "bc7e03f2-c435-41a6-8665-abc0c8af3bfe"
      },
      "execution_count": null,
      "outputs": [
        {
          "output_type": "execute_result",
          "data": {
            "text/plain": [
              "((150, 4), (150,))"
            ]
          },
          "metadata": {},
          "execution_count": 7
        }
      ]
    },
    {
      "cell_type": "code",
      "source": [
        "y"
      ],
      "metadata": {
        "colab": {
          "base_uri": "https://localhost:8080/"
        },
        "id": "Xd9kjgXAXGym",
        "outputId": "58d7b8eb-a508-4958-c483-096bca9cf2f6"
      },
      "execution_count": null,
      "outputs": [
        {
          "output_type": "execute_result",
          "data": {
            "text/plain": [
              "array([0, 0, 0, 0, 0, 0, 0, 0, 0, 0, 0, 0, 0, 0, 0, 0, 0, 0, 0, 0, 0, 0,\n",
              "       0, 0, 0, 0, 0, 0, 0, 0, 0, 0, 0, 0, 0, 0, 0, 0, 0, 0, 0, 0, 0, 0,\n",
              "       0, 0, 0, 0, 0, 0, 1, 1, 1, 1, 1, 1, 1, 1, 1, 1, 1, 1, 1, 1, 1, 1,\n",
              "       1, 1, 1, 1, 1, 1, 1, 1, 1, 1, 1, 1, 1, 1, 1, 1, 1, 1, 1, 1, 1, 1,\n",
              "       1, 1, 1, 1, 1, 1, 1, 1, 1, 1, 1, 1, 2, 2, 2, 2, 2, 2, 2, 2, 2, 2,\n",
              "       2, 2, 2, 2, 2, 2, 2, 2, 2, 2, 2, 2, 2, 2, 2, 2, 2, 2, 2, 2, 2, 2,\n",
              "       2, 2, 2, 2, 2, 2, 2, 2, 2, 2, 2, 2, 2, 2, 2, 2, 2, 2])"
            ]
          },
          "metadata": {},
          "execution_count": 8
        }
      ]
    },
    {
      "cell_type": "markdown",
      "source": [
        "## 정답 데이터 인코딩\n",
        "- 신경망 출력층에서 각 클래스 값들에 대한 확률(0 ~ 1)값과 비교하여 정확한 오차를 구하기 위해서 정답의 범위도 0 ~ 1사이 값으로 변환시켜줘야함"
      ],
      "metadata": {
        "id": "NSWnaRKXXTxd"
      }
    },
    {
      "cell_type": "code",
      "source": [
        "y_one_hot = pd.get_dummies(y)\n",
        "y_one_hot"
      ],
      "metadata": {
        "colab": {
          "base_uri": "https://localhost:8080/",
          "height": 423
        },
        "id": "SjAbyL5CXScp",
        "outputId": "64063808-5aa9-480d-f248-44ecaf23c16b"
      },
      "execution_count": null,
      "outputs": [
        {
          "output_type": "execute_result",
          "data": {
            "text/plain": [
              "     0  1  2\n",
              "0    1  0  0\n",
              "1    1  0  0\n",
              "2    1  0  0\n",
              "3    1  0  0\n",
              "4    1  0  0\n",
              "..  .. .. ..\n",
              "145  0  0  1\n",
              "146  0  0  1\n",
              "147  0  0  1\n",
              "148  0  0  1\n",
              "149  0  0  1\n",
              "\n",
              "[150 rows x 3 columns]"
            ],
            "text/html": [
              "\n",
              "\n",
              "  <div id=\"df-a2d090aa-0e61-4914-b2ce-63366ace9653\">\n",
              "    <div class=\"colab-df-container\">\n",
              "      <div>\n",
              "<style scoped>\n",
              "    .dataframe tbody tr th:only-of-type {\n",
              "        vertical-align: middle;\n",
              "    }\n",
              "\n",
              "    .dataframe tbody tr th {\n",
              "        vertical-align: top;\n",
              "    }\n",
              "\n",
              "    .dataframe thead th {\n",
              "        text-align: right;\n",
              "    }\n",
              "</style>\n",
              "<table border=\"1\" class=\"dataframe\">\n",
              "  <thead>\n",
              "    <tr style=\"text-align: right;\">\n",
              "      <th></th>\n",
              "      <th>0</th>\n",
              "      <th>1</th>\n",
              "      <th>2</th>\n",
              "    </tr>\n",
              "  </thead>\n",
              "  <tbody>\n",
              "    <tr>\n",
              "      <th>0</th>\n",
              "      <td>1</td>\n",
              "      <td>0</td>\n",
              "      <td>0</td>\n",
              "    </tr>\n",
              "    <tr>\n",
              "      <th>1</th>\n",
              "      <td>1</td>\n",
              "      <td>0</td>\n",
              "      <td>0</td>\n",
              "    </tr>\n",
              "    <tr>\n",
              "      <th>2</th>\n",
              "      <td>1</td>\n",
              "      <td>0</td>\n",
              "      <td>0</td>\n",
              "    </tr>\n",
              "    <tr>\n",
              "      <th>3</th>\n",
              "      <td>1</td>\n",
              "      <td>0</td>\n",
              "      <td>0</td>\n",
              "    </tr>\n",
              "    <tr>\n",
              "      <th>4</th>\n",
              "      <td>1</td>\n",
              "      <td>0</td>\n",
              "      <td>0</td>\n",
              "    </tr>\n",
              "    <tr>\n",
              "      <th>...</th>\n",
              "      <td>...</td>\n",
              "      <td>...</td>\n",
              "      <td>...</td>\n",
              "    </tr>\n",
              "    <tr>\n",
              "      <th>145</th>\n",
              "      <td>0</td>\n",
              "      <td>0</td>\n",
              "      <td>1</td>\n",
              "    </tr>\n",
              "    <tr>\n",
              "      <th>146</th>\n",
              "      <td>0</td>\n",
              "      <td>0</td>\n",
              "      <td>1</td>\n",
              "    </tr>\n",
              "    <tr>\n",
              "      <th>147</th>\n",
              "      <td>0</td>\n",
              "      <td>0</td>\n",
              "      <td>1</td>\n",
              "    </tr>\n",
              "    <tr>\n",
              "      <th>148</th>\n",
              "      <td>0</td>\n",
              "      <td>0</td>\n",
              "      <td>1</td>\n",
              "    </tr>\n",
              "    <tr>\n",
              "      <th>149</th>\n",
              "      <td>0</td>\n",
              "      <td>0</td>\n",
              "      <td>1</td>\n",
              "    </tr>\n",
              "  </tbody>\n",
              "</table>\n",
              "<p>150 rows × 3 columns</p>\n",
              "</div>\n",
              "      <button class=\"colab-df-convert\" onclick=\"convertToInteractive('df-a2d090aa-0e61-4914-b2ce-63366ace9653')\"\n",
              "              title=\"Convert this dataframe to an interactive table.\"\n",
              "              style=\"display:none;\">\n",
              "\n",
              "  <svg xmlns=\"http://www.w3.org/2000/svg\" height=\"24px\"viewBox=\"0 0 24 24\"\n",
              "       width=\"24px\">\n",
              "    <path d=\"M0 0h24v24H0V0z\" fill=\"none\"/>\n",
              "    <path d=\"M18.56 5.44l.94 2.06.94-2.06 2.06-.94-2.06-.94-.94-2.06-.94 2.06-2.06.94zm-11 1L8.5 8.5l.94-2.06 2.06-.94-2.06-.94L8.5 2.5l-.94 2.06-2.06.94zm10 10l.94 2.06.94-2.06 2.06-.94-2.06-.94-.94-2.06-.94 2.06-2.06.94z\"/><path d=\"M17.41 7.96l-1.37-1.37c-.4-.4-.92-.59-1.43-.59-.52 0-1.04.2-1.43.59L10.3 9.45l-7.72 7.72c-.78.78-.78 2.05 0 2.83L4 21.41c.39.39.9.59 1.41.59.51 0 1.02-.2 1.41-.59l7.78-7.78 2.81-2.81c.8-.78.8-2.07 0-2.86zM5.41 20L4 18.59l7.72-7.72 1.47 1.35L5.41 20z\"/>\n",
              "  </svg>\n",
              "      </button>\n",
              "\n",
              "\n",
              "\n",
              "    <div id=\"df-d74ae09a-2356-4ff1-9cff-29b7412a9cbc\">\n",
              "      <button class=\"colab-df-quickchart\" onclick=\"quickchart('df-d74ae09a-2356-4ff1-9cff-29b7412a9cbc')\"\n",
              "              title=\"Suggest charts.\"\n",
              "              style=\"display:none;\">\n",
              "\n",
              "<svg xmlns=\"http://www.w3.org/2000/svg\" height=\"24px\"viewBox=\"0 0 24 24\"\n",
              "     width=\"24px\">\n",
              "    <g>\n",
              "        <path d=\"M19 3H5c-1.1 0-2 .9-2 2v14c0 1.1.9 2 2 2h14c1.1 0 2-.9 2-2V5c0-1.1-.9-2-2-2zM9 17H7v-7h2v7zm4 0h-2V7h2v10zm4 0h-2v-4h2v4z\"/>\n",
              "    </g>\n",
              "</svg>\n",
              "      </button>\n",
              "    </div>\n",
              "\n",
              "<style>\n",
              "  .colab-df-quickchart {\n",
              "    background-color: #E8F0FE;\n",
              "    border: none;\n",
              "    border-radius: 50%;\n",
              "    cursor: pointer;\n",
              "    display: none;\n",
              "    fill: #1967D2;\n",
              "    height: 32px;\n",
              "    padding: 0 0 0 0;\n",
              "    width: 32px;\n",
              "  }\n",
              "\n",
              "  .colab-df-quickchart:hover {\n",
              "    background-color: #E2EBFA;\n",
              "    box-shadow: 0px 1px 2px rgba(60, 64, 67, 0.3), 0px 1px 3px 1px rgba(60, 64, 67, 0.15);\n",
              "    fill: #174EA6;\n",
              "  }\n",
              "\n",
              "  [theme=dark] .colab-df-quickchart {\n",
              "    background-color: #3B4455;\n",
              "    fill: #D2E3FC;\n",
              "  }\n",
              "\n",
              "  [theme=dark] .colab-df-quickchart:hover {\n",
              "    background-color: #434B5C;\n",
              "    box-shadow: 0px 1px 3px 1px rgba(0, 0, 0, 0.15);\n",
              "    filter: drop-shadow(0px 1px 2px rgba(0, 0, 0, 0.3));\n",
              "    fill: #FFFFFF;\n",
              "  }\n",
              "</style>\n",
              "\n",
              "    <script>\n",
              "      async function quickchart(key) {\n",
              "        const containerElement = document.querySelector('#' + key);\n",
              "        const charts = await google.colab.kernel.invokeFunction(\n",
              "            'suggestCharts', [key], {});\n",
              "      }\n",
              "    </script>\n",
              "\n",
              "\n",
              "      <script>\n",
              "\n",
              "function displayQuickchartButton(domScope) {\n",
              "  let quickchartButtonEl =\n",
              "    domScope.querySelector('#df-d74ae09a-2356-4ff1-9cff-29b7412a9cbc button.colab-df-quickchart');\n",
              "  quickchartButtonEl.style.display =\n",
              "    google.colab.kernel.accessAllowed ? 'block' : 'none';\n",
              "}\n",
              "\n",
              "        displayQuickchartButton(document);\n",
              "      </script>\n",
              "      <style>\n",
              "    .colab-df-container {\n",
              "      display:flex;\n",
              "      flex-wrap:wrap;\n",
              "      gap: 12px;\n",
              "    }\n",
              "\n",
              "    .colab-df-convert {\n",
              "      background-color: #E8F0FE;\n",
              "      border: none;\n",
              "      border-radius: 50%;\n",
              "      cursor: pointer;\n",
              "      display: none;\n",
              "      fill: #1967D2;\n",
              "      height: 32px;\n",
              "      padding: 0 0 0 0;\n",
              "      width: 32px;\n",
              "    }\n",
              "\n",
              "    .colab-df-convert:hover {\n",
              "      background-color: #E2EBFA;\n",
              "      box-shadow: 0px 1px 2px rgba(60, 64, 67, 0.3), 0px 1px 3px 1px rgba(60, 64, 67, 0.15);\n",
              "      fill: #174EA6;\n",
              "    }\n",
              "\n",
              "    [theme=dark] .colab-df-convert {\n",
              "      background-color: #3B4455;\n",
              "      fill: #D2E3FC;\n",
              "    }\n",
              "\n",
              "    [theme=dark] .colab-df-convert:hover {\n",
              "      background-color: #434B5C;\n",
              "      box-shadow: 0px 1px 3px 1px rgba(0, 0, 0, 0.15);\n",
              "      filter: drop-shadow(0px 1px 2px rgba(0, 0, 0, 0.3));\n",
              "      fill: #FFFFFF;\n",
              "    }\n",
              "  </style>\n",
              "\n",
              "      <script>\n",
              "        const buttonEl =\n",
              "          document.querySelector('#df-a2d090aa-0e61-4914-b2ce-63366ace9653 button.colab-df-convert');\n",
              "        buttonEl.style.display =\n",
              "          google.colab.kernel.accessAllowed ? 'block' : 'none';\n",
              "\n",
              "        async function convertToInteractive(key) {\n",
              "          const element = document.querySelector('#df-a2d090aa-0e61-4914-b2ce-63366ace9653');\n",
              "          const dataTable =\n",
              "            await google.colab.kernel.invokeFunction('convertToInteractive',\n",
              "                                                     [key], {});\n",
              "          if (!dataTable) return;\n",
              "\n",
              "          const docLinkHtml = 'Like what you see? Visit the ' +\n",
              "            '<a target=\"_blank\" href=https://colab.research.google.com/notebooks/data_table.ipynb>data table notebook</a>'\n",
              "            + ' to learn more about interactive tables.';\n",
              "          element.innerHTML = '';\n",
              "          dataTable['output_type'] = 'display_data';\n",
              "          await google.colab.output.renderOutput(dataTable, element);\n",
              "          const docLink = document.createElement('div');\n",
              "          docLink.innerHTML = docLinkHtml;\n",
              "          element.appendChild(docLink);\n",
              "        }\n",
              "      </script>\n",
              "    </div>\n",
              "  </div>\n"
            ]
          },
          "metadata": {},
          "execution_count": 9
        }
      ]
    },
    {
      "cell_type": "markdown",
      "source": [
        "- 학습, 평가 데이터 분리"
      ],
      "metadata": {
        "id": "3SQY08FENqGV"
      }
    },
    {
      "cell_type": "code",
      "source": [
        "from sklearn.model_selection import train_test_split"
      ],
      "metadata": {
        "id": "I9BFlVDRM59s"
      },
      "execution_count": null,
      "outputs": []
    },
    {
      "cell_type": "code",
      "source": [
        "X_train, X_test, y_train, y_test = train_test_split(X, y_one_hot,\n",
        "                                                    test_size=0.2, random_state=55)"
      ],
      "metadata": {
        "id": "4PfGvbWzNd6e"
      },
      "execution_count": null,
      "outputs": []
    },
    {
      "cell_type": "code",
      "source": [
        "X_train.shape, X_test.shape, y_train.shape, y_test.shape"
      ],
      "metadata": {
        "colab": {
          "base_uri": "https://localhost:8080/"
        },
        "id": "RMzQYObyNwXp",
        "outputId": "75941263-ee12-4f3f-d90f-5132795544b8"
      },
      "execution_count": null,
      "outputs": [
        {
          "output_type": "execute_result",
          "data": {
            "text/plain": [
              "((120, 4), (30, 4), (120, 3), (30, 3))"
            ]
          },
          "metadata": {},
          "execution_count": 13
        }
      ]
    },
    {
      "cell_type": "markdown",
      "source": [
        "## 신경망 모델링\n",
        "1. 신경망 구조 설계\n",
        "2. 학습 및 평가방법 설정\n",
        "3. 학습 + 시각화\n",
        "4. 모델 평가"
      ],
      "metadata": {
        "id": "mWBa3IAfYs9s"
      }
    },
    {
      "cell_type": "code",
      "source": [
        "from tensorflow.keras import Sequential\n",
        "from tensorflow.keras.layers import Dense"
      ],
      "metadata": {
        "id": "Cp88fRdKXSZG"
      },
      "execution_count": null,
      "outputs": []
    },
    {
      "cell_type": "code",
      "source": [
        "# 1. 신경망 구조 설계\n",
        "model = Sequential()\n",
        "model.add(Dense(50, input_dim=4, activation='sigmoid'))\n",
        "\n",
        "model.add(Dense(100, activation='sigmoid'))\n",
        "model.add(Dense(50, activation='sigmoid'))\n",
        "model.add(Dense(10, activation='sigmoid'))\n",
        "\n",
        "model.add(Dense(3, activation='softmax'))\n",
        "# 3으로 설정한 이유 : 각 레이블의 예측 확률값 개수\n",
        "\n",
        "model.summary()"
      ],
      "metadata": {
        "colab": {
          "base_uri": "https://localhost:8080/"
        },
        "id": "6lGqqufBXSW5",
        "outputId": "961e666f-c0f9-4fef-cc09-913344a7e7a9"
      },
      "execution_count": null,
      "outputs": [
        {
          "output_type": "stream",
          "name": "stdout",
          "text": [
            "Model: \"sequential_2\"\n",
            "_________________________________________________________________\n",
            " Layer (type)                Output Shape              Param #   \n",
            "=================================================================\n",
            " dense_10 (Dense)            (None, 50)                250       \n",
            "                                                                 \n",
            " dense_11 (Dense)            (None, 100)               5100      \n",
            "                                                                 \n",
            " dense_12 (Dense)            (None, 50)                5050      \n",
            "                                                                 \n",
            " dense_13 (Dense)            (None, 10)                510       \n",
            "                                                                 \n",
            " dense_14 (Dense)            (None, 3)                 33        \n",
            "                                                                 \n",
            "=================================================================\n",
            "Total params: 10,943\n",
            "Trainable params: 10,943\n",
            "Non-trainable params: 0\n",
            "_________________________________________________________________\n"
          ]
        }
      ]
    },
    {
      "cell_type": "code",
      "source": [
        "model.compile(loss='categorical_crossentropy', optimizer='Adam', metrics=['acc'])"
      ],
      "metadata": {
        "id": "cszEE34PXSU7"
      },
      "execution_count": null,
      "outputs": []
    },
    {
      "cell_type": "code",
      "source": [
        "h = model.fit(X_train, y_train, epochs=200)"
      ],
      "metadata": {
        "colab": {
          "base_uri": "https://localhost:8080/"
        },
        "id": "IOXaaq8dXSTM",
        "outputId": "8e5dbdcf-67c5-4424-ce81-7b179c5c7daf"
      },
      "execution_count": null,
      "outputs": [
        {
          "output_type": "stream",
          "name": "stdout",
          "text": [
            "Epoch 1/200\n",
            "4/4 [==============================] - 1s 4ms/step - loss: 1.3590 - acc: 0.3250\n",
            "Epoch 2/200\n",
            "4/4 [==============================] - 0s 6ms/step - loss: 1.2934 - acc: 0.3250\n",
            "Epoch 3/200\n",
            "4/4 [==============================] - 0s 5ms/step - loss: 1.2407 - acc: 0.3250\n",
            "Epoch 4/200\n",
            "4/4 [==============================] - 0s 4ms/step - loss: 1.2031 - acc: 0.3250\n",
            "Epoch 5/200\n",
            "4/4 [==============================] - 0s 5ms/step - loss: 1.1709 - acc: 0.3250\n",
            "Epoch 6/200\n",
            "4/4 [==============================] - 0s 5ms/step - loss: 1.1438 - acc: 0.3250\n",
            "Epoch 7/200\n",
            "4/4 [==============================] - 0s 4ms/step - loss: 1.1282 - acc: 0.3250\n",
            "Epoch 8/200\n",
            "4/4 [==============================] - 0s 4ms/step - loss: 1.1128 - acc: 0.3250\n",
            "Epoch 9/200\n",
            "4/4 [==============================] - 0s 5ms/step - loss: 1.1046 - acc: 0.3250\n",
            "Epoch 10/200\n",
            "4/4 [==============================] - 0s 5ms/step - loss: 1.0969 - acc: 0.3250\n",
            "Epoch 11/200\n",
            "4/4 [==============================] - 0s 5ms/step - loss: 1.0929 - acc: 0.3250\n",
            "Epoch 12/200\n",
            "4/4 [==============================] - 0s 6ms/step - loss: 1.0880 - acc: 0.3250\n",
            "Epoch 13/200\n",
            "4/4 [==============================] - 0s 5ms/step - loss: 1.0831 - acc: 0.3250\n",
            "Epoch 14/200\n",
            "4/4 [==============================] - 0s 4ms/step - loss: 1.0793 - acc: 0.4417\n",
            "Epoch 15/200\n",
            "4/4 [==============================] - 0s 4ms/step - loss: 1.0752 - acc: 0.6667\n",
            "Epoch 16/200\n",
            "4/4 [==============================] - 0s 7ms/step - loss: 1.0705 - acc: 0.6667\n",
            "Epoch 17/200\n",
            "4/4 [==============================] - 0s 6ms/step - loss: 1.0644 - acc: 0.6667\n",
            "Epoch 18/200\n",
            "4/4 [==============================] - 0s 6ms/step - loss: 1.0589 - acc: 0.6667\n",
            "Epoch 19/200\n",
            "4/4 [==============================] - 0s 6ms/step - loss: 1.0502 - acc: 0.6667\n",
            "Epoch 20/200\n",
            "4/4 [==============================] - 0s 8ms/step - loss: 1.0409 - acc: 0.6667\n",
            "Epoch 21/200\n",
            "4/4 [==============================] - 0s 6ms/step - loss: 1.0297 - acc: 0.6667\n",
            "Epoch 22/200\n",
            "4/4 [==============================] - 0s 5ms/step - loss: 1.0169 - acc: 0.6667\n",
            "Epoch 23/200\n",
            "4/4 [==============================] - 0s 8ms/step - loss: 0.9998 - acc: 0.6667\n",
            "Epoch 24/200\n",
            "4/4 [==============================] - 0s 6ms/step - loss: 0.9815 - acc: 0.6667\n",
            "Epoch 25/200\n",
            "4/4 [==============================] - 0s 6ms/step - loss: 0.9596 - acc: 0.6667\n",
            "Epoch 26/200\n",
            "4/4 [==============================] - 0s 6ms/step - loss: 0.9351 - acc: 0.6667\n",
            "Epoch 27/200\n",
            "4/4 [==============================] - 0s 6ms/step - loss: 0.9062 - acc: 0.6667\n",
            "Epoch 28/200\n",
            "4/4 [==============================] - 0s 6ms/step - loss: 0.8758 - acc: 0.6667\n",
            "Epoch 29/200\n",
            "4/4 [==============================] - 0s 6ms/step - loss: 0.8447 - acc: 0.6667\n",
            "Epoch 30/200\n",
            "4/4 [==============================] - 0s 5ms/step - loss: 0.8115 - acc: 0.6667\n",
            "Epoch 31/200\n",
            "4/4 [==============================] - 0s 6ms/step - loss: 0.7784 - acc: 0.6667\n",
            "Epoch 32/200\n",
            "4/4 [==============================] - 0s 6ms/step - loss: 0.7480 - acc: 0.6667\n",
            "Epoch 33/200\n",
            "4/4 [==============================] - 0s 5ms/step - loss: 0.7194 - acc: 0.6667\n",
            "Epoch 34/200\n",
            "4/4 [==============================] - 0s 7ms/step - loss: 0.6936 - acc: 0.6667\n",
            "Epoch 35/200\n",
            "4/4 [==============================] - 0s 7ms/step - loss: 0.6712 - acc: 0.6667\n",
            "Epoch 36/200\n",
            "4/4 [==============================] - 0s 5ms/step - loss: 0.6519 - acc: 0.6667\n",
            "Epoch 37/200\n",
            "4/4 [==============================] - 0s 6ms/step - loss: 0.6338 - acc: 0.6667\n",
            "Epoch 38/200\n",
            "4/4 [==============================] - 0s 9ms/step - loss: 0.6191 - acc: 0.6667\n",
            "Epoch 39/200\n",
            "4/4 [==============================] - 0s 7ms/step - loss: 0.6070 - acc: 0.6667\n",
            "Epoch 40/200\n",
            "4/4 [==============================] - 0s 6ms/step - loss: 0.5952 - acc: 0.6667\n",
            "Epoch 41/200\n",
            "4/4 [==============================] - 0s 6ms/step - loss: 0.5855 - acc: 0.6667\n",
            "Epoch 42/200\n",
            "4/4 [==============================] - 0s 5ms/step - loss: 0.5767 - acc: 0.6667\n",
            "Epoch 43/200\n",
            "4/4 [==============================] - 0s 6ms/step - loss: 0.5694 - acc: 0.6667\n",
            "Epoch 44/200\n",
            "4/4 [==============================] - 0s 6ms/step - loss: 0.5627 - acc: 0.6667\n",
            "Epoch 45/200\n",
            "4/4 [==============================] - 0s 6ms/step - loss: 0.5566 - acc: 0.6667\n",
            "Epoch 46/200\n",
            "4/4 [==============================] - 0s 5ms/step - loss: 0.5511 - acc: 0.6750\n",
            "Epoch 47/200\n",
            "4/4 [==============================] - 0s 6ms/step - loss: 0.5457 - acc: 0.7000\n",
            "Epoch 48/200\n",
            "4/4 [==============================] - 0s 7ms/step - loss: 0.5410 - acc: 0.7583\n",
            "Epoch 49/200\n",
            "4/4 [==============================] - 0s 7ms/step - loss: 0.5367 - acc: 0.8250\n",
            "Epoch 50/200\n",
            "4/4 [==============================] - 0s 6ms/step - loss: 0.5330 - acc: 0.9083\n",
            "Epoch 51/200\n",
            "4/4 [==============================] - 0s 5ms/step - loss: 0.5288 - acc: 0.9583\n",
            "Epoch 52/200\n",
            "4/4 [==============================] - 0s 5ms/step - loss: 0.5253 - acc: 0.9417\n",
            "Epoch 53/200\n",
            "4/4 [==============================] - 0s 5ms/step - loss: 0.5216 - acc: 0.9417\n",
            "Epoch 54/200\n",
            "4/4 [==============================] - 0s 5ms/step - loss: 0.5183 - acc: 0.9500\n",
            "Epoch 55/200\n",
            "4/4 [==============================] - 0s 5ms/step - loss: 0.5151 - acc: 0.9500\n",
            "Epoch 56/200\n",
            "4/4 [==============================] - 0s 7ms/step - loss: 0.5116 - acc: 0.9500\n",
            "Epoch 57/200\n",
            "4/4 [==============================] - 0s 7ms/step - loss: 0.5085 - acc: 0.9667\n",
            "Epoch 58/200\n",
            "4/4 [==============================] - 0s 6ms/step - loss: 0.5054 - acc: 0.9667\n",
            "Epoch 59/200\n",
            "4/4 [==============================] - 0s 6ms/step - loss: 0.5022 - acc: 0.9667\n",
            "Epoch 60/200\n",
            "4/4 [==============================] - 0s 6ms/step - loss: 0.4991 - acc: 0.9500\n",
            "Epoch 61/200\n",
            "4/4 [==============================] - 0s 6ms/step - loss: 0.4957 - acc: 0.9417\n",
            "Epoch 62/200\n",
            "4/4 [==============================] - 0s 5ms/step - loss: 0.4923 - acc: 0.9500\n",
            "Epoch 63/200\n",
            "4/4 [==============================] - 0s 6ms/step - loss: 0.4890 - acc: 0.9417\n",
            "Epoch 64/200\n",
            "4/4 [==============================] - 0s 6ms/step - loss: 0.4856 - acc: 0.9417\n",
            "Epoch 65/200\n",
            "4/4 [==============================] - 0s 5ms/step - loss: 0.4819 - acc: 0.9417\n",
            "Epoch 66/200\n",
            "4/4 [==============================] - 0s 5ms/step - loss: 0.4781 - acc: 0.9417\n",
            "Epoch 67/200\n",
            "4/4 [==============================] - 0s 7ms/step - loss: 0.4741 - acc: 0.9417\n",
            "Epoch 68/200\n",
            "4/4 [==============================] - 0s 7ms/step - loss: 0.4699 - acc: 0.9417\n",
            "Epoch 69/200\n",
            "4/4 [==============================] - 0s 6ms/step - loss: 0.4662 - acc: 0.9500\n",
            "Epoch 70/200\n",
            "4/4 [==============================] - 0s 5ms/step - loss: 0.4612 - acc: 0.9583\n",
            "Epoch 71/200\n",
            "4/4 [==============================] - 0s 5ms/step - loss: 0.4560 - acc: 0.9417\n",
            "Epoch 72/200\n",
            "4/4 [==============================] - 0s 7ms/step - loss: 0.4511 - acc: 0.9417\n",
            "Epoch 73/200\n",
            "4/4 [==============================] - 0s 7ms/step - loss: 0.4457 - acc: 0.9417\n",
            "Epoch 74/200\n",
            "4/4 [==============================] - 0s 7ms/step - loss: 0.4402 - acc: 0.9417\n",
            "Epoch 75/200\n",
            "4/4 [==============================] - 0s 6ms/step - loss: 0.4344 - acc: 0.9583\n",
            "Epoch 76/200\n",
            "4/4 [==============================] - 0s 6ms/step - loss: 0.4287 - acc: 0.9417\n",
            "Epoch 77/200\n",
            "4/4 [==============================] - 0s 6ms/step - loss: 0.4225 - acc: 0.9500\n",
            "Epoch 78/200\n",
            "4/4 [==============================] - 0s 6ms/step - loss: 0.4161 - acc: 0.9500\n",
            "Epoch 79/200\n",
            "4/4 [==============================] - 0s 7ms/step - loss: 0.4092 - acc: 0.9667\n",
            "Epoch 80/200\n",
            "4/4 [==============================] - 0s 5ms/step - loss: 0.4032 - acc: 0.9667\n",
            "Epoch 81/200\n",
            "4/4 [==============================] - 0s 6ms/step - loss: 0.3965 - acc: 0.9667\n",
            "Epoch 82/200\n",
            "4/4 [==============================] - 0s 5ms/step - loss: 0.3894 - acc: 0.9667\n",
            "Epoch 83/200\n",
            "4/4 [==============================] - 0s 5ms/step - loss: 0.3844 - acc: 0.9500\n",
            "Epoch 84/200\n",
            "4/4 [==============================] - 0s 6ms/step - loss: 0.3756 - acc: 0.9667\n",
            "Epoch 85/200\n",
            "4/4 [==============================] - 0s 5ms/step - loss: 0.3698 - acc: 0.9667\n",
            "Epoch 86/200\n",
            "4/4 [==============================] - 0s 6ms/step - loss: 0.3630 - acc: 0.9667\n",
            "Epoch 87/200\n",
            "4/4 [==============================] - 0s 6ms/step - loss: 0.3558 - acc: 0.9667\n",
            "Epoch 88/200\n",
            "4/4 [==============================] - 0s 5ms/step - loss: 0.3505 - acc: 0.9667\n",
            "Epoch 89/200\n",
            "4/4 [==============================] - 0s 7ms/step - loss: 0.3435 - acc: 0.9667\n",
            "Epoch 90/200\n",
            "4/4 [==============================] - 0s 5ms/step - loss: 0.3374 - acc: 0.9667\n",
            "Epoch 91/200\n",
            "4/4 [==============================] - 0s 6ms/step - loss: 0.3298 - acc: 0.9667\n",
            "Epoch 92/200\n",
            "4/4 [==============================] - 0s 7ms/step - loss: 0.3236 - acc: 0.9667\n",
            "Epoch 93/200\n",
            "4/4 [==============================] - 0s 6ms/step - loss: 0.3193 - acc: 0.9667\n",
            "Epoch 94/200\n",
            "4/4 [==============================] - 0s 5ms/step - loss: 0.3148 - acc: 0.9667\n",
            "Epoch 95/200\n",
            "4/4 [==============================] - 0s 5ms/step - loss: 0.3057 - acc: 0.9667\n",
            "Epoch 96/200\n",
            "4/4 [==============================] - 0s 8ms/step - loss: 0.3009 - acc: 0.9667\n",
            "Epoch 97/200\n",
            "4/4 [==============================] - 0s 6ms/step - loss: 0.2959 - acc: 0.9667\n",
            "Epoch 98/200\n",
            "4/4 [==============================] - 0s 6ms/step - loss: 0.2898 - acc: 0.9667\n",
            "Epoch 99/200\n",
            "4/4 [==============================] - 0s 6ms/step - loss: 0.2852 - acc: 0.9667\n",
            "Epoch 100/200\n",
            "4/4 [==============================] - 0s 5ms/step - loss: 0.2806 - acc: 0.9667\n",
            "Epoch 101/200\n",
            "4/4 [==============================] - 0s 5ms/step - loss: 0.2763 - acc: 0.9750\n",
            "Epoch 102/200\n",
            "4/4 [==============================] - 0s 5ms/step - loss: 0.2701 - acc: 0.9667\n",
            "Epoch 103/200\n",
            "4/4 [==============================] - 0s 6ms/step - loss: 0.2674 - acc: 0.9667\n",
            "Epoch 104/200\n",
            "4/4 [==============================] - 0s 7ms/step - loss: 0.2619 - acc: 0.9667\n",
            "Epoch 105/200\n",
            "4/4 [==============================] - 0s 6ms/step - loss: 0.2597 - acc: 0.9750\n",
            "Epoch 106/200\n",
            "4/4 [==============================] - 0s 5ms/step - loss: 0.2536 - acc: 0.9750\n",
            "Epoch 107/200\n",
            "4/4 [==============================] - 0s 7ms/step - loss: 0.2500 - acc: 0.9667\n",
            "Epoch 108/200\n",
            "4/4 [==============================] - 0s 6ms/step - loss: 0.2474 - acc: 0.9667\n",
            "Epoch 109/200\n",
            "4/4 [==============================] - 0s 7ms/step - loss: 0.2412 - acc: 0.9667\n",
            "Epoch 110/200\n",
            "4/4 [==============================] - 0s 5ms/step - loss: 0.2377 - acc: 0.9667\n",
            "Epoch 111/200\n",
            "4/4 [==============================] - 0s 6ms/step - loss: 0.2347 - acc: 0.9667\n",
            "Epoch 112/200\n",
            "4/4 [==============================] - 0s 6ms/step - loss: 0.2318 - acc: 0.9667\n",
            "Epoch 113/200\n",
            "4/4 [==============================] - 0s 6ms/step - loss: 0.2265 - acc: 0.9667\n",
            "Epoch 114/200\n",
            "4/4 [==============================] - 0s 7ms/step - loss: 0.2266 - acc: 0.9667\n",
            "Epoch 115/200\n",
            "4/4 [==============================] - 0s 5ms/step - loss: 0.2235 - acc: 0.9667\n",
            "Epoch 116/200\n",
            "4/4 [==============================] - 0s 6ms/step - loss: 0.2184 - acc: 0.9750\n",
            "Epoch 117/200\n",
            "4/4 [==============================] - 0s 5ms/step - loss: 0.2142 - acc: 0.9667\n",
            "Epoch 118/200\n",
            "4/4 [==============================] - 0s 6ms/step - loss: 0.2121 - acc: 0.9667\n",
            "Epoch 119/200\n",
            "4/4 [==============================] - 0s 5ms/step - loss: 0.2088 - acc: 0.9667\n",
            "Epoch 120/200\n",
            "4/4 [==============================] - 0s 5ms/step - loss: 0.2067 - acc: 0.9667\n",
            "Epoch 121/200\n",
            "4/4 [==============================] - 0s 5ms/step - loss: 0.2043 - acc: 0.9667\n",
            "Epoch 122/200\n",
            "4/4 [==============================] - 0s 5ms/step - loss: 0.2005 - acc: 0.9750\n",
            "Epoch 123/200\n",
            "4/4 [==============================] - 0s 5ms/step - loss: 0.1984 - acc: 0.9750\n",
            "Epoch 124/200\n",
            "4/4 [==============================] - 0s 5ms/step - loss: 0.1964 - acc: 0.9750\n",
            "Epoch 125/200\n",
            "4/4 [==============================] - 0s 7ms/step - loss: 0.1937 - acc: 0.9667\n",
            "Epoch 126/200\n",
            "4/4 [==============================] - 0s 7ms/step - loss: 0.1912 - acc: 0.9667\n",
            "Epoch 127/200\n",
            "4/4 [==============================] - 0s 6ms/step - loss: 0.1887 - acc: 0.9667\n",
            "Epoch 128/200\n",
            "4/4 [==============================] - 0s 5ms/step - loss: 0.1869 - acc: 0.9750\n",
            "Epoch 129/200\n",
            "4/4 [==============================] - 0s 5ms/step - loss: 0.1855 - acc: 0.9750\n",
            "Epoch 130/200\n",
            "4/4 [==============================] - 0s 7ms/step - loss: 0.1819 - acc: 0.9750\n",
            "Epoch 131/200\n",
            "4/4 [==============================] - 0s 7ms/step - loss: 0.1800 - acc: 0.9750\n",
            "Epoch 132/200\n",
            "4/4 [==============================] - 0s 6ms/step - loss: 0.1785 - acc: 0.9833\n",
            "Epoch 133/200\n",
            "4/4 [==============================] - 0s 5ms/step - loss: 0.1767 - acc: 0.9750\n",
            "Epoch 134/200\n",
            "4/4 [==============================] - 0s 6ms/step - loss: 0.1758 - acc: 0.9667\n",
            "Epoch 135/200\n",
            "4/4 [==============================] - 0s 6ms/step - loss: 0.1736 - acc: 0.9750\n",
            "Epoch 136/200\n",
            "4/4 [==============================] - 0s 5ms/step - loss: 0.1711 - acc: 0.9750\n",
            "Epoch 137/200\n",
            "4/4 [==============================] - 0s 6ms/step - loss: 0.1697 - acc: 0.9750\n",
            "Epoch 138/200\n",
            "4/4 [==============================] - 0s 5ms/step - loss: 0.1712 - acc: 0.9750\n",
            "Epoch 139/200\n",
            "4/4 [==============================] - 0s 5ms/step - loss: 0.1675 - acc: 0.9750\n",
            "Epoch 140/200\n",
            "4/4 [==============================] - 0s 5ms/step - loss: 0.1641 - acc: 0.9750\n",
            "Epoch 141/200\n",
            "4/4 [==============================] - 0s 7ms/step - loss: 0.1628 - acc: 0.9750\n",
            "Epoch 142/200\n",
            "4/4 [==============================] - 0s 8ms/step - loss: 0.1636 - acc: 0.9667\n",
            "Epoch 143/200\n",
            "4/4 [==============================] - 0s 5ms/step - loss: 0.1594 - acc: 0.9667\n",
            "Epoch 144/200\n",
            "4/4 [==============================] - 0s 7ms/step - loss: 0.1625 - acc: 0.9667\n",
            "Epoch 145/200\n",
            "4/4 [==============================] - 0s 9ms/step - loss: 0.1594 - acc: 0.9667\n",
            "Epoch 146/200\n",
            "4/4 [==============================] - 0s 7ms/step - loss: 0.1569 - acc: 0.9833\n",
            "Epoch 147/200\n",
            "4/4 [==============================] - 0s 6ms/step - loss: 0.1531 - acc: 0.9833\n",
            "Epoch 148/200\n",
            "4/4 [==============================] - 0s 6ms/step - loss: 0.1528 - acc: 0.9750\n",
            "Epoch 149/200\n",
            "4/4 [==============================] - 0s 7ms/step - loss: 0.1511 - acc: 0.9750\n",
            "Epoch 150/200\n",
            "4/4 [==============================] - 0s 5ms/step - loss: 0.1487 - acc: 0.9833\n",
            "Epoch 151/200\n",
            "4/4 [==============================] - 0s 5ms/step - loss: 0.1476 - acc: 0.9833\n",
            "Epoch 152/200\n",
            "4/4 [==============================] - 0s 6ms/step - loss: 0.1471 - acc: 0.9750\n",
            "Epoch 153/200\n",
            "4/4 [==============================] - 0s 5ms/step - loss: 0.1471 - acc: 0.9750\n",
            "Epoch 154/200\n",
            "4/4 [==============================] - 0s 6ms/step - loss: 0.1429 - acc: 0.9833\n",
            "Epoch 155/200\n",
            "4/4 [==============================] - 0s 6ms/step - loss: 0.1464 - acc: 0.9667\n",
            "Epoch 156/200\n",
            "4/4 [==============================] - 0s 5ms/step - loss: 0.1423 - acc: 0.9750\n",
            "Epoch 157/200\n",
            "4/4 [==============================] - 0s 5ms/step - loss: 0.1422 - acc: 0.9667\n",
            "Epoch 158/200\n",
            "4/4 [==============================] - 0s 5ms/step - loss: 0.1435 - acc: 0.9667\n",
            "Epoch 159/200\n",
            "4/4 [==============================] - 0s 6ms/step - loss: 0.1400 - acc: 0.9750\n",
            "Epoch 160/200\n",
            "4/4 [==============================] - 0s 7ms/step - loss: 0.1369 - acc: 0.9833\n",
            "Epoch 161/200\n",
            "4/4 [==============================] - 0s 6ms/step - loss: 0.1360 - acc: 0.9833\n",
            "Epoch 162/200\n",
            "4/4 [==============================] - 0s 5ms/step - loss: 0.1379 - acc: 0.9750\n",
            "Epoch 163/200\n",
            "4/4 [==============================] - 0s 6ms/step - loss: 0.1361 - acc: 0.9833\n",
            "Epoch 164/200\n",
            "4/4 [==============================] - 0s 5ms/step - loss: 0.1324 - acc: 0.9833\n",
            "Epoch 165/200\n",
            "4/4 [==============================] - 0s 8ms/step - loss: 0.1325 - acc: 0.9833\n",
            "Epoch 166/200\n",
            "4/4 [==============================] - 0s 7ms/step - loss: 0.1333 - acc: 0.9833\n",
            "Epoch 167/200\n",
            "4/4 [==============================] - 0s 6ms/step - loss: 0.1310 - acc: 0.9833\n",
            "Epoch 168/200\n",
            "4/4 [==============================] - 0s 5ms/step - loss: 0.1289 - acc: 0.9833\n",
            "Epoch 169/200\n",
            "4/4 [==============================] - 0s 5ms/step - loss: 0.1282 - acc: 0.9833\n",
            "Epoch 170/200\n",
            "4/4 [==============================] - 0s 6ms/step - loss: 0.1269 - acc: 0.9833\n",
            "Epoch 171/200\n",
            "4/4 [==============================] - 0s 4ms/step - loss: 0.1260 - acc: 0.9833\n",
            "Epoch 172/200\n",
            "4/4 [==============================] - 0s 4ms/step - loss: 0.1310 - acc: 0.9750\n",
            "Epoch 173/200\n",
            "4/4 [==============================] - 0s 5ms/step - loss: 0.1245 - acc: 0.9750\n",
            "Epoch 174/200\n",
            "4/4 [==============================] - 0s 5ms/step - loss: 0.1264 - acc: 0.9750\n",
            "Epoch 175/200\n",
            "4/4 [==============================] - 0s 5ms/step - loss: 0.1261 - acc: 0.9833\n",
            "Epoch 176/200\n",
            "4/4 [==============================] - 0s 4ms/step - loss: 0.1227 - acc: 0.9833\n",
            "Epoch 177/200\n",
            "4/4 [==============================] - 0s 5ms/step - loss: 0.1217 - acc: 0.9833\n",
            "Epoch 178/200\n",
            "4/4 [==============================] - 0s 5ms/step - loss: 0.1199 - acc: 0.9833\n",
            "Epoch 179/200\n",
            "4/4 [==============================] - 0s 5ms/step - loss: 0.1201 - acc: 0.9833\n",
            "Epoch 180/200\n",
            "4/4 [==============================] - 0s 5ms/step - loss: 0.1194 - acc: 0.9833\n",
            "Epoch 181/200\n",
            "4/4 [==============================] - 0s 5ms/step - loss: 0.1181 - acc: 0.9833\n",
            "Epoch 182/200\n",
            "4/4 [==============================] - 0s 6ms/step - loss: 0.1172 - acc: 0.9833\n",
            "Epoch 183/200\n",
            "4/4 [==============================] - 0s 5ms/step - loss: 0.1175 - acc: 0.9833\n",
            "Epoch 184/200\n",
            "4/4 [==============================] - 0s 5ms/step - loss: 0.1172 - acc: 0.9750\n",
            "Epoch 185/200\n",
            "4/4 [==============================] - 0s 7ms/step - loss: 0.1139 - acc: 0.9833\n",
            "Epoch 186/200\n",
            "4/4 [==============================] - 0s 5ms/step - loss: 0.1165 - acc: 0.9750\n",
            "Epoch 187/200\n",
            "4/4 [==============================] - 0s 5ms/step - loss: 0.1149 - acc: 0.9833\n",
            "Epoch 188/200\n",
            "4/4 [==============================] - 0s 5ms/step - loss: 0.1126 - acc: 0.9833\n",
            "Epoch 189/200\n",
            "4/4 [==============================] - 0s 5ms/step - loss: 0.1121 - acc: 0.9750\n",
            "Epoch 190/200\n",
            "4/4 [==============================] - 0s 5ms/step - loss: 0.1140 - acc: 0.9833\n",
            "Epoch 191/200\n",
            "4/4 [==============================] - 0s 5ms/step - loss: 0.1108 - acc: 0.9833\n",
            "Epoch 192/200\n",
            "4/4 [==============================] - 0s 4ms/step - loss: 0.1115 - acc: 0.9750\n",
            "Epoch 193/200\n",
            "4/4 [==============================] - 0s 5ms/step - loss: 0.1120 - acc: 0.9750\n",
            "Epoch 194/200\n",
            "4/4 [==============================] - 0s 5ms/step - loss: 0.1093 - acc: 0.9833\n",
            "Epoch 195/200\n",
            "4/4 [==============================] - 0s 5ms/step - loss: 0.1111 - acc: 0.9833\n",
            "Epoch 196/200\n",
            "4/4 [==============================] - 0s 5ms/step - loss: 0.1080 - acc: 0.9833\n",
            "Epoch 197/200\n",
            "4/4 [==============================] - 0s 5ms/step - loss: 0.1066 - acc: 0.9833\n",
            "Epoch 198/200\n",
            "4/4 [==============================] - 0s 5ms/step - loss: 0.1066 - acc: 0.9833\n",
            "Epoch 199/200\n",
            "4/4 [==============================] - 0s 4ms/step - loss: 0.1050 - acc: 0.9833\n",
            "Epoch 200/200\n",
            "4/4 [==============================] - 0s 5ms/step - loss: 0.1052 - acc: 0.9833\n"
          ]
        }
      ]
    },
    {
      "cell_type": "code",
      "source": [
        "plt.figure(figsize=(15,5))\n",
        "\n",
        "plt.plot(h.history['acc'], label='acc')\n",
        "\n",
        "plt.legend()\n",
        "plt.show()"
      ],
      "metadata": {
        "colab": {
          "base_uri": "https://localhost:8080/",
          "height": 283
        },
        "id": "GgX-vmn6XSRX",
        "outputId": "69f700ac-cc7c-401f-fbe8-394cb68b521a"
      },
      "execution_count": null,
      "outputs": [
        {
          "output_type": "display_data",
          "data": {
            "text/plain": [
              "<Figure size 1500x500 with 1 Axes>"
            ],
            "image/png": "[encoded data removed]"
          },
          "metadata": {}
        }
      ]
    },
    {
      "cell_type": "code",
      "source": [
        "plt.figure(figsize=(15,5))\n",
        "\n",
        "plt.plot(h.history['loss'], label='loss')\n",
        "\n",
        "plt.legend()\n",
        "plt.show()"
      ],
      "metadata": {
        "colab": {
          "base_uri": "https://localhost:8080/",
          "height": 283
        },
        "id": "d9AjZtrQXSPZ",
        "outputId": "e766e8d0-86e0-4a0b-a801-e7722a9a3e0c"
      },
      "execution_count": null,
      "outputs": [
        {
          "output_type": "display_data",
          "data": {
            "text/plain": [
              "<Figure size 1500x500 with 1 Axes>"
            ],
            "image/png": "[encoded data removed]"
          },
          "metadata": {}
        }
      ]
    },
    {
      "cell_type": "code",
      "source": [
        "model.evaluate(X_test, y_test)"
      ],
      "metadata": {
        "colab": {
          "base_uri": "https://localhost:8080/"
        },
        "id": "8oDeti_xXSL9",
        "outputId": "3a00b069-52e9-43d1-e16a-46e0e79d9875"
      },
      "execution_count": null,
      "outputs": [
        {
          "output_type": "stream",
          "name": "stdout",
          "text": [
            "1/1 [==============================] - 0s 166ms/step - loss: 0.0856 - acc: 1.0000\n"
          ]
        },
        {
          "output_type": "execute_result",
          "data": {
            "text/plain": [
              "[0.08563485741615295, 1.0]"
            ]
          },
          "metadata": {},
          "execution_count": 30
        }
      ]
    }
  ]
}