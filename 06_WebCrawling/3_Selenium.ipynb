{
 "cells": [
  {
   "cell_type": "markdown",
   "id": "34c5fffe",
   "metadata": {},
   "source": [
    "# Selenium 설치"
   ]
  },
  {
   "cell_type": "code",
   "execution_count": 1,
   "id": "f7d076fe",
   "metadata": {},
   "outputs": [
    {
     "name": "stdout",
     "output_type": "stream",
     "text": [
      "Collecting selenium\n",
      "  Downloading selenium-4.9.0-py3-none-any.whl (6.5 MB)\n",
      "     ---------------------------------------- 6.5/6.5 MB 347.4 kB/s eta 0:00:00\n",
      "Requirement already satisfied: urllib3[socks]~=1.26 in c:\\users\\user02\\anaconda3\\lib\\site-packages (from selenium) (1.26.14)\n",
      "Collecting trio~=0.17\n",
      "  Downloading trio-0.22.0-py3-none-any.whl (384 kB)\n",
      "     ------------------------------------ 384.9/384.9 kB 452.5 kB/s eta 0:00:00\n",
      "Collecting trio-websocket~=0.9\n",
      "  Downloading trio_websocket-0.10.2-py3-none-any.whl (17 kB)\n",
      "Requirement already satisfied: certifi>=2021.10.8 in c:\\users\\user02\\anaconda3\\lib\\site-packages (from selenium) (2022.12.7)\n",
      "Requirement already satisfied: attrs>=19.2.0 in c:\\users\\user02\\anaconda3\\lib\\site-packages (from trio~=0.17->selenium) (22.1.0)\n",
      "Collecting async-generator>=1.9\n",
      "  Downloading async_generator-1.10-py3-none-any.whl (18 kB)\n",
      "Requirement already satisfied: cffi>=1.14 in c:\\users\\user02\\anaconda3\\lib\\site-packages (from trio~=0.17->selenium) (1.15.1)\n",
      "Requirement already satisfied: sortedcontainers in c:\\users\\user02\\anaconda3\\lib\\site-packages (from trio~=0.17->selenium) (2.4.0)\n",
      "Requirement already satisfied: sniffio in c:\\users\\user02\\anaconda3\\lib\\site-packages (from trio~=0.17->selenium) (1.2.0)\n",
      "Collecting exceptiongroup>=1.0.0rc9\n",
      "  Downloading exceptiongroup-1.1.1-py3-none-any.whl (14 kB)\n",
      "Requirement already satisfied: idna in c:\\users\\user02\\anaconda3\\lib\\site-packages (from trio~=0.17->selenium) (3.4)\n",
      "Collecting outcome\n",
      "  Downloading outcome-1.2.0-py2.py3-none-any.whl (9.7 kB)\n",
      "Collecting wsproto>=0.14\n",
      "  Downloading wsproto-1.2.0-py3-none-any.whl (24 kB)\n",
      "Requirement already satisfied: PySocks!=1.5.7,<2.0,>=1.5.6 in c:\\users\\user02\\anaconda3\\lib\\site-packages (from urllib3[socks]~=1.26->selenium) (1.7.1)\n",
      "Requirement already satisfied: pycparser in c:\\users\\user02\\anaconda3\\lib\\site-packages (from cffi>=1.14->trio~=0.17->selenium) (2.21)\n",
      "Collecting h11<1,>=0.9.0\n",
      "  Downloading h11-0.14.0-py3-none-any.whl (58 kB)\n",
      "     -------------------------------------- 58.3/58.3 kB 219.3 kB/s eta 0:00:00\n",
      "Installing collected packages: outcome, h11, exceptiongroup, async-generator, wsproto, trio, trio-websocket, selenium\n",
      "Successfully installed async-generator-1.10 exceptiongroup-1.1.1 h11-0.14.0 outcome-1.2.0 selenium-4.9.0 trio-0.22.0 trio-websocket-0.10.2 wsproto-1.2.0\n"
     ]
    }
   ],
   "source": [
    "# ! pip install selenium\n",
    "# ! pip install 은 설치되면 주석처리"
   ]
  },
  {
   "cell_type": "markdown",
   "id": "b1e701d4",
   "metadata": {},
   "source": [
    "# Library Import"
   ]
  },
  {
   "cell_type": "code",
   "execution_count": 1,
   "id": "067ebfa8",
   "metadata": {},
   "outputs": [],
   "source": [
    "# 컴퓨터용 브라우저 할당\n",
    "from selenium import webdriver as wb\n",
    "\n",
    "# 컴퓨터용 키보드 할당 (Keys는 대문자'K')\n",
    "from selenium.webdriver.common.keys import Keys\n",
    "    # 컴퓨터에게 물리적인 키보드가 없어서, 키 입력이 가능한 키보드를 선사\n",
    "\n",
    "# 구분자 역할 (By는 대문자'B')\n",
    "from selenium.webdriver.common.by import By"
   ]
  },
  {
   "cell_type": "code",
   "execution_count": 2,
   "id": "e4bce2b9",
   "metadata": {},
   "outputs": [],
   "source": [
    "# 크롬창 열기\n",
    "driver = wb.Chrome()\n",
    "\n",
    "# 성공 시, 자동화된 창이 하나 팝업\n",
    "# 항상 'Chrome이 자동화된 테스트 소프트웨어에 의해 제어되고 있습니다.' 탭이 보여져야 함"
   ]
  },
  {
   "cell_type": "code",
   "execution_count": 3,
   "id": "3523d8e5",
   "metadata": {},
   "outputs": [],
   "source": [
    "# 네이버 접속하기\n",
    "driver.get('https://naver.com') # 프로토콜 필수!"
   ]
  },
  {
   "cell_type": "markdown",
   "id": "262f511f",
   "metadata": {},
   "source": [
    "# 네이버에서 검색어 입력 후,  Enter까지 해보자"
   ]
  },
  {
   "cell_type": "code",
   "execution_count": 4,
   "id": "36828aef",
   "metadata": {},
   "outputs": [],
   "source": [
    "# 사용자가 크롬창을 열 듯, 브라우저에게 크롬창을 열어달라고 하기\n",
    "driver = wb.Chrome()"
   ]
  },
  {
   "cell_type": "code",
   "execution_count": 6,
   "id": "ae674906",
   "metadata": {},
   "outputs": [],
   "source": [
    "# Requests 라이브러리에서 get을 통해 불러왔었음\n",
    "# User-Agent는 Selenium에서 브라우저-브라우저로 요청하고 있기에 불필요\n",
    "driver.get('https://www.naver.com')"
   ]
  },
  {
   "cell_type": "markdown",
   "id": "c17522c2",
   "metadata": {},
   "source": [
    "### 검색창으로 접근\n",
    "#### Xpath : 절대 경로 -> //*[@id=\"query\"]\n",
    "   - Xpath 사용할 경우, 최소 어디서 긁어왔는지 그 경로를 주석처리할 것\n",
    "   - 편리하지만(f12에서 원하는 태그 copy - Copy Xpath), 항상 완벽하진 않음\n",
    "   - 업데이트 잦은 요소인지 확인하고, 최대한 변동이 없는 부분에 사용하자(ex. 검색창 등)\n"
   ]
  },
  {
   "cell_type": "code",
   "execution_count": 31,
   "id": "c0e086ae",
   "metadata": {},
   "outputs": [],
   "source": [
    "# 검색창의 태그의 id명 = query\n",
    "# find_element / find_elements (BeautifulSoup의 select_one / select 과 유사)\n",
    "\n",
    "search = driver.find_element(By.XPATH,'//*[@id=\"query\"]')"
   ]
  },
  {
   "cell_type": "markdown",
   "id": "6aeaccf5",
   "metadata": {},
   "source": [
    "### 검색어를 입력"
   ]
  },
  {
   "cell_type": "code",
   "execution_count": 17,
   "id": "76ec1bb4",
   "metadata": {},
   "outputs": [],
   "source": [
    "search.send_keys('안녕')"
   ]
  },
  {
   "cell_type": "code",
   "execution_count": 18,
   "id": "e8d5e9d8",
   "metadata": {},
   "outputs": [],
   "source": [
    "# 컴퓨터는 센스 X -> 검색어를 입력했다고 enter까지 해주지 않음\n",
    "# 코드로 enter명령 하달\n",
    "\n",
    "search.send_keys(Keys.ENTER)"
   ]
  },
  {
   "cell_type": "markdown",
   "id": "8590940c",
   "metadata": {},
   "source": [
    "### 뒤로가기"
   ]
  },
  {
   "cell_type": "code",
   "execution_count": 19,
   "id": "55472065",
   "metadata": {},
   "outputs": [],
   "source": [
    "# 검색 완료 후, 다시 메인페이지로 가기\n",
    "driver.back() # 자동브라우저에서 이전페이지로 이동하는 메소드\n",
    "# 뒤로가기 HTML코드가 아닌 브라우저에서 제공하는 편의기능"
   ]
  },
  {
   "cell_type": "markdown",
   "id": "9c48ffc5",
   "metadata": {},
   "source": [
    "### 재검색"
   ]
  },
  {
   "cell_type": "code",
   "execution_count": 24,
   "id": "428bd971",
   "metadata": {},
   "outputs": [],
   "source": [
    "# 재검색을 원할 경우, 바로 검색어 입력이 아닌 검색창으로 접근 먼저 해야함!\n",
    "searcelement(By.XPATH,'//*[@id=\"query\"]')\n",
    "search.send_keys('최유리-숲')\n",
    "search.send_keys(Keysh = driver.find_.ENTER)\n",
    "driver.back()"
   ]
  },
  {
   "cell_type": "markdown",
   "id": "82a62a63",
   "metadata": {},
   "source": [
    "### 검색버튼을 클릭해보자"
   ]
  },
  {
   "cell_type": "code",
   "execution_count": 30,
   "id": "ee4026c1",
   "metadata": {},
   "outputs": [],
   "source": [
    "search = driver.find_element(By.XPATH,'//*[@id=\"query\"]') # 검색창 요소 선택\n",
    "    # 현재 사용자가 마우스를 검색창에 올려놓은 상태\n",
    "search.send_keys('습관 - wh3n') # 검색어 입력\n",
    "\n",
    "# 검색버튼 요소 선택해보자\n",
    "btn = driver.find_element(By.XPATH, '//*[@id=\"search_btn\"]')\n",
    "# 컴퓨터는 마우스가 없으므로, 클릭을 하도록 코드로 명령\n",
    "btn.click()"
   ]
  },
  {
   "cell_type": "markdown",
   "id": "55ea52ee",
   "metadata": {},
   "source": [
    "### 끝까지 스크롤 해보기"
   ]
  },
  {
   "cell_type": "code",
   "execution_count": 32,
   "id": "0512284b",
   "metadata": {},
   "outputs": [],
   "source": [
    "# 우선 body태그를 선택\n",
    "body = driver.find_element(By.TAG_NAME, 'body')\n",
    "\n",
    "# 왜 body를 지정해가면서 해야할까?\n",
    "    # 앞으로 그롤링 할 수 있는 데이터들이 대부분 body tag 내에 위치\n",
    "    # 스크롤링 수행을 위해서는, body tag 선택되어야 함\n",
    "\n",
    "body.send_keys(Keys.END)"
   ]
  },
  {
   "cell_type": "markdown",
   "id": "8a5e8a94",
   "metadata": {},
   "source": [
    "### Chrome 브라우저 종료"
   ]
  },
  {
   "cell_type": "code",
   "execution_count": 50,
   "id": "81e7bda5",
   "metadata": {},
   "outputs": [],
   "source": [
    "# 사용자가 크롬창을 닫을 때 '닫기(x) 버튼' 클릭\n",
    "# 닫기버튼은 브라우저에서 제공하는 기능\n",
    "\n",
    "# 첫번째 방법\n",
    "# driver.close() # 현재 열려있는 창 닫음, 끝\n",
    "\n",
    "# 두번째 방법\n",
    "driver.quit() # 현재 열려있는 창을 닫되, 모든 webdriver 인스턴스와 관련된 모든 창,탭,프로세스,메모리를 종료\n",
    "# 웹크롤링은 대용량 데이터를 긁어오는 것이 목적이기 때문에, quit()을 쓰는 것을 권장"
   ]
  },
  {
   "cell_type": "markdown",
   "id": "3ea0b304",
   "metadata": {},
   "source": [
    "# 개인실습 1\n",
    "1. 크롬 브라우저를 켜고\n",
    "2. 네이버로 접속\n",
    "3. 검색창을 CSS_SELECTOR로 잡기 - 원하는 검색어 입력 (검색버튼 클릭)\n",
    "4. 스크롤 끝까지 내리기\n",
    "5. 뒤로가기 버튼을 눌러서 다시 메인으로 이동\n",
    "6. 크롬창 종료 - 메모리 누수까지 신경쓸 것!"
   ]
  },
  {
   "cell_type": "code",
   "execution_count": 46,
   "id": "e110ae6d",
   "metadata": {},
   "outputs": [],
   "source": [
    "driver = wb.Chrome()"
   ]
  },
  {
   "cell_type": "code",
   "execution_count": 47,
   "id": "1bd16c38",
   "metadata": {},
   "outputs": [],
   "source": [
    "driver.get('https://www.naver.com')"
   ]
  },
  {
   "cell_type": "code",
   "execution_count": 48,
   "id": "57979fcc",
   "metadata": {},
   "outputs": [],
   "source": [
    "## By.ID 사용하는 방법 : id명을 입력\n",
    "search = driver.find_element(By.ID, 'query')\n",
    "search.send_keys('주차장 확보')\n",
    "\n",
    "button = driver.find_element(By.ID, 'search_btn')\n",
    "button.click()"
   ]
  },
  {
   "cell_type": "code",
   "execution_count": 42,
   "id": "613ebff8",
   "metadata": {},
   "outputs": [],
   "source": [
    "## By.CSS_SELECTOR 사용하는 방법 : beautifulsoup에서 사용한 것처럼 똑같음\n",
    "# 선생님 풀이\n",
    "\n",
    "# search = driver.find_element(By.CSS_SELECTOR, '#query')\n",
    "# search.send_keys('주차장 확보')\n",
    "\n",
    "# button = driver.find_element(By.CSS_SELECTOR, '#search_btn')\n",
    "# button.click()"
   ]
  },
  {
   "cell_type": "code",
   "execution_count": 37,
   "id": "b4c44d84",
   "metadata": {},
   "outputs": [],
   "source": [
    "body = driver.find_element(By.TAG_NAME, 'body')\n",
    "body.send_keys(Keys.END)"
   ]
  },
  {
   "cell_type": "code",
   "execution_count": 49,
   "id": "aabc7e1c",
   "metadata": {},
   "outputs": [],
   "source": [
    "# CSS_SELECTOR사용해서\n",
    "# body = driver.find_element(By.CSS_SELECTOR, 'body')\n",
    "# body.send_keys(Keys.END)"
   ]
  },
  {
   "cell_type": "code",
   "execution_count": 38,
   "id": "3af1e46c",
   "metadata": {},
   "outputs": [],
   "source": [
    "driver.back()"
   ]
  },
  {
   "cell_type": "code",
   "execution_count": 45,
   "id": "7231491f",
   "metadata": {},
   "outputs": [],
   "source": [
    "driver.quit()"
   ]
  },
  {
   "cell_type": "markdown",
   "id": "521aad4a",
   "metadata": {},
   "source": [
    "# 개인실습 2\n",
    "1. 크롬 브라우저 켜고\n",
    "2. 네이버로 접속\n",
    "3. 검색창을 CSS_SELECT로 잡기 - 원하는 검색어 입력(Enter 키 사용)\n",
    "4. 검색 후 '이미지'탭 클릭(CSS_SELECTOR, 혹은 다른방법도 사용가능)\n",
    "5. 뒤로가기\n",
    "6. '뉴스'탭 클릭해서 들어가기 (CSS_SELECTOR, 혹은 다른방법도 사용가능)\n",
    "7. 뒤로 가기 버튼을 눌러서 다시 메인으로 이동\n",
    "8. 크롬창 종료 - 메모리 누수까지 신경쓸 것!"
   ]
  },
  {
   "cell_type": "code",
   "execution_count": 78,
   "id": "33a5ec69",
   "metadata": {},
   "outputs": [],
   "source": [
    "driver = wb.Chrome()"
   ]
  },
  {
   "cell_type": "code",
   "execution_count": 79,
   "id": "4ce34ee1",
   "metadata": {},
   "outputs": [],
   "source": [
    "driver.get('https://www.naver.com')"
   ]
  },
  {
   "cell_type": "code",
   "execution_count": 81,
   "id": "ad4d6067",
   "metadata": {},
   "outputs": [],
   "source": [
    "search = driver.find_element(By.ID, 'query')\n",
    "search.send_keys('욕지도')\n",
    "search.send_keys(Keys.ENTER)"
   ]
  },
  {
   "cell_type": "code",
   "execution_count": 82,
   "id": "aabed621",
   "metadata": {},
   "outputs": [],
   "source": [
    "image = driver.find_element(By.CSS_SELECTOR, '#lnb > div.lnb_group > div > ul > li:nth-child(2) > a')\n",
    "image.click()"
   ]
  },
  {
   "cell_type": "code",
   "execution_count": 83,
   "id": "bd1fdfe2",
   "metadata": {},
   "outputs": [],
   "source": [
    "driver.back()"
   ]
  },
  {
   "cell_type": "code",
   "execution_count": 84,
   "id": "b83a10cc",
   "metadata": {},
   "outputs": [],
   "source": [
    "news = driver.find_element(By.CSS_SELECTOR, '#lnb > div.lnb_group > div > ul > li:nth-child(9) > a')\n",
    "news.click()"
   ]
  },
  {
   "cell_type": "code",
   "execution_count": 85,
   "id": "a745c2a3",
   "metadata": {},
   "outputs": [],
   "source": [
    "driver.back()\n",
    "driver.back()"
   ]
  },
  {
   "cell_type": "code",
   "execution_count": 86,
   "id": "ac65c009",
   "metadata": {},
   "outputs": [],
   "source": [
    "driver.quit()"
   ]
  },
  {
   "cell_type": "markdown",
   "id": "e5076108",
   "metadata": {},
   "source": [
    "# GMARKET 실습 (상품명|상품가격)"
   ]
  },
  {
   "cell_type": "code",
   "execution_count": 1,
   "id": "2dc4a3a2",
   "metadata": {},
   "outputs": [],
   "source": [
    "from selenium import webdriver as wb # 웹드라이버(브라우저 역할)\n",
    "from selenium.webdriver.common.keys import Keys\n",
    "from selenium.webdriver.common.by import By # 구분자\n",
    "from tqdm import tqdm # 진행상황을 progress bar로 시각화해주는 라이브러리\n",
    "import time # 지연시간을 줌(지연시간 없이 크롤링하면, 봇으로 인식되어 막힘)\n",
    "                #(페이지는 데이터 로딩 시간이 필요하여 매치가 안될 경우 데이터가 뽑히지 않을 수 있음)"
   ]
  },
  {
   "cell_type": "code",
   "execution_count": 2,
   "id": "2af7eb3b",
   "metadata": {},
   "outputs": [],
   "source": [
    "driver = wb.Chrome()\n",
    "driver.get('https://corners.gmarket.co.kr/bestsellers')"
   ]
  },
  {
   "cell_type": "code",
   "execution_count": 3,
   "id": "b0652a90",
   "metadata": {},
   "outputs": [],
   "source": [
    "# 웹페이지가 축소될 경우, html구조변경 일어날 수 있다.\n",
    "# 최대한 최대창으로 진행하는 것을 권장!\n",
    "driver.maximize_window()"
   ]
  },
  {
   "cell_type": "markdown",
   "id": "ab3c08b4",
   "metadata": {},
   "source": [
    "### 이미지 수집"
   ]
  },
  {
   "cell_type": "code",
   "execution_count": 4,
   "id": "ec2bcf10",
   "metadata": {},
   "outputs": [
    {
     "data": {
      "text/plain": [
       "20"
      ]
     },
     "execution_count": 4,
     "metadata": {},
     "output_type": "execute_result"
    }
   ],
   "source": [
    "# body = driver.find_element(By.TAG_NAME, 'body')\n",
    "# body.send_keys(Keys.END)\n",
    "\n",
    "# time.sleep(5)\n",
    "\n",
    "imgs = driver.find_elements(By.CLASS_NAME, 'image__lazy.image__load')\n",
    "# 또는 imgs = driver.find_elements(By.CSS_SELECTOR, '.image__lazy.image__load')\n",
    "\n",
    "imgs[0].click()\n",
    "\n",
    "len(imgs)"
   ]
  },
  {
   "cell_type": "markdown",
   "id": "3b447e20",
   "metadata": {},
   "source": [
    "### 삼품명 수집"
   ]
  },
  {
   "cell_type": "code",
   "execution_count": 5,
   "id": "46b86c49",
   "metadata": {},
   "outputs": [
    {
     "name": "stdout",
     "output_type": "stream",
     "text": [
      "(10%쿠폰가 11610원) (1+1) 더 아이 주니어하이틴 심리스 브라탑 일체형 노와이어\n"
     ]
    }
   ],
   "source": [
    "# 상품명 요소가 몇개 뽑히는지 테스트\n",
    "title_test = driver.find_elements(By.CLASS_NAME, 'itemtit')\n",
    "\n",
    "for i in title_test:\n",
    "    print(i.text)"
   ]
  },
  {
   "cell_type": "code",
   "execution_count": 6,
   "id": "3ad2a77a",
   "metadata": {},
   "outputs": [
    {
     "name": "stdout",
     "output_type": "stream",
     "text": [
      "(10%쿠폰가 11610원) (1+1) 더 아이 주니어하이틴 심리스 브라탑 일체형 노와이어\n"
     ]
    }
   ],
   "source": [
    "# title이 하나이므로 find_element로 변경 (find_elements는 리스트로 반환되기 때문)\n",
    "title = driver.find_element(By.CLASS_NAME, 'itemtit')\n",
    "print(title.text)"
   ]
  },
  {
   "cell_type": "markdown",
   "id": "9c8b74f0",
   "metadata": {},
   "source": [
    "### 상품가격 수집"
   ]
  },
  {
   "cell_type": "code",
   "execution_count": 7,
   "id": "e377e5e2",
   "metadata": {},
   "outputs": [
    {
     "name": "stdout",
     "output_type": "stream",
     "text": [
      "12,900원\n",
      "11,610원\n"
     ]
    }
   ],
   "source": [
    "# 상품가격 요소가 몇개 뽑히는지 테스트\n",
    "price_test = driver.find_elements(By.CLASS_NAME, 'price_real')\n",
    "\n",
    "for i in price_test:\n",
    "    print(i.text)"
   ]
  },
  {
   "cell_type": "code",
   "execution_count": 8,
   "id": "cbfe5b7d",
   "metadata": {},
   "outputs": [
    {
     "name": "stdout",
     "output_type": "stream",
     "text": [
      "12,900원\n"
     ]
    }
   ],
   "source": [
    "# price가 두 개 이지만, 첫 번째 요소를 추출할 것이기 때문에 find_element로 변경\n",
    "price = driver.find_element(By.CLASS_NAME, 'price_real')\n",
    "print(price.text)"
   ]
  },
  {
   "cell_type": "code",
   "execution_count": 9,
   "id": "2cec12c2",
   "metadata": {},
   "outputs": [],
   "source": [
    "driver.back() # 베스트셀러 페이지로 돌아오자!"
   ]
  },
  {
   "cell_type": "markdown",
   "id": "86617c45",
   "metadata": {},
   "source": [
    "### 대망의 for loop으로 추출 해보자"
   ]
  },
  {
   "cell_type": "code",
   "execution_count": 10,
   "id": "527a85a2",
   "metadata": {},
   "outputs": [
    {
     "name": "stderr",
     "output_type": "stream",
     "text": [
      "100%|███████████████████████████████████████████| 11/11 [05:57<00:00, 32.47s/it]\n"
     ]
    }
   ],
   "source": [
    "# 먼저 빈 그릇 2개 생성\n",
    "title_list = []\n",
    "price_list = []\n",
    "\n",
    "# 품목 10개 가져오자\n",
    "for i in tqdm(range(11)): # tqdm : for문이 얼마나 걸리는지 예상 가능\n",
    "    imgs = driver.find_elements(By.CLASS_NAME, 'image__lazy.image__load')\n",
    "    imgs[i].click()\n",
    "    \n",
    "    time.sleep(2) # 지연시간 2초정도.\n",
    "    \n",
    "    title = driver.find_element(By.CLASS_NAME,'itemtit')\n",
    "    title_list.append(title.text)\n",
    "    price = driver.find_element(By.CLASS_NAME,'price_real')\n",
    "    price_list.append(price.text)\n",
    "    \n",
    "    driver.back()\n",
    "    \n",
    "    time.sleep(2)"
   ]
  },
  {
   "cell_type": "code",
   "execution_count": 11,
   "id": "f892fab6",
   "metadata": {},
   "outputs": [
    {
     "data": {
      "text/plain": [
       "['(10%쿠폰가 11610원) (1+1) 더 아이 주니어하이틴 심리스 브라탑 일체형 노와이어',\n",
       " 'UV차단 우산 1+1 원터치 자동 암막 양산 접이식 우양산',\n",
       " '쿨맥스 썸머버전 추가/여성청바지 판매1위/연청추가/하비고민 덜어주는 데님 (Made)S~2XL/스테디치즈데님',\n",
       " '배수구 세정제 드릴펑 1L 3+2개(총5개)/초특가',\n",
       " '펩시콜라 제로슈거 라임 355ml 24캔 캔음료/탄산음료/제로콜라/음료수/펩시제로',\n",
       " '기프트코드 10만원 / 구글 기프트카드',\n",
       " '1+1+1행사 모이스쳐 틴트 립밤',\n",
       " '갈치속젓/갈치쌈젓 1kg(용기포장) HACCP인증/국내산',\n",
       " '((24시간 특가)) 1+1 소두핏 자외선 여성 버킷햇 벙거지 모자 MZ016',\n",
       " '맥콜 제로 250ml x 30캔 제로칼로리',\n",
       " '기프트코드 5만원 / 구글 기프트카드']"
      ]
     },
     "execution_count": 11,
     "metadata": {},
     "output_type": "execute_result"
    }
   ],
   "source": [
    "title_list"
   ]
  },
  {
   "cell_type": "code",
   "execution_count": 12,
   "id": "e6dde6e1",
   "metadata": {},
   "outputs": [
    {
     "data": {
      "text/plain": [
       "['12,900원',\n",
       " '9,900원',\n",
       " '21,900원',\n",
       " '11,200원',\n",
       " '20,500원',\n",
       " '95,000원',\n",
       " '11,900원',\n",
       " '10,900원',\n",
       " '8,900원',\n",
       " '16,900원',\n",
       " '47,500원']"
      ]
     },
     "execution_count": 12,
     "metadata": {},
     "output_type": "execute_result"
    }
   ],
   "source": [
    "price_list"
   ]
  },
  {
   "cell_type": "markdown",
   "id": "8f53709d",
   "metadata": {},
   "source": [
    "### DataFrame"
   ]
  },
  {
   "cell_type": "code",
   "execution_count": 13,
   "id": "810b493a",
   "metadata": {},
   "outputs": [
    {
     "data": {
      "text/html": [
       "<div>\n",
       "<style scoped>\n",
       "    .dataframe tbody tr th:only-of-type {\n",
       "        vertical-align: middle;\n",
       "    }\n",
       "\n",
       "    .dataframe tbody tr th {\n",
       "        vertical-align: top;\n",
       "    }\n",
       "\n",
       "    .dataframe thead th {\n",
       "        text-align: right;\n",
       "    }\n",
       "</style>\n",
       "<table border=\"1\" class=\"dataframe\">\n",
       "  <thead>\n",
       "    <tr style=\"text-align: right;\">\n",
       "      <th></th>\n",
       "      <th>상품명</th>\n",
       "      <th>가격</th>\n",
       "    </tr>\n",
       "  </thead>\n",
       "  <tbody>\n",
       "    <tr>\n",
       "      <th>0</th>\n",
       "      <td>(10%쿠폰가 11610원) (1+1) 더 아이 주니어하이틴 심리스 브라탑 일체형 ...</td>\n",
       "      <td>12,900원</td>\n",
       "    </tr>\n",
       "    <tr>\n",
       "      <th>1</th>\n",
       "      <td>UV차단 우산 1+1 원터치 자동 암막 양산 접이식 우양산</td>\n",
       "      <td>9,900원</td>\n",
       "    </tr>\n",
       "    <tr>\n",
       "      <th>2</th>\n",
       "      <td>쿨맥스 썸머버전 추가/여성청바지 판매1위/연청추가/하비고민 덜어주는 데님 (Made...</td>\n",
       "      <td>21,900원</td>\n",
       "    </tr>\n",
       "    <tr>\n",
       "      <th>3</th>\n",
       "      <td>배수구 세정제 드릴펑 1L 3+2개(총5개)/초특가</td>\n",
       "      <td>11,200원</td>\n",
       "    </tr>\n",
       "    <tr>\n",
       "      <th>4</th>\n",
       "      <td>펩시콜라 제로슈거 라임 355ml 24캔 캔음료/탄산음료/제로콜라/음료수/펩시제로</td>\n",
       "      <td>20,500원</td>\n",
       "    </tr>\n",
       "    <tr>\n",
       "      <th>5</th>\n",
       "      <td>기프트코드 10만원 / 구글 기프트카드</td>\n",
       "      <td>95,000원</td>\n",
       "    </tr>\n",
       "    <tr>\n",
       "      <th>6</th>\n",
       "      <td>1+1+1행사 모이스쳐 틴트 립밤</td>\n",
       "      <td>11,900원</td>\n",
       "    </tr>\n",
       "    <tr>\n",
       "      <th>7</th>\n",
       "      <td>갈치속젓/갈치쌈젓 1kg(용기포장) HACCP인증/국내산</td>\n",
       "      <td>10,900원</td>\n",
       "    </tr>\n",
       "    <tr>\n",
       "      <th>8</th>\n",
       "      <td>((24시간 특가)) 1+1 소두핏 자외선 여성 버킷햇 벙거지 모자 MZ016</td>\n",
       "      <td>8,900원</td>\n",
       "    </tr>\n",
       "    <tr>\n",
       "      <th>9</th>\n",
       "      <td>맥콜 제로 250ml x 30캔 제로칼로리</td>\n",
       "      <td>16,900원</td>\n",
       "    </tr>\n",
       "    <tr>\n",
       "      <th>10</th>\n",
       "      <td>기프트코드 5만원 / 구글 기프트카드</td>\n",
       "      <td>47,500원</td>\n",
       "    </tr>\n",
       "  </tbody>\n",
       "</table>\n",
       "</div>"
      ],
      "text/plain": [
       "                                                  상품명       가격\n",
       "0   (10%쿠폰가 11610원) (1+1) 더 아이 주니어하이틴 심리스 브라탑 일체형 ...  12,900원\n",
       "1                    UV차단 우산 1+1 원터치 자동 암막 양산 접이식 우양산   9,900원\n",
       "2   쿨맥스 썸머버전 추가/여성청바지 판매1위/연청추가/하비고민 덜어주는 데님 (Made...  21,900원\n",
       "3                        배수구 세정제 드릴펑 1L 3+2개(총5개)/초특가  11,200원\n",
       "4       펩시콜라 제로슈거 라임 355ml 24캔 캔음료/탄산음료/제로콜라/음료수/펩시제로  20,500원\n",
       "5                               기프트코드 10만원 / 구글 기프트카드  95,000원\n",
       "6                                  1+1+1행사 모이스쳐 틴트 립밤  11,900원\n",
       "7                     갈치속젓/갈치쌈젓 1kg(용기포장) HACCP인증/국내산  10,900원\n",
       "8         ((24시간 특가)) 1+1 소두핏 자외선 여성 버킷햇 벙거지 모자 MZ016   8,900원\n",
       "9                             맥콜 제로 250ml x 30캔 제로칼로리  16,900원\n",
       "10                               기프트코드 5만원 / 구글 기프트카드  47,500원"
      ]
     },
     "execution_count": 13,
     "metadata": {},
     "output_type": "execute_result"
    }
   ],
   "source": [
    "import pandas as pd\n",
    "dic = {'상품명':title_list, '가격':price_list}\n",
    "GMARKET_df = pd.DataFrame(dic)\n",
    "GMARKET_df"
   ]
  },
  {
   "cell_type": "markdown",
   "id": "432725c3",
   "metadata": {},
   "source": [
    "### 파일로 내보내기"
   ]
  },
  {
   "cell_type": "code",
   "execution_count": 15,
   "id": "4e41eb3e",
   "metadata": {},
   "outputs": [],
   "source": [
    "GMARKET_df.to_csv('/Users/minjeekim/Documents/스마트 인재개발원/5_WebCrawling/gmarket.csv', encoding='euc-kr')\n",
    "GMARKET_df.to_excel('/Users/minjeekim/Documents/스마트 인재개발원/5_WebCrawling/gmarket.xlsx', encoding='euc-kr')"
   ]
  },
  {
   "cell_type": "code",
   "execution_count": 16,
   "id": "f9ab52aa",
   "metadata": {},
   "outputs": [],
   "source": [
    "driver.quit()"
   ]
  },
  {
   "cell_type": "markdown",
   "id": "3fbbd0db",
   "metadata": {},
   "source": [
    "# 한솥 도시락 (메뉴이름|가격 수집)\n",
    "1. Selenium Method 활용\n",
    "2. 메뉴이름, 가격 수집하기\n",
    "3. 더보기 계속 자동적으로 클릭하기 (try/ except)\n",
    "4. Dataframe"
   ]
  },
  {
   "cell_type": "code",
   "execution_count": 17,
   "id": "0e0c946a",
   "metadata": {},
   "outputs": [],
   "source": [
    "# 라이브러리 import\n",
    "from selenium import webdriver as wb\n",
    "from selenium.webdriver.common.by import By\n",
    "from selenium.webdriver.common.keys import Keys\n",
    "import time\n",
    "import pandas as pd"
   ]
  },
  {
   "cell_type": "markdown",
   "id": "3c446f7f",
   "metadata": {},
   "source": [
    "### 브라우저 오픈"
   ]
  },
  {
   "cell_type": "code",
   "execution_count": 18,
   "id": "4dcd417a",
   "metadata": {},
   "outputs": [],
   "source": [
    "driver = wb.Chrome()\n",
    "driver.get('https://www.hsd.co.kr/')\n",
    "\n",
    "# 햄버거 버튼(창이 축소되면서 메뉴 버튼이 바뀜) 발생 -> 창 최대화해서 진행\n",
    "driver.maximize_window()"
   ]
  },
  {
   "cell_type": "code",
   "execution_count": 19,
   "id": "18d99b35",
   "metadata": {},
   "outputs": [],
   "source": [
    "# [메뉴] - [전체메뉴]로 이동\n",
    "menu = driver.find_element(By.XPATH, '//*[@id=\"gnb\"]/div[2]/ul/li[3]/p/a')\n",
    "all_menu = driver.find_element(By.XPATH,'//*[@id=\"gnb\"]/div[2]/ul/li[3]/div/ul/li[1]/a')"
   ]
  },
  {
   "cell_type": "markdown",
   "id": "930660d6",
   "metadata": {},
   "source": [
    "### Action Chain 으로 메뉴에 접근해보자\n",
    "#### Action Chain이란?\n",
    ": selenium에서 제공하는 기능 중 하나. 마우스,키보드의 액션을 생성 가능"
   ]
  },
  {
   "cell_type": "code",
   "execution_count": 20,
   "id": "85776549",
   "metadata": {},
   "outputs": [],
   "source": [
    "from selenium.webdriver.common.action_chains import ActionChains"
   ]
  },
  {
   "cell_type": "code",
   "execution_count": 23,
   "id": "83077f64",
   "metadata": {},
   "outputs": [],
   "source": [
    "# action 만들기 / 변수 생성\n",
    "action = ActionChains(driver) # driver를 통해 액션을 만든다고 선언\n",
    "\n",
    "# 첫번째 관문, menu로 이동\n",
    "action.move_to_element(menu) # 사용자가 마우스를 menu버튼으로 이동하듯이 컴퓨터 코드로 작성\n",
    "\n",
    "# 두번째 관문, 전체메뉴 클릭\n",
    "action.click(all_menu)\n",
    "\n",
    "time.sleep(1)\n",
    "\n",
    "# 해당 작업을 수행\n",
    "action.perform()"
   ]
  },
  {
   "cell_type": "code",
   "execution_count": 24,
   "id": "92de3b09",
   "metadata": {},
   "outputs": [],
   "source": [
    "# 더보기 버튼 수집\n",
    "btn = driver.find_element(By.XPATH, '//*[@id=\"btn_more\"]/span/a')\n",
    "btn.click()"
   ]
  },
  {
   "cell_type": "markdown",
   "id": "b843a6a4",
   "metadata": {},
   "source": [
    "### 요소들 출력"
   ]
  },
  {
   "cell_type": "code",
   "execution_count": 25,
   "id": "31915884",
   "metadata": {
    "scrolled": true
   },
   "outputs": [
    {
     "name": "stdout",
     "output_type": "stream",
     "text": [
      "송정식 떡갈비 도시락\n",
      "카츠카츠 도시락\n",
      "아보카도 훈제 닭가슴살 명란 비빔밥\n",
      "아보카도 소불고기 명란 비빔밥\n",
      "새후마요\n",
      "숯불직화구이 두부강된장\n",
      "해바라기\n",
      "매화\n",
      "진달래\n",
      "개나리\n",
      "돈까스도련님고기고기\n",
      "탕수육도련님고기고기\n",
      "새치 고기고기\n",
      "돈치 고기고기\n",
      "숯불직화구이\n",
      "소불고기\n",
      "메가치킨제육\n",
      "칠리 찹쌀탕수육도련님\n",
      "동백\n",
      "치킨제육\n",
      "돈까스도련님\n",
      "제육볶음\n",
      "돈치스팸 도시락\n",
      "제육 김치찌개 정식\n",
      "제육 김치 부대찌개 정식\n",
      "돈치스팸 김치 부대찌개 정식\n",
      "빅치킨마요 김치 부대찌개 정식\n",
      "치킨마요 김치 부대찌개 정식\n",
      "빅치킨마요 김치찌개 정식\n",
      "치킨마요 김치찌개 정식\n",
      "메가스팸마요\n",
      "스팸마요\n",
      "메가치킨마요\n",
      "왕치킨마요\n",
      "빅치킨마요\n",
      "치킨마요\n",
      "참치마요\n",
      "돈치마요\n",
      "돈까스 카레\n",
      "스팸 김치볶음밥\n",
      "김치볶음밥\n",
      "스팸철판볶음밥\n",
      "소불고기 철판볶음밥\n",
      "나시고랭\n",
      "묵은지 김치찌개\n",
      "김치 부대찌개\n",
      "숯불직화구이 덮밥\n",
      "마파두부 덮밥\n",
      "왕카레돈까스덮밥\n",
      "새우돈까스 덮밥\n",
      "돈까스 덮밥\n",
      "소불고기 감초고추장 비빔밥\n",
      "시골제육 두부강된장 비빔밥\n",
      "참치야채 감초고추장\n",
      "튼튼도시락\n",
      "토네이도 소세지 파스타\n",
      "트리플 치즈 파스타\n",
      "토마토 미트 파스타\n",
      "반찬 묵은지김치찌개\n",
      "반찬 카레\n",
      "반찬 순살 고등어 간장구이\n",
      "반찬 김치 부대찌개\n",
      "반찬 치킨\n",
      "반찬 고기고기\n",
      "반찬 돈까스 도련님\n",
      "반찬 제육볶음\n",
      "반찬 토네이도 소세지\n",
      "반찬 반달돈까스\n",
      "치즈버터 해시 포테이토 스틱\n",
      "허니버터 해시 포테이토 스틱\n",
      "해시 포테이토 스틱\n",
      "뉴 감자고로케\n",
      "미니 찹쌀핫도그\n",
      "미니 찹쌀탕수육\n",
      "케이준후라이\n",
      "통현미 닭강정(소)\n",
      "통현미 닭강정(중)\n",
      "후라이드 순살(중)\n",
      "후라이드 순살(소)_양념치킨소스\n",
      "후라이드 순살(소)_케이준소스\n",
      "오리지널 닭강정(중)\n",
      "오리지널 닭강정(소)\n",
      "반찬 무생채\n",
      "3종 미니반찬B\n",
      "3종 미니반찬A\n",
      "오징어젓갈\n",
      "한솥 두부강된장소스\n",
      "한솥 감초볶음고추장소스\n",
      "볶음김치\n",
      "김치\n",
      "무말랭이 무침\n",
      "한솥밥\n",
      "현미밥\n",
      "리얼 티라미수 찰떡\n",
      "리얼꿀 미니호떡\n"
     ]
    }
   ],
   "source": [
    "# 메뉴이름 뽑기\n",
    "titles = driver.find_elements(By.CSS_SELECTOR, '.h.fz_03')\n",
    "\n",
    "for i in titles:\n",
    "    print(i.text)"
   ]
  },
  {
   "cell_type": "code",
   "execution_count": 26,
   "id": "652f3653",
   "metadata": {
    "scrolled": true
   },
   "outputs": [
    {
     "name": "stdout",
     "output_type": "stream",
     "text": [
      "6,900원\n",
      "4,800원\n",
      "6,500원\n",
      "6,500원\n",
      "4,500원\n",
      "8,200원\n",
      "10,000원\n",
      "10,500원\n",
      "7,800원\n",
      "8,500원\n",
      "6,300원\n",
      "6,000원\n",
      "7,000원\n",
      "6,000원\n",
      "6,600원\n",
      "5,500원\n",
      "7,500원\n",
      "4,400원\n",
      "6,000원\n",
      "4,900원\n",
      "4,800원\n",
      "4,500원\n",
      "5,000원\n",
      "8,600원\n",
      "9,000원\n",
      "9,000원\n",
      "8,000원\n",
      "7,400원\n",
      "7,500원\n",
      "6,900원\n",
      "5,800원\n",
      "3,900원\n",
      "6,000원\n",
      "5,000원\n",
      "4,300원\n",
      "3,700원\n",
      "3,500원\n",
      "4,000원\n",
      "4,700원\n",
      "4,700원\n",
      "3,900원\n",
      "4,700원\n",
      "4,900원\n",
      "6,200원\n",
      "4,900원\n",
      "6,000원\n",
      "6,000원\n",
      "5,000원\n",
      "6,000원\n",
      "4,200원\n",
      "4,100원\n",
      "5,400원\n",
      "5,200원\n",
      "3,500원\n",
      "5,000원\n",
      "5,800원\n",
      "5,900원\n",
      "4,800원\n",
      "4,400원\n",
      "2,900원\n",
      "3,900원\n",
      "4,900원\n",
      "3,800원\n",
      "3,600원\n",
      "4,100원\n",
      "3,500원\n",
      "2,800원\n",
      "2,900원\n",
      "2,200원\n",
      "2,200원\n",
      "2,000원\n",
      "2,700원\n",
      "2,500원\n",
      "2,200원\n",
      "1,900원\n",
      "3,500원\n",
      "8,500원\n",
      "7,500원\n",
      "4,000원\n",
      "4,000원\n",
      "8,500원\n",
      "3,500원\n",
      "400원\n",
      "1,300원\n",
      "1,300원\n",
      "600원\n",
      "1,800원\n",
      "500원\n",
      "500원\n",
      "400원\n",
      "500원\n",
      "1,000원\n",
      "1,700원\n",
      "1,700원\n",
      "2,200원\n"
     ]
    }
   ],
   "source": [
    "# 메뉴 가격 뽑기\n",
    "price = driver.find_elements(By.CSS_SELECTOR, 'div.item-price')\n",
    "\n",
    "for i in price:\n",
    "    print(i.text)"
   ]
  },
  {
   "cell_type": "markdown",
   "id": "400a1f2e",
   "metadata": {},
   "source": [
    "### 반복문을 통해 데이터 크롤링 진행"
   ]
  },
  {
   "cell_type": "code",
   "execution_count": 27,
   "id": "bacda579",
   "metadata": {},
   "outputs": [
    {
     "name": "stdout",
     "output_type": "stream",
     "text": [
      "더보기 클릭 완료. 계속 진행합니다.\n"
     ]
    },
    {
     "name": "stderr",
     "output_type": "stream",
     "text": [
      "100%|██████████████████████████████████████████| 95/95 [00:00<00:00, 102.36it/s]\n"
     ]
    },
    {
     "name": "stdout",
     "output_type": "stream",
     "text": [
      "크롤링 완료. 수고하셨습니다.\n"
     ]
    }
   ],
   "source": [
    "from tqdm import tqdm\n",
    "\n",
    "title_list = []\n",
    "price_list = []\n",
    "\n",
    "try:  # 시도해봐 (아래 블럭의 코드를 실행해봐)\n",
    "    while True :     #(이 조건이 참일때)(더보기 버튼이 있을 때)\n",
    "        # 더보기 버튼 선언\n",
    "        btn = driver.find_element(By.XPATH, '//*[@id=\"btn_more\"]/span/a')\n",
    "        # 더보기 버튼 클릭\n",
    "        btn.click()\n",
    "        # 지연시간 2초\n",
    "        time.sleep(2)\n",
    "        \n",
    "        # 여기까지 더보기 버튼이 계속 있다면, 클릭을 해주면서 계속 반복함\n",
    "        \n",
    "except :\n",
    "    # 예외의 경우\n",
    "    \n",
    "    # 이 실습에서 예외란 더보기가 없는 경우\n",
    "    # 예외처리가 안되어있을 경우, 더보기 버튼이 없을시\n",
    "        # 동작은 되자만, 데이터가 잘 안뽑힐 수 있고,\n",
    "        # 에러를 배출하면서 아예 크롤러가 종료될 수 있음.\n",
    "    \n",
    "    # 1. 우선 '클릭 완료' '계속 진행합니다' 라는 문구를 출력\n",
    "    print('더보기 클릭 완료. 계속 진행합니다.')\n",
    "\n",
    "titles = driver.find_elements(By.CSS_SELECTOR, 'h4.h.fz_03')\n",
    "price = driver.find_elements(By.CSS_SELECTOR, 'div.item-price')\n",
    "\n",
    "for i in tqdm(range(len(titles))):\n",
    "    title_list.append(titles[i].text)\n",
    "    price_list.append(price[i].text)\n",
    "\n",
    "driver.quit()\n",
    "\n",
    "print('크롤링 완료. 수고하셨습니다.')"
   ]
  },
  {
   "cell_type": "code",
   "execution_count": 28,
   "id": "eeb3a209",
   "metadata": {},
   "outputs": [
    {
     "data": {
      "text/plain": [
       "(95, 95)"
      ]
     },
     "execution_count": 28,
     "metadata": {},
     "output_type": "execute_result"
    }
   ],
   "source": [
    "len(title_list), len(price_list)"
   ]
  },
  {
   "cell_type": "markdown",
   "id": "e3b57651",
   "metadata": {},
   "source": [
    "### DataFrame"
   ]
  },
  {
   "cell_type": "code",
   "execution_count": 29,
   "id": "43ea51bc",
   "metadata": {},
   "outputs": [
    {
     "data": {
      "text/html": [
       "<div>\n",
       "<style scoped>\n",
       "    .dataframe tbody tr th:only-of-type {\n",
       "        vertical-align: middle;\n",
       "    }\n",
       "\n",
       "    .dataframe tbody tr th {\n",
       "        vertical-align: top;\n",
       "    }\n",
       "\n",
       "    .dataframe thead th {\n",
       "        text-align: right;\n",
       "    }\n",
       "</style>\n",
       "<table border=\"1\" class=\"dataframe\">\n",
       "  <thead>\n",
       "    <tr style=\"text-align: right;\">\n",
       "      <th></th>\n",
       "      <th>메뉴이름</th>\n",
       "      <th>가격</th>\n",
       "    </tr>\n",
       "  </thead>\n",
       "  <tbody>\n",
       "    <tr>\n",
       "      <th>0</th>\n",
       "      <td>송정식 떡갈비 도시락</td>\n",
       "      <td>6,900원</td>\n",
       "    </tr>\n",
       "    <tr>\n",
       "      <th>1</th>\n",
       "      <td>카츠카츠 도시락</td>\n",
       "      <td>4,800원</td>\n",
       "    </tr>\n",
       "    <tr>\n",
       "      <th>2</th>\n",
       "      <td>아보카도 훈제 닭가슴살 명란 비빔밥</td>\n",
       "      <td>6,500원</td>\n",
       "    </tr>\n",
       "    <tr>\n",
       "      <th>3</th>\n",
       "      <td>아보카도 소불고기 명란 비빔밥</td>\n",
       "      <td>6,500원</td>\n",
       "    </tr>\n",
       "    <tr>\n",
       "      <th>4</th>\n",
       "      <td>새후마요</td>\n",
       "      <td>4,500원</td>\n",
       "    </tr>\n",
       "    <tr>\n",
       "      <th>...</th>\n",
       "      <td>...</td>\n",
       "      <td>...</td>\n",
       "    </tr>\n",
       "    <tr>\n",
       "      <th>90</th>\n",
       "      <td>무말랭이 무침</td>\n",
       "      <td>500원</td>\n",
       "    </tr>\n",
       "    <tr>\n",
       "      <th>91</th>\n",
       "      <td>한솥밥</td>\n",
       "      <td>1,000원</td>\n",
       "    </tr>\n",
       "    <tr>\n",
       "      <th>92</th>\n",
       "      <td>현미밥</td>\n",
       "      <td>1,700원</td>\n",
       "    </tr>\n",
       "    <tr>\n",
       "      <th>93</th>\n",
       "      <td>리얼 티라미수 찰떡</td>\n",
       "      <td>1,700원</td>\n",
       "    </tr>\n",
       "    <tr>\n",
       "      <th>94</th>\n",
       "      <td>리얼꿀 미니호떡</td>\n",
       "      <td>2,200원</td>\n",
       "    </tr>\n",
       "  </tbody>\n",
       "</table>\n",
       "<p>95 rows × 2 columns</p>\n",
       "</div>"
      ],
      "text/plain": [
       "                   메뉴이름      가격\n",
       "0           송정식 떡갈비 도시락  6,900원\n",
       "1              카츠카츠 도시락  4,800원\n",
       "2   아보카도 훈제 닭가슴살 명란 비빔밥  6,500원\n",
       "3      아보카도 소불고기 명란 비빔밥  6,500원\n",
       "4                  새후마요  4,500원\n",
       "..                  ...     ...\n",
       "90              무말랭이 무침    500원\n",
       "91                  한솥밥  1,000원\n",
       "92                  현미밥  1,700원\n",
       "93           리얼 티라미수 찰떡  1,700원\n",
       "94             리얼꿀 미니호떡  2,200원\n",
       "\n",
       "[95 rows x 2 columns]"
      ]
     },
     "execution_count": 29,
     "metadata": {},
     "output_type": "execute_result"
    }
   ],
   "source": [
    "data = {'메뉴이름': title_list, '가격': price_list}\n",
    "pd_data = pd.DataFrame(data)\n",
    "pd_data"
   ]
  },
  {
   "cell_type": "code",
   "execution_count": 31,
   "id": "3fd5b489",
   "metadata": {},
   "outputs": [],
   "source": [
    "pd_data.to_excel('/Users/minjeekim/Documents/스마트 인재개발원/5_WebCrawling/한솥메뉴.xlsx', encoding = 'euc-kr')"
   ]
  },
  {
   "cell_type": "markdown",
   "id": "5965886f",
   "metadata": {},
   "source": [
    "# 포켓몬 이미지 수집"
   ]
  },
  {
   "cell_type": "code",
   "execution_count": 32,
   "id": "bf079ac4",
   "metadata": {},
   "outputs": [],
   "source": [
    "from selenium import webdriver as wb\n",
    "from selenium.webdriver.common.keys import Keys\n",
    "from selenium.webdriver.common.by import By\n",
    "import time\n",
    "from tqdm import tqdm\n",
    "import pandas as pd\n",
    "\n",
    "import os # os 라이브러리 : 운영체제와 상호작용을 하게 해주는 라이브러리\n",
    "                # 파일/폴더 생성/삭제 등 파일관리에 좀 더 중점\n",
    "from urllib.request import urlretrieve # 인터넷에서 파일을 다운로드 하는 함수\n",
    "# 다운로드하려는 파일의 url과 파일명을 지정하면, 해당파일을 인터넷에서 다운, 로컬파일시스템에 저장해주는 라이브러리"
   ]
  },
  {
   "cell_type": "code",
   "execution_count": 33,
   "id": "8b0d7eef",
   "metadata": {},
   "outputs": [],
   "source": [
    "driver = wb.Chrome()\n",
    "driver.get('https://pokemonkorea.co.kr/pokedex')\n",
    "driver.maximize_window()"
   ]
  },
  {
   "cell_type": "code",
   "execution_count": 34,
   "id": "d421f12c",
   "metadata": {},
   "outputs": [],
   "source": [
    "# 크롤링할 이미지는 body에 있기 때문에 우선 선언\n",
    "body = driver.find_element(By.TAG_NAME, 'body')"
   ]
  },
  {
   "cell_type": "markdown",
   "id": "558e7a40",
   "metadata": {},
   "source": [
    "### for loop으로 추출\n",
    "- while loop 가 아닌 for loop을 사용하는 이유\n",
    "- 크롤링이 끝나도, body는 사라지지 않고, 계속 존재하게 되므로, break를 걸어주지 않는 이상은 계속 존재하는 body때문에 무한루프에 빠질 수 있다."
   ]
  },
  {
   "cell_type": "code",
   "execution_count": 35,
   "id": "b1a814fc",
   "metadata": {},
   "outputs": [
    {
     "name": "stderr",
     "output_type": "stream",
     "text": [
      "100%|███████████████████████████████████████████| 70/70 [02:25<00:00,  2.07s/it]\n"
     ]
    }
   ],
   "source": [
    "# range -> 스크롤 횟수\n",
    "\n",
    "# 스크롤을 20회 정도 해보자 + 30회 + 20회 하니까 다 스크롤 됨!\n",
    "\n",
    "for i in tqdm(range(70)):\n",
    "    body = driver.find_element(By.TAG_NAME, 'body')\n",
    "    \n",
    "    body.send_keys(Keys.END)\n",
    "    \n",
    "    time.sleep(2)"
   ]
  },
  {
   "cell_type": "code",
   "execution_count": 36,
   "id": "6ac0b024",
   "metadata": {},
   "outputs": [
    {
     "data": {
      "text/plain": [
       "'https://data1.pokemonkorea.co.kr/newdata/pokedex/mid/000101.png'"
      ]
     },
     "execution_count": 36,
     "metadata": {},
     "output_type": "execute_result"
    }
   ],
   "source": [
    "# 스크롤을 통해서 포켓몬 이미지를 서버로부터 브라우저에 로드\n",
    "\n",
    "# 이미지 url추출\n",
    "imgs_url = driver.find_elements(By.CSS_SELECTOR,'img.img-fluid')\n",
    "\n",
    "# imgs_url에서 0번째 요소에서 src란 요소를 가져오기\n",
    "    # 텍스트가 아닌 속성을 가져는 것 -> get_attribute()사용\n",
    "imgs_url[0].get_attribute('src') # 첫번째 이미지 소스 확인"
   ]
  },
  {
   "cell_type": "code",
   "execution_count": 37,
   "id": "a1f63184",
   "metadata": {},
   "outputs": [],
   "source": [
    "# scr url을 srcList인 빈 리스트에 담아줌\n",
    "\n",
    "srcList = []\n",
    "\n",
    "for i in imgs_url:\n",
    "    srcList.append(i.get_attribute('src'))"
   ]
  },
  {
   "cell_type": "code",
   "execution_count": 38,
   "id": "f4d8d6eb",
   "metadata": {},
   "outputs": [
    {
     "data": {
      "text/plain": [
       "1226"
      ]
     },
     "execution_count": 38,
     "metadata": {},
     "output_type": "execute_result"
    }
   ],
   "source": [
    "len(srcList)"
   ]
  },
  {
   "cell_type": "code",
   "execution_count": 49,
   "id": "d46bf7a5",
   "metadata": {},
   "outputs": [],
   "source": [
    "driver.quit()"
   ]
  },
  {
   "cell_type": "markdown",
   "id": "8df9817b",
   "metadata": {},
   "source": [
    "### 폴더 생성"
   ]
  },
  {
   "cell_type": "code",
   "execution_count": 40,
   "id": "e58e5d25",
   "metadata": {},
   "outputs": [],
   "source": [
    "# 사용자가 바탕화면에 이미지나 파일을 담을 때, 폴더를 생성 (os 라이브러리를 사용)\n",
    "\n",
    "# 만약 경로상에 Pokemon 폴더가 없다면 Pokemon이란 폴더를 만들어줌\n",
    "if not os.path.isdir('/Users/minjeekim/Documents/스마트 인재개발원/5_WebCrawling/Pokemon'):\n",
    "    os.mkdir('/Users/minjeekim/Documents/스마트 인재개발원/5_WebCrawling/Pokemon')"
   ]
  },
  {
   "cell_type": "code",
   "execution_count": 41,
   "id": "a3e84b9b",
   "metadata": {},
   "outputs": [],
   "source": [
    "# 우리가 가져온 것은 이미지 데이터가 아닌, src url이다.\n",
    "# 그럼 온전한 이미지 파일로 변환을 시켜줘야겠네? -> urlretrieve()를 사용\n",
    "\n",
    "cnt = 1 # cnt는 파일이 순차적으로 변환되면서, 파일명을 1씩 증가시켜줌\n",
    "\n",
    "# 반복문으로 집어넣어보자, 그리고 이름도 바꿔주자\n",
    "\n",
    "for i in srcList:\n",
    "    \n",
    "    # 첫 번째 파일에서 해당 경로의 Pokemon 폴더 내,\n",
    "    # .jpg 확장자 이름으로 변환해줘\n",
    "    # 문자열인 cnt로 명령된 파일들을\n",
    "    \n",
    "    urlretrieve(i,'/Users/minjeekim/Documents/스마트 인재개발원/5_WebCrawling/Pokemon/'+str(cnt)+'.jpg')\n",
    "    \n",
    "    # 첫번째 항목이 완료되었을 경우, 하나씩 증감\n",
    "    cnt += 1\n",
    "    \n",
    "    # + 부호는 더하기 혹은 '결합'을 의미함\n",
    "        # cnt는 숫자인데 파일명을 저장할 때는문자로 저장함 -> str으로 변환\n",
    "    \n",
    "    # 컴퓨터는 확장자 구분에 엄청 깐깐함\n",
    "        # 정작 사용자의 명령없이는 확장자를 생성해주지 않는다.\n",
    "        # 그래서 뒤에 + .jpg 라고 붙여줘야 붙여준다."
   ]
  },
  {
   "cell_type": "markdown",
   "id": "0ea4743d",
   "metadata": {},
   "source": [
    "# 카카오맵\n",
    "- BeautifulSoup + Selenium 같이 사용\n",
    "  - Selenium은 브라우저 제어 등 자동화에 아주 특화\n",
    "  - but Selenium 자체로 html 파싱, 데이터 추출에 한계점이 존재함\n",
    "  - 각자의 장점을 살려서 같이 사용\n",
    "\n",
    "### 라이브러리 import"
   ]
  },
  {
   "cell_type": "code",
   "execution_count": 45,
   "id": "7b14703a",
   "metadata": {},
   "outputs": [],
   "source": [
    "from selenium import webdriver as wb\n",
    "from bs4 import BeautifulSoup as bs\n",
    "\n",
    "from selenium.webdriver.common.by import By\n",
    "from selenium.webdriver.common.keys import Keys\n",
    "import time\n",
    "\n",
    "from tqdm import tqdm"
   ]
  },
  {
   "cell_type": "markdown",
   "id": "2807790d",
   "metadata": {},
   "source": [
    "### 브라우저 할당"
   ]
  },
  {
   "cell_type": "code",
   "execution_count": 55,
   "id": "9d9c3ce7",
   "metadata": {},
   "outputs": [],
   "source": [
    "driver = wb.Chrome()\n",
    "driver.get('https://map.kakao.com/')\n",
    "driver.maximize_window()"
   ]
  },
  {
   "cell_type": "code",
   "execution_count": 57,
   "id": "fecfec28",
   "metadata": {
    "scrolled": true
   },
   "outputs": [],
   "source": [
    "# 우측 위 파란색 팝업 창 클릭해서 없애야함\n",
    "click_blue_popup = driver.find_element(By.CSS_SELECTOR,'body > div.coach_layer.coach_layer_type1 > div > div > div > span')\n",
    "click_blue_popup.click()"
   ]
  },
  {
   "cell_type": "code",
   "execution_count": 56,
   "id": "6ddf1203",
   "metadata": {},
   "outputs": [],
   "source": [
    "# 검색창 요소 지정\n",
    "search = driver.find_element(By.CSS_SELECTOR, '#search\\.keyword\\.query')\n",
    "\n",
    "# 검색어 입력 ('이수역 맛집')\n",
    "search.send_keys('이수역 맛집')\n",
    "\n",
    "# ENTER키 누르고, 데이터가 로드할 수 있는 시간까지 할당해주자\n",
    "search.send_keys(Keys.ENTER)\n",
    "time.sleep(3)"
   ]
  },
  {
   "cell_type": "markdown",
   "id": "e4281575",
   "metadata": {},
   "source": [
    "### BeautifulSoup 객체화"
   ]
  },
  {
   "cell_type": "code",
   "execution_count": 59,
   "id": "ec0466de",
   "metadata": {},
   "outputs": [
    {
     "data": {
      "text/plain": [
       "'<html class=\"index os_mac\" lang=\"ko\"><head>\\n<meta http-equiv=\"X-UA-Compatible\" content=\"IE=Edge\">\\n<meta name=\"viewport\" content=\"width=1024\">\\n\\n\\t<link rel=\"stylesheet\" href=\"//t1.daumcdn.net/kakaomapweb/map/202304201401313/app_A.css\">\\n\\t<link rel=\"stylesheet\" href=\"//t1.daumcdn.net/kakaomapweb/map/202304201401313/app_B.css\">\\n    <link rel=\"stylesheet\" href=\"//t1.daumcdn.net/kakaomapweb/map/202304201401313/app_C.css\">\\n    <link rel=\"stylesheet\" href=\"//t1.daumcdn.net/kakaomapweb/map/202304201401313/app_D.css\">\\n            <link rel=\"stylesheet\" href=\"//t1.daumcdn.net/kakaomapweb/map/202304201401313/canvas_roadview.css\">\\n    \\n            <link rel=\"stylesheet\" href=\"https://t1.daumcdn.net/kakaomapweb/subway/linemap/canvas/prod/css/subway.css\">\\n    \\n<link rel=\"icon\" type=\"image/x-icon\" href=\"/favicon.ico\">\\n\\n<title>카카오맵</title>\\n<script src=\"https://t1.kakaocdn.net/malibu_prod/wpm.js\" async=\"\"></script><script type=\"text/javascript\">\\nif (false === true && (false === false || $needAgreements) && document.referrer.split(\\'?\\')[0] === \"https://accounts.kakao.com/login?continue=\".split(\\'?\\')[0]) {\\n\\twindow.location.href = window.location.origin + \\'/user/signup\\';\\n}\\n</script>\\n\\n\\n\\n\\n<meta property=\"og:site_name\" content=\"카카오맵\">\\n<meta property=\"og:title\" content=\"카카오맵\">\\n<meta property=\"og:description\" content=\"당신을 좋은 곳으로 안내 할 지도\">\\n<meta property=\"og:type\" content=\"websit\">\\n<meta property=\"og:image\" content=\"//t1.daumcdn.net/localimg/localimages/07/common/ogtag.png\">\\n\\n<meta name=\"twitter:card\" content=\"summary_large_image\">\\n<meta name=\"twitter:title\" content=\"카카오맵\">\\n<meta name=\"twitter:description\" content=\"당신을 좋은 곳으로 안내 할 지도\">\\n<meta name=\"twitter:image\" content=\"//t1.daumcdn.net/localimg/localimages/07/common/ogtag.png\">\\n\\n<meta name=\"description\" content=\"당신을 좋은 곳으로 안내 할 지도\">\\n<link rel=\"search\" type=\"application/opensearchdescription+xml\" href=\"/OpenSearch.xml\" title=\"카카오맵\">\\n<style type=\"text/css\">/* global */\\n.screen_out{overflow:hidden;position:absolute;width:0;height:0;line-height:0;text-indent:-9999px}\\n.show{display:block}\\n.hide{display:none}\\n\\n/* PC Social Share */\\n/* 2018-04-25 수정 시작 */\\n.social_comm_p{position:absolute;z-index:1000;}\\n.social_comm_p .img_social{display:block;overflow:hidden;font-size:0;background:url(//t1.daumcdn.net/daumtop_deco/images/common/social/img_social_200414.png) no-repeat 0 0;text-indent:-9999px}\\n.social_comm_p .sns_comm_p{overflow:hidden;position:relative;border:1px solid #e2e2e2;font-size:11px;color:#222;background-color:#fff;letter-spacing:-0.025em}\\n.social_comm_p .btn_close{position:absolute;top:5px;right:5px;width:24px;height:24px}\\n.social_comm_p .ico_close{width:15px;height:16px;margin:5px;background-position:-150px 0}\\n.social_comm_p .share_layer{position:relative;width:260px;min-height:228px}\\n.social_comm_p .list_sns{overflow:hidden;margin:26px 14px 0}\\n.social_comm_p .list_sns li{float:left;width:77px;height:78px}\\n.social_comm_p .list_sns .link_sns{display:block;text-align:center;text-decoration:none}\\n.social_comm_p .list_sns .link_sns .img_social{width:43px;height:43px;margin:0 auto 4px}\\n.social_comm_p .list_sns .tit_sns{display:block;margin-top:7px;font-weight:normal;line-height:16px}\\n.social_comm_p .list_sns .ico_sns_ks{background-position:-50px 0}\\n.social_comm_p .list_sns .ico_sns_fb{background-position:-100px 0}\\n.social_comm_p .list_sns .ico_sns_tw{background-position:0 -50px}\\n.social_comm_p .list_sns .ico_sns_cafe{background-position:-100px -50px}\\n.social_comm_p .list_sns .ico_sns_mail{background-position:-50px -50px}\\n.social_comm_p .list_sns .ico_sns_kt{background-position:0 0}\\n.social_comm_p .sns_copyurl{margin:-1px 26px 0;padding-bottom:23px}\\n.social_comm_p .sns_copyurl .link_copyurl{display:block;overflow:hidden;position:relative;height:23px;line-height:23px;border:1px solid #d0d0d0;background-color:#f8f8f8;text-decoration:none}\\n.social_comm_p .sns_copyurl .txt_url{display:block;overflow:hidden;padding:0 64px 0 7px;color:#2695f8;white-space:nowrap;text-overflow:ellipsis}\\n.social_comm_p .sns_copyurl .txt_copy{position:absolute;top:0;right:0;width:47px;height:25px;border-left:1px solid #d0d0d0;background-color:#fff;text-align:center}\\n.social_comm_p .copyurl_layer{width:254px;height:78px;text-align:center}\\n.social_comm_p .inner_copyurl{display:table;width:100%;height:100%}\\n.social_comm_p .inner_copyurl .desc_copyurl{display:table-cell;padding:18px 0 17px;line-height:19px;vertical-align:middle}\\n.social_comm_p .sns_copyurl_type2 .tf_url{display:block;width:210px;height:25px;padding:0 10px;border:0 none;color:#2695f8;background-color:transparent}\\n.social_comm_p .sns_copyurl_type2 .desc_tip{padding:13px 0;line-height:18px;color:#888;text-align:center;letter-spacing:0}\\n\\n@media\\nonly screen and (-webkit-min-device-pixel-ratio: 1.5),\\nonly screen and (min-device-pixel-ratio: 1.5),\\nonly screen and (min-resolution: 144dpi),\\nonly screen and (min-resolution: 1.5dppx) {\\n    .social_comm_p .img_social{background-image:url(//t1.daumcdn.net/daumtop_deco/images/common/social/rtn/img_social_200414.png);background-size:170px 100px}\\n}</style><style></style></head>\\n<body class=\"MAP NOTOUCH FIXIE\">\\n<div id=\"daumIndex\">\\n\\t<a href=\"#localInfo\">본문 바로가기</a>\\n\\t<a href=\"#info\">메뉴 바로가기</a>\\n</div>\\n\\n<div class=\"IE6MIN\"><div id=\"header\" class=\"Header\" role=\"banner\">\\n        <h1 class=\"Title\">\\n            <a id=\"local\" class=\"local\" href=\"?nil_profile=title&amp;nil_src=local\">kakaomap</a>\\n        </h1>\\n        <button type=\"button\" class=\"btn_menu\">더보기 메뉴 열기</button>\\n\\n        <strong class=\"screen_out\">검색</strong>\\n        <div id=\"search\" class=\"Search\">\\n            <form id=\"search.keyword\" class=\"KeywordSearch\" onsubmit=\"window.QUERY=this.elements[0].value;return false\">\\n                <fieldset class=\"fld_inside\">\\n                    <legend class=\"screen_out\">검색어 입력폼</legend>\\n                    <h2 class=\"screen_out\"><label for=\"search.keyword.query\">지도 검색</label></h2>\\n                    <div class=\"box_searchbar search_on\">\\n                        <input type=\"text\" id=\"search.keyword.query\" name=\"q\" class=\"query tf_keyword\" maxlength=\"100\" autocomplete=\"off\" accesskey=\"s\">\\n                        <button type=\"button\" id=\"search.keyword.submit\" class=\"go ico_search btn_search active\">검색</button>\\n                    </div>\\n                    <div class=\"choice_currentmap\">\\n                        <input type=\"checkbox\" id=\"boundscheck\" class=\"screen_out\">\\n                        <label id=\"search.keyword.bounds\" for=\"boundscheck\" class=\"lab_currentmap INACTIVE\"><span id=\"search.keyword.currentmap\" class=\"ico_currentmap\"></span>현 지도 내 장소검색</label>\\n                    </div>\\n                    <blockquote id=\"search.keyword.querySuggest\" class=\"suggest\"><div class=\"suggestBox box_sub\" style=\"display: none;\"><div class=\"baseBox bg\" style=\"display: block;\"><div class=\"list\"><ul class=\"suggest_list_target\"><li class=\"ms_item\"><a href=\"#\"><strong class=\"emph_keyword\">이수역 맛집</strong></a></li><li class=\"ms_item\"><a href=\"#\"><strong class=\"emph_keyword\">이수역 맛집</strong>부추곱창</a></li></ul></div></div><div class=\"favorite_find HIDDEN\"></div><div class=\"search_recent recent_none HIDDEN\">\\n    <em class=\"tit_recent\">히스토리가 없어요.</em>\\n    <ul data-id=\"wrap\" class=\"list_recent\"></ul>\\n    <div class=\"favorite_recent\">\\n        <button data-id=\"disabled\" type=\"button\" class=\"btn_recentoff\">히스토리 끄기</button>\\n        <button data-id=\"clear\" type=\"button\" class=\"btn_deleteall HIDDEN\">전체삭제</button>\\n    </div>\\n</div></div></blockquote>\\n                </fieldset>\\n            </form>\\n        </div>\\n    </div></div>\\n\\n    <h2 class=\"tit_login\"><a href=\"#\" target=\"_top\" id=\"btnLogin\">로그인</a></h2>\\n    <h2 class=\"tit_profile PROFILE-IMG  HIDDEN\" id=\"btnProfile\">\\n        <a href=\"#none\">\\n            <img src=\"\" width=\"36\" height=\"36\" class=\"img_profile HIDDEN\" alt=\"프로필\" id=\"exifviewer-img-1\" exifid=\"196919547\">\\n        </a>\\n    </h2>\\n        <div class=\"dimmed_snb\">\\n            <div class=\"snb_map\" role=\"navigation\">\\n                <h2 class=\"img_snb tit_snb\">kakaomap <span class=\"screen_out\">더보기 메뉴</span></h2>\\n                <a data-log=\"notice\" href=\"http://kakaomap.tistory.com\" target=\"_blank\" class=\"link_snb link_notice\"><span class=\"img_snb\"></span>공지사항</a>\\n                <a data-log=\"event\" href=\"http://kakaomap.tistory.com/category/알립니다/이벤트\" target=\"_blank\" class=\"link_snb link_event\"><span class=\"img_snb\"></span>이벤트</a>\\n\\n                <div class=\"wrap_get HIDDEN\" id=\"migrationMenus\">\\n                    <ul class=\"list_get\">\\n                        <li id=\"unmigrationMenu\">\\n                            <a href=\"/user/signup\" target=\"_blank\" class=\"link_getdaum\">다음지도 즐겨찾기 가져오기</a>\\n                        </li>\\n                    </ul>\\n                </div>\\n                <ul class=\"list_service\" id=\"mapMenus\">\\n                    <li><a class=\"xc item_service\" href=\"#none\" data-channel=\"SIDEBAR_NEWPLACE\">신규장소 등록</a></li>\\n                    <li><a data-log=\"cs\" href=\"https://cs.kakao.com/helps?locale=ko&amp;service=101\" target=\"_blank\">고객센터</a></li>\\n                    <li class=\"options\">\\n                        <a href=\"#none\" target=\"_blank\">설정<span class=\"img_snb ico_arr\">열기/닫기</span></a>\\n                        <ul class=\"list_option\">\\n                            <li><a href=\"http://www.kakao.com/ko/terms\" target=\"_blank\">서비스 이용약관</a></li>\\n                            <li><a href=\"http://www.kakao.com/ko/location\" target=\"_blank\">위치기반 서비스 이용약관</a></li>\\n                            <li><a href=\"http://www.kakao.com/ko/privacy\" target=\"_blank\">개인정보 처리방침</a></li>\\n                            <li><a href=\"http://kakaomap.tistory.com/68\" target=\"_blank\">법적공지 및 정보 제공처</a></li>\\n                            <li><a href=\"http://www.kakao.com/ko/operation\" target=\"_blank\">운영정책</a></li>\\n                            <li class=\"HIDDEN\"><a class=\"xd\" data-log=\"setting|unregister\" href=\"#none\" target=\"_blank\">서비스 탈퇴</a></li>\\n                        </ul>\\n                    </li>\\n                </ul>\\n                <ul class=\"list_info\">\\n                    <li><a data-log=\"openapi\" href=\"https://apis.map.kakao.com\" target=\"_blank\">지도 오픈 API</a></li>\\n                    <li><a data-log=\"searchregister\" href=\"https://register.search.daum.net/index.daum\" target=\"_blank\">지도 검색등록</a></li>\\n                    <li><a data-log=\"localbiz\" href=\"http://local.biz.daum.net/rainbow_core/ols/index.local\" target=\"_blank\">광고신청</a></li>\\n                </ul>\\n                <button type=\"button\" class=\"img_snb btn_close\">더보기 메뉴 닫기</button>\\n            </div>\\n        </div>\\n\\n<div id=\"info.other\" class=\"FavoriteOther HIDDEN\">\\n    <div data-id=\"header\" class=\"header\"></div>\\n        <div data-id=\"body\" class=\"body\">\\n        <div id=\"other.favorite\" class=\"favorite_result\">\\n            <h3 class=\"screen_out\">즐겨찾기</h3>\\n            <div data-id=\"listNone\" class=\"FavoriteEmptyPage HIDDEN\">\\n                <p class=\"desc_empty\">공개된 그룹이 없습니다.</p>\\n            </div>\\n            <ul data-id=\"list\" class=\"list_body\"></ul>\\n\\n            <div id=\"info.other.favorite.page\" data-id=\"pagination\" class=\"pages HIDDEN\">\\n                <div class=\"pageWrap\">\\n                    <button type=\"button\" id=\"info.other.favorite.page.prev\" class=\"prev disabled\">이전</button>\\n                    <a id=\"info.other.favorite.page.no1\" class=\"INACTIVE\" href=\"#\">1</a>\\n                    <a id=\"info.other.favorite.page.no2\" class=\"INACTIVE\" href=\"#\">2</a>\\n                    <a id=\"info.other.favorite.page.no3\" class=\"INACTIVE\" href=\"#\">3</a>\\n                    <a id=\"info.other.favorite.page.no4\" class=\"INACTIVE\" href=\"#\">4</a>\\n                    <a id=\"info.other.favorite.page.no5\" class=\"INACTIVE\" href=\"#\">5</a>\\n                    <button type=\"button\" id=\"info.other.favorite.page.next\" class=\"next\">다음</button>\\n                </div>\\n            </div>\\n        </div>\\n        <div id=\"other.review\" class=\"favorite_evaluation HIDDEN\">\\n            <h3 class=\"screen_out\">후기</h3>\\n            <div>\\n                <div data-id=\"reviewEmptyPage\" class=\"FavoriteEmptyPage HIDDEN\">\\n                    <p class=\"desc_empty\">후기가 없습니다.</p>\\n                </div>\\n                <div data-id=\"filteredReviewEmptyPage\" class=\"FavoriteEmptyPage empty_type2 HIDDEN\">\\n                    <p class=\"desc_empty\">후기가 없습니다.</p>\\n                    <p class=\"desc_sub\"> 적용한 필터에 해당하는 후기가 없습니다.<br>필터 조건을 변경해 주세요. </p>\\n                </div>\\n            </div>\\n            <div data-id=\"reviewPrivatePage\" class=\"FavoriteEmptyPage empty_type2 HIDDEN\">\\n                <p class=\"desc_empty2\">마이페이지 내 후기를 비공개한 사용자입니다.</p>\\n            </div>\\n            <ul data-id=\"reviewList\" class=\"list_body\"></ul>\\n            <div id=\"other.review.page\" class=\"pages HIDDEN\">\\n                <div class=\"pageWrap\">\\n                    <button type=\"button\" id=\"other.review.page.prev\" class=\"prev disabled\">이전</button>\\n                    <a id=\"other.review.page.no1\" class=\"ACTIVE\" href=\"#\">1</a>\\n                    <a id=\"other.review.page.no2\" class=\"INACTIVE\" href=\"#\">2</a>\\n                    <a id=\"other.review.page.no3\" class=\"INACTIVE\" href=\"#\">3</a>\\n                    <a id=\"other.review.page.no4\" class=\"INACTIVE\" href=\"#\">4</a>\\n                    <a id=\"other.review.page.no5\" class=\"INACTIVE\" href=\"#\">5</a>\\n                    <button type=\"button\" id=\"other.review.page.next\" class=\"next\">다음</button>\\n                </div>\\n            </div>\\n        </div>\\n    </div>\\n    <div data-id=\"toolbar\" class=\"FavoriteFunctionToolBar HIDDEN\">\\n        <button type=\"button\" data-id=\"share\" class=\"btn_share\"><span class=\"ico_function ico_share\"></span>공유하기</button>\\n        <button type=\"button\" data-id=\"info\" class=\"btn_info\">그룹 정보</button>\\n        <button type=\"button\" data-id=\"subscribe\" class=\"btn_edit\"><span class=\"ico_function ico_edit\"></span>구독하기</button>\\n    </div>\\n    <div data-id=\"footer\" class=\"Footer\">\\n        <a class=\"xa\" target=\"_blank\" href=\"https://cs.kakao.com/helps?locale=ko&amp;service=101\">고객센터</a>\\n        <span>|</span>\\n        <a class=\"xc\" href=\"#none\" data-pos=\"footer\" data-channel=\"SEARCH_BOTTOM_NEWPLACE\">신규 장소 등록</a>\\n    </div>\\n</div>\\n\\n<div id=\"info\" class=\"Info\">\\n    <div id=\"info.header\" class=\"header\">\\n        <div id=\"info.header.main\" class=\"main\">\\n            <div role=\"navigation\">\\n                <h2 class=\"screen_out\">검색 메뉴</h2>\\n                <ul class=\"menu\">\\n                    <li id=\"search.tab1\" class=\"keyword keyword-ACTIVE\">\\n                        <a href=\"#\" class=\"mainmenutab\" title=\"검색\">검색</a>\\n                    </li>\\n                    <li id=\"search.tab2\" class=\"carRoute carRoute-INACTIVE\">\\n                        <a href=\"#\" class=\"mainmenutab\" title=\"길찾기\">길찾기</a>\\n                    </li>\\n                    <li id=\"search.tab3\" class=\"transitRoute transitRoute-INACTIVE\">\\n                        <a href=\"#\" class=\"mainmenutab\" title=\"버스\">버스</a>\\n                    </li>\\n                    <li id=\"search.tab4\" class=\"subwayRoute subwayRoute-INACTIVE\">\\n                        <a href=\"#\" class=\"mainmenutab\" title=\"지하철\">지하철</a>\\n                    </li>\\n                    <li id=\"search.tab5\" class=\"favorite favorite-INACTIVE\">\\n                        <a href=\"#\" class=\"mainmenutab\" title=\"즐겨찾기\">MY</a>\\n                    </li>\\n                </ul>\\n            </div>\\n        </div>\\n    </div>\\n\\n\\t<div id=\"info.body\" class=\"body\" style=\"height: 517px;\">\\n\\t\\t<div id=\"info.main\" class=\"Main INFOLEFT\">\\n    <div id=\"info.main.home\" class=\"home HIDDEN\">\\n        <div id=\"info.location\" class=\"theme HIDDEN\">\\n            <div class=\"reportError\">\\n                <h3 class=\"screen_out\">현재위치</h3>\\n                <span id=\"info.location.approxAddr\" class=\"approxAddr\">은평구 신사1동</span>\\n                <div id=\"info.location.weather\" class=\"infoAir\">\\n                    <strong class=\"screen_out\">날씨정보</strong>\\n                    <span class=\"txt_air\">비온후 갬</span>\\n                    <span class=\"temper\">12˚</span>\\n                    <span class=\"txt_change\">어제와 같아요</span>\\n                    <span class=\"txt_bar\"></span>\\n                    <span class=\"txt_dust\">미세<span data-id=\"dust_state\" class=\"txt_state density2\">보통</span></span>\\n                    <span class=\"txt_dust\">초미세<span data-id=\"micro_dust_state\" class=\"txt_state density2\">보통</span></span>\\n                </div>\\n                <a id=\"info.location.reportError\" href=\"iptargeting/form\" class=\"reportbug\">오류신고</a>\\n            </div>\\n        </div>\\n        <div id=\"info.main.famous\" class=\"famous\"></div>\\n        <div id=\"info.main.around\" class=\"infoAround\">\\n            <h3 class=\"tit_around\">주변 탐색</h3>\\n            <ul class=\"list_around\"><li><button type=\"button\" class=\"btn_around\"><span class=\"ico_food\"></span><span class=\"txt_around\">음식점</span></button></li><li><button type=\"button\" class=\"btn_around\"><span class=\"ico_cafe\"></span><span class=\"txt_around\">카페</span></button></li><li><button type=\"button\" class=\"btn_around\"><span class=\"ico_bus\"></span><span class=\"txt_around\">버스</span></button></li><li><button type=\"button\" class=\"btn_around\"><span class=\"ico_sub\"></span><span class=\"txt_around\">지하철</span></button></li><li><button type=\"button\" class=\"btn_around\"><span class=\"ico_hotel\"></span><span class=\"txt_around\">숙박</span></button></li><li><button type=\"button\" class=\"btn_around\"><span class=\"ico_bank\"></span><span class=\"txt_around\">은행</span></button></li><li><button type=\"button\" class=\"btn_around\"><span class=\"ico_cvs\"></span><span class=\"txt_around\">편의점</span></button></li></ul>\\n        </div>\\n        <div id=\"info.main.favorite\" class=\"regfav\"><div class=\"favorite_exposed\">\\n    <h3 class=\"tit_favorite tit_myfavorite\">\\n        <a data-id=\"more\" href=\"#none\" class=\"link_myfavorite\">즐겨찾기</a><!-- 2018-12-17_v2 추가 : 즐겨찾기 링크(a.link_favorite)추가 -->\\n    </h3>\\n    <ul data-id=\"list\" class=\"list_registerated\"><li class=\"\">\\n    <div class=\"favorite_registerated\">\\n        <a href=\"#\" data-id=\"link\" class=\"link_registerated \">\\n            <span class=\"ico_pin ico_home\"></span>\\n            <span class=\"txt_personal\">집 주소를 등록하세요.</span>\\n        </a>\\n    </div>\\n</li><li class=\"\">\\n    <div class=\"favorite_registerated\">\\n        <a href=\"#\" data-id=\"link\" class=\"link_registerated \">\\n            <span class=\"ico_pin ico_myjob\"></span>\\n            <span class=\"txt_personal\">회사 주소를 등록하세요.</span>\\n        </a>\\n    </div>\\n</li></ul>\\n</div></div>\\n        <div id=\"info.main.newplace\" class=\"newplace\">\\n            <div class=\"newPlace\">\\n                <h6 class=\"tit_newplace\">새로운 장소</h6>\\n                <p class=\"desc_newplace\">새로운 수정된 장소를 알고 계세요?<br>장소 제안은 지도 품질 향상에 큰 도움이 됩니다.</p>\\n                <a href=\"#none\" class=\"xc link_newplace link_suggest\" data-pos=\"left\" data-channel=\"SEARCH_MIDDLE_NEWPLACE\">신규 장소 등록</a>\\n            </div>\\n        </div>\\n    </div>\\n\\n    <div id=\"info.main.header\" class=\"mainHeader\">\\n        <ul id=\"info.main.options\" class=\"sub\"><li class=\"option0 option0-ACTIVE\"><a href=\"#\">전체</a></li><li class=\"option1\"><a href=\"#\">장소</a></li><li class=\"option2\"><a href=\"#\">주소</a></li><li class=\"option3\"><a href=\"#\">버스</a></li><li class=\"option4\"><a href=\"#\">정류장</a></li></ul>\\n        <a href=\"#none\" id=\"info.main.header.clear\" class=\"clear\" title=\"모두 지우기\">모두 지우기</a>\\n        <div id=\"info.main.header.activeOption\" class=\"screen_out\">전체</div>\\n    </div>\\n\\n        <div id=\"info.related.keyword\" class=\"relatedKeyword HIDDEN\">\\n        <span class=\"ico\">관련검색어</span>\\n        <div class=\"frameKeywords\">\\n            <p class=\"wrapKeywords\">\\n            </p>\\n        </div>\\n        <div class=\"more closed\">\\n            <a href=\"#\">더보기</a><span class=\"ico\"></span>\\n        </div>\\n        <div class=\"more opened HIDDEN\">\\n            <a href=\"#\">접기</a><span class=\"ico\"></span>\\n        </div>\\n    </div>\\n        <div id=\"info.searchHeader\" class=\"searchHeader\">\\n        <div id=\"info.search.boundsTitle\" class=\"HIDDEN\">\\n            <p class=\"desc_search\">현재 지도 내 <em id=\"info.search.boundsTitle.text\"></em> 검색결과</p>\\n        </div>\\n        <div id=\"info.search.correction\" class=\"correction HIDDEN\">\\n            <div class=\"correctionTop\">\\n                <p class=\"desc_search\">\\n                <em id=\"info.search.correction.orig\"></em>에서\\n                <em id=\"info.search.correction.new\"></em>으로 검색한 결과\\n                </p>\\n            </div>\\n            <p class=\"correctionBottom\">\\n            <a href=\"#\" id=\"info.search.correction.goorig\" class=\"link_search\">입력한 \\'<span id=\"info.search.correction.orig2\"></span>\\'(으)로 재검색 <span class=\"ico_arr\"></span></a>\\n            </p><p id=\"info.search.correction.error\" class=\"desc_error HIDDEN\"></p>\\n            <p></p>\\n        </div>\\n        <div id=\"info.searchHeader.message\" class=\"message\"><div class=\"MessageView\">\\n\\t<div data-id=\"upper\" class=\"line\">\\n\\t\\t<div data-id=\"upperwrap\">\\n            <strong class=\"screen_out HIDDEN\"> 선택상자</strong>\\n            <em class=\"screen_out HIDDEN\">선택내용 :</em>\\n            <a href=\"#none\" data-id=\"upperlabel\" class=\"label HIDDEN\"></a>\\n            <em class=\"screen_out HIDDEN\">선택옵션</em>\\n\\t\\t</div>\\n\\t\\t<p data-id=\"uppertext\" class=\"desc_search\"><em>서울 서초구 이수역</em> 주변  <em>맛집</em> 검색결과</p>\\n\\t</div>\\n\\t<div data-id=\"lower\" class=\"line lower\">\\n\\t\\t<div data-id=\"lowerwrap\">\\n\\t\\t\\t<a data-id=\"lowerlabel\" class=\"label HIDDEN\"></a>\\n\\t\\t</div>\\n\\t\\t<a href=\"#none\" data-id=\"lowertext\" class=\"link_search\">장소명 \\'이수역 맛집\\' (으)로 재검색 <span class=\"ico_arr\"></span></a>\\n\\t\\t</div>\\n\\t<div class=\"clear\"></div>\\n</div></div>\\n        <div id=\"info.searchHeader.banner\" class=\"HIDDEN\">\\n            <a href=\"#\" class=\"banner\"></a>\\n        </div>\\n        <div id=\"info.searchHeader.postCodeMessage\" class=\"postCodeMessage HIDDEN\">\\n            <a href=\"#none\" class=\"link_search\">우편번호 검색<span class=\"ico_arr\"></span></a>\\n        </div>\\n        <div id=\"info.searchHeader.spellcheck\" class=\"spellcheck HIDDEN\">\\n            <div id=\"info.searchHeader.spellcheck.titleresult\" class=\"desc_search HIDDEN\">\\n                <em id=\"info.searchHeader.spellcheck.title\"></em> 검색결과\\n            </div>\\n            <p><a href=\"#\" class=\"link_search\" id=\"info.searchHeader.spellcheck.candidate\">\\'<span id=\"info.searchHeader.spellcheck.text\"></span>\\'(으)로 재검색 <span class=\"ico_arr\"></span></a></p>\\n        </div>\\n    </div>\\n    <div id=\"info.noPlace\" class=\"noPlace HIDDEN\">\\n        <div class=\"inner_noPlace\">\\n            <h3 class=\"noKeyword\">\\n                <em id=\"info.noPlace.keyword\" class=\"txt_keyword\"></em> 검색 결과가 없어요.\\n            </h3>\\n            <p class=\"noResultDesc\">검색어의 철자가 정확한지 다시 한번 확인해 주세요.<br>장소를 찾을 때 전화번호, 주소도 활용해 보세요.</p>\\n            <a href=\"http://search.daum.net/search?w=tot&amp;DA=54X&amp;q=\" class=\"noKeywordLink\" id=\"info.noPlace.daum.link\" target=\"_blank\">Daum 검색 결과 보기</a>\\n            <div id=\"info.noPlace.register\" class=\"register\">\\n                새로운 수정된 장소를 알고 계세요?<br>장소 제안은 지도 품질 향상에 큰 도움이 됩니다.\\n                <a id=\"info.noPlace.register.btn\" class=\"registerBtn\" href=\"#\" target=\"_blank\">신규 장소 등록</a>\\n            </div>        </div>    </div>\\n    <div id=\"info.search.noW3w\" class=\"noPlace noPlace_type2 HIDDEN\">\\n        <div class=\"inner_noPlace\">\\n            <h3 class=\"noKeyword\">검색 결과가 없어요.</h3>\\n        </div>\\n    </div>\\n\\n\\n\\n        <div id=\"info.search\" class=\"keywordSearch\"><li class=\"AdItem\"><a data-id=\"ad_wrap\" href=\"https://tr.ds.kakao.com/clk?wa=0WTDQUUehtkQvKsKKfRoR7R1pHeFHbuaJ1hTlzUgFEg&amp;enc=NW2SsnmUKNiSVIbnfCzmgnLmOaaPoA4UoQgucY_ixDTffaftm-QsjnNnvqdpAiqgdZGOvZPRM1Qj9pLUWezV02vKoPiprhrHLHSDcLjUj4iKsZF5sb9NRHuQRIMSvbSggUODo_UjXkMrz_q4zKh4AQuZuDQ0WXQURkwaEJevbzQgKKat-4LcOdYbKmV9Nfphw74mX0gl3TdrQ_LD0UKzZFgtK8rFd0S9a1vTijkZ8Gai29ypkPb86JxDeK5C7k_4NBktMTw5e-xxCGzOnN6BhbmHbYQOIaTbpVc_Fr2aLIWppYzD4ZxPMQv8SVbKlAIseqzXUWwXXqiJ_dguiIq65PUvmyS6MDZrzmb9zrC76ecUytOE-8sdp_mBVLNKrdN9hmo0eXu2FM3dU2YwY2DqXbEvs0eF_1-RINkwstzvLlKJpnYmJ8EP0hAUci8I-plPXVM-ez1xvZ3j9hX4spe4_53tF6L4hiLNdrD90u6C7fUjIftLi_3N_09DwGgaiQym6vgpYlUpwwl-28gBYJImIAZyx_rQLkAaBUEgbw7V1v5lx1MREinyQYb2_SYllU1sTBYmZTxijmcALzHbDqa152ncMGqGSIJQy-Ma7QOMRjNnfqD0w2C1tM-GZYQLBXFCLcHarKOuzDUMipQideR_AQRk7Am23Wl-G2fpUq0sIdg&amp;signature=aa8b6edda40563526c6809f4edcfd3b9&amp;lc=1\" class=\"link_ad\" adfit-unit-id=\"DAN-REdLpoq4d96cKAIY\" adfit-landing-url=\"\" id=\"kakao_ad_zeIaJT\" target=\"_blank\">   <div class=\"wrap_thumb\">       <img data-id=\"image\" adfit-profile-img-url=\"\" adfit-icon-width=\"70\" adfit-icon-height=\"70\" class=\"thumb_ad\" width=\"70\" src=\"https://t1.daumcdn.net/b2/creative/294376/9fc356fa541d1365066b2f8b7503aaac.jpg\" alt=\"광고 kt m mobile 광고입니다\">       <span class=\"frame_thumb\"></span>   </div>   <div class=\"info_ad\">      <strong data-id=\"title\" class=\"tit_ad\"><span adfit-profile-name=\"\" style=\"pointer-events: auto; cursor: pointer;\">kt M모바일</span><span class=\"ico_ad\" adfit-ad-info=\"\">AD</span></strong>      <p data-id=\"description\" class=\"desc_ad\" adfit-title=\"\" style=\"pointer-events: auto; cursor: pointer;\">221GB+완전무제한 월33,000원</p>   </div></a></li>\\n        \\n\\n                                            \\n                <div id=\"info.search.theme\" class=\"section themeSearch HIDDEN\">\\n            <div class=\"sectiontitle\">\\n                <h5 class=\"themetit\">테마</h5>\\n                <span class=\"cntwrap\"><em class=\"cnt\" id=\"info.search.theme.cnt\"></em></span>\\n            </div>\\n            <ul id=\"info.search.themeList\" class=\"themeList\"></ul>\\n        </div>\\n\\n        <div id=\"info.search.buses\" class=\"section buses HIDDEN\">\\n            <div class=\"sectiontitle sectionBus\">\\n                <h5 class=\"busestit\">버스번호</h5>\\n                <span class=\"cntwrap\"><em id=\"info.search.buses.cnt\" class=\"cnt\"></em></span>\\n                <span id=\"info.search.buses.busstop\" class=\"busstop HIDDEN\">\\n                    버스 정류장<em id=\"info.search.buses.busstop.cnt\" class=\"cnt\"></em>\\n                </span>\\n                <div id=\"info.search.buses.regions\" class=\"regionsbox\"></div>\\n            </div>\\n            <ul id=\"info.search.buses.list\"></ul>\\n            <a id=\"info.search.buses.more\" class=\"more\" href=\"#\">버스 더보기</a>\\n                    </div>\\n\\n        <div id=\"info.search.busstops\" class=\"section busstops HIDDEN\">\\n            <div class=\"sectiontitle sectionBus\">\\n                <h3 class=\"busstoptitle\">버스 정류장</h3>\\n                <span class=\"cntwrap\"><em id=\"info.search.busstops.cnt\" class=\"cnt\"></em></span>\\n                <div id=\"info.search.busstops.regions\" class=\"regionsbox\"><span class=\"bar_area\"></span></div>\\n            </div>\\n            <ul id=\"info.search.busstops.list\"></ul>\\n            <a id=\"info.search.busstops.more\" class=\"more\" href=\"#\">버스 정류장 더보기<span class=\"ico_road_arrow\"></span></a>\\n                    </div>\\n\\n        \\n\\n        <div id=\"info.search.address\" class=\"section addresses HIDDEN\">\\n\\n\\n            <div class=\"sectiontitle\">\\n                <h3 class=\"addrtitle\">주소</h3>\\n                <span class=\"cntwrap\"><em id=\"info.search.address.cnt\" class=\"cnt\">0</em></span>\\n            </div>\\n            <div id=\"info.search.address.retry\" class=\"retry HIDDEN\">\\n                <div class=\"content\">\\n                    <span class=\"ico\"></span>\\n                    <span class=\"txt\">찾으시는 주소가 없어 유사한 주소를 제공합니다.</span>\\n                </div>\\n            </div>\\n            <ul id=\"info.search.address.list\"></ul>\\n            <a id=\"info.search.address.more\" class=\"more\" href=\"#\">주소 더보기<span class=\"ico_road_arrow\"></span></a>\\n        </div><div id=\"info.search.place\" class=\"section places lst\">\\n            <div class=\"sectiontitle\">\\n                <h5 class=\"placetit\">장소</h5>\\n                <span class=\"cntwrap\"><em id=\"info.search.place.cnt\" class=\"cnt\">3,846</em></span>\\n                <ol id=\"info.search.place.sort\" class=\"Sort\"><li class=\"first\"><a href=\"#none\" class=\"label ACTIVE\">정확도순</a></li><li><a href=\"#none\" class=\"label\">인기도순</a></li></ol>\\n            </div>\\n            <div id=\"info.search.place.breadcrumb\" class=\"breadcrumb HIDDEN\"></div>\\n            <ul id=\"info.search.place.list\" class=\"placelist\"><li class=\"PlaceItem clickArea\">\\n    <div data-id=\"btnsWrap\" class=\"utile_item\">\\n        <span data-id=\"screenOutName\" class=\"screen_out\">애플하우스 이수</span>\\n        <a href=\"#none\" data-id=\"fav\" class=\"fav\">\\n            <span class=\"ico_fav\">즐겨찾기</span><span class=\"num\"></span>\\n        </a>\\n        <a href=\"#none\" data-id=\"roadview\" class=\"roadview\">로드뷰</a>\\n        <button data-id=\"routeBtn\" type=\"button\" class=\"DirectionItemInfoBtn\">길찾기</button>\\n    <div class=\"FlagItemInfoLayer HIDDEN\">\\n\\t<div data-id=\"origin\" class=\"origin\">출발</div>\\n\\t<div data-id=\"via\" class=\"via\">경유</div>\\n\\t<div data-id=\"dest\" class=\"dest\">도착</div>\\n</div></div>\\n    <div class=\"thumb_item HIDDEN\">\\n        <img data-id=\"image\" src=\"\" width=\"70\" height=\"70\" class=\"thumb_g HIDDEN\" alt=\"\">\\n    </div>\\n    <div class=\"head_item clickArea\">\\n        <strong class=\"tit_name\">\\n            <a href=\"#none\" data-id=\"icon\" class=\"link_order clickArea\">A</a>\\n            <a href=\"#none\" data-id=\"name\" class=\"link_name\" title=\"애플하우스 이수\">애플하우스 이수</a>\\n        </strong>\\n        <span data-id=\"subcategory\" class=\"subcategory clickable\">떡볶이</span>\\n    </div>\\n    <div data-id=\"rating\" class=\"rating clickArea\">\\n        <span data-id=\"score\" class=\"score\">\\n            <span class=\"screen_out\">별점</span>\\n            <em data-id=\"scoreNum\" class=\"num\" title=\"3.1점\">3.1</em>\\n            <span class=\"backgroundStar\">\\n                <span data-id=\"star\" class=\"star\" style=\"width: 42.16px;\"></span>\\n            </span>\\n            <a href=\"https://place.map.kakao.com/10587024#comment\" data-id=\"numberofscore\" class=\"numberofscore\" target=\"_blank\">353건</a>\\n        </span>\\n        <span data-id=\"scoreBlind\" class=\"txt_blind HIDDEN\"><span class=\"ico_noti\"></span>후기 미제공</span>\\n        <span data-id=\"scoreGroove\" class=\"groove\"></span>\\n        <a href=\"https://place.map.kakao.com/10587024#review\" data-id=\"review\" class=\"review\" target=\"_blank\">리뷰 <em data-id=\"numberofreview\">1,563</em></a>\\n        <span data-id=\"tvshowInfo\" class=\"tvinfolabel\">tv소개</span>\\n    </div>\\n    <div class=\"info_item\">\\n        <div data-id=\"wrapCourseInfo\" class=\"wrapCourseInfo HIDDEN\"></div>\\n        <div data-id=\"wrapAddress\" class=\"addr\">\\n            <p data-id=\"address\" title=\"서울 동작구 동작대로27다길 29 서광시티뷰 2층 201호\">서울 동작구 동작대로27다길 29 서광시티뷰 2층 201호</p>\\n            <p data-id=\"otherAddr\" class=\"lot_number\" title=\"사당동 138-4\">(지번) 사당동 138-4</p>\\n        </div>\\n        <p data-id=\"gasinfo\" class=\"gasinfo HIDDEN\"></p>\\n        <p data-id=\"realEstates\" class=\"realEstates HIDDEN\"></p>\\n        <div data-id=\"openhour\" class=\"openhour\">\\n            <p data-id=\"periodWarp\" class=\"periodWarp\">\\n                <span data-id=\"periodStatus\" class=\"openhourTitle\">금일영업마감</span>\\n                <a data-id=\"periodTxt\" href=\"https://place.map.kakao.com/10587024?openhour=1\" target=\"_blank\">영업시간 매일 10:30 ~ 21:00</a>\\n            </p>\\n        </div>\\n        <div class=\"contact clickArea\">\\n            <span data-id=\"phone\" class=\"phone\">02-595-1629</span><span class=\"ICON-middot\"></span>\\n            <a href=\"https://place.map.kakao.com/10587024\" data-id=\"moreview\" class=\"moreview\" target=\"_blank\">상세보기</a>\\n            <a href=\"#none\" data-id=\"homepage\" class=\"homepage HIDDEN\" target=\"_blank\">홈페이지</a>\\n            <a href=\"#none\" data-id=\"storeview\" class=\"storeview HIDDEN\">스토어뷰</a>\\n            <a href=\"#none\" data-id=\"intercity\" class=\"intercity HIDDEN\">실시간예매</a>\\n        </div>\\n    </div>\\n</li><li class=\"PlaceItem clickArea\">\\n    <div data-id=\"btnsWrap\" class=\"utile_item\">\\n        <span data-id=\"screenOutName\" class=\"screen_out\">세녹</span>\\n        <a href=\"#none\" data-id=\"fav\" class=\"fav\">\\n            <span class=\"ico_fav\">즐겨찾기</span><span class=\"num\"></span>\\n        </a>\\n        <a href=\"#none\" data-id=\"roadview\" class=\"roadview\">로드뷰</a>\\n        <button data-id=\"routeBtn\" type=\"button\" class=\"DirectionItemInfoBtn\">길찾기</button>\\n    <div class=\"FlagItemInfoLayer HIDDEN\">\\n\\t<div data-id=\"origin\" class=\"origin\">출발</div>\\n\\t<div data-id=\"via\" class=\"via\">경유</div>\\n\\t<div data-id=\"dest\" class=\"dest\">도착</div>\\n</div></div>\\n    <div class=\"thumb_item HIDDEN\">\\n        <img data-id=\"image\" src=\"\" width=\"70\" height=\"70\" class=\"thumb_g HIDDEN\" alt=\"\">\\n    </div>\\n    <div class=\"head_item clickArea\">\\n        <strong class=\"tit_name\">\\n            <a href=\"#none\" data-id=\"icon\" class=\"link_order clickArea\">B</a>\\n            <a href=\"#none\" data-id=\"name\" class=\"link_name\" title=\"세녹\">세녹</a>\\n        </strong>\\n        <span data-id=\"subcategory\" class=\"subcategory clickable\">카페</span>\\n    </div>\\n    <div data-id=\"rating\" class=\"rating clickArea\">\\n        <span data-id=\"score\" class=\"score\">\\n            <span class=\"screen_out\">별점</span>\\n            <em data-id=\"scoreNum\" class=\"num\" title=\"2.4점\">2.4</em>\\n            <span class=\"backgroundStar\">\\n                <span data-id=\"star\" class=\"star\" style=\"width: 32.64px;\"></span>\\n            </span>\\n            <a href=\"https://place.map.kakao.com/26603579#comment\" data-id=\"numberofscore\" class=\"numberofscore\" target=\"_blank\">54건</a>\\n        </span>\\n        <span data-id=\"scoreBlind\" class=\"txt_blind HIDDEN\"><span class=\"ico_noti\"></span>후기 미제공</span>\\n        <span data-id=\"scoreGroove\" class=\"groove\"></span>\\n        <a href=\"https://place.map.kakao.com/26603579#review\" data-id=\"review\" class=\"review\" target=\"_blank\">리뷰 <em data-id=\"numberofreview\">128</em></a>\\n        <span data-id=\"tvshowInfo\" class=\"tvinfolabel HIDDEN\">tv소개</span>\\n    </div>\\n    <div class=\"info_item\">\\n        <div data-id=\"wrapCourseInfo\" class=\"wrapCourseInfo HIDDEN\"></div>\\n        <div data-id=\"wrapAddress\" class=\"addr\">\\n            <p data-id=\"address\" title=\"서울 동작구 사당로 304\">서울 동작구 사당로 304</p>\\n            <p data-id=\"otherAddr\" class=\"lot_number\" title=\"사당동 147-50\">(지번) 사당동 147-50</p>\\n        </div>\\n        <p data-id=\"gasinfo\" class=\"gasinfo HIDDEN\"></p>\\n        <p data-id=\"realEstates\" class=\"realEstates HIDDEN\"></p>\\n        <div data-id=\"openhour\" class=\"openhour\">\\n            <p data-id=\"periodWarp\" class=\"periodWarp\">\\n                <span data-id=\"periodStatus\" class=\"openhourTitle\">영업중</span>\\n                <a data-id=\"periodTxt\" href=\"https://place.map.kakao.com/26603579?openhour=1\" target=\"_blank\">매일 00:00 ~ 24:00</a>\\n            </p>\\n        </div>\\n        <div class=\"contact clickArea\">\\n            <span data-id=\"phone\" class=\"phone\">02-597-8001</span><span class=\"ICON-middot\"></span>\\n            <a href=\"https://place.map.kakao.com/26603579\" data-id=\"moreview\" class=\"moreview\" target=\"_blank\">상세보기</a>\\n            <a href=\"#none\" data-id=\"homepage\" class=\"homepage HIDDEN\" target=\"_blank\">홈페이지</a>\\n            <a href=\"#none\" data-id=\"storeview\" class=\"storeview HIDDEN\">스토어뷰</a>\\n            <a href=\"#none\" data-id=\"intercity\" class=\"intercity HIDDEN\">실시간예매</a>\\n        </div>\\n    </div>\\n</li><li class=\"PlaceItem clickArea\">\\n    <div data-id=\"btnsWrap\" class=\"utile_item\">\\n        <span data-id=\"screenOutName\" class=\"screen_out\">스시로로</span>\\n        <a href=\"#none\" data-id=\"fav\" class=\"fav\">\\n            <span class=\"ico_fav\">즐겨찾기</span><span class=\"num\"></span>\\n        </a>\\n        <a href=\"#none\" data-id=\"roadview\" class=\"roadview\">로드뷰</a>\\n        <button data-id=\"routeBtn\" type=\"button\" class=\"DirectionItemInfoBtn\">길찾기</button>\\n    <div class=\"FlagItemInfoLayer HIDDEN\">\\n\\t<div data-id=\"origin\" class=\"origin\">출발</div>\\n\\t<div data-id=\"via\" class=\"via\">경유</div>\\n\\t<div data-id=\"dest\" class=\"dest\">도착</div>\\n</div></div>\\n    <div class=\"thumb_item HIDDEN\">\\n        <img data-id=\"image\" src=\"\" width=\"70\" height=\"70\" class=\"thumb_g HIDDEN\" alt=\"\">\\n    </div>\\n    <div class=\"head_item clickArea\">\\n        <strong class=\"tit_name\">\\n            <a href=\"#none\" data-id=\"icon\" class=\"link_order clickArea\">C</a>\\n            <a href=\"#none\" data-id=\"name\" class=\"link_name\" title=\"스시로로\">스시로로</a>\\n        </strong>\\n        <span data-id=\"subcategory\" class=\"subcategory clickable\">초밥,롤</span>\\n    </div>\\n    <div data-id=\"rating\" class=\"rating clickArea\">\\n        <span data-id=\"score\" class=\"score\">\\n            <span class=\"screen_out\">별점</span>\\n            <em data-id=\"scoreNum\" class=\"num\" title=\"3.7점\">3.7</em>\\n            <span class=\"backgroundStar\">\\n                <span data-id=\"star\" class=\"star\" style=\"width: 50.32px;\"></span>\\n            </span>\\n            <a href=\"https://place.map.kakao.com/21656813#comment\" data-id=\"numberofscore\" class=\"numberofscore\" target=\"_blank\">124건</a>\\n        </span>\\n        <span data-id=\"scoreBlind\" class=\"txt_blind HIDDEN\"><span class=\"ico_noti\"></span>후기 미제공</span>\\n        <span data-id=\"scoreGroove\" class=\"groove\"></span>\\n        <a href=\"https://place.map.kakao.com/21656813#review\" data-id=\"review\" class=\"review\" target=\"_blank\">리뷰 <em data-id=\"numberofreview\">179</em></a>\\n        <span data-id=\"tvshowInfo\" class=\"tvinfolabel HIDDEN\">tv소개</span>\\n    </div>\\n    <div class=\"info_item\">\\n        <div data-id=\"wrapCourseInfo\" class=\"wrapCourseInfo HIDDEN\"></div>\\n        <div data-id=\"wrapAddress\" class=\"addr\">\\n            <p data-id=\"address\" title=\"서울 동작구 동작대로23길 29\">서울 동작구 동작대로23길 29</p>\\n            <p data-id=\"otherAddr\" class=\"lot_number\" title=\"사당동 1006-5\">(지번) 사당동 1006-5</p>\\n        </div>\\n        <p data-id=\"gasinfo\" class=\"gasinfo HIDDEN\"></p>\\n        <p data-id=\"realEstates\" class=\"realEstates HIDDEN\"></p>\\n        <div data-id=\"openhour\" class=\"openhour\">\\n            <p data-id=\"periodWarp\" class=\"periodWarp\">\\n                <span data-id=\"periodStatus\" class=\"openhourTitle\">금일영업마감</span>\\n                <a data-id=\"periodTxt\" href=\"https://place.map.kakao.com/21656813?openhour=1\" target=\"_blank\">영업시간 화~일 11:30 ~ 23:00</a>\\n            </p>\\n        </div>\\n        <div class=\"contact clickArea\">\\n            <span data-id=\"phone\" class=\"phone\">02-585-1015</span><span class=\"ICON-middot\"></span>\\n            <a href=\"https://place.map.kakao.com/21656813\" data-id=\"moreview\" class=\"moreview\" target=\"_blank\">상세보기</a>\\n            <a href=\"#none\" data-id=\"homepage\" class=\"homepage HIDDEN\" target=\"_blank\">홈페이지</a>\\n            <a href=\"#none\" data-id=\"storeview\" class=\"storeview HIDDEN\">스토어뷰</a>\\n            <a href=\"#none\" data-id=\"intercity\" class=\"intercity HIDDEN\">실시간예매</a>\\n        </div>\\n    </div>\\n</li><li class=\"PlaceItem clickArea\">\\n    <div data-id=\"btnsWrap\" class=\"utile_item\">\\n        <span data-id=\"screenOutName\" class=\"screen_out\">소담촌 사당직영점</span>\\n        <a href=\"#none\" data-id=\"fav\" class=\"fav\">\\n            <span class=\"ico_fav\">즐겨찾기</span><span class=\"num\"></span>\\n        </a>\\n        <a href=\"#none\" data-id=\"roadview\" class=\"roadview\">로드뷰</a>\\n        <button data-id=\"routeBtn\" type=\"button\" class=\"DirectionItemInfoBtn\">길찾기</button>\\n    <div class=\"FlagItemInfoLayer HIDDEN\">\\n\\t<div data-id=\"origin\" class=\"origin\">출발</div>\\n\\t<div data-id=\"via\" class=\"via\">경유</div>\\n\\t<div data-id=\"dest\" class=\"dest\">도착</div>\\n</div></div>\\n    <div class=\"thumb_item HIDDEN\">\\n        <img data-id=\"image\" src=\"\" width=\"70\" height=\"70\" class=\"thumb_g HIDDEN\" alt=\"\">\\n    </div>\\n    <div class=\"head_item clickArea\">\\n        <strong class=\"tit_name\">\\n            <a href=\"#none\" data-id=\"icon\" class=\"link_order clickArea\">D</a>\\n            <a href=\"#none\" data-id=\"name\" class=\"link_name\" title=\"소담촌 사당직영점\">소담촌 사당직영점</a>\\n        </strong>\\n        <span data-id=\"subcategory\" class=\"subcategory clickable\">샤브샤브</span>\\n    </div>\\n    <div data-id=\"rating\" class=\"rating clickArea\">\\n        <span data-id=\"score\" class=\"score\">\\n            <span class=\"screen_out\">별점</span>\\n            <em data-id=\"scoreNum\" class=\"num\" title=\"4.2점\">4.2</em>\\n            <span class=\"backgroundStar\">\\n                <span data-id=\"star\" class=\"star\" style=\"width: 57.12px;\"></span>\\n            </span>\\n            <a href=\"https://place.map.kakao.com/2005573719#comment\" data-id=\"numberofscore\" class=\"numberofscore\" target=\"_blank\">49건</a>\\n        </span>\\n        <span data-id=\"scoreBlind\" class=\"txt_blind HIDDEN\"><span class=\"ico_noti\"></span>후기 미제공</span>\\n        <span data-id=\"scoreGroove\" class=\"groove\"></span>\\n        <a href=\"https://place.map.kakao.com/2005573719#review\" data-id=\"review\" class=\"review\" target=\"_blank\">리뷰 <em data-id=\"numberofreview\">102</em></a>\\n        <span data-id=\"tvshowInfo\" class=\"tvinfolabel HIDDEN\">tv소개</span>\\n    </div>\\n    <div class=\"info_item\">\\n        <div data-id=\"wrapCourseInfo\" class=\"wrapCourseInfo HIDDEN\"></div>\\n        <div data-id=\"wrapAddress\" class=\"addr\">\\n            <p data-id=\"address\" title=\"서울 동작구 동작대로 43 5층\">서울 동작구 동작대로 43 5층</p>\\n            <p data-id=\"otherAddr\" class=\"lot_number\" title=\"사당동 1030-20\">(지번) 사당동 1030-20</p>\\n        </div>\\n        <p data-id=\"gasinfo\" class=\"gasinfo HIDDEN\"></p>\\n        <p data-id=\"realEstates\" class=\"realEstates HIDDEN\"></p>\\n        <div data-id=\"openhour\" class=\"openhour\">\\n            <p data-id=\"periodWarp\" class=\"periodWarp\">\\n                <span data-id=\"periodStatus\" class=\"openhourTitle\">금일영업마감</span>\\n                <a data-id=\"periodTxt\" href=\"https://place.map.kakao.com/2005573719?openhour=1\" target=\"_blank\">영업시간 매일 11:00 ~ 22:00</a>\\n            </p>\\n        </div>\\n        <div class=\"contact clickArea\">\\n            <span data-id=\"phone\" class=\"phone\">02-522-0653</span><span class=\"ICON-middot\"></span>\\n            <a href=\"https://place.map.kakao.com/2005573719\" data-id=\"moreview\" class=\"moreview\" target=\"_blank\">상세보기</a>\\n            <a href=\"#none\" data-id=\"homepage\" class=\"homepage HIDDEN\" target=\"_blank\">홈페이지</a>\\n            <a href=\"#none\" data-id=\"storeview\" class=\"storeview HIDDEN\">스토어뷰</a>\\n            <a href=\"#none\" data-id=\"intercity\" class=\"intercity HIDDEN\">실시간예매</a>\\n        </div>\\n    </div>\\n</li><li class=\"PlaceItem clickArea\">\\n    <div data-id=\"btnsWrap\" class=\"utile_item\">\\n        <span data-id=\"screenOutName\" class=\"screen_out\">오센</span>\\n        <a href=\"#none\" data-id=\"fav\" class=\"fav\">\\n            <span class=\"ico_fav\">즐겨찾기</span><span class=\"num\"></span>\\n        </a>\\n        <a href=\"#none\" data-id=\"roadview\" class=\"roadview\">로드뷰</a>\\n        <button data-id=\"routeBtn\" type=\"button\" class=\"DirectionItemInfoBtn\">길찾기</button>\\n    <div class=\"FlagItemInfoLayer HIDDEN\">\\n\\t<div data-id=\"origin\" class=\"origin\">출발</div>\\n\\t<div data-id=\"via\" class=\"via\">경유</div>\\n\\t<div data-id=\"dest\" class=\"dest\">도착</div>\\n</div></div>\\n    <div class=\"thumb_item HIDDEN\">\\n        <img data-id=\"image\" src=\"\" width=\"70\" height=\"70\" class=\"thumb_g HIDDEN\" alt=\"\">\\n    </div>\\n    <div class=\"head_item clickArea\">\\n        <strong class=\"tit_name\">\\n            <a href=\"#none\" data-id=\"icon\" class=\"link_order clickArea\">E</a>\\n            <a href=\"#none\" data-id=\"name\" class=\"link_name\" title=\"오센\">오센</a>\\n        </strong>\\n        <span data-id=\"subcategory\" class=\"subcategory clickable\">일본식주점</span>\\n    </div>\\n    <div data-id=\"rating\" class=\"rating clickArea\">\\n        <span data-id=\"score\" class=\"score\">\\n            <span class=\"screen_out\">별점</span>\\n            <em data-id=\"scoreNum\" class=\"num\" title=\"3.7점\">3.7</em>\\n            <span class=\"backgroundStar\">\\n                <span data-id=\"star\" class=\"star\" style=\"width: 50.32px;\"></span>\\n            </span>\\n            <a href=\"https://place.map.kakao.com/15101653#comment\" data-id=\"numberofscore\" class=\"numberofscore\" target=\"_blank\">61건</a>\\n        </span>\\n        <span data-id=\"scoreBlind\" class=\"txt_blind HIDDEN\"><span class=\"ico_noti\"></span>후기 미제공</span>\\n        <span data-id=\"scoreGroove\" class=\"groove\"></span>\\n        <a href=\"https://place.map.kakao.com/15101653#review\" data-id=\"review\" class=\"review\" target=\"_blank\">리뷰 <em data-id=\"numberofreview\">152</em></a>\\n        <span data-id=\"tvshowInfo\" class=\"tvinfolabel HIDDEN\">tv소개</span>\\n    </div>\\n    <div class=\"info_item\">\\n        <div data-id=\"wrapCourseInfo\" class=\"wrapCourseInfo HIDDEN\"></div>\\n        <div data-id=\"wrapAddress\" class=\"addr\">\\n            <p data-id=\"address\" title=\"서울 동작구 동작대로27나길 8\">서울 동작구 동작대로27나길 8</p>\\n            <p data-id=\"otherAddr\" class=\"lot_number\" title=\"사당동 139-53\">(지번) 사당동 139-53</p>\\n        </div>\\n        <p data-id=\"gasinfo\" class=\"gasinfo HIDDEN\"></p>\\n        <p data-id=\"realEstates\" class=\"realEstates HIDDEN\"></p>\\n        <div data-id=\"openhour\" class=\"openhour\">\\n            <p data-id=\"periodWarp\" class=\"periodWarp\">\\n                <span data-id=\"periodStatus\" class=\"openhourTitle\">영업중</span>\\n                <a data-id=\"periodTxt\" href=\"https://place.map.kakao.com/15101653?openhour=1\" target=\"_blank\">월,화,수,목,일 16:30 ~ 00:40</a>\\n            </p>\\n        </div>\\n        <div class=\"contact clickArea\">\\n            <span data-id=\"phone\" class=\"phone\">02-3478-1559</span><span class=\"ICON-middot\"></span>\\n            <a href=\"https://place.map.kakao.com/15101653\" data-id=\"moreview\" class=\"moreview\" target=\"_blank\">상세보기</a>\\n            <a href=\"#none\" data-id=\"homepage\" class=\"homepage HIDDEN\" target=\"_blank\">홈페이지</a>\\n            <a href=\"#none\" data-id=\"storeview\" class=\"storeview HIDDEN\">스토어뷰</a>\\n            <a href=\"#none\" data-id=\"intercity\" class=\"intercity HIDDEN\">실시간예매</a>\\n        </div>\\n    </div>\\n</li><li class=\"PlaceItem clickArea\">\\n    <div data-id=\"btnsWrap\" class=\"utile_item\">\\n        <span data-id=\"screenOutName\" class=\"screen_out\">이수회관</span>\\n        <a href=\"#none\" data-id=\"fav\" class=\"fav\">\\n            <span class=\"ico_fav\">즐겨찾기</span><span class=\"num\"></span>\\n        </a>\\n        <a href=\"#none\" data-id=\"roadview\" class=\"roadview\">로드뷰</a>\\n        <button data-id=\"routeBtn\" type=\"button\" class=\"DirectionItemInfoBtn\">길찾기</button>\\n    <div class=\"FlagItemInfoLayer HIDDEN\">\\n\\t<div data-id=\"origin\" class=\"origin\">출발</div>\\n\\t<div data-id=\"via\" class=\"via\">경유</div>\\n\\t<div data-id=\"dest\" class=\"dest\">도착</div>\\n</div></div>\\n    <div class=\"thumb_item HIDDEN\">\\n        <img data-id=\"image\" src=\"\" width=\"70\" height=\"70\" class=\"thumb_g HIDDEN\" alt=\"\">\\n    </div>\\n    <div class=\"head_item clickArea\">\\n        <strong class=\"tit_name\">\\n            <a href=\"#none\" data-id=\"icon\" class=\"link_order clickArea\">F</a>\\n            <a href=\"#none\" data-id=\"name\" class=\"link_name\" title=\"이수회관\">이수회관</a>\\n        </strong>\\n        <span data-id=\"subcategory\" class=\"subcategory clickable\">해물,생선</span>\\n    </div>\\n    <div data-id=\"rating\" class=\"rating clickArea\">\\n        <span data-id=\"score\" class=\"score\">\\n            <span class=\"screen_out\">별점</span>\\n            <em data-id=\"scoreNum\" class=\"num\" title=\"2.6점\">2.6</em>\\n            <span class=\"backgroundStar\">\\n                <span data-id=\"star\" class=\"star\" style=\"width: 35.36px;\"></span>\\n            </span>\\n            <a href=\"https://place.map.kakao.com/1184113348#comment\" data-id=\"numberofscore\" class=\"numberofscore\" target=\"_blank\">23건</a>\\n        </span>\\n        <span data-id=\"scoreBlind\" class=\"txt_blind HIDDEN\"><span class=\"ico_noti\"></span>후기 미제공</span>\\n        <span data-id=\"scoreGroove\" class=\"groove\"></span>\\n        <a href=\"https://place.map.kakao.com/1184113348#review\" data-id=\"review\" class=\"review\" target=\"_blank\">리뷰 <em data-id=\"numberofreview\">169</em></a>\\n        <span data-id=\"tvshowInfo\" class=\"tvinfolabel HIDDEN\">tv소개</span>\\n    </div>\\n    <div class=\"info_item\">\\n        <div data-id=\"wrapCourseInfo\" class=\"wrapCourseInfo HIDDEN\"></div>\\n        <div data-id=\"wrapAddress\" class=\"addr\">\\n            <p data-id=\"address\" title=\"서울 동작구 동작대로27가길 40\">서울 동작구 동작대로27가길 40</p>\\n            <p data-id=\"otherAddr\" class=\"lot_number\" title=\"사당동 147-40\">(지번) 사당동 147-40</p>\\n        </div>\\n        <p data-id=\"gasinfo\" class=\"gasinfo HIDDEN\"></p>\\n        <p data-id=\"realEstates\" class=\"realEstates HIDDEN\"></p>\\n        <div data-id=\"openhour\" class=\"openhour\">\\n            <p data-id=\"periodWarp\" class=\"periodWarp\">\\n                <span data-id=\"periodStatus\" class=\"openhourTitle\">영업중</span>\\n                <a data-id=\"periodTxt\" href=\"https://place.map.kakao.com/1184113348?openhour=1\" target=\"_blank\">매일 16:30 ~ 02:00</a>\\n            </p>\\n        </div>\\n        <div class=\"contact clickArea\">\\n            <span data-id=\"phone\" class=\"phone\">02-534-3335</span><span class=\"ICON-middot\"></span>\\n            <a href=\"https://place.map.kakao.com/1184113348\" data-id=\"moreview\" class=\"moreview\" target=\"_blank\">상세보기</a>\\n            <a href=\"#none\" data-id=\"homepage\" class=\"homepage HIDDEN\" target=\"_blank\">홈페이지</a>\\n            <a href=\"#none\" data-id=\"storeview\" class=\"storeview HIDDEN\">스토어뷰</a>\\n            <a href=\"#none\" data-id=\"intercity\" class=\"intercity HIDDEN\">실시간예매</a>\\n        </div>\\n    </div>\\n</li><li class=\"PlaceItem clickArea\">\\n    <div data-id=\"btnsWrap\" class=\"utile_item\">\\n        <span data-id=\"screenOutName\" class=\"screen_out\">호요</span>\\n        <a href=\"#none\" data-id=\"fav\" class=\"fav\">\\n            <span class=\"ico_fav\">즐겨찾기</span><span class=\"num\"></span>\\n        </a>\\n        <a href=\"#none\" data-id=\"roadview\" class=\"roadview\">로드뷰</a>\\n        <button data-id=\"routeBtn\" type=\"button\" class=\"DirectionItemInfoBtn\">길찾기</button>\\n    <div class=\"FlagItemInfoLayer HIDDEN\">\\n\\t<div data-id=\"origin\" class=\"origin\">출발</div>\\n\\t<div data-id=\"via\" class=\"via\">경유</div>\\n\\t<div data-id=\"dest\" class=\"dest\">도착</div>\\n</div></div>\\n    <div class=\"thumb_item HIDDEN\">\\n        <img data-id=\"image\" src=\"\" width=\"70\" height=\"70\" class=\"thumb_g HIDDEN\" alt=\"\">\\n    </div>\\n    <div class=\"head_item clickArea\">\\n        <strong class=\"tit_name\">\\n            <a href=\"#none\" data-id=\"icon\" class=\"link_order clickArea\">G</a>\\n            <a href=\"#none\" data-id=\"name\" class=\"link_name\" title=\"호요\">호요</a>\\n        </strong>\\n        <span data-id=\"subcategory\" class=\"subcategory clickable\">일식</span>\\n    </div>\\n    <div data-id=\"rating\" class=\"rating clickArea\">\\n        <span data-id=\"score\" class=\"score\">\\n            <span class=\"screen_out\">별점</span>\\n            <em data-id=\"scoreNum\" class=\"num\" title=\"3.8점\">3.8</em>\\n            <span class=\"backgroundStar\">\\n                <span data-id=\"star\" class=\"star\" style=\"width: 51.68px;\"></span>\\n            </span>\\n            <a href=\"https://place.map.kakao.com/251321963#comment\" data-id=\"numberofscore\" class=\"numberofscore\" target=\"_blank\">38건</a>\\n        </span>\\n        <span data-id=\"scoreBlind\" class=\"txt_blind HIDDEN\"><span class=\"ico_noti\"></span>후기 미제공</span>\\n        <span data-id=\"scoreGroove\" class=\"groove\"></span>\\n        <a href=\"https://place.map.kakao.com/251321963#review\" data-id=\"review\" class=\"review\" target=\"_blank\">리뷰 <em data-id=\"numberofreview\">189</em></a>\\n        <span data-id=\"tvshowInfo\" class=\"tvinfolabel HIDDEN\">tv소개</span>\\n    </div>\\n    <div class=\"info_item\">\\n        <div data-id=\"wrapCourseInfo\" class=\"wrapCourseInfo HIDDEN\"></div>\\n        <div data-id=\"wrapAddress\" class=\"addr\">\\n            <p data-id=\"address\" title=\"서울 동작구 동작대로13길 6-7 1층\">서울 동작구 동작대로13길 6-7 1층</p>\\n            <p data-id=\"otherAddr\" class=\"lot_number\" title=\"사당동 1008-10\">(지번) 사당동 1008-10</p>\\n        </div>\\n        <p data-id=\"gasinfo\" class=\"gasinfo HIDDEN\"></p>\\n        <p data-id=\"realEstates\" class=\"realEstates HIDDEN\"></p>\\n        <div data-id=\"openhour\" class=\"openhour\">\\n            <p data-id=\"periodWarp\" class=\"periodWarp\">\\n                <span data-id=\"periodStatus\" class=\"openhourTitle\">영업중</span>\\n                <a data-id=\"periodTxt\" href=\"https://place.map.kakao.com/251321963?openhour=1\" target=\"_blank\">일 13:00 ~ 00:00</a>\\n            </p>\\n        </div>\\n        <div class=\"contact clickArea\">\\n            <span data-id=\"phone\" class=\"phone\">02-6409-0809</span><span class=\"ICON-middot\"></span>\\n            <a href=\"https://place.map.kakao.com/251321963\" data-id=\"moreview\" class=\"moreview\" target=\"_blank\">상세보기</a>\\n            <a href=\"#none\" data-id=\"homepage\" class=\"homepage HIDDEN\" target=\"_blank\">홈페이지</a>\\n            <a href=\"#none\" data-id=\"storeview\" class=\"storeview HIDDEN\">스토어뷰</a>\\n            <a href=\"#none\" data-id=\"intercity\" class=\"intercity HIDDEN\">실시간예매</a>\\n        </div>\\n    </div>\\n</li><li class=\"PlaceItem clickArea\">\\n    <div data-id=\"btnsWrap\" class=\"utile_item\">\\n        <span data-id=\"screenOutName\" class=\"screen_out\">전주전집</span>\\n        <a href=\"#none\" data-id=\"fav\" class=\"fav\">\\n            <span class=\"ico_fav\">즐겨찾기</span><span class=\"num\"></span>\\n        </a>\\n        <a href=\"#none\" data-id=\"roadview\" class=\"roadview\">로드뷰</a>\\n        <button data-id=\"routeBtn\" type=\"button\" class=\"DirectionItemInfoBtn\">길찾기</button>\\n    <div class=\"FlagItemInfoLayer HIDDEN\">\\n\\t<div data-id=\"origin\" class=\"origin\">출발</div>\\n\\t<div data-id=\"via\" class=\"via\">경유</div>\\n\\t<div data-id=\"dest\" class=\"dest\">도착</div>\\n</div></div>\\n    <div class=\"thumb_item HIDDEN\">\\n        <img data-id=\"image\" src=\"\" width=\"70\" height=\"70\" class=\"thumb_g HIDDEN\" alt=\"\">\\n    </div>\\n    <div class=\"head_item clickArea\">\\n        <strong class=\"tit_name\">\\n            <a href=\"#none\" data-id=\"icon\" class=\"link_order clickArea\">H</a>\\n            <a href=\"#none\" data-id=\"name\" class=\"link_name\" title=\"전주전집\">전주전집</a>\\n        </strong>\\n        <span data-id=\"subcategory\" class=\"subcategory clickable\">한식</span>\\n    </div>\\n    <div data-id=\"rating\" class=\"rating clickArea\">\\n        <span data-id=\"score\" class=\"score\">\\n            <span class=\"screen_out\">별점</span>\\n            <em data-id=\"scoreNum\" class=\"num\" title=\"3.1점\">3.1</em>\\n            <span class=\"backgroundStar\">\\n                <span data-id=\"star\" class=\"star\" style=\"width: 42.16px;\"></span>\\n            </span>\\n            <a href=\"https://place.map.kakao.com/8078768#comment\" data-id=\"numberofscore\" class=\"numberofscore\" target=\"_blank\">163건</a>\\n        </span>\\n        <span data-id=\"scoreBlind\" class=\"txt_blind HIDDEN\"><span class=\"ico_noti\"></span>후기 미제공</span>\\n        <span data-id=\"scoreGroove\" class=\"groove\"></span>\\n        <a href=\"https://place.map.kakao.com/8078768#review\" data-id=\"review\" class=\"review\" target=\"_blank\">리뷰 <em data-id=\"numberofreview\">303</em></a>\\n        <span data-id=\"tvshowInfo\" class=\"tvinfolabel HIDDEN\">tv소개</span>\\n    </div>\\n    <div class=\"info_item\">\\n        <div data-id=\"wrapCourseInfo\" class=\"wrapCourseInfo HIDDEN\"></div>\\n        <div data-id=\"wrapAddress\" class=\"addr\">\\n            <p data-id=\"address\" title=\"서울 동작구 동작대로7길 19\">서울 동작구 동작대로7길 19</p>\\n            <p data-id=\"otherAddr\" class=\"lot_number\" title=\"사당동 1032-1\">(지번) 사당동 1032-1</p>\\n        </div>\\n        <p data-id=\"gasinfo\" class=\"gasinfo HIDDEN\"></p>\\n        <p data-id=\"realEstates\" class=\"realEstates HIDDEN\"></p>\\n        <div data-id=\"openhour\" class=\"openhour\">\\n            <p data-id=\"periodWarp\" class=\"periodWarp\">\\n                <span data-id=\"periodStatus\" class=\"openhourTitle\">영업중</span>\\n                <a data-id=\"periodTxt\" href=\"https://place.map.kakao.com/8078768?openhour=1\" target=\"_blank\">일 15:30 ~ 00:00</a>\\n            </p>\\n        </div>\\n        <div class=\"contact clickArea\">\\n            <span data-id=\"phone\" class=\"phone HIDDEN\"></span>\\n            <a href=\"https://place.map.kakao.com/8078768\" data-id=\"moreview\" class=\"moreview\" target=\"_blank\">상세보기</a>\\n            <a href=\"#none\" data-id=\"homepage\" class=\"homepage HIDDEN\" target=\"_blank\">홈페이지</a>\\n            <a href=\"#none\" data-id=\"storeview\" class=\"storeview HIDDEN\">스토어뷰</a>\\n            <a href=\"#none\" data-id=\"intercity\" class=\"intercity HIDDEN\">실시간예매</a>\\n        </div>\\n    </div>\\n</li><li class=\"PlaceItem clickArea\">\\n    <div data-id=\"btnsWrap\" class=\"utile_item\">\\n        <span data-id=\"screenOutName\" class=\"screen_out\">방배김밥</span>\\n        <a href=\"#none\" data-id=\"fav\" class=\"fav\">\\n            <span class=\"ico_fav\">즐겨찾기</span><span class=\"num\"></span>\\n        </a>\\n        <a href=\"#none\" data-id=\"roadview\" class=\"roadview\">로드뷰</a>\\n        <button data-id=\"routeBtn\" type=\"button\" class=\"DirectionItemInfoBtn\">길찾기</button>\\n    <div class=\"FlagItemInfoLayer HIDDEN\">\\n\\t<div data-id=\"origin\" class=\"origin\">출발</div>\\n\\t<div data-id=\"via\" class=\"via\">경유</div>\\n\\t<div data-id=\"dest\" class=\"dest\">도착</div>\\n</div></div>\\n    <div class=\"thumb_item HIDDEN\">\\n        <img data-id=\"image\" src=\"\" width=\"70\" height=\"70\" class=\"thumb_g HIDDEN\" alt=\"\">\\n    </div>\\n    <div class=\"head_item clickArea\">\\n        <strong class=\"tit_name\">\\n            <a href=\"#none\" data-id=\"icon\" class=\"link_order clickArea\">I</a>\\n            <a href=\"#none\" data-id=\"name\" class=\"link_name\" title=\"방배김밥\">방배김밥</a>\\n        </strong>\\n        <span data-id=\"subcategory\" class=\"subcategory clickable\">분식</span>\\n    </div>\\n    <div data-id=\"rating\" class=\"rating clickArea\">\\n        <span data-id=\"score\" class=\"score\">\\n            <span class=\"screen_out\">별점</span>\\n            <em data-id=\"scoreNum\" class=\"num\" title=\"3.3점\">3.3</em>\\n            <span class=\"backgroundStar\">\\n                <span data-id=\"star\" class=\"star\" style=\"width: 44.88px;\"></span>\\n            </span>\\n            <a href=\"https://place.map.kakao.com/9008598#comment\" data-id=\"numberofscore\" class=\"numberofscore\" target=\"_blank\">60건</a>\\n        </span>\\n        <span data-id=\"scoreBlind\" class=\"txt_blind HIDDEN\"><span class=\"ico_noti\"></span>후기 미제공</span>\\n        <span data-id=\"scoreGroove\" class=\"groove\"></span>\\n        <a href=\"https://place.map.kakao.com/9008598#review\" data-id=\"review\" class=\"review\" target=\"_blank\">리뷰 <em data-id=\"numberofreview\">56</em></a>\\n        <span data-id=\"tvshowInfo\" class=\"tvinfolabel HIDDEN\">tv소개</span>\\n    </div>\\n    <div class=\"info_item\">\\n        <div data-id=\"wrapCourseInfo\" class=\"wrapCourseInfo HIDDEN\"></div>\\n        <div data-id=\"wrapAddress\" class=\"addr\">\\n            <p data-id=\"address\" title=\"서울 동작구 동작대로27길 59-16\">서울 동작구 동작대로27길 59-16</p>\\n            <p data-id=\"otherAddr\" class=\"lot_number\" title=\"사당동 127-27\">(지번) 사당동 127-27</p>\\n        </div>\\n        <p data-id=\"gasinfo\" class=\"gasinfo HIDDEN\"></p>\\n        <p data-id=\"realEstates\" class=\"realEstates HIDDEN\"></p>\\n        <div data-id=\"openhour\" class=\"openhour\">\\n            <p data-id=\"periodWarp\" class=\"periodWarp\">\\n                <span data-id=\"periodStatus\" class=\"openhourTitle\">금일영업마감</span>\\n                <a data-id=\"periodTxt\" href=\"https://place.map.kakao.com/9008598?openhour=1\" target=\"_blank\">영업시간 일 04:00 ~ 14:00</a>\\n            </p>\\n        </div>\\n        <div class=\"contact clickArea\">\\n            <span data-id=\"phone\" class=\"phone\">02-599-0566</span><span class=\"ICON-middot\"></span>\\n            <a href=\"https://place.map.kakao.com/9008598\" data-id=\"moreview\" class=\"moreview\" target=\"_blank\">상세보기</a>\\n            <span class=\"ICON-middot\"></span><a href=\"http://ricechef.co.kr\" data-id=\"homepage\" class=\"homepage\" target=\"_blank\">홈페이지</a>\\n            <a href=\"#none\" data-id=\"storeview\" class=\"storeview HIDDEN\">스토어뷰</a>\\n            <a href=\"#none\" data-id=\"intercity\" class=\"intercity HIDDEN\">실시간예매</a>\\n        </div>\\n    </div>\\n</li><li class=\"PlaceItem clickArea\">\\n    <div data-id=\"btnsWrap\" class=\"utile_item\">\\n        <span data-id=\"screenOutName\" class=\"screen_out\">곱창나라</span>\\n        <a href=\"#none\" data-id=\"fav\" class=\"fav\">\\n            <span class=\"ico_fav\">즐겨찾기</span><span class=\"num\"></span>\\n        </a>\\n        <a href=\"#none\" data-id=\"roadview\" class=\"roadview\">로드뷰</a>\\n        <button data-id=\"routeBtn\" type=\"button\" class=\"DirectionItemInfoBtn\">길찾기</button>\\n    <div class=\"FlagItemInfoLayer HIDDEN\">\\n\\t<div data-id=\"origin\" class=\"origin\">출발</div>\\n\\t<div data-id=\"via\" class=\"via\">경유</div>\\n\\t<div data-id=\"dest\" class=\"dest\">도착</div>\\n</div></div>\\n    <div class=\"thumb_item HIDDEN\">\\n        <img data-id=\"image\" src=\"\" width=\"70\" height=\"70\" class=\"thumb_g HIDDEN\" alt=\"\">\\n    </div>\\n    <div class=\"head_item clickArea\">\\n        <strong class=\"tit_name\">\\n            <a href=\"#none\" data-id=\"icon\" class=\"link_order clickArea\">J</a>\\n            <a href=\"#none\" data-id=\"name\" class=\"link_name\" title=\"곱창나라\">곱창나라</a>\\n        </strong>\\n        <span data-id=\"subcategory\" class=\"subcategory clickable\">곱창,막창</span>\\n    </div>\\n    <div data-id=\"rating\" class=\"rating clickArea\">\\n        <span data-id=\"score\" class=\"score\">\\n            <span class=\"screen_out\">별점</span>\\n            <em data-id=\"scoreNum\" class=\"num\" title=\"4.4점\">4.4</em>\\n            <span class=\"backgroundStar\">\\n                <span data-id=\"star\" class=\"star\" style=\"width: 59.84px;\"></span>\\n            </span>\\n            <a href=\"https://place.map.kakao.com/928908713#comment\" data-id=\"numberofscore\" class=\"numberofscore\" target=\"_blank\">21건</a>\\n        </span>\\n        <span data-id=\"scoreBlind\" class=\"txt_blind HIDDEN\"><span class=\"ico_noti\"></span>후기 미제공</span>\\n        <span data-id=\"scoreGroove\" class=\"groove\"></span>\\n        <a href=\"https://place.map.kakao.com/928908713#review\" data-id=\"review\" class=\"review\" target=\"_blank\">리뷰 <em data-id=\"numberofreview\">216</em></a>\\n        <span data-id=\"tvshowInfo\" class=\"tvinfolabel HIDDEN\">tv소개</span>\\n    </div>\\n    <div class=\"info_item\">\\n        <div data-id=\"wrapCourseInfo\" class=\"wrapCourseInfo HIDDEN\"></div>\\n        <div data-id=\"wrapAddress\" class=\"addr\">\\n            <p data-id=\"address\" title=\"서울 동작구 동작대로27가길 41 1층\">서울 동작구 동작대로27가길 41 1층</p>\\n            <p data-id=\"otherAddr\" class=\"lot_number\" title=\"사당동 147-108\">(지번) 사당동 147-108</p>\\n        </div>\\n        <p data-id=\"gasinfo\" class=\"gasinfo HIDDEN\"></p>\\n        <p data-id=\"realEstates\" class=\"realEstates HIDDEN\"></p>\\n        <div data-id=\"openhour\" class=\"openhour\">\\n            <p data-id=\"periodWarp\" class=\"periodWarp\">\\n                <span data-id=\"periodStatus\" class=\"openhourTitle\">금일영업마감</span>\\n                <a data-id=\"periodTxt\" href=\"https://place.map.kakao.com/928908713?openhour=1\" target=\"_blank\">영업시간 매일 16:00 ~ 24:00</a>\\n            </p>\\n        </div>\\n        <div class=\"contact clickArea\">\\n            <span data-id=\"phone\" class=\"phone\">02-595-9292</span><span class=\"ICON-middot\"></span>\\n            <a href=\"https://place.map.kakao.com/928908713\" data-id=\"moreview\" class=\"moreview\" target=\"_blank\">상세보기</a>\\n            <a href=\"#none\" data-id=\"homepage\" class=\"homepage HIDDEN\" target=\"_blank\">홈페이지</a>\\n            <a href=\"#none\" data-id=\"storeview\" class=\"storeview HIDDEN\">스토어뷰</a>\\n            <a href=\"#none\" data-id=\"intercity\" class=\"intercity HIDDEN\">실시간예매</a>\\n        </div>\\n    </div>\\n</li><li class=\"PlaceItem clickArea\">\\n    <div data-id=\"btnsWrap\" class=\"utile_item\">\\n        <span data-id=\"screenOutName\" class=\"screen_out\">라화방</span>\\n        <a href=\"#none\" data-id=\"fav\" class=\"fav\">\\n            <span class=\"ico_fav\">즐겨찾기</span><span class=\"num\"></span>\\n        </a>\\n        <a href=\"#none\" data-id=\"roadview\" class=\"roadview\">로드뷰</a>\\n        <button data-id=\"routeBtn\" type=\"button\" class=\"DirectionItemInfoBtn\">길찾기</button>\\n    <div class=\"FlagItemInfoLayer HIDDEN\">\\n\\t<div data-id=\"origin\" class=\"origin\">출발</div>\\n\\t<div data-id=\"via\" class=\"via\">경유</div>\\n\\t<div data-id=\"dest\" class=\"dest\">도착</div>\\n</div></div>\\n    <div class=\"thumb_item HIDDEN\">\\n        <img data-id=\"image\" src=\"\" width=\"70\" height=\"70\" class=\"thumb_g HIDDEN\" alt=\"\">\\n    </div>\\n    <div class=\"head_item clickArea\">\\n        <strong class=\"tit_name\">\\n            <a href=\"#none\" data-id=\"icon\" class=\"link_order clickArea\">K</a>\\n            <a href=\"#none\" data-id=\"name\" class=\"link_name\" title=\"라화방\">라화방</a>\\n        </strong>\\n        <span data-id=\"subcategory\" class=\"subcategory clickable\">중국요리</span>\\n    </div>\\n    <div data-id=\"rating\" class=\"rating clickArea\">\\n        <span data-id=\"score\" class=\"score\">\\n            <span class=\"screen_out\">별점</span>\\n            <em data-id=\"scoreNum\" class=\"num\" title=\"4.3점\">4.3</em>\\n            <span class=\"backgroundStar\">\\n                <span data-id=\"star\" class=\"star\" style=\"width: 58.48px;\"></span>\\n            </span>\\n            <a href=\"https://place.map.kakao.com/348471544#comment\" data-id=\"numberofscore\" class=\"numberofscore\" target=\"_blank\">38건</a>\\n        </span>\\n        <span data-id=\"scoreBlind\" class=\"txt_blind HIDDEN\"><span class=\"ico_noti\"></span>후기 미제공</span>\\n        <span data-id=\"scoreGroove\" class=\"groove\"></span>\\n        <a href=\"https://place.map.kakao.com/348471544#review\" data-id=\"review\" class=\"review\" target=\"_blank\">리뷰 <em data-id=\"numberofreview\">22</em></a>\\n        <span data-id=\"tvshowInfo\" class=\"tvinfolabel HIDDEN\">tv소개</span>\\n    </div>\\n    <div class=\"info_item\">\\n        <div data-id=\"wrapCourseInfo\" class=\"wrapCourseInfo HIDDEN\"></div>\\n        <div data-id=\"wrapAddress\" class=\"addr\">\\n            <p data-id=\"address\" title=\"서울 동작구 동작대로27길 22\">서울 동작구 동작대로27길 22</p>\\n            <p data-id=\"otherAddr\" class=\"lot_number\" title=\"사당동 139-36\">(지번) 사당동 139-36</p>\\n        </div>\\n        <p data-id=\"gasinfo\" class=\"gasinfo HIDDEN\"></p>\\n        <p data-id=\"realEstates\" class=\"realEstates HIDDEN\"></p>\\n        <div data-id=\"openhour\" class=\"openhour\">\\n            <p data-id=\"periodWarp\" class=\"periodWarp\">\\n                <span data-id=\"periodStatus\" class=\"openhourTitle\">금일영업마감</span>\\n                <a data-id=\"periodTxt\" href=\"https://place.map.kakao.com/348471544?openhour=1\" target=\"_blank\">영업시간 매일 11:00 ~ 23:00</a>\\n            </p>\\n        </div>\\n        <div class=\"contact clickArea\">\\n            <span data-id=\"phone\" class=\"phone\">02-536-6490</span><span class=\"ICON-middot\"></span>\\n            <a href=\"https://place.map.kakao.com/348471544\" data-id=\"moreview\" class=\"moreview\" target=\"_blank\">상세보기</a>\\n            <a href=\"#none\" data-id=\"homepage\" class=\"homepage HIDDEN\" target=\"_blank\">홈페이지</a>\\n            <a href=\"#none\" data-id=\"storeview\" class=\"storeview HIDDEN\">스토어뷰</a>\\n            <a href=\"#none\" data-id=\"intercity\" class=\"intercity HIDDEN\">실시간예매</a>\\n        </div>\\n    </div>\\n</li><li class=\"PlaceItem clickArea\">\\n    <div data-id=\"btnsWrap\" class=\"utile_item\">\\n        <span data-id=\"screenOutName\" class=\"screen_out\">호우양꼬치 이수점</span>\\n        <a href=\"#none\" data-id=\"fav\" class=\"fav\">\\n            <span class=\"ico_fav\">즐겨찾기</span><span class=\"num\"></span>\\n        </a>\\n        <a href=\"#none\" data-id=\"roadview\" class=\"roadview\">로드뷰</a>\\n        <button data-id=\"routeBtn\" type=\"button\" class=\"DirectionItemInfoBtn\">길찾기</button>\\n    <div class=\"FlagItemInfoLayer HIDDEN\">\\n\\t<div data-id=\"origin\" class=\"origin\">출발</div>\\n\\t<div data-id=\"via\" class=\"via\">경유</div>\\n\\t<div data-id=\"dest\" class=\"dest\">도착</div>\\n</div></div>\\n    <div class=\"thumb_item HIDDEN\">\\n        <img data-id=\"image\" src=\"\" width=\"70\" height=\"70\" class=\"thumb_g HIDDEN\" alt=\"\">\\n    </div>\\n    <div class=\"head_item clickArea\">\\n        <strong class=\"tit_name\">\\n            <a href=\"#none\" data-id=\"icon\" class=\"link_order clickArea\">L</a>\\n            <a href=\"#none\" data-id=\"name\" class=\"link_name\" title=\"호우양꼬치 이수점\">호우양꼬치 이수점</a>\\n        </strong>\\n        <span data-id=\"subcategory\" class=\"subcategory clickable\">양꼬치</span>\\n    </div>\\n    <div data-id=\"rating\" class=\"rating clickArea\">\\n        <span data-id=\"score\" class=\"score\">\\n            <span class=\"screen_out\">별점</span>\\n            <em data-id=\"scoreNum\" class=\"num\" title=\"3.9점\">3.9</em>\\n            <span class=\"backgroundStar\">\\n                <span data-id=\"star\" class=\"star\" style=\"width: 53.04px;\"></span>\\n            </span>\\n            <a href=\"https://place.map.kakao.com/26874375#comment\" data-id=\"numberofscore\" class=\"numberofscore\" target=\"_blank\">34건</a>\\n        </span>\\n        <span data-id=\"scoreBlind\" class=\"txt_blind HIDDEN\"><span class=\"ico_noti\"></span>후기 미제공</span>\\n        <span data-id=\"scoreGroove\" class=\"groove\"></span>\\n        <a href=\"https://place.map.kakao.com/26874375#review\" data-id=\"review\" class=\"review\" target=\"_blank\">리뷰 <em data-id=\"numberofreview\">75</em></a>\\n        <span data-id=\"tvshowInfo\" class=\"tvinfolabel HIDDEN\">tv소개</span>\\n    </div>\\n    <div class=\"info_item\">\\n        <div data-id=\"wrapCourseInfo\" class=\"wrapCourseInfo HIDDEN\"></div>\\n        <div data-id=\"wrapAddress\" class=\"addr\">\\n            <p data-id=\"address\" title=\"서울 동작구 동작대로27다길 9\">서울 동작구 동작대로27다길 9</p>\\n            <p data-id=\"otherAddr\" class=\"lot_number\" title=\"사당동 139-52\">(지번) 사당동 139-52</p>\\n        </div>\\n        <p data-id=\"gasinfo\" class=\"gasinfo HIDDEN\"></p>\\n        <p data-id=\"realEstates\" class=\"realEstates HIDDEN\"></p>\\n        <div data-id=\"openhour\" class=\"openhour\">\\n            <p data-id=\"periodWarp\" class=\"periodWarp\">\\n                <span data-id=\"periodStatus\" class=\"openhourTitle\">휴무일</span>\\n                <a data-id=\"periodTxt\" href=\"https://place.map.kakao.com/26874375?openhour=1\" target=\"_blank\">일요일</a>\\n            </p>\\n        </div>\\n        <div class=\"contact clickArea\">\\n            <span data-id=\"phone\" class=\"phone\">010-7299-6697</span><span class=\"ICON-middot\"></span>\\n            <a href=\"https://place.map.kakao.com/26874375\" data-id=\"moreview\" class=\"moreview\" target=\"_blank\">상세보기</a>\\n            <a href=\"#none\" data-id=\"homepage\" class=\"homepage HIDDEN\" target=\"_blank\">홈페이지</a>\\n            <a href=\"#none\" data-id=\"storeview\" class=\"storeview HIDDEN\">스토어뷰</a>\\n            <a href=\"#none\" data-id=\"intercity\" class=\"intercity HIDDEN\">실시간예매</a>\\n        </div>\\n    </div>\\n</li><li class=\"PlaceItem clickArea\">\\n    <div data-id=\"btnsWrap\" class=\"utile_item\">\\n        <span data-id=\"screenOutName\" class=\"screen_out\">훈감동</span>\\n        <a href=\"#none\" data-id=\"fav\" class=\"fav\">\\n            <span class=\"ico_fav\">즐겨찾기</span><span class=\"num\"></span>\\n        </a>\\n        <a href=\"#none\" data-id=\"roadview\" class=\"roadview\">로드뷰</a>\\n        <button data-id=\"routeBtn\" type=\"button\" class=\"DirectionItemInfoBtn\">길찾기</button>\\n    <div class=\"FlagItemInfoLayer HIDDEN\">\\n\\t<div data-id=\"origin\" class=\"origin\">출발</div>\\n\\t<div data-id=\"via\" class=\"via\">경유</div>\\n\\t<div data-id=\"dest\" class=\"dest\">도착</div>\\n</div></div>\\n    <div class=\"thumb_item HIDDEN\">\\n        <img data-id=\"image\" src=\"\" width=\"70\" height=\"70\" class=\"thumb_g HIDDEN\" alt=\"\">\\n    </div>\\n    <div class=\"head_item clickArea\">\\n        <strong class=\"tit_name\">\\n            <a href=\"#none\" data-id=\"icon\" class=\"link_order clickArea\">M</a>\\n            <a href=\"#none\" data-id=\"name\" class=\"link_name\" title=\"훈감동\">훈감동</a>\\n        </strong>\\n        <span data-id=\"subcategory\" class=\"subcategory clickable\">일식</span>\\n    </div>\\n    <div data-id=\"rating\" class=\"rating clickArea\">\\n        <span data-id=\"score\" class=\"score\">\\n            <span class=\"screen_out\">별점</span>\\n            <em data-id=\"scoreNum\" class=\"num\" title=\"3.9점\">3.9</em>\\n            <span class=\"backgroundStar\">\\n                <span data-id=\"star\" class=\"star\" style=\"width: 53.04px;\"></span>\\n            </span>\\n            <a href=\"https://place.map.kakao.com/1860467113#comment\" data-id=\"numberofscore\" class=\"numberofscore\" target=\"_blank\">152건</a>\\n        </span>\\n        <span data-id=\"scoreBlind\" class=\"txt_blind HIDDEN\"><span class=\"ico_noti\"></span>후기 미제공</span>\\n        <span data-id=\"scoreGroove\" class=\"groove\"></span>\\n        <a href=\"https://place.map.kakao.com/1860467113#review\" data-id=\"review\" class=\"review\" target=\"_blank\">리뷰 <em data-id=\"numberofreview\">215</em></a>\\n        <span data-id=\"tvshowInfo\" class=\"tvinfolabel HIDDEN\">tv소개</span>\\n    </div>\\n    <div class=\"info_item\">\\n        <div data-id=\"wrapCourseInfo\" class=\"wrapCourseInfo HIDDEN\"></div>\\n        <div data-id=\"wrapAddress\" class=\"addr\">\\n            <p data-id=\"address\" title=\"서울 동작구 동작대로9길 4 1층\">서울 동작구 동작대로9길 4 1층</p>\\n            <p data-id=\"otherAddr\" class=\"lot_number\" title=\"사당동 1019-19\">(지번) 사당동 1019-19</p>\\n        </div>\\n        <p data-id=\"gasinfo\" class=\"gasinfo HIDDEN\"></p>\\n        <p data-id=\"realEstates\" class=\"realEstates HIDDEN\"></p>\\n        <div data-id=\"openhour\" class=\"openhour\">\\n            <p data-id=\"periodWarp\" class=\"periodWarp\">\\n                <span data-id=\"periodStatus\" class=\"openhourTitle\">휴무일</span>\\n                <a data-id=\"periodTxt\" href=\"https://place.map.kakao.com/1860467113?openhour=1\" target=\"_blank\">일요일</a>\\n            </p>\\n        </div>\\n        <div class=\"contact clickArea\">\\n            <span data-id=\"phone\" class=\"phone\">010-9118-0516</span><span class=\"ICON-middot\"></span>\\n            <a href=\"https://place.map.kakao.com/1860467113\" data-id=\"moreview\" class=\"moreview\" target=\"_blank\">상세보기</a>\\n            <span class=\"ICON-middot\"></span><a href=\"https://www.instagram.com/hoon.gam_dong\" data-id=\"homepage\" class=\"homepage\" target=\"_blank\">홈페이지</a>\\n            <a href=\"#none\" data-id=\"storeview\" class=\"storeview HIDDEN\">스토어뷰</a>\\n            <a href=\"#none\" data-id=\"intercity\" class=\"intercity HIDDEN\">실시간예매</a>\\n        </div>\\n    </div>\\n</li><li class=\"PlaceItem clickArea\">\\n    <div data-id=\"btnsWrap\" class=\"utile_item\">\\n        <span data-id=\"screenOutName\" class=\"screen_out\">딥다이브</span>\\n        <a href=\"#none\" data-id=\"fav\" class=\"fav\">\\n            <span class=\"ico_fav\">즐겨찾기</span><span class=\"num\"></span>\\n        </a>\\n        <a href=\"#none\" data-id=\"roadview\" class=\"roadview\">로드뷰</a>\\n        <button data-id=\"routeBtn\" type=\"button\" class=\"DirectionItemInfoBtn\">길찾기</button>\\n    <div class=\"FlagItemInfoLayer HIDDEN\">\\n\\t<div data-id=\"origin\" class=\"origin\">출발</div>\\n\\t<div data-id=\"via\" class=\"via\">경유</div>\\n\\t<div data-id=\"dest\" class=\"dest\">도착</div>\\n</div></div>\\n    <div class=\"thumb_item HIDDEN\">\\n        <img data-id=\"image\" src=\"\" width=\"70\" height=\"70\" class=\"thumb_g HIDDEN\" alt=\"\">\\n    </div>\\n    <div class=\"head_item clickArea\">\\n        <strong class=\"tit_name\">\\n            <a href=\"#none\" data-id=\"icon\" class=\"link_order clickArea\">N</a>\\n            <a href=\"#none\" data-id=\"name\" class=\"link_name\" title=\"딥다이브\">딥다이브</a>\\n        </strong>\\n        <span data-id=\"subcategory\" class=\"subcategory clickable\">디저트카페</span>\\n    </div>\\n    <div data-id=\"rating\" class=\"rating clickArea\">\\n        <span data-id=\"score\" class=\"score\">\\n            <span class=\"screen_out\">별점</span>\\n            <em data-id=\"scoreNum\" class=\"num\" title=\"4.4점\">4.4</em>\\n            <span class=\"backgroundStar\">\\n                <span data-id=\"star\" class=\"star\" style=\"width: 59.84px;\"></span>\\n            </span>\\n            <a href=\"https://place.map.kakao.com/303680808#comment\" data-id=\"numberofscore\" class=\"numberofscore\" target=\"_blank\">14건</a>\\n        </span>\\n        <span data-id=\"scoreBlind\" class=\"txt_blind HIDDEN\"><span class=\"ico_noti\"></span>후기 미제공</span>\\n        <span data-id=\"scoreGroove\" class=\"groove\"></span>\\n        <a href=\"https://place.map.kakao.com/303680808#review\" data-id=\"review\" class=\"review\" target=\"_blank\">리뷰 <em data-id=\"numberofreview\">77</em></a>\\n        <span data-id=\"tvshowInfo\" class=\"tvinfolabel HIDDEN\">tv소개</span>\\n    </div>\\n    <div class=\"info_item\">\\n        <div data-id=\"wrapCourseInfo\" class=\"wrapCourseInfo HIDDEN\"></div>\\n        <div data-id=\"wrapAddress\" class=\"addr\">\\n            <p data-id=\"address\" title=\"서울 서초구 방배천로18길 36-5 1층\">서울 서초구 방배천로18길 36-5 1층</p>\\n            <p data-id=\"otherAddr\" class=\"lot_number\" title=\"방배동 435-2\">(지번) 방배동 435-2</p>\\n        </div>\\n        <p data-id=\"gasinfo\" class=\"gasinfo HIDDEN\"></p>\\n        <p data-id=\"realEstates\" class=\"realEstates HIDDEN\"></p>\\n        <div data-id=\"openhour\" class=\"openhour\">\\n            <p data-id=\"periodWarp\" class=\"periodWarp\">\\n                <span data-id=\"periodStatus\" class=\"openhourTitle\">금일영업마감</span>\\n                <a data-id=\"periodTxt\" href=\"https://place.map.kakao.com/303680808?openhour=1\" target=\"_blank\">영업시간 토,일 12:00 ~ 21:00</a>\\n            </p>\\n        </div>\\n        <div class=\"contact clickArea\">\\n            <span data-id=\"phone\" class=\"phone\">070-7514-2104</span><span class=\"ICON-middot\"></span>\\n            <a href=\"https://place.map.kakao.com/303680808\" data-id=\"moreview\" class=\"moreview\" target=\"_blank\">상세보기</a>\\n            <span class=\"ICON-middot\"></span><a href=\"http://www.instagram.com/deepdive_cafe\" data-id=\"homepage\" class=\"homepage\" target=\"_blank\">홈페이지</a>\\n            <a href=\"#none\" data-id=\"storeview\" class=\"storeview HIDDEN\">스토어뷰</a>\\n            <a href=\"#none\" data-id=\"intercity\" class=\"intercity HIDDEN\">실시간예매</a>\\n        </div>\\n    </div>\\n</li><li class=\"PlaceItem clickArea\">\\n    <div data-id=\"btnsWrap\" class=\"utile_item\">\\n        <span data-id=\"screenOutName\" class=\"screen_out\">비엔나커피하우스 이수역점</span>\\n        <a href=\"#none\" data-id=\"fav\" class=\"fav\">\\n            <span class=\"ico_fav\">즐겨찾기</span><span class=\"num\"></span>\\n        </a>\\n        <a href=\"#none\" data-id=\"roadview\" class=\"roadview\">로드뷰</a>\\n        <button data-id=\"routeBtn\" type=\"button\" class=\"DirectionItemInfoBtn\">길찾기</button>\\n    <div class=\"FlagItemInfoLayer HIDDEN\">\\n\\t<div data-id=\"origin\" class=\"origin\">출발</div>\\n\\t<div data-id=\"via\" class=\"via\">경유</div>\\n\\t<div data-id=\"dest\" class=\"dest\">도착</div>\\n</div></div>\\n    <div class=\"thumb_item HIDDEN\">\\n        <img data-id=\"image\" src=\"\" width=\"70\" height=\"70\" class=\"thumb_g HIDDEN\" alt=\"\">\\n    </div>\\n    <div class=\"head_item clickArea\">\\n        <strong class=\"tit_name\">\\n            <a href=\"#none\" data-id=\"icon\" class=\"link_order clickArea\">O</a>\\n            <a href=\"#none\" data-id=\"name\" class=\"link_name\" title=\"비엔나커피하우스 이수역점\">비엔나커피하우스 이수역점</a>\\n        </strong>\\n        <span data-id=\"subcategory\" class=\"subcategory clickable\">커피전문점</span>\\n    </div>\\n    <div data-id=\"rating\" class=\"rating clickArea\">\\n        <span data-id=\"score\" class=\"score\">\\n            <span class=\"screen_out\">별점</span>\\n            <em data-id=\"scoreNum\" class=\"num\" title=\"3.5점\">3.5</em>\\n            <span class=\"backgroundStar\">\\n                <span data-id=\"star\" class=\"star\" style=\"width: 47.6px;\"></span>\\n            </span>\\n            <a href=\"https://place.map.kakao.com/1051388798#comment\" data-id=\"numberofscore\" class=\"numberofscore\" target=\"_blank\">21건</a>\\n        </span>\\n        <span data-id=\"scoreBlind\" class=\"txt_blind HIDDEN\"><span class=\"ico_noti\"></span>후기 미제공</span>\\n        <span data-id=\"scoreGroove\" class=\"groove\"></span>\\n        <a href=\"https://place.map.kakao.com/1051388798#review\" data-id=\"review\" class=\"review\" target=\"_blank\">리뷰 <em data-id=\"numberofreview\">36</em></a>\\n        <span data-id=\"tvshowInfo\" class=\"tvinfolabel HIDDEN\">tv소개</span>\\n    </div>\\n    <div class=\"info_item\">\\n        <div data-id=\"wrapCourseInfo\" class=\"wrapCourseInfo HIDDEN\"></div>\\n        <div data-id=\"wrapAddress\" class=\"addr\">\\n            <p data-id=\"address\" title=\"서울 서초구 동작대로 86 1층\">서울 서초구 동작대로 86 1층</p>\\n            <p data-id=\"otherAddr\" class=\"lot_number\" title=\"방배동 438-24\">(지번) 방배동 438-24</p>\\n        </div>\\n        <p data-id=\"gasinfo\" class=\"gasinfo HIDDEN\"></p>\\n        <p data-id=\"realEstates\" class=\"realEstates HIDDEN\"></p>\\n        <div data-id=\"openhour\" class=\"openhour\">\\n            <p data-id=\"periodWarp\" class=\"periodWarp\">\\n                <span data-id=\"periodStatus\" class=\"openhourTitle\">금일영업마감</span>\\n                <a data-id=\"periodTxt\" href=\"https://place.map.kakao.com/1051388798?openhour=1\" target=\"_blank\">영업시간 매일 09:00 ~ 22:00</a>\\n            </p>\\n        </div>\\n        <div class=\"contact clickArea\">\\n            <span data-id=\"phone\" class=\"phone\">02-522-1683</span><span class=\"ICON-middot\"></span>\\n            <a href=\"https://place.map.kakao.com/1051388798\" data-id=\"moreview\" class=\"moreview\" target=\"_blank\">상세보기</a>\\n            <span class=\"ICON-middot\"></span><a href=\"http://viennacoffeehouse.co.kr\" data-id=\"homepage\" class=\"homepage\" target=\"_blank\">홈페이지</a>\\n            <a href=\"#none\" data-id=\"storeview\" class=\"storeview HIDDEN\">스토어뷰</a>\\n            <a href=\"#none\" data-id=\"intercity\" class=\"intercity HIDDEN\">실시간예매</a>\\n        </div>\\n    </div>\\n</li></ul>\\n            <a id=\"info.search.place.more\" class=\"more\" href=\"#\">장소 더보기</a>\\n                    </div>\\n        <div id=\"info.search.page\" class=\"pages HIDDEN\">\\n            <div class=\"pageWrap\">\\n                <button type=\"button\" id=\"info.search.page.prev\" class=\"prev disabled\">이전</button>\\n                <a id=\"info.search.page.no1\" class=\"ACTIVE\" href=\"#\">1</a>\\n                <a id=\"info.search.page.no2\" class=\"INACTIVE HIDDEN\" href=\"#\">2</a>\\n                <a id=\"info.search.page.no3\" class=\"INACTIVE HIDDEN\" href=\"#\">3</a>\\n                <a id=\"info.search.page.no4\" class=\"INACTIVE HIDDEN\" href=\"#\">4</a>\\n                <a id=\"info.search.page.no5\" class=\"INACTIVE HIDDEN\" href=\"#\">5</a>\\n                <button type=\"button\" id=\"info.search.page.next\" class=\"next disabled\">다음</button>\\n            </div>\\n        </div>\\n\\n    </div>\\n\\n    <div id=\"info.addNewPlace\" class=\"info_addplace HIDDEN\">\\n        <strong class=\"tit_addplace\">새로운 수정된 장소를 알고 계세요?<br>장소 제안은 지도 품질 향상에 큰 도움이 됩니다.</strong>\\n        <a id=\"info.addNewPlace.btn\" href=\"#\" class=\"ico_place link_addplace\">신규 장소 등록</a>\\n    </div>\\n\\n    <div id=\"info.noSuchPlace\" class=\"noPlace noSuchPlace HIDDEN\">\\n        <p><strong>\\'해당위치\\'</strong>에 대한 검색 결과가 없습니다.</p>\\n    </div>\\n\\n    <div id=\"info.noPlaceInBounds\" class=\"noPlace noInBounds HIDDEN\">\\n        <div class=\"inner_noPlace\">\\n            <h3 class=\"noKeyword\">\\n                <em id=\"info.noPlaceInBounds.keyword\" class=\"txt_keyword\"></em> 검색 결과가 없어요.\\n            </h3>\\n            <p class=\"noResultDesc\">검색어의 철자가 정확한지 다시 한번 확인해 주세요.<br>장소를 찾을 때 전화번호, 주소도 활용해 보세요.</p>\\n            <a href=\"http://search.daum.net/search?w=tot&amp;DA=54X&amp;q=\" class=\"noKeywordLink\" id=\"info.noPlaceInBounds.daum.link\" target=\"_blank\">Daum 검색 결과 보기</a>\\n            <div id=\"info.noPlaceInBounds.register\" class=\"register\">\\n                새로운 수정된 장소를 알고 계세요?<br>장소 제안은 지도 품질 향상에 큰 도움이 됩니다.\\n                <a id=\"info.noPlaceInBounds.register.btn\" class=\"registerBtn\" href=\"#\" target=\"_blank\">신규 장소 등록</a>\\n            </div>        </div>\\n    </div>\\n\\n    <div id=\"info.noThemePlace\" class=\"noThemePlace HIDDEN\">\\n        <p id=\"info.noThemePlace.category\" class=\"reviewcategories HIDDEN\">\\n        <a id=\"info.noThemePlace.category.n1\" href=\"#\">전체</a>\\n        <a id=\"info.noThemePlace.category.n2\" href=\"#\">음식</a>\\n        <a id=\"info.noThemePlace.category.n3\" href=\"#\">여행</a>\\n        <a id=\"info.noThemePlace.category.n4\" href=\"#\">기타</a>\\n        </p>\\n        <p class=\"l1\"><strong>\\'주변 <span id=\"info.noThemePlace.title\"></span>\\'</strong>에 대한 검색 결과가 없습니다.</p>\\n        <p class=\"l2\">지도를 축소하여 다시 테마 지도를 이용해 주세요.</p>\\n    </div>\\n\\n    \\n\\n</div>\\n\\t\\t<div id=\"info.route\" class=\"RouteSearch HIDDEN\">\\n\\n    <h2 class=\"screen_out\">길찾기 검색</h2>\\n    <div id=\"info.route.searchBox\" class=\"RouteSearchBox HIDDEN WHITEOUT\">\\n        <div id=\"info.route.searchBox.list\"><div class=\"WaypointBoxView origin\" sortid=\"0\" style=\"left: 0px; top: 0px; position: relative;\"><div class=\"dragArea\"><span class=\"title origin\"></span></div><div class=\"waypointWindow\"><input class=\"valueBox\" readonly=\"\" placeholder=\"출발지를 입력하세요\"><form class=\"WaypointInput HIDDEN\"><input id=\"info.route.waypointSuggest.input0\" title=\"검색어 입력\" class=\"input\" type=\"text\" autocomplete=\"off\"><input class=\"submit\" type=\"submit\" value=\"\"><blockquote id=\"info.route.waypointSuggest.input0Suggest\" class=\"inputSuggest\"><div class=\"suggestBox box_sub\" style=\"display: none;\"><div class=\"baseBox bg\"><div class=\"list\"><ul class=\"suggest_list_target\"></ul></div></div><div class=\"favorite_find HIDDEN\"></div><div class=\"search_recent recent_none\">\\n    <em class=\"tit_recent\">히스토리가 없어요.</em>\\n    <ul data-id=\"wrap\" class=\"list_recent\"></ul>\\n    <div class=\"favorite_recent\">\\n        <button data-id=\"disabled\" type=\"button\" class=\"btn_recentoff\">히스토리 끄기</button>\\n        <button data-id=\"clear\" type=\"button\" class=\"btn_deleteall HIDDEN\">전체삭제</button>\\n    </div>\\n</div></div></blockquote></form></div></div><div class=\"WaypointBoxView dest\" sortid=\"1\" style=\"left: 0px; top: 0px; position: relative;\"><div class=\"dragArea\"><span class=\"title dest\"></span></div><div class=\"waypointWindow\"><input class=\"valueBox\" readonly=\"\" placeholder=\"도착지를 입력하세요\"><form class=\"WaypointInput HIDDEN\"><input id=\"info.route.waypointSuggest.input1\" title=\"검색어 입력\" class=\"input\" type=\"text\" autocomplete=\"off\"><input class=\"submit\" type=\"submit\" value=\"\"><blockquote id=\"info.route.waypointSuggest.input1Suggest\" class=\"inputSuggest\"><div class=\"suggestBox box_sub\" style=\"display: none;\"><div class=\"baseBox bg\"><div class=\"list\"><ul class=\"suggest_list_target\"></ul></div></div><div class=\"favorite_find HIDDEN\"></div><div class=\"search_recent recent_none\">\\n    <em class=\"tit_recent\">히스토리가 없어요.</em>\\n    <ul data-id=\"wrap\" class=\"list_recent\"></ul>\\n    <div class=\"favorite_recent\">\\n        <button data-id=\"disabled\" type=\"button\" class=\"btn_recentoff\">히스토리 끄기</button>\\n        <button data-id=\"clear\" type=\"button\" class=\"btn_deleteall HIDDEN\">전체삭제</button>\\n    </div>\\n</div></div></blockquote></form></div></div></div>\\n        <a href=\"#none\" id=\"info.route.searchBox.toggleVia\" class=\"btn_roadsearch toggleVia\">경유지 추가</a>\\n                <a href=\"#none\" id=\"info.route.searchBox.change\" class=\"btn_roadsearch routechange\" title=\"출발/도착 순서 바꾸기\">출발/도착 순서 바꾸기</a>\\n                <a href=\"#none\" id=\"info.route.searchBox.clearVia\" class=\"btn_roadsearch clearVia\" title=\"모두 지우기\">모두 지우기</a>\\n                </div>\\n\\n                    <div id=\"info.flagsearch.method\" class=\"routeMethod\"><div class=\"RouteMethodTabView\">\\n\\t<a id=\"cartab\" data-id=\"car\" class=\"car\" href=\"#\"></a>\\n\\t<a id=\"transittab\" data-id=\"transit\" class=\"transit\" href=\"#\"></a>\\n\\t<a id=\"walktab\" data-id=\"walk\" class=\"walk\" href=\"#\"></a>\\n\\t<a id=\"biketab\" data-id=\"bike\" class=\"bike\" href=\"#\"></a>\\n</div></div>\\n\\n\\n    <div id=\"info.route.home\" class=\"routeHistory routedesc\"></div>\\n    <div id=\"info.route.intro\" class=\"Howto\">\\n        <strong class=\"tit_intro\">오늘은<br>어디로 안내할까요?</strong>\\n        <p class=\"desc_intro\">매일매일 업데이트되는 최신정보로<br>가장 빠른 경로를 알려드려요.</p>\\n    </div>\\n\\n    <div id=\"info.flagsearch\" class=\"HIDDEN Flagsearch\" style=\"min-height: 517px;\">\\n        <div class=\"search\">\\n            <div id=\"info.flagsearch.divided\" class=\"flagDivided\">\\n                <div id=\"info.flagsearch.correction\" class=\"correction HIDDEN\">\\n                    <p class=\"correctionTop\">\\n                    \\'<strong id=\"info.flagsearch.correction.orig\"></strong>\\'에서\\n                    \\'<strong id=\"info.flagsearch.correction.new\"></strong>\\'으로 검색한 결과\\n                    </p>\\n                    <p class=\"correctionBottom\">\\n                    <a href=\"#\" id=\"info.flagsearch.correction.goorig\">입력한 \\'<span id=\"info.flagsearch.correction.orig2\"></span>\\'(으)로 재검색 ‣</a>\\n                    </p>\\n                </div>\\n\\n                <div id=\"info.flagsearch.spellcheck\" class=\"spellcheck HIDDEN\">\\n                    <div class=\"spellcheckTitle HIDDEN\" id=\"info.flagsearch.spellcheck.titleText\">\\n                        \\'<strong id=\"info.flagsearch.spellcheck.title\"></strong>\\' 검색결과\\n                    </div>\\n                    <p><a href=\"#\" class=\"candidate\" id=\"info.flagsearch.spellcheck.candidate\">\\'<span id=\"info.flagsearch.spellcheck.text\"></span>\\'(으)로 검색하시겠습니까?</a></p>\\n                </div>\\n\\n                <div id=\"info.flagsearch.message\" class=\"message\"></div>\\n\\n            </div>\\n            <div id=\"info.flagsearch.options\" class=\"filterwrap\">\\n                <div class=\"filter\" data-mypage=\"true\">\\n                    <a href=\"#\" class=\"ACTIVE\" id=\"info.flagsearch.filter.all\">전체</a>\\n                    <a href=\"#\" class=\"INACTIVE\" id=\"info.flagsearch.filter.place\">장소</a>\\n                    <a href=\"#\" class=\"INACTIVE\" id=\"info.flagsearch.filter.address\">주소</a>\\n                    <a href=\"#\" class=\"INACTIVE\" id=\"info.flagsearch.filter.busstop\">버스</a>\\n                </div>\\n            </div>\\n            <div id=\"info.flagsearch.address\" class=\"section addresses\">\\n                <div class=\"sectiontitle\">\\n                    <h3 class=\"addrtitle\">주소</h3>\\n                    <span class=\"cntwrap\"><em id=\"info.flagsearch.address.cnt\" class=\"cnt\"></em></span>\\n                </div>\\n                <ul id=\"info.flagsearch.address.list\"></ul>\\n                <a id=\"info.flagsearch.address.more\" class=\"more\" href=\"#\">주소 더보기<span class=\"ico_road_arrow\"></span></a>\\n            </div>\\n\\n            <div id=\"info.flagsearch.place\" class=\"section places\">\\n                <h5 class=\"sectiontitle\">\\n                    <span class=\"placetitle\">장소</span>\\n\\n                    <span class=\"cntwrap\"><em id=\"info.flagsearch.place.cnt\" class=\"cnt\"></em></span>\\n                </h5>\\n                <ul id=\"info.flagsearch.place.list\"></ul>\\n                <a id=\"info.flagsearch.place.more\" class=\"more\" href=\"#\">장소 더보기</a>\\n            </div>\\n\\n            <div id=\"info.flagsearch.busstop\" class=\"section busstopList HIDDEN\">\\n                <div class=\"sectiontitle\">\\n                    <h3 class=\"busstoptitle\">버스정류장</h3>\\n                    <span class=\"cntwrap\"><em id=\"info.flagsearch.busstop.cnt\" class=\"cnt\"></em></span>\\n                </div>\\n                <ul id=\"info.flagsearch.busstop.list\"></ul>\\n                <a id=\"info.flagsearch.busstop.more\" class=\"more\" href=\"#\">버스정류장 더보기<span class=\"ico_road_arrow\"></span></a>\\n            </div>\\n\\n            <div id=\"info.flagsearch.page\" class=\"pages HIDDEN\">\\n                <div class=\"pageWrap\">\\n                    <button type=\"button\" id=\"info.flagsearch.page.prev\" class=\"prev disabled\">이전</button>\\n                    <a id=\"info.flagsearch.page.no1\" class=\"INACTIVE\" href=\"#\">1</a>\\n                    <a id=\"info.flagsearch.page.no2\" class=\"INACTIVE\" href=\"#\">2</a>\\n                    <a id=\"info.flagsearch.page.no3\" class=\"INACTIVE\" href=\"#\">3</a>\\n                    <a id=\"info.flagsearch.page.no4\" class=\"INACTIVE\" href=\"#\">4</a>\\n                    <a id=\"info.flagsearch.page.no5\" class=\"INACTIVE\" href=\"#\">5</a>\\n                    <button type=\"button\" id=\"info.flagsearch.page.next\" class=\"next\">다음</button>\\n                </div>\\n            </div>\\n\\n            <div id=\"info.noFlagPlace\" class=\"noPlace HIDDEN\">\\n                <div class=\"inner_noPlace\">\\n                    <h3 class=\"noKeyword\">\\n                        <em id=\"info.noFlagPlace.keyword\" class=\"txt_keyword\"></em> 검색 결과가 없어요.\\n                    </h3>\\n                    <p class=\"noResultDesc\">검색어의 철자가 정확한지 다시 한번 확인해 주세요.<br>장소를 찾을 때 전화번호, 주소도 활용해 보세요.</p>\\n                    <a href=\"http://search.daum.net/search?w=tot&amp;DA=54X&amp;q=\" class=\"noKeywordLink\" id=\"info.noPlace.daum.link\" target=\"_blank\">Daum 검색 결과 보기</a>\\n                    <div id=\"info.noFlagPlace.register\" class=\"register\">\\n                        새로운 수정된 장소를 알고 계세요?<br>장소 제안은 지도 품질 향상에 큰 도움이 됩니다.\\n                        <a id=\"info.noFlagPlace.register.btn\" class=\"registerBtn\" href=\"#\" target=\"_blank\">신규 장소 등록</a>\\n                    </div>                </div>            </div>\\n            <div id=\"info.noW3w\" class=\"noPlace noPlace_type2 \">                <div class=\"inner_noPlace\">\\n                    <h3 class=\"noKeyword\"> w3w를 지원하지 않는 기능이에요.  </h3>\\n                </div>\\n            </div>\\n\\n            <div id=\"info.flagsearch.addNewPlace\" class=\"info_addplace HIDDEN\">\\n                <strong class=\"tit_addplace\">새로운 수정된 장소를 알고 계세요?<br>장소 제안은 지도 품질 향상에 큰 도움이 됩니다.</strong>\\n                <a id=\"info.flagsearch.addNewPlace.btn\" href=\"#\" class=\"ico_place link_addplace\">신규 장소 등록</a>\\n            </div>\\n        </div>\\n\\n        <div id=\"info.carRoute\" class=\"HIDDEN\"></div>\\n        <div id=\"info.walkRoute\" class=\"walkroute HIDDEN\"><div class=\"WalkRouteResultView\">\\n\\t<ul data-id=\"list\" class=\"list\"></ul>\\n\\t<div class=\"notice\">\\n\\t\\t<span class=\"first\"> 소요시간은 성인 도보기준 4km/h로 환산하여 제공됩니다.</span>\\n\\t\\t<span class=\"second\"> 도보 길찾기는 실제 구간과 다를 수 있으니 참고 부탁 드립니다.</span>\\n\\t</div>\\n\\t<div class=\"info_top\">\\n\\t\\t<a href=\"#none\" class=\"link_top HIDDEN\" data-id=\"goToTop\">위로 가기</a>\\n\\t</div>\\n    <div class=\"info_fixroute\">\\n        길찾기 정보가 잘못되었나요?<br>정보 수정 제안은 지도 품질 향상에 큰 도움이 됩니다.\\n        <a href=\"#none\" class=\"link_fixroute\" data-id=\"fixRoute\">\\n            틀린정보 신고\\n        </a>\\n    </div>\\n</div><div class=\"NoRouteView HIDDEN\"><div class=\"NoRouteContentView\">\\n    <div class=\"wrap\" data-id=\"content\">\\n        <h3 class=\"noKeyword\" data-id=\"titleInfo\">길찾기 검색 결과가 없어요.</h3>\\n        <div class=\"noRouteDesc\" data-id=\"noRouteDesc\"></div>\\n        <a href=\"http://kakaomap.tistory.com/210\" target=\"_blank\" class=\"link_suggest HIDDEN\" data-id=\"link\">도보 길찾기 제공지역 안내</a>\\n        <div class=\"intercityBox HIDDEN\" data-id=\"intercityBox\"></div>\\n    </div>\\n    <div class=\"info_fixroute\">\\n        <div data-id=\"fiyContent\">\\n            길찾기 정보가 잘못되었나요?<br>정보 수정 제안은 지도 품질 향상에 큰 도움이 됩니다.\\n            <a href=\"#\" class=\"ico_place link_fixroute\" data-id=\"fiyBtn\">틀린정보 신고</a>\\n        </div>\\n    </div><!-- 2018-12-11_v2 수정 : 텍스트 추가 -->\\n</div></div><div class=\"NoRouteView HIDDEN\"><div class=\"NoRouteContentView\">\\n    <div class=\"wrap\" data-id=\"content\">\\n        <h3 class=\"noKeyword\" data-id=\"titleInfo\">길찾기에 실패했습니다.</h3>\\n        <div class=\"noRouteDesc\" data-id=\"noRouteDesc\" style=\"display: block;\">다시 시도해주세요</div>\\n        <a href=\"http://kakaomap.tistory.com/210\" target=\"_blank\" class=\"link_suggest HIDDEN\" data-id=\"link\">도보 길찾기 제공지역 안내</a>\\n        <div class=\"intercityBox HIDDEN\" data-id=\"intercityBox\"></div>\\n    </div>\\n    <div class=\"info_fixroute\">\\n        <div data-id=\"fiyContent\" class=\"HIDDEN\">\\n            길찾기 정보가 잘못되었나요?<br>정보 수정 제안은 지도 품질 향상에 큰 도움이 됩니다.\\n            <a href=\"#\" class=\"ico_place link_fixroute\" data-id=\"fiyBtn\">틀린정보 신고</a>\\n        </div>\\n    </div><!-- 2018-12-11_v2 수정 : 텍스트 추가 -->\\n</div></div></div>\\n        <div id=\"info.bikeRoute\" class=\"bikeroute HIDDEN\"><div class=\"BikeRouteResultView\">\\n\\t<ul data-id=\"list\" class=\"list\"></ul>\\n\\t<div class=\"notice\">\\n\\t\\t<span class=\"first\">소요시간은 자전거 평속 20km/h 내외로 환산하여 제공됩니다.</span>\\n\\t\\t<!--\\n\\t\\t<a href=\"#\" class=\"second\" data-id=\"openDetail\">정보 제공의 한계와 책임</a>\\n\\n\\t\\t<div class=\"notice_detail HIDDEN\" data-id=\"detailBox\">\\n\\t\\t\\t<h2>정보 제공의 한계와 책임 안내</h2>\\n\\t\\t\\t<p>(주)카카오에서 제공하는 자전거 길찾기는 자전거 전용 도로를 우선으로 안내하며, 자전거 전용 도로가 없을 경우에는 자동차 경로 정보(자동차 전용 도로는 제외)로 안내합니다.</p>\\n\\t\\t\\t<p>도로 정보가 수집되지 않거나 최신 정보로 갱신되지 않은 일부 지역의 경우 잘못된 경로로 안내될 수 있으니 <strong>본 서비스 정보는 반드시 참고 자료로만 활용하시길 바랍니다. 본 서비스에서 제공한 정보를 이용하여 자전거 주행시 발생하는 사고 등에 대해서 당사는 법적 책임을 지지 않습니다.</strong></p>\\n\\t\\t\\t<p>자전거 주행 시 관계 법령을 준수하고 현장 상황에 맞게 안전 운행 하시기 바랍니다.</p>\\n\\t\\t\\t<img class=\"close\" data-id=\"closeDetail\" src=\"//t1.daumcdn.net/localimg/localimages/07/2017/pc/ico_noti_x.png\" width=\"16\" height=\"16\" alt=\"닫기\"/>\\n\\t\\t</div>\\n\\t\\t-->\\n\\t</div>\\n\\t<div class=\"info_top\">\\n\\t\\t<a href=\"#none\" class=\"link_top HIDDEN\" data-id=\"goToTop\">위로 가기</a>\\n\\t</div>\\n    <div class=\"info_fixroute\">\\n        길찾기 정보가 잘못되었나요?<br>정보 수정 제안은 지도 품질 향상에 큰 도움이 됩니다.\\n        <a href=\"#none\" class=\"link_fixroute\" data-id=\"fixRoute\">\\n            틀린정보 신고\\n        </a>\\n    </div>\\n</div><div class=\"NoRouteView HIDDEN\"><div class=\"NoRouteContentView\">\\n    <div class=\"wrap\" data-id=\"content\">\\n        <h3 class=\"noKeyword\" data-id=\"titleInfo\">길찾기 검색 결과가 없어요.</h3>\\n        <div class=\"noRouteDesc\" data-id=\"noRouteDesc\"></div>\\n        <a href=\"http://kakaomap.tistory.com/210\" target=\"_blank\" class=\"link_suggest HIDDEN\" data-id=\"link\">도보 길찾기 제공지역 안내</a>\\n        <div class=\"intercityBox HIDDEN\" data-id=\"intercityBox\"></div>\\n    </div>\\n    <div class=\"info_fixroute\">\\n        <div data-id=\"fiyContent\">\\n            길찾기 정보가 잘못되었나요?<br>정보 수정 제안은 지도 품질 향상에 큰 도움이 됩니다.\\n            <a href=\"#\" class=\"ico_place link_fixroute\" data-id=\"fiyBtn\">틀린정보 신고</a>\\n        </div>\\n    </div><!-- 2018-12-11_v2 수정 : 텍스트 추가 -->\\n</div></div><div class=\"NoRouteView HIDDEN\"><div class=\"NoRouteContentView\">\\n    <div class=\"wrap\" data-id=\"content\">\\n        <h3 class=\"noKeyword\" data-id=\"titleInfo\">길찾기에 실패했습니다.</h3>\\n        <div class=\"noRouteDesc\" data-id=\"noRouteDesc\" style=\"display: block;\">다시 시도해주세요</div>\\n        <a href=\"http://kakaomap.tistory.com/210\" target=\"_blank\" class=\"link_suggest HIDDEN\" data-id=\"link\">도보 길찾기 제공지역 안내</a>\\n        <div class=\"intercityBox HIDDEN\" data-id=\"intercityBox\"></div>\\n    </div>\\n    <div class=\"info_fixroute\">\\n        <div data-id=\"fiyContent\" class=\"HIDDEN\">\\n            길찾기 정보가 잘못되었나요?<br>정보 수정 제안은 지도 품질 향상에 큰 도움이 됩니다.\\n            <a href=\"#\" class=\"ico_place link_fixroute\" data-id=\"fiyBtn\">틀린정보 신고</a>\\n        </div>\\n    </div><!-- 2018-12-11_v2 수정 : 텍스트 추가 -->\\n</div></div></div>\\n    <div class=\"TransitRouteResultView HIDDEN\"></div><div class=\"CarRouteResultView HIDDEN\"><div class=\"info_pathfind\"> <!-- 요금설정 선택시 paysetting_on 클래스 추가  -->\\n\\t<div class=\"menu_pathfind\" data-id=\"menu\">\\n\\t\\t<div data-id=\"option\" class=\"opt_pathfind\"> <!-- 옵션 선택시 opt_open 클래스 추가 -->\\n\\t\\t\\t<div class=\"screen_out\">길찾기 종류 선택상자</div>\\n\\t\\t\\t<span class=\"screen_out\">선택내용 : </span>\\n\\t\\t\\t<a href=\"#\" data-id=\"optionText\" class=\"img_pathfind link_selected\">최적경로</a>\\n\\t\\t\\t<div class=\"screen_out\">선택옵션</div>\\n\\t\\t\\t<ul class=\"list_opt\">\\n\\t\\t\\t\\t<li><a href=\"#\" data-id=\"recomm\" class=\"link_option\">최적경로</a></li>\\n\\t\\t\\t\\t<li><a href=\"#\" data-id=\"freeway\" class=\"link_option\">무료경로</a></li>\\n\\t\\t\\t\\t<li><a href=\"#\" data-id=\"shortest\" class=\"link_option\">최단거리</a></li>\\n\\t\\t\\t\\t<li><a href=\"#\" data-id=\"bike\" class=\"link_option\">자동차전용제외</a></li>\\n\\t\\t\\t</ul>\\n\\t\\t</div>\\n\\t\\t<div class=\"inner_pathfind\">\\n\\t\\t\\t<div data-id=\"realtime\" class=\"check_live\">\\n\\t\\t\\t\\t<input type=\"checkbox\" data-id=\"realCheckBox\" id=\"checkLive\" class=\"inp_live\">\\n\\t\\t\\t\\t<label for=\"checkLive\" class=\"lab_live\">실시간</label>\\n\\t\\t\\t</div>\\n\\t\\t\\t<span class=\"txt_bar\" data-id=\"realtimeBar\">|</span>\\n\\t\\t\\t<a href=\"#none\" data-id=\"payset\" class=\"link_payset link_payon\">요금설정</a>\\n\\t\\t</div>\\n\\t</div>\\n</div><ul class=\"list\"></ul><p class=\"daumNotice HIDDEN\"><span class=\"notice_icon\">아이콘</span><span class=\"notice_text\"></span></p><div class=\"info_top\"><a href=\"#\" class=\"link_top HIDDEN\">위로 가기</a></div><div class=\"info_fixroute\"><strong class=\"tit_carsource\">경로 정보 제공 : 카카오내비</strong><span>길찾기 정보가 잘못되었나요?<br>정보 수정 제안은 지도 품질 향상에 큰 도움이 됩니다.</span><a href=\"#\" class=\"link_fixroute\"></a></div></div></div>\\n</div>\\n\\t\\t\\n<div id=\"info.bus\" class=\"BusSearch WHITEOUT HIDDEN\">\\n    <a href=\"#none\" id=\"info.bus.removeAll\" class=\"removeAll\" title=\"모두 지우기\">모두 지우기</a>\\n\\t<ul id=\"search.busMethodtype\" class=\"BusMethodType\">\\n\\t\\t<li id=\"search.busMethodtype.number\" class=\"busNum NUMBER-ACTIVE\">\\n            <a href=\"#none\">번호</a>\\n        </li>\\n\\t\\t<li id=\"search.busMethodtype.stop\" class=\"busStop BUSSTOP-INACTIVE\">\\n            <a href=\"#none\">정류장</a>\\n        </li>\\n\\t\\t<li id=\"search.busMethodtype.region\" class=\"busRegion REGION-INACTIVE\">\\n            <a href=\"#none\">지역</a>\\n        </li>\\n\\t</ul>\\n\\n\\t\\t\\t<div id=\"info.bus.searchBox.number\" class=\"number\">\\n\\t\\t\\t<form id=\"info.bus.searchBoxNumber\" class=\"BusSearchBox WHITEOUT\">\\n                <div class=\"box_search\">\\n                                        <h3 class=\"screen_out\"><label for=\"info.route.searchBox.number.name\">버스번호</label></h3>\\n                    <input id=\"info.route.searchBox.number.name\" class=\"q\" type=\"text\" autocomplete=\"off\" placeholder=\"버스번호를 입력하세요\">\\n                    <button id=\"info.bus.searchBox.number.submit\" class=\"go\" type=\"submit\"></button>\\n                    <blockquote id=\"info.route.searchBox.number.nameSuggest\"><div class=\"suggestBox box_sub\" style=\"display: none;\"><div class=\"baseBox bg\"><div class=\"list\"><ul class=\"suggest_list_target\"></ul></div></div><div class=\"favorite_find HIDDEN\"></div><div class=\"search_recent recent_none\">\\n    <em class=\"tit_recent\">히스토리가 없어요.</em>\\n    <ul data-id=\"wrap\" class=\"list_recent\"></ul>\\n    <div class=\"favorite_recent\">\\n        <button data-id=\"disabled\" type=\"button\" class=\"btn_recentoff\">히스토리 끄기</button>\\n        <button data-id=\"clear\" type=\"button\" class=\"btn_deleteall HIDDEN\">전체삭제</button>\\n    </div>\\n</div></div></blockquote>\\n                </div>\\n\\t\\t\\t</form>\\n\\t\\t</div>\\n\\t\\t<div id=\"info.bus.searchBox.stop\" class=\"stop HIDDEN\">\\n\\t\\t\\t<form id=\"info.bus.searchBoxStop\" class=\"BusSearchBox WHITEOUT\">\\n                <div class=\"box_search\">\\n                    <h3 class=\"screen_out\"><label for=\"info.route.searchBox.stop.name\">버스정류장</label></h3>\\n                    <input id=\"info.route.searchBox.stop.name\" class=\"q\" type=\"text\" autocomplete=\"off\" placeholder=\"버스정류장을 입력하세요\">\\n                    <button id=\"info.bus.searchBox.stop.submit\" class=\"go\" type=\"submit\"></button>\\n                    <blockquote id=\"info.route.searchBox.stop.nameSuggest\"><div class=\"suggestBox box_sub\" style=\"display: none;\"><div class=\"baseBox bg\"><div class=\"list\"><ul class=\"suggest_list_target\"></ul></div></div><div class=\"favorite_find HIDDEN\"></div><div class=\"search_recent recent_none\">\\n    <em class=\"tit_recent\">히스토리가 없어요.</em>\\n    <ul data-id=\"wrap\" class=\"list_recent\"></ul>\\n    <div class=\"favorite_recent\">\\n        <button data-id=\"disabled\" type=\"button\" class=\"btn_recentoff\">히스토리 끄기</button>\\n        <button data-id=\"clear\" type=\"button\" class=\"btn_deleteall HIDDEN\">전체삭제</button>\\n    </div>\\n</div></div></blockquote>\\n                </div>\\n\\t\\t\\t</form>\\n\\t\\t</div>\\n\\n\\t\\t<div id=\"info.bus.region\" class=\"region BusSearchBox HIDDEN\">\\n            <div class=\"hb\">\\n                <div id=\"info.bus.region.local.button\" class=\"rb\">\\n                    <h3 class=\"screen_out\">지역</h3>\\n                    <span class=\"screen_out\">선택상자</span>\\n                    <em class=\"screen_out\">선택내용 :</em>\\n                    <span id=\"info.bus.region.local\" class=\"method melt\">경기</span>\\n                    <em class=\"screen_out\">선택옵션</em>\\n                    <ul id=\"search.busLocal\" class=\"BusLocal HIDDEN\"><li id=\"search.busLocal.seoul\" class=\"INACTIVE\">서울</li><li id=\"search.busLocal.pusan\" class=\"INACTIVE\">부산</li><li id=\"search.busLocal.daegu\" class=\"INACTIVE\">대구</li><li id=\"search.busLocal.incheon\" class=\"INACTIVE\">인천</li><li id=\"search.busLocal.kwangju\" class=\"INACTIVE\">광주</li><li id=\"search.busLocal.daejeon\" class=\"INACTIVE\">대전</li><li id=\"search.busLocal.ulsan\" class=\"INACTIVE\">울산</li><li id=\"search.busLocal.sejong\" class=\"INACTIVE\">세종</li><li id=\"search.busLocal.kyonggi\" class=\"INACTIVE\">경기</li><li id=\"search.busLocal.kangwon\" class=\"INACTIVE\">강원</li><li id=\"search.busLocal.chungbook\" class=\"INACTIVE\">충북</li><li id=\"search.busLocal.chungnam\" class=\"INACTIVE\">충남</li><li id=\"search.busLocal.jeonbuk\" class=\"INACTIVE\">전북</li><li id=\"search.busLocal.jeonnam\" class=\"INACTIVE\">전남</li><li id=\"search.busLocal.kyungbook\" class=\"INACTIVE\">경북</li><li id=\"search.busLocal.kyungnam\" class=\"INACTIVE\">경남</li><li id=\"search.busLocal.jeju\" class=\"INACTIVE\">제주</li></ul>\\n                </div>\\n            </div>\\n            <div class=\"hb sub\">\\n                <div id=\"info.bus.region.subLocal.button\" class=\"rb\">\\n                    <strong class=\"screen_out\">세부지역 선택상자</strong>\\n                    <em class=\"screen_out\">선택내용 :</em>\\n                    <span id=\"info.bus.region.subLocal\" class=\"method method-INACTIVE\">가평군</span>\\n                    <em class=\"screen_out\">선택옵션</em>\\n                <ul id=\"search.seoulLocal\" class=\"BusSubLocal HIDDEN\"><li id=\"search.busLocal.11680\" class=\"INACTIVE\">강남구</li><li id=\"search.busLocal.11740\" class=\"INACTIVE\">강동구</li><li id=\"search.busLocal.11305\" class=\"INACTIVE\">강북구</li><li id=\"search.busLocal.11500\" class=\"INACTIVE\">강서구</li><li id=\"search.busLocal.11620\" class=\"INACTIVE\">관악구</li><li id=\"search.busLocal.11215\" class=\"INACTIVE\">광진구</li><li id=\"search.busLocal.11530\" class=\"INACTIVE\">구로구</li><li id=\"search.busLocal.11545\" class=\"INACTIVE\">금천구</li><li id=\"search.busLocal.11350\" class=\"INACTIVE\">노원구</li><li id=\"search.busLocal.11320\" class=\"INACTIVE\">도봉구</li><li id=\"search.busLocal.11230\" class=\"INACTIVE\">동대문구</li><li id=\"search.busLocal.11590\" class=\"INACTIVE\">동작구</li><li id=\"search.busLocal.11440\" class=\"INACTIVE\">마포구</li><li id=\"search.busLocal.11410\" class=\"INACTIVE\">서대문구</li><li id=\"search.busLocal.11650\" class=\"INACTIVE\">서초구</li><li id=\"search.busLocal.11200\" class=\"INACTIVE\">성동구</li><li id=\"search.busLocal.11290\" class=\"INACTIVE\">성북구</li><li id=\"search.busLocal.11710\" class=\"INACTIVE\">송파구</li><li id=\"search.busLocal.11470\" class=\"INACTIVE\">양천구</li><li id=\"search.busLocal.11560\" class=\"INACTIVE\">영등포구</li><li id=\"search.busLocal.11170\" class=\"INACTIVE\">용산구</li><li id=\"search.busLocal.11380\" class=\"INACTIVE\">은평구</li><li id=\"search.busLocal.11110\" class=\"INACTIVE\">종로구</li><li id=\"search.busLocal.11140\" class=\"INACTIVE\">중구</li><li id=\"search.busLocal.11260\" class=\"INACTIVE\">중랑구</li></ul><ul id=\"search.pusanLocal\" class=\"BusSubLocal HIDDEN\"><li id=\"search.busLocal.26440\" class=\"INACTIVE\">강서구</li><li id=\"search.busLocal.26410\" class=\"INACTIVE\">금정구</li><li id=\"search.busLocal.26710\" class=\"INACTIVE\">기장군</li><li id=\"search.busLocal.26290\" class=\"INACTIVE\">남구</li><li id=\"search.busLocal.26170\" class=\"INACTIVE\">동구</li><li id=\"search.busLocal.26260\" class=\"INACTIVE\">동래구</li><li id=\"search.busLocal.26230\" class=\"INACTIVE\">부산진구</li><li id=\"search.busLocal.26320\" class=\"INACTIVE\">북구</li><li id=\"search.busLocal.26530\" class=\"INACTIVE\">사상구</li><li id=\"search.busLocal.26380\" class=\"INACTIVE\">사하구</li><li id=\"search.busLocal.26140\" class=\"INACTIVE\">서구</li><li id=\"search.busLocal.26500\" class=\"INACTIVE\">수영구</li><li id=\"search.busLocal.26470\" class=\"INACTIVE\">연제구</li><li id=\"search.busLocal.26200\" class=\"INACTIVE\">영도구</li><li id=\"search.busLocal.26110\" class=\"INACTIVE\">중구</li><li id=\"search.busLocal.26350\" class=\"INACTIVE\">해운대구</li></ul><ul id=\"search.daeguLocal\" class=\"BusSubLocal HIDDEN\"><li id=\"search.busLocal.27200\" class=\"INACTIVE\">남구</li><li id=\"search.busLocal.27290\" class=\"INACTIVE\">달서구</li><li id=\"search.busLocal.27710\" class=\"INACTIVE\">달성군</li><li id=\"search.busLocal.27140\" class=\"INACTIVE\">동구</li><li id=\"search.busLocal.27230\" class=\"INACTIVE\">북구</li><li id=\"search.busLocal.27170\" class=\"INACTIVE\">서구</li><li id=\"search.busLocal.27260\" class=\"INACTIVE\">수성구</li><li id=\"search.busLocal.27110\" class=\"INACTIVE\">중구</li></ul><ul id=\"search.incheonLocal\" class=\"BusSubLocal HIDDEN\"><li id=\"search.busLocal.28710\" class=\"INACTIVE\">강화군</li><li id=\"search.busLocal.28245\" class=\"INACTIVE\">계양구</li><li id=\"search.busLocal.28200\" class=\"INACTIVE\">남동구</li><li id=\"search.busLocal.28140\" class=\"INACTIVE\">동구</li><li id=\"search.busLocal.28177\" class=\"INACTIVE\">미추홀구</li><li id=\"search.busLocal.28237\" class=\"INACTIVE\">부평구</li><li id=\"search.busLocal.28260\" class=\"INACTIVE\">서구</li><li id=\"search.busLocal.28185\" class=\"INACTIVE\">연수구</li><li id=\"search.busLocal.28720\" class=\"INACTIVE\">옹진군</li><li id=\"search.busLocal.28110\" class=\"INACTIVE\">중구</li></ul><ul id=\"search.kwangjuLocal\" class=\"BusSubLocal HIDDEN\"><li id=\"search.busLocal.29200\" class=\"INACTIVE\">광산구</li><li id=\"search.busLocal.29155\" class=\"INACTIVE\">남구</li><li id=\"search.busLocal.29110\" class=\"INACTIVE\">동구</li><li id=\"search.busLocal.29170\" class=\"INACTIVE\">북구</li><li id=\"search.busLocal.29140\" class=\"INACTIVE\">서구</li></ul><ul id=\"search.daejeonLocal\" class=\"BusSubLocal HIDDEN\"><li id=\"search.busLocal.30230\" class=\"INACTIVE\">대덕구</li><li id=\"search.busLocal.30110\" class=\"INACTIVE\">동구</li><li id=\"search.busLocal.30170\" class=\"INACTIVE\">서구</li><li id=\"search.busLocal.30200\" class=\"INACTIVE\">유성구</li><li id=\"search.busLocal.30140\" class=\"INACTIVE\">중구</li></ul><ul id=\"search.ulsanLocal\" class=\"BusSubLocal HIDDEN\"><li id=\"search.busLocal.31140\" class=\"INACTIVE\">남구</li><li id=\"search.busLocal.31170\" class=\"INACTIVE\">동구</li><li id=\"search.busLocal.31200\" class=\"INACTIVE\">북구</li><li id=\"search.busLocal.31710\" class=\"INACTIVE\">울주군</li><li id=\"search.busLocal.31110\" class=\"INACTIVE\">중구</li></ul><ul id=\"search.sejongLocal\" class=\"BusSubLocal HIDDEN\"><li id=\"search.busLocal.36110\" class=\"INACTIVE\"></li></ul><ul id=\"search.kyonggiLocal\" class=\"BusSubLocal HIDDEN\"><li id=\"search.busLocal.41820\" class=\"INACTIVE\">가평군</li><li id=\"search.busLocal.41280\" class=\"INACTIVE\">고양시</li><li id=\"search.busLocal.41281\" class=\"INACTIVE\">고양시 덕양구</li><li id=\"search.busLocal.41285\" class=\"INACTIVE\">고양시 일산동구</li><li id=\"search.busLocal.41287\" class=\"INACTIVE\">고양시 일산서구</li><li id=\"search.busLocal.41290\" class=\"INACTIVE\">과천시</li><li id=\"search.busLocal.41210\" class=\"INACTIVE\">광명시</li><li id=\"search.busLocal.41610\" class=\"INACTIVE\">광주시</li><li id=\"search.busLocal.41310\" class=\"INACTIVE\">구리시</li><li id=\"search.busLocal.41410\" class=\"INACTIVE\">군포시</li><li id=\"search.busLocal.41570\" class=\"INACTIVE\">김포시</li><li id=\"search.busLocal.41360\" class=\"INACTIVE\">남양주시</li><li id=\"search.busLocal.41250\" class=\"INACTIVE\">동두천시</li><li id=\"search.busLocal.41190\" class=\"INACTIVE\">부천시</li><li id=\"search.busLocal.41130\" class=\"INACTIVE\">성남시</li><li id=\"search.busLocal.41135\" class=\"INACTIVE\">성남시 분당구</li><li id=\"search.busLocal.41131\" class=\"INACTIVE\">성남시 수정구</li><li id=\"search.busLocal.41133\" class=\"INACTIVE\">성남시 중원구</li><li id=\"search.busLocal.41110\" class=\"INACTIVE\">수원시</li><li id=\"search.busLocal.41113\" class=\"INACTIVE\">수원시 권선구</li><li id=\"search.busLocal.41117\" class=\"INACTIVE\">수원시 영통구</li><li id=\"search.busLocal.41111\" class=\"INACTIVE\">수원시 장안구</li><li id=\"search.busLocal.41115\" class=\"INACTIVE\">수원시 팔달구</li><li id=\"search.busLocal.41390\" class=\"INACTIVE\">시흥시</li><li id=\"search.busLocal.41270\" class=\"INACTIVE\">안산시</li><li id=\"search.busLocal.41273\" class=\"INACTIVE\">안산시 단원구</li><li id=\"search.busLocal.41271\" class=\"INACTIVE\">안산시 상록구</li><li id=\"search.busLocal.41550\" class=\"INACTIVE\">안성시</li><li id=\"search.busLocal.41170\" class=\"INACTIVE\">안양시</li><li id=\"search.busLocal.41173\" class=\"INACTIVE\">안양시 동안구</li><li id=\"search.busLocal.41171\" class=\"INACTIVE\">안양시 만안구</li><li id=\"search.busLocal.41630\" class=\"INACTIVE\">양주시</li><li id=\"search.busLocal.41830\" class=\"INACTIVE\">양평군</li><li id=\"search.busLocal.41670\" class=\"INACTIVE\">여주시</li><li id=\"search.busLocal.41800\" class=\"INACTIVE\">연천군</li><li id=\"search.busLocal.41370\" class=\"INACTIVE\">오산시</li><li id=\"search.busLocal.41460\" class=\"INACTIVE\">용인시</li><li id=\"search.busLocal.41463\" class=\"INACTIVE\">용인시 기흥구</li><li id=\"search.busLocal.41465\" class=\"INACTIVE\">용인시 수지구</li><li id=\"search.busLocal.41461\" class=\"INACTIVE\">용인시 처인구</li><li id=\"search.busLocal.41430\" class=\"INACTIVE\">의왕시</li><li id=\"search.busLocal.41150\" class=\"INACTIVE\">의정부시</li><li id=\"search.busLocal.41500\" class=\"INACTIVE\">이천시</li><li id=\"search.busLocal.41480\" class=\"INACTIVE\">파주시</li><li id=\"search.busLocal.41220\" class=\"INACTIVE\">평택시</li><li id=\"search.busLocal.41650\" class=\"INACTIVE\">포천시</li><li id=\"search.busLocal.41450\" class=\"INACTIVE\">하남시</li><li id=\"search.busLocal.41590\" class=\"INACTIVE\">화성시</li></ul><ul id=\"search.kangwonLocal\" class=\"BusSubLocal HIDDEN\"><li id=\"search.busLocal.42150\" class=\"INACTIVE\">강릉시</li><li id=\"search.busLocal.42820\" class=\"INACTIVE\">고성군</li><li id=\"search.busLocal.42170\" class=\"INACTIVE\">동해시</li><li id=\"search.busLocal.42230\" class=\"INACTIVE\">삼척시</li><li id=\"search.busLocal.42210\" class=\"INACTIVE\">속초시</li><li id=\"search.busLocal.42800\" class=\"INACTIVE\">양구군</li><li id=\"search.busLocal.42830\" class=\"INACTIVE\">양양군</li><li id=\"search.busLocal.42750\" class=\"INACTIVE\">영월군</li><li id=\"search.busLocal.42130\" class=\"INACTIVE\">원주시</li><li id=\"search.busLocal.42810\" class=\"INACTIVE\">인제군</li><li id=\"search.busLocal.42770\" class=\"INACTIVE\">정선군</li><li id=\"search.busLocal.42780\" class=\"INACTIVE\">철원군</li><li id=\"search.busLocal.42110\" class=\"INACTIVE\">춘천시</li><li id=\"search.busLocal.42190\" class=\"INACTIVE\">태백시</li><li id=\"search.busLocal.42760\" class=\"INACTIVE\">평창군</li><li id=\"search.busLocal.42720\" class=\"INACTIVE\">홍천군</li><li id=\"search.busLocal.42790\" class=\"INACTIVE\">화천군</li><li id=\"search.busLocal.42730\" class=\"INACTIVE\">횡성군</li></ul><ul id=\"search.chungbookLocal\" class=\"BusSubLocal HIDDEN\"><li id=\"search.busLocal.43760\" class=\"INACTIVE\">괴산군</li><li id=\"search.busLocal.43800\" class=\"INACTIVE\">단양군</li><li id=\"search.busLocal.43720\" class=\"INACTIVE\">보은군</li><li id=\"search.busLocal.43740\" class=\"INACTIVE\">영동군</li><li id=\"search.busLocal.43730\" class=\"INACTIVE\">옥천군</li><li id=\"search.busLocal.43770\" class=\"INACTIVE\">음성군</li><li id=\"search.busLocal.43150\" class=\"INACTIVE\">제천시</li><li id=\"search.busLocal.43745\" class=\"INACTIVE\">증평군</li><li id=\"search.busLocal.43750\" class=\"INACTIVE\">진천군</li><li id=\"search.busLocal.43110\" class=\"INACTIVE\">청주시</li><li id=\"search.busLocal.43111\" class=\"INACTIVE\">청주시 상당구</li><li id=\"search.busLocal.43112\" class=\"INACTIVE\">청주시 서원구</li><li id=\"search.busLocal.43114\" class=\"INACTIVE\">청주시 청원구</li><li id=\"search.busLocal.43113\" class=\"INACTIVE\">청주시 흥덕구</li><li id=\"search.busLocal.43130\" class=\"INACTIVE\">충주시</li></ul><ul id=\"search.chungnamLocal\" class=\"BusSubLocal HIDDEN\"><li id=\"search.busLocal.44250\" class=\"INACTIVE\">계룡시</li><li id=\"search.busLocal.44150\" class=\"INACTIVE\">공주시</li><li id=\"search.busLocal.44710\" class=\"INACTIVE\">금산군</li><li id=\"search.busLocal.44230\" class=\"INACTIVE\">논산시</li><li id=\"search.busLocal.44270\" class=\"INACTIVE\">당진시</li><li id=\"search.busLocal.44180\" class=\"INACTIVE\">보령시</li><li id=\"search.busLocal.44760\" class=\"INACTIVE\">부여군</li><li id=\"search.busLocal.44210\" class=\"INACTIVE\">서산시</li><li id=\"search.busLocal.44770\" class=\"INACTIVE\">서천군</li><li id=\"search.busLocal.44200\" class=\"INACTIVE\">아산시</li><li id=\"search.busLocal.44810\" class=\"INACTIVE\">예산군</li><li id=\"search.busLocal.44130\" class=\"INACTIVE\">천안시</li><li id=\"search.busLocal.44131\" class=\"INACTIVE\">천안시 동남구</li><li id=\"search.busLocal.44133\" class=\"INACTIVE\">천안시 서북구</li><li id=\"search.busLocal.44790\" class=\"INACTIVE\">청양군</li><li id=\"search.busLocal.44825\" class=\"INACTIVE\">태안군</li><li id=\"search.busLocal.44800\" class=\"INACTIVE\">홍성군</li></ul><ul id=\"search.jeonbukLocal\" class=\"BusSubLocal HIDDEN\"><li id=\"search.busLocal.45790\" class=\"INACTIVE\">고창군</li><li id=\"search.busLocal.45130\" class=\"INACTIVE\">군산시</li><li id=\"search.busLocal.45210\" class=\"INACTIVE\">김제시</li><li id=\"search.busLocal.45190\" class=\"INACTIVE\">남원시</li><li id=\"search.busLocal.45730\" class=\"INACTIVE\">무주군</li><li id=\"search.busLocal.45800\" class=\"INACTIVE\">부안군</li><li id=\"search.busLocal.45770\" class=\"INACTIVE\">순창군</li><li id=\"search.busLocal.45710\" class=\"INACTIVE\">완주군</li><li id=\"search.busLocal.45140\" class=\"INACTIVE\">익산시</li><li id=\"search.busLocal.45750\" class=\"INACTIVE\">임실군</li><li id=\"search.busLocal.45740\" class=\"INACTIVE\">장수군</li><li id=\"search.busLocal.45110\" class=\"INACTIVE\">전주시</li><li id=\"search.busLocal.45113\" class=\"INACTIVE\">전주시 덕진구</li><li id=\"search.busLocal.45111\" class=\"INACTIVE\">전주시 완산구</li><li id=\"search.busLocal.45180\" class=\"INACTIVE\">정읍시</li><li id=\"search.busLocal.45720\" class=\"INACTIVE\">진안군</li></ul><ul id=\"search.jeonnamLocal\" class=\"BusSubLocal HIDDEN\"><li id=\"search.busLocal.46810\" class=\"INACTIVE\">강진군</li><li id=\"search.busLocal.46770\" class=\"INACTIVE\">고흥군</li><li id=\"search.busLocal.46720\" class=\"INACTIVE\">곡성군</li><li id=\"search.busLocal.46230\" class=\"INACTIVE\">광양시</li><li id=\"search.busLocal.46730\" class=\"INACTIVE\">구례군</li><li id=\"search.busLocal.46170\" class=\"INACTIVE\">나주시</li><li id=\"search.busLocal.46710\" class=\"INACTIVE\">담양군</li><li id=\"search.busLocal.46110\" class=\"INACTIVE\">목포시</li><li id=\"search.busLocal.46840\" class=\"INACTIVE\">무안군</li><li id=\"search.busLocal.46780\" class=\"INACTIVE\">보성군</li><li id=\"search.busLocal.46150\" class=\"INACTIVE\">순천시</li><li id=\"search.busLocal.46910\" class=\"INACTIVE\">신안군</li><li id=\"search.busLocal.46130\" class=\"INACTIVE\">여수시</li><li id=\"search.busLocal.46870\" class=\"INACTIVE\">영광군</li><li id=\"search.busLocal.46830\" class=\"INACTIVE\">영암군</li><li id=\"search.busLocal.46890\" class=\"INACTIVE\">완도군</li><li id=\"search.busLocal.46880\" class=\"INACTIVE\">장성군</li><li id=\"search.busLocal.46800\" class=\"INACTIVE\">장흥군</li><li id=\"search.busLocal.46900\" class=\"INACTIVE\">진도군</li><li id=\"search.busLocal.46860\" class=\"INACTIVE\">함평군</li><li id=\"search.busLocal.46820\" class=\"INACTIVE\">해남군</li><li id=\"search.busLocal.46790\" class=\"INACTIVE\">화순군</li></ul><ul id=\"search.kyungbookLocal\" class=\"BusSubLocal HIDDEN\"><li id=\"search.busLocal.47290\" class=\"INACTIVE\">경산시</li><li id=\"search.busLocal.47130\" class=\"INACTIVE\">경주시</li><li id=\"search.busLocal.47830\" class=\"INACTIVE\">고령군</li><li id=\"search.busLocal.47190\" class=\"INACTIVE\">구미시</li><li id=\"search.busLocal.47720\" class=\"INACTIVE\">군위군</li><li id=\"search.busLocal.47150\" class=\"INACTIVE\">김천시</li><li id=\"search.busLocal.47280\" class=\"INACTIVE\">문경시</li><li id=\"search.busLocal.47920\" class=\"INACTIVE\">봉화군</li><li id=\"search.busLocal.47250\" class=\"INACTIVE\">상주시</li><li id=\"search.busLocal.47840\" class=\"INACTIVE\">성주군</li><li id=\"search.busLocal.47170\" class=\"INACTIVE\">안동시</li><li id=\"search.busLocal.47770\" class=\"INACTIVE\">영덕군</li><li id=\"search.busLocal.47760\" class=\"INACTIVE\">영양군</li><li id=\"search.busLocal.47210\" class=\"INACTIVE\">영주시</li><li id=\"search.busLocal.47230\" class=\"INACTIVE\">영천시</li><li id=\"search.busLocal.47900\" class=\"INACTIVE\">예천군</li><li id=\"search.busLocal.47940\" class=\"INACTIVE\">울릉군</li><li id=\"search.busLocal.47930\" class=\"INACTIVE\">울진군</li><li id=\"search.busLocal.47730\" class=\"INACTIVE\">의성군</li><li id=\"search.busLocal.47820\" class=\"INACTIVE\">청도군</li><li id=\"search.busLocal.47750\" class=\"INACTIVE\">청송군</li><li id=\"search.busLocal.47850\" class=\"INACTIVE\">칠곡군</li><li id=\"search.busLocal.47110\" class=\"INACTIVE\">포항시</li><li id=\"search.busLocal.47111\" class=\"INACTIVE\">포항시 남구</li><li id=\"search.busLocal.47113\" class=\"INACTIVE\">포항시 북구</li></ul><ul id=\"search.kyungnamLocal\" class=\"BusSubLocal HIDDEN\"><li id=\"search.busLocal.48310\" class=\"INACTIVE\">거제시</li><li id=\"search.busLocal.48880\" class=\"INACTIVE\">거창군</li><li id=\"search.busLocal.48820\" class=\"INACTIVE\">고성군</li><li id=\"search.busLocal.48250\" class=\"INACTIVE\">김해시</li><li id=\"search.busLocal.48840\" class=\"INACTIVE\">남해군</li><li id=\"search.busLocal.48270\" class=\"INACTIVE\">밀양시</li><li id=\"search.busLocal.48240\" class=\"INACTIVE\">사천시</li><li id=\"search.busLocal.48860\" class=\"INACTIVE\">산청군</li><li id=\"search.busLocal.48330\" class=\"INACTIVE\">양산시</li><li id=\"search.busLocal.48720\" class=\"INACTIVE\">의령군</li><li id=\"search.busLocal.48170\" class=\"INACTIVE\">진주시</li><li id=\"search.busLocal.48740\" class=\"INACTIVE\">창녕군</li><li id=\"search.busLocal.48120\" class=\"INACTIVE\">창원시</li><li id=\"search.busLocal.48125\" class=\"INACTIVE\">창원시 마산합포구</li><li id=\"search.busLocal.48127\" class=\"INACTIVE\">창원시 마산회원구</li><li id=\"search.busLocal.48123\" class=\"INACTIVE\">창원시 성산구</li><li id=\"search.busLocal.48121\" class=\"INACTIVE\">창원시 의창구</li><li id=\"search.busLocal.48129\" class=\"INACTIVE\">창원시 진해구</li><li id=\"search.busLocal.48220\" class=\"INACTIVE\">통영시</li><li id=\"search.busLocal.48850\" class=\"INACTIVE\">하동군</li><li id=\"search.busLocal.48730\" class=\"INACTIVE\">함안군</li><li id=\"search.busLocal.48870\" class=\"INACTIVE\">함양군</li><li id=\"search.busLocal.48890\" class=\"INACTIVE\">합천군</li></ul><ul id=\"search.jejuLocal\" class=\"BusSubLocal HIDDEN\"><li id=\"search.busLocal.50130\" class=\"INACTIVE\">서귀포시</li><li id=\"search.busLocal.50110\" class=\"INACTIVE\">제주시</li></ul></div>\\n            </div>\\n\\t\\t</div>\\n\\n\\t\\t<div id=\"info.busIntro\" class=\"Howto\">\\n\\t\\t<strong class=\"tit_intro\">지금, 딱!<br>내가 탈 버스가 어디있는지</strong>\\n\\t\\t<p class=\"desc_intro\">노선 정보는 물론, 실시간으로<br>버스 도착정보와 위치를 확인하세요.</p>\\n\\t\\t<a href=\"http://kakaomap.tistory.com/219\" class=\"link_intro\" target=\"_blank\">서비스 제공지역 안내</a>\\n\\t</div>\\n\\n\\t<div id=\"info.bus.search\" class=\"BusResult HIDDEN\">\\n\\t\\t<div id=\"info.bus.message\" class=\"busMessage\">\\n\\t\\t\\t<div id=\"info.bus.guide\" class=\"guide\"><div class=\"BusMessageView\">\\n\\t<div data-id=\"current\" class=\"line\">\\n\\t\\t<p data-id=\"currenttext\" class=\"desc_search\"></p>\\n\\t\\t<div data-id=\"currentupperparagraph\" class=\"paragraph \">\\n            <div data-id=\"currentupperwrap\" class=\"wrap\">\\n                <strong class=\"screen_out\">동명지역 선택상자</strong>\\n                <em class=\"screen_out\">선택내용 :</em>\\n                <a data-id=\"currentupperlabel\" class=\"label\"></a>\\n                <em class=\"screen_out\">선택옵션</em>\\n            </div>\\n\\t\\t\\t<p data-id=\"currentuppertext\" class=\"desc_search text\"></p>\\n\\t\\t</div>\\n\\t\\t<div data-id=\"currentlowerparagraph\" class=\"paragraph \">\\n\\t\\t\\t<div data-id=\"currentlowerwrap\">\\n\\t\\t\\t\\t<a data-id=\"currentlowerlabel\" class=\"label\"></a>\\n\\t\\t\\t</div>\\n\\t\\t\\t<p data-id=\"currentlowertext\" class=\"desc_search text\"></p>\\n\\t\\t</div>\\n\\t</div>\\n\\t<div data-id=\"next\" class=\"line\">\\n\\t\\t<a href=\"#none\" data-id=\"nexttext\" class=\"link_search\"></a>\\n\\t\\t<div data-id=\"nextupperparagraph\" class=\"paragraph \">\\n            <div data-id=\"nextupperwrap\">\\n                <strong class=\"screen_out\">동명지역 선택상자</strong>\\n                <em class=\"screen_out\">선택내용 :</em>\\n                <a data-id=\"nextupperlabel\" class=\"label\"></a>\\n                <em class=\"screen_out\">선택옵션</em>\\n            </div>\\n\\t\\t\\t<p data-id=\"nextuppertext\" class=\"desc_search text\"></p>\\n\\t\\t</div>\\n\\t\\t<div data-id=\"nextlowerparagraph\" class=\"paragraph \">\\n\\t\\t\\t<div data-id=\"nextlowerwrap\">\\n\\t\\t\\t\\t<a data-id=\"nextlowerlabel\" class=\"label\"></a>\\n\\t\\t\\t</div>\\n\\t\\t\\t<p data-id=\"nextlowertext\" class=\"desc_search text\"></p>\\n\\t\\t</div>\\n\\t</div>\\n</div></div>\\n\\t\\t</div>\\n        <div id=\"info.bus.title\" class=\"busTitle\">\\n            <h3 class=\"title\">검색결과</h3>\\n            <span id=\"info.bus.count\" class=\"cntwrap\"></span>\\n            <div id=\"info.bus.filter\" class=\"filter\"></div>\\n        </div>\\n\\t    <ul id=\"info.bus.list\" class=\"list\"></ul>\\n\\t    <div id=\"info.bus.page\" class=\"pages HIDDEN\">\\n\\t    \\t<div class=\"pageWrap\">\\n                <button type=\"button\" id=\"info.bus.page.prev\" class=\"prev disabled\">이전</button>\\n\\t\\t        <a id=\"info.bus.page.no1\" class=\"INACTIVE\" href=\"#\">1</a>\\n\\t\\t        <a id=\"info.bus.page.no2\" class=\"INACTIVE\" href=\"#\">2</a>\\n\\t\\t        <a id=\"info.bus.page.no3\" class=\"INACTIVE\" href=\"#\">3</a>\\n\\t\\t        <a id=\"info.bus.page.no4\" class=\"INACTIVE\" href=\"#\">4</a>\\n\\t\\t        <a id=\"info.bus.page.no5\" class=\"INACTIVE\" href=\"#\">5</a>\\n                <button type=\"button\" id=\"info.bus.page.next\" class=\"next\">다음</button>\\n\\t\\t    </div>\\n\\t    </div>\\n\\t\\t<div id=\"info.noBus\" class=\"info_nobus HIDDEN\"><div class=\"NoBusView\">\\n    <h4 class=\"noKeyword\">\\n        <!-- <img src=\"//t1.daumcdn.net/localimg/localimages/07/2013/img/new_nodata_icon.png\" width=\"14\" height=\"14\"> 2018-12-11_v2 삭제 -->\\n        <!-- <span data-id=\"titleInfo\"> 해당 버스번호의 검색결과가 없습니다. </span> --> 검색 결과가 없어요.\\n    </h4><!-- 2018-12-11_v2 수정 : 1. 불필요한 요소(span.textColor, span[data-id=titleInfo]) 제거 2. 텍스트 수정 3. 클래스 추가(.noKeyword)--><!-- 2018-12-18 수정 : 태그변경(h5~>h4) -->\\n    <div class=\"noRouteDesc\" data-id=\"noRouteDesc\"></div>\\n</div><div class=\"NoBusView\">\\n    <h4 class=\"noKeyword\">\\n        <!-- <img src=\"//t1.daumcdn.net/localimg/localimages/07/2013/img/new_nodata_icon.png\" width=\"14\" height=\"14\"> 2018-12-11_v2 삭제 -->\\n        <!-- <span data-id=\"titleInfo\"> 해당 버스번호의 검색결과가 없습니다. </span> --> 검색 결과가 없어요.\\n    </h4><!-- 2018-12-11_v2 수정 : 1. 불필요한 요소(span.textColor, span[data-id=titleInfo]) 제거 2. 텍스트 수정 3. 클래스 추가(.noKeyword)--><!-- 2018-12-18 수정 : 태그변경(h5~>h4) -->\\n    <div class=\"noRouteDesc\" data-id=\"noRouteDesc\"></div>\\n</div></div>\\n\\t</div>\\n\\n</div>\\n\\t\\t<div id=\"info.subway\" class=\"SubwayRouteSearch HIDDEN WHITEOUT\">\\n\\t\\t<h2 class=\"screen_out\">지하철 검색</h2>\\n\\t<div class=\"SubwayRegion WHITEOUT\">\\n\\t\\t<ul id=\"info.subway.region\">\\n\\t\\t<li class=\"seoul seoul-INACTIVE seoul-ACTIVE\"><a href=\"#\">수도권</a></li><li class=\"busan busan-INACTIVE\"><a href=\"#\">부산</a></li><li class=\"daegu daegu-INACTIVE\"><a href=\"#\">대구</a></li><li class=\"gwangju gwangju-INACTIVE\"><a href=\"#\">광주</a></li><li class=\"daejeon daejeon-INACTIVE\"><a href=\"#\">대전</a></li></ul>\\n        <a href=\"#none\" id=\"info.subway.remove\" class=\"remove\" title=\"모두 지우기\">모두 지우기</a>\\n\\t</div>\\n\\n\\t    <div id=\"info.subway.searchBox\" class=\"SubwayRouteSearchBox HIDDEN WHITEOUT\">\\n    \\t<div class=\"origindestBox\">\\n\\t\\t\\t<div id=\"info.subway.searchBox.originBox\" class=\"box\">\\n\\t\\t\\t\\t<form id=\"info.subway.searchBox.originForm\" class=\"form\">\\n\\t\\t\\t\\t\\t<input id=\"info.subway.searchBox.origin\" class=\"q\" type=\"text\" value=\"\">\\n\\t\\t\\t\\t\\t<label for=\"info.subway.searchBox.origin\"><span class=\"holderText op\">출발역</span></label>\\n\\t\\t\\t\\t\\t<input class=\"submit\" type=\"submit\" value=\"\">\\n\\t\\t\\t\\t\\t<a href=\"#\" id=\"info.subway.searchBox.originDelete\" class=\"delete dl HIDDEN\" title=\"출발역지우기\">출발역지우기</a>\\n\\t\\t\\t\\t</form>\\n\\t\\t\\t<blockquote id=\"info.subway.searchBox.originSuggest\" class=\"SubwayOriginSuggest\"><div class=\"suggestBox box_sub\" style=\"display: none;\"><div class=\"baseBox bg\"><div class=\"list\"><ul class=\"suggest_list_target\"></ul></div></div><div class=\"favorite_find HIDDEN\"></div><div class=\"search_recent recent_none\">\\n    <em class=\"tit_recent\">히스토리가 없어요.</em>\\n    <ul data-id=\"wrap\" class=\"list_recent\"></ul>\\n    <div class=\"favorite_recent\">\\n        <button data-id=\"disabled\" type=\"button\" class=\"btn_recentoff\">히스토리 끄기</button>\\n        <button data-id=\"clear\" type=\"button\" class=\"btn_deleteall HIDDEN\">전체삭제</button>\\n    </div>\\n</div></div></blockquote>\\n\\t\\t\\t</div>\\n\\t        <a href=\"#\" class=\"to\" id=\"info.subway.searchBox.to\" title=\"출발/도착 순서 바꾸기\">출발/도착 순서 바꾸기</a>\\n\\t\\t\\t<div id=\"info.subway.searchBox.destBox\" class=\"box dest\">\\n\\t\\t\\t\\t<form id=\"info.subway.searchBox.destForm\" class=\"form\">\\n\\t\\t\\t\\t\\t<input id=\"info.subway.searchBox.dest\" class=\"q\" type=\"text\" value=\"\">\\n\\t\\t\\t\\t\\t<label for=\"info.subway.searchBox.dest\"><span class=\"holderText dp\">도착역</span></label>\\n\\t\\t\\t\\t\\t<input class=\"submit\" type=\"submit\" value=\"\">\\n\\t\\t\\t\\t\\t<a href=\"#\" id=\"info.subway.searchBox.destDelete\" class=\"delete dr HIDDEN\" title=\"도착역지우기\">도착역지우기</a>\\n\\t\\t\\t\\t</form>\\n\\t\\t\\t<blockquote id=\"info.subway.searchBox.destSuggest\" class=\"SubwayDestSuggest\"><div class=\"suggestBox box_sub\" style=\"display: none;\"><div class=\"baseBox bg\"><div class=\"list\"><ul class=\"suggest_list_target\"></ul></div></div><div class=\"favorite_find HIDDEN\"></div><div class=\"search_recent recent_none\">\\n    <em class=\"tit_recent\">히스토리가 없어요.</em>\\n    <ul data-id=\"wrap\" class=\"list_recent\"></ul>\\n    <div class=\"favorite_recent\">\\n        <button data-id=\"disabled\" type=\"button\" class=\"btn_recentoff\">히스토리 끄기</button>\\n        <button data-id=\"clear\" type=\"button\" class=\"btn_deleteall HIDDEN\">전체삭제</button>\\n    </div>\\n</div></div></blockquote>\\n\\t\\t\\t</div>\\n\\t\\t</div>\\n\\t\\t<div class=\"options\">\\n\\t\\t\\t<a href=\"#\" id=\"info.subway.searchBox.optionBox\" class=\"optionBox\" title=\"옵션설정\">\\n\\t\\t\\t\\t<span class=\"text\">출발시간</span>\\n\\t\\t\\t\\t<span class=\"arrow\"></span>\\n\\t\\t\\t</a>\\n\\t\\t\\t<a href=\"#\" id=\"info.subway.searchBox.dayBox\" class=\"optionBox day\" title=\"요일설정\">\\n\\t\\t\\t\\t<span class=\"text\">평일</span>\\n\\t\\t\\t\\t<span class=\"arrow\"></span>\\n\\t\\t\\t</a>\\n\\t\\t\\t<a href=\"#\" id=\"info.subway.searchBox.hourBox\" class=\"optionBox hour\" title=\"시간설정\">\\n\\t\\t\\t\\t<span class=\"text\">시</span>\\n\\t\\t\\t\\t<span class=\"arrow\"></span>\\n\\t\\t\\t</a>\\n\\t\\t\\t<a href=\"#\" id=\"info.subway.searchBox.minuteBox\" class=\"optionBox minute\" title=\"시간설정\">\\n\\t\\t\\t\\t<span class=\"text\">분</span>\\n\\t\\t\\t\\t<span class=\"arrow\"></span>\\n\\t\\t\\t</a>\\n\\t\\t\\t<ul id=\"info.subway.searchBox.listBox\" class=\"listBox HIDDEN\"></ul>\\n\\t\\t</div>\\n\\t\\t<div class=\"submitBox\">\\n\\t\\t\\t<span id=\"info.subway.searchBox.submit\" class=\"go\">검색</span>\\n\\t\\t</div>\\n\\t\\t<div class=\"resultBox HIDDEN\" id=\"info.subway.searchBox.resultBox\">\\n\\t\\t\\t\\t\\t\\t<strong class=\"tit_result\">총 2건의 검색결과</strong>\\n\\t\\t\\t\\t\\t\\t<a href=\"#none\" class=\"endCheck\"><span class=\"icon\"></span>막차보기</a>\\n\\t\\t</div>\\n\\t</div>\\n        <div id=\"info.subway.history\">\\n    </div>\\n\\t    <div id=\"info.subway.intro\" class=\"Howto\"><strong class=\"tit_intro\">호선도 중요하지만,<br>시간이 더 중요하니까</strong><p class=\"desc_intro\">언제 출발해야 하는지부터<br>몇분에 도착할지까지, 한 눈에 확인하세요.</p></div>\\n        <div id=\"info.subwayInfo\" class=\"subwayInfo HIDDEN\">\\n    \\t<div class=\"SubwayRouteResultView\">\\n\\t\\t\\t<h3 class=\"screen_out\">지하철 경로</h3>\\n            <p class=\"firstTrainInfo HIDDEN\"></p>\\n    \\t\\t<ul class=\"list\"></ul>\\n    \\t</div>\\n\\t</div>\\n</div>\\n\\t\\t<div id=\"info.my\" class=\"FavoriteListView HIDDEN\">\\n    <h2 class=\"screen_out\">MY</h2>\\n    <div data-id=\"tab\" class=\"FavoriteMethodType HIDDEN\">\\n        <ul>\\n            <li id=\"my.subtab.favorite\" class=\"ACTIVE\"><a href=\"#none\">즐겨찾기</a></li>\\n            <li id=\"my.subtab.static\" class=\"INACTIVE\"><a href=\"#none\">집∙회사</a></li>\\n            <li id=\"my.subtab.review\" class=\"INACTIVE\"><a href=\"#none\">후기</a></li>\\n        </ul>\\n    </div>\\n\\n    <div class=\"favorite_interlock HIDDEN\">\\n        <div id=\"my.favorite\" class=\"favorite_result\">\\n            <h3 class=\"screen_out\">즐겨찾기</h3>\\n            <div class=\"favorite_directory\">\\n                <div data-id=\"header\"></div>\\n                <div data-id=\"list\" class=\"FavoriteBodyList\">\\n                    <div data-id=\"banner\" class=\"FavoriteBookmarkLink HIDDEN\">\\n                        <a href=\"#none\" class=\"link_bookmark\" data-id=\"bannerContent\"></a>\\n                        <button data-id=\"bannerClose\" type=\"button\" class=\"ico_mypage bt_close\">닫기</button>\\n                    </div>\\n                    <div class=\"box_notice HIDDEN\" data-id=\"boxNotice\"><span class=\"ico_mypage ico_noti\"></span>즐겨찾기는 500개까지 추가할 수 있습니다.</div>\\n                    <ul class=\"list_detail\"></ul>\\n                    <div id=\"info.my.favorite.page\" data-id=\"pagination\" class=\"pages HIDDEN\">\\n                        <div class=\"pageWrap\">\\n                            <button type=\"button\" id=\"info.my.favorite.page.prev\" class=\"prev disabled\">이전</button>\\n                            <a id=\"info.my.favorite.page.no1\" class=\"INACTIVE\" href=\"#\">1</a>\\n                            <a id=\"info.my.favorite.page.no2\" class=\"INACTIVE\" href=\"#\">2</a>\\n                            <a id=\"info.my.favorite.page.no3\" class=\"INACTIVE\" href=\"#\">3</a>\\n                            <a id=\"info.my.favorite.page.no4\" class=\"INACTIVE\" href=\"#\">4</a>\\n                            <a id=\"info.my.favorite.page.no5\" class=\"INACTIVE\" href=\"#\">5</a>\\n                            <button type=\"button\" id=\"info.my.favorite.page.next\" class=\"next\">다음</button>\\n                        </div>\\n                    </div>\\n                </div>\\n            </div>\\n        </div>\\n\\n        <div id=\"my.static\" class=\"favorite_homecorp HIDDEN\">\\n            <h3 class=\"screen_out\">집회사</h3>\\n            <ul data-id=\"staticList\"><li class=\"FavoriteDirectoryItem\">\\n    <div class=\"FavoriteInformationBundle\">\\n        <span class=\"ico_homecorp home\"></span><!-- 아이콘 모양 변경시 클래스 추가 요청 -->\\n        <div class=\"info_directory\">\\n            <div class=\"tit_directory\">\\n                <strong data-id=\"link\" class=\"txt_directory\"><a href=\"#none\" class=\"link_txt\">집</a></strong>\\n            </div>\\n            <div class=\"desc_directory\">\\n                <p data-id=\"name\">주소를 등록하면 길찾기가 쉬워집니다.</p>\\n            </div>\\n        </div>\\n        <button type=\"button\" data-id=\"more\" class=\"btn_more\"><span class=\"ico_mypage ico_more\">더보기</span></button>\\n        <!--\\n        <div class=\"box_btnmore\" data-id=\"options\">\\n            <a href=\"#\" data-id=\"regist\" class=\"link_favoradd\">등록</a>\\n            <a href=\"#\" data-id=\"remove\" class=\"link_favoradd HIDDEN\">삭제</a>\\n        </div>\\n        -->\\n    </div>\\n    <div data-id=\"setting\" class=\"FavoriteSettingLayer HIDDEN\">\\n        <ul class=\"list_opt\">\\n            <li data-id=\"regist\"><a href=\"#none\">등록</a></li>\\n            <li data-id=\"remove\" class=\"HIDDEN\"><a href=\"#none\">삭제</a></li>\\n        </ul>\\n    </div>\\n</li><li class=\"FavoriteDirectoryItem\">\\n    <div class=\"FavoriteInformationBundle\">\\n        <span class=\"ico_homecorp company\"></span><!-- 아이콘 모양 변경시 클래스 추가 요청 -->\\n        <div class=\"info_directory\">\\n            <div class=\"tit_directory\">\\n                <strong data-id=\"link\" class=\"txt_directory\"><a href=\"#none\" class=\"link_txt\">회사</a></strong>\\n            </div>\\n            <div class=\"desc_directory\">\\n                <p data-id=\"name\">주소를 등록하면 길찾기가 쉬워집니다.</p>\\n            </div>\\n        </div>\\n        <button type=\"button\" data-id=\"more\" class=\"btn_more\"><span class=\"ico_mypage ico_more\">더보기</span></button>\\n        <!--\\n        <div class=\"box_btnmore\" data-id=\"options\">\\n            <a href=\"#\" data-id=\"regist\" class=\"link_favoradd\">등록</a>\\n            <a href=\"#\" data-id=\"remove\" class=\"link_favoradd HIDDEN\">삭제</a>\\n        </div>\\n        -->\\n    </div>\\n    <div data-id=\"setting\" class=\"FavoriteSettingLayer HIDDEN\">\\n        <ul class=\"list_opt\">\\n            <li data-id=\"regist\"><a href=\"#none\">등록</a></li>\\n            <li data-id=\"remove\" class=\"HIDDEN\"><a href=\"#none\">삭제</a></li>\\n        </ul>\\n    </div>\\n</li></ul>\\n        </div>\\n\\n        <div id=\"my.review\" class=\"favorite_evaluation HIDDEN\">\\n            <h3 class=\"screen_out\">후기</h3>\\n            <div data-id=\"reviewHeader\">\\n                <div data-id=\"reviewEmptyPage\" class=\"FavoriteEmptyPage HIDDEN\">\\n                    <p class=\"desc_empty\">후기가 없습니다.</p>\\n                </div>\\n                <div data-id=\"filteredReviewEmptyPage\" class=\"FavoriteEmptyPage empty_type2 HIDDEN\">\\n                    <p class=\"desc_empty\">후기가 없습니다.</p>\\n                    <p class=\"desc_sub\"> 적용한 필터에 해당하는 후기가 없습니다.<br>필터 조건을 변경해 주세요. </p>\\n                </div>\\n                <div data-id=\"reviewFilters\" class=\"info_result\">\\n                                    </div>\\n            </div>\\n            <div data-id=\"reviewList\" class=\"FavoriteBodyList\">\\n                <ul></ul>\\n            </div>\\n            <div id=\"my.review.page\" class=\"pages HIDDEN\">\\n                <div class=\"pageWrap\">\\n                    <button type=\"button\" id=\"my.review.page.prev\" class=\"prev disabled\">이전</button>\\n                    <a id=\"my.review.page.no1\" class=\"ACTIVE\" href=\"#\">1</a>\\n                    <a id=\"my.review.page.no2\" class=\"INACTIVE\" href=\"#\">2</a>\\n                    <a id=\"my.review.page.no3\" class=\"INACTIVE\" href=\"#\">3</a>\\n                    <a id=\"my.review.page.no4\" class=\"INACTIVE\" href=\"#\">4</a>\\n                    <a id=\"my.review.page.no5\" class=\"INACTIVE\" href=\"#\">5</a>\\n                    <button type=\"button\" id=\"my.review.page.next\" class=\"next\">다음</button>\\n                </div>\\n            </div>\\n        </div>\\n    </div>\\n    <div id=\"info.my.intro\" class=\"Howto JOIN HIDDEN\">\\n        <strong class=\"tit_intro\">자주 가는 장소는<br>등록해서 사용해요</strong>\\n        <p class=\"desc_intro\">집이나 회사 등 자주 가는 장소는 즐겨찾기로 등록하여<br>언제 어디서나 쉽고 빠르게 확인하세요.</p>\\n        <a href=\"#none\" class=\"link_my\"> 로그인</a>\\n    </div>\\n</div>\\n\\n\\t\\t<div id=\"info.issue\" class=\"section\" style=\"display:none\">\\n\\t\\t\\t<div id=\"info.issue.place\">\\n\\t\\t\\t\\t<h5>폭우 피해지도 <span id=\"info.issue.place.issueCnt\"></span>건</h5>\\n\\t\\t\\t\\t<ul id=\"info.issue.place.list\"></ul>\\n\\t\\t\\t\\t<a id=\"info.issue.place.more\" class=\"more\" href=\"#\">장소 더보기(<strong id=\"info.issue.place.more.count\">0</strong>)</a>\\n\\t\\t\\t</div>\\n\\t\\t</div>\\n\\n\\t\\t<div id=\"info.thememap\" class=\"thememap section HIDDEN\">\\n\\t\\t\\t<div id=\"info.thememap.theme\" class=\"themeMapView HIDDEN\">\\n\\t\\t\\t\\t<div class=\"sectiontitle\">\\n\\t\\t\\t\\t\\t<h5 class=\"themetit\">테마</h5>\\n\\t\\t\\t\\t\\t<span class=\"cntwrap\">(<em id=\"info.thememap.theme.cnt\" class=\"cnt\">0</em>건)</span>\\n\\t\\t\\t\\t\\t<ol id=\"info.thememap.theme.sort\" class=\"Sort\">\\n\\t\\t\\t\\t\\t\\t<li class=\"first\"><a href=\"#\" class=\"recent ACTIVE\">최신순</a></li>\\n\\t\\t\\t\\t\\t\\t<li><a href=\"#\" class=\"rank INACTIVE\">인기순</a></li>\\n\\t\\t\\t\\t\\t</ol>\\n\\t\\t\\t\\t</div>\\n\\t\\t\\t\\t<ul id=\"info.thememap.theme.recommend\" class=\"themeRecommend\"><li class=\"recomTheme HIDDEN\"><div class=\"imgWrap\"><span class=\"imgStroke\"></span><img src=\"//t1.daumcdn.net/thumb/C75x75/?fname=http://cfile237.uf.daum.net/image/1910CC44514A74EB1B2034\" width=\"131\" height=\"118\"></div><a href=\"#\" class=\"recomTitle\">모두의 야식, 치킨지도</a><span class=\"recomCount\">전국 <strong>65</strong>곳</span></li><li class=\"recomTheme\"><div class=\"imgWrap\"><span class=\"imgStroke\"></span><img src=\"//t1.daumcdn.net/thumb/C75x75/?fname=http://cfile217.uf.daum.net/image/1578874E4F9788871738D3\" width=\"131\" height=\"118\"></div><a href=\"#\" class=\"recomTitle\">작지만 자랑하고 싶은 우리동네 빵집</a><span class=\"recomCount\">전국 <strong>41</strong>곳</span></li><li class=\"recomTheme\"><div class=\"imgWrap\"><span class=\"imgStroke\"></span><img src=\"//t1.daumcdn.net/thumb/C75x75/?fname=http://cfile217.uf.daum.net/image/17775E4A4F4CE88F279E7B\" width=\"131\" height=\"118\"></div><a href=\"#\" class=\"recomTitle\">달콤한 밤을 위한 재즈클럽</a><span class=\"recomCount\">전국 <strong>9</strong>곳</span></li></ul>\\n\\t\\t\\t\\t<ul id=\"info.thememap.theme.list\" class=\"themeList\"></ul>\\n\\t\\t\\t</div>\\n\\t\\t\\t<div id=\"info.thememap.placeview\" class=\"themeMapPlaceView HIDDEN\">\\n\\t\\t\\t\\t<div class=\"title\">\\n\\t\\t\\t\\t\\t<a href=\"#\" class=\"share\">공유하기</a>\\n\\t\\t\\t\\t\\t<span></span>\\n\\t\\t\\t\\t</div>\\n\\t\\t\\t\\t<div class=\"sectiontitle\">\\n\\t\\t\\t\\t\\t<h5 class=\"placetit\">장소</h5>\\n\\t\\t\\t\\t\\t<span class=\"cntwrap\">(<em id=\"info.thememap.place.cnt\" class=\"cnt\">0</em>건)</span>\\n\\t\\t\\t\\t\\t<a href=\"#\" class=\"themeMore\">전체 테마 보기</a>\\n\\t\\t\\t\\t</div>\\n\\t\\t\\t\\t<ul id=\"info.thememap.place.list\" class=\"themePlaceList\"></ul>\\n\\t\\t\\t\\t<div class=\"sectiontitle bottomtitle\">\\n\\t\\t\\t\\t\\t<h5 class=\"themeplacetit\">추천 테마지도</h5>\\n\\t\\t\\t\\t\\t<span class=\"cntwrap\">(<em id=\"info.thememap.placetheme.cnt\" class=\"cnt\">0</em>건)</span>\\n\\t\\t\\t\\t\\t<a href=\"#\" class=\"themeMore\">전체 테마 보기</a>\\n\\t\\t\\t\\t</div>\\n\\t\\t\\t\\t<ul id=\"info.thememap.recommend.list\" class=\"themeRecommendList\"><li class=\"recomTheme HIDDEN\"><div class=\"imgWrap\"><span class=\"imgStroke\"></span><img src=\"//t1.daumcdn.net/thumb/C75x75/?fname=http://cfile237.uf.daum.net/image/1910CC44514A74EB1B2034\" width=\"131\" height=\"118\"></div><a href=\"#\" class=\"recomTitle\">모두의 야식, 치킨지도</a><span class=\"recomCount\">전국 <strong>65</strong>곳</span></li><li class=\"recomTheme\"><div class=\"imgWrap\"><span class=\"imgStroke\"></span><img src=\"//t1.daumcdn.net/thumb/C75x75/?fname=http://cfile217.uf.daum.net/image/1578874E4F9788871738D3\" width=\"131\" height=\"118\"></div><a href=\"#\" class=\"recomTitle\">작지만 자랑하고 싶은 우리동네 빵집</a><span class=\"recomCount\">전국 <strong>41</strong>곳</span></li><li class=\"recomTheme\"><div class=\"imgWrap\"><span class=\"imgStroke\"></span><img src=\"//t1.daumcdn.net/thumb/C75x75/?fname=http://cfile217.uf.daum.net/image/17775E4A4F4CE88F279E7B\" width=\"131\" height=\"118\"></div><a href=\"#\" class=\"recomTitle\">달콤한 밤을 위한 재즈클럽</a><span class=\"recomCount\">전국 <strong>9</strong>곳</span></li></ul>\\n\\t\\t\\t</div>\\n\\t\\t</div>\\n\\t</div>\\n        \\n    <div id=\"info.notice\" class=\"notice HIDDEN\">\\n        <h2 class=\"screen_out\">공지사항</h2>\\n        <div class=\"noticeList\">\\n            <ul style=\"top: 0px;\">\\n                                    \\n                                    \\n                                    \\n                            <li id=\"info.main.notice.text3\">\\n                        <span class=\"ico_notice\">공지</span>\\n                        <a href=\"https://kakaomap.tistory.com/365\" target=\"_blank\">자전거 내비게이션 신규 업데이트 안내</a>\\n                    </li><li id=\"info.main.notice.text1\">\\n                        <span class=\"ico_notice\">공지</span>\\n                        <a href=\"https://kakaomap.tistory.com/367\" target=\"_blank\">카카오맵 워치(Wear OS) 서비스 오픈</a>\\n                    </li><li id=\"info.main.notice.text2\">\\n                        <span class=\"ico_notice\">공지</span>\\n                        <a href=\"https://kakaomap.tistory.com/366\" target=\"_blank\">톡친구 위치공유 시즌2 업데이트 안내</a>\\n                    </li></ul>\\n            <a id=\"info.main.notice.more\" href=\"http://kakaomap.tistory.com\" target=\"_blank\" class=\"link_more\">더보기</a>\\n        </div>\\n    </div>\\n        <div id=\"info.my.footer\" class=\"FavoriteFunctionToolBar HIDDEN\"></div>\\n\\n\\t<div id=\"info.footer\" class=\"footer\"><div class=\"WalkFunctionToolBarView HIDDEN\">\\n\\t<a href=\"#none\" data-id=\"print\" class=\"print\">경로인쇄</a>\\n\\t<a href=\"#none\" data-id=\"alook\" class=\"alook\">경로 한눈에</a>\\n\\t<a href=\"#none\" data-id=\"favorite\" class=\"favorite\">\\n        <span class=\"ico_fav\">\\n            <span class=\"num\">0</span>\\n        </span>\\n        즐겨찾기\\n    </a>\\n</div><div class=\"BikeFunctionToolBarView HIDDEN\">\\n\\t<a href=\"#none\" data-id=\"print\" class=\"print\">경로인쇄</a>\\n\\t<a href=\"#none\" data-id=\"alook\" class=\"alook\">경로 한눈에</a>\\n    <a href=\"#none\" data-id=\"favorite\" class=\"favorite\">\\n        <span class=\"ico_fav\">\\n            <span class=\"num\">0</span>\\n        </span>\\n        즐겨찾기\\n    </a>\\n</div></div>\\n\\t<div id=\"footer\" class=\"Footer\">\\n    <a class=\"xa\" target=\"_blank\" href=\"https://cs.kakao.com/helps?locale=ko&amp;service=101\">고객센터</a>\\n    <span>|</span>\\n    <a class=\"xc\" href=\"#none\" data-pos=\"footer\" data-channel=\"SEARCH_BOTTOM_NEWPLACE\">신규 장소 등록</a>\\n</div>\\n</div>\\n\\n<script type=\"text/javascript\">try {\\ndocument.getElementById(\\'info.body\\').style.height =\\n\\tdocument.documentElement.clientHeight - 121 + \\'px\\';\\n} catch(e) {}\\n</script>\\n\\n<div id=\"shadow\" class=\"Shadow\" style=\"height: 718px;\">\\n\\t<div class=\"bar\"></div>\\n\\t<span id=\"shadow.toggle\" class=\"toggle\"></span>\\n</div>\\n\\n<div id=\"view\" class=\"View\" style=\"width: 1080px; height: 718px;\"><div class=\"info_roadview info_viewpast HIDDEN\">\\n    <span class=\"txt_add\" data-id=\"address\"></span>\\n    <div class=\"wrap_date\">\\n        <div class=\"info_date\" data-id=\"leftView\">\\n            <div class=\"wrap_opt\" data-id=\"dateListContainer\"><!-- opt_open 클래스로 활성화 --><!-- 과거날짜 없을경우 HIDDEN클래스 적용해주세요 -->\\n                <strong class=\"screen_out\">로드뷰 촬영일 목록</strong>\\n                <em class=\"screen_out\">선택내용 :</em>\\n                <a href=\"#none\" class=\"label\" data-id=\"selectedDateBtn\">2018년 10월</a>\\n                <em class=\"screen_out\">선택옵션</em>\\n                <ul class=\"list_opt\" data-id=\"dateList\">\\n                    <li><a href=\"#none\" class=\"link_opt\">2018년 10월</a></li>\\n                    <li><a href=\"#none\" class=\"link_opt\">2018년 9월</a></li>\\n                    <li><a href=\"#none\" class=\"link_opt\">2018년 8월</a></li>\\n                    <li><a href=\"#none\" class=\"link_opt\">2018년 7월</a></li>\\n                    <li><a href=\"#none\" class=\"link_opt\">2018년 6월</a></li>\\n                </ul>\\n            </div>\\n        </div>\\n        <div class=\"info_date\" data-id=\"rightView\">\\n            <div class=\"wrap_opt opt_latest\" data-id=\"currentDateContainer\"><!-- opt_open 클래스로 활성화 / 최신용 클래스 : opt_latest -->\\n                <strong class=\"screen_out\">로드뷰 촬영일 목록</strong>\\n                <em class=\"screen_out\">선택내용 :</em>\\n                <a href=\"#none\" class=\"label\" data-id=\"currentDate\">2018년 07월(최근)</a>\\n                <em class=\"screen_out\">선택옵션</em>\\n                <ul class=\"list_opt\">\\n                    <li><a href=\"#none\">2018년 10월</a></li>\\n                    <li><a href=\"#none\">2018년 9월</a></li>\\n                    <li><a href=\"#none\">2018년 8월</a></li>\\n                    <li><a href=\"#none\">2018년 7월</a></li>\\n                    <li><a href=\"#none\">2018년 6월</a></li>\\n                </ul>\\n            </div>\\n        </div>\\n    </div>\\n    <div class=\"set_mode\">\\n        <button type=\"button\" class=\"btn_mode on\" data-id=\"overlapBtn\"><!-- on클래스로 활성화 -->\\n            <span class=\"ico_roadview2 ico_overlay\"></span>\\n            <span class=\"txt_btn\">겹침</span>\\n        </button>\\n        <button type=\"button\" class=\"btn_mode\" data-id=\"splitBtn\">\\n            <span class=\"ico_roadview2 ico_divide\"></span>\\n            <span class=\"txt_btn\">분할</span>\\n        </button>\\n    </div>\\n    <div class=\"slider_past\">\\n        <button type=\"button\" data-id=\"slider\" class=\"btn_slider\" style=\"left:50%\"></button><!-- left:%로 슬라이더 이동해주세요 -->\\n    </div>\\n    <button type=\"button\" class=\"btn_util btn_close\" data-id=\"backToRoadviewBtn\">\\n        <span class=\"ico_roadview2 ico_close\"></span>\\n        <span class=\"tooltip_btn\">과거사진비교 종료</span>\\n    </button>\\n</div><div class=\"info_roadview HIDDEN\">\\n    <span class=\"txt_add\" data-id=\"placeName\"></span>\\n    <button type=\"button\" class=\"btn_util btn_surround\" data-id=\"nearRoadviewBtn\">\\n        <span class=\"ico_roadview2\"></span>\\n        <span class=\"txt_btn\">주변 로드뷰 보기</span>\\n    </button>\\n    <span class=\"txt_date\"><span class=\"screen_out\">스토어뷰 촬영 월</span><span data-id=\"date\"></span></span>\\n    <button type=\"button\" class=\"btn_close\" data-id=\"close\">\\n        <span class=\"ico_roadview2\"></span>\\n        <span class=\"tooltip_btn\">스토어뷰 종료</span>\\n    </button>\\n<div class=\"navi_storeview HIDDEN\">\\n    <div class=\"head_navi\">\\n        <button type=\"button\" class=\"btn_minimap\" data-id=\"minimapBtn\">\\n            <span class=\"ico_roadview2\">미니맵 켜기</span>\\n        </button>\\n        <div class=\"box_opt\">\\n            <strong class=\"screen_out\">스토어뷰 이동할 장소 선택 목록</strong>\\n            <em class=\"screen_out\">선택내용</em>\\n            <a href=\"#none\" class=\"link_navi\" data-id=\"depthMenuBtn\"><!-- 클릭되면 navi_on 클래스 추가로 메뉴 열림 -->\\n                <span class=\"txt_depth1\">여객터미널</span><!-- opt_depth1 선택된 메뉴명 넣어주세요 -->\\n                <span class=\"txt_bar\">&gt;</span>\\n                <span class=\"txt_depth1\">2층</span><!-- opt_depth2 선택된 메뉴명 넣어주세요 -->\\n                <span class=\"txt_bar\">&gt;</span>\\n                <span class=\"txt_depth1\">3뎁스메뉴입니당3뎁스</span><!-- opt_depth3 선택된 메뉴명 넣어주세요 -->\\n                <span class=\"txt_bar\">&gt;</span>\\n                <span class=\"txt_depth1\">4뎁스</span><!-- opt_depth4 선택된 메뉴명 넣어주세요 -->\\n            </a>\\n            <div class=\"wrap_list\" data-id=\"depthMenu\">\\n                <em class=\"screen_out\">선택옵션</em>\\n                <ul class=\"list_opt opt_depth1\">\\n                    <li><a href=\"#none\" class=\"link_opt\">교통센터</a></li>\\n                    <li class=\"on\"><a href=\"#none\" class=\"link_opt\">교통센터</a></li>\\n                    <li><a href=\"#none\" class=\"link_opt\">일이삼사오륙칠팔구십일이삼사오륙</a></li>\\n                    <li><a href=\"#none\" class=\"link_opt\">일이삼사오륙칠팔구십일이삼사오륙</a></li>\\n                    <li><a href=\"#none\" class=\"link_opt\">일이삼사오륙칠팔구십일이삼사오륙</a></li>\\n                </ul>\\n                <ul class=\"list_opt opt_depth2\">\\n                    <li><a href=\"#none\" class=\"link_opt\">지하 1층</a></li>\\n                    <li><a href=\"#none\" class=\"link_opt\">1층</a></li>\\n                    <li class=\"on\"><a href=\"#none\" class=\"link_opt\">2층</a></li>\\n                    <li><a href=\"#none\" class=\"link_opt\">3층</a></li>\\n                    <li><a href=\"#none\" class=\"link_opt\">4층</a></li>\\n                    <li><a href=\"#none\" class=\"link_opt\">5층</a></li>\\n                    <li><a href=\"#none\" class=\"link_opt\">6층</a></li>\\n                    <li><a href=\"#none\" class=\"link_opt\">7층</a></li>\\n                    <li><a href=\"#none\" class=\"link_opt\">8층</a></li>\\n                    <li><a href=\"#none\" class=\"link_opt\">9층</a></li>\\n                    <li><a href=\"#none\" class=\"link_opt\">10층</a></li>\\n                </ul>\\n            </div>\\n        </div>\\n    </div>\\n    <div class=\"view_minimap HIDDEN\" data-id=\"minimap\"><!-- HIDDEN으로 미니맵 노출/숨김 조절 -->\\n        <strong class=\"screen_out\">미니맵</strong>\\n        <div id=\"miniZoomControl\" class=\"MiniZoomControl MiniZoomControl_type2\"><!-- 2019-05-23 : MiniZoomControl_type2 클래스 추가 -->\\n            <div class=\"wrap_zoom\">\\n                <a href=\"#none\" id=\"miniZoomControl.zoomin\" data-type=\"zoomIn\" class=\"zoomin\"><span class=\"ico_roadview2 ico_zoom\">확대</span></a>\\n                <a href=\"#none\" id=\"miniZoomControl.zoomout\" data-type=\"zoomOut\" class=\"zoomout\"><span class=\"ico_roadview2 ico_zoom\">축소</span></a>\\n            </div>\\n            <a href=\"#none\" id=\"miniZoomControl.reset\" data-type=\"reset\" class=\"reset disabled\"><span class=\"ico_roadview2 ico_zoom\">초기화</span></a>\\n        </div>\\n        <div data-id=\"minimapContainer\" class=\"outer\" style=\"width: 400px; height: 310px;\">\\n            <div data-id=\"minimapPanel\" style=\"left:0; top:0\" class=\"panel\">\\n                <div data-id=\"minimapWrapper\" class=\"wrapper\">\\n                    <div data-id=\"markerContainer\" class=\"cont\">\\n                    </div>\\n                    <img src=\"\" data-id=\"minimapImg\" class=\"img_map\">\\n                </div>\\n            </div>\\n        </div>\\n        <div class=\"info_minimap\">\\n            <div class=\"scale_map\">\\n                <strong class=\"screen_out\">축적</strong>\\n                <span class=\"ico_scale\"></span>\\n                <span class=\"txt_scale\" data-id=\"mapScale\"></span>\\n            </div>\\n            <div class=\"compass_map\" style=\"transform:rotate(-180deg)\" data-id=\"minimapCompass\">\\n                <strong class=\"screen_out\">나침반</strong>\\n                <span class=\"ico_roadview2 ico_compass\"></span>\\n            </div>\\n        </div>\\n    </div>\\n</div></div><div class=\"info_roadview HIDDEN\">\\n    <span class=\"txt_add\" data-id=\"address\"></span>\\n    <div class=\"wrap_date\">\\n        <div class=\"info_date\" data-id=\"pastInfo\"><!-- 과거사진 없을때 클래스 : date_none -->\\n            <span class=\"ico_roadview2 ico_time\"></span>\\n            <div class=\"wrap_opt\" data-id=\"dateListContainer\"><!-- opt_open 클래스로 활성화 -->\\n                <strong class=\"screen_out\">로드뷰 촬영일 목록</strong>\\n                <em class=\"screen_out\">선택내용 :</em>\\n                <a href=\"#none\" class=\"label\" data-id=\"nowDateBtn\"></a>\\n                <em class=\"screen_out\">선택옵션</em>\\n                <ul class=\"list_opt HIDDEN\">\\n                    <!--\\n                    <li><a href=\"#none\" class=\"link_opt\">2018년 10월</a></li>\\n                    <li><a href=\"#none\" class=\"link_opt\">2018년 9월</a></li>\\n                    <li><a href=\"#none\" class=\"link_opt\">2018년 8월</a></li>\\n                    <li><a href=\"#none\" class=\"link_opt\">2018년 7월</a></li>\\n                    <li><a href=\"#none\" class=\"link_opt\">2018년 6월</a></li>\\n                    -->\\n                </ul>\\n            </div>\\n        </div>\\n    </div>\\n    <button type=\"button\" class=\"btn_close\" data-id=\"close\">\\n        <span class=\"ico_roadview2\"></span>\\n        <span class=\"tooltip_btn\">로드뷰 종료</span>\\n    </button>\\n</div><div class=\"view_past HIDDEN\" style=\"width: 0px; height: 0px;\">\\n    <div class=\"thumb_past\" data-id=\"pastThumbViewContainer\" style=\"width:360px;height:234px;display:block;\">\\n        <video src=\"https://t1.daumcdn.net/localimg/localimages/07/common/pastview.mp4\" width=\"100%\" height=\"100%\" data-id=\"guideVideo\" class=\"video_guide\"></video>\\n        <strong class=\"screen_out\">소개 동영상 재생 바</strong>\\n        <div class=\"view_progress\" data-id=\"videoProgress\">\\n            <span class=\"bar_now\" style=\"width:0%\" data-id=\"videoCurrent\"><!-- width %로 진행바 핸들링 해주세요 -->\\n                <span>11</span><!-- 재생 퍼센트 숫자 변경해주세요 -->\\n                % 재생됨\\n            </span>\\n        </div>\\n        <div class=\"wrap_coach HIDDEN\" data-id=\"coachmark\">\\n            <div class=\"check_coach\">\\n                <input type=\"checkbox\" id=\"chkCoach\" class=\"inp_coach\" data-id=\"coachmarkUnderstandBtn\">\\n                <label for=\"chkCoach\" class=\"lab_coach\">\\n                    <span class=\"ico_coach\"></span>\\n                    <span class=\"txt_lab\">과거사진 비교 기능을 이해했습니다.</span>\\n                </label>\\n            </div>\\n            <button type=\"button\" class=\"btn_close\" data-id=\"coachmarkCloseBtn\"><span class=\"ico_coach ico_close\">닫기</span></button>\\n        </div>\\n    </div>\\n    <div class=\"box_tool\">\\n        <strong class=\"screen_out\">과거사진 선택 목록</strong>\\n        <div class=\"group_past\" data-id=\"timelineContainer\"><!-- 2019-06-14 : 드래깅 진행중일 경우 drag_on클래스 추가로 1)기존 셀렉티드버튼 사이즈 기본으로, 2)드래깅용버튼 노출 -->\\n            <ul class=\"list_past\" data-id=\"pastIconContainer\">\\n            </ul>\\n            <button type=\"button\" class=\"btn_util btn_drag\" data-id=\"indicator\"><!-- left값으로 위치 조절 해주세요 -->\\n                <span class=\"ico_drag\"></span>\\n                <span class=\"tooltip_btn\" data-id=\"indicatorDate\">\\n                    2011.03\\n                </span>\\n            </button>\\n        </div>\\n        <div class=\"wrap_btn\">\\n            <button type=\"button\" class=\"btn_util btn_compare\" data-id=\"diffBtn\">\\n                <span class=\"ico_roadview2\"></span>\\n                <span class=\"tooltip_btn\">\\n                    과거사진 비교\\n                </span>\\n            </button>\\n            <button type=\"button\" class=\"btn_util btn_close\" data-id=\"closeBtn\">\\n                <span class=\"ico_roadview2\">닫기</span>\\n            </button>\\n        </div>\\n    </div>\\n</div>\\n    <h2 class=\"screen_out\">지도 영역</h2>\\n    <a href=\"#info.main\" class=\"screen_out\">이번 영역은 지도부분입니다. 스크린 리더 사용자분께서는 현재 링크를 눌러주시면 본문 영역으로 넘어가실 수 있습니다</a>\\n    <div id=\"minimapEdge\" class=\"HIDDEN guide_map\" style=\"border-radius: 0px 2px 0px 0px;\"></div>\\n    <div id=\"view.map\" class=\"map map-skyview\" style=\"width: 100%; height: 100%; bottom: 0px; left: 0px; top: 0px; border-radius: 0px;\">\\n        <div id=\"localInfo\" class=\"LocalInfo\">\\n            <div id=\"localInfo.map\" class=\"localinfomap\">\\n                <h3 class=\"screen_out\">접속지역</h3>\\n                <div class=\"province\">\\n                    <a id=\"localInfo.map.province\" href=\"#\" class=\"selectBox\">서울특별시</a>\\n                </div>\\n                <div class=\"county\">\\n                    <a id=\"localInfo.map.county\" href=\"#\" class=\"selectBox\">동작구</a>\\n                </div>\\n                <div class=\"town\">\\n                    <a id=\"localInfo.map.town\" href=\"#\" class=\"selectBox\">사당1동</a>\\n                </div>\\n                <span class=\"txt_bar\"></span>\\n                <div id=\"localInfo.map.weather\" class=\"tempInfo\">\\n                    <div class=\"center\">\\n                                                <img id=\"localInfo.map.weatherIcon\" class=\"weatherImg\" alt=\"비온후 갬\" src=\"//t1.daumcdn.net/localimg/localimages/07/2018/pc/weather/ico_weather10.png\" title=\"비온후 갬\" width=\"20\">\\n                        <div class=\"temper\">14℃</div>\\n                    </div>\\n                </div>\\n            </div>\\n        </div>\\n        <div id=\"localInfoList\" class=\"LocalInfoList\">\\n            <div id=\"localInfoList.province\" class=\"box HIDDEN\">\\n                <ul id=\"localInfoList.province.list\" class=\"province\"></ul>\\n            </div>\\n            <div id=\"localInfoList.county\" class=\"box HIDDEN\">\\n                <ul id=\"localInfoList.county.list\" class=\"county\"></ul>\\n            </div>\\n            <div id=\"localInfoList.town\" class=\"box HIDDEN\">\\n                <ul id=\"localInfoList.town.list\" class=\"town\"></ul>\\n            </div>\\n        </div>\\n\\n        <div id=\"mapTypeControlHolder\" class=\"MapTypeControlHolder\"><div class=\"MapTypeControl\">\\n\\t<h3 class=\"screen_out\">지도타입</h3>\\n\\t<a href=\"#\" class=\"roadmap ACTIVE\">지도</a>\\n\\t<a href=\"#\" class=\"skyview\">스카이뷰</a>\\n</div></div>\\n        <div class=\"viewbuttons\">\\n            <a data-id=\"roadview\" class=\"rv\" href=\"#\"><span class=\"coach_rv\">로드뷰</span></a>\\n            <div data-id=\"layer\" class=\"lv\">\\n                <a href=\"#\" class=\"lv-accessibility\"><span class=\"coach_tv\">지도설정</span></a>\\n                <div data-id=\"layerMenu\" class=\"layerMenu\">\\n                    <strong>지도설정</strong>\\n                    <ul class=\"list_map_setting\">\\n                        <li data-index=\"0\"><a href=\"#\" class=\"traffic\"><i></i>교통정보</a></li>\\n                        <li data-index=\"1\"><a href=\"#\" class=\"cctv\"><i></i>CCTV</a></li>\\n                        <li data-index=\"2\"><a href=\"#\" class=\"accident\"><i></i>사고·공사</a></li>\\n                        <li><a href=\"#\" class=\"bike\"><i></i>자전거</a></li>\\n                        <li><a href=\"#\" class=\"terrain\"><i></i>지형도</a></li>\\n                        <li><a href=\"#\" class=\"usedistrict\"><i></i>지적편집도</a></li>\\n                        <li><a href=\"#\" class=\"bboundary\"><i></i>법정경계</a></li>\\n                        <li><a href=\"#\" class=\"hboundary\"><i></i>행정경계</a></li>\\n                    </ul>\\n                    <strong>대기설정</strong>\\n                                        <ul class=\"list_weather\">\\n                        <li data-type=\"wea\"><a href=\"#\">기온</a></li>\\n                        <li data-type=\"khai\"><a href=\"#\">통합대기</a></li>\\n                        <li data-type=\"pm10\"><a href=\"#\">미세먼지</a></li>\\n                        <li data-type=\"pm25\"><a href=\"#\">초미세먼지</a></li>\\n                        <li data-type=\"ysand\"><a href=\"#\">황사</a></li>\\n                        <li data-type=\"o3\"><a href=\"#\">오존</a></li>\\n                        <li data-type=\"no2\"><a href=\"#\">이산화질소</a></li>\\n                        <li data-type=\"co\"><a href=\"#\">일산화탄소</a></li>\\n                        <li data-type=\"so2\"><a href=\"#\">아황산가스</a></li>\\n                    </ul>\\n                </div>\\n            </div>\\n        </div>\\n\\n\\n        <div id=\"tool\" class=\"Tool\">\\n    <h3 id=\"tool.map.btn\" class=\"tit_tool\"><a href=\"#none\" class=\"btn_tool\">내보내기</a></h3>\\n    <div id=\"toolList\" class=\"layer_tool\">\\n        <a href=\"#\" id=\"tool.map.print\" class=\"print\">인쇄하기</a>\\n        <a href=\"#\" id=\"tool.map.save\" class=\"save\">이미지 저장하기</a>\\n        <a href=\"#\" id=\"tool.map.copyurl\" class=\"link\">URL 복사</a>\\n        <a href=\"#\" id=\"tool.map.copymap\" class=\"html\">HTML 태그 복사</a>\\n        <a href=\"#\" id=\"tool.map.email\" class=\"mail\">메일로 공유</a>\\n    </div>\\n</div>\\n\\n<form name=\"subway_scrap_form\" method=\"post\" action=\"./subway/subwayLinemapLink\" target=\"_self\">\\n\\t<input type=\"hidden\" name=\"cityCode\" value=\"\">\\n\\t<input type=\"hidden\" name=\"STARTNAME\" value=\"\">\\n\\t<input type=\"hidden\" name=\"ENDNAME\" value=\"\">\\n\\t<input type=\"hidden\" name=\"STARTID\" value=\"\">\\n\\t<input type=\"hidden\" name=\"ENDID\" value=\"\">\\n</form>\\n\\n<form name=\"subway_print_form\" method=\"post\" action=\".subway/subwayLinemapPrint\" target=\"_self\">\\n\\t<input type=\"hidden\" name=\"cityCode\" value=\"\">\\n\\t<input type=\"hidden\" name=\"STARTID\" value=\"\">\\n\\t<input type=\"hidden\" name=\"ENDID\" value=\"\">\\n\\t<input type=\"hidden\" name=\"jsonData\" value=\"\">\\n    <input type=\"hidden\" name=\"routeMapImageData\" value=\"\">\\n</form>\\n\\n<form id=\"scrap_form\" name=\"scrap_form\" method=\"post\" action=\"./etc/scrap.jsp\" target=\"_self\">\\n\\t<input type=\"hidden\" name=\"x\" value=\"\">\\n\\t<input type=\"hidden\" name=\"y\" value=\"\">\\n\\t<input type=\"hidden\" name=\"scale\" value=\"\">\\n\\t<input type=\"hidden\" name=\"baseUrl\" value=\"\">\\n</form>\\n\\n                <div id=\"miniZoomControl\" class=\"MiniZoomControl MiniZoomControl_type2 HIDDEN\">\\n            <div class=\"wrap_zoom\">\\n                <a href=\"#none\" id=\"miniZoomControl.zoomin\" class=\"zoomin\"><span class=\"ico_roadview2 ico_zoom\">확대</span></a>                 <a href=\"#none\" id=\"miniZoomControl.zoomout\" class=\"zoomout\"><span class=\"ico_roadview2 ico_zoom\">축소</span></a>             </div>\\n        </div>\\n                        <div id=\"view.mapContainer\" class=\"cont_map\" style=\"overflow: hidden; background: url(&quot;https://t1.daumcdn.net/mapjsapi/images/2x/bg_tile.png&quot;); border-radius: 0px;\">\\n            <div id=\"view.deco.frame\" class=\"frame\">                <div id=\"view.deco.drag\" class=\"drag HIDDEN\"><span class=\"ico_roadview2 ico_drag\"></span></div>            </div>\\n        <div style=\"position: absolute; left: 0px; top: 0px; width: 100%; height: 100%; touch-action: none; cursor: url(&quot;https://t1.daumcdn.net/mapjsapi/images/2x/cursor/openhand.cur.ico&quot;) 7 5, url(&quot;https://t1.daumcdn.net/mapjsapi/images/2x/cursor/openhand.cur.ico&quot;), default;\"><div style=\"position: absolute; left: -2746px; top: -6491px;\"><div style=\"position: absolute; z-index: 0;\"></div><div style=\"position: absolute; z-index: 1; left: 0px; top: 0px;\"><img src=\"https://map3.daumcdn.net/map_2d_hd/2303ksn/L4/980/443.png\" alt=\"\" role=\"presentation\" draggable=\"false\" style=\"position: absolute; user-select: none; -webkit-user-drag: none; min-width: 0px; min-height: 0px; max-width: none; max-height: none; left: 2507px; top: 7071px; opacity: 1; transition-property: opacity; transition-duration: 0.2s; transition-timing-function: ease; width: 256px; height: 256px;\"><img src=\"https://map0.daumcdn.net/map_2d_hd/2303ksn/L4/980/444.png\" alt=\"\" role=\"presentation\" draggable=\"false\" style=\"position: absolute; user-select: none; -webkit-user-drag: none; min-width: 0px; min-height: 0px; max-width: none; max-height: none; left: 2763px; top: 7071px; opacity: 1; transition-property: opacity; transition-duration: 0.2s; transition-timing-function: ease; width: 256px; height: 256px;\"><img src=\"https://map1.daumcdn.net/map_2d_hd/2303ksn/L4/980/445.png\" alt=\"\" role=\"presentation\" draggable=\"false\" style=\"position: absolute; user-select: none; -webkit-user-drag: none; min-width: 0px; min-height: 0px; max-width: none; max-height: none; left: 3019px; top: 7071px; opacity: 1; transition-property: opacity; transition-duration: 0.2s; transition-timing-function: ease; width: 256px; height: 256px;\"><img src=\"https://map2.daumcdn.net/map_2d_hd/2303ksn/L4/980/446.png\" alt=\"\" role=\"presentation\" draggable=\"false\" style=\"position: absolute; user-select: none; -webkit-user-drag: none; min-width: 0px; min-height: 0px; max-width: none; max-height: none; left: 3275px; top: 7071px; opacity: 1; transition-property: opacity; transition-duration: 0.2s; transition-timing-function: ease; width: 256px; height: 256px;\"><img src=\"https://map3.daumcdn.net/map_2d_hd/2303ksn/L4/980/447.png\" alt=\"\" role=\"presentation\" draggable=\"false\" style=\"position: absolute; user-select: none; -webkit-user-drag: none; min-width: 0px; min-height: 0px; max-width: none; max-height: none; left: 3531px; top: 7071px; opacity: 1; transition-property: opacity; transition-duration: 0.2s; transition-timing-function: ease; width: 256px; height: 256px;\"><img src=\"https://map0.daumcdn.net/map_2d_hd/2303ksn/L4/980/448.png\" alt=\"\" role=\"presentation\" draggable=\"false\" style=\"position: absolute; user-select: none; -webkit-user-drag: none; min-width: 0px; min-height: 0px; max-width: none; max-height: none; left: 3787px; top: 7071px; opacity: 1; transition-property: opacity; transition-duration: 0.2s; transition-timing-function: ease; width: 256px; height: 256px;\"><img src=\"https://map3.daumcdn.net/map_2d_hd/2303ksn/L4/981/443.png\" alt=\"\" role=\"presentation\" draggable=\"false\" style=\"position: absolute; user-select: none; -webkit-user-drag: none; min-width: 0px; min-height: 0px; max-width: none; max-height: none; left: 2507px; top: 6815px; opacity: 1; transition-property: opacity; transition-duration: 0.2s; transition-timing-function: ease; width: 256px; height: 256px;\"><img src=\"https://map0.daumcdn.net/map_2d_hd/2303ksn/L4/981/444.png\" alt=\"\" role=\"presentation\" draggable=\"false\" style=\"position: absolute; user-select: none; -webkit-user-drag: none; min-width: 0px; min-height: 0px; max-width: none; max-height: none; left: 2763px; top: 6815px; opacity: 1; transition-property: opacity; transition-duration: 0.2s; transition-timing-function: ease; width: 256px; height: 256px;\"><img src=\"https://map1.daumcdn.net/map_2d_hd/2303ksn/L4/981/445.png\" alt=\"\" role=\"presentation\" draggable=\"false\" style=\"position: absolute; user-select: none; -webkit-user-drag: none; min-width: 0px; min-height: 0px; max-width: none; max-height: none; left: 3019px; top: 6815px; opacity: 1; transition-property: opacity; transition-duration: 0.2s; transition-timing-function: ease; width: 256px; height: 256px;\"><img src=\"https://map2.daumcdn.net/map_2d_hd/2303ksn/L4/981/446.png\" alt=\"\" role=\"presentation\" draggable=\"false\" style=\"position: absolute; user-select: none; -webkit-user-drag: none; min-width: 0px; min-height: 0px; max-width: none; max-height: none; left: 3275px; top: 6815px; opacity: 1; transition-property: opacity; transition-duration: 0.2s; transition-timing-function: ease; width: 256px; height: 256px;\"><img src=\"https://map3.daumcdn.net/map_2d_hd/2303ksn/L4/981/447.png\" alt=\"\" role=\"presentation\" draggable=\"false\" style=\"position: absolute; user-select: none; -webkit-user-drag: none; min-width: 0px; min-height: 0px; max-width: none; max-height: none; left: 3531px; top: 6815px; opacity: 1; transition-property: opacity; transition-duration: 0.2s; transition-timing-function: ease; width: 256px; height: 256px;\"><img src=\"https://map0.daumcdn.net/map_2d_hd/2303ksn/L4/981/448.png\" alt=\"\" role=\"presentation\" draggable=\"false\" style=\"position: absolute; user-select: none; -webkit-user-drag: none; min-width: 0px; min-height: 0px; max-width: none; max-height: none; left: 3787px; top: 6815px; opacity: 1; transition-property: opacity; transition-duration: 0.2s; transition-timing-function: ease; width: 256px; height: 256px;\"><img src=\"https://map3.daumcdn.net/map_2d_hd/2303ksn/L4/982/443.png\" alt=\"\" role=\"presentation\" draggable=\"false\" style=\"position: absolute; user-select: none; -webkit-user-drag: none; min-width: 0px; min-height: 0px; max-width: none; max-height: none; left: 2507px; top: 6559px; opacity: 1; transition-property: opacity; transition-duration: 0.2s; transition-timing-function: ease; width: 256px; height: 256px;\"><img src=\"https://map0.daumcdn.net/map_2d_hd/2303ksn/L4/982/444.png\" alt=\"\" role=\"presentation\" draggable=\"false\" style=\"position: absolute; user-select: none; -webkit-user-drag: none; min-width: 0px; min-height: 0px; max-width: none; max-height: none; left: 2763px; top: 6559px; opacity: 1; transition-property: opacity; transition-duration: 0.2s; transition-timing-function: ease; width: 256px; height: 256px;\"><img src=\"https://map1.daumcdn.net/map_2d_hd/2303ksn/L4/982/445.png\" alt=\"\" role=\"presentation\" draggable=\"false\" style=\"position: absolute; user-select: none; -webkit-user-drag: none; min-width: 0px; min-height: 0px; max-width: none; max-height: none; left: 3019px; top: 6559px; opacity: 1; transition-property: opacity; transition-duration: 0.2s; transition-timing-function: ease; width: 256px; height: 256px;\"><img src=\"https://map2.daumcdn.net/map_2d_hd/2303ksn/L4/982/446.png\" alt=\"\" role=\"presentation\" draggable=\"false\" style=\"position: absolute; user-select: none; -webkit-user-drag: none; min-width: 0px; min-height: 0px; max-width: none; max-height: none; left: 3275px; top: 6559px; opacity: 1; transition-property: opacity; transition-duration: 0.2s; transition-timing-function: ease; width: 256px; height: 256px;\"><img src=\"https://map3.daumcdn.net/map_2d_hd/2303ksn/L4/982/447.png\" alt=\"\" role=\"presentation\" draggable=\"false\" style=\"position: absolute; user-select: none; -webkit-user-drag: none; min-width: 0px; min-height: 0px; max-width: none; max-height: none; left: 3531px; top: 6559px; opacity: 1; transition-property: opacity; transition-duration: 0.2s; transition-timing-function: ease; width: 256px; height: 256px;\"><img src=\"https://map0.daumcdn.net/map_2d_hd/2303ksn/L4/982/448.png\" alt=\"\" role=\"presentation\" draggable=\"false\" style=\"position: absolute; user-select: none; -webkit-user-drag: none; min-width: 0px; min-height: 0px; max-width: none; max-height: none; left: 3787px; top: 6559px; opacity: 1; transition-property: opacity; transition-duration: 0.2s; transition-timing-function: ease; width: 256px; height: 256px;\"><img src=\"https://map3.daumcdn.net/map_2d_hd/2303ksn/L4/983/443.png\" alt=\"\" role=\"presentation\" draggable=\"false\" style=\"position: absolute; user-select: none; -webkit-user-drag: none; min-width: 0px; min-height: 0px; max-width: none; max-height: none; left: 2507px; top: 6303px; opacity: 1; transition-property: opacity; transition-duration: 0.2s; transition-timing-function: ease; width: 256px; height: 256px;\"><img src=\"https://map0.daumcdn.net/map_2d_hd/2303ksn/L4/983/444.png\" alt=\"\" role=\"presentation\" draggable=\"false\" style=\"position: absolute; user-select: none; -webkit-user-drag: none; min-width: 0px; min-height: 0px; max-width: none; max-height: none; left: 2763px; top: 6303px; opacity: 1; transition-property: opacity; transition-duration: 0.2s; transition-timing-function: ease; width: 256px; height: 256px;\"><img src=\"https://map1.daumcdn.net/map_2d_hd/2303ksn/L4/983/445.png\" alt=\"\" role=\"presentation\" draggable=\"false\" style=\"position: absolute; user-select: none; -webkit-user-drag: none; min-width: 0px; min-height: 0px; max-width: none; max-height: none; left: 3019px; top: 6303px; opacity: 1; transition-property: opacity; transition-duration: 0.2s; transition-timing-function: ease; width: 256px; height: 256px;\"><img src=\"https://map2.daumcdn.net/map_2d_hd/2303ksn/L4/983/446.png\" alt=\"\" role=\"presentation\" draggable=\"false\" style=\"position: absolute; user-select: none; -webkit-user-drag: none; min-width: 0px; min-height: 0px; max-width: none; max-height: none; left: 3275px; top: 6303px; opacity: 1; transition-property: opacity; transition-duration: 0.2s; transition-timing-function: ease; width: 256px; height: 256px;\"><img src=\"https://map3.daumcdn.net/map_2d_hd/2303ksn/L4/983/447.png\" alt=\"\" role=\"presentation\" draggable=\"false\" style=\"position: absolute; user-select: none; -webkit-user-drag: none; min-width: 0px; min-height: 0px; max-width: none; max-height: none; left: 3531px; top: 6303px; opacity: 1; transition-property: opacity; transition-duration: 0.2s; transition-timing-function: ease; width: 256px; height: 256px;\"><img src=\"https://map0.daumcdn.net/map_2d_hd/2303ksn/L4/983/448.png\" alt=\"\" role=\"presentation\" draggable=\"false\" style=\"position: absolute; user-select: none; -webkit-user-drag: none; min-width: 0px; min-height: 0px; max-width: none; max-height: none; left: 3787px; top: 6303px; opacity: 1; transition-property: opacity; transition-duration: 0.2s; transition-timing-function: ease; width: 256px; height: 256px;\"></div><div style=\"position: absolute; z-index: 1;\"><div style=\"position: absolute; z-index: 1;\"><img src=\"https://tilesrch.map.daum.net/tmap/msearch/L4/980/443.png?query=%EB%A7%9B%EC%A7%91&amp;dimg=ns\" alt=\"\" role=\"presentation\" draggable=\"false\" style=\"position: absolute; user-select: none; -webkit-user-drag: none; min-width: 0px; min-height: 0px; max-width: none; max-height: none; left: 2507px; top: 7071px; opacity: 1; transition-property: opacity; transition-duration: 0.2s; transition-timing-function: ease; width: 256px; height: 256px;\"><img src=\"https://tilesrch.map.daum.net/tmap/msearch/L4/980/444.png?query=%EB%A7%9B%EC%A7%91&amp;dimg=ns\" alt=\"\" role=\"presentation\" draggable=\"false\" style=\"position: absolute; user-select: none; -webkit-user-drag: none; min-width: 0px; min-height: 0px; max-width: none; max-height: none; left: 2763px; top: 7071px; opacity: 1; transition-property: opacity; transition-duration: 0.2s; transition-timing-function: ease; width: 256px; height: 256px;\"><img src=\"https://tilesrch.map.daum.net/tmap/msearch/L4/980/445.png?query=%EB%A7%9B%EC%A7%91&amp;dimg=ns\" alt=\"\" role=\"presentation\" draggable=\"false\" style=\"position: absolute; user-select: none; -webkit-user-drag: none; min-width: 0px; min-height: 0px; max-width: none; max-height: none; left: 3019px; top: 7071px; opacity: 1; transition-property: opacity; transition-duration: 0.2s; transition-timing-function: ease; width: 256px; height: 256px;\"><img src=\"https://tilesrch.map.daum.net/tmap/msearch/L4/980/446.png?query=%EB%A7%9B%EC%A7%91&amp;dimg=ns\" alt=\"\" role=\"presentation\" draggable=\"false\" style=\"position: absolute; user-select: none; -webkit-user-drag: none; min-width: 0px; min-height: 0px; max-width: none; max-height: none; left: 3275px; top: 7071px; opacity: 1; transition-property: opacity; transition-duration: 0.2s; transition-timing-function: ease; width: 256px; height: 256px;\"><img src=\"https://tilesrch.map.daum.net/tmap/msearch/L4/980/447.png?query=%EB%A7%9B%EC%A7%91&amp;dimg=ns\" alt=\"\" role=\"presentation\" draggable=\"false\" style=\"position: absolute; user-select: none; -webkit-user-drag: none; min-width: 0px; min-height: 0px; max-width: none; max-height: none; left: 3531px; top: 7071px; opacity: 1; transition-property: opacity; transition-duration: 0.2s; transition-timing-function: ease; width: 256px; height: 256px;\"><img src=\"https://tilesrch.map.daum.net/tmap/msearch/L4/980/448.png?query=%EB%A7%9B%EC%A7%91&amp;dimg=ns\" alt=\"\" role=\"presentation\" draggable=\"false\" style=\"position: absolute; user-select: none; -webkit-user-drag: none; min-width: 0px; min-height: 0px; max-width: none; max-height: none; left: 3787px; top: 7071px; opacity: 1; transition-property: opacity; transition-duration: 0.2s; transition-timing-function: ease; width: 256px; height: 256px;\"><img src=\"https://tilesrch.map.daum.net/tmap/msearch/L4/981/443.png?query=%EB%A7%9B%EC%A7%91&amp;dimg=ns\" alt=\"\" role=\"presentation\" draggable=\"false\" style=\"position: absolute; user-select: none; -webkit-user-drag: none; min-width: 0px; min-height: 0px; max-width: none; max-height: none; left: 2507px; top: 6815px; opacity: 1; transition-property: opacity; transition-duration: 0.2s; transition-timing-function: ease; width: 256px; height: 256px;\"><img src=\"https://tilesrch.map.daum.net/tmap/msearch/L4/981/444.png?query=%EB%A7%9B%EC%A7%91&amp;dimg=ns\" alt=\"\" role=\"presentation\" draggable=\"false\" style=\"position: absolute; user-select: none; -webkit-user-drag: none; min-width: 0px; min-height: 0px; max-width: none; max-height: none; left: 2763px; top: 6815px; opacity: 1; transition-property: opacity; transition-duration: 0.2s; transition-timing-function: ease; width: 256px; height: 256px;\"><img src=\"https://tilesrch.map.daum.net/tmap/msearch/L4/981/445.png?query=%EB%A7%9B%EC%A7%91&amp;dimg=ns\" alt=\"\" role=\"presentation\" draggable=\"false\" style=\"position: absolute; user-select: none; -webkit-user-drag: none; min-width: 0px; min-height: 0px; max-width: none; max-height: none; left: 3019px; top: 6815px; opacity: 1; transition-property: opacity; transition-duration: 0.2s; transition-timing-function: ease; width: 256px; height: 256px;\"><img src=\"https://tilesrch.map.daum.net/tmap/msearch/L4/981/446.png?query=%EB%A7%9B%EC%A7%91&amp;dimg=ns\" alt=\"\" role=\"presentation\" draggable=\"false\" style=\"position: absolute; user-select: none; -webkit-user-drag: none; min-width: 0px; min-height: 0px; max-width: none; max-height: none; left: 3275px; top: 6815px; opacity: 1; transition-property: opacity; transition-duration: 0.2s; transition-timing-function: ease; width: 256px; height: 256px;\"><img src=\"https://tilesrch.map.daum.net/tmap/msearch/L4/981/447.png?query=%EB%A7%9B%EC%A7%91&amp;dimg=ns\" alt=\"\" role=\"presentation\" draggable=\"false\" style=\"position: absolute; user-select: none; -webkit-user-drag: none; min-width: 0px; min-height: 0px; max-width: none; max-height: none; left: 3531px; top: 6815px; opacity: 1; transition-property: opacity; transition-duration: 0.2s; transition-timing-function: ease; width: 256px; height: 256px;\"><img src=\"https://tilesrch.map.daum.net/tmap/msearch/L4/981/448.png?query=%EB%A7%9B%EC%A7%91&amp;dimg=ns\" alt=\"\" role=\"presentation\" draggable=\"false\" style=\"position: absolute; user-select: none; -webkit-user-drag: none; min-width: 0px; min-height: 0px; max-width: none; max-height: none; left: 3787px; top: 6815px; opacity: 1; transition-property: opacity; transition-duration: 0.2s; transition-timing-function: ease; width: 256px; height: 256px;\"><img src=\"https://tilesrch.map.daum.net/tmap/msearch/L4/982/443.png?query=%EB%A7%9B%EC%A7%91&amp;dimg=ns\" alt=\"\" role=\"presentation\" draggable=\"false\" style=\"position: absolute; user-select: none; -webkit-user-drag: none; min-width: 0px; min-height: 0px; max-width: none; max-height: none; left: 2507px; top: 6559px; opacity: 1; transition-property: opacity; transition-duration: 0.2s; transition-timing-function: ease; width: 256px; height: 256px;\"><img src=\"https://tilesrch.map.daum.net/tmap/msearch/L4/982/444.png?query=%EB%A7%9B%EC%A7%91&amp;dimg=ns\" alt=\"\" role=\"presentation\" draggable=\"false\" style=\"position: absolute; user-select: none; -webkit-user-drag: none; min-width: 0px; min-height: 0px; max-width: none; max-height: none; left: 2763px; top: 6559px; opacity: 1; transition-property: opacity; transition-duration: 0.2s; transition-timing-function: ease; width: 256px; height: 256px;\"><img src=\"https://tilesrch.map.daum.net/tmap/msearch/L4/982/445.png?query=%EB%A7%9B%EC%A7%91&amp;dimg=ns\" alt=\"\" role=\"presentation\" draggable=\"false\" style=\"position: absolute; user-select: none; -webkit-user-drag: none; min-width: 0px; min-height: 0px; max-width: none; max-height: none; left: 3019px; top: 6559px; opacity: 1; transition-property: opacity; transition-duration: 0.2s; transition-timing-function: ease; width: 256px; height: 256px;\"><img src=\"https://tilesrch.map.daum.net/tmap/msearch/L4/982/446.png?query=%EB%A7%9B%EC%A7%91&amp;dimg=ns\" alt=\"\" role=\"presentation\" draggable=\"false\" style=\"position: absolute; user-select: none; -webkit-user-drag: none; min-width: 0px; min-height: 0px; max-width: none; max-height: none; left: 3275px; top: 6559px; opacity: 1; transition-property: opacity; transition-duration: 0.2s; transition-timing-function: ease; width: 256px; height: 256px;\"><img src=\"https://tilesrch.map.daum.net/tmap/msearch/L4/982/447.png?query=%EB%A7%9B%EC%A7%91&amp;dimg=ns\" alt=\"\" role=\"presentation\" draggable=\"false\" style=\"position: absolute; user-select: none; -webkit-user-drag: none; min-width: 0px; min-height: 0px; max-width: none; max-height: none; left: 3531px; top: 6559px; opacity: 1; transition-property: opacity; transition-duration: 0.2s; transition-timing-function: ease; width: 256px; height: 256px;\"><img src=\"https://tilesrch.map.daum.net/tmap/msearch/L4/982/448.png?query=%EB%A7%9B%EC%A7%91&amp;dimg=ns\" alt=\"\" role=\"presentation\" draggable=\"false\" style=\"position: absolute; user-select: none; -webkit-user-drag: none; min-width: 0px; min-height: 0px; max-width: none; max-height: none; left: 3787px; top: 6559px; opacity: 1; transition-property: opacity; transition-duration: 0.2s; transition-timing-function: ease; width: 256px; height: 256px;\"><img src=\"https://tilesrch.map.daum.net/tmap/msearch/L4/983/443.png?query=%EB%A7%9B%EC%A7%91&amp;dimg=ns\" alt=\"\" role=\"presentation\" draggable=\"false\" style=\"position: absolute; user-select: none; -webkit-user-drag: none; min-width: 0px; min-height: 0px; max-width: none; max-height: none; left: 2507px; top: 6303px; opacity: 1; transition-property: opacity; transition-duration: 0.2s; transition-timing-function: ease; width: 256px; height: 256px;\"><img src=\"https://tilesrch.map.daum.net/tmap/msearch/L4/983/444.png?query=%EB%A7%9B%EC%A7%91&amp;dimg=ns\" alt=\"\" role=\"presentation\" draggable=\"false\" style=\"position: absolute; user-select: none; -webkit-user-drag: none; min-width: 0px; min-height: 0px; max-width: none; max-height: none; left: 2763px; top: 6303px; opacity: 1; transition-property: opacity; transition-duration: 0.2s; transition-timing-function: ease; width: 256px; height: 256px;\"><img src=\"https://tilesrch.map.daum.net/tmap/msearch/L4/983/445.png?query=%EB%A7%9B%EC%A7%91&amp;dimg=ns\" alt=\"\" role=\"presentation\" draggable=\"false\" style=\"position: absolute; user-select: none; -webkit-user-drag: none; min-width: 0px; min-height: 0px; max-width: none; max-height: none; left: 3019px; top: 6303px; opacity: 1; transition-property: opacity; transition-duration: 0.2s; transition-timing-function: ease; width: 256px; height: 256px;\"><img src=\"https://tilesrch.map.daum.net/tmap/msearch/L4/983/446.png?query=%EB%A7%9B%EC%A7%91&amp;dimg=ns\" alt=\"\" role=\"presentation\" draggable=\"false\" style=\"position: absolute; user-select: none; -webkit-user-drag: none; min-width: 0px; min-height: 0px; max-width: none; max-height: none; left: 3275px; top: 6303px; opacity: 1; transition-property: opacity; transition-duration: 0.2s; transition-timing-function: ease; width: 256px; height: 256px;\"><img src=\"https://tilesrch.map.daum.net/tmap/msearch/L4/983/447.png?query=%EB%A7%9B%EC%A7%91&amp;dimg=ns\" alt=\"\" role=\"presentation\" draggable=\"false\" style=\"position: absolute; user-select: none; -webkit-user-drag: none; min-width: 0px; min-height: 0px; max-width: none; max-height: none; left: 3531px; top: 6303px; opacity: 1; transition-property: opacity; transition-duration: 0.2s; transition-timing-function: ease; width: 256px; height: 256px;\"><img src=\"https://tilesrch.map.daum.net/tmap/msearch/L4/983/448.png?query=%EB%A7%9B%EC%A7%91&amp;dimg=ns\" alt=\"\" role=\"presentation\" draggable=\"false\" style=\"position: absolute; user-select: none; -webkit-user-drag: none; min-width: 0px; min-height: 0px; max-width: none; max-height: none; left: 3787px; top: 6303px; opacity: 1; transition-property: opacity; transition-duration: 0.2s; transition-timing-function: ease; width: 256px; height: 256px;\"></div></div><div style=\"position: absolute; z-index: 1; width: 1080px; height: 718px;\"></div><div style=\"position: absolute; z-index: 1;\"><svg version=\"1.1\" style=\"stroke: none; stroke-dashoffset: 0.5; stroke-linejoin: round; fill: none; transform: translateZ(0px); position: absolute; left: 586px; top: 5055px; width: 5400px; height: 3590px;\" viewBox=\"0 0 5400 3590\"><defs></defs><path id=\"daum-maps-shape-0\" style=\"stroke: rgb(119, 148, 182); stroke-opacity: 0.0001; stroke-width: 1.5px; color: rgb(119, 148, 182); stroke-linecap: round; fill: rgb(240, 246, 255); fill-opacity: 0.0001; fill-rule: evenodd; display: none;\"></path><path id=\"daum-maps-shape-1\" style=\"stroke: rgb(119, 148, 182); stroke-opacity: 0.0001; stroke-width: 1.5px; color: rgb(119, 148, 182); stroke-linecap: round; fill: rgb(240, 246, 255); fill-opacity: 0.0001; fill-rule: evenodd; display: none;\"></path><path id=\"daum-maps-shape-2\" style=\"stroke: rgb(119, 148, 182); stroke-opacity: 0.0001; stroke-width: 1.5px; color: rgb(119, 148, 182); stroke-linecap: round; fill: rgb(240, 246, 255); fill-opacity: 0.0001; fill-rule: evenodd; display: block;\" d=\" M4754 1049 L4741 1054 4752 1084 4744 1087 4748 1097 4756 1094 4761 1107 4759 1107 4754 1096 4752 1097 4758 1113 4762 1111 4773 1141 4770 1142 4774 1153 4775 1152 4773 1145 4775 1144 4776 1148 4789 1143 4788 1139 4792 1138 4794 1145 4796 1144 4792 1134 4787 1136 4773 1100 4778 1097 4772 1080 4770 1080 4775 1093 4771 1095 4754 1049 Z\" transform=\"translate(0,0)\"></path><path id=\"daum-maps-shape-3\" style=\"stroke: rgb(119, 148, 182); stroke-opacity: 0.0001; stroke-width: 1.5px; color: rgb(119, 148, 182); stroke-linecap: round; fill: rgb(240, 246, 255); fill-opacity: 0.0001; fill-rule: evenodd; display: block;\" d=\" M4754 1049 L4753 1048 4752 1043 4754 1046 4757 1051 4759 1050 4757 1045 4756 1042 4758 1043 4759 1041 4757 1040 4758 1037 4756 1031 4762 1029 4763 1027 4762 1025 4764 1024 4765 1022 4768 1019 4765 1017 4763 1018 4765 1017 4764 1015 4769 1013 4771 1015 4772 1014 4773 1011 4772 1010 4775 1009 4783 1006 4782 1003 4774 1006 4771 1007 4770 1005 4784 999 4780 988 4766 994 4765 991 4768 990 4777 987 4776 985 4767 988 4764 989 4762 989 4760 988 4755 990 4754 988 4752 989 4754 988 4755 985 4752 983 4751 985 4748 983 4739 987 4735 978 4737 975 4732 972 4731 975 4729 971 4727 966 4725 967 4708 972 4706 974 4708 980 4711 987 4709 990 4708 991 4710 992 4710 991 4711 989 4704 1006 4701 1004 4700 1008 4698 1012 4700 1013 4702 1009 4702 1008 4705 1009 4703 1010 4701 1011 4703 1014 4704 1014 4705 1018 4704 1018 4707 1028 4709 1027 4712 1035 4714 1034 4712 1035 4714 1039 4712 1038 4711 1040 4713 1041 4715 1042 4721 1044 4723 1044 4723 1043 4722 1042 4722 1040 4723 1042 4727 1040 4728 1044 4733 1046 4735 1053 4737 1058 4740 1057 4738 1052 4737 1049 4738 1048 4741 1054 4754 1049 Z\" transform=\"translate(0,0)\"></path><path id=\"daum-maps-shape-4\" style=\"stroke: rgb(119, 148, 182); stroke-opacity: 0.0001; stroke-width: 1.5px; color: rgb(119, 148, 182); stroke-linecap: round; fill: rgb(240, 246, 255); fill-opacity: 0.0001; fill-rule: evenodd; display: none;\"></path><path id=\"daum-maps-shape-5\" style=\"stroke: rgb(119, 148, 182); stroke-opacity: 0.0001; stroke-width: 1.5px; color: rgb(119, 148, 182); stroke-linecap: round; fill: rgb(240, 246, 255); fill-opacity: 0.0001; fill-rule: evenodd; display: none;\"></path><path id=\"daum-maps-shape-6\" style=\"stroke: rgb(119, 148, 182); stroke-opacity: 0.0001; stroke-width: 1.5px; color: rgb(119, 148, 182); stroke-linecap: round; fill: rgb(240, 246, 255); fill-opacity: 0.0001; fill-rule: evenodd; display: none;\"></path><path id=\"daum-maps-shape-7\" style=\"stroke: rgb(119, 148, 182); stroke-opacity: 0.0001; stroke-width: 1.5px; color: rgb(119, 148, 182); stroke-linecap: round; fill: rgb(240, 246, 255); fill-opacity: 0.0001; fill-rule: evenodd; display: none;\"></path><path id=\"daum-maps-shape-8\" style=\"stroke: rgb(119, 148, 182); stroke-opacity: 0.0001; stroke-width: 1.5px; color: rgb(119, 148, 182); stroke-linecap: round; fill: rgb(240, 246, 255); fill-opacity: 0.0001; fill-rule: evenodd; display: none;\"></path><path id=\"daum-maps-shape-9\" style=\"stroke: rgb(119, 148, 182); stroke-opacity: 0.0001; stroke-width: 1.5px; color: rgb(119, 148, 182); stroke-linecap: round; fill: rgb(240, 246, 255); fill-opacity: 0.0001; fill-rule: evenodd; display: none;\"></path><path id=\"daum-maps-shape-10\" style=\"stroke: rgb(119, 148, 182); stroke-opacity: 0.0001; stroke-width: 1.5px; color: rgb(119, 148, 182); stroke-linecap: round; fill: rgb(240, 246, 255); fill-opacity: 0.0001; fill-rule: evenodd; display: none;\"></path><path id=\"daum-maps-shape-11\" style=\"stroke: rgb(119, 148, 182); stroke-opacity: 0.0001; stroke-width: 1.5px; color: rgb(119, 148, 182); stroke-linecap: round; fill: rgb(240, 246, 255); fill-opacity: 0.0001; fill-rule: evenodd; display: none;\"></path><path id=\"daum-maps-shape-12\" style=\"stroke: rgb(119, 148, 182); stroke-opacity: 0.0001; stroke-width: 1.5px; color: rgb(119, 148, 182); stroke-linecap: round; fill: rgb(240, 246, 255); fill-opacity: 0.0001; fill-rule: evenodd; display: none;\"></path><path id=\"daum-maps-shape-13\" style=\"stroke: rgb(119, 148, 182); stroke-opacity: 0.0001; stroke-width: 1.5px; color: rgb(119, 148, 182); stroke-linecap: round; fill: rgb(240, 246, 255); fill-opacity: 0.0001; fill-rule: evenodd; display: none;\"></path><path id=\"daum-maps-shape-14\" style=\"stroke: rgb(119, 148, 182); stroke-opacity: 0.0001; stroke-width: 1.5px; color: rgb(119, 148, 182); stroke-linecap: round; fill: rgb(240, 246, 255); fill-opacity: 0.0001; fill-rule: evenodd; display: none;\"></path><path id=\"daum-maps-shape-15\" style=\"stroke: rgb(119, 148, 182); stroke-opacity: 0.0001; stroke-width: 1.5px; color: rgb(119, 148, 182); stroke-linecap: round; fill: rgb(240, 246, 255); fill-opacity: 0.0001; fill-rule: evenodd; display: none;\"></path><path id=\"daum-maps-shape-16\" style=\"stroke: rgb(119, 148, 182); stroke-opacity: 0.0001; stroke-width: 1.5px; color: rgb(119, 148, 182); stroke-linecap: round; fill: rgb(240, 246, 255); fill-opacity: 0.0001; fill-rule: evenodd; display: none;\"></path><path id=\"daum-maps-shape-17\" style=\"stroke: rgb(119, 148, 182); stroke-opacity: 0.0001; stroke-width: 1.5px; color: rgb(119, 148, 182); stroke-linecap: round; fill: rgb(240, 246, 255); fill-opacity: 0.0001; fill-rule: evenodd; display: none;\"></path><path id=\"daum-maps-shape-18\" style=\"stroke: rgb(119, 148, 182); stroke-opacity: 0.0001; stroke-width: 1.5px; color: rgb(119, 148, 182); stroke-linecap: round; fill: rgb(240, 246, 255); fill-opacity: 0.0001; fill-rule: evenodd; display: none;\"></path><path id=\"daum-maps-shape-19\" style=\"stroke: rgb(119, 148, 182); stroke-opacity: 0.0001; stroke-width: 1.5px; color: rgb(119, 148, 182); stroke-linecap: round; fill: rgb(240, 246, 255); fill-opacity: 0.0001; fill-rule: evenodd; display: none;\"></path><path id=\"daum-maps-shape-20\" style=\"stroke: rgb(119, 148, 182); stroke-opacity: 0.0001; stroke-width: 1.5px; color: rgb(119, 148, 182); stroke-linecap: round; fill: rgb(240, 246, 255); fill-opacity: 0.0001; fill-rule: evenodd; display: none;\"></path><path id=\"daum-maps-shape-21\" style=\"stroke: rgb(119, 148, 182); stroke-opacity: 0.0001; stroke-width: 1.5px; color: rgb(119, 148, 182); stroke-linecap: round; fill: rgb(240, 246, 255); fill-opacity: 0.0001; fill-rule: evenodd; display: none;\"></path><path id=\"daum-maps-shape-22\" style=\"stroke: rgb(119, 148, 182); stroke-opacity: 0.0001; stroke-width: 1.5px; color: rgb(119, 148, 182); stroke-linecap: round; fill: rgb(240, 246, 255); fill-opacity: 0.0001; fill-rule: evenodd; display: none;\"></path><path id=\"daum-maps-shape-23\" style=\"stroke: rgb(119, 148, 182); stroke-opacity: 0.0001; stroke-width: 1.5px; color: rgb(119, 148, 182); stroke-linecap: round; fill: rgb(240, 246, 255); fill-opacity: 0.0001; fill-rule: evenodd; display: block;\" d=\" M3639 585 L3638 582 3637 583 3626 586 3627 589 3636 586 3571 611 3572 605 3577 607 3577 604 3563 600 3563 602 3568 604 3567 609 3557 613 3558 614 3556 615 3556 613 3549 616 3545 616 3545 614 3544 613 3543 615 3539 624 3542 625 3544 620 3547 621 3548 624 3539 627 3543 637 3552 633 3553 637 3552 638 3545 639 3545 642 3552 640 3561 645 3562 643 3557 641 3558 639 3557 636 3574 630 3578 631 3578 633 3579 634 3581 631 3577 629 3581 630 3584 623 3582 622 3580 627 3576 625 3576 624 3595 617 3597 623 3601 622 3599 615 3641 599 3644 598 3639 585 Z\" transform=\"translate(0,0)\"></path><path id=\"daum-maps-shape-24\" style=\"stroke: rgb(119, 148, 182); stroke-opacity: 0.0001; stroke-width: 1.5px; color: rgb(119, 148, 182); stroke-linecap: round; fill: rgb(240, 246, 255); fill-opacity: 0.0001; fill-rule: evenodd; display: block;\" d=\" M3958 468 L3952 470 3950 466 3945 468 3944 467 3941 468 3941 469 3940 470 3939 468 3936 470 3937 471 3920 478 3919 476 3921 472 3926 474 3927 472 3913 466 3912 468 3917 470 3915 475 3914 474 3899 479 3899 481 3895 479 3896 475 3894 474 3889 486 3891 487 3893 483 3898 486 3849 505 3848 502 3843 504 3831 508 3832 511 3802 523 3807 536 3847 521 3852 533 3853 536 3862 533 3860 529 3855 531 3851 522 3855 520 3854 518 3903 499 3902 504 3897 502 3896 504 3907 509 3907 507 3906 506 3908 501 3909 503 3924 498 3923 496 3930 499 3928 504 3930 509 3932 508 3930 504 3932 500 3935 501 3936 497 3939 491 3941 490 3940 488 3937 489 3934 495 3933 494 3932 495 3925 492 3962 477 3958 468 Z\" transform=\"translate(0,0)\"></path><path id=\"daum-maps-shape-25\" style=\"stroke: rgb(119, 148, 182); stroke-opacity: 0.0001; stroke-width: 1.5px; color: rgb(119, 148, 182); stroke-linecap: round; fill: rgb(240, 246, 255); fill-opacity: 0.0001; fill-rule: evenodd; display: block;\" d=\" M3758 567 L3756 562 3754 563 3752 559 3721 571 3721 569 3644 598 3641 599 3634 603 3635 604 3627 607 3640 640 3665 631 3687 685 3718 674 3719 678 3723 676 3733 671 3735 676 3737 676 3741 675 3740 672 3742 672 3744 677 3754 673 3752 668 3755 667 3743 638 3746 637 3728 587 3749 579 3746 572 3758 567 Z\" transform=\"translate(0,0)\"></path><path id=\"daum-maps-shape-26\" style=\"stroke: rgb(119, 148, 182); stroke-opacity: 0.0001; stroke-width: 1.5px; color: rgb(119, 148, 182); stroke-linecap: round; fill: rgb(240, 246, 255); fill-opacity: 0.0001; fill-rule: evenodd; display: block;\" d=\" M3853 536 L3852 533 3849 533 3852 541 3788 565 3785 557 3783 558 3758 568 3746 572 3749 579 3728 587 3746 637 3750 646 3781 634 3762 583 3791 572 3790 570 3794 568 3795 570 3857 547 3853 536 Z\" transform=\"translate(0,0)\"></path><path id=\"daum-maps-shape-27\" style=\"stroke: rgb(119, 148, 182); stroke-opacity: 0.0001; stroke-width: 1.5px; color: rgb(119, 148, 182); stroke-linecap: round; fill: rgb(240, 246, 255); fill-opacity: 0.0001; fill-rule: evenodd; display: block;\" d=\" M3783 558 L3785 557 3784 553 3782 554 3780 549 3808 539 3807 536 3802 523 3801 520 3770 532 3770 535 3719 554 3718 550 3707 554 3706 550 3697 554 3693 543 3691 544 3689 539 3682 542 3684 547 3681 548 3687 562 3674 567 3676 571 3639 585 3644 598 3721 569 3776 548 3780 559 3783 558 3782 555 3783 558 Z\" transform=\"translate(0,0)\"></path><path id=\"daum-maps-shape-28\" style=\"stroke: rgb(119, 148, 182); stroke-opacity: 0.0001; stroke-width: 1.5px; color: rgb(119, 148, 182); stroke-linecap: round; fill: rgb(240, 246, 255); fill-opacity: 0.0001; fill-rule: evenodd; display: block;\" d=\" M3962 477 L3980 470 3980 472 3968 476 3969 478 3981 473 3987 471 3986 468 4032 450 4021 455 4021 457 4033 453 4055 445 4050 429 4032 436 4027 421 4025 421 4030 435 4014 440 4015 442 4027 438 4029 441 3983 459 3981 455 3975 458 3963 462 3963 464 3976 459 3976 461 3958 468 3962 477 Z\" transform=\"translate(0,0)\"></path><path id=\"daum-maps-shape-29\" style=\"stroke: rgb(119, 148, 182); stroke-opacity: 0.0001; stroke-width: 1.5px; color: rgb(119, 148, 182); stroke-linecap: round; fill: rgb(240, 246, 255); fill-opacity: 0.0001; fill-rule: evenodd; display: none;\"></path><path id=\"daum-maps-shape-30\" style=\"stroke: rgb(119, 148, 182); stroke-opacity: 0.0001; stroke-width: 1.5px; color: rgb(119, 148, 182); stroke-linecap: round; fill: rgb(240, 246, 255); fill-opacity: 0.0001; fill-rule: evenodd; display: none;\"></path><path id=\"daum-maps-shape-31\" style=\"stroke: rgb(119, 148, 182); stroke-opacity: 0.0001; stroke-width: 1.5px; color: rgb(119, 148, 182); stroke-linecap: round; fill: rgb(240, 246, 255); fill-opacity: 0.0001; fill-rule: evenodd; display: none;\"></path><path id=\"daum-maps-shape-32\" style=\"stroke: rgb(119, 148, 182); stroke-opacity: 0.0001; stroke-width: 1.5px; color: rgb(119, 148, 182); stroke-linecap: round; fill: rgb(240, 246, 255); fill-opacity: 0.0001; fill-rule: evenodd; display: none;\"></path><path id=\"daum-maps-shape-33\" style=\"stroke: rgb(119, 148, 182); stroke-opacity: 0.0001; stroke-width: 1.5px; color: rgb(119, 148, 182); stroke-linecap: round; fill: rgb(240, 246, 255); fill-opacity: 0.0001; fill-rule: evenodd; display: none;\"></path><path id=\"daum-maps-shape-34\" style=\"stroke: rgb(119, 148, 182); stroke-opacity: 0.0001; stroke-width: 1.5px; color: rgb(119, 148, 182); stroke-linecap: round; fill: rgb(240, 246, 255); fill-opacity: 0.0001; fill-rule: evenodd; display: none;\"></path><path id=\"daum-maps-shape-35\" style=\"stroke: rgb(119, 148, 182); stroke-opacity: 0.0001; stroke-width: 1.5px; color: rgb(119, 148, 182); stroke-linecap: round; fill: rgb(240, 246, 255); fill-opacity: 0.0001; fill-rule: evenodd; display: none;\"></path><path id=\"daum-maps-shape-36\" style=\"stroke: rgb(119, 148, 182); stroke-opacity: 0.0001; stroke-width: 1.5px; color: rgb(119, 148, 182); stroke-linecap: round; fill: rgb(240, 246, 255); fill-opacity: 0.0001; fill-rule: evenodd; display: none;\"></path><path id=\"daum-maps-shape-37\" style=\"stroke: rgb(119, 148, 182); stroke-opacity: 0.0001; stroke-width: 1.5px; color: rgb(119, 148, 182); stroke-linecap: round; fill: rgb(240, 246, 255); fill-opacity: 0.0001; fill-rule: evenodd; display: none;\"></path><path id=\"daum-maps-shape-38\" style=\"stroke: rgb(119, 148, 182); stroke-opacity: 0.0001; stroke-width: 1.5px; color: rgb(119, 148, 182); stroke-linecap: round; fill: rgb(240, 246, 255); fill-opacity: 0.0001; fill-rule: evenodd; display: none;\"></path><path id=\"daum-maps-shape-39\" style=\"stroke: rgb(119, 148, 182); stroke-opacity: 0.0001; stroke-width: 1.5px; color: rgb(119, 148, 182); stroke-linecap: round; fill: rgb(240, 246, 255); fill-opacity: 0.0001; fill-rule: evenodd; display: none;\"></path><path id=\"daum-maps-shape-40\" style=\"stroke: rgb(119, 148, 182); stroke-opacity: 0.0001; stroke-width: 1.5px; color: rgb(119, 148, 182); stroke-linecap: round; fill: rgb(240, 246, 255); fill-opacity: 0.0001; fill-rule: evenodd; display: none;\"></path><path id=\"daum-maps-shape-41\" style=\"stroke: rgb(119, 148, 182); stroke-opacity: 0.0001; stroke-width: 1.5px; color: rgb(119, 148, 182); stroke-linecap: round; fill: rgb(240, 246, 255); fill-opacity: 0.0001; fill-rule: evenodd; display: none;\"></path><path id=\"daum-maps-shape-42\" style=\"stroke: rgb(119, 148, 182); stroke-opacity: 0.0001; stroke-width: 1.5px; color: rgb(119, 148, 182); stroke-linecap: round; fill: rgb(240, 246, 255); fill-opacity: 0.0001; fill-rule: evenodd; display: none;\"></path><path id=\"daum-maps-shape-43\" style=\"stroke: rgb(119, 148, 182); stroke-opacity: 0.0001; stroke-width: 1.5px; color: rgb(119, 148, 182); stroke-linecap: round; fill: rgb(240, 246, 255); fill-opacity: 0.0001; fill-rule: evenodd; display: none;\"></path><path id=\"daum-maps-shape-44\" style=\"stroke: rgb(119, 148, 182); stroke-opacity: 0.0001; stroke-width: 1.5px; color: rgb(119, 148, 182); stroke-linecap: round; fill: rgb(240, 246, 255); fill-opacity: 0.0001; fill-rule: evenodd; display: none;\"></path><path id=\"daum-maps-shape-45\" style=\"stroke: rgb(119, 148, 182); stroke-opacity: 0.0001; stroke-width: 1.5px; color: rgb(119, 148, 182); stroke-linecap: round; fill: rgb(240, 246, 255); fill-opacity: 0.0001; fill-rule: evenodd; display: none;\"></path><path id=\"daum-maps-shape-46\" style=\"stroke: rgb(119, 148, 182); stroke-opacity: 0.0001; stroke-width: 1.5px; color: rgb(119, 148, 182); stroke-linecap: round; fill: rgb(240, 246, 255); fill-opacity: 0.0001; fill-rule: evenodd; display: none;\"></path><path id=\"daum-maps-shape-47\" style=\"stroke: rgb(119, 148, 182); stroke-opacity: 0.0001; stroke-width: 1.5px; color: rgb(119, 148, 182); stroke-linecap: round; fill: rgb(240, 246, 255); fill-opacity: 0.0001; fill-rule: evenodd; display: none;\"></path><path id=\"daum-maps-shape-48\" style=\"stroke: rgb(119, 148, 182); stroke-opacity: 0.0001; stroke-width: 1.5px; color: rgb(119, 148, 182); stroke-linecap: round; fill: rgb(240, 246, 255); fill-opacity: 0.0001; fill-rule: evenodd; display: none;\"></path><path id=\"daum-maps-shape-49\" style=\"stroke: rgb(119, 148, 182); stroke-opacity: 0.0001; stroke-width: 1.5px; color: rgb(119, 148, 182); stroke-linecap: round; fill: rgb(240, 246, 255); fill-opacity: 0.0001; fill-rule: evenodd; display: none;\"></path><path id=\"daum-maps-shape-50\" style=\"stroke: rgb(119, 148, 182); stroke-opacity: 0.0001; stroke-width: 1.5px; color: rgb(119, 148, 182); stroke-linecap: round; fill: rgb(240, 246, 255); fill-opacity: 0.0001; fill-rule: evenodd; display: none;\"></path><path id=\"daum-maps-shape-51\" style=\"stroke: rgb(119, 148, 182); stroke-opacity: 0.0001; stroke-width: 1.5px; color: rgb(119, 148, 182); stroke-linecap: round; fill: rgb(240, 246, 255); fill-opacity: 0.0001; fill-rule: evenodd; display: none;\"></path><path id=\"daum-maps-shape-52\" style=\"stroke: rgb(119, 148, 182); stroke-opacity: 0.0001; stroke-width: 1.5px; color: rgb(119, 148, 182); stroke-linecap: round; fill: rgb(240, 246, 255); fill-opacity: 0.0001; fill-rule: evenodd; display: none;\"></path><path id=\"daum-maps-shape-53\" style=\"stroke: rgb(119, 148, 182); stroke-opacity: 0.0001; stroke-width: 1.5px; color: rgb(119, 148, 182); stroke-linecap: round; fill: rgb(240, 246, 255); fill-opacity: 0.0001; fill-rule: evenodd; display: none;\"></path><path id=\"daum-maps-shape-54\" style=\"stroke: rgb(119, 148, 182); stroke-opacity: 0.0001; stroke-width: 1.5px; color: rgb(119, 148, 182); stroke-linecap: round; fill: rgb(240, 246, 255); fill-opacity: 0.0001; fill-rule: evenodd; display: none;\"></path><path id=\"daum-maps-shape-55\" style=\"stroke: rgb(119, 148, 182); stroke-opacity: 0.0001; stroke-width: 1.5px; color: rgb(119, 148, 182); stroke-linecap: round; fill: rgb(240, 246, 255); fill-opacity: 0.0001; fill-rule: evenodd; display: none;\"></path><path id=\"daum-maps-shape-56\" style=\"stroke: rgb(119, 148, 182); stroke-opacity: 0.0001; stroke-width: 1.5px; color: rgb(119, 148, 182); stroke-linecap: round; fill: rgb(240, 246, 255); fill-opacity: 0.0001; fill-rule: evenodd; display: none;\"></path><path id=\"daum-maps-shape-57\" style=\"stroke: rgb(119, 148, 182); stroke-opacity: 0.0001; stroke-width: 1.5px; color: rgb(119, 148, 182); stroke-linecap: round; fill: rgb(240, 246, 255); fill-opacity: 0.0001; fill-rule: evenodd; display: none;\"></path><path id=\"daum-maps-shape-58\" style=\"stroke: rgb(119, 148, 182); stroke-opacity: 0.0001; stroke-width: 1.5px; color: rgb(119, 148, 182); stroke-linecap: round; fill: rgb(240, 246, 255); fill-opacity: 0.0001; fill-rule: evenodd; display: none;\"></path><path id=\"daum-maps-shape-59\" style=\"stroke: rgb(119, 148, 182); stroke-opacity: 0.0001; stroke-width: 1.5px; color: rgb(119, 148, 182); stroke-linecap: round; fill: rgb(240, 246, 255); fill-opacity: 0.0001; fill-rule: evenodd; display: none;\"></path><path id=\"daum-maps-shape-60\" style=\"stroke: rgb(119, 148, 182); stroke-opacity: 0.0001; stroke-width: 1.5px; color: rgb(119, 148, 182); stroke-linecap: round; fill: rgb(240, 246, 255); fill-opacity: 0.0001; fill-rule: evenodd; display: none;\"></path><path id=\"daum-maps-shape-61\" style=\"stroke: rgb(119, 148, 182); stroke-opacity: 0.0001; stroke-width: 1.5px; color: rgb(119, 148, 182); stroke-linecap: round; fill: rgb(240, 246, 255); fill-opacity: 0.0001; fill-rule: evenodd; display: none;\"></path><path id=\"daum-maps-shape-62\" style=\"stroke: rgb(119, 148, 182); stroke-opacity: 0.0001; stroke-width: 1.5px; color: rgb(119, 148, 182); stroke-linecap: round; fill: rgb(240, 246, 255); fill-opacity: 0.0001; fill-rule: evenodd; display: none;\"></path><path id=\"daum-maps-shape-63\" style=\"stroke: rgb(119, 148, 182); stroke-opacity: 0.0001; stroke-width: 1.5px; color: rgb(119, 148, 182); stroke-linecap: round; fill: rgb(240, 246, 255); fill-opacity: 0.0001; fill-rule: evenodd; display: none;\"></path><path id=\"daum-maps-shape-64\" style=\"stroke: rgb(119, 148, 182); stroke-opacity: 0.0001; stroke-width: 1.5px; color: rgb(119, 148, 182); stroke-linecap: round; fill: rgb(240, 246, 255); fill-opacity: 0.0001; fill-rule: evenodd; display: block;\" d=\" M3741 675 L3738 677 3738 679 3736 680 3740 692 3714 701 3713 698 3708 701 3708 707 3709 710 3684 721 3674 724 3671 718 3659 723 3663 731 3652 736 3658 748 3639 757 3633 747 3630 749 3639 763 3632 775 3635 777 3645 761 3663 752 3669 754 3686 746 3687 747 3708 740 3784 703 3777 688 3775 689 3773 684 3768 686 3766 683 3752 689 3751 688 3748 689 3742 675 Z\" transform=\"translate(0,0)\"></path><path id=\"daum-maps-shape-65\" style=\"stroke: rgb(119, 148, 182); stroke-opacity: 0.0001; stroke-width: 1.5px; color: rgb(119, 148, 182); stroke-linecap: round; fill: rgb(240, 246, 255); fill-opacity: 0.0001; fill-rule: evenodd; display: none;\"></path><path id=\"daum-maps-shape-66\" style=\"stroke: rgb(119, 148, 182); stroke-opacity: 0.0001; stroke-width: 1.5px; color: rgb(119, 148, 182); stroke-linecap: round; fill: rgb(240, 246, 255); fill-opacity: 0.0001; fill-rule: evenodd; display: none;\"></path><path id=\"daum-maps-shape-67\" style=\"stroke: rgb(119, 148, 182); stroke-opacity: 0.0001; stroke-width: 1.5px; color: rgb(119, 148, 182); stroke-linecap: round; fill: rgb(240, 246, 255); fill-opacity: 0.0001; fill-rule: evenodd; display: none;\"></path><path id=\"daum-maps-shape-68\" style=\"stroke: rgb(119, 148, 182); stroke-opacity: 0.0001; stroke-width: 1.5px; color: rgb(119, 148, 182); stroke-linecap: round; fill: rgb(240, 246, 255); fill-opacity: 0.0001; fill-rule: evenodd; display: none;\"></path><path id=\"daum-maps-shape-69\" style=\"stroke: rgb(119, 148, 182); stroke-opacity: 0.0001; stroke-width: 1.5px; color: rgb(119, 148, 182); stroke-linecap: round; fill: rgb(240, 246, 255); fill-opacity: 0.0001; fill-rule: evenodd; display: none;\"></path><path id=\"daum-maps-shape-70\" style=\"stroke: rgb(119, 148, 182); stroke-opacity: 0.0001; stroke-width: 1.5px; color: rgb(119, 148, 182); stroke-linecap: round; fill: rgb(240, 246, 255); fill-opacity: 0.0001; fill-rule: evenodd; display: none;\"></path><path id=\"daum-maps-shape-71\" style=\"stroke: rgb(119, 148, 182); stroke-opacity: 0.0001; stroke-width: 1.5px; color: rgb(119, 148, 182); stroke-linecap: round; fill: rgb(240, 246, 255); fill-opacity: 0.0001; fill-rule: evenodd; display: none;\"></path><path id=\"daum-maps-shape-72\" style=\"stroke: rgb(119, 148, 182); stroke-opacity: 0.0001; stroke-width: 1.5px; color: rgb(119, 148, 182); stroke-linecap: round; fill: rgb(240, 246, 255); fill-opacity: 0.0001; fill-rule: evenodd; display: none;\"></path><path id=\"daum-maps-shape-73\" style=\"stroke: rgb(119, 148, 182); stroke-opacity: 0.0001; stroke-width: 1.5px; color: rgb(119, 148, 182); stroke-linecap: round; fill: rgb(240, 246, 255); fill-opacity: 0.0001; fill-rule: evenodd; display: none;\"></path><path id=\"daum-maps-shape-74\" style=\"stroke: rgb(119, 148, 182); stroke-opacity: 0.0001; stroke-width: 1.5px; color: rgb(119, 148, 182); stroke-linecap: round; fill: rgb(240, 246, 255); fill-opacity: 0.0001; fill-rule: evenodd; display: none;\"></path><path id=\"daum-maps-shape-75\" style=\"stroke: rgb(119, 148, 182); stroke-opacity: 0.0001; stroke-width: 1.5px; color: rgb(119, 148, 182); stroke-linecap: round; fill: rgb(240, 246, 255); fill-opacity: 0.0001; fill-rule: evenodd; display: none;\"></path><path id=\"daum-maps-shape-76\" style=\"stroke: rgb(119, 148, 182); stroke-opacity: 0.0001; stroke-width: 1.5px; color: rgb(119, 148, 182); stroke-linecap: round; fill: rgb(240, 246, 255); fill-opacity: 0.0001; fill-rule: evenodd; display: none;\"></path><path id=\"daum-maps-shape-77\" style=\"stroke: rgb(119, 148, 182); stroke-opacity: 0.0001; stroke-width: 1.5px; color: rgb(119, 148, 182); stroke-linecap: round; fill: rgb(240, 246, 255); fill-opacity: 0.0001; fill-rule: evenodd; display: none;\"></path><path id=\"daum-maps-shape-78\" style=\"stroke: rgb(119, 148, 182); stroke-opacity: 0.0001; stroke-width: 1.5px; color: rgb(119, 148, 182); stroke-linecap: round; fill: rgb(240, 246, 255); fill-opacity: 0.0001; fill-rule: evenodd; display: none;\"></path><path id=\"daum-maps-shape-79\" style=\"stroke: rgb(119, 148, 182); stroke-opacity: 0.0001; stroke-width: 1.5px; color: rgb(119, 148, 182); stroke-linecap: round; fill: rgb(240, 246, 255); fill-opacity: 0.0001; fill-rule: evenodd; display: none;\"></path><path id=\"daum-maps-shape-80\" style=\"stroke: rgb(119, 148, 182); stroke-opacity: 0.0001; stroke-width: 1.5px; color: rgb(119, 148, 182); stroke-linecap: round; fill: rgb(240, 246, 255); fill-opacity: 0.0001; fill-rule: evenodd; display: none;\"></path><path id=\"daum-maps-shape-81\" style=\"stroke: rgb(119, 148, 182); stroke-opacity: 0.0001; stroke-width: 1.5px; color: rgb(119, 148, 182); stroke-linecap: round; fill: rgb(240, 246, 255); fill-opacity: 0.0001; fill-rule: evenodd; display: none;\"></path><path id=\"daum-maps-shape-82\" style=\"stroke: rgb(119, 148, 182); stroke-opacity: 0.0001; stroke-width: 1.5px; color: rgb(119, 148, 182); stroke-linecap: round; fill: rgb(240, 246, 255); fill-opacity: 0.0001; fill-rule: evenodd; display: none;\"></path><path id=\"daum-maps-shape-83\" style=\"stroke: rgb(119, 148, 182); stroke-opacity: 0.0001; stroke-width: 1.5px; color: rgb(119, 148, 182); stroke-linecap: round; fill: rgb(240, 246, 255); fill-opacity: 0.0001; fill-rule: evenodd; display: none;\"></path><path id=\"daum-maps-shape-84\" style=\"stroke: rgb(119, 148, 182); stroke-opacity: 0.0001; stroke-width: 1.5px; color: rgb(119, 148, 182); stroke-linecap: round; fill: rgb(240, 246, 255); fill-opacity: 0.0001; fill-rule: evenodd; display: none;\"></path><path id=\"daum-maps-shape-85\" style=\"stroke: rgb(119, 148, 182); stroke-opacity: 0.0001; stroke-width: 1.5px; color: rgb(119, 148, 182); stroke-linecap: round; fill: rgb(240, 246, 255); fill-opacity: 0.0001; fill-rule: evenodd; display: none;\"></path><path id=\"daum-maps-shape-86\" style=\"stroke: rgb(119, 148, 182); stroke-opacity: 0.0001; stroke-width: 1.5px; color: rgb(119, 148, 182); stroke-linecap: round; fill: rgb(240, 246, 255); fill-opacity: 0.0001; fill-rule: evenodd; display: none;\"></path></svg></div><div style=\"position: absolute; z-index: 1; width: 100%; height: 0px; transform: translateZ(0px);\"><div style=\"position: absolute; margin: -35px 0px 0px -13px; z-index: 2; left: 3322px; top: 6825px; display: block;\"><img draggable=\"false\" src=\"//t1.daumcdn.net/localimg/localimages/07/2018/pc/img/marker_normal.png\" alt=\"\" role=\"presentation\" title=\"\" style=\"min-width: 0px; min-height: 0px; max-width: 99999px; max-height: none; border: 0px; display: block; position: absolute; user-select: none; -webkit-user-drag: none; clip: rect(700px, 58px, 736px, 30px); top: -700px; left: -30px; width: 276px; height: 891px;\"></div><div style=\"position: absolute; margin: -35px 0px 0px -13px; z-index: 2; left: 3431px; top: 6929px; display: block;\"><img draggable=\"false\" src=\"//t1.daumcdn.net/localimg/localimages/07/2018/pc/img/marker_normal.png\" alt=\"\" role=\"presentation\" title=\"\" style=\"min-width: 0px; min-height: 0px; max-width: 99999px; max-height: none; border: 0px; display: block; position: absolute; user-select: none; -webkit-user-drag: none; clip: rect(650px, 58px, 686px, 30px); top: -650px; left: -30px; width: 276px; height: 891px;\"></div><div style=\"position: absolute; margin: -35px 0px 0px -13px; z-index: 2; left: 3271px; top: 7026px; display: block;\"><img draggable=\"false\" src=\"//t1.daumcdn.net/localimg/localimages/07/2018/pc/img/marker_normal.png\" alt=\"\" role=\"presentation\" title=\"\" style=\"min-width: 0px; min-height: 0px; max-width: 99999px; max-height: none; border: 0px; display: block; position: absolute; user-select: none; -webkit-user-drag: none; clip: rect(600px, 58px, 636px, 30px); top: -600px; left: -30px; width: 276px; height: 891px;\"></div><div style=\"position: absolute; margin: -35px 0px 0px -13px; z-index: 2; left: 3240px; top: 6666px; display: block;\"><img draggable=\"false\" src=\"//t1.daumcdn.net/localimg/localimages/07/2018/pc/img/marker_normal.png\" alt=\"\" role=\"presentation\" title=\"\" style=\"min-width: 0px; min-height: 0px; max-width: 99999px; max-height: none; border: 0px; display: block; position: absolute; user-select: none; -webkit-user-drag: none; clip: rect(550px, 58px, 586px, 30px); top: -550px; left: -30px; width: 276px; height: 891px;\"></div><div style=\"position: absolute; margin: -35px 0px 0px -13px; z-index: 2; left: 3244px; top: 6638px; display: block;\"><img draggable=\"false\" src=\"//t1.daumcdn.net/localimg/localimages/07/2018/pc/img/marker_normal.png\" alt=\"\" role=\"presentation\" title=\"\" style=\"min-width: 0px; min-height: 0px; max-width: 99999px; max-height: none; border: 0px; display: block; position: absolute; user-select: none; -webkit-user-drag: none; clip: rect(500px, 58px, 536px, 30px); top: -500px; left: -30px; width: 276px; height: 891px;\"></div><div style=\"position: absolute; margin: -35px 0px 0px -13px; z-index: 2; left: 3269px; top: 6750px; display: block;\"><img draggable=\"false\" src=\"//t1.daumcdn.net/localimg/localimages/07/2018/pc/img/marker_normal.png\" alt=\"\" role=\"presentation\" title=\"\" style=\"min-width: 0px; min-height: 0px; max-width: 99999px; max-height: none; border: 0px; display: block; position: absolute; user-select: none; -webkit-user-drag: none; clip: rect(450px, 58px, 486px, 30px); top: -450px; left: -30px; width: 276px; height: 891px;\"></div><div style=\"position: absolute; margin: -35px 0px 0px -13px; z-index: 2; left: 3142px; top: 6614px; display: block;\"><img draggable=\"false\" src=\"//t1.daumcdn.net/localimg/localimages/07/2018/pc/img/marker_normal.png\" alt=\"\" role=\"presentation\" title=\"\" style=\"min-width: 0px; min-height: 0px; max-width: 99999px; max-height: none; border: 0px; display: block; position: absolute; user-select: none; -webkit-user-drag: none; clip: rect(400px, 58px, 436px, 30px); top: -400px; left: -30px; width: 276px; height: 891px;\"></div><div style=\"position: absolute; margin: -35px 0px 0px -13px; z-index: 2; left: 3243px; top: 7084px; display: block;\"><img draggable=\"false\" src=\"//t1.daumcdn.net/localimg/localimages/07/2018/pc/img/marker_normal.png\" alt=\"\" role=\"presentation\" title=\"\" style=\"min-width: 0px; min-height: 0px; max-width: 99999px; max-height: none; border: 0px; display: block; position: absolute; user-select: none; -webkit-user-drag: none; clip: rect(350px, 58px, 386px, 30px); top: -350px; left: -30px; width: 276px; height: 891px;\"></div><div style=\"position: absolute; margin: -35px 0px 0px -13px; z-index: 2; left: 3264px; top: 6951px; display: block;\"><img draggable=\"false\" src=\"//t1.daumcdn.net/localimg/localimages/07/2018/pc/img/marker_normal.png\" alt=\"\" role=\"presentation\" title=\"\" style=\"min-width: 0px; min-height: 0px; max-width: 99999px; max-height: none; border: 0px; display: block; position: absolute; user-select: none; -webkit-user-drag: none; clip: rect(300px, 58px, 336px, 30px); top: -300px; left: -30px; width: 276px; height: 891px;\"></div><div style=\"position: absolute; margin: -35px 0px 0px -13px; z-index: 2; left: 3257px; top: 6743px; display: block;\"><img draggable=\"false\" src=\"//t1.daumcdn.net/localimg/localimages/07/2018/pc/img/marker_normal.png\" alt=\"\" role=\"presentation\" title=\"\" style=\"min-width: 0px; min-height: 0px; max-width: 99999px; max-height: none; border: 0px; display: block; position: absolute; user-select: none; -webkit-user-drag: none; clip: rect(250px, 58px, 286px, 30px); top: -250px; left: -30px; width: 276px; height: 891px;\"></div><div style=\"position: absolute; margin: -35px 0px 0px -13px; z-index: 2; left: 3246px; top: 6667px; display: block;\"><img draggable=\"false\" src=\"//t1.daumcdn.net/localimg/localimages/07/2018/pc/img/marker_normal.png\" alt=\"\" role=\"presentation\" title=\"\" style=\"min-width: 0px; min-height: 0px; max-width: 99999px; max-height: none; border: 0px; display: block; position: absolute; user-select: none; -webkit-user-drag: none; clip: rect(200px, 58px, 236px, 30px); top: -200px; left: -30px; width: 276px; height: 891px;\"></div><div style=\"position: absolute; margin: -35px 0px 0px -13px; z-index: 2; left: 3278px; top: 7037px; display: block;\"><img draggable=\"false\" src=\"//t1.daumcdn.net/localimg/localimages/07/2018/pc/img/marker_normal.png\" alt=\"\" role=\"presentation\" title=\"\" style=\"min-width: 0px; min-height: 0px; max-width: 99999px; max-height: none; border: 0px; display: block; position: absolute; user-select: none; -webkit-user-drag: none; clip: rect(150px, 58px, 186px, 30px); top: -150px; left: -30px; width: 276px; height: 891px;\"></div><div style=\"position: absolute; margin: -35px 0px 0px -13px; z-index: 2; left: 3219px; top: 6838px; display: block;\"><img draggable=\"false\" src=\"//t1.daumcdn.net/localimg/localimages/07/2018/pc/img/marker_normal.png\" alt=\"\" role=\"presentation\" title=\"\" style=\"min-width: 0px; min-height: 0px; max-width: 99999px; max-height: none; border: 0px; display: block; position: absolute; user-select: none; -webkit-user-drag: none; clip: rect(100px, 58px, 136px, 30px); top: -100px; left: -30px; width: 276px; height: 891px;\"></div><div style=\"position: absolute; margin: -35px 0px 0px -13px; z-index: 2; left: 3273px; top: 6795px; display: block;\"><img draggable=\"false\" src=\"//t1.daumcdn.net/localimg/localimages/07/2018/pc/img/marker_normal.png\" alt=\"\" role=\"presentation\" title=\"\" style=\"min-width: 0px; min-height: 0px; max-width: 99999px; max-height: none; border: 0px; display: block; position: absolute; user-select: none; -webkit-user-drag: none; clip: rect(50px, 58px, 86px, 30px); top: -50px; left: -30px; width: 276px; height: 891px;\"></div><div style=\"position: absolute; margin: -35px 0px 0px -13px; z-index: 2; left: 3240px; top: 6717px; display: block;\"><img draggable=\"false\" src=\"//t1.daumcdn.net/localimg/localimages/07/2018/pc/img/marker_normal.png\" alt=\"\" role=\"presentation\" title=\"\" style=\"min-width: 0px; min-height: 0px; max-width: 99999px; max-height: none; border: 0px; display: block; position: absolute; user-select: none; -webkit-user-drag: none; clip: rect(0px, 58px, 36px, 30px); top: 0px; left: -30px; width: 276px; height: 891px;\"></div></div></div></div><div style=\"position: absolute; cursor: default; z-index: 1; margin: 0px 6px; height: 19px; line-height: 14px; bottom: 0px; color: rgb(0, 0, 0); right: 0px;\"><div style=\"color: rgb(0, 0, 0); text-align: center; font-size: 10px; float: right;\"><div style=\"float: left; margin: 2px 3px 0px 4px; height: 6px; transition: width 0.1s ease 0s; border-top: none rgb(0, 0, 0); border-right: 2px solid rgb(0, 0, 0); border-bottom: 2px solid rgb(0, 0, 0); border-left: 2px solid rgb(0, 0, 0); border-image: initial; width: 46px;\"></div><div style=\"float: left; margin: 0px 4px 0px 0px; font-family: AppleSDGothicNeo-Regular, 돋움, dotum, sans-serif; font-weight: bold; color: rgb(0, 0, 0);\">100m</div></div><div style=\"margin: 0px 4px; float: right;\"><a target=\"_blank\" href=\"http://map.kakao.com/\" title=\"Kakao 지도로 보시려면 클릭하세요.\" style=\"float: left; width: 32px; height: 10px;\"><img src=\"https://t1.daumcdn.net/mapjsapi/images/2x/m_bi_b.png\" alt=\"Kakao 지도로 이동\" style=\"float: left; width: 32px; height: 10px; border: none;\"></a><div style=\"font: 11px / 11px Arial, Tahoma, Dotum, sans-serif; float: left;\"></div></div></div><div style=\"cursor: auto; position: absolute; z-index: 2; left: 0px; top: 0px;\"></div><div class=\"MapWalkerThere\" style=\"display: none;\">        <div data-id=\"body\" class=\"body ico_roadview2\"></div>        <span class=\"bubble_walker ico_roadview2\" style=\"\"></span>    </div></div>\\n        <div id=\"view.deco\" class=\"FrameDecorator FrameDecorator_type2 HIDDEN\">            <button type=\"button\" id=\"view.deco.toggle\" class=\"toggle\"><span class=\"ico_toggle\">미니맵 노출</span></button>\\n        </div>\\n            <div class=\"LayerLegend HIDDEN\">\\n\\t<a href=\"#\" class=\"legendBtn HIDDEN\"></a>\\n\\t<div class=\"legendWrap HIDDEN\">\\n\\t\\t<div class=\"legendSelect\">\\n\\t\\t\\t<a href=\"#\" data-id=\"traffic\" class=\"traffic SELECT\">교통</a>\\n\\t\\t\\t<a href=\"#\" data-id=\"bike\" class=\"bike\">자전거</a>\\n\\t\\t\\t<a href=\"#\" data-id=\"air\" class=\"air\">날씨</a>\\n\\t\\t\\t<a href=\"#\" data-id=\"usedistrict\" class=\"usedistrict\">지적편집도</a>\\n\\t\\t</div>\\n\\t\\t<a data-id=\"close\" class=\"close\" href=\"#\"></a>\\n\\t\\t<div class=\"TrafficLegend\">\\n\\t\\t    <p class=\"date\">기준 : <span data-id=\"date\"></span></p>\\n\\t\\t    <a data-id=\"refresh\" class=\"refresh HIDDEN\" href=\"#\">새로고침</a>\\n\\t\\t    <ul class=\"bar\">\\n\\t\\t        <li data-id=\"density1\" class=\"density1\">\\n\\t\\t\\t\\t\\t<a href=\"#\"><span class=\"item_bar\"></span>원활</a>\\n\\t\\t\\t\\t\\t<div data-id=\"tooltip1\" class=\"tooltip tooltip1 HIDDEN\">\\n\\t\\t\\t\\t\\t\\t<dl>\\n\\t\\t\\t\\t\\t\\t\\t<dt>고속도로 :</dt><dd><strong>80</strong>km/h<span class=\"upArrow\"></span></dd>\\n\\t\\t\\t\\t\\t\\t\\t<dt>국도 :</dt><dd><strong>60</strong>km/h<span class=\"upArrow\"></span></dd>\\n\\t\\t\\t\\t\\t\\t\\t<dt>시내도로 :</dt><dd><strong>40</strong>km/h<span class=\"upArrow\"></span></dd>\\n\\t\\t\\t\\t\\t\\t</dl>\\n\\t\\t\\t\\t\\t</div>\\n\\t\\t\\t\\t</li>\\n\\t\\t        <li data-id=\"density2\" class=\"density2\">\\n                    <a href=\"#\"><span class=\"item_bar\"></span>서행</a>\\n\\t\\t\\t\\t\\t<div data-id=\"tooltip2\" class=\"tooltip tooltip2 HIDDEN\">\\n\\t\\t\\t\\t\\t\\t<dl>\\n\\t\\t\\t\\t\\t\\t\\t<dt>고속도로 :</dt><dd><strong>50~80</strong>km/h</dd>\\n\\t\\t\\t\\t\\t\\t\\t<dt>국도 :</dt><dd><strong>40~60</strong>km/h</dd>\\n\\t\\t\\t\\t\\t\\t\\t<dt>시내도로 :</dt><dd><strong>20~40</strong>km/h</dd>\\n\\t\\t\\t\\t\\t\\t</dl>\\n\\t\\t\\t\\t\\t</div>\\n\\t\\t\\t\\t</li>\\n\\t\\t        <li data-id=\"density3\" class=\"density3\">\\n                    <a href=\"#\"><span class=\"item_bar\"></span>지체</a>\\n\\t\\t\\t\\t\\t<div data-id=\"tooltip3\" class=\"tooltip tooltip3 HIDDEN\">\\n\\t\\t\\t\\t\\t\\t<dl>\\n\\t\\t\\t\\t\\t\\t\\t<dt>고속도로 :</dt><dd><strong>20~50</strong>km/h</dd>\\n\\t\\t\\t\\t\\t\\t\\t<dt>국도 :</dt><dd><strong>20~40</strong>km/h</dd>\\n\\t\\t\\t\\t\\t\\t\\t<dt>시내도로 :</dt><dd><strong>10~20</strong>km/h</dd>\\n\\t\\t\\t\\t\\t\\t</dl>\\n\\t\\t\\t\\t\\t</div>\\n\\t\\t\\t\\t</li>\\n\\t\\t        <li data-id=\"density4\" class=\"density4\">\\n                    <a href=\"#\"><span class=\"item_bar\"></span>정체</a>\\n\\t\\t\\t\\t\\t<div data-id=\"tooltip4\" class=\"tooltip tooltip4 HIDDEN\">\\n\\t\\t\\t\\t\\t\\t<dl>\\n\\t\\t\\t\\t\\t\\t\\t<dt>고속도로 :</dt><dd><strong>20</strong>km/h<span class=\"downArrow\"></span></dd>\\n\\t\\t\\t\\t\\t\\t\\t<dt>국도 :</dt><dd><strong>20</strong>km/h<span class=\"downArrow\"></span></dd>\\n\\t\\t\\t\\t\\t\\t\\t<dt>시내도로 :</dt><dd><strong>10</strong>km/h<span class=\"downArrow\"></span></dd>\\n\\t\\t\\t\\t\\t\\t</dl>\\n\\t\\t\\t\\t\\t</div>\\n\\t\\t\\t\\t</li>\\n\\t\\t        <li data-id=\"density5\" class=\"density5\">\\n                    <a href=\"#\"><span class=\"item_bar\"></span>정보없음</a>\\n\\t\\t\\t\\t</li>\\n\\t\\t    </ul>\\n\\t\\t    <ul class=\"desc\">\\n\\t\\t        <!-- <li class=\"clickable\">속도 정보 라인 위를 클릭하면, 상세 정보 확인 가능</li> -->\\n\\t\\t        <li>시내 도로는 신호 정차 등의 이유로 실제속도와 다를 수 있습니다.</li>\\n\\t\\t    </ul>\\n\\t\\t</div>\\n\\t\\t<div data-id=\"BikeLegend\" class=\"BikeLegend bikecate1\">\\n\\t\\t\\t<ul class=\"bikeCategory\">\\n\\t\\t\\t\\t<li class=\"cate1\"><a href=\"#\" data-id=\"bikecate1\">도로안내</a></li>\\n\\t\\t        <li class=\"cate2\"><a href=\"#\" data-id=\"bikecate2\">진입로</a></li>\\n\\t\\t        <li class=\"cate3\"><a href=\"#\" data-id=\"bikecate3\">편의시설</a></li>\\n\\t\\t\\t</ul>\\n\\t\\t\\t<div class=\"infocate\"></div>\\n\\t\\t</div>\\n\\t\\t<div data-id=\"AirLegend\" class=\"AirLegend aircate1\">\\n\\t\\t\\t<div class=\"airCategory\">\\n\\t\\t\\t\\t<div class=\"inner_airCategory\">\\n\\t\\t\\t\\t\\t<ul style=\"width:600px\">\\n\\t\\t\\t\\t\\t\\t<li class=\"cate1\"><a href=\"#\" data-id=\"aircate1\">통합대기지수</a></li>\\n\\t\\t\\t\\t\\t\\t<li class=\"cate2\"><a href=\"#\" data-id=\"aircate2\">미세먼지</a></li>\\n\\t\\t\\t\\t\\t\\t<li class=\"cate3\"><a href=\"#\" data-id=\"aircate3\">초미세먼지</a></li>\\n\\t\\t\\t\\t\\t\\t<li class=\"cate4\"><a href=\"#\" data-id=\"aircate4\">황사</a></li>\\n\\t\\t\\t\\t\\t\\t<li class=\"cate5\"><a href=\"#\" data-id=\"aircate5\">오존</a></li>\\n\\t\\t\\t\\t\\t\\t<li class=\"cate6\"><a href=\"#\" data-id=\"aircate6\">이산화질소</a></li>\\n\\t\\t\\t\\t\\t\\t<li class=\"cate7\"><a href=\"#\" data-id=\"aircate7\">일산화탄소</a></li>\\n\\t\\t\\t\\t\\t\\t<li class=\"cate8\"><a href=\"#\" data-id=\"aircate8\">아황산가스</a></li>\\n\\t\\t\\t\\t\\t</ul>\\n\\t\\t\\t\\t</div>\\n\\t\\t\\t</div>\\n\\t\\t\\t<a href=\"#none\" data-id=\"airmore\" class=\"more\">더보기</a>\\n\\n\\t\\t    <div data-id=\"airtooltip1\" class=\"tooltip tooltip1 HIDDEN\">\\n\\t\\t    \\t<strong>0~50</strong>\\n\\t\\t    </div>\\n\\t\\t    <div data-id=\"airtooltip2\" class=\"tooltip tooltip2 HIDDEN\">\\n\\t\\t        <strong>51~100</strong>\\n\\t\\t    </div>\\n\\t\\t    <div data-id=\"airtooltip3\" class=\"tooltip tooltip3 HIDDEN\">\\n\\t\\t\\t\\t<strong>101~250</strong>\\n\\t\\t    </div>\\n\\t\\t    <div data-id=\"airtooltip4\" class=\"tooltip tooltip4 HIDDEN\">\\n\\t\\t\\t\\t<strong>251~</strong>\\n\\t\\t    </div>\\n\\t\\t    <p class=\"date\">기준 : <span data-id=\"airdate\"></span></p>\\n\\t\\t    <span class=\"supply\"><a href=\"http://www.airkorea.or.kr/index\" target=\"_blank\" data-id=\"airsupply\">환경부 한국환경공단</a></span>\\n            <ul class=\"bar\">\\n                <li data-id=\"airdensity1\" class=\"density1\"><p><span class=\"item_bar\"></span>좋음<span class=\"txt_unit\">0~50</span></p></li>\\n                <li data-id=\"airdensity2\" class=\"density2\"><p><span class=\"item_bar\"></span>보통<span class=\"txt_unit\">51~100</span></p></li>\\n                <li data-id=\"airdensity3\" class=\"density3\"><p><span class=\"item_bar\"></span>나쁨<span class=\"txt_unit\">101~250</span></p></li>\\n                <li data-id=\"airdensity4\" class=\"density4\"><p><span class=\"item_bar\"></span>매우나쁨<span class=\"txt_unit\">251~</span></p></li>\\n                <li data-id=\"airdensity5\" class=\"density5\"><p><span class=\"item_bar\"></span>정보없음</p></li>\\n            </ul>\\n            <ul class=\"desc\" data-id=\"airdesc\">\\n                <li>실시간관측자료이며, 현지 사정에 의해 오차가 발생할 수 있습니다. <span class=\"unit\"></span></li>\\n            </ul>\\n\\t\\t</div>\\n\\t\\t<div data-id=\"UsedistrictLegend\" class=\"UsedistrictLegend usedistrictcate1\">\\n\\t\\t\\t<ul class=\"usedistrictCategory\">\\n\\t\\t\\t\\t<li class=\"cate1\"><a href=\"#\" data-id=\"usedistrictcate1\">지번·경계</a></li>\\n\\t\\t        <li class=\"cate2\"><a href=\"#\" data-id=\"usedistrictcate2\">도로·철도</a></li>\\n\\t\\t        <li class=\"cate3\"><a href=\"#\" data-id=\"usedistrictcate3\">국토계획·개발지구</a></li>\\n\\t\\t        <li class=\"cate4\"><a href=\"#\" data-id=\"usedistrictcate4\">용도·개발</a></li>\\n\\t\\t\\t</ul>\\n\\t\\t\\t<a href=\"https://kakaomap.tistory.com/236\" target=\"_blank\" class=\"more\">더보기</a>\\n\\t\\t\\t<div class=\"infocate\"></div>\\n\\t\\t</div>\\n\\t</div>\\n</div><div class=\"BikeRouteLegend HIDDEN\">\\n\\t<ul class=\"wrap\">\\n\\t\\t<li class=\"normalRoad\">일반도로</li>\\n\\t\\t<li class=\"bikeRoad\">자전거도로</li>\\n\\t</ul>\\n</div><div class=\"FlagWrap\"><div class=\"Flag Fold\"><div class=\"originWrap\"><a title=\"드래그하여 지도에 놓으세요\" class=\"origin\"><i></i></a></div><div class=\"destWrap\"><a title=\"드래그하여 지도에 놓으세요\" class=\"dest\"><i></i></a></div><div class=\"viaWrap\"><a title=\"드래그하여 지도에 놓으세요\" class=\"via\"><i></i></a></div></div></div><div class=\"LocalAdBanner HIDDEN\">\\n\\t\\t<div data-id=\"wrapper\">\\n\\t\\t\\t<div data-id=\"global\" class=\"global HIDDEN banner\">\\n\\t\\t\\t\\t<a target=\"_blank\" class=\"bannerHref\" data-id=\"href\" href=\"#\">\\n\\t\\t\\t\\t\\t<img src=\"\" width=\"223\" height=\"46\">\\n\\t\\t\\t\\t</a>\\n\\t\\t\\t\\t<div class=\"globalTag\">\\n\\t\\t\\t\\t\\t<span class=\"tagHead\"></span>\\n\\t\\t\\t\\t\\t<span class=\"tagText\"></span>\\n\\t\\t\\t\\t\\t<span class=\"tagTail\"></span>\\n\\t\\t\\t\\t</div>\\n\\t\\t\\t\\t<a target=\"_blank\" href=\"#\" class=\"where\"></a>\\n\\t\\t\\t\\t<a target=\"_blank\" href=\"#\" class=\"btnHref\"></a>\\n\\t\\t\\t\\t<a data-id=\"globalClose\" class=\"close\" href=\"#\">close</a>\\n\\t\\t\\t</div>\\n\\t\\t\\t\\n\\t\\t\\t<div data-id=\"logical\" class=\"logical HIDDEN banner\">\\n\\t\\t\\t\\t<a target=\"_blank\" class=\"bannerHref\" data-id=\"href\" href=\"#\">\\n\\t\\t\\t\\t\\t<img src=\"\" width=\"223\" height=\"46\">\\n\\t\\t\\t\\t</a>\\n\\t\\t\\t\\t<div class=\"logicalTag\">\\n\\t\\t\\t\\t\\t<span class=\"tagHead\"></span>\\n\\t\\t\\t\\t\\t<span class=\"tagText\"></span>\\n\\t\\t\\t\\t\\t<span class=\"tagTail\"></span>\\n\\t\\t\\t\\t</div>\\n\\t\\t\\t\\t<a target=\"_blank\" href=\"#\" class=\"where\"></a>\\n\\t\\t\\t\\t<a target=\"_blank\" href=\"#\" class=\"btnHref\"></a>\\n\\t\\t\\t\\t<a data-id=\"logicalClose\" class=\"close\" href=\"#\">close</a>\\n\\t\\t\\t</div>\\n\\t\\t</div>\\n</div><div class=\"RoutePoiControlView RoutePoiControlView-via HIDDEN\"><div class=\"cctvBtn\"><button class=\"cctvImg\">CCTV</button><span class=\"coach_theme coach_cctv\"></span></div><div class=\"accidentBtn\"><button class=\"accidentImg\">사고·공사</button><span class=\"coach_theme coach_accident\"></span></div><div class=\"gasBtn\"><button class=\"gasImg\">주유소</button><span class=\"coach_theme coach_oil\"></span></div><div class=\"serviceBtn\"><button class=\"serviceImg\">휴게소</button><span class=\"coach_theme coach_rest\"></span></div><div class=\"trafficBtn\"><button class=\"trafficImg\">교통정보</button><span class=\"coach_theme coach_traffic\"></span></div></div><div class=\"ThemePoiControlView\" style=\"width: 50px;\"><h3><a href=\"#none\" class=\"btn_poi\">주변</a></h3><div class=\"ThemePoiSubListView HIDDEN\"></div><div class=\"Wrap\"><ul><li class=\"poi_item\"><button type=\"button\" class=\"btn_item\"><span class=\"bus\"></span>버스</button></li><li class=\"poi_item\"><button type=\"button\" class=\"btn_item\"><span class=\"sub\"></span>지하철</button></li><li class=\"poi_item\"><button type=\"button\" class=\"btn_item\"><span class=\"food\"></span>음식점<span class=\"ico_arr\"></span></button></li><li class=\"poi_item\"><button type=\"button\" class=\"btn_item\"><span class=\"hotel\"></span>숙박<span class=\"ico_arr\"></span></button></li><li class=\"poi_item\"><button type=\"button\" class=\"btn_item\"><span class=\"cafe\"></span>카페</button></li><li class=\"poi_item\"><button type=\"button\" class=\"btn_item\"><span class=\"bank\"></span>은행<span class=\"ico_arr\"></span></button></li><li class=\"poi_item\"><button type=\"button\" class=\"btn_item\"><span class=\"cvs\"></span>편의점</button></li><li class=\"poi_item\"><button type=\"button\" class=\"btn_item\"><span class=\"mart\"></span>대형마트</button></li><li class=\"poi_item\"><button type=\"button\" class=\"btn_item\"><span class=\"hospital\"></span>병원약국<span class=\"ico_arr\"></span></button></li><li class=\"poi_item\"><button type=\"button\" class=\"btn_item\"><span class=\"oil\"></span>주유정보<span class=\"ico_arr\"></span></button></li><li class=\"poi_item\"><button type=\"button\" class=\"btn_item\"><span class=\"park\"></span>주차장</button></li><li class=\"poi_item\"><button type=\"button\" class=\"btn_item\"><span class=\"culture\"></span>문화시설<span class=\"ico_arr\"></span></button></li><li class=\"bottom\"></li></ul></div><strong class=\"screen_out\">주변탐색 목록</strong></div><div class=\"MapControlView\">\\n\\t<a href=\"#none\" class=\"accessLocation\">\\n\\t\\t<span class=\"screen_out\">현위치</span>\\n\\t\\t<span class=\"coach_accessLocation\"></span>\\n\\t</a>\\n\\t<div data-id=\"zoomcontrol\" class=\"zoom_control fold\"><div style=\"width: 32px; border-radius: 3px; box-shadow: rgba(0, 0, 0, 0.15) 0px 2px 2px 0px;\"><button draggable=\"false\" title=\"확대\" type=\"button\" style=\"float: left; cursor: pointer; width: 32px; height: 32px; user-select: none; -webkit-user-drag: none; border-top: none; border-right: none; border-bottom: 1px solid rgb(226, 226, 226); border-left: none; border-image: initial; background: url(&quot;https://t1.daumcdn.net/mapjsapi/images/2x/control.png&quot;) -40px 0px / 116px 264px no-repeat rgb(255, 255, 255); border-radius: 3px 3px 0px 0px;\"></button><div style=\"float: left; background: url(&quot;https://t1.daumcdn.net/mapjsapi/images/2x/bg_zoom_control.png&quot;) repeat; padding: 7px 0px; transition: height 0s ease 0s, margin 0.1s ease 0s;\"><div style=\"cursor: pointer; position: relative; background-size: 116px 264px; transition: height 0.1s ease 0s; margin: 2px 0px; display: none;\"><div style=\"position: absolute; width: 4px; height: 100%; background-color: rgb(51, 150, 255); left: 50%; margin: 0px 0px 0px -2px;\"><div style=\"width: 4px; height: 2px; margin-bottom: -2px; bottom: 0px; position: absolute; background: url(&quot;https://t1.daumcdn.net/mapjsapi/images/2x/control.png&quot;) -50px -127px / 116px 264px;\"></div><div style=\"width: 4px; height: 2px; margin-top: -2px; top: 0px; position: absolute; background: url(&quot;https://t1.daumcdn.net/mapjsapi/images/2x/control.png&quot;) -40px -100px / 116px 264px;\"></div></div><div style=\"position: absolute; background-color: rgb(204, 204, 204); transition: height 0.1s ease 0s; left: 50%; margin: 0px 0px 0px -2px; width: 4px; height: 24px;\"></div><div style=\"cursor: row-resize; position: absolute; width: 20px; height: 10px; margin: -4px 0px 0px -10px; background: url(&quot;https://t1.daumcdn.net/mapjsapi/images/2x/control.png&quot;) -40px -80px / 116px 264px; left: 50%; transition: top 0.1s ease 0s; top: 24px;\"></div></div></div><button draggable=\"false\" title=\"축소\" type=\"button\" style=\"float: left; cursor: pointer; width: 32px; height: 32px; user-select: none; -webkit-user-drag: none; border-top: 1px solid rgb(226, 226, 226); border-right: none; border-bottom: none; border-left: none; border-image: initial; background: url(&quot;https://t1.daumcdn.net/mapjsapi/images/2x/control.png&quot;) -40px -32px / 116px 264px no-repeat rgb(255, 255, 255); border-radius: 0px 0px 3px 3px; margin: -1px 0px 0px;\"></button><div style=\"position: absolute; margin: 41px 0px 0px -30px; background-size: 116px 264px; display: none;\"></div><button type=\"button\" class=\"btn_zoom_coach\">슬라이더 토글</button><div style=\"clear: both;\"></div></div></div>\\n\\t<div data-id=\"tools\" class=\"tools\">\\n\\t\\t<h3 class=\"screen_out\">측정</h3>\\n\\t\\t<a data-id=\"distance\" class=\"distance\" href=\"#\"><span class=\"coach_distance\">거리재기</span></a>\\n\\t\\t<a data-id=\"area\" class=\"area\" href=\"#\"><span class=\"coach_area\">면적재기</span></a>\\n\\t\\t<a data-id=\"radius\" class=\"radius\" href=\"#\"><span class=\"coach_radius\">반경재기</span></a>\\n\\t\\t<a data-id=\"clear\" class=\"clear\" href=\"#\"><span class=\"coach_clear\">지우기</span></a>\\n\\t</div>\\n    <div data-id=\"tileTool\" class=\"tileTool\">\\n\\t\\t<a data-id=\"extension\" class=\"extension keyword-ACTIVE\" href=\"#\">확장검색</a>\\n\\t\\t<span data-id=\"extensionText\" class=\"extensionText HIDDEN\"></span>\\n\\t</div>\\n\\t<div class=\"add_place add_on\">\\n\\t\\t<a data-id=\"newplace\" href=\"#\" class=\"link_new\"><span class=\"coach_newplace\">신규 장소 등록</span></a>\\n\\t</div>\\n</div></div>\\n\\n    <div id=\"view.roadview\" class=\"roadview\">\\n    <canvas id=\"renderview_8974\" width=\"1\" height=\"1\"></canvas><div id=\"main_layer_4298\"></div><div id=\"fc_layer_4301\"><div style=\"position: absolute; display: none;\"><div id=\"toastGuideBox_4302\"><div id=\"toastGuideBack_4302\"></div><p id=\"toastGuideText_4302\"></p></div></div><div style=\"position: absolute; display: none;\"><div id=\"toastGuideBox_4319\"><div id=\"toastGuideBack_4319\"></div><p id=\"toastGuideText_4319\"></p></div></div><div style=\"position: absolute; display: none;\"><div id=\"toastGuideBox_4327\"><div id=\"toastGuideBack_4327\"></div><p id=\"toastGuideText_4327\"></p></div></div></div></div>\\n    <div id=\"view.subway\" class=\"subway\">\\n\\n\\t\\t<div id=\"localInfo.subway.searchBox\" class=\"localinfosubway\">\\n\\t\\t\\t\\t\\t\\t<div class=\"subwayRegion\">\\n\\t\\t\\t\\t<strong class=\"screen_out\">지역 지하철 선택상자</strong>\\n\\t\\t\\t\\t<em class=\"screen_out\">선택내용 :</em>\\n\\t\\t\\t\\t<span class=\"box_selected\"><a href=\"#none\" class=\"btn_selected\" id=\"localInfo.subway.searchBox.regionBtn\">수도권</a></span>\\n\\t\\t\\t\\t<em class=\"screen_out\">선택옵션</em>\\n\\t\\t\\t\\t<ul id=\"localInfo.subway.searchBox.region\" class=\"list_opt HIDDEN\">\\n\\t\\t\\t\\t<li class=\"seoul\"><a href=\"#\">수도권</a></li><li class=\"busan\"><a href=\"#\">부산</a></li><li class=\"daegu\"><a href=\"#\">대구</a></li><li class=\"gwangju\"><a href=\"#\">광주</a></li><li class=\"daejeon\"><a href=\"#\">대전</a></li></ul>\\n\\t\\t\\t</div>\\n\\t\\t\\t<div class=\"subwayExpress\"><a href=\"#\">급행</a></div>\\n\\t\\t\\t\\t\\t</div>\\n\\n\\n\\t\\t<div id=\"subway.tool\" class=\"Tool\">\\n\\t\\t\\t<h3 class=\"tit_tool\"><a href=\"#none\" class=\"btn_tool\" id=\"subwayExportBtn\">내보내기</a></h3>\\n\\t\\t\\t<div class=\"layer_tool\" id=\"subwayExportMenu\">\\n\\t\\t\\t\\t<a href=\"#\" id=\"subway.tool.map.print\" class=\"print\">인쇄하기</a>\\n\\t\\t\\t\\t<a href=\"#\" id=\"subway.tool.map.save\" class=\"save\">이미지 저장하기</a>\\n\\t\\t\\t\\t<a href=\"#\" id=\"subway.tool.map.copyurl\" class=\"copyUrl\"><span class=\"screen_out\">노선</span> URL 복사</a>\\n\\t\\t\\t\\t<a href=\"#\" id=\"subway.tool.map.copymap\" class=\"copyMap\"><span class=\"screen_out\">노선도</span><span class=\"map\">지도 </span>HTML 태그 복사</a>\\n\\t\\t\\t\\t\\t\\t\\t</div>\\n\\t\\t</div>\\n\\n\\n\\n        <div id=\"view.subway.route\" class=\"subwayRouteView\">\\n                        <div class=\"subway-container\">\\n                <div class=\"subway-canvas-container\"></div>\\n                <div class=\"subway-info-container\">\\n                                        <div class=\"subway-info-pin subway-info-pin-departure hide\" id=\"subwayDeparturePin\">\\n                        <span class=\"screen_out\">출발역 포인터</span>\\n                        <span class=\"subway-info-pin-controller\">\\n                            <a href=\"javascript:;\" class=\"subway-info-pin-close\">\\n                                <span class=\"screen_out\">경로 지우기</span>\\n                            </a>\\n                            <span class=\"subway-info-pin-tooltip\">끌어서 출발지 변경</span>\\n                        </span>\\n                    </div>\\n                                        <div class=\"subway-info-pin subway-info-pin-arrival hide\" id=\"subwayArrivalPin\">\\n                        <span class=\"screen_out\">도착역 포인터</span>\\n                        <span class=\"subway-info-pin-controller\">\\n                            <a href=\"javascript:;\" class=\"subway-info-pin-close\">\\n                                <span class=\"screen_out\">경로 지우기</span>\\n                            </a>\\n                            <span class=\"subway-info-pin-tooltip\">끌어서 도착지 변경</span>\\n                        </span>\\n                    </div>\\n                </div>\\n            </div>\\n                    </div>\\n\\n\\n        <div id=\"subwayLegend\" class=\"SubwayLegend\">\\n\\t\\t\\t<div class=\"slide\">\\n\\t\\t\\t\\t<div class=\"list\" id=\"subwayLegend.slide.list\">\\n\\t\\t\\t\\t<ul class=\"seoul HIDDEN\"><li class=\"line1 line1-INACTIVE\" title=\"인천,신창-소요산\"><a href=\"#\">1호선</a></li><li class=\"line2 line2-INACTIVE\" title=\"시청-시청\"><a href=\"#\">2호선</a></li><li class=\"line3 line3-INACTIVE\" title=\"오금-대화\"><a href=\"#\">3호선</a></li><li class=\"line4 line4-INACTIVE\" title=\"당고개-오이도\"><a href=\"#\">4호선</a></li><li class=\"line5 line5-INACTIVE\" title=\"상일,마천-방화\"><a href=\"#\">5호선</a></li><li class=\"line6 line6-INACTIVE\" title=\"봉화산-응암\"><a href=\"#\">6호선</a></li><li class=\"line7 line7-INACTIVE\" title=\"부평구청-장암\"><a href=\"#\">7호선</a></li><li class=\"line8 line8-INACTIVE\" title=\"모란-암사\"><a href=\"#\">8호선</a></li><li class=\"line9 line9-INACTIVE\" title=\"개화-종합운동장\"><a href=\"#\">9호선</a></li><li class=\"line33 line33-INACTIVE\" title=\"광운대,청량리-춘천\"><a href=\"#\">경춘</a></li><li class=\"line26 line26-INACTIVE\" title=\"용문-문산\"><a href=\"#\">경의중앙</a></li><li class=\"line22 line22-INACTIVE\" title=\"국제업무지구-계양\"><a href=\"#\">인천 1</a></li><li class=\"line39 line39-INACTIVE\" title=\"검단오류-운연\"><a href=\"#\">인천 2</a></li><li class=\"line27 line27-INACTIVE\" title=\"인천국제공항-서울역\"><a href=\"#\">공항</a></li><li class=\"line34 line34-INACTIVE\" title=\"강남-광교\"><a href=\"#\">신분당</a></li><li class=\"line36 line36-INACTIVE\" title=\"발곡-탑석\"><a href=\"#\">의정부</a></li><li class=\"line37 line37-INACTIVE\" title=\"기흥-에버랜드\"><a href=\"#\">에버라인</a></li><li class=\"line38\" title=\"용유-인천국제공항\"><a href=\"#\">자기부상 (휴업)</a></li><li class=\"line40 line40-INACTIVE\" title=\"판교-여주\"><a href=\"#\">경강</a></li><li class=\"line41 line41-INACTIVE\" title=\"북한산우이-신설\"><a href=\"#\">우이신설</a></li><li class=\"line42 line42-INACTIVE\" title=\"소사-원시\"><a href=\"#\">서해</a></li><li class=\"line43 line43-INACTIVE\" title=\"양촌-김포공항\"><a href=\"#\">김포골드</a></li><li class=\"line44 line44-INACTIVE\" title=\"청량리-인천\"><a href=\"#\">수인분당</a></li><li class=\"line45 line45-INACTIVE\" title=\"샛강-관악산\"><a href=\"#\">신림</a></li></ul><ul class=\"busan HIDDEN\"><li class=\"line1 line1-INACTIVE\" title=\"노포-신평\"><a href=\"#\">1호선</a></li><li class=\"line2 line2-INACTIVE\" title=\"양산-장산\"><a href=\"#\">2호선</a></li><li class=\"line3 line3-INACTIVE\" title=\"대저-수영\"><a href=\"#\">3호선</a></li><li class=\"line4 line4-INACTIVE\" title=\"미남-안평\"><a href=\"#\">4호선</a></li><li class=\"line10 line10-INACTIVE\" title=\"가야대-사상\"><a href=\"#\">경전철</a></li><li class=\"line11 line11-INACTIVE\" title=\"부전-일광\"><a href=\"#\">동해선</a></li></ul><ul class=\"daegu HIDDEN\"><li class=\"line1 line1-INACTIVE\" title=\"안심-설화명곡\"><a href=\"#\">1호선</a></li><li class=\"line2 line2-INACTIVE\" title=\"영남대-문양\"><a href=\"#\">2호선</a></li><li class=\"line3 line3-INACTIVE\" title=\"용지-칠곡경대병원\"><a href=\"#\">3호선</a></li></ul><ul class=\"gwangju HIDDEN\"><li class=\"line1 line1-INACTIVE\" title=\"평동-녹동\"><a href=\"#\">1호선</a></li></ul><ul class=\"daejeon HIDDEN\"><li class=\"line1 line1-INACTIVE\" title=\"반석-판암\"><a href=\"#\">1호선</a></li></ul></div>\\n\\t\\t\\t\\t<button type=\"button\" class=\"btn_slide prev\">이전</button>\\n\\t\\t\\t\\t<button type=\"button\" class=\"btn_slide next\">다음</button>\\n\\t\\t\\t</div>\\n        </div>\\n\\n        <div id=\"subwayLegend.zoom\" class=\"subwayLegendZoom zoom_1\">\\n            <a href=\"#\" id=\"subwayLegend.zoom.in\" class=\"zoomin\">노선도확대</a>\\n            <a href=\"#\" id=\"subwayLegend.zoom.out\" class=\"zoomout\">노선도축소</a>\\n        </div>\\n    </div>\\n\\n\\n    \\n    <img id=\"failflash\" alt=\"일시적 장애로 인해 로드뷰를 확인할 수 없습니다.\" class=\"failflash HIDDEN\" usemap=\"#failFlashMap\" src=\"//t1.daumcdn.net/mapjsapi/images/transparent.gif\">\\n\\n    <map name=\"failFlashMap\">\\n        <area id=\"failFlashMap.close\" alt=\"닫기\" shape=\"rect\" coords=\"270, 5, 292, 20\" href=\"#\">\\n        <area id=\"failFlashMap.mapview\" alt=\"지도보기\" shape=\"rect\" coords=\"108, 130, 190, 158\" href=\"#\">\\n    </map>\\n</div>\\n\\n<ul id=\"regionList\" class=\"RegionList\"></ul>\\n\\n<div id=\"shareUrl\" class=\"ShareUrl HIDDEN\"><div class=\"social_comm_p hide\"><div class=\"sns_comm_p share_layer\">\\n    <strong class=\"screen_out\">SNS로 공유하기 펼쳐짐</strong>\\n    <ul class=\"list_sns\"><li>\\n        <a href=\"#none\" class=\"link_sns\" data-handler=\"kakaotalk\">\\n        <span class=\"img_social ico_sns_kt\">\\n        </span>카카오톡</a></li><li>\\n        <a href=\"#none\" class=\"link_sns\" data-handler=\"kakaostory\">\\n        <span class=\"img_social ico_sns_ks\">\\n        </span>카카오스토리</a></li><li>\\n        <a href=\"#none\" class=\"link_sns\" data-handler=\"facebook\">\\n        <span class=\"img_social ico_sns_fb\">\\n        </span>페이스북</a></li><li>\\n        <a href=\"#none\" class=\"link_sns\" data-handler=\"twitter\">\\n        <span class=\"img_social ico_sns_tw\">\\n        </span>트위터</a></li><li>\\n        <a href=\"#none\" class=\"link_sns\" data-handler=\"mail\">\\n        <span class=\"img_social ico_sns_mail\">\\n        </span>다음메일</a></li><li style=\"display: none\">\\n        <a href=\"#none\" class=\"link_sns\" data-handler=\"daumcafe\">\\n        <span class=\"img_social ico_sns_cafe\">\\n        </span>다음카페</a></li></ul>\\n    <div class=\"copyUrl\"><div class=\"sns_copyurl\">\\n    <a href=\"#none\" class=\"link_copyurl\">\\n    <span class=\"screen_out\">현재페이지 URL복사</span>\\n    <span class=\"txt_url\"></span>\\n    <span class=\"txt_copy\">URL복사</span>\\n    </a>\\n    </div></div>\\n    <button class=\"btn_close\"><span class=\"img_social ico_close\">공유목록 닫기</span></button>\\n    </div><div class=\"sns_comm_p copyurl_layer hide\">\\n  <div class=\"inner_copyurl\">\\n  <p class=\"desc_copyurl\">주소가 복사되었습니다.<br>원하는곳에 붙여넣기(Ctrl+V)해주세요.</p>\\n  <button class=\"btn_close\"><span class=\"img_social ico_close\">공유목록 닫기</span>\\n  </button>\\n  </div></div></div></div>\\n\\n<div id=\"dimmedLayer\" class=\"DimmedLayer HIDDEN\" style=\"\"></div>\\n\\n<div id=\"homeRegInfo\" class=\"HomeRegInfo HIDDEN\"></div>\\n\\n<div id=\"validPlaceInfo\" class=\"ValidPlaceInfo HIDDEN\">\\n\\t<a id=\"ValidPlaceInfo.closeNDelete\" class=\"closeNDelete\"></a>\\n</div>\\n\\n<div class=\"moreGroupview HIDDEN\" id=\"moreGroupview\">자세히 보기</div>\\n\\n<div id=\"roadviewInfoBoxQuickhelp\" class=\"RoadviewInfoBox-quickhelp HIDDEN\"></div>\\n\\n<div id=\"titleSystemTooltip\" class=\"titleSystemTooltip HIDDEN\"></div>\\n\\n\\n<script>\\n    (function (win, doc, src) {\\n        win.Wpm = win.Wpm || (function (name, param) {\\n            var queue = (win.Wpm.queue = (win.Wpm.queue || []));\\n            queue.push([name, param]);\\n        })\\n        var script = doc.createElement(\\'script\\');\\n        script.src = src;\\n        script.async = 1;\\n        var elem = doc.getElementsByTagName(\\'script\\')[0];\\n        elem.parentNode.insertBefore(script, elem);\\n    })(window, document, \\'https://t1.kakaocdn.net/malibu_prod/wpm.js\\');\\n\\n    Wpm(\\'appKey\\', \\'46cdfcd0dc9043f880fbf431c2b894e2\\');\\n</script>\\n<script type=\"text/javascript\" src=\"//t1.daumcdn.net/cssjs/JSON-js/fc535e9cc8/json2.min.js\"></script>\\n<script type=\"text/javascript\" src=\"//t1.daumcdn.net/tiara/js/v1/tiara.min.js\"></script>\\n\\n<!--[if gt IE 8]><!-->\\n<script type=\"text/javascript\" src=\"//t1.daumcdn.net/cssjs/mapweb/1500538479259/Chart.min.js\"></script>\\n<script type=\"text/javascript\" src=\"//t1.daumcdn.net/kakaomapweb/cssjs/hls-0.12.4.min.js\"></script>\\n<!--<![endif]-->\\n\\n<script type=\"text/javascript\" src=\"//mk.kakaocdn.net/dn/platformfe/agent/v2_2_0/agent.js\"></script>\\n\\n<script type=\"text/javascript\" src=\"//t1.daumcdn.net/daumtop_deco/socialshare/socialshare_pc-2.4.4.js\"></script>\\n\\n<script type=\"text/javascript\" src=\"//t1.daumcdn.net/kakaomapweb/resource/require-2.1.0.js\"></script>\\n<script type=\"text/javascript\" src=\"//t1.daumcdn.net/cssjs/jquery/jquery-1.8.1.min.js\"></script>\\n<script type=\"text/javascript\" src=\"//t1.daumcdn.net/cssjs/jquery/plugin/jquery.cookie-1.0.0.min.js\"></script>\\n<script type=\"text/javascript\" src=\"https://ssl.daumcdn.net/dmaps/map_js_init/v3.js\"></script><script charset=\"UTF-8\" src=\"https://t1.daumcdn.net/mapjsapi/js/main/4.4.8/v3.js\"></script>\\n<script type=\"text/javascript\" src=\"//t1.daumcdn.net/mapjsapi/js/libs/congnamul.js\"></script>\\n<script type=\"text/javascript\" src=\"./iptargeting/location\"></script>\\n<script type=\"text/javascript\">\\n    // 기본값: 서울시청\\n    window.t_mapx = window.t_mapx || \\'\\';\\n    window.t_mapy = window.t_mapy || \\'\\';\\n    window.t_address = window.t_address || \\'\\';\\n    window.t_regionid = window.t_regionid;\\n    window.ENV = \\'PROD\\';\\n    window.isFlashEnv = false;\\n\\n    try{\\n        // 뉴티아라 초기화\\n        window.TiaraTracker && TiaraTracker.getInstance().init({\\n            svcDomain: window.location.host.indexOf(\\'map.kakao.com\\') == 0 ? \\'map.kakao.com\\' : \\'map.devel.kakao.com\\',\\n            development: window.ENV === \\'PROD\\' ? \\'production\\' : \\'dev\\'\\n        });\\n    } catch(e) {}\\n</script>\\n\\n\\n\\n\\n\\n    <script>\\n        // 캔버스 지하철 노선도 초기화\\n        window.kakaosubway = { activeArea: null };\\n    </script>\\n            <script type=\"text/javascript\" src=\"https://t1.daumcdn.net/mapjsapi/bundle/prod/panorama.js\"></script>\\n    \\n            <script type=\"text/javascript\" src=\"https://t1.daumcdn.net/kakaomapweb/subway/linemap/canvas/prod/subway.bundle.js\"></script>\\n    \\n\\n    <script type=\"text/javascript\" charset=\"UTF-8\" src=\"https://t1.daumcdn.net/kas/static/na.min.js\"></script>\\n\\n    <script type=\"text/javascript\" src=\"//t1.daumcdn.net/kakaomapweb/map/202304201401313/app.js\"></script>\\n\\n<script type=\"text/javascript\">\\n\\t\\t\\n\\njQuery.noConflict();\\nrequire.config({baseUrl:\\'js/app\\',deps:[\\'main\\'],config:{main:{\\nparams:{}||{},\\noptions:{\\n    isLogin: 0,\\n    isMapUser: 0,\\n    loginUrl:\"https://accounts.kakao.com/login?continue=\",\\n    logoutUrl:\"https://accounts.kakao.com/logout?continue=\",\\n\\tnotices:[ ],\\n\\thcodeList:[{id:\"11\",name:\"서울\"},{id:\"26\",name:\"부산\"},{id:\"27\",name:\"대구\"},{id:\"28\",name:\"인천\"},{id:\"29\",name:\"광주\"},{id:\"30\",name:\"대전\"},{id:\"31\",name:\"울산\"},{id:\"36\",name:\"세종\"},{id:\"41\",name:\"경기\"},{id:\"42\",name:\"강원\"},{id:\"43\",name:\"충북\"},{id:\"44\",name:\"충남\"},{id:\"45\",name:\"전북\"},{id:\"46\",name:\"전남\"},{id:\"47\",name:\"경북\"},{id:\"48\",name:\"경남\"},{id:\"50\",name:\"제주\"},{id:\"11680\",name:\"강남구\"},{id:\"11740\",name:\"강동구\"},{id:\"11305\",name:\"강북구\"},{id:\"11500\",name:\"강서구\"},{id:\"11620\",name:\"관악구\"},{id:\"11215\",name:\"광진구\"},{id:\"11530\",name:\"구로구\"},{id:\"11545\",name:\"금천구\"},{id:\"11350\",name:\"노원구\"},{id:\"11320\",name:\"도봉구\"},{id:\"11230\",name:\"동대문구\"},{id:\"11590\",name:\"동작구\"},{id:\"11440\",name:\"마포구\"},{id:\"11410\",name:\"서대문구\"},{id:\"11650\",name:\"서초구\"},{id:\"11200\",name:\"성동구\"},{id:\"11290\",name:\"성북구\"},{id:\"11710\",name:\"송파구\"},{id:\"11470\",name:\"양천구\"},{id:\"11560\",name:\"영등포구\"},{id:\"11170\",name:\"용산구\"},{id:\"11380\",name:\"은평구\"},{id:\"11110\",name:\"종로구\"},{id:\"11140\",name:\"중구\"},{id:\"11260\",name:\"중랑구\"},{id:\"26440\",name:\"강서구\"},{id:\"26410\",name:\"금정구\"},{id:\"26710\",name:\"기장군\"},{id:\"26290\",name:\"남구\"},{id:\"26170\",name:\"동구\"},{id:\"26260\",name:\"동래구\"},{id:\"26230\",name:\"부산진구\"},{id:\"26320\",name:\"북구\"},{id:\"26530\",name:\"사상구\"},{id:\"26380\",name:\"사하구\"},{id:\"26140\",name:\"서구\"},{id:\"26500\",name:\"수영구\"},{id:\"26470\",name:\"연제구\"},{id:\"26200\",name:\"영도구\"},{id:\"26110\",name:\"중구\"},{id:\"26350\",name:\"해운대구\"},{id:\"27200\",name:\"남구\"},{id:\"27290\",name:\"달서구\"},{id:\"27710\",name:\"달성군\"},{id:\"27140\",name:\"동구\"},{id:\"27230\",name:\"북구\"},{id:\"27170\",name:\"서구\"},{id:\"27260\",name:\"수성구\"},{id:\"27110\",name:\"중구\"},{id:\"28710\",name:\"강화군\"},{id:\"28245\",name:\"계양구\"},{id:\"28200\",name:\"남동구\"},{id:\"28140\",name:\"동구\"},{id:\"28177\",name:\"미추홀구\"},{id:\"28237\",name:\"부평구\"},{id:\"28260\",name:\"서구\"},{id:\"28185\",name:\"연수구\"},{id:\"28720\",name:\"옹진군\"},{id:\"28110\",name:\"중구\"},{id:\"29200\",name:\"광산구\"},{id:\"29155\",name:\"남구\"},{id:\"29110\",name:\"동구\"},{id:\"29170\",name:\"북구\"},{id:\"29140\",name:\"서구\"},{id:\"30230\",name:\"대덕구\"},{id:\"30110\",name:\"동구\"},{id:\"30170\",name:\"서구\"},{id:\"30200\",name:\"유성구\"},{id:\"30140\",name:\"중구\"},{id:\"31140\",name:\"남구\"},{id:\"31170\",name:\"동구\"},{id:\"31200\",name:\"북구\"},{id:\"31710\",name:\"울주군\"},{id:\"31110\",name:\"중구\"},{id:\"36110\",name:\"\"},{id:\"41820\",name:\"가평군\"},{id:\"41280\",name:\"고양시\"},{id:\"41281\",name:\"고양시 덕양구\"},{id:\"41285\",name:\"고양시 일산동구\"},{id:\"41287\",name:\"고양시 일산서구\"},{id:\"41290\",name:\"과천시\"},{id:\"41210\",name:\"광명시\"},{id:\"41610\",name:\"광주시\"},{id:\"41310\",name:\"구리시\"},{id:\"41410\",name:\"군포시\"},{id:\"41570\",name:\"김포시\"},{id:\"41360\",name:\"남양주시\"},{id:\"41250\",name:\"동두천시\"},{id:\"41190\",name:\"부천시\"},{id:\"41130\",name:\"성남시\"},{id:\"41135\",name:\"성남시 분당구\"},{id:\"41131\",name:\"성남시 수정구\"},{id:\"41133\",name:\"성남시 중원구\"},{id:\"41110\",name:\"수원시\"},{id:\"41113\",name:\"수원시 권선구\"},{id:\"41117\",name:\"수원시 영통구\"},{id:\"41111\",name:\"수원시 장안구\"},{id:\"41115\",name:\"수원시 팔달구\"},{id:\"41390\",name:\"시흥시\"},{id:\"41270\",name:\"안산시\"},{id:\"41273\",name:\"안산시 단원구\"},{id:\"41271\",name:\"안산시 상록구\"},{id:\"41550\",name:\"안성시\"},{id:\"41170\",name:\"안양시\"},{id:\"41173\",name:\"안양시 동안구\"},{id:\"41171\",name:\"안양시 만안구\"},{id:\"41630\",name:\"양주시\"},{id:\"41830\",name:\"양평군\"},{id:\"41670\",name:\"여주시\"},{id:\"41800\",name:\"연천군\"},{id:\"41370\",name:\"오산시\"},{id:\"41460\",name:\"용인시\"},{id:\"41463\",name:\"용인시 기흥구\"},{id:\"41465\",name:\"용인시 수지구\"},{id:\"41461\",name:\"용인시 처인구\"},{id:\"41430\",name:\"의왕시\"},{id:\"41150\",name:\"의정부시\"},{id:\"41500\",name:\"이천시\"},{id:\"41480\",name:\"파주시\"},{id:\"41220\",name:\"평택시\"},{id:\"41650\",name:\"포천시\"},{id:\"41450\",name:\"하남시\"},{id:\"41590\",name:\"화성시\"},{id:\"42150\",name:\"강릉시\"},{id:\"42820\",name:\"고성군\"},{id:\"42170\",name:\"동해시\"},{id:\"42230\",name:\"삼척시\"},{id:\"42210\",name:\"속초시\"},{id:\"42800\",name:\"양구군\"},{id:\"42830\",name:\"양양군\"},{id:\"42750\",name:\"영월군\"},{id:\"42130\",name:\"원주시\"},{id:\"42810\",name:\"인제군\"},{id:\"42770\",name:\"정선군\"},{id:\"42780\",name:\"철원군\"},{id:\"42110\",name:\"춘천시\"},{id:\"42190\",name:\"태백시\"},{id:\"42760\",name:\"평창군\"},{id:\"42720\",name:\"홍천군\"},{id:\"42790\",name:\"화천군\"},{id:\"42730\",name:\"횡성군\"},{id:\"43760\",name:\"괴산군\"},{id:\"43800\",name:\"단양군\"},{id:\"43720\",name:\"보은군\"},{id:\"43740\",name:\"영동군\"},{id:\"43730\",name:\"옥천군\"},{id:\"43770\",name:\"음성군\"},{id:\"43150\",name:\"제천시\"},{id:\"43745\",name:\"증평군\"},{id:\"43750\",name:\"진천군\"},{id:\"43110\",name:\"청주시\"},{id:\"43111\",name:\"청주시 상당구\"},{id:\"43112\",name:\"청주시 서원구\"},{id:\"43114\",name:\"청주시 청원구\"},{id:\"43113\",name:\"청주시 흥덕구\"},{id:\"43130\",name:\"충주시\"},{id:\"44250\",name:\"계룡시\"},{id:\"44150\",name:\"공주시\"},{id:\"44710\",name:\"금산군\"},{id:\"44230\",name:\"논산시\"},{id:\"44270\",name:\"당진시\"},{id:\"44180\",name:\"보령시\"},{id:\"44760\",name:\"부여군\"},{id:\"44210\",name:\"서산시\"},{id:\"44770\",name:\"서천군\"},{id:\"44200\",name:\"아산시\"},{id:\"44810\",name:\"예산군\"},{id:\"44130\",name:\"천안시\"},{id:\"44131\",name:\"천안시 동남구\"},{id:\"44133\",name:\"천안시 서북구\"},{id:\"44790\",name:\"청양군\"},{id:\"44825\",name:\"태안군\"},{id:\"44800\",name:\"홍성군\"},{id:\"45790\",name:\"고창군\"},{id:\"45130\",name:\"군산시\"},{id:\"45210\",name:\"김제시\"},{id:\"45190\",name:\"남원시\"},{id:\"45730\",name:\"무주군\"},{id:\"45800\",name:\"부안군\"},{id:\"45770\",name:\"순창군\"},{id:\"45710\",name:\"완주군\"},{id:\"45140\",name:\"익산시\"},{id:\"45750\",name:\"임실군\"},{id:\"45740\",name:\"장수군\"},{id:\"45110\",name:\"전주시\"},{id:\"45113\",name:\"전주시 덕진구\"},{id:\"45111\",name:\"전주시 완산구\"},{id:\"45180\",name:\"정읍시\"},{id:\"45720\",name:\"진안군\"},{id:\"46810\",name:\"강진군\"},{id:\"46770\",name:\"고흥군\"},{id:\"46720\",name:\"곡성군\"},{id:\"46230\",name:\"광양시\"},{id:\"46730\",name:\"구례군\"},{id:\"46170\",name:\"나주시\"},{id:\"46710\",name:\"담양군\"},{id:\"46110\",name:\"목포시\"},{id:\"46840\",name:\"무안군\"},{id:\"46780\",name:\"보성군\"},{id:\"46150\",name:\"순천시\"},{id:\"46910\",name:\"신안군\"},{id:\"46130\",name:\"여수시\"},{id:\"46870\",name:\"영광군\"},{id:\"46830\",name:\"영암군\"},{id:\"46890\",name:\"완도군\"},{id:\"46880\",name:\"장성군\"},{id:\"46800\",name:\"장흥군\"},{id:\"46900\",name:\"진도군\"},{id:\"46860\",name:\"함평군\"},{id:\"46820\",name:\"해남군\"},{id:\"46790\",name:\"화순군\"},{id:\"47290\",name:\"경산시\"},{id:\"47130\",name:\"경주시\"},{id:\"47830\",name:\"고령군\"},{id:\"47190\",name:\"구미시\"},{id:\"47720\",name:\"군위군\"},{id:\"47150\",name:\"김천시\"},{id:\"47280\",name:\"문경시\"},{id:\"47920\",name:\"봉화군\"},{id:\"47250\",name:\"상주시\"},{id:\"47840\",name:\"성주군\"},{id:\"47170\",name:\"안동시\"},{id:\"47770\",name:\"영덕군\"},{id:\"47760\",name:\"영양군\"},{id:\"47210\",name:\"영주시\"},{id:\"47230\",name:\"영천시\"},{id:\"47900\",name:\"예천군\"},{id:\"47940\",name:\"울릉군\"},{id:\"47930\",name:\"울진군\"},{id:\"47730\",name:\"의성군\"},{id:\"47820\",name:\"청도군\"},{id:\"47750\",name:\"청송군\"},{id:\"47850\",name:\"칠곡군\"},{id:\"47110\",name:\"포항시\"},{id:\"47111\",name:\"포항시 남구\"},{id:\"47113\",name:\"포항시 북구\"},{id:\"48310\",name:\"거제시\"},{id:\"48880\",name:\"거창군\"},{id:\"48820\",name:\"고성군\"},{id:\"48250\",name:\"김해시\"},{id:\"48840\",name:\"남해군\"},{id:\"48270\",name:\"밀양시\"},{id:\"48240\",name:\"사천시\"},{id:\"48860\",name:\"산청군\"},{id:\"48330\",name:\"양산시\"},{id:\"48720\",name:\"의령군\"},{id:\"48170\",name:\"진주시\"},{id:\"48740\",name:\"창녕군\"},{id:\"48120\",name:\"창원시\"},{id:\"48125\",name:\"창원시 마산합포구\"},{id:\"48127\",name:\"창원시 마산회원구\"},{id:\"48123\",name:\"창원시 성산구\"},{id:\"48121\",name:\"창원시 의창구\"},{id:\"48129\",name:\"창원시 진해구\"},{id:\"48220\",name:\"통영시\"},{id:\"48850\",name:\"하동군\"},{id:\"48730\",name:\"함안군\"},{id:\"48870\",name:\"함양군\"},{id:\"48890\",name:\"합천군\"},{id:\"50130\",name:\"서귀포시\"},{id:\"50110\",name:\"제주시\"}],\\n\\tthememapPlaces: [{id: \\'40\\', title: \\'모두의 야식, 치킨지도\\', banner: \\'http://t1.daumcdn.net/localimg/localimages/07/2014/theme/140826_03_pc.png\\', thumbnail: \\'http://cfile237.uf.daum.net/image/1910CC44514A74EB1B2034\\', placeCount: \\'65\\', region: \\'전국\\' } , {id: \\'1\\', title: \\'작지만 자랑하고 싶은 우리동네 빵집\\', banner: \\'http://t1.daumcdn.net/localimg/localimages/07/2014/theme/140826_06_pc.png\\', thumbnail: \\'http://cfile217.uf.daum.net/image/1578874E4F9788871738D3\\', placeCount: \\'41\\', region: \\'전국\\' } , {id: \\'89\\', title: \\'달콤한 밤을 위한 재즈클럽\\', banner: \\'http://t1.daumcdn.net/localimg/localimages/07/2014/theme/141020_pctop.png\\', thumbnail: \\'http://cfile217.uf.daum.net/image/17775E4A4F4CE88F279E7B\\', placeCount: \\'9\\', region: \\'전국\\' }   ],\\n\\tgasPrice: {avgGasPrice: 1654.5814, avgDieselPrice: 1515.9813, avgLpgPrice: 987.7577,\\n\\t\\t\\tgasDate: \"2023-05-06\", dieselDate: \"2023-05-06\", lpgDate: \"2023-05-06\"},\\n\\tnotice_popup : \"N\",  \\tevent_notice : \"N\",  \\tevent_notice2 : \"N\",  \\trojaju_button : \"Y\",\\n\\t\\n\\tthemeSearch: {\\n                    \\'동네책방\\': [104] \\n        \\t}\\n}\\n}}});\\n</script>\\n\\n\\n\\n\\n<iframe style=\"position:absolute;left:0;top:0;width:0;height:0;border:0\" src=\"mapclick.html?_=1683386068908\"></iframe><div class=\"FiyFrame HIDDEN\">\\n    <iframe data-id=\"frame\" frameborder=\"0\" border=\"0\" class=\"frame\" src=\"\" style=\"width:0;height:0;\"></iframe>\\n</div><div class=\"LayerProfileEdit-DIMMED HIDDEN\" data-id=\"dim\">\\n\\t<div class=\"LayerProfileEdit\" data-id=\"content\">\\n\\t\\t<strong class=\"tit_edit\">프로필 수정</strong>\\n\\t\\t<form data-id=\"editForm\">\\n\\t\\t\\t<fieldset>\\n\\t\\t\\t\\t<legend class=\"screen_out\">이미지 및 닉네임 수정</legend>\\n\\t\\t\\t\\t<div class=\"area_file\">\\n\\t\\t\\t\\t\\t<img src=\"//t1.daumcdn.net/localimg/localimages/07/2018/pc/title/empty_edit.png\" width=\"54\" height=\"54\" alt=\"\" data-id=\"profilePreview\">\\n\\t\\t\\t\\t\\t<label for=\"profileImgFile\">프로필 이미지 수정</label>\\n\\t\\t\\t\\t\\t<input type=\"file\" id=\"profileImgFile\" data-id=\"profileImgFile\" name=\"profileImage\" accept=\"image/png, image/jpeg\">\\n                    <span class=\"img_loading HIDDEN\" data-id=\"loadingImg\">\\n                        <img src=\"//t1.daumcdn.net/localimg/localimages/07/2017/pc/img_loading2.gif\" width=\"23\" height=\"23\" alt=\"로딩중\">\\n                    </span>\\n\\t\\t\\t\\t</div>\\n\\t\\t\\t\\t<div class=\"area_tf\">\\n\\t\\t\\t\\t\\t<div class=\"box_tf\">\\n\\t\\t\\t\\t\\t\\t<label for=\"userNickname\" class=\"screen_out\">프로필 닉네임 수정</label>\\n\\t\\t\\t\\t\\t \\t<input type=\"text\" name=\"nickName\" data-id=\"userNickname\" id=\"userNickname\" value=\"\" maxlength=\"20\">\\n\\t\\t\\t\\t\\t</div>\\n\\t\\t\\t\\t \\t<button type=\"submit\" class=\"btn_edit\" data-id=\"update\">완료</button>\\n\\t\\t\\t\\t</div>\\n\\t\\t\\t</fieldset>\\n\\t\\t</form>\\n\\t\\t<button type=\"button\" class=\"bt_close\" data-id=\"close\">프로필 수정 닫기</button>\\n\\t</div>\\n</div><div class=\"LayerProfile HIDDEN\">\\n\\t<div class=\"info_profile\">\\n\\t\\t<div class=\"thumb_profile\">\\n\\t\\t\\t<img src=\"\" width=\"44\" height=\"44\" class=\"img_profile HIDDEN\" alt=\"\" data-id=\"profileImg\">\\n            <img src=\"//t1.daumcdn.net/localimg/localimages/07/2018/pc/title/report_profile.png\" width=\"44\" height=\"44\" class=\"img_profile HIDDEN\" data-id=\"reportProfileImg\" alt=\"\">\\n\\t\\t</div>\\n        <p class=\"desc_report HIDDEN\" data-id=\"reportMentionTypeT\">신고에 의해 임시조치된<br>프로필입니다. <a href=\"http://www.kakao.com/policy/right\" target=\"_blank\" class=\"link_profile\">안내</a><a href=\"#none\" class=\"link_profile edit\">수정</a></p>\\n        <p class=\"desc_report HIDDEN\" data-id=\"reportMentionTypeA\">신고에 의해 삭제된 프로<br>필입니다. <a href=\"#none\" class=\"link_profile edit\">프로필 입력</a></p>\\n\\t\\t<strong class=\"tit_name\" data-id=\"nickName\"></strong>\\n\\t\\t<a href=\"#none\" class=\"link_profile edit\" data-id=\"edit\">프로필 수정</a>\\n\\t\\t<a href=\"https://accounts.kakao.com/logout?continue=https://map.kakao.com\" class=\"btn_logout\" data-id=\"logout\">로그아웃</a>\\n\\t</div>\\n\\t<div class=\"my_page\">\\n\\t\\t<a href=\"#none\" target=\"_top\" data-id=\"fav\">즐겨찾기</a>\\n\\t\\t<a href=\"#none\" target=\"_top\" data-id=\"homeCompany\">집∙회사</a>\\n\\t\\t<a href=\"#none\" target=\"_top\" data-id=\"review\">후기 <em class=\"num\" data-id=\"reviewCount\">0</em></a>\\n\\t</div>\\n</div><div class=\"CarRoutePaySettingView route_layer HIDDEN\" style=\"top:187px\"><!-- 2018-12-18_v2 : route_layer 클래스 추가 --><!-- 2018-12-18_v2 : 인라인 top값 잡아주세요 -->\\n\\t<div class=\"inner_route_layer\"><!-- 2018-12-18_v2 추가 : form 감싸는 요소(div.inner_route_layer) 추가 -->\\n\\t\\t<form data-id=\"paySettingForm\" onsubmit=\"return false;\">\\n\\t\\t\\t<fieldset>\\n\\t\\t\\t\\t<!-- <legend class=\"screen_out\">요금설정 폼</legend> 2018-12-18_v2 삭제 -->\\n\\t\\t\\t\\t<!-- 2018-12-18_v2 추가 : 레이어 타이틀 영역 추가 -->\\n\\t\\t\\t\\t<div class=\"layer_head\">\\n                    <strong class=\"tit_routeset\">요금설정<span class=\"screen_out\">레이어</span></strong>\\n                </div>\\n                <!--// 2018-12-18_v2 추가 : 레이어 타이틀 영역 추가 -->\\n                <div class=\"layer_body\">\\n\\t\\t\\t\\t\\t<div class=\"pay_setting\">\\n\\t\\t\\t\\t\\t\\t<strong class=\"ico_pathfind tit_setting\">통행료- 차종 설정</strong>\\n\\t\\t\\t\\t\\t\\t<ul class=\"list_setting\">\\n\\t\\t\\t\\t\\t\\t\\t<li>\\n\\t\\t\\t\\t\\t\\t\\t\\t<input type=\"radio\" id=\"radioCarType1\" class=\"inp_car\" data-id=\"radioCarType1\" name=\"choiceCar\" checked=\"checked\"><!-- 2018-12-18_v2 : name 속성 추가(선택범위의 name값 동일하게 설정) -->\\n\\t\\t\\t\\t\\t\\t\\t\\t<label for=\"radioCarType1\" class=\"lab_car\">\\n\\t\\t\\t\\t\\t\\t\\t\\t\\t<!-- <span data-id=\"radioCarSpan1\" class=\"ico_pathfind ico_choiced\"></span> 2018-12-18_v2 삭제 --><span class=\"tit_sort\">1종</span><!-- 2018-12-18_v2 추가 : span.tit_sort 추가 --><!-- : --> 승용차, 소형 승합차\\n\\t\\t\\t\\t\\t\\t\\t\\t</label><!-- 2018-12-18_v2 수정 : 텍스트수정(:삭제) -->\\n\\t\\t\\t\\t\\t\\t\\t</li>\\n\\t\\t\\t\\t\\t\\t\\t<li>\\n\\t\\t\\t\\t\\t\\t\\t\\t<input type=\"radio\" id=\"radioCarType2\" class=\"inp_car\" data-id=\"radioCarType2\" name=\"choiceCar\"><!-- 2018-12-18_v2 : name 속성 추가(선택범위의 name값 동일하게 설정) -->\\n\\t\\t\\t\\t\\t\\t\\t\\t<label for=\"radioCarType2\" class=\"lab_car\">\\n\\t\\t\\t\\t\\t\\t\\t\\t\\t<!-- <span data-id=\"radioCarSpan2\" class=\"ico_pathfind\"></span> 2018-12-18_v2 삭제 --><span class=\"tit_sort\">2종</span><!-- 2018-12-18_v2 추가 : span.tit_sort 추가 --><!-- : --> 중형 승합차, 중형 화물차\\n\\t\\t\\t\\t\\t\\t\\t\\t</label><!-- 2018-12-18_v2 수정 : 텍스트수정(:삭제) -->\\n\\t\\t\\t\\t\\t\\t\\t</li>\\n\\t\\t\\t\\t\\t\\t\\t<li>\\n\\t\\t\\t\\t\\t\\t\\t\\t<input type=\"radio\" id=\"radioCarType3\" class=\"inp_car\" data-id=\"radioCarType3\" name=\"choiceCar\"><!-- 2018-12-18_v2 : name 속성 추가(선택범위의 name값 동일하게 설정) -->\\n\\t\\t\\t\\t\\t\\t\\t\\t<label for=\"radioCarType3\" class=\"lab_car\">\\n\\t\\t\\t\\t\\t\\t\\t\\t\\t<!-- <span data-id=\"radioCarSpan3\" class=\"ico_pathfind\"></span> 2018-12-18_v2 삭제 --><span class=\"tit_sort\">3종</span><!-- 2018-12-18_v2 추가 : span.tit_sort 추가 --><!-- : --> 대형 승합차, 2축 대형 화물차\\n\\t\\t\\t\\t\\t\\t\\t\\t</label><!-- 2018-12-18_v2 수정 : 텍스트수정(:삭제) -->\\n\\t\\t\\t\\t\\t\\t\\t</li>\\n\\t\\t\\t\\t\\t\\t\\t<li>\\n\\t\\t\\t\\t\\t\\t\\t\\t<input type=\"radio\" id=\"radioCarType4\" class=\"inp_car\" data-id=\"radioCarType4\" name=\"choiceCar\"><!-- 2018-12-18_v2 : name 속성 추가(선택범위의 name값 동일하게 설정) -->\\n\\t\\t\\t\\t\\t\\t\\t\\t<label for=\"radioCarType4\" class=\"lab_car\">\\n\\t\\t\\t\\t\\t\\t\\t\\t\\t<!-- <span data-id=\"radioCarSpan4\" class=\"ico_pathfind\"></span> 2018-12-18_v2 삭제 --><span class=\"tit_sort\">4종</span><!-- 2018-12-18_v2 추가 : span.tit_sort 추가 --><!-- : --> 3축 대형 화물차\\n\\t\\t\\t\\t\\t\\t\\t\\t</label><!-- 2018-12-18_v2 수정 : 텍스트수정(:삭제) -->\\n\\t\\t\\t\\t\\t\\t\\t</li>\\n\\t\\t\\t\\t\\t\\t\\t<li>\\n\\t\\t\\t\\t\\t\\t\\t\\t<input type=\"radio\" id=\"radioCarType5\" class=\"inp_car\" data-id=\"radioCarType5\" name=\"choiceCar\"><!-- 2018-12-18_v2 : name 속성 추가(선택범위의 name값 동일하게 설정) -->\\n\\t\\t\\t\\t\\t\\t\\t\\t<label for=\"radioCarType5\" class=\"lab_car\">\\n\\t\\t\\t\\t\\t\\t\\t\\t\\t<!-- <span data-id=\"radioCarSpan5\" class=\"ico_pathfind\"></span> 2018-12-18_v2 삭제 --><span class=\"tit_sort\">5종</span><!-- 2018-12-18_v2 추가 : span.tit_sort 추가 --><!-- : --> 4축 이상 특수화물차\\n\\t\\t\\t\\t\\t\\t\\t\\t</label><!-- 2018-12-18_v2 수정 : 텍스트수정(:삭제) -->\\n\\t\\t\\t\\t\\t\\t\\t</li>\\n\\t\\t\\t\\t\\t\\t\\t<li class=\"lst\">\\n\\t\\t\\t\\t\\t\\t\\t\\t<input type=\"radio\" id=\"radioCarType6\" class=\"inp_car\" data-id=\"radioCarType6\" name=\"choiceCar\"><!-- 2018-12-18_v2 : name 속성 추가(선택범위의 name값 동일하게 설정) -->\\n\\t\\t\\t\\t\\t\\t\\t\\t<label for=\"radioCarType6\" class=\"lab_car\">\\n\\t\\t\\t\\t\\t\\t\\t\\t\\t<!-- <span data-id=\"radioCarSpan6\" class=\"ico_pathfind\"></span> 2018-12-18_v2 삭제 --><span class=\"tit_sort\">6종</span><!-- 2018-12-18_v2 추가 : span.tit_sort 추가 --><!-- : --> 경차\\n\\t\\t\\t\\t\\t\\t\\t\\t</label><!-- 2018-12-18_v2 수정 : 텍스트수정(:삭제) -->\\n\\t\\t\\t\\t\\t\\t\\t</li>\\n\\t\\t\\t\\t\\t\\t</ul>\\n\\t\\t\\t\\t\\t\\t<a href=\"http://www.ex.co.kr/site/com/pageProcess.do?oneDpMnNo=&amp;selDpPgNm=menuno%3D100401011&amp;selDpMnNo=&amp;paramStr=&amp;detailTp=&amp;dirNm=portal&amp;kwd=\" target=\"_blank\" class=\"link_office\">한국도로공사</a>\\n\\t\\t\\t\\t\\t</div>\\n\\t\\t\\t\\t\\t<div class=\"pay_setting refuel_setting\">\\n\\t\\t\\t\\t\\t\\t<strong class=\"ico_pathfind tit_setting\">주유비 설정</strong>\\n\\t\\t\\t\\t\\t\\t<dl class=\"list_type\">\\n\\t\\t\\t\\t\\t\\t\\t<dt class=\"tit_refuel\">\\n\\t\\t\\t\\t\\t\\t\\t\\t<label for=\"setRefuel\" class=\"screen_out\">유종</label><!-- 2018-12-18_v2 수정 : class속성 추가 -->\\n\\t\\t\\t\\t\\t\\t\\t</dt>\\n\\t\\t\\t\\t\\t\\t\\t<dd class=\"detail_refuel\">\\n\\t\\t\\t\\t\\t\\t\\t\\t<div data-id=\"setRefuel\" class=\"opt_pathfind\"><!-- 2018-12-18_v2 : opt_open 클래스로 옵션박스 활성화 -->\\n\\t\\t\\t\\t\\t\\t\\t\\t\\t<div class=\"screen_out\">주유 종류 선택상자</div>\\n\\t\\t\\t\\t\\t\\t\\t\\t\\t<span class=\"screen_out\">선택내용 : </span>\\n\\t\\t\\t\\t\\t\\t\\t\\t\\t<a href=\"#\" class=\"img_pathfind link_selected\" data-id=\"setRefuelText\">휘발유</a>\\n\\t\\t\\t\\t\\t\\t\\t\\t\\t<div class=\"screen_out\">선택옵션</div>\\n\\t\\t\\t\\t\\t\\t\\t\\t\\t<ul class=\"list_opt\">\\n\\t\\t\\t\\t\\t\\t\\t\\t\\t\\t<li>\\n\\t\\t\\t\\t\\t\\t\\t\\t\\t\\t\\t<a href=\"#\" class=\"link_option\" data-id=\"gasoline\">휘발유</a>\\n\\t\\t\\t\\t\\t\\t\\t\\t\\t\\t</li>\\n\\t\\t\\t\\t\\t\\t\\t\\t\\t\\t<li>\\n\\t\\t\\t\\t\\t\\t\\t\\t\\t\\t\\t<a href=\"#\" class=\"link_option\" data-id=\"light\">경유</a>\\n\\t\\t\\t\\t\\t\\t\\t\\t\\t\\t</li>\\n\\t\\t\\t\\t\\t\\t\\t\\t\\t\\t<li>\\n\\t\\t\\t\\t\\t\\t\\t\\t\\t\\t\\t<a href=\"#\" class=\"link_option\" data-id=\"lpg\">LPG</a>\\n\\t\\t\\t\\t\\t\\t\\t\\t\\t\\t</li>\\n\\t\\t\\t\\t\\t\\t\\t\\t\\t</ul>\\n\\t\\t\\t\\t\\t\\t\\t\\t</div>\\n\\t\\t\\t\\t\\t\\t\\t\\t<!-- <span data-id=\"refuelDate\">2018.09.11</span> 기준 유가<em class=\"txt_value emph_value\" data-id=\"refuelPrice\">1,630원/L</em> 2018-12-18_v2 삭제 : 기준유가정보 위치이동으로 인한 삭제 -->\\n\\t\\t\\t\\t\\t\\t\\t</dd>\\n\\t\\t\\t\\t\\t\\t\\t<dt class=\"tit_refuel tit_mileage\">\\n\\t\\t\\t\\t\\t\\t\\t\\t<label for=\"setMileage\" class=\"screen_out\">연비</label><!-- 2018-12-18_v2 수정 : class속성 추가 -->\\n\\t\\t\\t\\t\\t\\t\\t</dt>\\n\\t\\t\\t\\t\\t\\t\\t<dd class=\"detail_refuel detail_mileage\">\\n\\t\\t\\t\\t\\t\\t\\t\\t<!-- 연료1L당 주행거리 --><input type=\"text\" id=\"setMileage\" maxlength=\"6\" class=\"inp_mileage\" data-id=\"setMileage\" placeholder=\"주행거리\">km / 1L\\n\\t\\t\\t\\t\\t\\t\\t</dd><!-- 2018-12-18_v2 수정 : 텍스트 삭제(연료1L당 주행거리),기준 텍스트 추가( / 1L) -->\\n\\t\\t\\t\\t\\t\\t</dl>\\n\\t\\t\\t\\t\\t\\t<span class=\"txt_base\">\\n\\t\\t\\t\\t\\t\\t\\t<span data-id=\"refuelDate\">2023.05.06</span> 기준 유가 <em class=\"txt_value emph_value\" data-id=\"refuelPrice\">1,655원/L</em><!-- 2018-12-18_v2 추가 : 기준유가정보 위치이동으로 인한 추가 -->\\n\\t\\t\\t\\t\\t\\t</span><!-- 2018-12-18_v2 추가 : 기준유가정보 감싸는 span.txt_base 추가 -->\\n\\t\\t\\t\\t\\t\\t<a href=\"http://www.opinet.co.kr/index.do?cmd=main\" target=\"_blank\" class=\"link_office\">한국석유공사<!--  opinet --></a><!-- 2018-12-18_v2 수정 : 텍스트 수정 -->\\n\\t\\t\\t\\t\\t</div>\\n\\t\\t\\t\\t\\t<button type=\"submit\" class=\"btn_setting\">확인</button><!-- 2018-12-18_v2 추가 -->\\n\\t\\t\\t\\t\\t<ul class=\"list_setcaution\">\\n\\t\\t\\t\\t\\t\\t<li>주유비, 통행료 정보는 주유소 가격 및  통행시간에 따라 달라질 수 있습니다.</li><!-- 2018-12-18_v2 수정 : 클래스(.ico_pathfind) 삭제 -->\\n\\t\\t\\t\\t\\t\\t<li>해당 서비스 결과는 예상 비용으로, 참고용으로만 이용해 주시기 바랍니다.</li><!-- 2018-12-18_v2 수정 : 클래스(.ico_pathfind) 삭제 -->\\n\\t\\t\\t\\t\\t</ul>\\n\\t\\t\\t\\t\\t<!-- <button type=\"submit\" class=\"img_pathfind btn_setting\">설정완료</button> 2018-12-18_v2 삭제 -->\\n\\t\\t\\t\\t</div><!-- 2018-12-18_v2 추가 : [div.pay_setting + ul.list_setcaution + button.btn_settin] 감싸는 div.layer_body 추가 -->\\n\\t\\t\\t\\t<!-- 2018-12-18_v2 : 닫기 버튼 추가 -->\\n\\t\\t\\t\\t<div class=\"layer_foot\">\\n\\t\\t            <a href=\"#\" class=\"btn_close\" data-id=\"closeBtn\">요금설정 레이어 닫기</a>\\n\\t\\t        </div>\\n\\t\\t\\t\\t<!--// 2018-12-18_v2 : 닫기 버튼 추가 -->\\n\\t\\t\\t</fieldset>\\n\\t\\t</form>\\n\\t</div>\\n</div><iframe class=\"saveFrame HIDDEN\"></iframe><div class=\"FavoriteManageView favorite_layer HIDDEN\" style=\"margin-left: -179px; margin-top: -232px; top: 50%;\">\\n    <div data-id=\"folderInfoLayer\" class=\"inner_favorite_layer inner_favorite_layer2 HIDDEN\">\\n        <fieldset>\\n            <div class=\"layer_head\">\\n                <strong class=\"tit_interlock\">그룹 정보</strong>\\n            </div>\\n            <div class=\"layer_body\"></div>\\n            <div class=\"layer_foot\">\\n                <a href=\"#none\" class=\"btn_close\">그룹 정보 레이어 닫기</a>\\n            </div>\\n        </fieldset>\\n    </div>\\n    <div data-id=\"folderSelectLayer\" class=\"inner_favorite_layer inner_favorite_layer6 HIDDEN\">\\n        <div class=\"layer_head\">\\n            <strong class=\"tit_interlock\">그룹 선택</strong>\\n        </div>\\n        <div class=\"layer_body\">\\n            <ul class=\"list_folder\">\\n                <li class=\"ADD\">\\n                    <a href=\"#none\" class=\"link_folder\">\\n                        <span class=\"ico_folder add\"></span>\\n                        <span class=\"tit_folder\">\\n                            <span class=\"utile_folder\"></span>\\n                            <strong class=\"txt_folder\">새 그룹 추가</strong>\\n                        </span>\\n                    </a>\\n                </li>\\n            </ul>\\n        </div>\\n        <div class=\"layer_foot\">\\n            <a href=\"#none\" class=\"btn_close\">레이어 닫기</a>\\n        </div>\\n    </div>\\n    <div data-id=\"addFavoriteLayer\" class=\"inner_favorite_layer inner_favorite_layer10 HIDDEN\">\\n        <form autocomplete=\"off\">\\n            <fieldset>\\n                <legend class=\"screen_out\">즐겨찾기 저장 폼</legend>\\n                <div class=\"layer_head\">\\n                    <strong class=\"tit_interlock\">즐겨찾기 저장</strong>\\n                </div>\\n                <div class=\"layer_body\">\\n                    <div class=\"box_tf\">\\n                        <label for=\"display1\" class=\"screen_out\">즐겨찾기 이름</label>\\n                        <input type=\"text\" id=\"display1\" class=\"tf_save\" maxlength=\"200\" readonly=\"\">\\n                    </div>\\n                    <div class=\"box_tf\">\\n                        <label for=\"favMemo\" class=\"screen_out\">설명 입력</label>\\n                        <input type=\"text\" id=\"favMemo\" class=\"tf_save\" placeholder=\"설명을 입력해 주세요.\" maxlength=\"50\" readonly=\"\">\\n                    </div>\\n                    <strong class=\"screen_out\">카테고리 색 구분</strong>\\n                    <ul class=\"list_inp\">\\n                        <!-- .checked 클래스 부여 -->\\n                        <li data-color=\"01\">\\n                            <input type=\"radio\" id=\"favoriteColor1\" name=\"favoriteColor\">\\n                            <label for=\"favoriteColor1\" class=\"type1\">타입1</label>\\n                        </li>\\n                        <li data-color=\"02\">\\n                            <input type=\"radio\" id=\"favoriteColor2\" name=\"favoriteColor\">\\n                            <label for=\"favoriteColor2\" class=\"type2\">타입2</label>\\n                        </li>\\n                        <li data-color=\"03\">\\n                            <input type=\"radio\" id=\"favoriteColor3\" name=\"favoriteColor\">\\n                            <label for=\"favoriteColor3\" class=\"type3\">타입3</label>\\n                        </li>\\n                        <li data-color=\"04\">\\n                            <input type=\"radio\" id=\"favoriteColor4\" name=\"favoriteColor\">\\n                            <label for=\"favoriteColor4\" class=\"type4\">타입4</label>\\n                        </li>\\n                        <li data-color=\"05\">\\n                            <input type=\"radio\" id=\"favoriteColor5\" name=\"favoriteColor\">\\n                            <label for=\"favoriteColor5\" class=\"type5\">타입5</label>\\n                        </li>\\n                        <li data-color=\"06\">\\n                            <input type=\"radio\" id=\"favoriteColor6\" name=\"favoriteColor\">\\n                            <label for=\"favoriteColor6\" class=\"type6\">타입6</label>\\n                        </li>\\n                        <li data-color=\"07\">\\n                            <input type=\"radio\" id=\"favoriteColor7\" name=\"favoriteColor\">\\n                            <label for=\"favoriteColor7\" class=\"type7\">타입7</label>\\n                        </li>\\n                    </ul>\\n                </div>\\n                <div class=\"layer_foot\">\\n                    <button data-id=\"addOK\" class=\"btn_submit\">완료</button>\\n                    <a href=\"#none\" class=\"btn_close\">레이어 닫기</a>\\n                </div>\\n            </fieldset>\\n        </form>\\n    </div>\\n    <div data-id=\"addFolderLayer\" class=\"inner_favorite_layer inner_favorite_layer11\">\\n        <form autocomplete=\"off\">\\n            <fieldset>\\n                <input type=\"hidden\" id=\"editFolderId\">\\n                <legend class=\"screen_out\">새 그룹 추가 폼</legend>\\n                <div class=\"layer_head\">\\n                    <strong class=\"tit_interlock\">새 그룹 추가</strong>\\n                </div>\\n                <div class=\"layer_body\">\\n                    <div class=\"opt_interlock\">\\n                        <strong class=\"screen_out\"></strong>\\n                        <em class=\"screen_out\">선택내용 :</em>\\n                        <span class=\"ico_seleced star\">star</span>\\n                        <button type=\"button\" class=\"link_option btn_option\">선택옵션</button>\\n                        <ul class=\"list_option HIDDEN\">\\n                            <li data-icon=\"01\" class=\"on\"><a href=\"#none\" class=\"link_option star\">star</a></li>\\n                            <li data-icon=\"02\"><a href=\"#none\" class=\"link_option heart\">heart</a></li>\\n                            <li data-icon=\"03\"><a href=\"#none\" class=\"link_option thunder\">thunder</a></li>\\n                            <li data-icon=\"04\"><a href=\"#none\" class=\"link_option check\">check</a></li>\\n                            <li data-icon=\"05\"><a href=\"#none\" class=\"link_option eye\">eye</a></li>\\n                            <li data-icon=\"06\"><a href=\"#none\" class=\"link_option smile\">smile</a></li>\\n                            <li data-icon=\"07\"><a href=\"#none\" class=\"link_option shine\">shine</a></li>\\n                            <li data-icon=\"08\"><a href=\"#none\" class=\"link_option clover\">clover</a></li>\\n                            <li data-icon=\"09\"><a href=\"#none\" class=\"link_option rect\">rect</a></li>\\n                            <li data-icon=\"10\"><a href=\"#none\" class=\"link_option like\">like</a></li>\\n                        </ul>\\n                    </div>\\n                    <dl class=\"group_form\">\\n                        <dt>공개 허용</dt>\\n                        <dd>\\n                            <div class=\"choice_comm choice_radio\">\\n                                <input type=\"radio\" id=\"open\" name=\"privacy\" class=\"inp_choice\" value=\"O\">\\n                                <label for=\"open\" class=\"lab_choice\">\\n                                    <span class=\"ico_choice ico_radio\"></span>공개\\n                                </label>\\n                            </div>\\n                            <div class=\"choice_comm choice_radio\">\\n                                <input type=\"radio\" id=\"private\" name=\"privacy\" class=\"inp_choice\" value=\"P\" checked=\"checked\">\\n                                <label for=\"private\" class=\"lab_choice\">\\n                                    <span class=\"ico_choice ico_radio\"></span>비공개\\n                                </label>\\n                            </div>\\n                        </dd>\\n                    </dl>\\n                    <p class=\"desc_private\">\\n                        <span class=\"ico_noti\"></span>\\n                        그룹 공개 시 다른 사용자가 볼 수 있고 구독할 수 있으니 민감 정보가 노출되지 않도록 주의해주세요.\\n                    </p>\\n                    <dl class=\"group_form\">\\n                        <dt><label for=\"folderName\" class=\"lab_tf\">그룹명</label></dt>\\n                        <dd>\\n                            <div class=\"box_tf\">\\n                                <input type=\"text\" id=\"folderName\" class=\"tf_save\" placeholder=\"그룹명을 입력하세요.\" maxlength=\"30\">\\n                            </div>\\n                        </dd>\\n                    </dl>\\n                    <dl class=\"group_form\">\\n                        <dt><label for=\"memo\" class=\"lab_tf\">설명</label></dt>\\n                        <dd>\\n                            <div class=\"box_tf\">\\n                                <input type=\"text\" id=\"memo\" class=\"tf_save\" placeholder=\"설명을 입력하세요. (선택)\" maxlength=\"50\">\\n                            </div>\\n                        </dd>\\n                    </dl>\\n                    <div class=\"chkbox_interlock\">\\n                        <input type=\"checkbox\" id=\"showMap\">\\n                        <label for=\"showMap\">지도에 표시하기</label>\\n                    </div>\\n                    <p class=\"desc_interlock\">해당 그룹의 즐겨찾기가 지도 위에 표시됩니다. 표시할 그룹은 최대 10개까지 선택 가능합니다.</p>\\n                </div>\\n                <div class=\"layer_foot\">\\n                    <button data-id=\"addFolderOK\" class=\"btn_submit\">완료</button>\\n                    <a href=\"#none\" class=\"btn_close\">레이어 닫기</a>\\n                </div>\\n            </fieldset>\\n        </form>\\n    </div>\\n\\n    <div data-id=\"addHomeLayer\" class=\"inner_favorite_layer inner_favorite_layer4 HIDDEN\">\\n        <div class=\"layer_head\">\\n            <strong class=\"tit_interlock tit_interlock2\">홈 목록 추가<span class=\"screen_out\">레이어</span></strong>\\n        </div>\\n        <div class=\"layer_body result_location\">\\n            <p class=\"txt_interlock txt_interlock2\">홈 목록 추가는 최대 3개까지 가능합니다.(집/회사 제외)<br>아래 기존 목록 중 하나를 선택하면, 삭제 후 새로운 항목이 추가됩니다.</p>\\n            <form action=\"#\" autocomplete=\"off\">\\n                <fieldset>\\n                    <em class=\"screen_out\">검색 리스트</em>\\n                    <ul data-id=\"registerList\" class=\"list_region list_region_type2\"></ul>\\n                </fieldset>\\n            </form>\\n        </div>\\n        <div class=\"layer_foot\">\\n            <button type=\"reset\" data-id=\"addHomeCancle\" class=\"btn_interlock btn_cancel\">취소</button>\\n            <button type=\"submit\" data-id=\"addHomeOK\" class=\"btn_interlock btn_confirm\">선택 삭제</button>\\n            <a href=\"#\" class=\"btn_close\">집 등록 레이어 닫기</a>\\n        </div>\\n    </div>\\n\\n    <div data-id=\"removeHomeLayer\" class=\"inner_favorite_layer inner_favorite_layer3 HIDDEN\"><!-- inner_xxx_layer:공통 / inner_xxx_layer1:타입별 -->\\n        <div class=\"layer_head\">\\n            <strong class=\"screen_out\">카카오맵 홈 목록 삭제 여부 레이어</strong>\\n        </div>\\n        <div class=\"layer_body\">\\n            <em class=\"tit_interlock\">홈 목록에서 삭제하시겠습니까?</em>\\n            <p class=\"txt_interlock\">해당 항목이 홈 목록에서 삭제됩니다. </p>\\n        </div>\\n        <div class=\"layer_foot\">\\n            <button type=\"button\" data-id=\"removeHomeOK\" class=\"btn_interlock btn_confirm\">확인</button>\\n            <button type=\"button\" class=\"btn_interlock btn_cancel\">취소</button>\\n            <a href=\"#\" class=\"btn_close\"><span class=\"ico_interlock\">카카오맵 홈 목록 삭제 여부 레이어 닫기</span></a>\\n        </div>\\n    </div>\\n\\n    <div data-id=\"resultLayer\" class=\"inner_favorite_layer inner_favorite_layer9 HIDDEN\">\\n        <div class=\"layer_body\">\\n            <span class=\"ico_toast type1\"><span class=\"ico_toast star\"></span></span>\\n            <p class=\"desc_toast\"></p>\\n        </div>\\n        <div class=\"layer_foot\">\\n            <a href=\"#none\" class=\"btn_close\">레이어 닫기</a>\\n        </div>\\n    </div>\\n</div><div class=\"FavoriteStaticManageView favorite_layer HIDDEN\" style=\"margin-left: -225px; margin-top: -80px;\">\\n    <div data-id=\"searchLayer\" class=\"inner_favorite_layer inner_favorite_layer5\">\\n        <form action=\"#\" data-id=\"searchBody\">\\n            <fieldset>\\n                <div class=\"layer_head\">\\n                    <strong class=\"tit_interlock\"><span class=\"type_name\">집</span> 등록<span class=\"screen_out\">레이어</span></strong>\\n                </div>\\n                <div class=\"layer_body\">\\n                    <p class=\"txt_interlock\"><span class=\"type_name2\">집으</span>로 등록할 주소 또는 장소를 검색하세요.</p>\\n                    <div class=\"wrap_search\">\\n                        <div class=\"interlock_search\">\\n                            <label for=\"favoriteEnroll\" class=\"lab_region HIDDEN\">주소 또는 장소</label>\\n                            <input type=\"text\" data-id=\"favoriteSearchQuery\" id=\"favoriteEnroll\" class=\"tf_interlock\" value=\"카카오\">\\n                        </div>\\n                        <button type=\"button\" data-id=\"findBtn\" class=\"btn_search\">검색</button>\\n                    </div>\\n                    <div class=\"interlock_result\">\\n                        <em class=\"screen_out\">검색 리스트</em>\\n                        <ul class=\"list_region\" data-id=\"resultList\"></ul>\\n                    </div>\\n                </div>\\n                <div class=\"layer_foot\">\\n                    <a href=\"#\" class=\"btn_close\"><span class=\"type_name\">집</span> 등록 레이어 닫기</a>\\n                </div>\\n            </fieldset>\\n        </form>\\n    </div>\\n\\n    <div data-id=\"resultLayer\" class=\"inner_favorite_layer inner_favorite_layer1 HIDDEN\">\\n        <div class=\"layer_head\">\\n            <strong class=\"screen_out\">즐겨찾기 등록 완료 확인 레이어</strong>\\n            <span class=\"ico_interlock ico_complete\"></span>\\n        </div>\\n        <div class=\"layer_body\">\\n            <em class=\"tit_interlock\"><span class=\"type_name\">집</span> 등록이 완료되었습니다.</em>\\n        </div>\\n        <div class=\"layer_foot\">\\n            <button type=\"button\" data-id=\"resultOK\" class=\"btn_interlock btn_confirm\">확인</button>\\n            <a href=\"#\" class=\"btn_close\"><span class=\"ico_interlock\">즐겨찾기 등록 레이어 닫기</span></a>\\n        </div>\\n    </div>\\n</div><div class=\"SkyviewOptions HIDDEN\">\\n    <a href=\"#\" class=\"hybrid ACTIVE\">하이브리드</a>\\n    <div class=\"line\"></div>\\n    <a href=\"#\" class=\"yearRadio yearNow ACTIVE\">최근사진</a>\\n    <a href=\"#\" class=\"yearRadio\">2020</a>\\n    <a href=\"#\" class=\"yearRadio\">2019</a>\\n    <a href=\"#\" class=\"yearRadio\">2018</a>\\n    <a href=\"#\" class=\"yearRadio\">2017</a>\\n    <a href=\"#\" class=\"yearRadio\">2016</a>\\n    <a href=\"#\" class=\"yearRadio\">2015</a>\\n    <a href=\"#\" class=\"yearRadio\">2014</a>\\n    <a href=\"#\" class=\"yearRadio\">2013</a>\\n    <a href=\"#\" class=\"yearRadio\">2012</a>\\n    <a href=\"#\" class=\"yearRadio\">2011</a>\\n    <a href=\"#\" class=\"yearRadio\">2010</a>\\n    <a href=\"#\" class=\"yearRadio\">2009</a>\\n    <a href=\"#\" class=\"yearRadio\">2008</a>\\n</div></body></html>'"
      ]
     },
     "execution_count": 59,
     "metadata": {},
     "output_type": "execute_result"
    }
   ],
   "source": [
    "driver.page_source"
   ]
  },
  {
   "cell_type": "code",
   "execution_count": 58,
   "id": "84450c19",
   "metadata": {},
   "outputs": [],
   "source": [
    "# 보다 빠른 데이터 수집을 위해 -> 추출하는 시간도 고려\n",
    "soup = bs(driver.page_source, 'lxml')"
   ]
  },
  {
   "cell_type": "code",
   "execution_count": 60,
   "id": "38917ed4",
   "metadata": {},
   "outputs": [
    {
     "name": "stdout",
     "output_type": "stream",
     "text": [
      "애플하우스 이수\n",
      "세녹\n",
      "스시로로\n",
      "소담촌 사당직영점\n",
      "오센\n",
      "이수회관\n",
      "호요\n",
      "전주전집\n",
      "방배김밥\n",
      "곱창나라\n",
      "라화방\n",
      "호우양꼬치 이수점\n",
      "훈감동\n",
      "딥다이브\n",
      "비엔나커피하우스 이수역점\n"
     ]
    }
   ],
   "source": [
    "# 식당이름 (titles)\n",
    "titles = soup.select('a.link_name')\n",
    "\n",
    "for i in titles:\n",
    "    print(i.text)"
   ]
  },
  {
   "cell_type": "code",
   "execution_count": 61,
   "id": "f28255cf",
   "metadata": {},
   "outputs": [
    {
     "name": "stdout",
     "output_type": "stream",
     "text": [
      "서울 동작구 동작대로27다길 29 서광시티뷰 2층 201호\n",
      "서울 동작구 사당로 304\n",
      "서울 동작구 동작대로23길 29\n",
      "서울 동작구 동작대로 43 5층\n",
      "서울 동작구 동작대로27나길 8\n",
      "서울 동작구 동작대로27가길 40\n",
      "서울 동작구 동작대로13길 6-7 1층\n",
      "서울 동작구 동작대로7길 19\n",
      "서울 동작구 동작대로27길 59-16\n",
      "서울 동작구 동작대로27가길 41 1층\n",
      "서울 동작구 동작대로27길 22\n",
      "서울 동작구 동작대로27다길 9\n",
      "서울 동작구 동작대로9길 4 1층\n",
      "서울 서초구 방배천로18길 36-5 1층\n",
      "서울 서초구 동작대로 86 1층\n"
     ]
    }
   ],
   "source": [
    "# 식당주소(addresses)\n",
    "addresses = soup.select('div.addr > p:nth-child(1)')\n",
    "\n",
    "for i in addresses:\n",
    "    print(i.text)"
   ]
  },
  {
   "cell_type": "code",
   "execution_count": 62,
   "id": "caee27dd",
   "metadata": {},
   "outputs": [],
   "source": [
    "# 더보기 버튼 지정 및 클릭\n",
    "click_more_location = driver.find_element(By.XPATH, '//*[@id=\"info.search.place.more\"]')\n",
    "click_more_location.click()\n",
    "time.sleep(2)"
   ]
  },
  {
   "cell_type": "code",
   "execution_count": 63,
   "id": "85a02c5b",
   "metadata": {},
   "outputs": [],
   "source": [
    "# 더보기 버튼을 누른 후에는 번호 버튼들이 존재 -> 해당 항목들을 수집\n",
    "page = driver.find_elements(By.CSS_SELECTOR,'#info\\.search\\.page > div > a')"
   ]
  },
  {
   "cell_type": "markdown",
   "id": "a378ecda",
   "metadata": {},
   "source": [
    "### 크롤러 조각하기\n"
   ]
  },
  {
   "cell_type": "code",
   "execution_count": 64,
   "id": "325f699e",
   "metadata": {},
   "outputs": [
    {
     "name": "stderr",
     "output_type": "stream",
     "text": [
      "100%|█████████████████████████████████████████████| 6/6 [00:18<00:00,  3.02s/it]\n",
      "100%|█████████████████████████████████████████████| 6/6 [00:15<00:00,  2.52s/it]\n",
      "100%|█████████████████████████████████████████████| 6/6 [00:15<00:00,  2.57s/it]\n",
      "100%|█████████████████████████████████████████████| 6/6 [00:14<00:00,  2.39s/it]\n",
      "100%|█████████████████████████████████████████████| 6/6 [00:14<00:00,  2.42s/it]\n",
      "100%|█████████████████████████████████████████████| 6/6 [00:14<00:00,  2.47s/it]\n",
      " 67%|██████████████████████████████               | 4/6 [00:09<00:04,  2.32s/it]"
     ]
    },
    {
     "name": "stdout",
     "output_type": "stream",
     "text": [
      "수집이 완료되었습니다.\n"
     ]
    },
    {
     "name": "stderr",
     "output_type": "stream",
     "text": [
      "\n"
     ]
    }
   ],
   "source": [
    "# 빈 리스트 2개를 생성\n",
    "titles_list = []\n",
    "addresses_list = []\n",
    "\n",
    "try:  # 아래 실행코드들을 시도해보자\n",
    "    while True :  # 조건이 참일 경우\n",
    "        for i in tqdm(range(6)):\n",
    "            # 만약 순차가 5 미만일 경우\n",
    "            if (i < 5):\n",
    "                # beautifulsoup 객체화\n",
    "                page[i].click()\n",
    "                time.sleep(2)\n",
    "                soup = bs(driver.page_source, 'lxml')\n",
    "                \n",
    "                # 식당이름\n",
    "                titles = soup.select('a.link_name')\n",
    "                # for문을 돌면서 titles에서 순차적으로 뽑은 요소의 텍스트만 넣기\n",
    "                for i in titles:\n",
    "                    titles_list.append(i.text)\n",
    "                \n",
    "                # 식당주소\n",
    "                addresses = soup.select('div.addr > p:nth-child(1)')\n",
    "                # for문을 돌면서 addresses에서 순차적으로 뽑은 요소의 텍스트만 넣기\n",
    "                for i in addresses:\n",
    "                    addresses_list.append(i.text)\n",
    "            \n",
    "            else : # 그렇지 않은 경우는\n",
    "                # 1. i가 5보다 큰 경우\n",
    "                # 2. 5번 버튼까지 다 돌고, 다음 버튼을 눌러야하는 경우\n",
    "                click_next = driver.find_element(By.XPATH, '//*[@id=\"info.search.page.next\"]')\n",
    "                click_next.click()\n",
    "                time.sleep(3)\n",
    "                \n",
    "except :\n",
    "    print('수집이 완료되었습니다.')\n",
    "\n",
    "driver.quit()"
   ]
  },
  {
   "cell_type": "code",
   "execution_count": 65,
   "id": "8d7d2382",
   "metadata": {},
   "outputs": [
    {
     "data": {
      "text/plain": [
       "(510, 510)"
      ]
     },
     "execution_count": 65,
     "metadata": {},
     "output_type": "execute_result"
    }
   ],
   "source": [
    "# 갯수확인\n",
    "len(titles_list), len(addresses_list)"
   ]
  },
  {
   "cell_type": "markdown",
   "id": "164cc7e4",
   "metadata": {},
   "source": [
    "### DataFrame"
   ]
  },
  {
   "cell_type": "code",
   "execution_count": 66,
   "id": "06ada458",
   "metadata": {},
   "outputs": [],
   "source": [
    "kakao_data = {'식당 이름' : titles_list, '식당 주소' : addresses_list}"
   ]
  },
  {
   "cell_type": "code",
   "execution_count": 67,
   "id": "78fa09e5",
   "metadata": {},
   "outputs": [
    {
     "data": {
      "text/html": [
       "<div>\n",
       "<style scoped>\n",
       "    .dataframe tbody tr th:only-of-type {\n",
       "        vertical-align: middle;\n",
       "    }\n",
       "\n",
       "    .dataframe tbody tr th {\n",
       "        vertical-align: top;\n",
       "    }\n",
       "\n",
       "    .dataframe thead th {\n",
       "        text-align: right;\n",
       "    }\n",
       "</style>\n",
       "<table border=\"1\" class=\"dataframe\">\n",
       "  <thead>\n",
       "    <tr style=\"text-align: right;\">\n",
       "      <th></th>\n",
       "      <th>식당 이름</th>\n",
       "      <th>식당 주소</th>\n",
       "    </tr>\n",
       "  </thead>\n",
       "  <tbody>\n",
       "    <tr>\n",
       "      <th>0</th>\n",
       "      <td>애플하우스 이수</td>\n",
       "      <td>서울 동작구 동작대로27다길 29 서광시티뷰 2층 201호</td>\n",
       "    </tr>\n",
       "    <tr>\n",
       "      <th>1</th>\n",
       "      <td>세녹</td>\n",
       "      <td>서울 동작구 사당로 304</td>\n",
       "    </tr>\n",
       "    <tr>\n",
       "      <th>2</th>\n",
       "      <td>스시로로</td>\n",
       "      <td>서울 동작구 동작대로23길 29</td>\n",
       "    </tr>\n",
       "    <tr>\n",
       "      <th>3</th>\n",
       "      <td>소담촌 사당직영점</td>\n",
       "      <td>서울 동작구 동작대로 43 5층</td>\n",
       "    </tr>\n",
       "    <tr>\n",
       "      <th>4</th>\n",
       "      <td>오센</td>\n",
       "      <td>서울 동작구 동작대로27나길 8</td>\n",
       "    </tr>\n",
       "    <tr>\n",
       "      <th>...</th>\n",
       "      <td>...</td>\n",
       "      <td>...</td>\n",
       "    </tr>\n",
       "    <tr>\n",
       "      <th>505</th>\n",
       "      <td>이슬도둑</td>\n",
       "      <td>서울 동작구 동작대로27가길 11 1층</td>\n",
       "    </tr>\n",
       "    <tr>\n",
       "      <th>506</th>\n",
       "      <td>향미</td>\n",
       "      <td>서울 서초구 서초대로1길 12</td>\n",
       "    </tr>\n",
       "    <tr>\n",
       "      <th>507</th>\n",
       "      <td>싸다김밥 이수역점</td>\n",
       "      <td>서울 서초구 동작대로 90 인산타워 1층</td>\n",
       "    </tr>\n",
       "    <tr>\n",
       "      <th>508</th>\n",
       "      <td>코우엔</td>\n",
       "      <td>서울 서초구 방배천로22길 4 방배노블루체서리풀오피스텔 101동 102호</td>\n",
       "    </tr>\n",
       "    <tr>\n",
       "      <th>509</th>\n",
       "      <td>바닷가</td>\n",
       "      <td>서울 동작구 동작대로13길 8 1층</td>\n",
       "    </tr>\n",
       "  </tbody>\n",
       "</table>\n",
       "<p>510 rows × 2 columns</p>\n",
       "</div>"
      ],
      "text/plain": [
       "         식당 이름                                     식당 주소\n",
       "0     애플하우스 이수          서울 동작구 동작대로27다길 29 서광시티뷰 2층 201호\n",
       "1           세녹                            서울 동작구 사당로 304\n",
       "2         스시로로                         서울 동작구 동작대로23길 29\n",
       "3    소담촌 사당직영점                         서울 동작구 동작대로 43 5층\n",
       "4           오센                         서울 동작구 동작대로27나길 8\n",
       "..         ...                                       ...\n",
       "505       이슬도둑                     서울 동작구 동작대로27가길 11 1층\n",
       "506         향미                          서울 서초구 서초대로1길 12\n",
       "507  싸다김밥 이수역점                    서울 서초구 동작대로 90 인산타워 1층\n",
       "508        코우엔  서울 서초구 방배천로22길 4 방배노블루체서리풀오피스텔 101동 102호\n",
       "509        바닷가                       서울 동작구 동작대로13길 8 1층\n",
       "\n",
       "[510 rows x 2 columns]"
      ]
     },
     "execution_count": 67,
     "metadata": {},
     "output_type": "execute_result"
    }
   ],
   "source": [
    "kakao_isu_data = pd.DataFrame(kakao_data)\n",
    "kakao_isu_data"
   ]
  },
  {
   "cell_type": "code",
   "execution_count": 72,
   "id": "40f76952",
   "metadata": {},
   "outputs": [
    {
     "data": {
      "text/html": [
       "<div>\n",
       "<style scoped>\n",
       "    .dataframe tbody tr th:only-of-type {\n",
       "        vertical-align: middle;\n",
       "    }\n",
       "\n",
       "    .dataframe tbody tr th {\n",
       "        vertical-align: top;\n",
       "    }\n",
       "\n",
       "    .dataframe thead th {\n",
       "        text-align: right;\n",
       "    }\n",
       "</style>\n",
       "<table border=\"1\" class=\"dataframe\">\n",
       "  <thead>\n",
       "    <tr style=\"text-align: right;\">\n",
       "      <th></th>\n",
       "      <th>식당 이름</th>\n",
       "      <th>식당 주소</th>\n",
       "    </tr>\n",
       "  </thead>\n",
       "  <tbody>\n",
       "    <tr>\n",
       "      <th>0</th>\n",
       "      <td>애플하우스 이수</td>\n",
       "      <td>서울 동작구 동작대로27다길 29 서광시티뷰 2층 201호</td>\n",
       "    </tr>\n",
       "    <tr>\n",
       "      <th>1</th>\n",
       "      <td>세녹</td>\n",
       "      <td>서울 동작구 사당로 304</td>\n",
       "    </tr>\n",
       "    <tr>\n",
       "      <th>2</th>\n",
       "      <td>스시로로</td>\n",
       "      <td>서울 동작구 동작대로23길 29</td>\n",
       "    </tr>\n",
       "    <tr>\n",
       "      <th>3</th>\n",
       "      <td>소담촌 사당직영점</td>\n",
       "      <td>서울 동작구 동작대로 43 5층</td>\n",
       "    </tr>\n",
       "    <tr>\n",
       "      <th>4</th>\n",
       "      <td>오센</td>\n",
       "      <td>서울 동작구 동작대로27나길 8</td>\n",
       "    </tr>\n",
       "    <tr>\n",
       "      <th>...</th>\n",
       "      <td>...</td>\n",
       "      <td>...</td>\n",
       "    </tr>\n",
       "    <tr>\n",
       "      <th>475</th>\n",
       "      <td>이슬도둑</td>\n",
       "      <td>서울 동작구 동작대로27가길 11 1층</td>\n",
       "    </tr>\n",
       "    <tr>\n",
       "      <th>476</th>\n",
       "      <td>향미</td>\n",
       "      <td>서울 서초구 서초대로1길 12</td>\n",
       "    </tr>\n",
       "    <tr>\n",
       "      <th>477</th>\n",
       "      <td>싸다김밥 이수역점</td>\n",
       "      <td>서울 서초구 동작대로 90 인산타워 1층</td>\n",
       "    </tr>\n",
       "    <tr>\n",
       "      <th>478</th>\n",
       "      <td>코우엔</td>\n",
       "      <td>서울 서초구 방배천로22길 4 방배노블루체서리풀오피스텔 101동 102호</td>\n",
       "    </tr>\n",
       "    <tr>\n",
       "      <th>479</th>\n",
       "      <td>바닷가</td>\n",
       "      <td>서울 동작구 동작대로13길 8 1층</td>\n",
       "    </tr>\n",
       "  </tbody>\n",
       "</table>\n",
       "<p>465 rows × 2 columns</p>\n",
       "</div>"
      ],
      "text/plain": [
       "         식당 이름                                     식당 주소\n",
       "0     애플하우스 이수          서울 동작구 동작대로27다길 29 서광시티뷰 2층 201호\n",
       "1           세녹                            서울 동작구 사당로 304\n",
       "2         스시로로                         서울 동작구 동작대로23길 29\n",
       "3    소담촌 사당직영점                         서울 동작구 동작대로 43 5층\n",
       "4           오센                         서울 동작구 동작대로27나길 8\n",
       "..         ...                                       ...\n",
       "475       이슬도둑                     서울 동작구 동작대로27가길 11 1층\n",
       "476         향미                          서울 서초구 서초대로1길 12\n",
       "477  싸다김밥 이수역점                    서울 서초구 동작대로 90 인산타워 1층\n",
       "478        코우엔  서울 서초구 방배천로22길 4 방배노블루체서리풀오피스텔 101동 102호\n",
       "479        바닷가                       서울 동작구 동작대로13길 8 1층\n",
       "\n",
       "[465 rows x 2 columns]"
      ]
     },
     "execution_count": 72,
     "metadata": {},
     "output_type": "execute_result"
    }
   ],
   "source": [
    "# 크롤링하고 혹여 결과가 중복되게 뽑히는 경우가 있다.\n",
    "# 물론 코드를 보수하는 방법이 좋지만, 우선 DataFrame으로 뽑아보고, 중복값을 제거해주는 방법도 있다.\n",
    "kakao_isu_data = kakao_isu_data.drop_duplicates()\n",
    "kakao_isu_data"
   ]
  },
  {
   "cell_type": "code",
   "execution_count": 73,
   "id": "4586401b",
   "metadata": {},
   "outputs": [],
   "source": [
    "# 파일을 엑셀로 내보내기\n",
    "kakao_isu_data.to_excel('/Users/minjeekim/Documents/스마트 인재개발원/5_WebCrawling/isu.xlsx', encoding = 'euc-kr')"
   ]
  }
 ],
 "metadata": {
  "kernelspec": {
   "display_name": "Python 3 (ipykernel)",
   "language": "python",
   "name": "python3"
  },
  "language_info": {
   "codemirror_mode": {
    "name": "ipython",
    "version": 3
   },
   "file_extension": ".py",
   "mimetype": "text/x-python",
   "name": "python",
   "nbconvert_exporter": "python",
   "pygments_lexer": "ipython3",
   "version": "3.9.13"
  }
 },
 "nbformat": 4,
 "nbformat_minor": 5
}
