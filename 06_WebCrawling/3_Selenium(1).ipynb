{
 "cells": [
  {
   "cell_type": "markdown",
   "id": "34c5fffe",
   "metadata": {},
   "source": [
    "# Selenium 설치"
   ]
  },
  {
   "cell_type": "code",
   "execution_count": 1,
   "id": "f7d076fe",
   "metadata": {},
   "outputs": [
    {
     "name": "stdout",
     "output_type": "stream",
     "text": [
      "Collecting selenium\n",
      "  Downloading selenium-4.9.0-py3-none-any.whl (6.5 MB)\n",
      "     ---------------------------------------- 6.5/6.5 MB 347.4 kB/s eta 0:00:00\n",
      "Requirement already satisfied: urllib3[socks]~=1.26 in c:\\users\\user02\\anaconda3\\lib\\site-packages (from selenium) (1.26.14)\n",
      "Collecting trio~=0.17\n",
      "  Downloading trio-0.22.0-py3-none-any.whl (384 kB)\n",
      "     ------------------------------------ 384.9/384.9 kB 452.5 kB/s eta 0:00:00\n",
      "Collecting trio-websocket~=0.9\n",
      "  Downloading trio_websocket-0.10.2-py3-none-any.whl (17 kB)\n",
      "Requirement already satisfied: certifi>=2021.10.8 in c:\\users\\user02\\anaconda3\\lib\\site-packages (from selenium) (2022.12.7)\n",
      "Requirement already satisfied: attrs>=19.2.0 in c:\\users\\user02\\anaconda3\\lib\\site-packages (from trio~=0.17->selenium) (22.1.0)\n",
      "Collecting async-generator>=1.9\n",
      "  Downloading async_generator-1.10-py3-none-any.whl (18 kB)\n",
      "Requirement already satisfied: cffi>=1.14 in c:\\users\\user02\\anaconda3\\lib\\site-packages (from trio~=0.17->selenium) (1.15.1)\n",
      "Requirement already satisfied: sortedcontainers in c:\\users\\user02\\anaconda3\\lib\\site-packages (from trio~=0.17->selenium) (2.4.0)\n",
      "Requirement already satisfied: sniffio in c:\\users\\user02\\anaconda3\\lib\\site-packages (from trio~=0.17->selenium) (1.2.0)\n",
      "Collecting exceptiongroup>=1.0.0rc9\n",
      "  Downloading exceptiongroup-1.1.1-py3-none-any.whl (14 kB)\n",
      "Requirement already satisfied: idna in c:\\users\\user02\\anaconda3\\lib\\site-packages (from trio~=0.17->selenium) (3.4)\n",
      "Collecting outcome\n",
      "  Downloading outcome-1.2.0-py2.py3-none-any.whl (9.7 kB)\n",
      "Collecting wsproto>=0.14\n",
      "  Downloading wsproto-1.2.0-py3-none-any.whl (24 kB)\n",
      "Requirement already satisfied: PySocks!=1.5.7,<2.0,>=1.5.6 in c:\\users\\user02\\anaconda3\\lib\\site-packages (from urllib3[socks]~=1.26->selenium) (1.7.1)\n",
      "Requirement already satisfied: pycparser in c:\\users\\user02\\anaconda3\\lib\\site-packages (from cffi>=1.14->trio~=0.17->selenium) (2.21)\n",
      "Collecting h11<1,>=0.9.0\n",
      "  Downloading h11-0.14.0-py3-none-any.whl (58 kB)\n",
      "     -------------------------------------- 58.3/58.3 kB 219.3 kB/s eta 0:00:00\n",
      "Installing collected packages: outcome, h11, exceptiongroup, async-generator, wsproto, trio, trio-websocket, selenium\n",
      "Successfully installed async-generator-1.10 exceptiongroup-1.1.1 h11-0.14.0 outcome-1.2.0 selenium-4.9.0 trio-0.22.0 trio-websocket-0.10.2 wsproto-1.2.0\n"
     ]
    }
   ],
   "source": [
    "# ! pip install selenium\n",
    "# ! pip install 은 설치되면 주석처리"
   ]
  },
  {
   "cell_type": "markdown",
   "id": "b1e701d4",
   "metadata": {},
   "source": [
    "# Library Import"
   ]
  },
  {
   "cell_type": "code",
   "execution_count": 1,
   "id": "067ebfa8",
   "metadata": {},
   "outputs": [],
   "source": [
    "# 컴퓨터용 브라우저 할당\n",
    "from selenium import webdriver as wb\n",
    "\n",
    "# 컴퓨터용 키보드 할당 (Keys는 대문자'K')\n",
    "from selenium.webdriver.common.keys import Keys\n",
    "    # 컴퓨터에게 물리적인 키보드가 없어서, 키 입력이 가능한 키보드를 선사\n",
    "\n",
    "# 구분자 역할 (By는 대문자'B')\n",
    "from selenium.webdriver.common.by import By"
   ]
  },
  {
   "cell_type": "code",
   "execution_count": 2,
   "id": "e4bce2b9",
   "metadata": {},
   "outputs": [],
   "source": [
    "# 크롬창 열기\n",
    "driver = wb.Chrome()\n",
    "\n",
    "# 성공 시, 자동화된 창이 하나 팝업\n",
    "# 항상 'Chrome이 자동화된 테스트 소프트웨어에 의해 제어되고 있습니다.' 탭이 보여져야 함"
   ]
  },
  {
   "cell_type": "code",
   "execution_count": 3,
   "id": "3523d8e5",
   "metadata": {},
   "outputs": [],
   "source": [
    "# 네이버 접속하기\n",
    "driver.get('https://naver.com') # 프로토콜 필수!"
   ]
  },
  {
   "cell_type": "markdown",
   "id": "262f511f",
   "metadata": {},
   "source": [
    "# 네이버에서 검색어 입력 후,  Enter까지 해보자"
   ]
  },
  {
   "cell_type": "code",
   "execution_count": 4,
   "id": "36828aef",
   "metadata": {},
   "outputs": [],
   "source": [
    "# 사용자가 크롬창을 열 듯, 브라우저에게 크롬창을 열어달라고 하기\n",
    "driver = wb.Chrome()"
   ]
  },
  {
   "cell_type": "code",
   "execution_count": 6,
   "id": "ae674906",
   "metadata": {},
   "outputs": [],
   "source": [
    "# Requests 라이브러리에서 get을 통해 불러왔었음\n",
    "# User-Agent는 Selenium에서 브라우저-브라우저로 요청하고 있기에 불필요\n",
    "driver.get('https://www.naver.com')"
   ]
  },
  {
   "cell_type": "markdown",
   "id": "c17522c2",
   "metadata": {},
   "source": [
    "### 검색창으로 접근\n",
    "#### Xpath : 절대 경로 -> //*[@id=\"query\"]\n",
    "   - Xpath 사용할 경우, 최소 어디서 긁어왔는지 그 경로를 주석처리할 것\n",
    "   - 편리하지만(f12에서 원하는 태그 copy - Copy Xpath), 항상 완벽하진 않음\n",
    "   - 업데이트 잦은 요소인지 확인하고, 최대한 변동이 없는 부분에 사용하자(ex. 검색창 등)\n"
   ]
  },
  {
   "cell_type": "code",
   "execution_count": 31,
   "id": "c0e086ae",
   "metadata": {},
   "outputs": [],
   "source": [
    "# 검색창의 태그의 id명 = query\n",
    "# find_element / find_elements (BeautifulSoup의 select_one / select 과 유사)\n",
    "\n",
    "search = driver.find_element(By.XPATH,'//*[@id=\"query\"]')"
   ]
  },
  {
   "cell_type": "markdown",
   "id": "6aeaccf5",
   "metadata": {},
   "source": [
    "### 검색어를 입력"
   ]
  },
  {
   "cell_type": "code",
   "execution_count": 17,
   "id": "76ec1bb4",
   "metadata": {},
   "outputs": [],
   "source": [
    "search.send_keys('안녕')"
   ]
  },
  {
   "cell_type": "code",
   "execution_count": 18,
   "id": "e8d5e9d8",
   "metadata": {},
   "outputs": [],
   "source": [
    "# 컴퓨터는 센스 X -> 검색어를 입력했다고 enter까지 해주지 않음\n",
    "# 코드로 enter명령 하달\n",
    "\n",
    "search.send_keys(Keys.ENTER)"
   ]
  },
  {
   "cell_type": "markdown",
   "id": "8590940c",
   "metadata": {},
   "source": [
    "### 뒤로가기"
   ]
  },
  {
   "cell_type": "code",
   "execution_count": 19,
   "id": "55472065",
   "metadata": {},
   "outputs": [],
   "source": [
    "# 검색 완료 후, 다시 메인페이지로 가기\n",
    "driver.back() # 자동브라우저에서 이전페이지로 이동하는 메소드\n",
    "# 뒤로가기 HTML코드가 아닌 브라우저에서 제공하는 편의기능"
   ]
  },
  {
   "cell_type": "markdown",
   "id": "9c48ffc5",
   "metadata": {},
   "source": [
    "### 재검색"
   ]
  },
  {
   "cell_type": "code",
   "execution_count": 24,
   "id": "428bd971",
   "metadata": {},
   "outputs": [],
   "source": [
    "# 재검색을 원할 경우, 바로 검색어 입력이 아닌 검색창으로 접근 먼저 해야함!\n",
    "searcelement(By.XPATH,'//*[@id=\"query\"]')\n",
    "search.send_keys('최유리-숲')\n",
    "search.send_keys(Keysh = driver.find_.ENTER)\n",
    "driver.back()"
   ]
  },
  {
   "cell_type": "markdown",
   "id": "82a62a63",
   "metadata": {},
   "source": [
    "### 검색버튼을 클릭해보자"
   ]
  },
  {
   "cell_type": "code",
   "execution_count": 30,
   "id": "ee4026c1",
   "metadata": {},
   "outputs": [],
   "source": [
    "search = driver.find_element(By.XPATH,'//*[@id=\"query\"]') # 검색창 요소 선택\n",
    "    # 현재 사용자가 마우스를 검색창에 올려놓은 상태\n",
    "search.send_keys('습관 - wh3n') # 검색어 입력\n",
    "\n",
    "# 검색버튼 요소 선택해보자\n",
    "btn = driver.find_element(By.XPATH, '//*[@id=\"search_btn\"]')\n",
    "# 컴퓨터는 마우스가 없으므로, 클릭을 하도록 코드로 명령\n",
    "btn.click()"
   ]
  },
  {
   "cell_type": "markdown",
   "id": "55ea52ee",
   "metadata": {},
   "source": [
    "### 끝까지 스크롤 해보기"
   ]
  },
  {
   "cell_type": "code",
   "execution_count": 32,
   "id": "0512284b",
   "metadata": {},
   "outputs": [],
   "source": [
    "# 우선 body태그를 선택\n",
    "body = driver.find_element(By.TAG_NAME, 'body')\n",
    "\n",
    "# 왜 body를 지정해가면서 해야할까?\n",
    "    # 앞으로 그롤링 할 수 있는 데이터들이 대부분 body tag 내에 위치\n",
    "    # 스크롤링 수행을 위해서는, body tag 선택되어야 함\n",
    "\n",
    "body.send_keys(Keys.END)"
   ]
  },
  {
   "cell_type": "markdown",
   "id": "8a5e8a94",
   "metadata": {},
   "source": [
    "### Chrome 브라우저 종료"
   ]
  },
  {
   "cell_type": "code",
   "execution_count": 50,
   "id": "81e7bda5",
   "metadata": {},
   "outputs": [],
   "source": [
    "# 사용자가 크롬창을 닫을 때 '닫기(x) 버튼' 클릭\n",
    "# 닫기버튼은 브라우저에서 제공하는 기능\n",
    "\n",
    "# 첫번째 방법\n",
    "# driver.close() # 현재 열려있는 창 닫음, 끝\n",
    "\n",
    "# 두번째 방법\n",
    "driver.quit() # 현재 열려있는 창을 닫되, 모든 webdriver 인스턴스와 관련된 모든 창,탭,프로세스,메모리를 종료\n",
    "# 웹크롤링은 대용량 데이터를 긁어오는 것이 목적이기 때문에, quit()을 쓰는 것을 권장"
   ]
  },
  {
   "cell_type": "markdown",
   "id": "3ea0b304",
   "metadata": {},
   "source": [
    "# 개인실습 1\n",
    "1. 크롬 브라우저를 켜고\n",
    "2. 네이버로 접속\n",
    "3. 검색창을 CSS_SELECTOR로 잡기 - 원하는 검색어 입력 (검색버튼 클릭)\n",
    "4. 스크롤 끝까지 내리기\n",
    "5. 뒤로가기 버튼을 눌러서 다시 메인으로 이동\n",
    "6. 크롬창 종료 - 메모리 누수까지 신경쓸 것!"
   ]
  },
  {
   "cell_type": "code",
   "execution_count": 46,
   "id": "e110ae6d",
   "metadata": {},
   "outputs": [],
   "source": [
    "driver = wb.Chrome()"
   ]
  },
  {
   "cell_type": "code",
   "execution_count": 47,
   "id": "1bd16c38",
   "metadata": {},
   "outputs": [],
   "source": [
    "driver.get('https://www.naver.com')"
   ]
  },
  {
   "cell_type": "code",
   "execution_count": 48,
   "id": "57979fcc",
   "metadata": {},
   "outputs": [],
   "source": [
    "## By.ID 사용하는 방법 : id명을 입력\n",
    "search = driver.find_element(By.ID, 'query')\n",
    "search.send_keys('주차장 확보')\n",
    "\n",
    "button = driver.find_element(By.ID, 'search_btn')\n",
    "button.click()"
   ]
  },
  {
   "cell_type": "code",
   "execution_count": 42,
   "id": "613ebff8",
   "metadata": {},
   "outputs": [],
   "source": [
    "## By.CSS_SELECTOR 사용하는 방법 : beautifulsoup에서 사용한 것처럼 똑같음\n",
    "# 선생님 풀이\n",
    "\n",
    "# search = driver.find_element(By.CSS_SELECTOR, '#query')\n",
    "# search.send_keys('주차장 확보')\n",
    "\n",
    "# button = driver.find_element(By.CSS_SELECTOR, '#search_btn')\n",
    "# button.click()"
   ]
  },
  {
   "cell_type": "code",
   "execution_count": 37,
   "id": "b4c44d84",
   "metadata": {},
   "outputs": [],
   "source": [
    "body = driver.find_element(By.TAG_NAME, 'body')\n",
    "body.send_keys(Keys.END)"
   ]
  },
  {
   "cell_type": "code",
   "execution_count": 49,
   "id": "aabc7e1c",
   "metadata": {},
   "outputs": [],
   "source": [
    "# CSS_SELECTOR사용해서\n",
    "# body = driver.find_element(By.CSS_SELECTOR, 'body')\n",
    "# body.send_keys(Keys.END)"
   ]
  },
  {
   "cell_type": "code",
   "execution_count": 38,
   "id": "3af1e46c",
   "metadata": {},
   "outputs": [],
   "source": [
    "driver.back()"
   ]
  },
  {
   "cell_type": "code",
   "execution_count": 45,
   "id": "7231491f",
   "metadata": {},
   "outputs": [],
   "source": [
    "driver.quit()"
   ]
  },
  {
   "cell_type": "markdown",
   "id": "521aad4a",
   "metadata": {},
   "source": [
    "# 개인실습 2\n",
    "1. 크롬 브라우저 켜고\n",
    "2. 네이버로 접속\n",
    "3. 검색창을 CSS_SELECT로 잡기 - 원하는 검색어 입력(Enter 키 사용)\n",
    "4. 검색 후 '이미지'탭 클릭(CSS_SELECTOR, 혹은 다른방법도 사용가능)\n",
    "5. 뒤로가기\n",
    "6. '뉴스'탭 클릭해서 들어가기 (CSS_SELECTOR, 혹은 다른방법도 사용가능)\n",
    "7. 뒤로 가기 버튼을 눌러서 다시 메인으로 이동\n",
    "8. 크롬창 종료 - 메모리 누수까지 신경쓸 것!"
   ]
  },
  {
   "cell_type": "code",
   "execution_count": 78,
   "id": "33a5ec69",
   "metadata": {},
   "outputs": [],
   "source": [
    "driver = wb.Chrome()"
   ]
  },
  {
   "cell_type": "code",
   "execution_count": 79,
   "id": "4ce34ee1",
   "metadata": {},
   "outputs": [],
   "source": [
    "driver.get('https://www.naver.com')"
   ]
  },
  {
   "cell_type": "code",
   "execution_count": 81,
   "id": "ad4d6067",
   "metadata": {},
   "outputs": [],
   "source": [
    "search = driver.find_element(By.ID, 'query')\n",
    "search.send_keys('욕지도')\n",
    "search.send_keys(Keys.ENTER)"
   ]
  },
  {
   "cell_type": "code",
   "execution_count": 82,
   "id": "aabed621",
   "metadata": {},
   "outputs": [],
   "source": [
    "image = driver.find_element(By.CSS_SELECTOR, '#lnb > div.lnb_group > div > ul > li:nth-child(2) > a')\n",
    "image.click()"
   ]
  },
  {
   "cell_type": "code",
   "execution_count": 83,
   "id": "bd1fdfe2",
   "metadata": {},
   "outputs": [],
   "source": [
    "driver.back()"
   ]
  },
  {
   "cell_type": "code",
   "execution_count": 84,
   "id": "b83a10cc",
   "metadata": {},
   "outputs": [],
   "source": [
    "news = driver.find_element(By.CSS_SELECTOR, '#lnb > div.lnb_group > div > ul > li:nth-child(9) > a')\n",
    "news.click()"
   ]
  },
  {
   "cell_type": "code",
   "execution_count": 85,
   "id": "a745c2a3",
   "metadata": {},
   "outputs": [],
   "source": [
    "driver.back()\n",
    "driver.back()"
   ]
  },
  {
   "cell_type": "code",
   "execution_count": 86,
   "id": "ac65c009",
   "metadata": {},
   "outputs": [],
   "source": [
    "driver.quit()"
   ]
  }
 ],
 "metadata": {
  "kernelspec": {
   "display_name": "Python 3 (ipykernel)",
   "language": "python",
   "name": "python3"
  },
  "language_info": {
   "codemirror_mode": {
    "name": "ipython",
    "version": 3
   },
   "file_extension": ".py",
   "mimetype": "text/x-python",
   "name": "python",
   "nbconvert_exporter": "python",
   "pygments_lexer": "ipython3",
   "version": "3.9.13"
  }
 },
 "nbformat": 4,
 "nbformat_minor": 5
}
