{
 "cells": [
  {
   "cell_type": "markdown",
   "id": "e5076108",
   "metadata": {},
   "source": [
    "# GMARKET 실습 (상품명|상품가격)"
   ]
  },
  {
   "cell_type": "code",
   "execution_count": 1,
   "id": "2dc4a3a2",
   "metadata": {},
   "outputs": [],
   "source": [
    "from selenium import webdriver as wb # 웹드라이버(브라우저 역할)\n",
    "from selenium.webdriver.common.keys import Keys\n",
    "from selenium.webdriver.common.by import By # 구분자\n",
    "from tqdm import tqdm # 진행상황을 progress bar로 시각화해주는 라이브러리\n",
    "import time # 지연시간을 줌(지연시간 없이 크롤링하면, 봇으로 인식되어 막힘)\n",
    "                #(페이지는 데이터 로딩 시간이 필요하여 매치가 안될 경우 데이터가 뽑히지 않을 수 있음)"
   ]
  },
  {
   "cell_type": "code",
   "execution_count": 2,
   "id": "2af7eb3b",
   "metadata": {},
   "outputs": [],
   "source": [
    "driver = wb.Chrome()\n",
    "driver.get('https://corners.gmarket.co.kr/bestsellers')"
   ]
  },
  {
   "cell_type": "code",
   "execution_count": 3,
   "id": "b0652a90",
   "metadata": {},
   "outputs": [],
   "source": [
    "# 웹페이지가 축소될 경우, html구조변경 일어날 수 있다.\n",
    "# 최대한 최대창으로 진행하는 것을 권장!\n",
    "driver.maximize_window()"
   ]
  },
  {
   "cell_type": "markdown",
   "id": "ab3c08b4",
   "metadata": {},
   "source": [
    "### 이미지 수집"
   ]
  },
  {
   "cell_type": "code",
   "execution_count": 4,
   "id": "ec2bcf10",
   "metadata": {},
   "outputs": [
    {
     "data": {
      "text/plain": [
       "20"
      ]
     },
     "execution_count": 4,
     "metadata": {},
     "output_type": "execute_result"
    }
   ],
   "source": [
    "# body = driver.find_element(By.TAG_NAME, 'body')\n",
    "# body.send_keys(Keys.END)\n",
    "\n",
    "# time.sleep(5)\n",
    "\n",
    "imgs = driver.find_elements(By.CLASS_NAME, 'image__lazy.image__load')\n",
    "# 또는 imgs = driver.find_elements(By.CSS_SELECTOR, '.image__lazy.image__load')\n",
    "\n",
    "imgs[0].click()\n",
    "\n",
    "len(imgs)"
   ]
  },
  {
   "cell_type": "markdown",
   "id": "3b447e20",
   "metadata": {},
   "source": [
    "### 상품명 수집"
   ]
  },
  {
   "cell_type": "code",
   "execution_count": 5,
   "id": "46b86c49",
   "metadata": {},
   "outputs": [
    {
     "name": "stdout",
     "output_type": "stream",
     "text": [
      "(10%쿠폰가 11610원) (1+1) 더 아이 주니어하이틴 심리스 브라탑 일체형 노와이어\n"
     ]
    }
   ],
   "source": [
    "# 상품명 요소가 몇개 뽑히는지 테스트\n",
    "title_test = driver.find_elements(By.CLASS_NAME, 'itemtit')\n",
    "\n",
    "for i in title_test:\n",
    "    print(i.text)"
   ]
  },
  {
   "cell_type": "code",
   "execution_count": 6,
   "id": "3ad2a77a",
   "metadata": {},
   "outputs": [
    {
     "name": "stdout",
     "output_type": "stream",
     "text": [
      "(10%쿠폰가 11610원) (1+1) 더 아이 주니어하이틴 심리스 브라탑 일체형 노와이어\n"
     ]
    }
   ],
   "source": [
    "# title이 하나이므로 find_element로 변경 (find_elements는 리스트로 반환되기 때문)\n",
    "title = driver.find_element(By.CLASS_NAME, 'itemtit')\n",
    "print(title.text)"
   ]
  },
  {
   "cell_type": "markdown",
   "id": "9c8b74f0",
   "metadata": {},
   "source": [
    "### 상품가격 수집"
   ]
  },
  {
   "cell_type": "code",
   "execution_count": 7,
   "id": "e377e5e2",
   "metadata": {},
   "outputs": [
    {
     "name": "stdout",
     "output_type": "stream",
     "text": [
      "12,900원\n",
      "11,610원\n"
     ]
    }
   ],
   "source": [
    "# 상품가격 요소가 몇개 뽑히는지 테스트\n",
    "price_test = driver.find_elements(By.CLASS_NAME, 'price_real')\n",
    "\n",
    "for i in price_test:\n",
    "    print(i.text)"
   ]
  },
  {
   "cell_type": "code",
   "execution_count": 8,
   "id": "cbfe5b7d",
   "metadata": {},
   "outputs": [
    {
     "name": "stdout",
     "output_type": "stream",
     "text": [
      "12,900원\n"
     ]
    }
   ],
   "source": [
    "# price가 두 개 이지만, 첫 번째 요소를 추출할 것이기 때문에 find_element로 변경\n",
    "price = driver.find_element(By.CLASS_NAME, 'price_real')\n",
    "print(price.text)"
   ]
  },
  {
   "cell_type": "code",
   "execution_count": 9,
   "id": "2cec12c2",
   "metadata": {},
   "outputs": [],
   "source": [
    "driver.back() # 베스트셀러 페이지로 돌아오자!"
   ]
  },
  {
   "cell_type": "markdown",
   "id": "86617c45",
   "metadata": {},
   "source": [
    "### 대망의 for loop으로 추출 해보자"
   ]
  },
  {
   "cell_type": "code",
   "execution_count": 10,
   "id": "527a85a2",
   "metadata": {},
   "outputs": [
    {
     "name": "stderr",
     "output_type": "stream",
     "text": [
      "100%|███████████████████████████████████████████| 11/11 [05:57<00:00, 32.47s/it]\n"
     ]
    }
   ],
   "source": [
    "# 먼저 빈 그릇 2개 생성\n",
    "title_list = []\n",
    "price_list = []\n",
    "\n",
    "# 품목 10개 가져오자\n",
    "for i in tqdm(range(11)): # tqdm : for문이 얼마나 걸리는지 예상 가능\n",
    "    imgs = driver.find_elements(By.CLASS_NAME, 'image__lazy.image__load')\n",
    "    imgs[i].click()\n",
    "    \n",
    "    time.sleep(2) # 지연시간 2초정도.\n",
    "    \n",
    "    title = driver.find_element(By.CLASS_NAME,'itemtit')\n",
    "    title_list.append(title.text)\n",
    "    price = driver.find_element(By.CLASS_NAME,'price_real')\n",
    "    price_list.append(price.text)\n",
    "    \n",
    "    driver.back()\n",
    "    \n",
    "    time.sleep(2)"
   ]
  },
  {
   "cell_type": "code",
   "execution_count": 11,
   "id": "f892fab6",
   "metadata": {},
   "outputs": [
    {
     "data": {
      "text/plain": [
       "['(10%쿠폰가 11610원) (1+1) 더 아이 주니어하이틴 심리스 브라탑 일체형 노와이어',\n",
       " 'UV차단 우산 1+1 원터치 자동 암막 양산 접이식 우양산',\n",
       " '쿨맥스 썸머버전 추가/여성청바지 판매1위/연청추가/하비고민 덜어주는 데님 (Made)S~2XL/스테디치즈데님',\n",
       " '배수구 세정제 드릴펑 1L 3+2개(총5개)/초특가',\n",
       " '펩시콜라 제로슈거 라임 355ml 24캔 캔음료/탄산음료/제로콜라/음료수/펩시제로',\n",
       " '기프트코드 10만원 / 구글 기프트카드',\n",
       " '1+1+1행사 모이스쳐 틴트 립밤',\n",
       " '갈치속젓/갈치쌈젓 1kg(용기포장) HACCP인증/국내산',\n",
       " '((24시간 특가)) 1+1 소두핏 자외선 여성 버킷햇 벙거지 모자 MZ016',\n",
       " '맥콜 제로 250ml x 30캔 제로칼로리',\n",
       " '기프트코드 5만원 / 구글 기프트카드']"
      ]
     },
     "execution_count": 11,
     "metadata": {},
     "output_type": "execute_result"
    }
   ],
   "source": [
    "title_list"
   ]
  },
  {
   "cell_type": "code",
   "execution_count": 12,
   "id": "e6dde6e1",
   "metadata": {},
   "outputs": [
    {
     "data": {
      "text/plain": [
       "['12,900원',\n",
       " '9,900원',\n",
       " '21,900원',\n",
       " '11,200원',\n",
       " '20,500원',\n",
       " '95,000원',\n",
       " '11,900원',\n",
       " '10,900원',\n",
       " '8,900원',\n",
       " '16,900원',\n",
       " '47,500원']"
      ]
     },
     "execution_count": 12,
     "metadata": {},
     "output_type": "execute_result"
    }
   ],
   "source": [
    "price_list"
   ]
  },
  {
   "cell_type": "markdown",
   "id": "8f53709d",
   "metadata": {},
   "source": [
    "### DataFrame"
   ]
  },
  {
   "cell_type": "code",
   "execution_count": 13,
   "id": "810b493a",
   "metadata": {},
   "outputs": [
    {
     "data": {
      "text/html": [
       "<div>\n",
       "<style scoped>\n",
       "    .dataframe tbody tr th:only-of-type {\n",
       "        vertical-align: middle;\n",
       "    }\n",
       "\n",
       "    .dataframe tbody tr th {\n",
       "        vertical-align: top;\n",
       "    }\n",
       "\n",
       "    .dataframe thead th {\n",
       "        text-align: right;\n",
       "    }\n",
       "</style>\n",
       "<table border=\"1\" class=\"dataframe\">\n",
       "  <thead>\n",
       "    <tr style=\"text-align: right;\">\n",
       "      <th></th>\n",
       "      <th>상품명</th>\n",
       "      <th>가격</th>\n",
       "    </tr>\n",
       "  </thead>\n",
       "  <tbody>\n",
       "    <tr>\n",
       "      <th>0</th>\n",
       "      <td>(10%쿠폰가 11610원) (1+1) 더 아이 주니어하이틴 심리스 브라탑 일체형 ...</td>\n",
       "      <td>12,900원</td>\n",
       "    </tr>\n",
       "    <tr>\n",
       "      <th>1</th>\n",
       "      <td>UV차단 우산 1+1 원터치 자동 암막 양산 접이식 우양산</td>\n",
       "      <td>9,900원</td>\n",
       "    </tr>\n",
       "    <tr>\n",
       "      <th>2</th>\n",
       "      <td>쿨맥스 썸머버전 추가/여성청바지 판매1위/연청추가/하비고민 덜어주는 데님 (Made...</td>\n",
       "      <td>21,900원</td>\n",
       "    </tr>\n",
       "    <tr>\n",
       "      <th>3</th>\n",
       "      <td>배수구 세정제 드릴펑 1L 3+2개(총5개)/초특가</td>\n",
       "      <td>11,200원</td>\n",
       "    </tr>\n",
       "    <tr>\n",
       "      <th>4</th>\n",
       "      <td>펩시콜라 제로슈거 라임 355ml 24캔 캔음료/탄산음료/제로콜라/음료수/펩시제로</td>\n",
       "      <td>20,500원</td>\n",
       "    </tr>\n",
       "    <tr>\n",
       "      <th>5</th>\n",
       "      <td>기프트코드 10만원 / 구글 기프트카드</td>\n",
       "      <td>95,000원</td>\n",
       "    </tr>\n",
       "    <tr>\n",
       "      <th>6</th>\n",
       "      <td>1+1+1행사 모이스쳐 틴트 립밤</td>\n",
       "      <td>11,900원</td>\n",
       "    </tr>\n",
       "    <tr>\n",
       "      <th>7</th>\n",
       "      <td>갈치속젓/갈치쌈젓 1kg(용기포장) HACCP인증/국내산</td>\n",
       "      <td>10,900원</td>\n",
       "    </tr>\n",
       "    <tr>\n",
       "      <th>8</th>\n",
       "      <td>((24시간 특가)) 1+1 소두핏 자외선 여성 버킷햇 벙거지 모자 MZ016</td>\n",
       "      <td>8,900원</td>\n",
       "    </tr>\n",
       "    <tr>\n",
       "      <th>9</th>\n",
       "      <td>맥콜 제로 250ml x 30캔 제로칼로리</td>\n",
       "      <td>16,900원</td>\n",
       "    </tr>\n",
       "    <tr>\n",
       "      <th>10</th>\n",
       "      <td>기프트코드 5만원 / 구글 기프트카드</td>\n",
       "      <td>47,500원</td>\n",
       "    </tr>\n",
       "  </tbody>\n",
       "</table>\n",
       "</div>"
      ],
      "text/plain": [
       "                                                  상품명       가격\n",
       "0   (10%쿠폰가 11610원) (1+1) 더 아이 주니어하이틴 심리스 브라탑 일체형 ...  12,900원\n",
       "1                    UV차단 우산 1+1 원터치 자동 암막 양산 접이식 우양산   9,900원\n",
       "2   쿨맥스 썸머버전 추가/여성청바지 판매1위/연청추가/하비고민 덜어주는 데님 (Made...  21,900원\n",
       "3                        배수구 세정제 드릴펑 1L 3+2개(총5개)/초특가  11,200원\n",
       "4       펩시콜라 제로슈거 라임 355ml 24캔 캔음료/탄산음료/제로콜라/음료수/펩시제로  20,500원\n",
       "5                               기프트코드 10만원 / 구글 기프트카드  95,000원\n",
       "6                                  1+1+1행사 모이스쳐 틴트 립밤  11,900원\n",
       "7                     갈치속젓/갈치쌈젓 1kg(용기포장) HACCP인증/국내산  10,900원\n",
       "8         ((24시간 특가)) 1+1 소두핏 자외선 여성 버킷햇 벙거지 모자 MZ016   8,900원\n",
       "9                             맥콜 제로 250ml x 30캔 제로칼로리  16,900원\n",
       "10                               기프트코드 5만원 / 구글 기프트카드  47,500원"
      ]
     },
     "execution_count": 13,
     "metadata": {},
     "output_type": "execute_result"
    }
   ],
   "source": [
    "import pandas as pd\n",
    "dic = {'상품명':title_list, '가격':price_list}\n",
    "GMARKET_df = pd.DataFrame(dic)\n",
    "GMARKET_df"
   ]
  },
  {
   "cell_type": "markdown",
   "id": "432725c3",
   "metadata": {},
   "source": [
    "### 파일로 내보내기"
   ]
  },
  {
   "cell_type": "code",
   "execution_count": 15,
   "id": "4e41eb3e",
   "metadata": {},
   "outputs": [],
   "source": [
    "GMARKET_df.to_csv('/Users/minjeekim/Documents/스마트 인재개발원/5_WebCrawling/gmarket.csv', encoding='euc-kr')\n",
    "GMARKET_df.to_excel('/Users/minjeekim/Documents/스마트 인재개발원/5_WebCrawling/gmarket.xlsx', encoding='euc-kr')"
   ]
  },
  {
   "cell_type": "code",
   "execution_count": 16,
   "id": "f9ab52aa",
   "metadata": {},
   "outputs": [],
   "source": [
    "driver.quit()"
   ]
  }
 ],
 "metadata": {
  "kernelspec": {
   "display_name": "Python 3 (ipykernel)",
   "language": "python",
   "name": "python3"
  },
  "language_info": {
   "codemirror_mode": {
    "name": "ipython",
    "version": 3
   },
   "file_extension": ".py",
   "mimetype": "text/x-python",
   "name": "python",
   "nbconvert_exporter": "python",
   "pygments_lexer": "ipython3",
   "version": "3.9.13"
  }
 },
 "nbformat": 4,
 "nbformat_minor": 5
}
