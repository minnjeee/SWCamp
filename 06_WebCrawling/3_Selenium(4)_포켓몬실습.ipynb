{
 "cells": [
  {
   "cell_type": "markdown",
   "id": "5965886f",
   "metadata": {},
   "source": [
    "# 포켓몬 이미지 수집"
   ]
  },
  {
   "cell_type": "code",
   "execution_count": 32,
   "id": "bf079ac4",
   "metadata": {},
   "outputs": [],
   "source": [
    "from selenium import webdriver as wb\n",
    "from selenium.webdriver.common.keys import Keys\n",
    "from selenium.webdriver.common.by import By\n",
    "import time\n",
    "from tqdm import tqdm\n",
    "import pandas as pd\n",
    "\n",
    "import os # os 라이브러리 : 운영체제와 상호작용을 하게 해주는 라이브러리\n",
    "                # 파일/폴더 생성/삭제 등 파일관리에 좀 더 중점\n",
    "from urllib.request import urlretrieve # 인터넷에서 파일을 다운로드 하는 함수\n",
    "# 다운로드하려는 파일의 url과 파일명을 지정하면, 해당파일을 인터넷에서 다운, 로컬파일시스템에 저장해주는 라이브러리"
   ]
  },
  {
   "cell_type": "code",
   "execution_count": 33,
   "id": "8b0d7eef",
   "metadata": {},
   "outputs": [],
   "source": [
    "driver = wb.Chrome()\n",
    "driver.get('https://pokemonkorea.co.kr/pokedex')\n",
    "driver.maximize_window()"
   ]
  },
  {
   "cell_type": "code",
   "execution_count": 34,
   "id": "d421f12c",
   "metadata": {},
   "outputs": [],
   "source": [
    "# 크롤링할 이미지는 body에 있기 때문에 우선 선언\n",
    "body = driver.find_element(By.TAG_NAME, 'body')"
   ]
  },
  {
   "cell_type": "markdown",
   "id": "558e7a40",
   "metadata": {},
   "source": [
    "### for loop으로 추출\n",
    "- while loop 가 아닌 for loop을 사용하는 이유\n",
    "- 크롤링이 끝나도, body는 사라지지 않고, 계속 존재하게 되므로, break를 걸어주지 않는 이상은 계속 존재하는 body때문에 무한루프에 빠질 수 있다."
   ]
  },
  {
   "cell_type": "code",
   "execution_count": 35,
   "id": "b1a814fc",
   "metadata": {},
   "outputs": [
    {
     "name": "stderr",
     "output_type": "stream",
     "text": [
      "100%|███████████████████████████████████████████| 70/70 [02:25<00:00,  2.07s/it]\n"
     ]
    }
   ],
   "source": [
    "# range -> 스크롤 횟수\n",
    "\n",
    "# 스크롤을 20회 정도 해보자 + 30회 + 20회 하니까 다 스크롤 됨!\n",
    "\n",
    "for i in tqdm(range(70)):\n",
    "    body = driver.find_element(By.TAG_NAME, 'body')\n",
    "    \n",
    "    body.send_keys(Keys.END)\n",
    "    \n",
    "    time.sleep(2)"
   ]
  },
  {
   "cell_type": "code",
   "execution_count": 36,
   "id": "6ac0b024",
   "metadata": {},
   "outputs": [
    {
     "data": {
      "text/plain": [
       "'https://data1.pokemonkorea.co.kr/newdata/pokedex/mid/000101.png'"
      ]
     },
     "execution_count": 36,
     "metadata": {},
     "output_type": "execute_result"
    }
   ],
   "source": [
    "# 스크롤을 통해서 포켓몬 이미지를 서버로부터 브라우저에 로드\n",
    "\n",
    "# 이미지 url추출\n",
    "imgs_url = driver.find_elements(By.CSS_SELECTOR,'img.img-fluid')\n",
    "\n",
    "# imgs_url에서 0번째 요소에서 src란 요소를 가져오기\n",
    "    # 텍스트가 아닌 속성을 가져는 것 -> get_attribute()사용\n",
    "imgs_url[0].get_attribute('src') # 첫번째 이미지 소스 확인"
   ]
  },
  {
   "cell_type": "code",
   "execution_count": 37,
   "id": "a1f63184",
   "metadata": {},
   "outputs": [],
   "source": [
    "# scr url을 srcList인 빈 리스트에 담아줌\n",
    "\n",
    "srcList = []\n",
    "\n",
    "for i in imgs_url:\n",
    "    srcList.append(i.get_attribute('src'))"
   ]
  },
  {
   "cell_type": "code",
   "execution_count": 38,
   "id": "f4d8d6eb",
   "metadata": {},
   "outputs": [
    {
     "data": {
      "text/plain": [
       "1226"
      ]
     },
     "execution_count": 38,
     "metadata": {},
     "output_type": "execute_result"
    }
   ],
   "source": [
    "len(srcList)"
   ]
  },
  {
   "cell_type": "code",
   "execution_count": 49,
   "id": "d46bf7a5",
   "metadata": {},
   "outputs": [],
   "source": [
    "driver.quit()"
   ]
  },
  {
   "cell_type": "markdown",
   "id": "8df9817b",
   "metadata": {},
   "source": [
    "### 폴더 생성"
   ]
  },
  {
   "cell_type": "code",
   "execution_count": 40,
   "id": "e58e5d25",
   "metadata": {},
   "outputs": [],
   "source": [
    "# 사용자가 바탕화면에 이미지나 파일을 담을 때, 폴더를 생성 (os 라이브러리를 사용)\n",
    "\n",
    "# 만약 경로상에 Pokemon 폴더가 없다면 Pokemon이란 폴더를 만들어줌\n",
    "if not os.path.isdir('/Users/minjeekim/Documents/스마트 인재개발원/5_WebCrawling/Pokemon'):\n",
    "    os.mkdir('/Users/minjeekim/Documents/스마트 인재개발원/5_WebCrawling/Pokemon')"
   ]
  },
  {
   "cell_type": "code",
   "execution_count": 41,
   "id": "a3e84b9b",
   "metadata": {},
   "outputs": [],
   "source": [
    "# 우리가 가져온 것은 이미지 데이터가 아닌, src url이다.\n",
    "# 그럼 온전한 이미지 파일로 변환을 시켜줘야겠네? -> urlretrieve()를 사용\n",
    "\n",
    "cnt = 1 # cnt는 파일이 순차적으로 변환되면서, 파일명을 1씩 증가시켜줌\n",
    "\n",
    "# 반복문으로 집어넣어보자, 그리고 이름도 바꿔주자\n",
    "\n",
    "for i in srcList:\n",
    "    \n",
    "    # 첫 번째 파일에서 해당 경로의 Pokemon 폴더 내,\n",
    "    # .jpg 확장자 이름으로 변환해줘\n",
    "    # 문자열인 cnt로 명령된 파일들을\n",
    "    \n",
    "    urlretrieve(i,'/Users/minjeekim/Documents/스마트 인재개발원/5_WebCrawling/Pokemon/'+str(cnt)+'.jpg')\n",
    "    \n",
    "    # 첫번째 항목이 완료되었을 경우, 하나씩 증감\n",
    "    cnt += 1\n",
    "    \n",
    "    # + 부호는 더하기 혹은 '결합'을 의미함\n",
    "        # cnt는 숫자인데 파일명을 저장할 때는문자로 저장함 -> str으로 변환\n",
    "    \n",
    "    # 컴퓨터는 확장자 구분에 엄청 깐깐함\n",
    "        # 정작 사용자의 명령없이는 확장자를 생성해주지 않는다.\n",
    "        # 그래서 뒤에 + .jpg 라고 붙여줘야 붙여준다."
   ]
  }
 ],
 "metadata": {
  "kernelspec": {
   "display_name": "Python 3 (ipykernel)",
   "language": "python",
   "name": "python3"
  },
  "language_info": {
   "codemirror_mode": {
    "name": "ipython",
    "version": 3
   },
   "file_extension": ".py",
   "mimetype": "text/x-python",
   "name": "python",
   "nbconvert_exporter": "python",
   "pygments_lexer": "ipython3",
   "version": "3.9.13"
  }
 },
 "nbformat": 4,
 "nbformat_minor": 5
}
