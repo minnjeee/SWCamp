{
 "cells": [
  {
   "cell_type": "markdown",
   "id": "3fbbd0db",
   "metadata": {},
   "source": [
    "# 한솥 도시락 (메뉴이름|가격 수집)\n",
    "1. Selenium Method 활용\n",
    "2. 메뉴이름, 가격 수집하기\n",
    "3. 더보기 계속 자동적으로 클릭하기 (try/ except)\n",
    "4. Dataframe"
   ]
  },
  {
   "cell_type": "code",
   "execution_count": 17,
   "id": "0e0c946a",
   "metadata": {},
   "outputs": [],
   "source": [
    "# 라이브러리 import\n",
    "from selenium import webdriver as wb\n",
    "from selenium.webdriver.common.by import By\n",
    "from selenium.webdriver.common.keys import Keys\n",
    "import time\n",
    "import pandas as pd"
   ]
  },
  {
   "cell_type": "markdown",
   "id": "3c446f7f",
   "metadata": {},
   "source": [
    "### 브라우저 오픈"
   ]
  },
  {
   "cell_type": "code",
   "execution_count": 18,
   "id": "4dcd417a",
   "metadata": {},
   "outputs": [],
   "source": [
    "driver = wb.Chrome()\n",
    "driver.get('https://www.hsd.co.kr/')\n",
    "\n",
    "# 햄버거 버튼(창이 축소되면서 메뉴 버튼이 바뀜) 발생 -> 창 최대화해서 진행\n",
    "driver.maximize_window()"
   ]
  },
  {
   "cell_type": "code",
   "execution_count": 19,
   "id": "18d99b35",
   "metadata": {},
   "outputs": [],
   "source": [
    "# [메뉴] - [전체메뉴]로 이동\n",
    "menu = driver.find_element(By.XPATH, '//*[@id=\"gnb\"]/div[2]/ul/li[3]/p/a')\n",
    "all_menu = driver.find_element(By.XPATH,'//*[@id=\"gnb\"]/div[2]/ul/li[3]/div/ul/li[1]/a')"
   ]
  },
  {
   "cell_type": "markdown",
   "id": "930660d6",
   "metadata": {},
   "source": [
    "### Action Chain 으로 메뉴에 접근해보자\n",
    "#### Action Chain이란?\n",
    ": selenium에서 제공하는 기능 중 하나. 마우스,키보드의 액션을 생성 가능"
   ]
  },
  {
   "cell_type": "code",
   "execution_count": 20,
   "id": "85776549",
   "metadata": {},
   "outputs": [],
   "source": [
    "from selenium.webdriver.common.action_chains import ActionChains"
   ]
  },
  {
   "cell_type": "code",
   "execution_count": 23,
   "id": "83077f64",
   "metadata": {},
   "outputs": [],
   "source": [
    "# action 만들기 / 변수 생성\n",
    "action = ActionChains(driver) # driver를 통해 액션을 만든다고 선언\n",
    "\n",
    "# 첫번째 관문, menu로 이동\n",
    "action.move_to_element(menu) # 사용자가 마우스를 menu버튼으로 이동하듯이 컴퓨터 코드로 작성\n",
    "\n",
    "# 두번째 관문, 전체메뉴 클릭\n",
    "action.click(all_menu)\n",
    "\n",
    "time.sleep(1)\n",
    "\n",
    "# 해당 작업을 수행\n",
    "action.perform()"
   ]
  },
  {
   "cell_type": "code",
   "execution_count": 24,
   "id": "92de3b09",
   "metadata": {},
   "outputs": [],
   "source": [
    "# 더보기 버튼 수집\n",
    "btn = driver.find_element(By.XPATH, '//*[@id=\"btn_more\"]/span/a')\n",
    "btn.click()"
   ]
  },
  {
   "cell_type": "markdown",
   "id": "b843a6a4",
   "metadata": {},
   "source": [
    "### 요소들 출력"
   ]
  },
  {
   "cell_type": "code",
   "execution_count": 25,
   "id": "31915884",
   "metadata": {
    "scrolled": true
   },
   "outputs": [
    {
     "name": "stdout",
     "output_type": "stream",
     "text": [
      "송정식 떡갈비 도시락\n",
      "카츠카츠 도시락\n",
      "아보카도 훈제 닭가슴살 명란 비빔밥\n",
      "아보카도 소불고기 명란 비빔밥\n",
      "새후마요\n",
      "숯불직화구이 두부강된장\n",
      "해바라기\n",
      "매화\n",
      "진달래\n",
      "개나리\n",
      "돈까스도련님고기고기\n",
      "탕수육도련님고기고기\n",
      "새치 고기고기\n",
      "돈치 고기고기\n",
      "숯불직화구이\n",
      "소불고기\n",
      "메가치킨제육\n",
      "칠리 찹쌀탕수육도련님\n",
      "동백\n",
      "치킨제육\n",
      "돈까스도련님\n",
      "제육볶음\n",
      "돈치스팸 도시락\n",
      "제육 김치찌개 정식\n",
      "제육 김치 부대찌개 정식\n",
      "돈치스팸 김치 부대찌개 정식\n",
      "빅치킨마요 김치 부대찌개 정식\n",
      "치킨마요 김치 부대찌개 정식\n",
      "빅치킨마요 김치찌개 정식\n",
      "치킨마요 김치찌개 정식\n",
      "메가스팸마요\n",
      "스팸마요\n",
      "메가치킨마요\n",
      "왕치킨마요\n",
      "빅치킨마요\n",
      "치킨마요\n",
      "참치마요\n",
      "돈치마요\n",
      "돈까스 카레\n",
      "스팸 김치볶음밥\n",
      "김치볶음밥\n",
      "스팸철판볶음밥\n",
      "소불고기 철판볶음밥\n",
      "나시고랭\n",
      "묵은지 김치찌개\n",
      "김치 부대찌개\n",
      "숯불직화구이 덮밥\n",
      "마파두부 덮밥\n",
      "왕카레돈까스덮밥\n",
      "새우돈까스 덮밥\n",
      "돈까스 덮밥\n",
      "소불고기 감초고추장 비빔밥\n",
      "시골제육 두부강된장 비빔밥\n",
      "참치야채 감초고추장\n",
      "튼튼도시락\n",
      "토네이도 소세지 파스타\n",
      "트리플 치즈 파스타\n",
      "토마토 미트 파스타\n",
      "반찬 묵은지김치찌개\n",
      "반찬 카레\n",
      "반찬 순살 고등어 간장구이\n",
      "반찬 김치 부대찌개\n",
      "반찬 치킨\n",
      "반찬 고기고기\n",
      "반찬 돈까스 도련님\n",
      "반찬 제육볶음\n",
      "반찬 토네이도 소세지\n",
      "반찬 반달돈까스\n",
      "치즈버터 해시 포테이토 스틱\n",
      "허니버터 해시 포테이토 스틱\n",
      "해시 포테이토 스틱\n",
      "뉴 감자고로케\n",
      "미니 찹쌀핫도그\n",
      "미니 찹쌀탕수육\n",
      "케이준후라이\n",
      "통현미 닭강정(소)\n",
      "통현미 닭강정(중)\n",
      "후라이드 순살(중)\n",
      "후라이드 순살(소)_양념치킨소스\n",
      "후라이드 순살(소)_케이준소스\n",
      "오리지널 닭강정(중)\n",
      "오리지널 닭강정(소)\n",
      "반찬 무생채\n",
      "3종 미니반찬B\n",
      "3종 미니반찬A\n",
      "오징어젓갈\n",
      "한솥 두부강된장소스\n",
      "한솥 감초볶음고추장소스\n",
      "볶음김치\n",
      "김치\n",
      "무말랭이 무침\n",
      "한솥밥\n",
      "현미밥\n",
      "리얼 티라미수 찰떡\n",
      "리얼꿀 미니호떡\n"
     ]
    }
   ],
   "source": [
    "# 메뉴이름 뽑기\n",
    "titles = driver.find_elements(By.CSS_SELECTOR, '.h.fz_03')\n",
    "\n",
    "for i in titles:\n",
    "    print(i.text)"
   ]
  },
  {
   "cell_type": "code",
   "execution_count": 26,
   "id": "652f3653",
   "metadata": {
    "scrolled": true
   },
   "outputs": [
    {
     "name": "stdout",
     "output_type": "stream",
     "text": [
      "6,900원\n",
      "4,800원\n",
      "6,500원\n",
      "6,500원\n",
      "4,500원\n",
      "8,200원\n",
      "10,000원\n",
      "10,500원\n",
      "7,800원\n",
      "8,500원\n",
      "6,300원\n",
      "6,000원\n",
      "7,000원\n",
      "6,000원\n",
      "6,600원\n",
      "5,500원\n",
      "7,500원\n",
      "4,400원\n",
      "6,000원\n",
      "4,900원\n",
      "4,800원\n",
      "4,500원\n",
      "5,000원\n",
      "8,600원\n",
      "9,000원\n",
      "9,000원\n",
      "8,000원\n",
      "7,400원\n",
      "7,500원\n",
      "6,900원\n",
      "5,800원\n",
      "3,900원\n",
      "6,000원\n",
      "5,000원\n",
      "4,300원\n",
      "3,700원\n",
      "3,500원\n",
      "4,000원\n",
      "4,700원\n",
      "4,700원\n",
      "3,900원\n",
      "4,700원\n",
      "4,900원\n",
      "6,200원\n",
      "4,900원\n",
      "6,000원\n",
      "6,000원\n",
      "5,000원\n",
      "6,000원\n",
      "4,200원\n",
      "4,100원\n",
      "5,400원\n",
      "5,200원\n",
      "3,500원\n",
      "5,000원\n",
      "5,800원\n",
      "5,900원\n",
      "4,800원\n",
      "4,400원\n",
      "2,900원\n",
      "3,900원\n",
      "4,900원\n",
      "3,800원\n",
      "3,600원\n",
      "4,100원\n",
      "3,500원\n",
      "2,800원\n",
      "2,900원\n",
      "2,200원\n",
      "2,200원\n",
      "2,000원\n",
      "2,700원\n",
      "2,500원\n",
      "2,200원\n",
      "1,900원\n",
      "3,500원\n",
      "8,500원\n",
      "7,500원\n",
      "4,000원\n",
      "4,000원\n",
      "8,500원\n",
      "3,500원\n",
      "400원\n",
      "1,300원\n",
      "1,300원\n",
      "600원\n",
      "1,800원\n",
      "500원\n",
      "500원\n",
      "400원\n",
      "500원\n",
      "1,000원\n",
      "1,700원\n",
      "1,700원\n",
      "2,200원\n"
     ]
    }
   ],
   "source": [
    "# 메뉴 가격 뽑기\n",
    "price = driver.find_elements(By.CSS_SELECTOR, 'div.item-price')\n",
    "\n",
    "for i in price:\n",
    "    print(i.text)"
   ]
  },
  {
   "cell_type": "markdown",
   "id": "400a1f2e",
   "metadata": {},
   "source": [
    "### 반복문을 통해 데이터 크롤링 진행"
   ]
  },
  {
   "cell_type": "code",
   "execution_count": 27,
   "id": "bacda579",
   "metadata": {},
   "outputs": [
    {
     "name": "stdout",
     "output_type": "stream",
     "text": [
      "더보기 클릭 완료. 계속 진행합니다.\n"
     ]
    },
    {
     "name": "stderr",
     "output_type": "stream",
     "text": [
      "100%|██████████████████████████████████████████| 95/95 [00:00<00:00, 102.36it/s]\n"
     ]
    },
    {
     "name": "stdout",
     "output_type": "stream",
     "text": [
      "크롤링 완료. 수고하셨습니다.\n"
     ]
    }
   ],
   "source": [
    "from tqdm import tqdm\n",
    "\n",
    "title_list = []\n",
    "price_list = []\n",
    "\n",
    "try:  # 시도해봐 (아래 블럭의 코드를 실행해봐)\n",
    "    while True :     #(이 조건이 참일때)(더보기 버튼이 있을 때)\n",
    "        # 더보기 버튼 선언\n",
    "        btn = driver.find_element(By.XPATH, '//*[@id=\"btn_more\"]/span/a')\n",
    "        # 더보기 버튼 클릭\n",
    "        btn.click()\n",
    "        # 지연시간 2초\n",
    "        time.sleep(2)\n",
    "        \n",
    "        # 여기까지 더보기 버튼이 계속 있다면, 클릭을 해주면서 계속 반복함! \n",
    "except :\n",
    "    # 예외의 경우\n",
    "    \n",
    "    # 이 실습에서 예외란 더보기가 없는 경우\n",
    "    # 예외처리가 안되어있을 경우, 더보기 버튼이 없을시\n",
    "        # 동작은 되자만, 데이터가 잘 안뽑힐 수 있고,\n",
    "        # 에러를 배출하면서 아예 크롤러가 종료될 수 있음.\n",
    "    \n",
    "    # 1. 우선 '클릭 완료' '계속 진행합니다' 라는 문구를 출력\n",
    "    print('더보기 클릭 완료. 계속 진행합니다.')\n",
    "\n",
    "titles = driver.find_elements(By.CSS_SELECTOR, 'h4.h.fz_03')\n",
    "price = driver.find_elements(By.CSS_SELECTOR, 'div.item-price')\n",
    "\n",
    "for i in tqdm(range(len(titles))):\n",
    "    title_list.append(titles[i].text)\n",
    "    price_list.append(price[i].text)\n",
    "\n",
    "driver.quit()\n",
    "\n",
    "print('크롤링 완료. 수고하셨습니다.')"
   ]
  },
  {
   "cell_type": "code",
   "execution_count": 28,
   "id": "eeb3a209",
   "metadata": {},
   "outputs": [
    {
     "data": {
      "text/plain": [
       "(95, 95)"
      ]
     },
     "execution_count": 28,
     "metadata": {},
     "output_type": "execute_result"
    }
   ],
   "source": [
    "len(title_list), len(price_list)"
   ]
  },
  {
   "cell_type": "markdown",
   "id": "e3b57651",
   "metadata": {},
   "source": [
    "### DataFrame"
   ]
  },
  {
   "cell_type": "code",
   "execution_count": 29,
   "id": "43ea51bc",
   "metadata": {},
   "outputs": [
    {
     "data": {
      "text/html": [
       "<div>\n",
       "<style scoped>\n",
       "    .dataframe tbody tr th:only-of-type {\n",
       "        vertical-align: middle;\n",
       "    }\n",
       "\n",
       "    .dataframe tbody tr th {\n",
       "        vertical-align: top;\n",
       "    }\n",
       "\n",
       "    .dataframe thead th {\n",
       "        text-align: right;\n",
       "    }\n",
       "</style>\n",
       "<table border=\"1\" class=\"dataframe\">\n",
       "  <thead>\n",
       "    <tr style=\"text-align: right;\">\n",
       "      <th></th>\n",
       "      <th>메뉴이름</th>\n",
       "      <th>가격</th>\n",
       "    </tr>\n",
       "  </thead>\n",
       "  <tbody>\n",
       "    <tr>\n",
       "      <th>0</th>\n",
       "      <td>송정식 떡갈비 도시락</td>\n",
       "      <td>6,900원</td>\n",
       "    </tr>\n",
       "    <tr>\n",
       "      <th>1</th>\n",
       "      <td>카츠카츠 도시락</td>\n",
       "      <td>4,800원</td>\n",
       "    </tr>\n",
       "    <tr>\n",
       "      <th>2</th>\n",
       "      <td>아보카도 훈제 닭가슴살 명란 비빔밥</td>\n",
       "      <td>6,500원</td>\n",
       "    </tr>\n",
       "    <tr>\n",
       "      <th>3</th>\n",
       "      <td>아보카도 소불고기 명란 비빔밥</td>\n",
       "      <td>6,500원</td>\n",
       "    </tr>\n",
       "    <tr>\n",
       "      <th>4</th>\n",
       "      <td>새후마요</td>\n",
       "      <td>4,500원</td>\n",
       "    </tr>\n",
       "    <tr>\n",
       "      <th>...</th>\n",
       "      <td>...</td>\n",
       "      <td>...</td>\n",
       "    </tr>\n",
       "    <tr>\n",
       "      <th>90</th>\n",
       "      <td>무말랭이 무침</td>\n",
       "      <td>500원</td>\n",
       "    </tr>\n",
       "    <tr>\n",
       "      <th>91</th>\n",
       "      <td>한솥밥</td>\n",
       "      <td>1,000원</td>\n",
       "    </tr>\n",
       "    <tr>\n",
       "      <th>92</th>\n",
       "      <td>현미밥</td>\n",
       "      <td>1,700원</td>\n",
       "    </tr>\n",
       "    <tr>\n",
       "      <th>93</th>\n",
       "      <td>리얼 티라미수 찰떡</td>\n",
       "      <td>1,700원</td>\n",
       "    </tr>\n",
       "    <tr>\n",
       "      <th>94</th>\n",
       "      <td>리얼꿀 미니호떡</td>\n",
       "      <td>2,200원</td>\n",
       "    </tr>\n",
       "  </tbody>\n",
       "</table>\n",
       "<p>95 rows × 2 columns</p>\n",
       "</div>"
      ],
      "text/plain": [
       "                   메뉴이름      가격\n",
       "0           송정식 떡갈비 도시락  6,900원\n",
       "1              카츠카츠 도시락  4,800원\n",
       "2   아보카도 훈제 닭가슴살 명란 비빔밥  6,500원\n",
       "3      아보카도 소불고기 명란 비빔밥  6,500원\n",
       "4                  새후마요  4,500원\n",
       "..                  ...     ...\n",
       "90              무말랭이 무침    500원\n",
       "91                  한솥밥  1,000원\n",
       "92                  현미밥  1,700원\n",
       "93           리얼 티라미수 찰떡  1,700원\n",
       "94             리얼꿀 미니호떡  2,200원\n",
       "\n",
       "[95 rows x 2 columns]"
      ]
     },
     "execution_count": 29,
     "metadata": {},
     "output_type": "execute_result"
    }
   ],
   "source": [
    "data = {'메뉴이름': title_list, '가격': price_list}\n",
    "pd_data = pd.DataFrame(data)\n",
    "pd_data"
   ]
  },
  {
   "cell_type": "code",
   "execution_count": 31,
   "id": "3fd5b489",
   "metadata": {},
   "outputs": [],
   "source": [
    "pd_data.to_excel('/Users/minjeekim/Documents/스마트 인재개발원/5_WebCrawling/한솥메뉴.xlsx', encoding = 'euc-kr')"
   ]
  }
 ],
 "metadata": {
  "kernelspec": {
   "display_name": "Python 3 (ipykernel)",
   "language": "python",
   "name": "python3"
  },
  "language_info": {
   "codemirror_mode": {
    "name": "ipython",
    "version": 3
   },
   "file_extension": ".py",
   "mimetype": "text/x-python",
   "name": "python",
   "nbconvert_exporter": "python",
   "pygments_lexer": "ipython3",
   "version": "3.9.13"
  }
 },
 "nbformat": 4,
 "nbformat_minor": 5
}
