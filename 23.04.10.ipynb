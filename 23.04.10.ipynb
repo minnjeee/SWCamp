{
 "cells": [
  {
   "cell_type": "markdown",
   "id": "d68e42b8",
   "metadata": {},
   "source": [
    "# 5. 리스트, 튜플\n",
    "- 리스트 : 순서 있음, 수정 가능, []로 작성, 추가/수정/삭제 가능\n",
    "  - 리스트명 = [요소1, 요소2, 요소3, ...]\n",
    "  - 순서 있음 >> 인덱싱,슬라이싱 가능\n",
    "  - 리스트1 + 리스트2 >> 리스트 합치기(덧셈x)"
   ]
  },
  {
   "cell_type": "code",
   "execution_count": 1,
   "id": "f84cfe32",
   "metadata": {},
   "outputs": [
    {
     "name": "stdout",
     "output_type": "stream",
     "text": [
      "2\n",
      "9\n",
      "17\n"
     ]
    }
   ],
   "source": [
    "# 리스트 인덱싱 : 리스트[인덱스]\n",
    "list1 = [2,5,7,9,10]\n",
    "print(list1[0])\n",
    "print(list1[3])\n",
    "print(list1[2]+list1[-1])"
   ]
  },
  {
   "cell_type": "code",
   "execution_count": 4,
   "id": "ba06ca1a",
   "metadata": {},
   "outputs": [
    {
     "name": "stdout",
     "output_type": "stream",
     "text": [
      "['a', 'b', 'c']\n",
      "b\n",
      "b\n"
     ]
    }
   ],
   "source": [
    "list2 = [1,2,3,['a','b','c']] # 리스트를 요소로 가질 수 있음\n",
    "temp = list2[3]\n",
    "print(temp)\n",
    "print(temp[1])\n",
    "print(list2[3][1])"
   ]
  },
  {
   "cell_type": "code",
   "execution_count": 5,
   "id": "646c3b15",
   "metadata": {},
   "outputs": [
    {
     "name": "stdout",
     "output_type": "stream",
     "text": [
      "[1, 2]\n",
      "[0, 1]\n",
      "[3, 4]\n",
      "[3]\n"
     ]
    }
   ],
   "source": [
    "# 리스트 슬라이싱 : 리스트[시작인덱스:끝인덱스] (시작 <= x < 끝)\n",
    "list3 = [0,1,2,3,4]\n",
    "print(list3[1:3])\n",
    "print(list3[:2])\n",
    "print(list3[3:])\n",
    "print(list3[3:4])"
   ]
  },
  {
   "cell_type": "code",
   "execution_count": 6,
   "id": "978656ab",
   "metadata": {},
   "outputs": [
    {
     "data": {
      "text/plain": [
       "[1, 2, 3, 3, 4, 5, 6]"
      ]
     },
     "execution_count": 6,
     "metadata": {},
     "output_type": "execute_result"
    }
   ],
   "source": [
    "# 리스트 더하기\n",
    "list4 = [1,2,3]\n",
    "list5 = [3,4,5,6]\n",
    "list4 + list5"
   ]
  },
  {
   "cell_type": "markdown",
   "id": "cbeabb61",
   "metadata": {},
   "source": [
    "- 리스트 값 추가/삭제/수정\n",
    "  - 리스트.append(값) : 맨 뒤에 값 추가 (리스트는 자동 업데이트)\n",
    "  - 리스트.insert(인덱스, 값) : 인덱스 위치에 값 추가\n",
    "  - 리스트.remove(값) : 값 삭제\n",
    "  - 리스트.sort() : 오름차순으로 정렬 (또는 sorted(리스트))\n",
    "  - 리스트.reverse() : 역순으로 뒤집기\n",
    "  - 리스트.index(값) : 해당 값의 위치 출력\n",
    "  - 리스트.pop(인덱스) : 인덱스 위치의 값 출력 후 제거(인덱스 지정x->마지막값 출력 후 제거)\n",
    "  - 리스트.count(값) : 값의 개수 출력\n",
    "  \n",
    "  - del 리스트[인덱스] : 인덱스 위치의 값 삭제\n",
    "  - 리스트[인덱스] = 값 : 인덱스 위치의 값 수정\n",
    "  - 리스트[처음:끝] = [값1,...] : 인덱스 범위의 값 수정\n",
    "  - len(리스트) : 값의 개수 확인"
   ]
  },
  {
   "cell_type": "code",
   "execution_count": 8,
   "id": "4599fc0b",
   "metadata": {},
   "outputs": [
    {
     "name": "stdout",
     "output_type": "stream",
     "text": [
      "[0, 1, 2, 3, 4, 5]\n",
      "[0, 1, 2, 3, 4, 5, 6]\n"
     ]
    }
   ],
   "source": [
    "list5 = [0,1,2,3,4]\n",
    "list5.append(5)\n",
    "print(list5)\n",
    "\n",
    "list5.append(6)\n",
    "print(list5)"
   ]
  },
  {
   "cell_type": "code",
   "execution_count": 9,
   "id": "65bd8d2e",
   "metadata": {},
   "outputs": [
    {
     "name": "stdout",
     "output_type": "stream",
     "text": [
      "['사과', '오렌지', '수박']\n"
     ]
    }
   ],
   "source": [
    "list_ = ['사과','포도',['수박','멜론'],'복숭아','딸기','오렌지']\n",
    "apple = list_[0]\n",
    "water_melon = list_[2][0]\n",
    "orange = list_[5]\n",
    "\n",
    "choice_list = [] # 또는 list() : 빈 리스트 생성\n",
    "choice_list.append(apple)\n",
    "choice_list.append(orange)\n",
    "choice_list.append(water_melon)\n",
    "print(choice_list)"
   ]
  },
  {
   "cell_type": "code",
   "execution_count": 13,
   "id": "0d80b82b",
   "metadata": {},
   "outputs": [
    {
     "name": "stdout",
     "output_type": "stream",
     "text": [
      "[0, 5, 1, 2, 3, 4]\n",
      "[0, 5, 1, 2, 3, 6, 4]\n"
     ]
    }
   ],
   "source": [
    "list5 = [0,1,2,3,4]\n",
    "list5.insert(1,5)\n",
    "print(list5)\n",
    "\n",
    "list5.insert(5,6)\n",
    "print(list5)"
   ]
  },
  {
   "cell_type": "code",
   "execution_count": 24,
   "id": "e44e5c5e",
   "metadata": {},
   "outputs": [
    {
     "name": "stdout",
     "output_type": "stream",
     "text": [
      "[['Kitsch', '아이브'], ['심', 'DK(디셈버)'], ['Hype boy', '뉴진스'], ['파이팅 해야지', '부석순'], ['사건의 지평선', '윤하']]\n"
     ]
    }
   ],
   "source": [
    "music_list = [['Kitsch', '아이브'], ['Hype boy','뉴진스'], ['사건의 지평선','윤하']]\n",
    "music_list.insert(1,['심','DK(디셈버)'])\n",
    "music_list.insert(3,['파이팅 해야지','부석순'])\n",
    "print(music_list)"
   ]
  },
  {
   "cell_type": "code",
   "execution_count": 27,
   "id": "5b4810a6",
   "metadata": {},
   "outputs": [
    {
     "name": "stdout",
     "output_type": "stream",
     "text": [
      "인덱스 입력 >> 6\n",
      "노래 제목 >> NIGHT DANCER\n",
      "가수명 >> 모름\n",
      "[['Kitsch', '아이브'], ['심', 'DK(디셈버)'], ['Hype boy', '뉴진스'], ['파이팅 해야지', '부석순'], ['흩어지지않게', '엠씨더맥스'], ['사건의 지평선', '윤하'], ['NIGHT DANCER', '모름']]\n"
     ]
    }
   ],
   "source": [
    "index_value = int(input('인덱스 입력 >> '))\n",
    "song = input('노래 제목 >> ')\n",
    "singer = input('가수명 >> ')\n",
    "music_list.insert(index_value, [song, singer])\n",
    "print(music_list)"
   ]
  },
  {
   "cell_type": "code",
   "execution_count": 33,
   "id": "547b6ccb",
   "metadata": {},
   "outputs": [
    {
     "name": "stdout",
     "output_type": "stream",
     "text": [
      "수정 전 : 1\n",
      "수정 후 : 7\n",
      "[0, 7, 2, 3, 4]\n",
      "\n",
      " [2, 3]\n",
      "[0, 7, 7, 4]\n"
     ]
    }
   ],
   "source": [
    "# 리스트 값 수정\n",
    "list6 = [0,1,2,3,4]\n",
    "print('수정 전 :',list6[1])\n",
    "list6[1] = 7\n",
    "print('수정 후 :',list6[1])\n",
    "print(list6)\n",
    "\n",
    "print('\\n',list6[2:4])\n",
    "list6[2:4] = [7] # 범위를 잡아 수정 시, 리스트의 형태로 수정\n",
    "print(list6)"
   ]
  },
  {
   "cell_type": "code",
   "execution_count": 34,
   "id": "89cac9a9",
   "metadata": {},
   "outputs": [
    {
     "name": "stdout",
     "output_type": "stream",
     "text": [
      "[0, 2, 3, 4, 5]\n",
      "[0, 5]\n",
      "['a', 'c', 'd', 'e']\n"
     ]
    }
   ],
   "source": [
    "# 리스트 값 삭제\n",
    "list7 = [0,1,2,3,4,5]\n",
    "del list7[1]\n",
    "print(list7)\n",
    "\n",
    "list7 = [0,1,2,3,4,5]\n",
    "del list7[1:5]\n",
    "print(list7)\n",
    "\n",
    "list7 = ['a','b','c','d','e']\n",
    "list7.remove('b')\n",
    "print(list7)"
   ]
  },
  {
   "cell_type": "code",
   "execution_count": 37,
   "id": "09964087",
   "metadata": {},
   "outputs": [
    {
     "name": "stdout",
     "output_type": "stream",
     "text": [
      "[9, 77, 13, 51, 100, 3]\n",
      "[3, 9, 13, 51, 77, 100]\n"
     ]
    }
   ],
   "source": [
    "# 오름차순 정렬\n",
    "list8 = [9,77,13,51,100,3]\n",
    "print(list8)\n",
    "list8.sort()\n",
    "print(list8)"
   ]
  },
  {
   "cell_type": "code",
   "execution_count": 38,
   "id": "d9b8bc4c",
   "metadata": {},
   "outputs": [
    {
     "name": "stdout",
     "output_type": "stream",
     "text": [
      "[9, 77, 13, 51, 100, 3]\n",
      "[3, 100, 51, 13, 77, 9]\n"
     ]
    }
   ],
   "source": [
    "# 순서 거꾸로 뒤집기\n",
    "list9 = [9,77,13,51,100,3]\n",
    "print(list9)\n",
    "list9.reverse()\n",
    "print(list9)"
   ]
  },
  {
   "cell_type": "code",
   "execution_count": 41,
   "id": "88eb6b90",
   "metadata": {},
   "outputs": [
    {
     "name": "stdout",
     "output_type": "stream",
     "text": [
      "[100, 77, 51, 13, 9, 3]\n",
      "[100, 77, 51, 13, 9, 3]\n"
     ]
    }
   ],
   "source": [
    "# 내림차순 정렬\n",
    "list10= [9,77,13,51,100,3]\n",
    "list10.sort()\n",
    "list10.reverse()\n",
    "print(list10)\n",
    "\n",
    "list10= [9,77,13,51,100,3]\n",
    "list10.sort(reverse=True)\n",
    "print(list10)"
   ]
  },
  {
   "cell_type": "code",
   "execution_count": 42,
   "id": "1aac1508",
   "metadata": {},
   "outputs": [
    {
     "data": {
      "text/plain": [
       "2"
      ]
     },
     "execution_count": 42,
     "metadata": {},
     "output_type": "execute_result"
    }
   ],
   "source": [
    "# 값 위치 출력\n",
    "list11 = ['a','b','c','d','e','f']\n",
    "list11.index('c')"
   ]
  },
  {
   "cell_type": "code",
   "execution_count": 48,
   "id": "ff8c1e18",
   "metadata": {},
   "outputs": [
    {
     "name": "stdout",
     "output_type": "stream",
     "text": [
      "f\n",
      "['a', 'b', 'c', 'd', 'e']\n",
      "b\n",
      "['a', 'c', 'd', 'e']\n"
     ]
    }
   ],
   "source": [
    "# 값 제거\n",
    "list12 = ['a','b','c','d','e','f']\n",
    "print(list12.pop())\n",
    "print(list12)\n",
    "\n",
    "print(list12.pop(1))\n",
    "print(list12)"
   ]
  },
  {
   "cell_type": "code",
   "execution_count": 49,
   "id": "dc1c0ebd",
   "metadata": {},
   "outputs": [
    {
     "data": {
      "text/plain": [
       "3"
      ]
     },
     "execution_count": 49,
     "metadata": {},
     "output_type": "execute_result"
    }
   ],
   "source": [
    "# 값의 개수 확인\n",
    "list13 = [0,1,2]\n",
    "len(list13)"
   ]
  },
  {
   "cell_type": "markdown",
   "id": "9c1be4c3",
   "metadata": {},
   "source": [
    "- 튜플 : 순서 있음, 추가/수정/삭제 불가능, ()로 작성, 리스트에 비해 동작속도 빠름\n",
    "  - 튜플명 = (요소1,요소2,요소3,...)\n",
    "  - 순서 있음 >> 인덱싱,슬라이싱 가능\n",
    "  - 숫자 하나가 저장된 튜플 생성 시 뒤에 컴마를 붙여야함 ( 1 또는 (1)은 정수로 인식 )"
   ]
  },
  {
   "cell_type": "code",
   "execution_count": 51,
   "id": "7a88b82d",
   "metadata": {},
   "outputs": [
    {
     "ename": "TypeError",
     "evalue": "'tuple' object does not support item assignment",
     "output_type": "error",
     "traceback": [
      "\u001b[1;31m---------------------------------------------------------------------------\u001b[0m",
      "\u001b[1;31mTypeError\u001b[0m                                 Traceback (most recent call last)",
      "Cell \u001b[1;32mIn[51], line 2\u001b[0m\n\u001b[0;32m      1\u001b[0m tuple1 \u001b[38;5;241m=\u001b[39m (\u001b[38;5;241m0\u001b[39m,\u001b[38;5;241m1\u001b[39m,\u001b[38;5;241m2\u001b[39m,\u001b[38;5;241m3\u001b[39m,(\u001b[38;5;124m'\u001b[39m\u001b[38;5;124ma\u001b[39m\u001b[38;5;124m'\u001b[39m,\u001b[38;5;124m'\u001b[39m\u001b[38;5;124mb\u001b[39m\u001b[38;5;124m'\u001b[39m,\u001b[38;5;124m'\u001b[39m\u001b[38;5;124mc\u001b[39m\u001b[38;5;124m'\u001b[39m),\u001b[38;5;241m5\u001b[39m)\n\u001b[1;32m----> 2\u001b[0m tuple1[\u001b[38;5;241m0\u001b[39m]\u001b[38;5;241m=\u001b[39m\u001b[38;5;241m3\u001b[39m\n",
      "\u001b[1;31mTypeError\u001b[0m: 'tuple' object does not support item assignment"
     ]
    }
   ],
   "source": [
    "tuple1 = (0,1,2,3,('a','b','c'),5)\n",
    "tuple1[0]=3"
   ]
  },
  {
   "cell_type": "markdown",
   "id": "9c8bcb24",
   "metadata": {},
   "source": [
    "- 조건문에서 사용되는 in, not in\n",
    "  - x in 문자열/리스트/튜플 : x가 포함되어 있으면 True, 아니면 False\n",
    "  - x not in 문자열/리스트/튜플 : 포함되지 않으면 Treu, 아니면 False"
   ]
  },
  {
   "cell_type": "code",
   "execution_count": 53,
   "id": "7d21f864",
   "metadata": {},
   "outputs": [
    {
     "name": "stdout",
     "output_type": "stream",
     "text": [
      "True\n",
      "False\n",
      "False\n",
      "True\n"
     ]
    }
   ],
   "source": [
    "str1 = '파이썬 최고'\n",
    "print('파이썬' in str1)\n",
    "print('파이썬' not in str1)\n",
    "\n",
    "list1 = [77,38,10]\n",
    "print(33 in list1)\n",
    "print(33 not in list1)"
   ]
  },
  {
   "cell_type": "code",
   "execution_count": 59,
   "id": "64ab31e8",
   "metadata": {},
   "outputs": [
    {
     "name": "stdout",
     "output_type": "stream",
     "text": [
      "검색할 문자를 입력하세요 : M\n",
      "M는 2번 들어있네유!\n"
     ]
    }
   ],
   "source": [
    "s = 'Hi, My name is MinJee'\n",
    "a = input('검색할 문자를 입력하세요 : ')\n",
    "b = s.count(a)\n",
    "if a not in s:\n",
    "    print(f'{a}는 들어있지 않네유...')\n",
    "else:\n",
    "    print(f'{a}는 {b}번 들어있네유!')"
   ]
  },
  {
   "cell_type": "markdown",
   "id": "5bcd79bf",
   "metadata": {},
   "source": [
    "# 6. 반복문\n",
    "똑같은 명령을 일정 횟수만큼 반복수행하도록 제어하는 명령문\n",
    "- while : 반복횟수가 명확하지 않을 때\n",
    "  - while 조건식:\n",
    "      - 실행문장\n",
    "- for : 반복횟수가 명확할 때"
   ]
  },
  {
   "cell_type": "code",
   "execution_count": 65,
   "id": "4be00516",
   "metadata": {},
   "outputs": [
    {
     "name": "stdout",
     "output_type": "stream",
     "text": [
      "1\n",
      "2\n",
      "3\n"
     ]
    }
   ],
   "source": [
    "number = 1\n",
    "while number <= 3:\n",
    "    print(number)\n",
    "    number += 1"
   ]
  },
  {
   "cell_type": "code",
   "execution_count": 68,
   "id": "ed644ad0",
   "metadata": {},
   "outputs": [
    {
     "name": "stdout",
     "output_type": "stream",
     "text": [
      "파이썬 최고!!\n",
      "파이썬 최고!!\n",
      "파이썬 최고!!\n",
      "파이썬 최고!!\n",
      "파이썬 최고!!\n",
      "파이썬 최고!!\n",
      "파이썬 최고!!\n",
      "파이썬 최고!!\n",
      "파이썬 최고!!\n",
      "파이썬 최고!!\n"
     ]
    }
   ],
   "source": [
    "i = 0\n",
    "while i < 10:\n",
    "    print('파이썬 최고!!')\n",
    "    i += 1"
   ]
  },
  {
   "cell_type": "code",
   "execution_count": 73,
   "id": "388edc6f",
   "metadata": {},
   "outputs": [
    {
     "name": "stdout",
     "output_type": "stream",
     "text": [
      "무한루프\n"
     ]
    }
   ],
   "source": [
    "while True:\n",
    "    print('무한루프')\n",
    "    break"
   ]
  },
  {
   "cell_type": "code",
   "execution_count": 74,
   "id": "2ac28ce7",
   "metadata": {},
   "outputs": [
    {
     "name": "stdout",
     "output_type": "stream",
     "text": [
      "1\n",
      "2\n",
      "3\n"
     ]
    }
   ],
   "source": [
    "number = 1\n",
    "while True:\n",
    "    print(number)\n",
    "    number += 1\n",
    "    if number > 3:\n",
    "        break    # 반복문에서 빠져나가는 명령"
   ]
  },
  {
   "cell_type": "code",
   "execution_count": 5,
   "id": "0c3e3a8f",
   "metadata": {},
   "outputs": [
    {
     "name": "stderr",
     "output_type": "stream",
     "text": [
      "IOPub data rate exceeded.\n",
      "The notebook server will temporarily stop sending output\n",
      "to the client in order to avoid crashing it.\n",
      "To change this limit, set the config variable\n",
      "`--NotebookApp.iopub_data_rate_limit`.\n",
      "\n",
      "Current values:\n",
      "NotebookApp.iopub_data_rate_limit=1000000.0 (bytes/sec)\n",
      "NotebookApp.rate_limit_window=3.0 (secs)\n",
      "\n"
     ]
    },
    {
     "ename": "KeyboardInterrupt",
     "evalue": "",
     "output_type": "error",
     "traceback": [
      "\u001b[1;31m---------------------------------------------------------------------------\u001b[0m",
      "\u001b[1;31mKeyboardInterrupt\u001b[0m                         Traceback (most recent call last)",
      "Cell \u001b[1;32mIn[5], line 5\u001b[0m\n\u001b[0;32m      3\u001b[0m \u001b[38;5;28mprint\u001b[39m(\u001b[38;5;124mf\u001b[39m\u001b[38;5;124m'\u001b[39m\u001b[38;5;132;01m{\u001b[39;00mnum\u001b[38;5;132;01m}\u001b[39;00m\u001b[38;5;124m번째 반복중..\u001b[39m\u001b[38;5;124m'\u001b[39m)\n\u001b[0;32m      4\u001b[0m \u001b[38;5;28;01mif\u001b[39;00m num \u001b[38;5;241m>\u001b[39m\u001b[38;5;241m=\u001b[39m \u001b[38;5;241m4\u001b[39m:\n\u001b[1;32m----> 5\u001b[0m     \u001b[38;5;28;43mprint\u001b[39;49m\u001b[43m(\u001b[49m\u001b[38;5;124;43m'\u001b[39;49m\u001b[38;5;124;43m여기서 부터는 num이 증가하지 않습니당\u001b[39;49m\u001b[38;5;124;43m'\u001b[39;49m\u001b[43m)\u001b[49m\n\u001b[0;32m      6\u001b[0m     \u001b[38;5;28;01mcontinue\u001b[39;00m   \u001b[38;5;66;03m# 반복문 시작으로 돌아가는 명령\u001b[39;00m\n\u001b[0;32m      7\u001b[0m num \u001b[38;5;241m+\u001b[39m\u001b[38;5;241m=\u001b[39m \u001b[38;5;241m1\u001b[39m\n",
      "File \u001b[1;32m~\\anaconda3\\lib\\site-packages\\ipykernel\\iostream.py:565\u001b[0m, in \u001b[0;36mOutStream.write\u001b[1;34m(self, string)\u001b[0m\n\u001b[0;32m    562\u001b[0m     \u001b[38;5;28;01melse\u001b[39;00m:\n\u001b[0;32m    563\u001b[0m         \u001b[38;5;28mself\u001b[39m\u001b[38;5;241m.\u001b[39m_schedule_flush()\n\u001b[1;32m--> 565\u001b[0m \u001b[38;5;28;01mreturn\u001b[39;00m \u001b[38;5;28;43mlen\u001b[39;49m\u001b[43m(\u001b[49m\u001b[43mstring\u001b[49m\u001b[43m)\u001b[49m\n",
      "\u001b[1;31mKeyboardInterrupt\u001b[0m: "
     ]
    }
   ],
   "source": [
    "num = 1\n",
    "while num <= 10 :\n",
    "    print(f'{num}번째 반복중..')\n",
    "    if num >= 4:\n",
    "        print('여기서 부터는 num이 증가하지 않습니당')\n",
    "        continue   # 반복문 시작으로 돌아가는 명령\n",
    "    num += 1"
   ]
  },
  {
   "cell_type": "code",
   "execution_count": 3,
   "id": "d78c04df",
   "metadata": {},
   "outputs": [
    {
     "name": "stdout",
     "output_type": "stream",
     "text": [
      "이름 입력 >> 김민지\n",
      "김민지 최고!\n",
      "이름 입력 >> 김윤정\n",
      "김윤정 최고!\n",
      "이름 입력 >> 이호준\n",
      "이호준 최고!\n",
      "이름 입력 >> 김동현\n",
      "김동현 최고!\n",
      "이름 입력 >> 최성우\n",
      "최성우 멋지다!\n"
     ]
    }
   ],
   "source": [
    "while True :\n",
    "    name = input('이름 입력 >> ')\n",
    "    if name == '최성우' :\n",
    "        print(f'{name} 멋지다!')\n",
    "        break\n",
    "    else:              # else 없어도 원하는 데로 출력됨\n",
    "        print(f'{name} 최고!')"
   ]
  },
  {
   "cell_type": "code",
   "execution_count": 10,
   "id": "2d2db514",
   "metadata": {},
   "outputs": [
    {
     "name": "stdout",
     "output_type": "stream",
     "text": [
      "첫 번째 정수 입력 >> 1\n",
      "두 번째 정수 입력 >> 2\n",
      "두 정수의 합 : 3\n",
      "첫 번째 정수 입력 >> 7\n",
      "두 번째 정수 입력 >> 3\n",
      "두 정수의 합 : 10\n",
      "첫 번째 정수 입력 >> 13\n",
      "두 번째 정수 입력 >> 77\n",
      "두 정수의 합 : 90\n",
      "첫 번째 정수 입력 >> 0\n",
      "두 번째 정수 입력 >> 0\n",
      "프로그램이 종료되었습니다.\n"
     ]
    }
   ],
   "source": [
    "while True:\n",
    "    num1 = int(input('첫 번째 정수 입력 >> '))\n",
    "    num2 = int(input('두 번째 정수 입력 >> '))\n",
    "    \n",
    "    if num1 ==0 and num2 == 0 :\n",
    "        print('프로그램이 종료되었습니다.')\n",
    "        break\n",
    "        \n",
    "    print('두 정수의 합 :', num1+num2)"
   ]
  },
  {
   "cell_type": "code",
   "execution_count": 18,
   "id": "030e2b92",
   "metadata": {},
   "outputs": [
    {
     "name": "stdout",
     "output_type": "stream",
     "text": [
      "현재 몸무게 : 60\n",
      "목표 몸무게 : 45\n",
      "1주차 감량 몸무게 : 5\n",
      "2주차 감량 몸무게 : 4\n",
      "3주차 감량 몸무게 : 3\n",
      "4주차 감량 몸무게 : 2\n",
      "5주차 감량 몸무게 : 1\n",
      "45kg 달성!! 축하합니다!\n"
     ]
    }
   ],
   "source": [
    "present = int(input('현재 몸무게 : '))\n",
    "target = int(input('목표 몸무게 : '))\n",
    "i = 1\n",
    "while True:\n",
    "    a =int(input(f'{i}주차 감량 몸무게 : '))\n",
    "    present -= a\n",
    "    if present <= target :\n",
    "        print(f'{present} kg 달성!! 축하합니다!')\n",
    "        break\n",
    "    i += 1"
   ]
  },
  {
   "cell_type": "code",
   "execution_count": 19,
   "id": "7dda7a17",
   "metadata": {},
   "outputs": [
    {
     "name": "stdout",
     "output_type": "stream",
     "text": [
      "현재 몸무게 : 80\n",
      "목표 몸무게 : 70\n",
      "1주차 감량 몸무게 : 2\n",
      "2주차 감량 몸무게 : 3\n",
      "3주차 감량 몸무게 : 4\n",
      "4주차 감량 몸무게 : 5\n",
      "70 kg 달성!! 축하합니다!\n"
     ]
    }
   ],
   "source": [
    "# 선생님 풀이\n",
    "weight = int(input('현재 몸무게 : '))\n",
    "goal = int(input('목표 몸무게 : '))\n",
    "week = 1\n",
    "\n",
    "while weight >= goal :\n",
    "    weight_week = int(input(f'{week}주차 감량 몸무게 : '))\n",
    "    week += 1\n",
    "    weight -= weight_week\n",
    "print(f'{goal} kg 달성!! 축하합니다!')"
   ]
  },
  {
   "cell_type": "code",
   "execution_count": 24,
   "id": "99366bb0",
   "metadata": {
    "scrolled": true
   },
   "outputs": [
    {
     "name": "stdout",
     "output_type": "stream",
     "text": [
      "숫자를 입력하세요 >> 15\n",
      "15보다 작은 수 입니다.\n",
      "숫자를 입력하세요 >> 10\n",
      "10보다 작은 수 입니다.\n",
      "숫자를 입력하세요 >> 5\n",
      "5보다 작은 수 입니다.\n",
      "숫자를 입력하세요 >> 3\n",
      "정답을 맞추셨습니다.\n"
     ]
    }
   ],
   "source": [
    "import random\n",
    "num = random.randint(1,50)\n",
    "\n",
    "while True:\n",
    "    n = int(input('숫자를 입력하세요 >> '))\n",
    "    if n < num :\n",
    "        print(f'{n}보다 큰 수 입니다.')\n",
    "    elif n > num :\n",
    "        print(f'{n}보다 작은 수 입니다.')\n",
    "    else:\n",
    "        print('정답을 맞추셨습니다.')\n",
    "        break"
   ]
  }
 ],
 "metadata": {
  "kernelspec": {
   "display_name": "Python 3 (ipykernel)",
   "language": "python",
   "name": "python3"
  },
  "language_info": {
   "codemirror_mode": {
    "name": "ipython",
    "version": 3
   },
   "file_extension": ".py",
   "mimetype": "text/x-python",
   "name": "python",
   "nbconvert_exporter": "python",
   "pygments_lexer": "ipython3",
   "version": "3.9.13"
  }
 },
 "nbformat": 4,
 "nbformat_minor": 5
}
