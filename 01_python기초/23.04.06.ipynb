{
 "cells": [
  {
   "cell_type": "markdown",
   "id": "d855ea62",
   "metadata": {},
   "source": [
    "### 셀 상태\n",
    "- 파란색 : Command mode\n",
    "- 초록색 : Edit mode"
   ]
  },
  {
   "cell_type": "markdown",
   "id": "38d8b831",
   "metadata": {},
   "source": [
    "### 단축키\n",
    "- 셀 실행\n",
    "  - Ctrl + Enter : 실행\n",
    "  - Shift + Enter : 실행 후 셀 추가\n",
    "- Command Mode에서\n",
    "  - a : 위에 새로운 셀 추가\n",
    "  - b : 밑에 새로운 셀 추가\n",
    "  - x : 셀 잘라내기\n",
    "  - dd : 셀 삭제\n",
    "  - c : 셀 복사\n",
    "  - v : 셀 붙여넣기\n",
    "  - f : 문자 바꾸기\n",
    "  - m : Markdown로 변경\n",
    "  - y : Code로 변경\n",
    "  - Shift로 여러 셀 선택 후 Shift + m : 셀 합치기\n",
    "- Edit Mode에서\n",
    "  - Ctrl + z : 코드 되돌리기\n",
    "  - Ctrl + y : 코드 되돌린 거 다시 되돌리기\n",
    "  - Ctrl + d : 해당 코드 한줄 삭제"
   ]
  },
  {
   "cell_type": "markdown",
   "id": "ec3e7a70",
   "metadata": {},
   "source": [
    "# 첫번째\n",
    "- 첫번째\n",
    "  - 두번째\n",
    "    - 세번째\n",
    "## 두번째\n",
    "### 세번째\n",
    "#### 네번째\n"
   ]
  },
  {
   "cell_type": "code",
   "execution_count": 76,
   "id": "3ea972b2",
   "metadata": {},
   "outputs": [
    {
     "data": {
      "text/plain": [
       "1"
      ]
     },
     "execution_count": 76,
     "metadata": {},
     "output_type": "execute_result"
    }
   ],
   "source": [
    "abc1 = 1 # 주석입니다\n",
    "abc2 = 2\n",
    "\n",
    "abc3 = 3\n",
    "\n",
    "abc1"
   ]
  },
  {
   "cell_type": "markdown",
   "id": "e9be03ef",
   "metadata": {},
   "source": [
    "# 1. 변수"
   ]
  },
  {
   "cell_type": "code",
   "execution_count": 2,
   "id": "014f4b83",
   "metadata": {},
   "outputs": [
    {
     "name": "stdout",
     "output_type": "stream",
     "text": [
      "3\n"
     ]
    }
   ],
   "source": [
    "num = 3\n",
    "print(num) # print() : 출력 함수"
   ]
  },
  {
   "cell_type": "code",
   "execution_count": 3,
   "id": "13119582",
   "metadata": {},
   "outputs": [
    {
     "data": {
      "text/plain": [
       "13"
      ]
     },
     "execution_count": 3,
     "metadata": {},
     "output_type": "execute_result"
    }
   ],
   "source": [
    "num1 = 13\n",
    "num1"
   ]
  },
  {
   "cell_type": "code",
   "execution_count": 4,
   "id": "71a100dd",
   "metadata": {},
   "outputs": [
    {
     "data": {
      "text/plain": [
       "25"
      ]
     },
     "execution_count": 4,
     "metadata": {},
     "output_type": "execute_result"
    }
   ],
   "source": [
    "num2 = 25\n",
    "num2"
   ]
  },
  {
   "cell_type": "code",
   "execution_count": 5,
   "id": "ee16db8b",
   "metadata": {},
   "outputs": [
    {
     "data": {
      "text/plain": [
       "77"
      ]
     },
     "execution_count": 5,
     "metadata": {},
     "output_type": "execute_result"
    }
   ],
   "source": [
    "num2 = 77\n",
    "num2"
   ]
  },
  {
   "cell_type": "code",
   "execution_count": 6,
   "id": "7873d594",
   "metadata": {},
   "outputs": [
    {
     "data": {
      "text/plain": [
       "int"
      ]
     },
     "execution_count": 6,
     "metadata": {},
     "output_type": "execute_result"
    }
   ],
   "source": [
    "type(num2) # type() : 데이터자료형 확인 함수"
   ]
  },
  {
   "cell_type": "code",
   "execution_count": 7,
   "id": "7a4fdd66",
   "metadata": {},
   "outputs": [
    {
     "data": {
      "text/plain": [
       "3.1425"
      ]
     },
     "execution_count": 7,
     "metadata": {},
     "output_type": "execute_result"
    }
   ],
   "source": [
    "num3 = 3.1425\n",
    "num3"
   ]
  },
  {
   "cell_type": "code",
   "execution_count": 8,
   "id": "d5ff71f5",
   "metadata": {},
   "outputs": [
    {
     "data": {
      "text/plain": [
       "1.25"
      ]
     },
     "execution_count": 8,
     "metadata": {},
     "output_type": "execute_result"
    }
   ],
   "source": [
    "num4 = 1.25\n",
    "num4"
   ]
  },
  {
   "cell_type": "code",
   "execution_count": 9,
   "id": "39901e87",
   "metadata": {},
   "outputs": [
    {
     "data": {
      "text/plain": [
       "3.12"
      ]
     },
     "execution_count": 9,
     "metadata": {},
     "output_type": "execute_result"
    }
   ],
   "source": [
    "num4 = 3.12\n",
    "num4"
   ]
  },
  {
   "cell_type": "code",
   "execution_count": 10,
   "id": "a2a0531a",
   "metadata": {},
   "outputs": [
    {
     "data": {
      "text/plain": [
       "float"
      ]
     },
     "execution_count": 10,
     "metadata": {},
     "output_type": "execute_result"
    }
   ],
   "source": [
    "type(num4)"
   ]
  },
  {
   "cell_type": "code",
   "execution_count": 11,
   "id": "27bc6328",
   "metadata": {},
   "outputs": [
    {
     "data": {
      "text/plain": [
       "'Funny python'"
      ]
     },
     "execution_count": 11,
     "metadata": {},
     "output_type": "execute_result"
    }
   ],
   "source": [
    "str1 = \"Funny python\"\n",
    "str1"
   ]
  },
  {
   "cell_type": "code",
   "execution_count": 12,
   "id": "4b451a15",
   "metadata": {},
   "outputs": [
    {
     "data": {
      "text/plain": [
       "'Easy python'"
      ]
     },
     "execution_count": 12,
     "metadata": {},
     "output_type": "execute_result"
    }
   ],
   "source": [
    "str2 = 'Easy python'\n",
    "str2"
   ]
  },
  {
   "cell_type": "code",
   "execution_count": 13,
   "id": "002fe421",
   "metadata": {},
   "outputs": [
    {
     "data": {
      "text/plain": [
       "str"
      ]
     },
     "execution_count": 13,
     "metadata": {},
     "output_type": "execute_result"
    }
   ],
   "source": [
    "type(str2)"
   ]
  },
  {
   "cell_type": "markdown",
   "id": "0cd44681",
   "metadata": {},
   "source": [
    "- 변수명 규칙\n",
    "  - 영문자, 숫자, 언더바(_)로 구성\n",
    "  - 소문자와 대문자 다르게 인식\n",
    "  - 숫자로 시작 불가\n",
    "  - 예약어(찐한초록, for,if,class,def등) 사용불가\n",
    "  - 명령어(연란초록, sum,print 등) 사용은 가능 but 변수로 사용하면 원래 기능 사라짐\n",
    "- 권장사항\n",
    "  - 변수명 첫글자는 가급적 소문자\n",
    "  - 두 문자 섞을 경우, 두 단어 구분가능하게\n",
    "  - (ex. numberList(카멜), NumberList(파스칼), number_list(스네이크) 등)"
   ]
  },
  {
   "cell_type": "code",
   "execution_count": 14,
   "id": "ab2b371d",
   "metadata": {},
   "outputs": [
    {
     "name": "stdout",
     "output_type": "stream",
     "text": [
      "number :  10\n",
      "Number :  20\n"
     ]
    }
   ],
   "source": [
    "number = 10\n",
    "Number = 20\n",
    "print(\"number : \", number)\n",
    "print(\"Number : \", Number)"
   ]
  },
  {
   "cell_type": "code",
   "execution_count": 15,
   "id": "9a0c7544",
   "metadata": {},
   "outputs": [
    {
     "data": {
      "text/plain": [
       "10"
      ]
     },
     "execution_count": 15,
     "metadata": {},
     "output_type": "execute_result"
    }
   ],
   "source": [
    "num1_num2 = 10\n",
    "num1_num2"
   ]
  },
  {
   "cell_type": "code",
   "execution_count": 16,
   "id": "99fe2b23",
   "metadata": {},
   "outputs": [
    {
     "name": "stdout",
     "output_type": "stream",
     "text": [
      "나 오늘 너무 씐나\n",
      "나 오늘^^너무^^씐나\n"
     ]
    }
   ],
   "source": [
    "print('나 오늘','너무','씐나') # sep=' '(공백)이 기본값 =>sep를 기준으로 이어줌\n",
    "print('나 오늘','너무','씐나', sep = '^^')"
   ]
  },
  {
   "cell_type": "code",
   "execution_count": 17,
   "id": "28815317",
   "metadata": {},
   "outputs": [
    {
     "ename": "SyntaxError",
     "evalue": "invalid syntax (328627015.py, line 1)",
     "output_type": "error",
     "traceback": [
      "\u001b[1;36m  Cell \u001b[1;32mIn[17], line 1\u001b[1;36m\u001b[0m\n\u001b[1;33m    if = 30\u001b[0m\n\u001b[1;37m       ^\u001b[0m\n\u001b[1;31mSyntaxError\u001b[0m\u001b[1;31m:\u001b[0m invalid syntax\n"
     ]
    }
   ],
   "source": [
    "if = 30\n",
    "if"
   ]
  },
  {
   "cell_type": "code",
   "execution_count": 18,
   "id": "d3f5039c",
   "metadata": {},
   "outputs": [
    {
     "data": {
      "text/plain": [
       "['False',\n",
       " 'None',\n",
       " 'True',\n",
       " 'and',\n",
       " 'as',\n",
       " 'assert',\n",
       " 'async',\n",
       " 'await',\n",
       " 'break',\n",
       " 'class',\n",
       " 'continue',\n",
       " 'def',\n",
       " 'del',\n",
       " 'elif',\n",
       " 'else',\n",
       " 'except',\n",
       " 'finally',\n",
       " 'for',\n",
       " 'from',\n",
       " 'global',\n",
       " 'if',\n",
       " 'import',\n",
       " 'in',\n",
       " 'is',\n",
       " 'lambda',\n",
       " 'nonlocal',\n",
       " 'not',\n",
       " 'or',\n",
       " 'pass',\n",
       " 'raise',\n",
       " 'return',\n",
       " 'try',\n",
       " 'while',\n",
       " 'with',\n",
       " 'yield']"
      ]
     },
     "execution_count": 18,
     "metadata": {},
     "output_type": "execute_result"
    }
   ],
   "source": [
    "# 파이썬 예약어 확인\n",
    "import keyword\n",
    "keyword.kwlist"
   ]
  },
  {
   "cell_type": "code",
   "execution_count": 19,
   "id": "369e1bd2",
   "metadata": {},
   "outputs": [
    {
     "name": "stdout",
     "output_type": "stream",
     "text": [
      "10\n",
      "15\n",
      "python\n",
      "python\n"
     ]
    }
   ],
   "source": [
    "# 둘 이상의 변수 한번에 대입 가능\n",
    "a, b = 10, 15\n",
    "print(a); print(b)\n",
    "\n",
    "str1 = str2 = \"python\"\n",
    "print(str1); print(str2)"
   ]
  },
  {
   "cell_type": "code",
   "execution_count": 20,
   "id": "4e6854ae",
   "metadata": {},
   "outputs": [
    {
     "name": "stdout",
     "output_type": "stream",
     "text": [
      "300\n"
     ]
    }
   ],
   "source": [
    "x,y = 100,200\n",
    "sum1 = x+y\n",
    "print(sum1)"
   ]
  },
  {
   "cell_type": "markdown",
   "id": "3e193e67",
   "metadata": {},
   "source": [
    "# 2. 문자열\n",
    "- 이스케이프 코드\n",
    "  - \\n : 개행(줄바꿈)\n",
    "  - \\t : 수평 탭\n",
    "  - \\\\ : 문자\"\\\"\n",
    "  - \\' : 작은따옴표\n",
    "  - \\\" : 큰따옴표"
   ]
  },
  {
   "cell_type": "code",
   "execution_count": 23,
   "id": "98b8741b",
   "metadata": {},
   "outputs": [
    {
     "name": "stdout",
     "output_type": "stream",
     "text": [
      "she's gone\n",
      "she's gone\n"
     ]
    }
   ],
   "source": [
    "s1 = \"she's gone\"\n",
    "s2 = 'she\\'s gone'\n",
    "print(s1)\n",
    "print(s2)"
   ]
  },
  {
   "cell_type": "code",
   "execution_count": 27,
   "id": "fe2522b7",
   "metadata": {},
   "outputs": [
    {
     "name": "stdout",
     "output_type": "stream",
     "text": [
      "여러줄로 구성된 \n",
      "문자열을 하나로 대입할 때\n"
     ]
    }
   ],
   "source": [
    "s = \"여러줄로 구성된 \\n문자열을 하나로 대입할 때\"\n",
    "print(s)"
   ]
  },
  {
   "cell_type": "code",
   "execution_count": 25,
   "id": "b7c003f7",
   "metadata": {},
   "outputs": [
    {
     "name": "stdout",
     "output_type": "stream",
     "text": [
      "여러줄로 구성된\n",
      "문자열을 하나로\n",
      "대입할 때\n"
     ]
    }
   ],
   "source": [
    "s = '''여러줄로 구성된\n",
    "문자열을 하나로\n",
    "대입할 때'''\n",
    "print(s)"
   ]
  },
  {
   "cell_type": "markdown",
   "id": "7b11261a",
   "metadata": {},
   "source": [
    "- 문자열 인덱싱(가리킨다), 슬라이싱(잘라낸다)\n",
    "  - 0부터 인덱스 시작 (오른쪽부터는 -1부터)\n",
    "  - 인덱싱 : 변수명[인덱스]\n",
    "  - 슬라이싱 : 변수명[시작값:끝값:오프셋] (끝값은 포함x) (오프셋2이면 0,3,5,...번째 값)\n",
    "  - a:b 에서 a가 인덱스의 처음값(0)이면, b가 인데스의 마지막값(-1)이면 생략가능\n",
    "  => 처음부터 n까지는 :n, n부터 끝까지는 n:, 처음부터 끝까지는 :"
   ]
  },
  {
   "cell_type": "code",
   "execution_count": 29,
   "id": "7b1d7240",
   "metadata": {},
   "outputs": [
    {
     "name": "stdout",
     "output_type": "stream",
     "text": [
      "M\n",
      "i\n",
      "M\n",
      "J\n"
     ]
    }
   ],
   "source": [
    "s = \"My name is MJ\"\n",
    "print(s[0])\n",
    "print(s[8])\n",
    "print(s[-2])\n",
    "print(s[-1])"
   ]
  },
  {
   "cell_type": "code",
   "execution_count": 34,
   "id": "f653df1b",
   "metadata": {},
   "outputs": [
    {
     "name": "stdout",
     "output_type": "stream",
     "text": [
      "My\n",
      "name\n",
      "is\n"
     ]
    }
   ],
   "source": [
    "s = \"My name is MJ\"\n",
    "print(s[0:2])\n",
    "print(s[3:7])\n",
    "print(s[8:10])"
   ]
  },
  {
   "cell_type": "code",
   "execution_count": 37,
   "id": "d7254deb",
   "metadata": {},
   "outputs": [
    {
     "name": "stdout",
     "output_type": "stream",
     "text": [
      "My name\n",
      "My name\n",
      "My name\n",
      "My name\n"
     ]
    }
   ],
   "source": [
    "s = \"My name is MJ\"\n",
    "print(s[0:7])\n",
    "print(s[0:2], s[3:7], sep=' ')\n",
    "print(s[0:2] + ' ' + s[3:7])\n",
    "print(s[:7]) # 시작값이 0이면 생략가능"
   ]
  },
  {
   "cell_type": "code",
   "execution_count": 41,
   "id": "4b3edb4e",
   "metadata": {},
   "outputs": [
    {
     "name": "stdout",
     "output_type": "stream",
     "text": [
      "is MJ\n",
      "is MJ\n",
      "is MJ\n"
     ]
    }
   ],
   "source": [
    "s = \"My name is MJ\"\n",
    "print(s[8:13])\n",
    "print(s[8:])\n",
    "print(s[-5:])"
   ]
  },
  {
   "cell_type": "code",
   "execution_count": 44,
   "id": "75924670",
   "metadata": {},
   "outputs": [
    {
     "name": "stdout",
     "output_type": "stream",
     "text": [
      "My name is MJ\n",
      "My name is MJ\n",
      "My name is MJ\n"
     ]
    }
   ],
   "source": [
    "s = \"My name is MJ\"\n",
    "print(s[0:13])\n",
    "print(s[:])\n",
    "print(s)"
   ]
  },
  {
   "cell_type": "code",
   "execution_count": 47,
   "id": "79038b01",
   "metadata": {},
   "outputs": [
    {
     "name": "stdout",
     "output_type": "stream",
     "text": [
      "날짜 : 2020년 3월 3일\n",
      "날씨 : 맑음\n"
     ]
    }
   ],
   "source": [
    "s = \"2020년 3월 3일의 날씨의 맑음입니다.\"\n",
    "print(\"날짜 :\", s[:11])\n",
    "print(\"날씨 :\", s[-6:-4])"
   ]
  },
  {
   "cell_type": "code",
   "execution_count": 49,
   "id": "3de551b7",
   "metadata": {},
   "outputs": [
    {
     "name": "stdout",
     "output_type": "stream",
     "text": [
      "날짜 : 2020년 3월 3일\n",
      "날씨 : 맑음\n"
     ]
    }
   ],
   "source": [
    "print(f\"날짜 : {s[:11]}\")\n",
    "print(f\"날씨 : {s[-6:-4]}\")"
   ]
  },
  {
   "cell_type": "markdown",
   "id": "bbc3b31c",
   "metadata": {},
   "source": [
    "- 문자열 포매팅(Formatting)\n",
    "    - %문자를 이용(%s-문자열, %c-문자1개, %d-정수, %f-실수, %%-문자'%')\n",
    "    - .format함수 사용\n",
    "    - f-string"
   ]
  },
  {
   "cell_type": "code",
   "execution_count": 52,
   "id": "f1ea997a",
   "metadata": {},
   "outputs": [
    {
     "name": "stdout",
     "output_type": "stream",
     "text": [
      "오늘은 7월 7일 입니다.\n",
      "오늘은 7월 8일 입니다.\n"
     ]
    }
   ],
   "source": [
    "day = 7\n",
    "s = \"오늘은 7월 %d일 입니다.\"%day\n",
    "print(s)\n",
    "\n",
    "day = 8\n",
    "s = \"오늘은 7월 %d일 입니다.\"%day\n",
    "print(s)"
   ]
  },
  {
   "cell_type": "code",
   "execution_count": 54,
   "id": "39cd9e96",
   "metadata": {},
   "outputs": [
    {
     "name": "stdout",
     "output_type": "stream",
     "text": [
      "오늘은 11월 5일 입니다.\n"
     ]
    }
   ],
   "source": [
    "month = 11\n",
    "day = 5\n",
    "s = \"오늘은 %d월 %d일 입니다.\"%(month,day)\n",
    "print(s)"
   ]
  },
  {
   "cell_type": "code",
   "execution_count": 55,
   "id": "2d57066f",
   "metadata": {},
   "outputs": [
    {
     "name": "stdout",
     "output_type": "stream",
     "text": [
      "오늘은 11월 5일 입니다.\n"
     ]
    }
   ],
   "source": [
    "month = 11\n",
    "day = 5\n",
    "s = \"오늘은 {}월 {}일 입니다.\".format(month,day)\n",
    "print(s)"
   ]
  },
  {
   "cell_type": "code",
   "execution_count": 56,
   "id": "2c860954",
   "metadata": {},
   "outputs": [
    {
     "name": "stdout",
     "output_type": "stream",
     "text": [
      "오늘은 11월 5일 입니다.\n"
     ]
    }
   ],
   "source": [
    "month = 11\n",
    "day = 5\n",
    "s = f\"오늘은 {month}월 {day}일 입니다.\"\n",
    "print(s)"
   ]
  },
  {
   "cell_type": "code",
   "execution_count": 57,
   "id": "b047c60b",
   "metadata": {},
   "outputs": [
    {
     "name": "stdout",
     "output_type": "stream",
     "text": [
      "100와 200의 합은 300입니다.\n"
     ]
    }
   ],
   "source": [
    "x = 100\n",
    "y = 200\n",
    "sum2 = x+y\n",
    "print(f\"{x}와 {y}의 합은 {sum2}입니다.\")"
   ]
  },
  {
   "cell_type": "markdown",
   "id": "02687323",
   "metadata": {},
   "source": [
    "- 문자열 함수\n",
    "  - count(문자) : 문자열에 포함된 문자의 개수를 세는 함수\n",
    "  - find(문자) : 문자열 내의 특정 문자의 첫번째 위치(인덱스)를 알려주는 함수\n",
    "  - '구분자'.join(문자열 리스트) : 문자들을 구분자로 연결시켜주는 함수\n",
    "  - upper() : 소문자를 대문자로 바꿔주는 함수\n",
    "  - lower() : 대문자를 소문자로 바꿔주는 함수\n",
    "  - calpitalize() : 첫글자는 대문자, 나머지는 소문자로 바꿔주는 함수\n",
    "  - strip() : 양쪽 공백 지우는 함수\n",
    "  - replace(기존문자, 새문자) : 기존문자를 새로운 문자로 바꿔주는 함수\n",
    "  - split(기준) : 특정 기준을 통해 좌,우측으로 문자열을 나눠주는 함수\n",
    "  - endswith(문자) : 특정문자로 끝나면 True, 아니면 False (튜플형태도 가능)\n",
    "  - startswith(문자) : 특정문자로 시작하면 True, 아니면 False"
   ]
  },
  {
   "cell_type": "code",
   "execution_count": 59,
   "id": "dd6afa06",
   "metadata": {},
   "outputs": [
    {
     "name": "stdout",
     "output_type": "stream",
     "text": [
      "2\n",
      "1\n"
     ]
    }
   ],
   "source": [
    "s = \"오늘은 파이썬 수업날입니다. 파이썬 너무 재밌네요!\".\n",
    "print(s.count(\"파이썬\"))\n",
    "print(s.count(\"수업\"))"
   ]
  },
  {
   "cell_type": "code",
   "execution_count": 62,
   "id": "6e1c71c0",
   "metadata": {
    "scrolled": true
   },
   "outputs": [
    {
     "name": "stdout",
     "output_type": "stream",
     "text": [
      "4\n",
      "0\n"
     ]
    }
   ],
   "source": [
    "print(s.find(\"파\"))\n",
    "print(s.find('오'))"
   ]
  },
  {
   "cell_type": "code",
   "execution_count": 65,
   "id": "520f09b5",
   "metadata": {},
   "outputs": [
    {
     "name": "stdout",
     "output_type": "stream",
     "text": [
      "오늘 점심 메뉴 추천좀!\n",
      "오늘^^점심 메뉴^^추천좀!\n"
     ]
    }
   ],
   "source": [
    "print(' '.join(['오늘','점심 메뉴', '추천좀!']))\n",
    "print('^^'.join(['오늘','점심 메뉴', '추천좀!']))"
   ]
  },
  {
   "cell_type": "code",
   "execution_count": 71,
   "id": "36062a4a",
   "metadata": {},
   "outputs": [
    {
     "name": "stdout",
     "output_type": "stream",
     "text": [
      "I'M STILL HUNGRY\n",
      "i'm still hungry\n",
      "I'm Still Hungry\n",
      "i'm still hungry\n"
     ]
    }
   ],
   "source": [
    "s = \"I'm Still Hungry\"\n",
    "print(s.upper())\n",
    "print(s.lower())\n",
    "print(s)\n",
    "s = s.lower() # 저장은 따로 해야함!\n",
    "print(s)"
   ]
  },
  {
   "cell_type": "code",
   "execution_count": 73,
   "id": "a4630714",
   "metadata": {},
   "outputs": [
    {
     "name": "stdout",
     "output_type": "stream",
     "text": [
      "I'm Still Hungry\n",
      "    I'm Still Happy     \n"
     ]
    }
   ],
   "source": [
    "s = \"    I'm Still Hungry     \"\n",
    "print(s.strip())\n",
    "print(s.replace('Hungry','Happy'))"
   ]
  },
  {
   "cell_type": "code",
   "execution_count": 75,
   "id": "150af3d9",
   "metadata": {},
   "outputs": [
    {
     "name": "stdout",
     "output_type": "stream",
     "text": [
      "['옆에 공사 현장이 참', ' 시끄럽네요ㅠ']\n",
      "['옆에', '공사', '현장이', '참,', '시끄럽네요ㅠ']\n"
     ]
    }
   ],
   "source": [
    "s = '옆에 공사 현장이 참, 시끄럽네요ㅠ'\n",
    "print(s.split(\",\"))\n",
    "print(s.split(\" \"))"
   ]
  },
  {
   "cell_type": "markdown",
   "id": "843d2abe",
   "metadata": {},
   "source": [
    "# 3. 연산자\n",
    "- 산술 연산자 : 더하기(+), 빼기(-), 곱하기(*), 나누기(/), 몫(//), 나머지(%)\n",
    "  - 문자열 연산 : str1 + str2 (문자열 합치기), str * n (문자열 n번 반복하기)"
   ]
  },
  {
   "cell_type": "code",
   "execution_count": 77,
   "id": "9e8762c7",
   "metadata": {},
   "outputs": [
    {
     "name": "stdout",
     "output_type": "stream",
     "text": [
      "1.4285714285714286\n",
      "3\n",
      "1\n"
     ]
    }
   ],
   "source": [
    "num1 = 10\n",
    "num2 = 7\n",
    "print(num1/num2) # 나누기\n",
    "print(num1%num2) # 나머지\n",
    "print(num1//num2) # 몫"
   ]
  },
  {
   "cell_type": "code",
   "execution_count": 79,
   "id": "e02aaf9a",
   "metadata": {},
   "outputs": [
    {
     "name": "stdout",
     "output_type": "stream",
     "text": [
      "안녕하세요\n",
      "107\n"
     ]
    }
   ],
   "source": [
    "str1 = '안녕'\n",
    "str2 = '하세요'\n",
    "print(str1 + str2)\n",
    "\n",
    "str1 = \"10\"\n",
    "str2 = \"7\"\n",
    "print(str1 + str2)"
   ]
  },
  {
   "cell_type": "markdown",
   "id": "f5c10a50",
   "metadata": {},
   "source": [
    "- 형변환 함수 : int(문자열), float(문자열), str(숫자)"
   ]
  },
  {
   "cell_type": "code",
   "execution_count": 81,
   "id": "fbb1374b",
   "metadata": {},
   "outputs": [
    {
     "name": "stdout",
     "output_type": "stream",
     "text": [
      "17\n",
      "107\n"
     ]
    }
   ],
   "source": [
    "num1 = 10\n",
    "str2 = '7'\n",
    "print(num1 + int(str2))\n",
    "print(str(num1) + str2)"
   ]
  },
  {
   "cell_type": "code",
   "execution_count": 86,
   "id": "c80e4dcb",
   "metadata": {},
   "outputs": [
    {
     "name": "stdout",
     "output_type": "stream",
     "text": [
      "더하기 결과 : 26\n",
      "빼기 결과 : 20\n",
      "곱하기 결과 : 69\n",
      "나누기 결과 : 7.666666666666667\n"
     ]
    }
   ],
   "source": [
    "num1 = 23\n",
    "num2 = 3\n",
    "print(f\"더하기 결과 : {num1+num2}\")\n",
    "print(f\"빼기 결과 : {num1-num2}\")\n",
    "print(f\"곱하기 결과 : {num1*num2}\")\n",
    "print(f\"나누기 결과 : {num1/num2}\")"
   ]
  },
  {
   "cell_type": "markdown",
   "id": "a2b988b5",
   "metadata": {},
   "source": [
    "- 키보드로 입력받는 input('보이게 할 문장')"
   ]
  },
  {
   "cell_type": "code",
   "execution_count": 91,
   "id": "588e8a35",
   "metadata": {},
   "outputs": [
    {
     "name": "stdout",
     "output_type": "stream",
     "text": [
      "정수를 입력하세요 >> 26\n"
     ]
    },
    {
     "data": {
      "text/plain": [
       "'26'"
      ]
     },
     "execution_count": 91,
     "metadata": {},
     "output_type": "execute_result"
    }
   ],
   "source": [
    "num = input(\"정수를 입력하세요 >> \")\n",
    "num"
   ]
  },
  {
   "cell_type": "code",
   "execution_count": 92,
   "id": "e84b03b7",
   "metadata": {},
   "outputs": [
    {
     "name": "stdout",
     "output_type": "stream",
     "text": [
      "정수를 입력하세요 >> 26\n"
     ]
    },
    {
     "data": {
      "text/plain": [
       "26"
      ]
     },
     "execution_count": 92,
     "metadata": {},
     "output_type": "execute_result"
    }
   ],
   "source": [
    "num = int(input(\"정수를 입력하세요 >> \"))\n",
    "num"
   ]
  },
  {
   "cell_type": "code",
   "execution_count": 93,
   "id": "021fecc8",
   "metadata": {},
   "outputs": [
    {
     "name": "stdout",
     "output_type": "stream",
     "text": [
      "정수를 입력하세요 >> 3\n",
      "정수를 입력하세요 >> 7\n",
      "더하기 결과 : 10\n",
      "빼기 결과 : -4\n",
      "곱하기 결과 : 21\n",
      "나누기 결과 : 0.42857142857142855\n"
     ]
    }
   ],
   "source": [
    "num1 = int(input('정수를 입력하세요 >> '))\n",
    "num2 = int(input('정수를 입력하세요 >> '))\n",
    "print(f\"더하기 결과 : {num1+num2}\")\n",
    "print(f\"빼기 결과 : {num1-num2}\")\n",
    "print(f\"곱하기 결과 : {num1*num2}\")\n",
    "print(f\"나누기 결과 : {num1/num2}\")"
   ]
  },
  {
   "cell_type": "code",
   "execution_count": 96,
   "id": "08b8f543",
   "metadata": {},
   "outputs": [
    {
     "name": "stdout",
     "output_type": "stream",
     "text": [
      "python 점수 입력 >> 100\n",
      "머신러닝 점수 입력 >> 80\n",
      "딥러닝 점수 입력 >> 60\n",
      "합계 : 240\n",
      "평균 : 80.0\n"
     ]
    }
   ],
   "source": [
    "py = int(input('python 점수 입력 >> '))\n",
    "ml = int(input('머신러닝 점수 입력 >> '))\n",
    "dl = int(input('딥러닝 점수 입력 >> '))\n",
    "total = py + ml + dl\n",
    "print('합계 : {}'.format(total))\n",
    "print('평균 : {}'.format(total/3))"
   ]
  },
  {
   "cell_type": "code",
   "execution_count": 98,
   "id": "f2c9e718",
   "metadata": {},
   "outputs": [
    {
     "name": "stdout",
     "output_type": "stream",
     "text": [
      "시간 입력 >> 7533\n",
      "2시간 5분 33초\n"
     ]
    }
   ],
   "source": [
    "time = int(input('시간 입력 >> '))\n",
    "hour = time//3600\n",
    "minute = (time%3600)//60\n",
    "second = (time%3600)%60        # time%60과 동일(이유:3600은60의배수)\n",
    "print(\"{}시간 {}분 {}초\".format(hour, minute, second))"
   ]
  },
  {
   "cell_type": "code",
   "execution_count": 106,
   "id": "61e5c661",
   "metadata": {},
   "outputs": [
    {
     "name": "stdout",
     "output_type": "stream",
     "text": [
      "**********\n"
     ]
    }
   ],
   "source": [
    "s = \"*\"\n",
    "print(s*10)"
   ]
  },
  {
   "cell_type": "code",
   "execution_count": 121,
   "id": "159c21c1",
   "metadata": {},
   "outputs": [
    {
     "name": "stdout",
     "output_type": "stream",
     "text": [
      "********** 연산하기 **********\n",
      "정수입력 >> 10\n",
      "정수입력 >> 20\n",
      "+연산자 입력 >> +\n",
      "10 + 20 = 30\n"
     ]
    }
   ],
   "source": [
    "print('*'*10, '연산하기', '*'*10)\n",
    "num1 = int(input('정수입력 >> '))\n",
    "num2 = int(input('정수입력 >> '))\n",
    "cal = input('+연산자 입력 >> ')\n",
    "\n",
    "print('{} {} {} = {}'.format(num1,cal,num2,num1+num2))"
   ]
  },
  {
   "cell_type": "markdown",
   "id": "50768329",
   "metadata": {},
   "source": [
    "- 지수 연산자 : **"
   ]
  },
  {
   "cell_type": "code",
   "execution_count": 122,
   "id": "d2e3412b",
   "metadata": {},
   "outputs": [
    {
     "name": "stdout",
     "output_type": "stream",
     "text": [
      "정수 입력 >> 2\n",
      "지수 입력 >> 3\n",
      "2의 3승은 8입니다.\n"
     ]
    }
   ],
   "source": [
    "num = int(input('정수 입력 >> '))\n",
    "power = int(input('지수 입력 >> '))\n",
    "print('{}의 {}승은 {}입니다.'.format(num,power,num**power))"
   ]
  }
 ],
 "metadata": {
  "kernelspec": {
   "display_name": "Python 3 (ipykernel)",
   "language": "python",
   "name": "python3"
  },
  "language_info": {
   "codemirror_mode": {
    "name": "ipython",
    "version": 3
   },
   "file_extension": ".py",
   "mimetype": "text/x-python",
   "name": "python",
   "nbconvert_exporter": "python",
   "pygments_lexer": "ipython3",
   "version": "3.10.9"
  }
 },
 "nbformat": 4,
 "nbformat_minor": 5
}
