{
 "cells": [
  {
   "cell_type": "markdown",
   "id": "a78f224c",
   "metadata": {},
   "source": [
    "- for문 : 문자열/리스트/튜플이 들어갔을 때 안에 있는 요소를 하나씩 반복\n",
    "  - for 변수 in 문자열/리스트/튜플:\n",
    "      - 실행문"
   ]
  },
  {
   "cell_type": "code",
   "execution_count": 1,
   "id": "4658a532",
   "metadata": {
    "scrolled": false
   },
   "outputs": [
    {
     "name": "stdout",
     "output_type": "stream",
     "text": [
      "안\n",
      "녕\n",
      "하\n",
      "세\n",
      "요\n"
     ]
    }
   ],
   "source": [
    "hi = '안녕하세요'\n",
    "for s in hi:\n",
    "    print(s)"
   ]
  },
  {
   "cell_type": "code",
   "execution_count": 2,
   "id": "e6fc4aa4",
   "metadata": {
    "scrolled": true
   },
   "outputs": [
    {
     "name": "stdout",
     "output_type": "stream",
     "text": [
      "햄버거\n",
      "치킨\n",
      "피자\n"
     ]
    }
   ],
   "source": [
    "tuple_food = ('햄버거','치킨','피자')\n",
    "for food in tuple_food:\n",
    "    print(food)"
   ]
  },
  {
   "cell_type": "code",
   "execution_count": 3,
   "id": "598fb251",
   "metadata": {},
   "outputs": [
    {
     "name": "stdout",
     "output_type": "stream",
     "text": [
      "1번 학생은 합격입니다.\n",
      "2번 학생은 불합격입니다.\n",
      "3번 학생은 합격입니다.\n",
      "4번 학생은 합격입니다.\n",
      "5번 학생은 불합격입니다.\n"
     ]
    }
   ],
   "source": [
    "score_list = [90,45,70,60,55]\n",
    "num = 1\n",
    "for score in score_list:\n",
    "    if score >= 60 :\n",
    "        print(f'{num}번 학생은 합격입니다.')\n",
    "    else:\n",
    "        print(f'{num}번 학생은 불합격입니다.')\n",
    "    num += 1"
   ]
  },
  {
   "cell_type": "code",
   "execution_count": 5,
   "id": "cf7fca7b",
   "metadata": {
    "scrolled": false
   },
   "outputs": [
    {
     "name": "stdout",
     "output_type": "stream",
     "text": [
      "1번은 57점 이며, C등급 입니다.\n",
      "2번은 86점 이며, A등급 입니다.\n",
      "3번은 63점 이며, B등급 입니다.\n",
      "4번은 92점 이며, A등급 입니다.\n",
      "5번은 35점 이며, C등급 입니다.\n",
      "6번은 79점 이며, B등급 입니다.\n"
     ]
    }
   ],
   "source": [
    "python_score = [57,86,63,92,35,79]\n",
    "num=1\n",
    "for score in python_score:\n",
    "    if score >= 80:\n",
    "        grade = 'A'\n",
    "    elif score >= 60:\n",
    "        grade = 'B'\n",
    "    else:\n",
    "        grade = 'C'\n",
    "    print(f'{num}번은 {score}점 이며, {grade}등급 입니다.')\n",
    "    num += 1"
   ]
  },
  {
   "cell_type": "markdown",
   "id": "ff5985dd",
   "metadata": {},
   "source": [
    "- range() 함수 : 필요한 만큼의 숫자를 만들어줌\n",
    "  - range(시작할 숫자, 종료할 숫자, 증감량)\n",
    "    - range(1,100,3) : 1부터 99까지 3씩 증가\n",
    "  - range(기본값0, 종료할 숫자, 기본값1)\n",
    "    - range(3,10) : 3부터 9까지 1씩 증가\n",
    "    - range(10) : 0부터 9까지 1씩 증가"
   ]
  },
  {
   "cell_type": "code",
   "execution_count": 7,
   "id": "a57e0d11",
   "metadata": {},
   "outputs": [
    {
     "name": "stdout",
     "output_type": "stream",
     "text": [
      "1 2 3 4 5 6 7 8 9 "
     ]
    }
   ],
   "source": [
    "for i in range(1,10,1):\n",
    "    print(i, end=' ') # print()의 end속성 : '\\n'이 default값"
   ]
  },
  {
   "cell_type": "code",
   "execution_count": 8,
   "id": "26af0f0b",
   "metadata": {},
   "outputs": [
    {
     "name": "stdout",
     "output_type": "stream",
     "text": [
      "3 4 5 6 7 8 9 "
     ]
    }
   ],
   "source": [
    "for i in range(3,10):\n",
    "    print(i, end=' ')"
   ]
  },
  {
   "cell_type": "code",
   "execution_count": 9,
   "id": "93a19707",
   "metadata": {},
   "outputs": [
    {
     "name": "stdout",
     "output_type": "stream",
     "text": [
      "0 1 2 3 4 5 6 7 8 9 "
     ]
    }
   ],
   "source": [
    "for i in range(10):\n",
    "    print(i, end = ' ')"
   ]
  },
  {
   "cell_type": "code",
   "execution_count": 11,
   "id": "bf5db0f4",
   "metadata": {},
   "outputs": [
    {
     "name": "stdout",
     "output_type": "stream",
     "text": [
      "97 96 95 94 93 92 91 90 89 88 87 86 85 84 83 82 81 80 79 78 77 "
     ]
    }
   ],
   "source": [
    "for i in range(97,76,-1):\n",
    "    print(i, end=' ')"
   ]
  },
  {
   "cell_type": "code",
   "execution_count": 12,
   "id": "6b97c553",
   "metadata": {},
   "outputs": [
    {
     "name": "stdout",
     "output_type": "stream",
     "text": [
      "23 24 25 26 27 28 29 30 31 32 33 34 35 36 37 38 39 "
     ]
    }
   ],
   "source": [
    "for i in range(23,40):\n",
    "    print(i, end=' ')"
   ]
  },
  {
   "cell_type": "code",
   "execution_count": 14,
   "id": "0d83e613",
   "metadata": {},
   "outputs": [
    {
     "name": "stdout",
     "output_type": "stream",
     "text": [
      "2 4 6 8 10 12 14 16 18 20 22 24 26 28 30 32 34 36 38 40 42 44 46 48 50 52 54 56 58 60 62 64 66 68 70 72 74 76 78 80 82 84 86 88 90 92 94 96 98 100 "
     ]
    }
   ],
   "source": [
    "for i in range(2,101,2):\n",
    "    print(i,end=' ')"
   ]
  },
  {
   "cell_type": "code",
   "execution_count": 15,
   "id": "fbc2d9e3",
   "metadata": {},
   "outputs": [
    {
     "name": "stdout",
     "output_type": "stream",
     "text": [
      "3 6 9 12 15 18 21 24 27 30 33 36 39 42 45 48 51 54 57 60 63 66 69 72 75 78 81 84 87 90 93 96 99 "
     ]
    }
   ],
   "source": [
    "for i in range(3,100,3):\n",
    "    print(i,end=' ')"
   ]
  },
  {
   "cell_type": "code",
   "execution_count": 16,
   "id": "a2b88173",
   "metadata": {},
   "outputs": [
    {
     "name": "stdout",
     "output_type": "stream",
     "text": [
      "1 2\n",
      "3 4\n",
      "5 6\n"
     ]
    }
   ],
   "source": [
    "list1 = [[1,2],[3,4],[5,6]]\n",
    "for i,j in list1:\n",
    "    print(i,j)"
   ]
  },
  {
   "cell_type": "code",
   "execution_count": 19,
   "id": "582c3af9",
   "metadata": {},
   "outputs": [
    {
     "name": "stdout",
     "output_type": "stream",
     "text": [
      "가장 큰 수 : 99\n"
     ]
    }
   ],
   "source": [
    "list2 = [4,5,2,1,99,15,2,7,27]\n",
    "m = list2[0]\n",
    "for i in list2:\n",
    "    if i > m:\n",
    "        m = i\n",
    "print('가장 큰 수 :', m)"
   ]
  },
  {
   "cell_type": "code",
   "execution_count": 20,
   "id": "2733e6e3",
   "metadata": {},
   "outputs": [
    {
     "name": "stdout",
     "output_type": "stream",
     "text": [
      "가장 작은 수 : 1\n"
     ]
    }
   ],
   "source": [
    "list2 = [4,5,2,1,99,15,2,7,27]\n",
    "m = list2[0]\n",
    "for i in list2:\n",
    "    if i < m:\n",
    "        m = i\n",
    "print('가장 작은 수 :', m)"
   ]
  },
  {
   "cell_type": "code",
   "execution_count": 22,
   "id": "9877c206",
   "metadata": {},
   "outputs": [
    {
     "name": "stdout",
     "output_type": "stream",
     "text": [
      "3의 배수인 값들의 합 : 1683\n"
     ]
    }
   ],
   "source": [
    "s = 0\n",
    "for i in range(3,101,3):\n",
    "    s += i\n",
    "print('3의 배수인 값들의 합 :', s)"
   ]
  },
  {
   "cell_type": "code",
   "execution_count": 24,
   "id": "3073bf27",
   "metadata": {},
   "outputs": [
    {
     "name": "stdout",
     "output_type": "stream",
     "text": [
      "2 * 1 = 2\n",
      "2 * 2 = 4\n",
      "2 * 3 = 6\n",
      "2 * 4 = 8\n",
      "2 * 5 = 10\n",
      "2 * 6 = 12\n",
      "2 * 7 = 14\n",
      "2 * 8 = 16\n",
      "2 * 9 = 18\n"
     ]
    }
   ],
   "source": [
    "for i in range(1,10):\n",
    "    print(f'2 * {i} = {2*i}')"
   ]
  },
  {
   "cell_type": "code",
   "execution_count": 33,
   "id": "94fc4b9c",
   "metadata": {},
   "outputs": [
    {
     "name": "stdout",
     "output_type": "stream",
     "text": [
      "정수 입력 >> 32\n",
      "32의 약수 : 1 2 4 8 16 32 "
     ]
    }
   ],
   "source": [
    "num = int(input('정수 입력 >> '))\n",
    "print(f'{num}의 약수 :', end=' ')\n",
    "for i in range(1,num+1):\n",
    "    if num%i == 0:\n",
    "        print(i,end=' ')"
   ]
  },
  {
   "cell_type": "code",
   "execution_count": 34,
   "id": "c6b515b8",
   "metadata": {},
   "outputs": [
    {
     "name": "stdout",
     "output_type": "stream",
     "text": [
      "*\n",
      "**\n",
      "***\n",
      "****\n",
      "*****\n",
      "******\n"
     ]
    }
   ],
   "source": [
    "for i in range(6):\n",
    "    print('*'*(i+1))"
   ]
  },
  {
   "cell_type": "code",
   "execution_count": 36,
   "id": "63b999f3",
   "metadata": {},
   "outputs": [
    {
     "name": "stdout",
     "output_type": "stream",
     "text": [
      "줄 수 입력 >> 15\n",
      "*\n",
      "**\n",
      "***\n",
      "****\n",
      "*****\n",
      "******\n",
      "*******\n",
      "********\n",
      "*********\n",
      "**********\n",
      "***********\n",
      "************\n",
      "*************\n",
      "**************\n",
      "***************\n"
     ]
    }
   ],
   "source": [
    "star = int(input('줄 수 입력 >> '))\n",
    "for i in range(star):\n",
    "    print('*'*(i+1))"
   ]
  },
  {
   "cell_type": "code",
   "execution_count": 40,
   "id": "98a6a18f",
   "metadata": {},
   "outputs": [
    {
     "name": "stdout",
     "output_type": "stream",
     "text": [
      "*\n",
      "**\n",
      "***\n",
      "****\n",
      "*****\n",
      "******\n",
      "*****\n",
      "****\n",
      "***\n",
      "**\n",
      "*\n"
     ]
    }
   ],
   "source": [
    "for i in range(1,7):\n",
    "    print('*'*i) \n",
    "for i in range(5,0,-1):   # ****** 틀린문제\n",
    "    print('*'*i)"
   ]
  },
  {
   "cell_type": "code",
   "execution_count": 46,
   "id": "7850f646",
   "metadata": {},
   "outputs": [
    {
     "name": "stdout",
     "output_type": "stream",
     "text": [
      "*\n",
      "**\n",
      "***\n",
      "****\n",
      "*****\n",
      "******\n",
      "*****\n",
      "****\n",
      "***\n",
      "**\n",
      "*\n"
     ]
    }
   ],
   "source": [
    "l = list(range(2,15,2))\n",
    "for i in range(1,12):\n",
    "    if i <= 6 :\n",
    "        print('*'*i)\n",
    "    else:\n",
    "        print('*'*(i-l[i-7]))"
   ]
  },
  {
   "cell_type": "code",
   "execution_count": 41,
   "id": "1eb9d02b",
   "metadata": {},
   "outputs": [
    {
     "name": "stdout",
     "output_type": "stream",
     "text": [
      "첫 번째 정수 입력 >> 10\n",
      "두 번째 정수 입력 >> 30\n",
      "10 11 12 13 14 15 16 17 18 19 20 21 22 23 24 25 26 27 28 29 30 "
     ]
    }
   ],
   "source": [
    "start = int(input('첫 번째 정수 입력 >> '))\n",
    "end = int(input('두 번째 정수 입력 >> '))\n",
    "for i in range(start,end+1):\n",
    "    print(i,end=' ')"
   ]
  },
  {
   "cell_type": "code",
   "execution_count": 45,
   "id": "286c9566",
   "metadata": {
    "scrolled": true
   },
   "outputs": [
    {
     "name": "stdout",
     "output_type": "stream",
     "text": [
      "첫 번째 정수 입력 >> 1\n",
      "두 번째 정수 입력 >> 10\n",
      "배수 입력 >> 3\n",
      "3의 배수의 합 : 18\n"
     ]
    }
   ],
   "source": [
    "num1 = int(input('첫 번째 정수 입력 >> '))\n",
    "num2 = int(input('두 번째 정수 입력 >> '))\n",
    "k = int(input('배수 입력 >> '))\n",
    "s = 0\n",
    "for i in range(num1, num2+1):\n",
    "    if i % k == 0 :\n",
    "        s += i\n",
    "print(f'{k}의 배수의 합 : {s}')"
   ]
  },
  {
   "cell_type": "code",
   "execution_count": 51,
   "id": "8802a72c",
   "metadata": {},
   "outputs": [
    {
     "name": "stdout",
     "output_type": "stream",
     "text": [
      "이름을 입력 : 민지\n",
      "주민번호 입력(7자리) : 9811052\n",
      "민지님은 98년 11월 05일에 태어났고, 성별은 여자입니다.\n"
     ]
    }
   ],
   "source": [
    "name = input('이름을 입력 : ')\n",
    "number = input('주민번호 입력(7자리) : ')\n",
    "\n",
    "if number[-1] == '1' or number[-1] == '3':\n",
    "    gender = '남자'\n",
    "else:\n",
    "    gender = '여자'\n",
    "print(f'{name}님은 {number[:2]}년 {number[2:4]}월 {number[4:6]}일에 태어났고, \\\n",
    "성별은 {gender}입니다.')"
   ]
  },
  {
   "cell_type": "code",
   "execution_count": 52,
   "id": "d6ccb7e5",
   "metadata": {},
   "outputs": [
    {
     "name": "stdout",
     "output_type": "stream",
     "text": [
      "Life is too short, You need python."
     ]
    }
   ],
   "source": [
    "s = \".nohtyp deen uoY ,trohs oot si efiL\"\n",
    "for i in range(len(s)):\n",
    "    print(s[-i-1], end='')"
   ]
  },
  {
   "cell_type": "code",
   "execution_count": 59,
   "id": "5d6c02f8",
   "metadata": {},
   "outputs": [
    {
     "name": "stdout",
     "output_type": "stream",
     "text": [
      "Life is too short, You need python."
     ]
    }
   ],
   "source": [
    "for i in range(len(s),0,-1):\n",
    "    print(s[i-1], end='')"
   ]
  },
  {
   "cell_type": "code",
   "execution_count": 64,
   "id": "920baf00",
   "metadata": {},
   "outputs": [
    {
     "name": "stdout",
     "output_type": "stream",
     "text": [
      "2*1=2\t2*2=4\t2*3=6\t2*4=8\t2*5=10\t2*6=12\t2*7=14\t2*8=16\t2*9=18\t\n",
      "3*1=3\t3*2=6\t3*3=9\t3*4=12\t3*5=15\t3*6=18\t3*7=21\t3*8=24\t3*9=27\t\n",
      "4*1=4\t4*2=8\t4*3=12\t4*4=16\t4*5=20\t4*6=24\t4*7=28\t4*8=32\t4*9=36\t\n",
      "5*1=5\t5*2=10\t5*3=15\t5*4=20\t5*5=25\t5*6=30\t5*7=35\t5*8=40\t5*9=45\t\n",
      "6*1=6\t6*2=12\t6*3=18\t6*4=24\t6*5=30\t6*6=36\t6*7=42\t6*8=48\t6*9=54\t\n",
      "7*1=7\t7*2=14\t7*3=21\t7*4=28\t7*5=35\t7*6=42\t7*7=49\t7*8=56\t7*9=63\t\n",
      "8*1=8\t8*2=16\t8*3=24\t8*4=32\t8*5=40\t8*6=48\t8*7=56\t8*8=64\t8*9=72\t\n",
      "9*1=9\t9*2=18\t9*3=27\t9*4=36\t9*5=45\t9*6=54\t9*7=63\t9*8=72\t9*9=81\t\n"
     ]
    }
   ],
   "source": [
    "for i in range(2,10):\n",
    "    for j in range(1,10):\n",
    "        print(f'{i}*{j}={i*j}', end='\\t')\n",
    "    print('')"
   ]
  },
  {
   "cell_type": "code",
   "execution_count": 65,
   "id": "bdf047b9",
   "metadata": {},
   "outputs": [
    {
     "name": "stdout",
     "output_type": "stream",
     "text": [
      "2*1=2\t3*1=3\t4*1=4\t5*1=5\t6*1=6\t7*1=7\t8*1=8\t9*1=9\t\n",
      "2*2=4\t3*2=6\t4*2=8\t5*2=10\t6*2=12\t7*2=14\t8*2=16\t9*2=18\t\n",
      "2*3=6\t3*3=9\t4*3=12\t5*3=15\t6*3=18\t7*3=21\t8*3=24\t9*3=27\t\n",
      "2*4=8\t3*4=12\t4*4=16\t5*4=20\t6*4=24\t7*4=28\t8*4=32\t9*4=36\t\n",
      "2*5=10\t3*5=15\t4*5=20\t5*5=25\t6*5=30\t7*5=35\t8*5=40\t9*5=45\t\n",
      "2*6=12\t3*6=18\t4*6=24\t5*6=30\t6*6=36\t7*6=42\t8*6=48\t9*6=54\t\n",
      "2*7=14\t3*7=21\t4*7=28\t5*7=35\t6*7=42\t7*7=49\t8*7=56\t9*7=63\t\n",
      "2*8=16\t3*8=24\t4*8=32\t5*8=40\t6*8=48\t7*8=56\t8*8=64\t9*8=72\t\n",
      "2*9=18\t3*9=27\t4*9=36\t5*9=45\t6*9=54\t7*9=63\t8*9=72\t9*9=81\t\n"
     ]
    }
   ],
   "source": [
    "for j in range(1,10):\n",
    "    for i in range(2,10):\n",
    "        print(f'{i}*{j}={i*j}', end='\\t')\n",
    "    print('')"
   ]
  },
  {
   "cell_type": "code",
   "execution_count": 69,
   "id": "c7f19c6b",
   "metadata": {},
   "outputs": [
    {
     "name": "stdout",
     "output_type": "stream",
     "text": [
      "짝수 3개, 홀수 8개\n"
     ]
    }
   ],
   "source": [
    "list1 = [1,30,7,9,17,3,5,23,44,32,35]\n",
    "n1 = n0 = 0\n",
    "for i in list1:\n",
    "    if i % 2 == 0 :\n",
    "        n0 += 1\n",
    "    else:\n",
    "        n1 += 1\n",
    "print(f'짝수 {n0}개, 홀수 {n1}개')"
   ]
  },
  {
   "cell_type": "code",
   "execution_count": 77,
   "id": "9bde0d5b",
   "metadata": {},
   "outputs": [
    {
     "name": "stdout",
     "output_type": "stream",
     "text": [
      "OX입력 >> OOXOOOXOOO\n",
      "15점\n"
     ]
    }
   ],
   "source": [
    "ox = input('OX입력 >> ')\n",
    "score = 0 # 점수\n",
    "n = 0 # 연속 정답인 경우의 수\n",
    "for i in range(len(ox)):\n",
    "    if ox[i]=='O':\n",
    "        n += 1\n",
    "        score += n\n",
    "    else:\n",
    "        n = 0\n",
    "print(f'{score}점')"
   ]
  }
 ],
 "metadata": {
  "kernelspec": {
   "display_name": "Python 3 (ipykernel)",
   "language": "python",
   "name": "python3"
  },
  "language_info": {
   "codemirror_mode": {
    "name": "ipython",
    "version": 3
   },
   "file_extension": ".py",
   "mimetype": "text/x-python",
   "name": "python",
   "nbconvert_exporter": "python",
   "pygments_lexer": "ipython3",
   "version": "3.9.13"
  }
 },
 "nbformat": 4,
 "nbformat_minor": 5
}
