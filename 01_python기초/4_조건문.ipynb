{
 "cells": [
  {
   "cell_type": "markdown",
   "metadata": {},
   "source": [
    "# 4. 조건문\n",
    "상황에 따라 실행 흐름을 다르게 하는 문법\n",
    "- if 조건식 :\n",
    "    - 실행문장"
   ]
  },
  {
   "cell_type": "code",
   "execution_count": null,
   "metadata": {},
   "outputs": [
    {
     "name": "stdout",
     "output_type": "stream",
     "text": [
      "실행문장 실행\n",
      "if문 밖에 있는 실행문장\n"
     ]
    }
   ],
   "source": [
    "if True:\n",
    "    print('실행문장 실행')\n",
    "print('if문 밖에 있는 실행문장')"
   ]
  },
  {
   "cell_type": "code",
   "execution_count": null,
   "metadata": {},
   "outputs": [
    {
     "name": "stdout",
     "output_type": "stream",
     "text": [
      "if문 밖에 있는 실행문장\n"
     ]
    }
   ],
   "source": [
    "if False:\n",
    "    print('실행문장 실행')\n",
    "print('if문 밖에 있는 실행문장')"
   ]
  },
  {
   "cell_type": "code",
   "execution_count": null,
   "metadata": {},
   "outputs": [
    {
     "name": "stdout",
     "output_type": "stream",
     "text": [
      "택시를 탄다\n"
     ]
    }
   ],
   "source": [
    "money = 11000\n",
    "# money = 9000\n",
    "if money >= 10000 :\n",
    "    print('택시를 탄다')"
   ]
  },
  {
   "cell_type": "markdown",
   "metadata": {},
   "source": [
    "- if 조건식 :\n",
    "    - 실행문장1(True일 경우)\n",
    "- else:\n",
    "    - 실행문장2(False일 경우)"
   ]
  },
  {
   "cell_type": "code",
   "execution_count": null,
   "metadata": {},
   "outputs": [
    {
     "name": "stdout",
     "output_type": "stream",
     "text": [
      "실행문장1\n"
     ]
    }
   ],
   "source": [
    "if True:\n",
    "    print('실행문장1')\n",
    "else:\n",
    "    print('실행문장2')"
   ]
  },
  {
   "cell_type": "code",
   "execution_count": null,
   "metadata": {},
   "outputs": [
    {
     "name": "stdout",
     "output_type": "stream",
     "text": [
      "실행문장2\n"
     ]
    }
   ],
   "source": [
    "if False:\n",
    "    print('실행문장1')\n",
    "else:\n",
    "    print('실행문장2')"
   ]
  },
  {
   "cell_type": "code",
   "execution_count": null,
   "metadata": {},
   "outputs": [
    {
     "name": "stdout",
     "output_type": "stream",
     "text": [
      "택시를 탄다\n"
     ]
    }
   ],
   "source": [
    "money = 11000\n",
    "# money = 9000\n",
    "\n",
    "if money >= 10000:\n",
    "    print('택시를 탄다')\n",
    "else:\n",
    "    print('버스를 탄다')"
   ]
  },
  {
   "cell_type": "code",
   "execution_count": null,
   "metadata": {},
   "outputs": [
    {
     "name": "stdout",
     "output_type": "stream",
     "text": [
      "정수 입력 >> 30\n",
      "3과 5의 배수입니다.\n"
     ]
    }
   ],
   "source": [
    "num = int(input('정수 입력 >> '))\n",
    "if num%3==0 and num%5==0 :\n",
    "    print('3과 5의 배수입니다.')\n",
    "else:\n",
    "    print('3과 5의 배수가 아닙니다.')"
   ]
  },
  {
   "cell_type": "code",
   "execution_count": null,
   "metadata": {},
   "outputs": [
    {
     "name": "stdout",
     "output_type": "stream",
     "text": [
      "주민등록번호 뒷자리 입력 >> 421585632\n",
      "당신은 여자 입니다 ^^*\n"
     ]
    }
   ],
   "source": [
    "num = input('주민등록번호 뒷자리 입력 >> ') # 다른방법 : int로 받아서\n",
    "if (num[0]=='2') | (num[0]=='4'):  # 조건식은 num//1000000==2 | num//1000000==4\n",
    "    print('당신은 여자 입니다 ^^*')\n",
    "else:\n",
    "    print('당신은 남자 입니다 ^^7')"
   ]
  },
  {
   "cell_type": "code",
   "execution_count": null,
   "metadata": {},
   "outputs": [
    {
     "name": "stdout",
     "output_type": "stream",
     "text": [
      "이름 입력 >> 민지\n",
      "나이 입력 >> 26\n",
      "카드 소지 여부(소지, 미소지) >> 소지\n",
      "민지님은 입장료 24500원에 예약되셨습니다.\n"
     ]
    }
   ],
   "source": [
    "name = input('이름 입력 >> ')\n",
    "age = int(input('나이 입력 >> '))\n",
    "card = input('카드 소지 여부(소지, 미소지) >> ')\n",
    "if age >= 19 :\n",
    "    price = 35000\n",
    "    if card == '소지':\n",
    "        price *= 0.7\n",
    "else:\n",
    "    price = 35000*0.5\n",
    "    if card =='소지':\n",
    "        price *= 0.9\n",
    "\n",
    "print(f'{name}님은 입장료 {int(price)}원에 예약되셨습니다.')"
   ]
  },
  {
   "cell_type": "code",
   "execution_count": null,
   "metadata": {},
   "outputs": [
    {
     "name": "stdout",
     "output_type": "stream",
     "text": [
      "마스크 개수 입력 >> 80\n",
      "8개들이 포장지 개수 : 10\n",
      "5개들이 포장지 개수 : 0\n"
     ]
    }
   ],
   "source": [
    "countOfMask = int(input('마스크 개수 입력 >> '))\n",
    "\n",
    "# 8개들이 포장지 개수 구하기\n",
    "n8 = countOfMask//8\n",
    "countOfMask = countOfMask%8\n",
    "    \n",
    "# 5개들이 포장지 개수 구하기\n",
    "n5 = countOfMask//5\n",
    "countOfMask = countOfMask%5\n",
    "if countOfMask > 0:      # 5개들이 포장지 개수도 빼고 남은 마스크가 있을 때\n",
    "    n5 += 1\n",
    "        \n",
    "\n",
    "print(f'8개들이 포장지 개수 : {n8}')\n",
    "print(f'5개들이 포장지 개수 : {n5}')"
   ]
  },
  {
   "cell_type": "markdown",
   "metadata": {},
   "source": [
    "- if 조건식1:\n",
    "    - 실행문장1(True인 경우)\n",
    "- elif 조건식2:\n",
    "    - 실행문장2(이전 조건식들이 False이고 해당 조건식이 True인 경우)\n",
    "- else:\n",
    "    - 실행문장3(모든 조건식이 False인 경우)"
   ]
  },
  {
   "cell_type": "code",
   "execution_count": null,
   "metadata": {},
   "outputs": [
    {
     "name": "stdout",
     "output_type": "stream",
     "text": [
      "실행문장1\n"
     ]
    }
   ],
   "source": [
    "if True:\n",
    "    print('실행문장1')\n",
    "elif True:\n",
    "    print('실행문장2')"
   ]
  },
  {
   "cell_type": "code",
   "execution_count": null,
   "metadata": {},
   "outputs": [
    {
     "name": "stdout",
     "output_type": "stream",
     "text": [
      "실행문장2\n"
     ]
    }
   ],
   "source": [
    "if False:\n",
    "    print('실행문장1')\n",
    "elif True:\n",
    "    print('실행문장2')"
   ]
  },
  {
   "cell_type": "code",
   "execution_count": null,
   "metadata": {},
   "outputs": [
    {
     "name": "stdout",
     "output_type": "stream",
     "text": [
      "첫 번째 정수 입력 >> 7\n",
      "두 번째 정수 입력 >> 7\n",
      "두 수가 똑같습니다.\n"
     ]
    }
   ],
   "source": [
    "num1 = int(input('첫 번째 정수 입력 >> '))\n",
    "num2 = int(input('두 번째 정수 입력 >> '))\n",
    "\n",
    "if num1 > num2 :\n",
    "    print('첫 번째 정수가 더 큽니다.')\n",
    "elif num1 == num2 :\n",
    "    print('두 수가 똑같습니다.')\n",
    "else:\n",
    "    print('두 번째 정수가 더 큽니다.')"
   ]
  },
  {
   "cell_type": "code",
   "execution_count": null,
   "metadata": {},
   "outputs": [
    {
     "name": "stdout",
     "output_type": "stream",
     "text": [
      "점수 입력 >> 36\n",
      "36점은 F학점 입니다.\n"
     ]
    }
   ],
   "source": [
    "score = int(input('점수 입력 >> '))\n",
    "if score >= 90:\n",
    "    grade = 'A'\n",
    "elif score >= 80:\n",
    "    grade = 'B'\n",
    "elif score >= 70:\n",
    "    grade = 'C'\n",
    "elif score >= 60:\n",
    "    grade = 'D'\n",
    "else:\n",
    "    grade = 'F'\n",
    "    \n",
    "print(f'{score}점은 {grade}학점 입니다.')"
   ]
  },
  {
   "cell_type": "code",
   "execution_count": null,
   "metadata": {},
   "outputs": [
    {
     "name": "stdout",
     "output_type": "stream",
     "text": [
      "x값을 입력하세요 : 12\n",
      "y값을 입력하세요 : -5\n",
      "좌표(12,-5)는 4사분면 입니다.\n"
     ]
    }
   ],
   "source": [
    "x = int(input('x값을 입력하세요 : '))\n",
    "y = int(input('y값을 입력하세요 : '))\n",
    "if x>0 and y>0:\n",
    "    quadrant = 1\n",
    "elif x>0 and y<0:\n",
    "        quadrant = 4\n",
    "elif x<0 and y>0:\n",
    "    quadrant = 2\n",
    "else:\n",
    "    quadrant = 3\n",
    "        \n",
    "print(f'좌표({x},{y})는 {quadrant}사분면 입니다.')"
   ]
  },
  {
   "cell_type": "code",
   "execution_count": null,
   "metadata": {},
   "outputs": [
    {
     "name": "stdout",
     "output_type": "stream",
     "text": [
      "나이 입력 >> 26\n",
      "요금은 1500원 입니다.\n"
     ]
    }
   ],
   "source": [
    "age = int(input('나이 입력 >> '))\n",
    "fee = 1500\n",
    "\n",
    "if age < 5:\n",
    "    fee *= 0.5\n",
    "elif age < 20 :\n",
    "    fee *= 0.75\n",
    "elif age >= 65 :\n",
    "    fee *= 0.25\n",
    "    \n",
    "print(f'요금은 {int(fee)}원 입니다.')"
   ]
  },
  {
   "cell_type": "code",
   "execution_count": null,
   "metadata": {},
   "outputs": [
    {
     "name": "stdout",
     "output_type": "stream",
     "text": [
      "==============================================\n",
      "================----자판기----================\n",
      "==============================================\n",
      "== 1.콜라 == 2.사이다 == 3.물 =======insert===\n",
      "==--------==----------==------=======------===\n",
      "==  600   ==    800   == 1000 ======= 000원===\n",
      "==============================================\n",
      "==++++++++++++++++++++++++++++++++++++++++++==\n",
      "==++++++++++++++++++++++++++++++++++++++++++==\n",
      "==++++++++++++++++++++++++++++++++++++++++++==\n",
      "==++++++++++++++              ++++++++++++++==\n",
      "==++++++++++++++     SMHRD    ++++++++++++++==\n",
      "==++++++++++++++              ++++++++++++++==\n",
      "==++++++++++++++++++++++++++++++++++++++++++==\n",
      "==++++++++++++++++++++++++++++++++++++++++++==\n",
      "==============================================\n",
      "==============================================\n",
      "  ===                                    ===  \n",
      "  ===                                    ===  \n",
      "\n",
      "insert coin >>600\n",
      "메뉴 선택 >>4\n",
      "잘못된 메뉴\n"
     ]
    }
   ],
   "source": [
    "print('='*46)\n",
    "print('='*16 + '----자판기----' + '='*16)\n",
    "print('='*46)\n",
    "print('==','1.콜라','==','2.사이다','==','3.물','=======insert===')\n",
    "print('==--------==----------==------=======------===')\n",
    "print('==',' 600  ','==','   800  ','==','1000','======= 000원===')\n",
    "print('='*46)\n",
    "print('==' + '+'*42 + '==')\n",
    "print('==' + '+'*42 + '==')\n",
    "print('==' + '+'*42 + '==')\n",
    "print('==' + '+'*14 + ' '*14 + '+'*14 + '==')\n",
    "print('==' + '+'*14 + '     SMHRD    ' + '+'*14 + '==')\n",
    "print('==' + '+'*14 + ' '*14 + '+'*14 + '==')\n",
    "print('==' + '+'*42 + '==')\n",
    "print('==' + '+'*42 + '==')\n",
    "print('='*46)\n",
    "print('='*46)\n",
    "print('  ===' + ' '*36 + '===  ')\n",
    "print('  ===' + ' '*36 + '===  \\n')\n",
    "\n",
    "price= [600, 800, 1000]\n",
    "coin = int(input('insert coin >>'))\n",
    "if coin < 600 :\n",
    "    print('600원 이상 넣어주세요')\n",
    "else:\n",
    "    menu = int(input('메뉴 선택 >>'))\n",
    "    if menu < 1 or menu >3 :\n",
    "        print('잘못된 메뉴')\n",
    "    elif coin < price[menu-1] :\n",
    "        print('금액 부족')\n",
    "    else:\n",
    "        rechange = coin - price[menu-1]\n",
    "        c1000 = rechange//1000\n",
    "        c500 = rechange%1000//500\n",
    "        c100 = rechange%1000%500//100\n",
    "        print(f'잔돈 >> 1000원 {c1000}개, 500원 {c500}개, 100원 {c100}개')"
   ]
  },
  {
   "cell_type": "code",
   "execution_count": null,
   "metadata": {},
   "outputs": [
    {
     "name": "stdout",
     "output_type": "stream",
     "text": [
      "==============================================\n",
      "================----자판기----================\n",
      "==============================================\n",
      "== 1.콜라 == 2.사이다 == 3.물 =======insert===\n",
      "==--------==----------==------=======------===\n",
      "==  600   ==    800   == 1000 ======= 000원===\n",
      "==============================================\n",
      "==++++++++++++++++++++++++++++++++++++++++++==\n",
      "==++++++++++++++++++++++++++++++++++++++++++==\n",
      "==++++++++++++++++++++++++++++++++++++++++++==\n",
      "==++++++++++++++              ++++++++++++++==\n",
      "==++++++++++++++     SMHRD    ++++++++++++++==\n",
      "==++++++++++++++              ++++++++++++++==\n",
      "==++++++++++++++++++++++++++++++++++++++++++==\n",
      "==++++++++++++++++++++++++++++++++++++++++++==\n",
      "==============================================\n",
      "==============================================\n",
      "  ===                                    ===  \n",
      "  ===                                    ===  \n",
      "\n",
      "insert coin >>900\n",
      "메뉴 선택 >>3\n",
      "금액 부족\n"
     ]
    }
   ],
   "source": [
    "print('='*46)\n",
    "print('='*16 + '----자판기----' + '='*16)\n",
    "print('='*46)\n",
    "print('==','1.콜라','==','2.사이다','==','3.물','=======insert===')\n",
    "print('==--------==----------==------=======------===')\n",
    "print('==',' 600  ','==','   800  ','==','1000','======= 000원===')\n",
    "print('='*46)\n",
    "print('==' + '+'*42 + '==')\n",
    "print('==' + '+'*42 + '==')\n",
    "print('==' + '+'*42 + '==')\n",
    "print('==' + '+'*14 + ' '*14 + '+'*14 + '==')\n",
    "print('==' + '+'*14 + '     SMHRD    ' + '+'*14 + '==')\n",
    "print('==' + '+'*14 + ' '*14 + '+'*14 + '==')\n",
    "print('==' + '+'*42 + '==')\n",
    "print('==' + '+'*42 + '==')\n",
    "print('='*46)\n",
    "print('='*46)\n",
    "print('  ===' + ' '*36 + '===  ')\n",
    "print('  ===' + ' '*36 + '===  \\n')\n",
    "\n",
    "coin = int(input('insert coin >>'))\n",
    "if coin < 600 :\n",
    "    print('600원 이상 넣어주세요')\n",
    "else:\n",
    "    menu = int(input('메뉴 선택 >>'))\n",
    "    if menu == 1:\n",
    "        price = 600\n",
    "    elif menu == 2:\n",
    "        price = 800\n",
    "    elif menu == 3:\n",
    "        price = 1000\n",
    "        \n",
    "    if menu < 1 or menu >3 :\n",
    "        print('잘못된 메뉴')\n",
    "    elif coin < price :\n",
    "        print('금액 부족')\n",
    "    else:\n",
    "        rechange = coin - price\n",
    "        c1000 = rechange//1000\n",
    "        c500 = rechange%1000//500\n",
    "        c100 = rechange%1000%500//100\n",
    "        print(f'잔돈 >> 1000원 {c1000}개, 500원 {c500}개, 100원 {c100}개')"
   ]
  }
 ],
 "metadata": {
  "language_info": {
   "name": "python"
  },
  "orig_nbformat": 4
 },
 "nbformat": 4,
 "nbformat_minor": 2
}
