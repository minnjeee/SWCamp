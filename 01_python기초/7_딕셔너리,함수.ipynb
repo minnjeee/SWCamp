{
 "cells": [
  {
   "cell_type": "markdown",
   "metadata": {},
   "source": [
    "# 딕셔너리\n",
    "- 불변한 key와 변할 수 있는 value를 한 쌍으로 가짐, 순서 없음\n",
    "- dictionary명 = {key1:value1, key2:value2, ...}\n",
    "- 딕셔너리명[key] = value : 값 추가\n",
    "- del 딕셔너리명[key] : 값 삭제\n",
    "- 딕셔너리명[key] 또는 딕셔너리명.get(key) : 값 불러오기\n",
    "- 딕셔너리명.keys/values/items() : key/value/둘다 가져오기\n",
    "- key in 딕셔너리명\n",
    "- 딕셔너리명.clear() : 모두 지우기"
   ]
  },
  {
   "cell_type": "code",
   "execution_count": null,
   "metadata": {},
   "outputs": [
    {
     "name": "stdout",
     "output_type": "stream",
     "text": [
      "{'name': 'MJ', 'age': 26, 'phone': '010-2900-4039'}\n",
      "<class 'dict'>\n"
     ]
    }
   ],
   "source": [
    "dic1 = {'name':'MJ', 'age':26, 'phone':'010-2900-4039'}\n",
    "print(dic1)\n",
    "print(type(dic1))"
   ]
  },
  {
   "cell_type": "code",
   "execution_count": null,
   "metadata": {},
   "outputs": [
    {
     "data": {
      "text/plain": [
       "{'name': 'MJ', 'age': 26, 'phone': '010-2900-4039', 'birth': '11/05'}"
      ]
     },
     "metadata": {},
     "output_type": "display_data"
    }
   ],
   "source": [
    "# 값 추가 : 딕셔너리명[key] = value\n",
    "dic1['birth'] = '11/05'\n",
    "dic1"
   ]
  },
  {
   "cell_type": "code",
   "execution_count": null,
   "metadata": {},
   "outputs": [
    {
     "data": {
      "text/plain": [
       "{'교촌': '허니콤보', 'bhc': '뿌링클', 'bbq': '황금올리브'}"
      ]
     },
     "metadata": {},
     "output_type": "display_data"
    }
   ],
   "source": [
    "dic_test = {'교촌':'허니콤보'}\n",
    "dic_test['bhc'] = '뿌링클'\n",
    "dic_test['bbq'] = '황금올리브'\n",
    "dic_test"
   ]
  },
  {
   "cell_type": "code",
   "execution_count": null,
   "metadata": {},
   "outputs": [
    {
     "data": {
      "text/plain": [
       "{'name': 'MJ', 'phone': '010-2900-4039', 'birth': '11/05'}"
      ]
     },
     "metadata": {},
     "output_type": "display_data"
    }
   ],
   "source": [
    "# 값 삭제 : del 딕셔너리명[key]\n",
    "del dic1['age']\n",
    "dic1"
   ]
  },
  {
   "cell_type": "code",
   "execution_count": null,
   "metadata": {},
   "outputs": [
    {
     "name": "stdout",
     "output_type": "stream",
     "text": [
      "MJ\n",
      "11/05\n",
      "-----\n",
      "MJ\n",
      "11/05\n",
      "None\n"
     ]
    }
   ],
   "source": [
    "# 값 가져오기 : 딕셔너리명[key] 또는 딕셔너리명.get(key)\n",
    "print(dic1['name'])\n",
    "print(dic1['birth']) # 없을 때 에러\n",
    "print('-----')\n",
    "print(dic1.get('name'))\n",
    "print(dic1.get('birth')) # 없을 때 None 반환\n",
    "print(dic1.get('gender'))"
   ]
  },
  {
   "cell_type": "code",
   "execution_count": null,
   "metadata": {},
   "outputs": [
    {
     "name": "stdout",
     "output_type": "stream",
     "text": [
      "['name', 'phone', 'birth']\n",
      "['MJ', '010-2900-4039', '11/05']\n",
      "[('name', 'MJ'), ('phone', '010-2900-4039'), ('birth', '11/05')]\n"
     ]
    }
   ],
   "source": [
    "# key/value만 가져오기 : 딕셔너리명.keys/values()\n",
    "print(list(dic1.keys()))\n",
    "print(list(dic1.values()))\n",
    "print(list(dic1.items()))"
   ]
  },
  {
   "cell_type": "code",
   "execution_count": null,
   "metadata": {},
   "outputs": [
    {
     "name": "stdout",
     "output_type": "stream",
     "text": [
      "name\n",
      "phone\n",
      "birth\n"
     ]
    }
   ],
   "source": [
    "for key in dic1.keys():\n",
    "    print(key)"
   ]
  },
  {
   "cell_type": "code",
   "execution_count": null,
   "metadata": {},
   "outputs": [
    {
     "name": "stdout",
     "output_type": "stream",
     "text": [
      "MJ\n",
      "010-2900-4039\n",
      "11/05\n"
     ]
    }
   ],
   "source": [
    "for value in dic1.values():\n",
    "    print(value)"
   ]
  },
  {
   "cell_type": "code",
   "execution_count": null,
   "metadata": {},
   "outputs": [
    {
     "name": "stdout",
     "output_type": "stream",
     "text": [
      "name \t MJ\n",
      "phone \t 010-2900-4039\n",
      "birth \t 11/05\n"
     ]
    }
   ],
   "source": [
    "for key,value in dic1.items():\n",
    "    print(key, '\\t', value)"
   ]
  },
  {
   "cell_type": "code",
   "execution_count": null,
   "metadata": {},
   "outputs": [
    {
     "name": "stdout",
     "output_type": "stream",
     "text": [
      "True\n",
      "False\n"
     ]
    }
   ],
   "source": [
    "# in키워드 사용 : key in 딕셔너리명\n",
    "print('name' in dic1)\n",
    "print('gender' in dic1)"
   ]
  },
  {
   "cell_type": "code",
   "execution_count": null,
   "metadata": {},
   "outputs": [
    {
     "data": {
      "text/plain": [
       "{}"
      ]
     },
     "metadata": {},
     "output_type": "display_data"
    }
   ],
   "source": [
    "# 모두 지우기 : 딕셔너리명.clear()\n",
    "dic1.clear()\n",
    "dic1"
   ]
  },
  {
   "cell_type": "markdown",
   "metadata": {},
   "source": [
    "# 함수\n",
    "하나의 작업을 수행하기 위해 독립적으로 설계된 코드들의 집합\n",
    "- 모듈화, 효율/가독성 상승, 유지보수 가능\n",
    "- def 함수명(매개변수):\n",
    "    - 실행문장\n",
    "    - return 반환변수"
   ]
  },
  {
   "cell_type": "code",
   "execution_count": null,
   "metadata": {},
   "outputs": [],
   "source": [
    "def number_sum(num1, num2):\n",
    "    result = num1 + num2\n",
    "    return result"
   ]
  },
  {
   "cell_type": "code",
   "execution_count": null,
   "metadata": {},
   "outputs": [
    {
     "data": {
      "text/plain": [
       "13"
      ]
     },
     "metadata": {},
     "output_type": "display_data"
    }
   ],
   "source": [
    "number = number_sum(3, 10)\n",
    "number"
   ]
  },
  {
   "cell_type": "code",
   "execution_count": null,
   "metadata": {},
   "outputs": [
    {
     "name": "stdout",
     "output_type": "stream",
     "text": [
      "첫 번째 정수 입력 >> 3\n",
      "두 번째 정수 입력 >> 10\n"
     ]
    },
    {
     "data": {
      "text/plain": [
       "7"
      ]
     },
     "metadata": {},
     "output_type": "display_data"
    }
   ],
   "source": [
    "def number_minus(n1 ,n2):\n",
    "    result = abs(n1-n2)\n",
    "    return result\n",
    "\n",
    "num1 = int(input('첫 번째 정수 입력 >> '))\n",
    "num2 = int(input('두 번째 정수 입력 >> '))\n",
    "result = number_minus(num1,num2)\n",
    "result"
   ]
  },
  {
   "cell_type": "code",
   "execution_count": null,
   "metadata": {},
   "outputs": [
    {
     "name": "stdout",
     "output_type": "stream",
     "text": [
      "문자열 입력 >> ㅋㅋㅋㅋ쿼카ㅋㅋㅋ좋아해\n"
     ]
    },
    {
     "data": {
      "text/plain": [
       "'쿼카좋아해'"
      ]
     },
     "metadata": {},
     "output_type": "display_data"
    }
   ],
   "source": [
    "def s_replace(string):\n",
    "    return string.replace('ㅋ','')\n",
    "\n",
    "s = input('문자열 입력 >> ')\n",
    "result = s_replace(s)\n",
    "result"
   ]
  },
  {
   "cell_type": "code",
   "execution_count": null,
   "metadata": {},
   "outputs": [
    {
     "name": "stdout",
     "output_type": "stream",
     "text": [
      "첫 번째 정수 입력 >> 10\n",
      "두 번째 정수 입력 >> 3\n",
      "연산자 입력(+.-) >> +\n",
      "결과 : 13\n"
     ]
    }
   ],
   "source": [
    "def cal(number1, number2, operator):\n",
    "    \"\"\"덧셈과 뺄셈을 계산하는 함수입니다 - ^_^\"\"\" # 독스트링 : 함수 안에 설명\n",
    "    if operator == '+':                   # ()안에서 Shift + Tab 으로 확인가능\n",
    "        result = number1 + number2\n",
    "    else:\n",
    "        result = number1 - number2\n",
    "    return result\n",
    "\n",
    "num1 = int(input('첫 번째 정수 입력 >> '))\n",
    "num2 = int(input('두 번째 정수 입력 >> '))\n",
    "op = input('연산자 입력(+.-) >> ')\n",
    "result = cal(num1,num2,op)\n",
    "print('결과 : {}'.format(result))"
   ]
  },
  {
   "cell_type": "markdown",
   "metadata": {},
   "source": [
    "- 가변 매개변수(*) : 몇개의 인수가 입력될지 알 수 없으면 사용자가 직접 매개변수의 개수를 정할 수 있도록 선언\n",
    "- 전달된 모든 인수는 튜플 형태로 저장\n",
    "- def 함수명(*매개변수) :\n",
    "    - 실행문장\n",
    "    - return 반환변수"
   ]
  },
  {
   "cell_type": "code",
   "execution_count": null,
   "metadata": {},
   "outputs": [],
   "source": [
    "def add(*args):\n",
    "    s = 0\n",
    "    for i in args:\n",
    "        s += i\n",
    "    return s"
   ]
  },
  {
   "cell_type": "code",
   "execution_count": null,
   "metadata": {},
   "outputs": [
    {
     "data": {
      "text/plain": [
       "6"
      ]
     },
     "metadata": {},
     "output_type": "display_data"
    }
   ],
   "source": [
    "add(1,2,3)"
   ]
  },
  {
   "cell_type": "code",
   "execution_count": null,
   "metadata": {},
   "outputs": [
    {
     "data": {
      "text/plain": [
       "55"
      ]
     },
     "metadata": {},
     "output_type": "display_data"
    }
   ],
   "source": [
    "add(1,2,3,4,5,6,7,8,9,10)"
   ]
  },
  {
   "cell_type": "code",
   "execution_count": null,
   "metadata": {},
   "outputs": [
    {
     "data": {
      "text/plain": [
       "3.0"
      ]
     },
     "metadata": {},
     "output_type": "display_data"
    }
   ],
   "source": [
    "def mean(*args):\n",
    "    s = n = 0\n",
    "    for i in args:\n",
    "        s += i\n",
    "        n += 1\n",
    "    return s/n\n",
    "\n",
    "mean(1,2,3,4,5)"
   ]
  },
  {
   "cell_type": "code",
   "execution_count": null,
   "metadata": {},
   "outputs": [
    {
     "data": {
      "text/plain": [
       "[2]"
      ]
     },
     "metadata": {},
     "output_type": "display_data"
    }
   ],
   "source": [
    "list(range(2,3))"
   ]
  },
  {
   "cell_type": "code",
   "execution_count": null,
   "metadata": {},
   "outputs": [
    {
     "name": "stdout",
     "output_type": "stream",
     "text": [
      "lleoH\n",
      "Hello\n"
     ]
    }
   ],
   "source": [
    "#10번\n",
    "\n",
    "def solution(text, anagram, sw):\n",
    "    answer = ''\n",
    "    n=0\n",
    "    list1 = [0 for i in range(len(text))]\n",
    "\n",
    "    for index in anagram:\n",
    "        \n",
    "        if sw == True:\n",
    "            list1[index] = text[n]\n",
    "            n += 1\n",
    "        else:\n",
    "            list1[n] = text[index]\n",
    "            n += 1\n",
    "            \n",
    "    for i in range(len(list1)):\n",
    "        answer += list1[i]\n",
    "    return answer\n",
    "print(solution('Hello', [4,2,0,1,3], True))\n",
    "print(solution('lleoH', [4,2,0,1,3], False))"
   ]
  },
  {
   "cell_type": "code",
   "execution_count": null,
   "metadata": {},
   "outputs": [],
   "source": [
    "#9번\n",
    "def solution(num_list):\n",
    "    answer = []\n",
    "    for N in num_list:\n",
    "        n = len(answer) # 마지막 if문의 기준이 되는 값\n",
    "        for i in r`ange(2,N): # i는 2 ~ N-1\n",
    "            if N%i == 0: \n",
    "                answer.append(False)\n",
    "                break # 한 번이라도 나머지가 0인 경우가 있으면 False를 추가했으므로 두번째for문 탈출\n",
    "        if len(answer) == n: # 두번째 for문에서 False가 추가 안된경우(answer의 요소개수가 동일), True추가\n",
    "            answer.append(True)\n",
    "    return answer"
   ]
  },
  {
   "cell_type": "code",
   "execution_count": null,
   "metadata": {},
   "outputs": [],
   "source": [
    "#         if N == 2: # 2일 때는 두번째for문에서 range(2,2)가 빈리스트가 되므로 따로\n",
    "#             answer.append(True)\n",
    "#             continue # for문 처음으로 돌아가서 N=3일 때 실행"
   ]
  },
  {
   "cell_type": "code",
   "execution_count": null,
   "metadata": {},
   "outputs": [
    {
     "data": {
      "text/plain": [
       "[True, True, False, True, False, True, False, False]"
      ]
     },
     "metadata": {},
     "output_type": "display_data"
    }
   ],
   "source": [
    "list1 = [2,3,4,5,6,7,8,9]\n",
    "solution(list1)"
   ]
  }
 ],
 "metadata": {
  "language_info": {
   "name": "python"
  },
  "orig_nbformat": 4
 },
 "nbformat": 4,
 "nbformat_minor": 2
}
