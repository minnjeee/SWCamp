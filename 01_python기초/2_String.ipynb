{
 "cells": [
  {
   "cell_type": "markdown",
   "metadata": {},
   "source": [
    "# 2. 문자열\n",
    "- 이스케이프 코드\n",
    "  - \\n : 개행(줄바꿈)\n",
    "  - \\t : 수평 탭\n",
    "  - \\\\ : 문자\"\\\"\n",
    "  - \\' : 작은따옴표\n",
    "  - \\\" : 큰따옴표"
   ]
  },
  {
   "cell_type": "code",
   "execution_count": null,
   "metadata": {},
   "outputs": [
    {
     "name": "stdout",
     "output_type": "stream",
     "text": [
      "she's gone\n",
      "she's gone\n"
     ]
    }
   ],
   "source": [
    "s1 = \"she's gone\"\n",
    "s2 = 'she\\'s gone'\n",
    "print(s1)\n",
    "print(s2)"
   ]
  },
  {
   "cell_type": "code",
   "execution_count": null,
   "metadata": {},
   "outputs": [
    {
     "name": "stdout",
     "output_type": "stream",
     "text": [
      "여러줄로 구성된 \n",
      "문자열을 하나로 대입할 때\n"
     ]
    }
   ],
   "source": [
    "s = \"여러줄로 구성된 \\n문자열을 하나로 대입할 때\"\n",
    "print(s)"
   ]
  },
  {
   "cell_type": "code",
   "execution_count": null,
   "metadata": {},
   "outputs": [
    {
     "name": "stdout",
     "output_type": "stream",
     "text": [
      "여러줄로 구성된\n",
      "문자열을 하나로\n",
      "대입할 때\n"
     ]
    }
   ],
   "source": [
    "s = '''여러줄로 구성된\n",
    "문자열을 하나로\n",
    "대입할 때'''\n",
    "print(s)"
   ]
  },
  {
   "cell_type": "markdown",
   "metadata": {},
   "source": [
    "- 문자열 인덱싱(가리킨다), 슬라이싱(잘라낸다)\n",
    "  - 0부터 인덱스 시작 (오른쪽부터는 -1부터)\n",
    "  - 인덱싱 : 변수명[인덱스]\n",
    "  - 슬라이싱 : 변수명[시작값:끝값:오프셋] (끝값은 포함x) (오프셋2이면 0,3,5,...번째 값)\n",
    "  - a:b 에서 a가 인덱스의 처음값(0)이면, b가 인데스의 마지막값(-1)이면 생략가능\n",
    "  => 처음부터 n까지는 :n, n부터 끝까지는 n:, 처음부터 끝까지는 :"
   ]
  },
  {
   "cell_type": "code",
   "execution_count": null,
   "metadata": {},
   "outputs": [
    {
     "name": "stdout",
     "output_type": "stream",
     "text": [
      "M\n",
      "i\n",
      "M\n",
      "J\n"
     ]
    }
   ],
   "source": [
    "s = \"My name is MJ\"\n",
    "print(s[0])\n",
    "print(s[8])\n",
    "print(s[-2])\n",
    "print(s[-1])"
   ]
  },
  {
   "cell_type": "code",
   "execution_count": null,
   "metadata": {},
   "outputs": [
    {
     "name": "stdout",
     "output_type": "stream",
     "text": [
      "My\n",
      "name\n",
      "is\n"
     ]
    }
   ],
   "source": [
    "s = \"My name is MJ\"\n",
    "print(s[0:2])\n",
    "print(s[3:7])\n",
    "print(s[8:10])"
   ]
  },
  {
   "cell_type": "code",
   "execution_count": null,
   "metadata": {},
   "outputs": [
    {
     "name": "stdout",
     "output_type": "stream",
     "text": [
      "My name\n",
      "My name\n",
      "My name\n",
      "My name\n"
     ]
    }
   ],
   "source": [
    "s = \"My name is MJ\"\n",
    "print(s[0:7])\n",
    "print(s[0:2], s[3:7], sep=' ')\n",
    "print(s[0:2] + ' ' + s[3:7])\n",
    "print(s[:7]) # 시작값이 0이면 생략가능"
   ]
  },
  {
   "cell_type": "code",
   "execution_count": null,
   "metadata": {},
   "outputs": [
    {
     "name": "stdout",
     "output_type": "stream",
     "text": [
      "is MJ\n",
      "is MJ\n",
      "is MJ\n"
     ]
    }
   ],
   "source": [
    "s = \"My name is MJ\"\n",
    "print(s[8:13])\n",
    "print(s[8:])\n",
    "print(s[-5:])"
   ]
  },
  {
   "cell_type": "code",
   "execution_count": null,
   "metadata": {},
   "outputs": [
    {
     "name": "stdout",
     "output_type": "stream",
     "text": [
      "My name is MJ\n",
      "My name is MJ\n",
      "My name is MJ\n"
     ]
    }
   ],
   "source": [
    "s = \"My name is MJ\"\n",
    "print(s[0:13])\n",
    "print(s[:])\n",
    "print(s)"
   ]
  },
  {
   "cell_type": "code",
   "execution_count": null,
   "metadata": {},
   "outputs": [
    {
     "name": "stdout",
     "output_type": "stream",
     "text": [
      "날짜 : 2020년 3월 3일\n",
      "날씨 : 맑음\n"
     ]
    }
   ],
   "source": [
    "s = \"2020년 3월 3일의 날씨의 맑음입니다.\"\n",
    "print(\"날짜 :\", s[:11])\n",
    "print(\"날씨 :\", s[-6:-4])"
   ]
  },
  {
   "cell_type": "code",
   "execution_count": null,
   "metadata": {},
   "outputs": [
    {
     "name": "stdout",
     "output_type": "stream",
     "text": [
      "날짜 : 2020년 3월 3일\n",
      "날씨 : 맑음\n"
     ]
    }
   ],
   "source": [
    "print(f\"날짜 : {s[:11]}\")\n",
    "print(f\"날씨 : {s[-6:-4]}\")"
   ]
  },
  {
   "cell_type": "markdown",
   "metadata": {},
   "source": [
    "- 문자열 포매팅(Formatting)\n",
    "    - %문자를 이용(%s-문자열, %c-문자1개, %d-정수, %f-실수, %%-문자'%')\n",
    "    - .format함수 사용\n",
    "    - f-string"
   ]
  },
  {
   "cell_type": "code",
   "execution_count": null,
   "metadata": {},
   "outputs": [
    {
     "name": "stdout",
     "output_type": "stream",
     "text": [
      "오늘은 7월 7일 입니다.\n",
      "오늘은 7월 8일 입니다.\n"
     ]
    }
   ],
   "source": [
    "day = 7\n",
    "s = \"오늘은 7월 %d일 입니다.\"%day\n",
    "print(s)\n",
    "\n",
    "day = 8\n",
    "s = \"오늘은 7월 %d일 입니다.\"%day\n",
    "print(s)"
   ]
  },
  {
   "cell_type": "code",
   "execution_count": null,
   "metadata": {},
   "outputs": [
    {
     "name": "stdout",
     "output_type": "stream",
     "text": [
      "오늘은 11월 5일 입니다.\n"
     ]
    }
   ],
   "source": [
    "month = 11\n",
    "day = 5\n",
    "s = \"오늘은 %d월 %d일 입니다.\"%(month,day)\n",
    "print(s)"
   ]
  },
  {
   "cell_type": "code",
   "execution_count": null,
   "metadata": {},
   "outputs": [
    {
     "name": "stdout",
     "output_type": "stream",
     "text": [
      "오늘은 11월 5일 입니다.\n"
     ]
    }
   ],
   "source": [
    "month = 11\n",
    "day = 5\n",
    "s = \"오늘은 {}월 {}일 입니다.\".format(month,day)\n",
    "print(s)"
   ]
  },
  {
   "cell_type": "code",
   "execution_count": null,
   "metadata": {},
   "outputs": [
    {
     "name": "stdout",
     "output_type": "stream",
     "text": [
      "오늘은 11월 5일 입니다.\n"
     ]
    }
   ],
   "source": [
    "month = 11\n",
    "day = 5\n",
    "s = f\"오늘은 {month}월 {day}일 입니다.\"\n",
    "print(s)"
   ]
  },
  {
   "cell_type": "code",
   "execution_count": null,
   "metadata": {},
   "outputs": [
    {
     "name": "stdout",
     "output_type": "stream",
     "text": [
      "100와 200의 합은 300입니다.\n"
     ]
    }
   ],
   "source": [
    "x = 100\n",
    "y = 200\n",
    "sum2 = x+y\n",
    "print(f\"{x}와 {y}의 합은 {sum2}입니다.\")"
   ]
  },
  {
   "cell_type": "markdown",
   "metadata": {},
   "source": [
    "- 문자열 함수\n",
    "  - count(문자) : 문자열에 포함된 문자의 개수를 세는 함수\n",
    "  - find(문자) : 문자열 내의 특정 문자의 첫번째 위치(인덱스)를 알려주는 함수\n",
    "  - '구분자'.join(문자열 리스트) : 문자들을 구분자로 연결시켜주는 함수\n",
    "  - upper() : 소문자를 대문자로 바꿔주는 함수\n",
    "  - lower() : 대문자를 소문자로 바꿔주는 함수\n",
    "  - calpitalize() : 첫글자는 대문자, 나머지는 소문자로 바꿔주는 함수\n",
    "  - strip() : 양쪽 공백 지우는 함수\n",
    "  - replace(기존문자, 새문자) : 기존문자를 새로운 문자로 바꿔주는 함수\n",
    "  - split(기준) : 특정 기준을 통해 좌,우측으로 문자열을 나눠주는 함수\n",
    "  - endswith(문자) : 특정문자로 끝나면 True, 아니면 False (튜플형태도 가능)\n",
    "  - startswith(문자) : 특정문자로 시작하면 True, 아니면 False"
   ]
  },
  {
   "cell_type": "code",
   "execution_count": null,
   "metadata": {},
   "outputs": [
    {
     "name": "stdout",
     "output_type": "stream",
     "text": [
      "2\n",
      "1\n"
     ]
    }
   ],
   "source": [
    "s = \"오늘은 파이썬 수업날입니다. 파이썬 너무 재밌네요!\".\n",
    "print(s.count(\"파이썬\"))\n",
    "print(s.count(\"수업\"))"
   ]
  },
  {
   "cell_type": "code",
   "execution_count": null,
   "metadata": {},
   "outputs": [
    {
     "name": "stdout",
     "output_type": "stream",
     "text": [
      "4\n",
      "0\n"
     ]
    }
   ],
   "source": [
    "print(s.find(\"파\"))\n",
    "print(s.find('오'))"
   ]
  },
  {
   "cell_type": "code",
   "execution_count": null,
   "metadata": {},
   "outputs": [
    {
     "name": "stdout",
     "output_type": "stream",
     "text": [
      "오늘 점심 메뉴 추천좀!\n",
      "오늘^^점심 메뉴^^추천좀!\n"
     ]
    }
   ],
   "source": [
    "print(' '.join(['오늘','점심 메뉴', '추천좀!']))\n",
    "print('^^'.join(['오늘','점심 메뉴', '추천좀!']))"
   ]
  },
  {
   "cell_type": "code",
   "execution_count": null,
   "metadata": {},
   "outputs": [
    {
     "name": "stdout",
     "output_type": "stream",
     "text": [
      "I'M STILL HUNGRY\n",
      "i'm still hungry\n",
      "I'm Still Hungry\n",
      "i'm still hungry\n"
     ]
    }
   ],
   "source": [
    "s = \"I'm Still Hungry\"\n",
    "print(s.upper())\n",
    "print(s.lower())\n",
    "print(s)\n",
    "s = s.lower() # 저장은 따로 해야함!\n",
    "print(s)"
   ]
  },
  {
   "cell_type": "code",
   "execution_count": null,
   "metadata": {},
   "outputs": [
    {
     "name": "stdout",
     "output_type": "stream",
     "text": [
      "I'm Still Hungry\n",
      "    I'm Still Happy     \n"
     ]
    }
   ],
   "source": [
    "s = \"    I'm Still Hungry     \"\n",
    "print(s.strip())\n",
    "print(s.replace('Hungry','Happy'))"
   ]
  },
  {
   "cell_type": "code",
   "execution_count": null,
   "metadata": {},
   "outputs": [
    {
     "name": "stdout",
     "output_type": "stream",
     "text": [
      "['옆에 공사 현장이 참', ' 시끄럽네요ㅠ']\n",
      "['옆에', '공사', '현장이', '참,', '시끄럽네요ㅠ']\n"
     ]
    }
   ],
   "source": [
    "s = '옆에 공사 현장이 참, 시끄럽네요ㅠ'\n",
    "print(s.split(\",\"))\n",
    "print(s.split(\" \"))"
   ]
  }
 ],
 "metadata": {
  "language_info": {
   "name": "python"
  },
  "orig_nbformat": 4
 },
 "nbformat": 4,
 "nbformat_minor": 2
}
