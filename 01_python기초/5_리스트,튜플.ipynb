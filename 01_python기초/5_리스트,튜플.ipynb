{
 "cells": [
  {
   "cell_type": "markdown",
   "metadata": {},
   "source": [
    "# 5. 리스트, 튜플\n",
    "- 리스트 : 순서 있음, 수정 가능, []로 작성, 추가/수정/삭제 가능\n",
    "  - 리스트명 = [요소1, 요소2, 요소3, ...]\n",
    "  - 순서 있음 >> 인덱싱,슬라이싱 가능\n",
    "  - 리스트1 + 리스트2 >> 리스트 합치기(덧셈x)"
   ]
  },
  {
   "cell_type": "code",
   "execution_count": null,
   "metadata": {},
   "outputs": [
    {
     "name": "stdout",
     "output_type": "stream",
     "text": [
      "2\n",
      "9\n",
      "17\n"
     ]
    }
   ],
   "source": [
    "# 리스트 인덱싱 : 리스트[인덱스]\n",
    "list1 = [2,5,7,9,10]\n",
    "print(list1[0])\n",
    "print(list1[3])\n",
    "print(list1[2]+list1[-1])"
   ]
  },
  {
   "cell_type": "code",
   "execution_count": null,
   "metadata": {},
   "outputs": [
    {
     "name": "stdout",
     "output_type": "stream",
     "text": [
      "['a', 'b', 'c']\n",
      "b\n",
      "b\n"
     ]
    }
   ],
   "source": [
    "list2 = [1,2,3,['a','b','c']] # 리스트를 요소로 가질 수 있음\n",
    "temp = list2[3]\n",
    "print(temp)\n",
    "print(temp[1])\n",
    "print(list2[3][1])"
   ]
  },
  {
   "cell_type": "code",
   "execution_count": null,
   "metadata": {},
   "outputs": [
    {
     "name": "stdout",
     "output_type": "stream",
     "text": [
      "[1, 2]\n",
      "[0, 1]\n",
      "[3, 4]\n",
      "[3]\n"
     ]
    }
   ],
   "source": [
    "# 리스트 슬라이싱 : 리스트[시작인덱스:끝인덱스] (시작 <= x < 끝)\n",
    "list3 = [0,1,2,3,4]\n",
    "print(list3[1:3])\n",
    "print(list3[:2])\n",
    "print(list3[3:])\n",
    "print(list3[3:4])"
   ]
  },
  {
   "cell_type": "code",
   "execution_count": null,
   "metadata": {},
   "outputs": [
    {
     "data": {
      "text/plain": [
       "[1, 2, 3, 3, 4, 5, 6]"
      ]
     },
     "metadata": {},
     "output_type": "display_data"
    }
   ],
   "source": [
    "# 리스트 더하기\n",
    "list4 = [1,2,3]\n",
    "list5 = [3,4,5,6]\n",
    "list4 + list5"
   ]
  },
  {
   "cell_type": "markdown",
   "metadata": {},
   "source": [
    "- 리스트 값 추가/삭제/수정\n",
    "  - 리스트.append(값) : 맨 뒤에 값 추가 (리스트는 자동 업데이트)\n",
    "  - 리스트.insert(인덱스, 값) : 인덱스 위치에 값 추가\n",
    "  - 리스트.remove(값) : 값 삭제\n",
    "  - 리스트.sort() : 오름차순으로 정렬 (또는 sorted(리스트))\n",
    "  - 리스트.reverse() : 역순으로 뒤집기\n",
    "  - 리스트.index(값) : 해당 값의 위치 출력\n",
    "  - 리스트.pop(인덱스) : 인덱스 위치의 값 출력 후 제거(인덱스 지정x->마지막값 출력 후 제거)\n",
    "  - 리스트.count(값) : 값의 개수 출력\n",
    "  \n",
    "  - del 리스트[인덱스] : 인덱스 위치의 값 삭제\n",
    "  - 리스트[인덱스] = 값 : 인덱스 위치의 값 수정\n",
    "  - 리스트[처음:끝] = [값1,...] : 인덱스 범위의 값 수정\n",
    "  - len(리스트) : 값의 개수 확인"
   ]
  },
  {
   "cell_type": "code",
   "execution_count": null,
   "metadata": {},
   "outputs": [
    {
     "name": "stdout",
     "output_type": "stream",
     "text": [
      "[0, 1, 2, 3, 4, 5]\n",
      "[0, 1, 2, 3, 4, 5, 6]\n"
     ]
    }
   ],
   "source": [
    "list5 = [0,1,2,3,4]\n",
    "list5.append(5)\n",
    "print(list5)\n",
    "\n",
    "list5.append(6)\n",
    "print(list5)"
   ]
  },
  {
   "cell_type": "code",
   "execution_count": null,
   "metadata": {},
   "outputs": [
    {
     "name": "stdout",
     "output_type": "stream",
     "text": [
      "['사과', '오렌지', '수박']\n"
     ]
    }
   ],
   "source": [
    "list_ = ['사과','포도',['수박','멜론'],'복숭아','딸기','오렌지']\n",
    "apple = list_[0]\n",
    "water_melon = list_[2][0]\n",
    "orange = list_[5]\n",
    "\n",
    "choice_list = [] # 또는 list() : 빈 리스트 생성\n",
    "choice_list.append(apple)\n",
    "choice_list.append(orange)\n",
    "choice_list.append(water_melon)\n",
    "print(choice_list)"
   ]
  },
  {
   "cell_type": "code",
   "execution_count": null,
   "metadata": {},
   "outputs": [
    {
     "name": "stdout",
     "output_type": "stream",
     "text": [
      "[0, 5, 1, 2, 3, 4]\n",
      "[0, 5, 1, 2, 3, 6, 4]\n"
     ]
    }
   ],
   "source": [
    "list5 = [0,1,2,3,4]\n",
    "list5.insert(1,5)\n",
    "print(list5)\n",
    "\n",
    "list5.insert(5,6)\n",
    "print(list5)"
   ]
  },
  {
   "cell_type": "code",
   "execution_count": null,
   "metadata": {},
   "outputs": [
    {
     "name": "stdout",
     "output_type": "stream",
     "text": [
      "[['Kitsch', '아이브'], ['심', 'DK(디셈버)'], ['Hype boy', '뉴진스'], ['파이팅 해야지', '부석순'], ['사건의 지평선', '윤하']]\n"
     ]
    }
   ],
   "source": [
    "music_list = [['Kitsch', '아이브'], ['Hype boy','뉴진스'], ['사건의 지평선','윤하']]\n",
    "music_list.insert(1,['심','DK(디셈버)'])\n",
    "music_list.insert(3,['파이팅 해야지','부석순'])\n",
    "print(music_list)"
   ]
  },
  {
   "cell_type": "code",
   "execution_count": null,
   "metadata": {},
   "outputs": [
    {
     "name": "stdout",
     "output_type": "stream",
     "text": [
      "인덱스 입력 >> 6\n",
      "노래 제목 >> NIGHT DANCER\n",
      "가수명 >> 모름\n",
      "[['Kitsch', '아이브'], ['심', 'DK(디셈버)'], ['Hype boy', '뉴진스'], ['파이팅 해야지', '부석순'], ['흩어지지않게', '엠씨더맥스'], ['사건의 지평선', '윤하'], ['NIGHT DANCER', '모름']]\n"
     ]
    }
   ],
   "source": [
    "index_value = int(input('인덱스 입력 >> '))\n",
    "song = input('노래 제목 >> ')\n",
    "singer = input('가수명 >> ')\n",
    "music_list.insert(index_value, [song, singer])\n",
    "print(music_list)"
   ]
  },
  {
   "cell_type": "code",
   "execution_count": null,
   "metadata": {},
   "outputs": [
    {
     "name": "stdout",
     "output_type": "stream",
     "text": [
      "수정 전 : 1\n",
      "수정 후 : 7\n",
      "[0, 7, 2, 3, 4]\n",
      "\n",
      " [2, 3]\n",
      "[0, 7, 7, 4]\n"
     ]
    }
   ],
   "source": [
    "# 리스트 값 수정\n",
    "list6 = [0,1,2,3,4]\n",
    "print('수정 전 :',list6[1])\n",
    "list6[1] = 7\n",
    "print('수정 후 :',list6[1])\n",
    "print(list6)\n",
    "\n",
    "print('\\n',list6[2:4])\n",
    "list6[2:4] = [7] # 범위를 잡아 수정 시, 리스트의 형태로 수정\n",
    "print(list6)"
   ]
  },
  {
   "cell_type": "code",
   "execution_count": null,
   "metadata": {},
   "outputs": [
    {
     "name": "stdout",
     "output_type": "stream",
     "text": [
      "[0, 2, 3, 4, 5]\n",
      "[0, 5]\n",
      "['a', 'c', 'd', 'e']\n"
     ]
    }
   ],
   "source": [
    "# 리스트 값 삭제\n",
    "list7 = [0,1,2,3,4,5]\n",
    "del list7[1]\n",
    "print(list7)\n",
    "\n",
    "list7 = [0,1,2,3,4,5]\n",
    "del list7[1:5]\n",
    "print(list7)\n",
    "\n",
    "list7 = ['a','b','c','d','e']\n",
    "list7.remove('b')\n",
    "print(list7)"
   ]
  },
  {
   "cell_type": "code",
   "execution_count": null,
   "metadata": {},
   "outputs": [
    {
     "name": "stdout",
     "output_type": "stream",
     "text": [
      "[9, 77, 13, 51, 100, 3]\n",
      "[3, 9, 13, 51, 77, 100]\n"
     ]
    }
   ],
   "source": [
    "# 오름차순 정렬\n",
    "list8 = [9,77,13,51,100,3]\n",
    "print(list8)\n",
    "list8.sort()\n",
    "print(list8)"
   ]
  },
  {
   "cell_type": "code",
   "execution_count": null,
   "metadata": {},
   "outputs": [
    {
     "name": "stdout",
     "output_type": "stream",
     "text": [
      "[9, 77, 13, 51, 100, 3]\n",
      "[3, 100, 51, 13, 77, 9]\n"
     ]
    }
   ],
   "source": [
    "# 순서 거꾸로 뒤집기\n",
    "list9 = [9,77,13,51,100,3]\n",
    "print(list9)\n",
    "list9.reverse()\n",
    "print(list9)"
   ]
  },
  {
   "cell_type": "code",
   "execution_count": null,
   "metadata": {},
   "outputs": [
    {
     "name": "stdout",
     "output_type": "stream",
     "text": [
      "[100, 77, 51, 13, 9, 3]\n",
      "[100, 77, 51, 13, 9, 3]\n"
     ]
    }
   ],
   "source": [
    "# 내림차순 정렬\n",
    "list10= [9,77,13,51,100,3]\n",
    "list10.sort()\n",
    "list10.reverse()\n",
    "print(list10)\n",
    "\n",
    "list10= [9,77,13,51,100,3]\n",
    "list10.sort(reverse=True)\n",
    "print(list10)"
   ]
  },
  {
   "cell_type": "code",
   "execution_count": null,
   "metadata": {},
   "outputs": [
    {
     "data": {
      "text/plain": [
       "2"
      ]
     },
     "metadata": {},
     "output_type": "display_data"
    }
   ],
   "source": [
    "# 값 위치 출력\n",
    "list11 = ['a','b','c','d','e','f']\n",
    "list11.index('c')"
   ]
  },
  {
   "cell_type": "code",
   "execution_count": null,
   "metadata": {},
   "outputs": [
    {
     "name": "stdout",
     "output_type": "stream",
     "text": [
      "f\n",
      "['a', 'b', 'c', 'd', 'e']\n",
      "b\n",
      "['a', 'c', 'd', 'e']\n"
     ]
    }
   ],
   "source": [
    "# 값 제거\n",
    "list12 = ['a','b','c','d','e','f']\n",
    "print(list12.pop())\n",
    "print(list12)\n",
    "\n",
    "print(list12.pop(1))\n",
    "print(list12)"
   ]
  },
  {
   "cell_type": "code",
   "execution_count": null,
   "metadata": {},
   "outputs": [
    {
     "data": {
      "text/plain": [
       "3"
      ]
     },
     "metadata": {},
     "output_type": "display_data"
    }
   ],
   "source": [
    "# 값의 개수 확인\n",
    "list13 = [0,1,2]\n",
    "len(list13)"
   ]
  },
  {
   "cell_type": "markdown",
   "metadata": {},
   "source": [
    "- 튜플 : 순서 있음, 추가/수정/삭제 불가능, ()로 작성, 리스트에 비해 동작속도 빠름\n",
    "  - 튜플명 = (요소1,요소2,요소3,...)\n",
    "  - 순서 있음 >> 인덱싱,슬라이싱 가능\n",
    "  - 숫자 하나가 저장된 튜플 생성 시 뒤에 컴마를 붙여야함 ( 1 또는 (1)은 정수로 인식 )"
   ]
  },
  {
   "cell_type": "code",
   "execution_count": null,
   "metadata": {},
   "outputs": [
    {
     "ename": "TypeError",
     "evalue": "'tuple' object does not support item assignment",
     "output_type": "error",
     "traceback": [
      "\u001b[1;31m---------------------------------------------------------------------------\u001b[0m\n",
      "\u001b[1;31mTypeError\u001b[0m                                 Traceback (most recent call last)\n",
      "Cell \u001b[1;32mIn[51], line 2\u001b[0m\n",
      "\u001b[0;32m      1\u001b[0m tuple1 \u001b[38;5;241m=\u001b[39m (\u001b[38;5;241m0\u001b[39m,\u001b[38;5;241m1\u001b[39m,\u001b[38;5;241m2\u001b[39m,\u001b[38;5;241m3\u001b[39m,(\u001b[38;5;124m'\u001b[39m\u001b[38;5;124ma\u001b[39m\u001b[38;5;124m'\u001b[39m,\u001b[38;5;124m'\u001b[39m\u001b[38;5;124mb\u001b[39m\u001b[38;5;124m'\u001b[39m,\u001b[38;5;124m'\u001b[39m\u001b[38;5;124mc\u001b[39m\u001b[38;5;124m'\u001b[39m),\u001b[38;5;241m5\u001b[39m)\n",
      "\u001b[1;32m----> 2\u001b[0m tuple1[\u001b[38;5;241m0\u001b[39m]\u001b[38;5;241m=\u001b[39m\u001b[38;5;241m3\u001b[39m\n",
      "\n",
      "\u001b[1;31mTypeError\u001b[0m: 'tuple' object does not support item assignment"
     ]
    }
   ],
   "source": [
    "tuple1 = (0,1,2,3,('a','b','c'),5)\n",
    "tuple1[0]=3"
   ]
  },
  {
   "cell_type": "markdown",
   "metadata": {},
   "source": [
    "- 조건문에서 사용되는 in, not in\n",
    "  - x in 문자열/리스트/튜플 : x가 포함되어 있으면 True, 아니면 False\n",
    "  - x not in 문자열/리스트/튜플 : 포함되지 않으면 Treu, 아니면 False"
   ]
  },
  {
   "cell_type": "code",
   "execution_count": null,
   "metadata": {},
   "outputs": [
    {
     "name": "stdout",
     "output_type": "stream",
     "text": [
      "True\n",
      "False\n",
      "False\n",
      "True\n"
     ]
    }
   ],
   "source": [
    "str1 = '파이썬 최고'\n",
    "print('파이썬' in str1)\n",
    "print('파이썬' not in str1)\n",
    "\n",
    "list1 = [77,38,10]\n",
    "print(33 in list1)\n",
    "print(33 not in list1)"
   ]
  },
  {
   "cell_type": "code",
   "execution_count": null,
   "metadata": {},
   "outputs": [
    {
     "name": "stdout",
     "output_type": "stream",
     "text": [
      "검색할 문자를 입력하세요 : M\n",
      "M는 2번 들어있네유!\n"
     ]
    }
   ],
   "source": [
    "s = 'Hi, My name is MinJee'\n",
    "a = input('검색할 문자를 입력하세요 : ')\n",
    "b = s.count(a)\n",
    "if a not in s:\n",
    "    print(f'{a}는 들어있지 않네유...')\n",
    "else:\n",
    "    print(f'{a}는 {b}번 들어있네유!')"
   ]
  }
 ],
 "metadata": {
  "language_info": {
   "name": "python"
  },
  "orig_nbformat": 4
 },
 "nbformat": 4,
 "nbformat_minor": 2
}
